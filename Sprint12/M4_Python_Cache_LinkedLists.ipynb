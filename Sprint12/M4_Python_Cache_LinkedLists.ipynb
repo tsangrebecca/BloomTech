{
  "nbformat": 4,
  "nbformat_minor": 0,
  "metadata": {
    "colab": {
      "provenance": [],
      "authorship_tag": "ABX9TyORG9WFWIiK7mMqsQXdo7qe",
      "include_colab_link": true
    },
    "kernelspec": {
      "name": "python3",
      "display_name": "Python 3"
    },
    "language_info": {
      "name": "python"
    }
  },
  "cells": [
    {
      "cell_type": "markdown",
      "metadata": {
        "id": "view-in-github",
        "colab_type": "text"
      },
      "source": [
        "<a href=\"https://colab.research.google.com/github/tsangrebecca/BloomTech/blob/main/Sprint12/M4_Python_Cache_LinkedLists.ipynb\" target=\"_parent\"><img src=\"https://colab.research.google.com/assets/colab-badge.svg\" alt=\"Open In Colab\"/></a>"
      ]
    },
    {
      "cell_type": "markdown",
      "source": [
        "#Cache"
      ],
      "metadata": {
        "id": "t0qG4N5Ma9Ym"
      }
    },
    {
      "cell_type": "code",
      "source": [
        "# Let's say there's a function of num\n",
        "def solution(nums):\n",
        "  results = []\n",
        "  cache = {} # start a dictionary to store values\n",
        "  for num in nums:\n",
        "    if num in cache:\n",
        "      result = cache[num] # get the value from cache using key \"num\"\n",
        "    else:\n",
        "      result = f(num) # calculate a new value from num\n",
        "      cache[num] = result # store it in the cache\n",
        "    results.append(result)\n",
        "  return results"
      ],
      "metadata": {
        "id": "qshQsGcubLRZ"
      },
      "execution_count": 1,
      "outputs": []
    },
    {
      "cell_type": "markdown",
      "source": [
        "# Quick recap on Classes and Objects"
      ],
      "metadata": {
        "id": "INrHNGITb2I4"
      }
    },
    {
      "cell_type": "code",
      "source": [
        "class Animal:\n",
        "  # a construction\n",
        "  def __init__(self, x):\n",
        "    self.leg_count = x\n",
        "\n",
        "  # Instantiate an object within that class and pass a value to the parameter\n",
        "  c = Animal(4)\n",
        "  d = Animal(8)\n",
        "\n",
        "  # If we print(c), we'll only print the object number of object c.\n",
        "  # Print a constructor e.g. c = Animal(4), we need a repr(esentative) function\n",
        "  def __repr__(self):\n",
        "    return f\"Animal({repr(self.leg_count)})\"\n",
        "\n",
        "  # If we want more freeform, more readable, we can use def stir:\n",
        "  def __str__(self):\n",
        "    return f\"An animal with {self.leg_count} legs\""
      ],
      "metadata": {
        "id": "BclfL8arb_jA"
      },
      "execution_count": null,
      "outputs": []
    },
    {
      "cell_type": "markdown",
      "source": [
        "#Linked List Classes and Objects"
      ],
      "metadata": {
        "id": "UZ_rjvcecUgN"
      }
    },
    {
      "cell_type": "code",
      "source": [
        "class ListNode:\n",
        "  def __init__(self, v):\n",
        "    self.value = v\n",
        "    self.next = None\n",
        "\n",
        "  def __str_(self):\n",
        "    return f\"ListNode {repr(self.value)} -> {str(self.next)}\"\n",
        "\n",
        "a = ListNode(1)\n",
        "b = ListNode(2)\n",
        "c = ListNode(3)\n",
        "\n",
        "a.next = b\n",
        "b.next = c\n",
        "\n",
        "print(a)"
      ],
      "metadata": {
        "id": "nPEgAoFvdOHR"
      },
      "execution_count": null,
      "outputs": []
    },
    {
      "cell_type": "markdown",
      "source": [
        "It should print ListNode 1 -> ListNode 2 -> ListNode 3 -> None"
      ],
      "metadata": {
        "id": "l9xT_XSBfeFv"
      }
    },
    {
      "cell_type": "markdown",
      "source": [
        "#Linked List Algorithm Problems\n",
        "Given 3 values, return a new linked list containing those values. You have to wrap the values into ListNode() objects, e.g. new_node = ListNode(n)"
      ],
      "metadata": {
        "id": "16zAyNr8fpNs"
      }
    },
    {
      "cell_type": "code",
      "source": [
        "# HARD CODE to fit only 3 values\n",
        "# Singly-linked lists are already defined with this interface:\n",
        "# class ListNode(object):\n",
        "#   def __init__(self):\n",
        "#     self.value = x\n",
        "#     self.next = None\n",
        "# This is included in the solution but just hidden from view\n",
        "#\n",
        "def solution(a, b, c):  # in the question a == 1, b == 2, c == 3\n",
        "  # Make new list nodes for a, b and c\n",
        "  a_node = ListNode(a)\n",
        "  print(a_node.value) # should be equal to 1\n",
        "  b_node = ListNode(b)\n",
        "  c_node = ListNode(c)\n",
        "\n",
        "  # Hook up the next pointers for a and b\n",
        "  a_node.next = b_node\n",
        "  b_node.next = c_node\n",
        "\n",
        "  # Return a reference to head node aka the a node\n",
        "  return a_node"
      ],
      "metadata": {
        "id": "Y0lSSLl7gzBW"
      },
      "execution_count": 13,
      "outputs": []
    },
    {
      "cell_type": "markdown",
      "source": [
        "Make it more generic, not just for 3 nodes"
      ],
      "metadata": {
        "id": "-GpXN2dMkzyY"
      }
    },
    {
      "cell_type": "code",
      "source": [
        "def solution(a, b, c):\n",
        "  nums = [a, b, c]\n",
        "\n",
        "  head = tail = None\n",
        "\n",
        "  for n in nums:\n",
        "    new_node = ListNode(n)\n",
        "\n",
        "    if head is None:\n",
        "      # If linked list is empty, we add the first node\n",
        "      head = tail = new_node\n",
        "\n",
        "    else:\n",
        "      # The list isn't empty and it's not the first node\n",
        "      # We know that head and tail point to some nodes\n",
        "\n",
        "      # Wire in the new node after tail\n",
        "      tail.next = new_node\n",
        "      tail = new_node # It'll move from node 1 to node 2\n",
        "\n",
        "    return head\n",
        "    # print(new_node.value)"
      ],
      "metadata": {
        "id": "QM91qAjDk4jm"
      },
      "execution_count": 14,
      "outputs": []
    },
    {
      "cell_type": "markdown",
      "source": [
        "Return the length of the linked list, aka number of nodes in the list:"
      ],
      "metadata": {
        "id": "6GQztzKRWveK"
      }
    },
    {
      "cell_type": "code",
      "source": [
        "# Singly-linked lists are already defined with this interface:\n",
        "# class ListNode(object):\n",
        "#   def __init__(self):\n",
        "#     self.value = x\n",
        "#     self.next = None\n",
        "# This is included in the solution but just hidden from view\n",
        "\n",
        "# (1)->(2)->(3)->None\n",
        "# We traverse the list and count the nodes\n",
        "# we don't know how long we need to loop for so we can't use for loop, we need a while loop, stop when we hit None\n",
        "def solution(head):\n",
        "  total = 0   # count the node\n",
        "  current_node = head\n",
        "  while current_node is not None:\n",
        "    total += 1\n",
        "    current_node = current_node.next  # keep updating current node with the next one\n",
        "  return total"
      ],
      "metadata": {
        "id": "1pfNRYrgW4Ze"
      },
      "execution_count": 5,
      "outputs": []
    },
    {
      "cell_type": "markdown",
      "source": [
        "Insert a new value at the head of a linked list:\n",
        "- n == 99\n",
        "- a == 1 -> 2 -> 3\n",
        "- output: 99 -> 1 -> 2 -> 3"
      ],
      "metadata": {
        "id": "EPbpany7Ylju"
      }
    },
    {
      "cell_type": "code",
      "source": [
        "# Singly-linked lists are already defined with this interface:\n",
        "# class ListNode(object):\n",
        "#   def __init__(self):\n",
        "#     self.value = x\n",
        "#     self.next = None\n",
        "# This is included in the solution but just hidden from view\n",
        "\n",
        "# This is constant time operation O(1), no shifting around, different from Python list insert where it's O(n) because we have to go through the entire list\n",
        "# a is the head, not the whole linked list\n",
        "# we just need to point the new node to the head\n",
        "def solution(n, a):\n",
        "  new_node = ListNode(n)\n",
        "  new_node.next = a\n",
        "  return new_node"
      ],
      "metadata": {
        "id": "Gx3eBF6cY4rF"
      },
      "execution_count": 9,
      "outputs": []
    },
    {
      "cell_type": "markdown",
      "source": [
        "Given a list and a value, append the value to the END of the list.\n",
        "- a == 1 -> 2 -> 3\n",
        "- n == 99\n",
        "- output: 1 -> 2 -> 3 -> 99"
      ],
      "metadata": {
        "id": "_l2wWgxsZ4gG"
      }
    },
    {
      "cell_type": "code",
      "source": [
        "# Singly-linked lists are already defined with this interface:\n",
        "# class ListNode(object):\n",
        "#   def __init__(self):\n",
        "#     self.value = x\n",
        "#     self.next = None\n",
        "# This is included in the solution but just hidden from view\n",
        "\n",
        "# (1)->(2)->(3)->None\n",
        "# (99)->None\n",
        "# We need to traverse the linked list to the end then add the new value. Time complexity is O(n)\n",
        "# versus Python Array list Append to end of list is constant time operation O(1) !!!\n",
        "def solution(a, n):\n",
        "\n",
        "  # make a new node\n",
        "  new_node = ListNode(n)\n",
        "\n",
        "  # dealing with edge case when the list is empty\n",
        "  if a is None:\n",
        "    return new_node\n",
        "\n",
        "  # define the current node\n",
        "  current_node = a\n",
        "\n",
        "  # While going down the nodes without hitting the end yet\n",
        "  while current_node.next is not None:\n",
        "    current_node = current_node.next  # keep moving down the nodes\n",
        "\n",
        "  # After while loop is finished\n",
        "  current_node.next = new_node\n",
        "\n",
        "  return a"
      ],
      "metadata": {
        "id": "tapKgNtfatHv"
      },
      "execution_count": 14,
      "outputs": []
    }
  ]
}