{
  "cells": [
    {
      "cell_type": "markdown",
      "metadata": {
        "id": "view-in-github",
        "colab_type": "text"
      },
      "source": [
        "<a href=\"https://colab.research.google.com/github/tsangrebecca/BloomTech/blob/main/Sprint12/M4_Python_Cache_LinkedLists_Stack_Queue.ipynb\" target=\"_parent\"><img src=\"https://colab.research.google.com/assets/colab-badge.svg\" alt=\"Open In Colab\"/></a>"
      ]
    },
    {
      "cell_type": "markdown",
      "metadata": {
        "id": "t0qG4N5Ma9Ym"
      },
      "source": [
        "#Cache"
      ]
    },
    {
      "cell_type": "code",
      "execution_count": null,
      "metadata": {
        "id": "qshQsGcubLRZ"
      },
      "outputs": [],
      "source": [
        "# Let's say there's a function of num\n",
        "def solution(nums):\n",
        "  results = []\n",
        "  cache = {} # start a dictionary to store values\n",
        "  for num in nums:\n",
        "    if num in cache:\n",
        "      result = cache[num] # get the value from cache using key \"num\"\n",
        "    else:\n",
        "      result = f(num) # calculate a new value from num\n",
        "      cache[num] = result # store it in the cache\n",
        "    results.append(result)\n",
        "  return results"
      ]
    },
    {
      "cell_type": "markdown",
      "metadata": {
        "id": "INrHNGITb2I4"
      },
      "source": [
        "# Quick recap on Classes and Objects"
      ]
    },
    {
      "cell_type": "code",
      "execution_count": null,
      "metadata": {
        "id": "BclfL8arb_jA"
      },
      "outputs": [],
      "source": [
        "class Animal:\n",
        "  # a construction\n",
        "  def __init__(self, x):\n",
        "    self.leg_count = x\n",
        "\n",
        "  # Instantiate an object within that class and pass a value to the parameter\n",
        "  c = Animal(4)\n",
        "  d = Animal(8)\n",
        "\n",
        "  # If we print(c), we'll only print the object number of object c.\n",
        "  # Print a constructor e.g. c = Animal(4), we need a repr(esentative) function\n",
        "  def __repr__(self):\n",
        "    return f\"Animal({repr(self.leg_count)})\"\n",
        "\n",
        "  # If we want more freeform, more readable, we can use def stir:\n",
        "  def __str__(self):\n",
        "    return f\"An animal with {self.leg_count} legs\""
      ]
    },
    {
      "cell_type": "markdown",
      "metadata": {
        "id": "UZ_rjvcecUgN"
      },
      "source": [
        "#Linked List Classes and Objects"
      ]
    },
    {
      "cell_type": "code",
      "execution_count": null,
      "metadata": {
        "id": "nPEgAoFvdOHR"
      },
      "outputs": [],
      "source": [
        "class ListNode:\n",
        "  def __init__(self, v):\n",
        "    self.value = v\n",
        "    self.next = None\n",
        "\n",
        "  def __str_(self):\n",
        "    return f\"ListNode {repr(self.value)} -> {str(self.next)}\"\n",
        "\n",
        "a = ListNode(1)\n",
        "b = ListNode(2)\n",
        "c = ListNode(3)\n",
        "\n",
        "a.next = b\n",
        "b.next = c\n",
        "\n",
        "print(a)"
      ]
    },
    {
      "cell_type": "markdown",
      "metadata": {
        "id": "l9xT_XSBfeFv"
      },
      "source": [
        "It should print ListNode 1 -> ListNode 2 -> ListNode 3 -> None"
      ]
    },
    {
      "cell_type": "markdown",
      "metadata": {
        "id": "16zAyNr8fpNs"
      },
      "source": [
        "#Linked List Algorithm Problems\n",
        "Given 3 values, return a new linked list containing those values. You have to wrap the values into ListNode() objects, e.g. new_node = ListNode(n)"
      ]
    },
    {
      "cell_type": "code",
      "execution_count": null,
      "metadata": {
        "id": "Y0lSSLl7gzBW"
      },
      "outputs": [],
      "source": [
        "# HARD CODE to fit only 3 values\n",
        "# Singly-linked lists are already defined with this interface:\n",
        "# class ListNode(object):\n",
        "#   def __init__(self):\n",
        "#     self.value = x\n",
        "#     self.next = None\n",
        "# This is included in the solution but just hidden from view\n",
        "#\n",
        "def solution(a, b, c):  # in the question a == 1, b == 2, c == 3\n",
        "  # Make new list nodes for a, b and c\n",
        "  a_node = ListNode(a)\n",
        "  print(a_node.value) # should be equal to 1\n",
        "  b_node = ListNode(b)\n",
        "  c_node = ListNode(c)\n",
        "\n",
        "  # Hook up the next pointers for a and b\n",
        "  a_node.next = b_node\n",
        "  b_node.next = c_node\n",
        "\n",
        "  # Return a reference to head node aka the a node\n",
        "  return a_node"
      ]
    },
    {
      "cell_type": "markdown",
      "metadata": {
        "id": "-GpXN2dMkzyY"
      },
      "source": [
        "Make it more generic, not just for 3 nodes"
      ]
    },
    {
      "cell_type": "code",
      "execution_count": null,
      "metadata": {
        "id": "QM91qAjDk4jm"
      },
      "outputs": [],
      "source": [
        "def solution(a, b, c):\n",
        "  nums = [a, b, c]\n",
        "\n",
        "  head = tail = None\n",
        "\n",
        "  for n in nums:\n",
        "    new_node = ListNode(n)\n",
        "\n",
        "    if head is None:\n",
        "      # If linked list is empty, we add the first node\n",
        "      head = tail = new_node\n",
        "\n",
        "    else:\n",
        "      # The list isn't empty and it's not the first node\n",
        "      # We know that head and tail point to some nodes\n",
        "\n",
        "      # Wire in the new node after tail\n",
        "      tail.next = new_node\n",
        "      tail = new_node # It'll move from node 1 to node 2\n",
        "\n",
        "    return head\n",
        "    # print(new_node.value)"
      ]
    },
    {
      "cell_type": "markdown",
      "metadata": {
        "id": "6GQztzKRWveK"
      },
      "source": [
        "Return the length of the linked list, aka number of nodes in the list:"
      ]
    },
    {
      "cell_type": "code",
      "execution_count": null,
      "metadata": {
        "id": "1pfNRYrgW4Ze"
      },
      "outputs": [],
      "source": [
        "# Singly-linked lists are already defined with this interface:\n",
        "# class ListNode(object):\n",
        "#   def __init__(self):\n",
        "#     self.value = x\n",
        "#     self.next = None\n",
        "# This is included in the solution but just hidden from view\n",
        "\n",
        "# (1)->(2)->(3)->None\n",
        "# We traverse the list and count the nodes\n",
        "# we don't know how long we need to loop for so we can't use for loop, we need a while loop, stop when we hit None\n",
        "def solution(head):\n",
        "  total = 0   # count the node\n",
        "  current_node = head\n",
        "  while current_node is not None:\n",
        "    total += 1\n",
        "    current_node = current_node.next  # keep updating current node with the next one\n",
        "  return total"
      ]
    },
    {
      "cell_type": "markdown",
      "metadata": {
        "id": "EPbpany7Ylju"
      },
      "source": [
        "Insert a new value at the head of a linked list:\n",
        "- n == 99\n",
        "- a == 1 -> 2 -> 3\n",
        "- output: 99 -> 1 -> 2 -> 3"
      ]
    },
    {
      "cell_type": "code",
      "execution_count": null,
      "metadata": {
        "id": "Gx3eBF6cY4rF"
      },
      "outputs": [],
      "source": [
        "# Singly-linked lists are already defined with this interface:\n",
        "# class ListNode(object):\n",
        "#   def __init__(self):\n",
        "#     self.value = x\n",
        "#     self.next = None\n",
        "# This is included in the solution but just hidden from view\n",
        "\n",
        "# This is constant time operation O(1), no shifting around, different from Python list insert where it's O(n) because we have to go through the entire list\n",
        "# a is the head, not the whole linked list\n",
        "# we just need to point the new node to the head\n",
        "def solution(n, a):\n",
        "  new_node = ListNode(n)\n",
        "  new_node.next = a\n",
        "  return new_node"
      ]
    },
    {
      "cell_type": "markdown",
      "metadata": {
        "id": "_l2wWgxsZ4gG"
      },
      "source": [
        "Given a list and a value, append the value to the END of the list.\n",
        "- a == 1 -> 2 -> 3\n",
        "- n == 99\n",
        "- output: 1 -> 2 -> 3 -> 99"
      ]
    },
    {
      "cell_type": "code",
      "execution_count": null,
      "metadata": {
        "id": "tapKgNtfatHv"
      },
      "outputs": [],
      "source": [
        "# Singly-linked lists are already defined with this interface:\n",
        "# class ListNode(object):\n",
        "#   def __init__(self):\n",
        "#     self.value = x\n",
        "#     self.next = None\n",
        "# This is included in the solution but just hidden from view\n",
        "\n",
        "# (1)->(2)->(3)->None\n",
        "# (99)->None\n",
        "# We need to traverse the linked list to the end then add the new value. Time complexity is O(n)\n",
        "# versus Python Array list Append to end of list is constant time operation O(1) !!!\n",
        "def solution(a, n):\n",
        "\n",
        "  # make a new node\n",
        "  new_node = ListNode(n)\n",
        "\n",
        "  # dealing with edge case when the list is empty\n",
        "  if a is None:\n",
        "    return new_node\n",
        "\n",
        "  # define the current node\n",
        "  current_node = a\n",
        "\n",
        "  # While going down the nodes without hitting the end yet\n",
        "  while current_node.next is not None:\n",
        "    current_node = current_node.next  # keep moving down the nodes\n",
        "\n",
        "  # After while loop is finished\n",
        "  current_node.next = new_node\n",
        "\n",
        "  return a"
      ]
    },
    {
      "cell_type": "markdown",
      "metadata": {
        "id": "d21g7FMDN1Vf"
      },
      "source": [
        "#Functions for Linked Lists"
      ]
    },
    {
      "cell_type": "code",
      "execution_count": null,
      "metadata": {
        "colab": {
          "background_save": true
        },
        "id": "pzdvUNLEN5-c"
      },
      "outputs": [],
      "source": [
        "class ListNode:\n",
        "  def __init__(self, value):\n",
        "    self.value = value\n",
        "    self.next = None\n",
        "\n",
        "# functions to add or delete data from linked list\n",
        "class LinkedList:\n",
        "  def __init__(self):\n",
        "    self.head = None\n",
        "    self.tail = None\n",
        "\n",
        "  def add_front(self, value):\n",
        "    new_node = ListNode(value) # instantiate the new node\n",
        "    # edge case if there's no node to begin with\n",
        "    if self.head is None:\n",
        "      self.head = new_node\n",
        "      self.tail = new_node\n",
        "    else:\n",
        "      new_node.next = self.head # add the new node in front of head\n",
        "      self.head = new_node # update the new head\n",
        "\n",
        "  # same concept as add_front\n",
        "  def add_back(self, value):\n",
        "    new_node = ListNode(value)\n",
        "    # edge case if there's no node to begin with\n",
        "    if self.tail is None:\n",
        "      self.tail = new_node\n",
        "      self.head = new_node\n",
        "    self.tail.next = new_node\n",
        "    self.tail = new_node\n",
        "\n",
        "  # Delete front\n",
        "  def delete_front(self):\n",
        "    val = self.head.value\n",
        "    self.head = self.head.next\n",
        "    return val\n",
        "\n",
        "  # Traverses the list\n",
        "  def print_list(self):\n",
        "    current_node = self.head\n",
        "    while current_node is not None:\n",
        "      print(str(current_node.value), end = '')\n",
        "      if current_node.next is not None:\n",
        "        print(' -> ', end = '')\n",
        "      current_node = current_node.next\n",
        "    print()\n",
        "\n",
        "# For other users to use, just create the object list and call the methods\n",
        "ll = LinkedList()\n",
        "ll.add_front(1)\n",
        "ll.add_front(2)\n",
        "ll.add_front(3)\n",
        "ll.add_back(1)\n",
        "ll.print_list()"
      ]
    },
    {
      "cell_type": "markdown",
      "source": [
        "                     Linked List vs. Array List\n",
        "- insert at head: O(1) / O(n)\n",
        "- delete at head: O(1) / O(n)\n",
        "- insert at tail:  O(n) or O(1) if there's a tail node /  O(1)\n",
        "- delete at tail:  O(n) always because we don't have a pointer for 2nd to last node, only pointer to last node / O(1)\n",
        "- index lookup:   O(n) / O(1)"
      ],
      "metadata": {
        "id": "ZDgwWE-KAWct"
      }
    },
    {
      "cell_type": "markdown",
      "source": [
        "#Stack\n",
        "- favors array list (likes tail)"
      ],
      "metadata": {
        "id": "uDW-2s5LG_C0"
      }
    },
    {
      "cell_type": "code",
      "source": [
        "# LIFO - Last In First Out, imagine stack of pancakes\n",
        "# If we assume the top of the stack is the end of the list and bottom is the head of the list,\n",
        "#   aka easy access at the tail, then array list outperforms the linked list in a stack\n",
        "\n",
        "# Example using array list\n",
        "class Stack:\n",
        "  def __init__(self):\n",
        "    self.data = []\n",
        "\n",
        "  # add data\n",
        "  def push(self, value):\n",
        "    self.data.append(value)\n",
        "\n",
        "  # delete data\n",
        "  def pop(self):\n",
        "    self.data.pop()\n",
        "\n",
        "s = Stack()\n",
        "s.push(1)\n",
        "s.push(2)\n",
        "s.push(3)\n",
        "print(s.data)\n",
        "s.pop()\n",
        "print(s.data)\n"
      ],
      "metadata": {
        "colab": {
          "base_uri": "https://localhost:8080/"
        },
        "id": "wVr8FHDlCFmK",
        "outputId": "656ed4e0-f36c-4dc7-958b-c36a40da61c7"
      },
      "execution_count": 3,
      "outputs": [
        {
          "output_type": "stream",
          "name": "stdout",
          "text": [
            "[1, 2, 3]\n",
            "[1, 2]\n"
          ]
        }
      ]
    },
    {
      "cell_type": "markdown",
      "source": [
        "#Queue\n",
        "- favors linked list (likes head)"
      ],
      "metadata": {
        "id": "uoW9L36_GfL7"
      }
    },
    {
      "cell_type": "code",
      "source": [
        "# First In First Out\n",
        "# We need to insert at tail and delete at head a lot, moving the queue along\n",
        "# both are O(1) (with a tail pointer) for Linked List\n",
        "\n",
        "# If we reverse the queue, insert at head and delete at tail, neither data structure\n",
        "#   is more efficient than another, so this is not preferred.\n",
        "\n",
        "# Use a Linked List, it's more performant with both O(1)\n",
        "class Queue:\n",
        "  def __init__(self):\n",
        "    self.data = LinkedList()\n",
        "\n",
        "  # stand in the back of the line\n",
        "  def enqueue(self, value):\n",
        "    self.data.add_back(value)\n",
        "\n",
        "  # remove from the front of the line\n",
        "  def dequeue(self):\n",
        "    self.data.delete_front()\n",
        "\n",
        "q = Queue()\n",
        "q.enqueue(1)\n",
        "q.enqueue(2)\n",
        "q.enqueue(3)\n",
        "q.data.print_list() # 1 -> 2 -> 3\n",
        "q.dequeue()\n",
        "q.data.print_list() # 2 -> 3\n",
        "q.dequeue()\n",
        "q.dadta.print_list() # 3\n"
      ],
      "metadata": {
        "id": "71cMrBToGhnI"
      },
      "execution_count": null,
      "outputs": []
    },
    {
      "cell_type": "code",
      "source": [],
      "metadata": {
        "id": "eTzleBEMJTGW"
      },
      "execution_count": null,
      "outputs": []
    }
  ],
  "metadata": {
    "colab": {
      "provenance": [],
      "authorship_tag": "ABX9TyOrzZEITb7nvQ4JQLA0Tfjl",
      "include_colab_link": true
    },
    "kernelspec": {
      "display_name": "Python 3",
      "name": "python3"
    },
    "language_info": {
      "name": "python"
    }
  },
  "nbformat": 4,
  "nbformat_minor": 0
}