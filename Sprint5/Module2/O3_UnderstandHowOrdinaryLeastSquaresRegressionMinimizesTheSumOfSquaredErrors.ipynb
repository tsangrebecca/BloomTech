{
  "nbformat": 4,
  "nbformat_minor": 0,
  "metadata": {
    "colab": {
      "provenance": [],
      "authorship_tag": "ABX9TyN3NAeJ1Q7BwDoq1TF0SakJ",
      "include_colab_link": true
    },
    "kernelspec": {
      "name": "python3",
      "display_name": "Python 3"
    },
    "language_info": {
      "name": "python"
    }
  },
  "cells": [
    {
      "cell_type": "markdown",
      "metadata": {
        "id": "view-in-github",
        "colab_type": "text"
      },
      "source": [
        "<a href=\"https://colab.research.google.com/github/tsangrebecca/BloomTech/blob/main/Sprint5/Module2/O3_UnderstandHowOrdinaryLeastSquaresRegressionMinimizesTheSumOfSquaredErrors.ipynb\" target=\"_parent\"><img src=\"https://colab.research.google.com/assets/colab-badge.svg\" alt=\"Open In Colab\"/></a>"
      ]
    },
    {
      "cell_type": "markdown",
      "source": [
        "Use math to find the slope and coefficient instead of the scikitlearn model:"
      ],
      "metadata": {
        "id": "oLmh0mGu08Yv"
      }
    },
    {
      "cell_type": "code",
      "execution_count": 1,
      "metadata": {
        "id": "QcK5jCb2yv9B"
      },
      "outputs": [],
      "source": [
        "# Import numpy\n",
        "import numpy as np\n",
        "\n",
        "# Generate the sample data\n",
        "x = np.arange(25)\n",
        "delta = np.random.uniform(0,20, size=(25,))\n",
        "y = 0.4 * x + 3 + delta"
      ]
    },
    {
      "cell_type": "code",
      "source": [
        "# Define a function to calculate alpha and beta\n",
        "\n",
        "def least_squares_params(x, y):\n",
        "    '''\n",
        "    x and y: data to be fit\n",
        "    returns: the least-square values of alpha and beta\n",
        "    '''\n",
        "    # Calculate the mean of X and y\n",
        "    xmean = np.mean(x); ymean = np.mean(y)\n",
        "\n",
        "    # Calculate the covariance for x and y, variance for x using their means\n",
        "    xycov = (x-xmean)*(y-ymean)\n",
        "    xvar = (x-xmean)**2\n",
        "\n",
        "    # Calculate the coefficients\n",
        "    beta_1 = sum(xycov) / sum(xvar)\n",
        "    beta_0 = ymean - (beta_1*xmean)\n",
        "\n",
        "    print('beta_0: ', beta_0)\n",
        "    print('beta_1: ', beta_1)"
      ],
      "metadata": {
        "id": "cqaiN4rbzldd"
      },
      "execution_count": 2,
      "outputs": []
    },
    {
      "cell_type": "code",
      "source": [
        "# Find the estimated parameters for alpha, beta\n",
        "# given our (x, y) data set\n",
        "least_squares_params(x,y)"
      ],
      "metadata": {
        "colab": {
          "base_uri": "https://localhost:8080/"
        },
        "id": "I30pV85Zz-PQ",
        "outputId": "11e4e7e0-898b-4264-c708-632ce78d757a"
      },
      "execution_count": 3,
      "outputs": [
        {
          "output_type": "stream",
          "name": "stdout",
          "text": [
            "beta_0:  14.387464270818466\n",
            "beta_1:  0.33591793227991434\n"
          ]
        }
      ]
    },
    {
      "cell_type": "code",
      "source": [],
      "metadata": {
        "id": "u8NcnfLE0wSL"
      },
      "execution_count": null,
      "outputs": []
    },
    {
      "cell_type": "markdown",
      "source": [
        "Use the Scikitlearn model:"
      ],
      "metadata": {
        "id": "3YwJq06k1CoH"
      }
    },
    {
      "cell_type": "code",
      "source": [
        "# Import the estimator class\n",
        "from sklearn.linear_model import LinearRegression\n",
        "\n",
        "# Instantiate the class (with default parameters)\n",
        "model = LinearRegression()\n",
        "\n",
        "X = x[:, np.newaxis]\n",
        "\n",
        "# Fit the model\n",
        "model.fit(X, y)\n",
        "\n",
        "# Intercept\n",
        "print('beta_0: ', model.intercept_)\n",
        "\n",
        "# Slope (also called the model coefficient)\n",
        "print('beta_1: ', model.coef_)"
      ],
      "metadata": {
        "colab": {
          "base_uri": "https://localhost:8080/"
        },
        "id": "JWx9X62X1Emq",
        "outputId": "29fa3063-fcd2-4f1c-8e42-9ced447957e7"
      },
      "execution_count": 4,
      "outputs": [
        {
          "output_type": "stream",
          "name": "stdout",
          "text": [
            "beta_0:  14.387464270818466\n",
            "beta_1:  [0.33591793]\n"
          ]
        }
      ]
    }
  ]
}