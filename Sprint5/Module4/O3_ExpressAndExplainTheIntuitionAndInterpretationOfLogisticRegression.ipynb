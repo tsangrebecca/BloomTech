{
  "nbformat": 4,
  "nbformat_minor": 0,
  "metadata": {
    "colab": {
      "provenance": [],
      "authorship_tag": "ABX9TyOQkmKzW/bOVd92G3MBF6nn",
      "include_colab_link": true
    },
    "kernelspec": {
      "name": "python3",
      "display_name": "Python 3"
    },
    "language_info": {
      "name": "python"
    }
  },
  "cells": [
    {
      "cell_type": "markdown",
      "metadata": {
        "id": "view-in-github",
        "colab_type": "text"
      },
      "source": [
        "<a href=\"https://colab.research.google.com/github/tsangrebecca/BloomTech/blob/main/Sprint5/Module4/O3_ExpressAndExplainTheIntuitionAndInterpretationOfLogisticRegression.ipynb\" target=\"_parent\"><img src=\"https://colab.research.google.com/assets/colab-badge.svg\" alt=\"Open In Colab\"/></a>"
      ]
    },
    {
      "cell_type": "markdown",
      "source": [
        "A logistic regression classifier is based on the sigmoid function which is an s-shaped curve. The equation for the sigmoid is given by:\n",
        "\n",
        "\\sigma(x) = \\frac{1}{1+exp(-x)}"
      ],
      "metadata": {
        "id": "4OoMMR1ehlGb"
      }
    },
    {
      "cell_type": "code",
      "source": [
        "# The logistic sigmoid function (implemented to accept numpy arrays)\n",
        "import numpy as np\n",
        "# Imports for plotting\n",
        "import matplotlib.pyplot as plt\n",
        "# Import seaborn and load the data\n",
        "import seaborn as sns\n",
        "\n",
        "def sigmoid(x):\n",
        "    return 1 / (1 + np.e**(-x))"
      ],
      "metadata": {
        "id": "4HtiFCVyiByX"
      },
      "execution_count": 6,
      "outputs": []
    },
    {
      "cell_type": "markdown",
      "source": [
        "![image.png](data:image/png;base64,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)"
      ],
      "metadata": {
        "id": "rfren-FIjCeB"
      }
    },
    {
      "cell_type": "code",
      "source": [
        "# Plot the function\n",
        "\n",
        "x_plot = np.linspace(-10, 10, 100)\n",
        "sig_y = sigmoid(x_plot)\n",
        "\n",
        "# Plot the function generated above\n",
        "plt.plot(x_plot, sig_y)\n",
        "plt.xlabel('x'); plt.ylabel('$\\sigma(x)$')\n",
        "plt.title('Sigmoid function')\n",
        "\n",
        "plt.show()"
      ],
      "metadata": {
        "colab": {
          "base_uri": "https://localhost:8080/",
          "height": 472
        },
        "id": "OFW2UBmNiF0z",
        "outputId": "3dca1fc9-dd4f-45e2-cb6b-3daee170ac18"
      },
      "execution_count": 5,
      "outputs": [
        {
          "output_type": "display_data",
          "data": {
            "text/plain": [
              "<Figure size 640x480 with 1 Axes>"
            ],
            "image/png": "[encoded data removed]"
          },
          "metadata": {}
        }
      ]
    },
    {
      "cell_type": "markdown",
      "source": [
        "When we are fitting a model, we would like to find the coefficients that best fit the data. Including these coefficients results in an equation of this form:"
      ],
      "metadata": {
        "id": "-qDeUfOqinpy"
      }
    },
    {
      "cell_type": "markdown",
      "source": [
        "![image.png](data:image/png;base64,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)"
      ],
      "metadata": {
        "id": "iBf9BMTTjLWB"
      }
    },
    {
      "cell_type": "markdown",
      "source": [
        "where P(y_i=1) is the probability of observation i being in class 1. The coefficients \\beta_0 and \\beta_1 determine the shape of the function and are what we are trying to fit when we model our data. When we know the coefficients, we can make a prediction of the class for an observation x."
      ],
      "metadata": {
        "id": "HyyjXa2Miqp0"
      }
    },
    {
      "cell_type": "code",
      "source": [
        "geyser = sns.load_dataset(\"geyser\")\n",
        "\n",
        "# Choose one feature - we'll use the duration\n",
        "x = geyser['duration']\n",
        "\n",
        "# Import the label encoder and encode the 'kind' column\n",
        "from sklearn.preprocessing import LabelEncoder\n",
        "le = LabelEncoder()\n",
        "\n",
        "# Create a new column with 0=long and 1=short class labels\n",
        "geyser['kind_binary'] = le.fit_transform(geyser['kind'])\n",
        "display(geyser.head())\n",
        "\n",
        "# Assign the target variable to y\n",
        "y = geyser['kind_binary']"
      ],
      "metadata": {
        "colab": {
          "base_uri": "https://localhost:8080/",
          "height": 206
        },
        "id": "Qx0wWVDCjkRF",
        "outputId": "c77699dc-6dea-4100-8983-2a2bba535c3a"
      },
      "execution_count": 7,
      "outputs": [
        {
          "output_type": "display_data",
          "data": {
            "text/plain": [
              "   duration  waiting   kind  kind_binary\n",
              "0     3.600       79   long            0\n",
              "1     1.800       54  short            1\n",
              "2     3.333       74   long            0\n",
              "3     2.283       62  short            1\n",
              "4     4.533       85   long            0"
            ],
            "text/html": [
              "\n",
              "  <div id=\"df-8d4a76ef-e4c2-4b25-b7bf-0d77ce4a365f\" class=\"colab-df-container\">\n",
              "    <div>\n",
              "<style scoped>\n",
              "    .dataframe tbody tr th:only-of-type {\n",
              "        vertical-align: middle;\n",
              "    }\n",
              "\n",
              "    .dataframe tbody tr th {\n",
              "        vertical-align: top;\n",
              "    }\n",
              "\n",
              "    .dataframe thead th {\n",
              "        text-align: right;\n",
              "    }\n",
              "</style>\n",
              "<table border=\"1\" class=\"dataframe\">\n",
              "  <thead>\n",
              "    <tr style=\"text-align: right;\">\n",
              "      <th></th>\n",
              "      <th>duration</th>\n",
              "      <th>waiting</th>\n",
              "      <th>kind</th>\n",
              "      <th>kind_binary</th>\n",
              "    </tr>\n",
              "  </thead>\n",
              "  <tbody>\n",
              "    <tr>\n",
              "      <th>0</th>\n",
              "      <td>3.600</td>\n",
              "      <td>79</td>\n",
              "      <td>long</td>\n",
              "      <td>0</td>\n",
              "    </tr>\n",
              "    <tr>\n",
              "      <th>1</th>\n",
              "      <td>1.800</td>\n",
              "      <td>54</td>\n",
              "      <td>short</td>\n",
              "      <td>1</td>\n",
              "    </tr>\n",
              "    <tr>\n",
              "      <th>2</th>\n",
              "      <td>3.333</td>\n",
              "      <td>74</td>\n",
              "      <td>long</td>\n",
              "      <td>0</td>\n",
              "    </tr>\n",
              "    <tr>\n",
              "      <th>3</th>\n",
              "      <td>2.283</td>\n",
              "      <td>62</td>\n",
              "      <td>short</td>\n",
              "      <td>1</td>\n",
              "    </tr>\n",
              "    <tr>\n",
              "      <th>4</th>\n",
              "      <td>4.533</td>\n",
              "      <td>85</td>\n",
              "      <td>long</td>\n",
              "      <td>0</td>\n",
              "    </tr>\n",
              "  </tbody>\n",
              "</table>\n",
              "</div>\n",
              "    <div class=\"colab-df-buttons\">\n",
              "\n",
              "  <div class=\"colab-df-container\">\n",
              "    <button class=\"colab-df-convert\" onclick=\"convertToInteractive('df-8d4a76ef-e4c2-4b25-b7bf-0d77ce4a365f')\"\n",
              "            title=\"Convert this dataframe to an interactive table.\"\n",
              "            style=\"display:none;\">\n",
              "\n",
              "  <svg xmlns=\"http://www.w3.org/2000/svg\" height=\"24px\" viewBox=\"0 -960 960 960\">\n",
              "    <path d=\"M120-120v-720h720v720H120Zm60-500h600v-160H180v160Zm220 220h160v-160H400v160Zm0 220h160v-160H400v160ZM180-400h160v-160H180v160Zm440 0h160v-160H620v160ZM180-180h160v-160H180v160Zm440 0h160v-160H620v160Z\"/>\n",
              "  </svg>\n",
              "    </button>\n",
              "\n",
              "  <style>\n",
              "    .colab-df-container {\n",
              "      display:flex;\n",
              "      gap: 12px;\n",
              "    }\n",
              "\n",
              "    .colab-df-convert {\n",
              "      background-color: #E8F0FE;\n",
              "      border: none;\n",
              "      border-radius: 50%;\n",
              "      cursor: pointer;\n",
              "      display: none;\n",
              "      fill: #1967D2;\n",
              "      height: 32px;\n",
              "      padding: 0 0 0 0;\n",
              "      width: 32px;\n",
              "    }\n",
              "\n",
              "    .colab-df-convert:hover {\n",
              "      background-color: #E2EBFA;\n",
              "      box-shadow: 0px 1px 2px rgba(60, 64, 67, 0.3), 0px 1px 3px 1px rgba(60, 64, 67, 0.15);\n",
              "      fill: #174EA6;\n",
              "    }\n",
              "\n",
              "    .colab-df-buttons div {\n",
              "      margin-bottom: 4px;\n",
              "    }\n",
              "\n",
              "    [theme=dark] .colab-df-convert {\n",
              "      background-color: #3B4455;\n",
              "      fill: #D2E3FC;\n",
              "    }\n",
              "\n",
              "    [theme=dark] .colab-df-convert:hover {\n",
              "      background-color: #434B5C;\n",
              "      box-shadow: 0px 1px 3px 1px rgba(0, 0, 0, 0.15);\n",
              "      filter: drop-shadow(0px 1px 2px rgba(0, 0, 0, 0.3));\n",
              "      fill: #FFFFFF;\n",
              "    }\n",
              "  </style>\n",
              "\n",
              "    <script>\n",
              "      const buttonEl =\n",
              "        document.querySelector('#df-8d4a76ef-e4c2-4b25-b7bf-0d77ce4a365f button.colab-df-convert');\n",
              "      buttonEl.style.display =\n",
              "        google.colab.kernel.accessAllowed ? 'block' : 'none';\n",
              "\n",
              "      async function convertToInteractive(key) {\n",
              "        const element = document.querySelector('#df-8d4a76ef-e4c2-4b25-b7bf-0d77ce4a365f');\n",
              "        const dataTable =\n",
              "          await google.colab.kernel.invokeFunction('convertToInteractive',\n",
              "                                                    [key], {});\n",
              "        if (!dataTable) return;\n",
              "\n",
              "        const docLinkHtml = 'Like what you see? Visit the ' +\n",
              "          '<a target=\"_blank\" href=https://colab.research.google.com/notebooks/data_table.ipynb>data table notebook</a>'\n",
              "          + ' to learn more about interactive tables.';\n",
              "        element.innerHTML = '';\n",
              "        dataTable['output_type'] = 'display_data';\n",
              "        await google.colab.output.renderOutput(dataTable, element);\n",
              "        const docLink = document.createElement('div');\n",
              "        docLink.innerHTML = docLinkHtml;\n",
              "        element.appendChild(docLink);\n",
              "      }\n",
              "    </script>\n",
              "  </div>\n",
              "\n",
              "\n",
              "<div id=\"df-04189a8f-84c7-44f2-9474-078708535f37\">\n",
              "  <button class=\"colab-df-quickchart\" onclick=\"quickchart('df-04189a8f-84c7-44f2-9474-078708535f37')\"\n",
              "            title=\"Suggest charts.\"\n",
              "            style=\"display:none;\">\n",
              "\n",
              "<svg xmlns=\"http://www.w3.org/2000/svg\" height=\"24px\"viewBox=\"0 0 24 24\"\n",
              "     width=\"24px\">\n",
              "    <g>\n",
              "        <path d=\"M19 3H5c-1.1 0-2 .9-2 2v14c0 1.1.9 2 2 2h14c1.1 0 2-.9 2-2V5c0-1.1-.9-2-2-2zM9 17H7v-7h2v7zm4 0h-2V7h2v10zm4 0h-2v-4h2v4z\"/>\n",
              "    </g>\n",
              "</svg>\n",
              "  </button>\n",
              "\n",
              "<style>\n",
              "  .colab-df-quickchart {\n",
              "      --bg-color: #E8F0FE;\n",
              "      --fill-color: #1967D2;\n",
              "      --hover-bg-color: #E2EBFA;\n",
              "      --hover-fill-color: #174EA6;\n",
              "      --disabled-fill-color: #AAA;\n",
              "      --disabled-bg-color: #DDD;\n",
              "  }\n",
              "\n",
              "  [theme=dark] .colab-df-quickchart {\n",
              "      --bg-color: #3B4455;\n",
              "      --fill-color: #D2E3FC;\n",
              "      --hover-bg-color: #434B5C;\n",
              "      --hover-fill-color: #FFFFFF;\n",
              "      --disabled-bg-color: #3B4455;\n",
              "      --disabled-fill-color: #666;\n",
              "  }\n",
              "\n",
              "  .colab-df-quickchart {\n",
              "    background-color: var(--bg-color);\n",
              "    border: none;\n",
              "    border-radius: 50%;\n",
              "    cursor: pointer;\n",
              "    display: none;\n",
              "    fill: var(--fill-color);\n",
              "    height: 32px;\n",
              "    padding: 0;\n",
              "    width: 32px;\n",
              "  }\n",
              "\n",
              "  .colab-df-quickchart:hover {\n",
              "    background-color: var(--hover-bg-color);\n",
              "    box-shadow: 0 1px 2px rgba(60, 64, 67, 0.3), 0 1px 3px 1px rgba(60, 64, 67, 0.15);\n",
              "    fill: var(--button-hover-fill-color);\n",
              "  }\n",
              "\n",
              "  .colab-df-quickchart-complete:disabled,\n",
              "  .colab-df-quickchart-complete:disabled:hover {\n",
              "    background-color: var(--disabled-bg-color);\n",
              "    fill: var(--disabled-fill-color);\n",
              "    box-shadow: none;\n",
              "  }\n",
              "\n",
              "  .colab-df-spinner {\n",
              "    border: 2px solid var(--fill-color);\n",
              "    border-color: transparent;\n",
              "    border-bottom-color: var(--fill-color);\n",
              "    animation:\n",
              "      spin 1s steps(1) infinite;\n",
              "  }\n",
              "\n",
              "  @keyframes spin {\n",
              "    0% {\n",
              "      border-color: transparent;\n",
              "      border-bottom-color: var(--fill-color);\n",
              "      border-left-color: var(--fill-color);\n",
              "    }\n",
              "    20% {\n",
              "      border-color: transparent;\n",
              "      border-left-color: var(--fill-color);\n",
              "      border-top-color: var(--fill-color);\n",
              "    }\n",
              "    30% {\n",
              "      border-color: transparent;\n",
              "      border-left-color: var(--fill-color);\n",
              "      border-top-color: var(--fill-color);\n",
              "      border-right-color: var(--fill-color);\n",
              "    }\n",
              "    40% {\n",
              "      border-color: transparent;\n",
              "      border-right-color: var(--fill-color);\n",
              "      border-top-color: var(--fill-color);\n",
              "    }\n",
              "    60% {\n",
              "      border-color: transparent;\n",
              "      border-right-color: var(--fill-color);\n",
              "    }\n",
              "    80% {\n",
              "      border-color: transparent;\n",
              "      border-right-color: var(--fill-color);\n",
              "      border-bottom-color: var(--fill-color);\n",
              "    }\n",
              "    90% {\n",
              "      border-color: transparent;\n",
              "      border-bottom-color: var(--fill-color);\n",
              "    }\n",
              "  }\n",
              "</style>\n",
              "\n",
              "  <script>\n",
              "    async function quickchart(key) {\n",
              "      const quickchartButtonEl =\n",
              "        document.querySelector('#' + key + ' button');\n",
              "      quickchartButtonEl.disabled = true;  // To prevent multiple clicks.\n",
              "      quickchartButtonEl.classList.add('colab-df-spinner');\n",
              "      try {\n",
              "        const charts = await google.colab.kernel.invokeFunction(\n",
              "            'suggestCharts', [key], {});\n",
              "      } catch (error) {\n",
              "        console.error('Error during call to suggestCharts:', error);\n",
              "      }\n",
              "      quickchartButtonEl.classList.remove('colab-df-spinner');\n",
              "      quickchartButtonEl.classList.add('colab-df-quickchart-complete');\n",
              "    }\n",
              "    (() => {\n",
              "      let quickchartButtonEl =\n",
              "        document.querySelector('#df-04189a8f-84c7-44f2-9474-078708535f37 button');\n",
              "      quickchartButtonEl.style.display =\n",
              "        google.colab.kernel.accessAllowed ? 'block' : 'none';\n",
              "    })();\n",
              "  </script>\n",
              "</div>\n",
              "    </div>\n",
              "  </div>\n"
            ]
          },
          "metadata": {}
        }
      ]
    },
    {
      "cell_type": "code",
      "source": [
        "# Plot the data for 'duration'\n",
        "plt.scatter(x, y)\n",
        "plt.yticks([0, 1])\n",
        "plt.xlabel('x (geyser duration - minutes)'); plt.ylabel('kind of eruption')\n",
        "plt.title('Geyser duration')\n",
        "\n",
        "plt.show()"
      ],
      "metadata": {
        "colab": {
          "base_uri": "https://localhost:8080/",
          "height": 472
        },
        "id": "p6vQmpqwirTC",
        "outputId": "d07593ef-c192-4554-fe9d-c3f91d38a150"
      },
      "execution_count": 8,
      "outputs": [
        {
          "output_type": "display_data",
          "data": {
            "text/plain": [
              "<Figure size 640x480 with 1 Axes>"
            ],
            "image/png": "[encoded data removed]"
          },
          "metadata": {}
        }
      ]
    },
    {
      "cell_type": "code",
      "source": [
        "# Assign coefficient from previously fit model\n",
        "beta_0 = 11.32\n",
        "beta_1 = -3.65\n",
        "\n",
        "# Define the sigmoid with the coefficients\n",
        "def sigmoid_beta(x, beta_0, beta_1):\n",
        "    exp = beta_0 + beta_1*x\n",
        "    return 1 / (1 + np.e**(-exp))\n",
        "\n",
        "x_model_plot = np.linspace(1, 6, 100)\n",
        "y_model = sigmoid_beta(x_model_plot, beta_0, beta_1)\n",
        "\n",
        "# Plot the function generated above\n",
        "plt.scatter(x, y)\n",
        "plt.plot(x_model_plot, y_model, color='green', label='model')\n",
        "plt.xlabel('x (geyser duration - minutes)'); plt.ylabel('P( y=1 )')\n",
        "plt.legend()\n",
        "plt.title('Geyser eruption with model')\n",
        "\n",
        "plt.show()"
      ],
      "metadata": {
        "colab": {
          "base_uri": "https://localhost:8080/",
          "height": 472
        },
        "id": "CaaU6TPejyXD",
        "outputId": "68fd0377-40f7-4a23-92d9-48bb21478bee"
      },
      "execution_count": 9,
      "outputs": [
        {
          "output_type": "display_data",
          "data": {
            "text/plain": [
              "<Figure size 640x480 with 1 Axes>"
            ],
            "image/png": "[encoded data removed]"
          },
          "metadata": {}
        }
      ]
    },
    {
      "cell_type": "markdown",
      "source": [
        "Now let's use our function with the model parameters to make and interpret a prediction. We'll pretend that we have visited the geyser site and viewed an eruption, which we timed to be 3.25 minutes. Which class would this eruption belong to and with what probability?\n",
        "\n",
        "We know from the equation above that the probability is for the observation to belong to class=1 (short eruption). Plugging in the values for x (3.25 minutes) along with the coefficients gives us the following equation:"
      ],
      "metadata": {
        "id": "7wU9GIzqj2j0"
      }
    },
    {
      "cell_type": "markdown",
      "source": [
        "![image.png](data:image/png;base64,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)"
      ],
      "metadata": {
        "id": "0YP0bA4ikGZV"
      }
    },
    {
      "cell_type": "markdown",
      "source": [
        "![image.png](data:image/png;base64,iVBORw0KGgoAAAANSUhEUgAAAYgAAAAoCAYAAADkKG18AAAO8klEQVR4Ae2dBcw8SRHFH+7u7u5wuDuHu7u7S3ANcsjh7u7uEiQEhwR3dw0WCE5+/+t3qa+uZ9a/3W//Vclmdnqme7rf7lZ1varulUoKgUKgENgOBO4u6aLbMZQaRSFQCBQChcCiCBwg6WBJB0n6n6RrL9pg1S8ECoFCoBDYLgSO3AzE9bZrWDWaQqAQKAQKgUURKAOxKIJVvxAoBAqBLUWgDMSWfrA1rEKgECgEFkWgDMSiCFb9QqAQKAS2FIEyEFv6wdawCoFCoBBYFIEyEIsiWPULgUKgENhSBMpAbOkHW8MqBAqBQmBRBMpALIpg1S8ECoFCYEsRKAOxBz7YAyWdcA/0s7pYCIDAeSSdoaDY8wgcV9Kt20K5J0g6454f0YYO4FSSHjXwup+kK0s64kDfuXbPgWubXrxqJXEHSS+T9IpNB2JN/Tu+pAtKOtqMzz+FpItIOt5APQxAlMNLOlMskPT8kfrp1jrdQATOMqCvrrGBfd2aLr1R0s8kHS6M6JiSXiXph5JOFMp5i2F5TSrb5FPc0ctIurqkt7Zxrbq/D5H041U/ZI+1j7f5IEk3bZ/HByU9c2QS4uFh0N8s6VqSriPpQ5LeIAlDE+X3kr4j6WPt9QNJN4s3SPL3OhXXaSFQCAwh8AtJr+5cPKqkf0t6WrqGcbhYKtvkU5QCntKVJL1vl4zbdSX9ZJNBWUPfXivpeeG5GAw2XHtEKOu9xRs7QbiAwf9eMwKhWJ+U9OFW/n5JF4gXw/vHS7pNOK+3hUAhMIAA/B0/Uji9LMeQ9F9J7woX8Ca+Es732tt3S0JRrVrKQBwWYZT271LxX5tXl4p3nP5GEp9blEe37+1pQ+Ezwvuxt3gkXx+7oa4VAoXAIQjcrv3QTtkB5Cbt2p3Dtbt1PApfPoKki0uC+91U2S0DARViiukobd/6qMwiPuB1Zknnk8Ts2AKeJ5N0fklHaoXnaue+Z9rjqVsfTCPC41942sorug88mJzcaUL7X5D0nnTPXVtdvm+WaQ0E9/+8Ye66dSwECoEOAgRS4W2zQMt8u/0wo8KH+71BvlnSWSXdRRLue6QMUHJwwZtCSc1iIE4i6YlNEX1W0mUl3arNPuG7Ma4If1zyD0nMkM/Wytin/keSriDpwZLYlpg2MrWBB4dHg2d2dknvlXTV1sal2uwaJcofozylcfCva0HwdtvEA/TaLVvfX9m8xXtJeoGkZ0+svZobMHivb5jZ+M3yJGgnMD9OqAR9RZzpiu27eLVwLb99U8Mjl9d5IVAIBATgyb+WMgMe0xTQbVPgmmrfHJjBvrC1ef/G8/sR8MAouBjoJhtlkjw9BBsddBw6vj3NvMfansVAuB14bY+PMpT/F32xHV+UzqGYoE/uGMoxrMR7LGTxYEQiV85MH0rFnoR5eigVC1iCKV7HJEFJEnux/ErSw9vJNyQ92Rc6R/piTn8I+1h+704bvSIMFrQlBpWJyKxCmuOfJD02VWSyQ9zMggG6kU/SkeB4xDRd3neKR/fRGb6HN+41UmWFwF5FwC5+pJAmjeUPnbzjY4d/diI+QZqn5b6dmAUzaZTPOmQeA4GhZNye6d5DEh6E02VRctFrYlxQTMRvjh4GiUfwr3DOLP7vHUru15Iu3+6DCsIYXCXU4y1tR3olXT709IaHvjskrfQ/ks4Rytb5Fk+J7LmcnjqpTyRJkFQRPdteHQzyb9Nn4Pv4vJ7rkzoWAoXAYRGALkH5QG1MKyjK0wzcfF5Jf5NEcNvC7B5vYFNkHgOBAfhnoy8YxyMlPUcSnhZyc0mnb+99wED80SfteMmGN7Qb8pIWtM1rUeDb7VXYQIBtFBS9jUgsH3t/6Wboxu7Z7WtflvStKZS9+wVWT5ryfmhNvt9QTllY55O9vnzPss+hH/FI6lUYbOJ3gFjnDnlpmwnvKJxwAiV17oF7UJwxmEhAFCXpRSzM+C4k6VgD9WMxAVTWLkz7stKNbfTez2MgaOctbdaK13CLFlP5aXvA4zoPgmKCBomCgkZhefEhq0B78Z9Yh1x/6kB3RKGM+MYsgnJlPcG0Ar8/Lf7cd86Rhk/cMpEy5UMsgLE4djPSxL74j+M+3MdExIvmiOOwriIKi+pom2SLLNBTT82F6ZwY1CzjrxW9CcA63dsIfF/S22YcApwziq4ncL4oPQtKjR8oFBTCrJpgK4ZpkvCjzjProXO471UbCBQ+dBDUhHluDAQ0yX06g5nGQBAboE2ynKJgQE0DLWog4qyAbCAoPwupzWRJDQkG4qEzfA5jBouV93wXXp4e9pFWnhe9pdv2xVFyKjYBaRsWgvuR2qQ+iQE883S5sRagJ6liTIiVMekZ+t7l8gPGGtvya3yHp4ktbjkMe2J4/NY8SR3sMIqBH09PuQ1Waitfh7bYgNM17UIb8MSfaY3BM0OTkJ6YF96NPW/Z11gohyGbVQga4xFEBYfn8MsBJQv//Zf0ELKgwDwaBNoDt8inM7tlxo04IG3KiTLupR2U7ph4Bg21Zfrv+q0CsZFZP/uxZ026xmycoHjMOsIQ/rlRba5PXAX6LAZ8+e7wPYoKmWw5suw8MWCSkLfVgN4cWvNCkkHE1M+v43wI8Js++XxVq9YuI8Dvjow//3Z2PB7DwA8NpYQ3wN40OcC6o0I6Ieg5tMcQOfoEoJn9M/MkYJ3pF67PEvNIj5/7lDEybmaa72jv2fZhFiFmwKzVwuyVbR+yENshDRN8GT+UHAaDTCjKDm57ClEPZY9Rpe0HSiIg7qAtnhr3UoeYxzXbHkYHtTKeERVp7gerj6lLjOTFjZIic4jPkAB59wuSG1niOR7Gp1vqMPGTdzaDGynHS7Q+M1YL3zfGkV/xe8hYSCcmwwzP4eOS2EKmt5kk2WOsg9jt8Xs823bks2TyYyEBBWqOrXpYNxUF/cO1Z7XfYLyW32Nw0Cl402zPQtaZPzMy2UgWQc8w4SN70mt8cjtj53wXSB4hropHj16Mk5hc189lLzE80Og1Qr+zlQ9j+3z4jec2xs4ZA/04qSR+C6Sis//UkKBr+S2jC2BmmIhZmAyThYjxZpcBUt0tTBjjZN7lCx+Z/bLNgWkWNwiNFHly7mMGHVMxPROkTs3ejNz+dSRmgIKAahz7Ic6LCu0Tv+KHPCT8UCbFH4bqVvlOBPCsWZcTBQMBtYmBYI1QFAwEcUiU1qQ04zx5JSMN6hZBCZvSog8o5Hk8YhZpotQtKNQhxYlx+kSgzPFiSZe2kIzDeJmIZm/W90w6ohdJfbchhLJnUtsTJlFR6TMJxhBYYCLYi4z+RAPu60xKjaHLlnKEx86boGHFoVssdAqrFgVrzyZ2KIdpUjRj3XpfCCwLAYLZPc9iWe1P2w6zODzqXoxk2jbWfR9xIbzenkCfMsvvCetv8jqWfB/4eLU/M31SxK03UJpkollQ1njHswpeipNoqMuasOz1uE2WA2C0hmRsHRDfNyh3K363AU38AJ+0iXdMxMAryHrUt99e0qd80owy1LOzSMf6QzUYCnTy0oVBQtPEwCL0CYOFMsGqseI6exm4P3Qo0jRL71w1WAiMIAAFFRcvjty6skskNkBlEADnBz1v9hM0xBj9sLIBhIah8dhFoSeLGojYJsYEunVIyJ6c5JEM1XU5STTQMllv+To6jwkuRhGjAm0caS36CBUGVZyz9WiDdGu8LQeIOUdP+tzP8REq/nOSetsg+Z54ZJcG4nwW+oHHhSHFUMe+cg/p+7S/EkHZwwF78RgWEsVPEBQXsqQQ2DQEUKg5JrbOPkInYCAiDTtLf6AYhhJGZmlnkXtz4kFsaxkGgsW8KF68g5yl5mfhZUB7e+bs8mmPGAQYD1LgoZfyLN/tMNYPhIQS4h4xjhk/CzyknmcFvUrKPFvXYxyGnkVbeBxMvJ3K7X70jiSd0D/iKRYmQjZ2GDMmJVnIZF2ZENjZy+7xyoCphjcSAa9835TObaKBQGGhLMdeZMdZvCGlz+NxGQYitvfVjpFAB+E9xODs2B+heVxDOzmglEkI6cmXEh0ERcM+cz2BTSHLrickU5Ai78l17x6XEYBmlj/kZXAf18C6tyDU7WBkmIx4yYHLMazZs/C1OhYChcAaEVingYDmgsfHo4JbJxV6HiGGQnygJ4sYCJQW/LvXudA+s2my0yzsXkCw2yni8zAXBHbjNjZQMeyh1hOMR/QYMBDeOoegebyGgchb29MmGV+0g/dHZmFWzjAwMdjOmFDsQ0FvDDoJFzZ4ZEziNRB8j4tiyWiknbyjdP1nTe+TrrJCYAMQWJeBIKDLVg+mH4BimsWrPchYZxKVeLwHCjpnMfk6qdo5WwglSOYTCh/Fycw5xmdYC+M4A7w8Gz6SnQNtw8ubUPoZ0xyhe2KGD0FoYg0I+KDM8UgQDAKp2RYUuRcaM5ZI79CX/K+bGA0wMa3Ec1mPYANHu7QTY2QErPHS7EEQhyH9FaEeRphUV2OAoUKgsCLldWDb0qZd3neAliLtvKQQKAQ2EIF1GAhmqMx6rfSAhYDrpP/kGIKPbEa2nolCKiuZQGQ2osB4pnftJVZJkJfMHIwL9Z3sAl2NArXCBB8W1l6uBX5RulaueA55XUwvMBz71XvPzBuvAeWNYmZLfXP+pOpjsGKQmLgCMREULgFrr+GhDvcSJyE2wfhiTIQ2wML9d1+In8RML4wS6yvwMAh4o/CjkWQfMmdykXCRMTA9hoHl/1Ee1ra1x5uwl+Fnsy7JBtdldSwECoENQWAWA0HOelYGcPLf7ZSjDKxk81BJi2S3YLh4MpBQuijGTHXkekPnrDeJ+68N3Vflm4cA/w2TNxndvF5WjwqB/RSBWQxED6J5spj4rxHonWUKMYyxP2da5rOqreUgwAr1TPEtp+VqpRAoBJaCwDoMBFk3+V8NlzEYgt2RtlpGm9XGahCA7lvJArnVdLdaLQT2TwTYjmK310GQCZSVA1tVwOkvKt5gctF2qv5qESA2Mi+luNqeVeuFQCGwL9uFGABZLhgI0h0597YS00I0D8VEkJjFXmTQoCjY2BCDEQOx0z6/7isECoFCoBBYMgLx/9ndNDO6Xrmv947zGAja4VneJRXvoaQQKAQKgUJgyxBgG2xSQEsKgaUg8H+rGw3tBDoEqwAAAABJRU5ErkJggg==)"
      ],
      "metadata": {
        "id": "LK0hqcsBkDSP"
      }
    },
    {
      "cell_type": "code",
      "source": [
        "# Plug in the above values\n",
        "sigmoid_beta(3.25, beta_0, beta_1)"
      ],
      "metadata": {
        "colab": {
          "base_uri": "https://localhost:8080/"
        },
        "id": "O_7udVwWkKN_",
        "outputId": "06ee6b48-91e7-45b7-bfdb-c4ae23a90ce4"
      },
      "execution_count": 10,
      "outputs": [
        {
          "output_type": "execute_result",
          "data": {
            "text/plain": [
              "0.3676062104304375"
            ]
          },
          "metadata": {},
          "execution_count": 10
        }
      ]
    },
    {
      "cell_type": "markdown",
      "source": [
        "We interpret this result to mean that the probability of belonging to class=1 (short) is 37%. The probability of the observation belonging to class=0 (long) is 100%-37% = 63%. Our model predicts that an eruption with a duration of 3.25 minutes would belong to the long class of eruption."
      ],
      "metadata": {
        "id": "MfZoiSjDkU2m"
      }
    },
    {
      "cell_type": "code",
      "source": [],
      "metadata": {
        "id": "NJ-7p66gkVX-"
      },
      "execution_count": null,
      "outputs": []
    }
  ]
}