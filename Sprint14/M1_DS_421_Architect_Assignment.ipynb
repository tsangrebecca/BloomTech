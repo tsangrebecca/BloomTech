{
  "nbformat": 4,
  "nbformat_minor": 0,
  "metadata": {
    "accelerator": "GPU",
    "colab": {
      "provenance": [],
      "gpuType": "T4",
      "include_colab_link": true
    },
    "kernelspec": {
      "display_name": "Python 3",
      "name": "python3"
    },
    "language_info": {
      "codemirror_mode": {
        "name": "ipython",
        "version": 3
      },
      "file_extension": ".py",
      "mimetype": "text/x-python",
      "name": "python",
      "nbconvert_exporter": "python",
      "pygments_lexer": "ipython3",
      "version": "3.8.5"
    }
  },
  "cells": [
    {
      "cell_type": "markdown",
      "metadata": {
        "id": "view-in-github",
        "colab_type": "text"
      },
      "source": [
        "<a href=\"https://colab.research.google.com/github/tsangrebecca/BloomTech/blob/main/Sprint14/M1_DS_421_Architect_Assignment.ipynb\" target=\"_parent\"><img src=\"https://colab.research.google.com/assets/colab-badge.svg\" alt=\"Open In Colab\"/></a>"
      ]
    },
    {
      "cell_type": "markdown",
      "metadata": {
        "id": "ObyHCH8HvHSf"
      },
      "source": [
        "\n",
        "# *Data Science Unit 4 Sprint 2 Assignment 1*\n",
        "\n",
        "Use TensorFlow Keras and a sample of the [Quickdraw dataset](https://github.com/googlecreativelab/quickdraw-dataset) to build a sketch classification model. The dataset has been sampled to only 10 classes and 10000 observations per class.\n",
        "\n",
        "### Objective\n",
        "\n",
        "- Build a baseline classification model then, run a few experiments with different optimizers and learning rates.\n",
        "- Don't forget to [**switch to GPU if you're running your notebook on Colab!**](https://colab.research.google.com/notebooks/gpu.ipynb)"
      ]
    },
    {
      "cell_type": "markdown",
      "metadata": {
        "id": "s-Tc3ovEyQ9b"
      },
      "source": [
        "## Load Your Data"
      ]
    },
    {
      "cell_type": "code",
      "metadata": {
        "id": "CkU0pAYCvU8o"
      },
      "source": [
        "# imports in first cell\n",
        "import seaborn as sns\n",
        "import pandas as pd\n",
        "import numpy as np\n",
        "import tensorflow as tf\n",
        "import matplotlib.pyplot as plt\n",
        "from sklearn.utils import shuffle\n",
        "\n",
        "# use Sequential to build out your model\n",
        "from tensorflow.keras.models import Sequential\n",
        "\n",
        "# Dense layer is used for Fully Connected Forward Feeding networks\n",
        "from tensorflow.keras.layers import Dense"
      ],
      "execution_count": 2,
      "outputs": []
    },
    {
      "cell_type": "markdown",
      "metadata": {
        "id": "UT2HFvSgDlFQ"
      },
      "source": [
        "Note that the 28x28 quickdraw images have already been \"flattened\" into 784: dimensional vectors"
      ]
    },
    {
      "cell_type": "code",
      "metadata": {
        "id": "S1XYJRQKLj1B",
        "colab": {
          "base_uri": "https://localhost:8080/"
        },
        "outputId": "539fd8ad-b98b-497f-84aa-4bf63fdd494d"
      },
      "source": [
        "# load the quickdraw data set\n",
        "!git clone https://github.com/LambdaSchool/DS-Unit-4-Sprint-2-Neural-Networks\n",
        "data = np.load('/content/DS-Unit-4-Sprint-2-Neural-Networks/quickdraw10.npz')\n",
        "\n",
        "X = data['arr_0']\n",
        "y = data['arr_1']\n",
        "\n",
        "print(X.shape)\n",
        "print(y.shape)"
      ],
      "execution_count": 3,
      "outputs": [
        {
          "output_type": "stream",
          "name": "stdout",
          "text": [
            "Cloning into 'DS-Unit-4-Sprint-2-Neural-Networks'...\n",
            "remote: Enumerating objects: 573, done.\u001b[K\n",
            "remote: Counting objects: 100% (208/208), done.\u001b[K\n",
            "remote: Compressing objects: 100% (124/124), done.\u001b[K\n",
            "remote: Total 573 (delta 109), reused 159 (delta 83), pack-reused 365\u001b[K\n",
            "Receiving objects: 100% (573/573), 92.63 MiB | 14.92 MiB/s, done.\n",
            "Resolving deltas: 100% (293/293), done.\n",
            "(100000, 784)\n",
            "(100000,)\n"
          ]
        }
      ]
    },
    {
      "cell_type": "code",
      "source": [
        "# row vector, generic name to refer to a 1D vector containing this many elements, that it is NOT a matrix, doesn't indicate whether it's a row or a column specifically\n",
        "X[0].shape"
      ],
      "metadata": {
        "colab": {
          "base_uri": "https://localhost:8080/"
        },
        "id": "FODNQnzG_OX9",
        "outputId": "67d6144b-0b4c-41fe-9b04-bc520681d224"
      },
      "execution_count": 4,
      "outputs": [
        {
          "output_type": "execute_result",
          "data": {
            "text/plain": [
              "(784,)"
            ]
          },
          "metadata": {},
          "execution_count": 4
        }
      ]
    },
    {
      "cell_type": "code",
      "source": [
        "X[0] # values range from 0 to 255"
      ],
      "metadata": {
        "colab": {
          "base_uri": "https://localhost:8080/"
        },
        "id": "WnupoLV__chx",
        "outputId": "6923f13b-51fa-454c-dee7-7df5aad3d4be"
      },
      "execution_count": 5,
      "outputs": [
        {
          "output_type": "execute_result",
          "data": {
            "text/plain": [
              "array([  0,   0,   0,   0,   0,   0,   0,   0,   0,   0,   0,   0,   0,\n",
              "         0,   0,   0,   0,   0,   0,   0,   0,   0,   0,   0,   0,   0,\n",
              "         0,   0,   0,   0,   0,   0,   0,   0,   0,   0,   0,   0,   0,\n",
              "         0,   0,   0,  11,  21,  12,   0,   0,   0,   0,   0,   0,   0,\n",
              "         0,  92,  20,   0,   0,   0,   0,   0,   0,   0,   0,   0,   0,\n",
              "         0,   0,   0,  91, 213, 253, 255, 255, 222,  95,   3,   0,   0,\n",
              "         0,   0,   7, 255, 222,   0,   0,   0,   0,   0,   0,   0,   0,\n",
              "         0,   0,   0,  24, 190, 255, 196, 118, 100, 109, 196, 255, 121,\n",
              "         0,   0,   0,   0,   0, 141,  35,   0,   0,   0,   0,   0,   0,\n",
              "         0,   0,   0,   0,   1, 185, 241,  94,   1,   0,   0,   0,   0,\n",
              "        63,  25,   0,   0,   0,   0,   0,   0,   0,   0,   0,   0,   0,\n",
              "         0,   0,   0,   0,   0,   0,  89, 255, 115, 133, 150,  37,   0,\n",
              "         0,   0,   0,   0,   0,   0,   0,   0,   0,   0,   0,   0,   0,\n",
              "         0,   0,   0,   0,   0,   0,   0,   0, 207, 241, 252, 255, 250,\n",
              "       199,   0,   0,   0,   0,   0,   0,   0,   0,   0,   0,   0,   0,\n",
              "         0,   0,   0,   0,   0,   0,   0,   0,  30, 200, 255, 242, 149,\n",
              "       252, 232, 195,   3,   0,   0,   0,   0,   0,   0,   0,   0,   0,\n",
              "         0,   0,   0,   0,   0,   0,   0,   0,   0,  39, 225, 238, 255,\n",
              "        85,   0, 119, 255,  83,   0,   0,   0,   0,   0,   0,   0,   0,\n",
              "         0,   0,   0,   0,   0,   0,   0,   0,   0,   0,  43, 229, 231,\n",
              "       106, 255,  49,   0,   1, 201, 222,   7,   0,   0,   0,   0,   0,\n",
              "         0,   0,   0,   0,   0,   0,   0,   0,   0,   0,   0,  33, 237,\n",
              "       220,  33,  79, 255,  75,   0,   0,  61, 255,  94,   0,   0,   0,\n",
              "         0,   0,   0,   0,   0,   0,   0,   0,   0,   0,   0,   0,   4,\n",
              "       197, 235,  28,   0,   4, 210, 166,   0,   0,   1, 250, 127,   0,\n",
              "         0,   0,   0,   0,   0,   0,   0,   0,   0,   0,   0,   0,   0,\n",
              "         0, 128, 255,  85,   0,   0,   0,  17,  16,   0,   0,   0, 231,\n",
              "       146,   0,   0,   0,   0,   0,   0,   0,   0,   0,   0,   0,   0,\n",
              "         0,   0,  56, 251, 153,   0,   0,   0,   0,   0,   0,   0,   0,\n",
              "         0, 228, 148,   0,   0,   0,   0,   0,   0,   0,   0,   0,   0,\n",
              "         0,   0,   0,   0, 162, 229,  11,   0,   0,   0,   0,   0,   0,\n",
              "         0,   0,   0, 246, 131,   0,   0,   0,   0,   0,   0,   0,   0,\n",
              "         0,   0,   0,   0,   0,   0, 219, 165,   0,   0,   0,   0,   0,\n",
              "         0,   0,   0,   0,  13, 255, 111,   0,   0,   0,   0,   0,   0,\n",
              "         0,   0,   0,   0,   0,   0,   0,  21, 254, 109,   0,   0,   0,\n",
              "         0,   0,   0,   0,   0,   0,  78, 255,  58,   0,   0,   0,   0,\n",
              "         0,   0,   0,   0,   0,   0,   0,   0,   0,  78, 255,  51,   0,\n",
              "         0,   0,   0,   0,   0,   0,   0,   0, 152, 237,   3,   0,   0,\n",
              "         0,   0,   0,   0,   0,   0,   0,   0,   0,   0,   0, 120, 254,\n",
              "         5,   0,   0,   0,   0,   0,   0,   0,   0,   3, 228, 165,   0,\n",
              "         0,   0,   0,   0,   0,   0,   0,   0,   0,   0,   0,   0,   0,\n",
              "       123, 254,   0,   0,   0,   0,   0,   0,   0,   0,   0,  72, 255,\n",
              "        74,   0,   0,   0,   0,   0,   0,   0,   0,   0,   0,   0,   0,\n",
              "         0,   0, 114, 255,  13,   0,   0,   0,   0,   0,   0,   0,   0,\n",
              "       169, 229,   3,   0,   0,   0,   0,   0,   0,   0,   0,   0,   0,\n",
              "         0,   0,   0,   0,  60, 255,  70,   0,   0,   0,   0,   0,   0,\n",
              "         0,  53, 252, 129,   0,   0,   0,   0,   0,   0,   0,   0,   0,\n",
              "         0,   0,   0,   0,   0,   0,   7, 239, 174,   0,   0,   0,   0,\n",
              "         0,   0,   6, 208, 222,  11,   0,   0,   0,   0,   0,   0,   0,\n",
              "         0,   0,   0,   0,   0,   0,   0,   0,   0, 110, 255, 100,   0,\n",
              "         0,   0,   0,   3, 170, 253,  70,   0,   0,   0,   0,   0,   0,\n",
              "         0,   0,   0,   0,   0,   0,   0,   0,   0,   0,   0,   3, 180,\n",
              "       255, 178,  99,  68,  91, 200, 254, 104,   0,   0,   0,   0,   0,\n",
              "         0,   0,   0,   0,   0,   0,   0,   0,   0,   0,   0,   0,   0,\n",
              "         0,   2, 116, 222, 255, 255, 255, 213,  87,   0,   0,   0,   0,\n",
              "         0,   0,   0,   0,   0,   0,   0,   0,   0,   0,   0,   0,   0,\n",
              "         0,   0,   0,   0,   0,   0,  32,  51,  44,   1,   0,   0,   0,\n",
              "         0,   0,   0,   0,   0,   0,   0,   0,   0,   0,   0,   0,   0,\n",
              "         0,   0,   0,   0,   0,   0,   0,   0,   0,   0,   0,   0,   0,\n",
              "         0,   0,   0,   0,   0,   0,   0,   0,   0,   0,   0,   0,   0,\n",
              "         0,   0,   0,   0], dtype=uint8)"
            ]
          },
          "metadata": {},
          "execution_count": 5
        }
      ]
    },
    {
      "cell_type": "markdown",
      "metadata": {
        "id": "mvMjoB_yDZTL"
      },
      "source": [
        "These are the names of the 10 image classes"
      ]
    },
    {
      "cell_type": "code",
      "metadata": {
        "id": "c8qsDqdqvHDd"
      },
      "source": [
        "class_names = ['apple',\n",
        "             'anvil',\n",
        "             'airplane',\n",
        "             'banana',\n",
        "             'The Eiffel Tower',\n",
        "             'The Mona Lisa',\n",
        "             'The Great Wall of China',\n",
        "             'alarm clock',\n",
        "             'ant',\n",
        "             'asparagus']"
      ],
      "execution_count": 6,
      "outputs": []
    },
    {
      "cell_type": "markdown",
      "metadata": {
        "id": "VxuY8RYXD9S4"
      },
      "source": [
        "We can explore the data a bit by reshaping the vectors back to images and displaying them with their labels. <br>\n",
        "Turns out the data has 10 blocks of 10,000 images of each of the above labels, in order. <br>\n",
        "So the code below displays the first image of each class."
      ]
    },
    {
      "cell_type": "code",
      "metadata": {
        "id": "Owbm1EbxvA5A",
        "colab": {
          "base_uri": "https://localhost:8080/",
          "height": 400
        },
        "outputId": "79600369-8c86-4b47-e036-8c0891085017"
      },
      "source": [
        "# these are your 10 unique images\n",
        "plt.figure(figsize=(10,5))\n",
        "start = 0\n",
        "\n",
        "for num, name in enumerate(class_names):\n",
        "    plt.subplot(2,5, num+1)\n",
        "    plt.xticks([])\n",
        "    plt.yticks([])\n",
        "    plt.grid(False)\n",
        "    plt.imshow(X[start].reshape(28,28),cmap=plt.cm.binary) # needs reshaping in order to plot them\n",
        "    plt.xlabel(name)\n",
        "    start += 10000\n",
        "plt.show()"
      ],
      "execution_count": 7,
      "outputs": [
        {
          "output_type": "display_data",
          "data": {
            "text/plain": [
              "<Figure size 1000x500 with 10 Axes>"
            ],
            "image/png": "[encoded data removed]"
          },
          "metadata": {}
        }
      ]
    },
    {
      "cell_type": "markdown",
      "metadata": {
        "id": "Av6i6t5QLj1D"
      },
      "source": [
        "Say hello to the Quickdraw dataset!\n",
        "\n",
        "You'll be using this dataset a lot this week as an alternative to the MNIST digits data set, which we'll use in the guided projects. The nice thing about this dataset is that it's simple, which allows us to focus on our model, its various components, and gradually come to a better understanding of how to build neural networks without worrying about cleaning and prepping our image data much."
      ]
    },
    {
      "cell_type": "code",
      "metadata": {
        "id": "c97_M1WNvTNY"
      },
      "source": [
        "# always a good idea to shuffle your dataset!\n",
        "X, y = shuffle(X, y)"
      ],
      "execution_count": 8,
      "outputs": []
    },
    {
      "cell_type": "markdown",
      "metadata": {
        "id": "jb70CbLVyK65"
      },
      "source": [
        "-----\n",
        "\n",
        "## Build Your Baseline Model\n",
        "\n",
        "Make sure that you\n",
        "\n",
        "- **Determine** the dimensionality of your input data by investigating **X**\n",
        "- **Normalize** your input data to values between 0 and 1\n",
        "- **Determine** the number of neurons in your output layer by investigating **Y**\n",
        "- **Select** `sparse_categorical_crossentropy` as your loss function.\n",
        "- **Select** `sgd` as your optimizer.\n",
        "- **Add** 3 hidden layers to your model with the following number of nodes\n",
        "    - h1 has 500 nodes\n",
        "    - h2 has 250 nodes\n",
        "    - h3 has 100 nodes\n",
        "    \n",
        "- **Set** epochs to 20\n",
        "- **Use** the `validation_split` keyword in `model.fit()` to automatically create a training / validation dataset from within the model. Specify a percentage, such as `validation_split = 0.2`\n",
        "\n",
        "Not sure what the various parameters are for or what values to assign to them?\n",
        "\n",
        "- Reference the guided project notebook for Sprint 2 Module 1\n",
        "- Reference the [**Keras documentation**](https://keras.io/api/)\n",
        "- Google other examples\n",
        "- Discuss your results with classmates"
      ]
    },
    {
      "cell_type": "code",
      "source": [
        "X.shape"
      ],
      "metadata": {
        "colab": {
          "base_uri": "https://localhost:8080/"
        },
        "id": "A6c_9jbWAGLp",
        "outputId": "09040d47-8ff3-4e0b-e02b-9961fb567906"
      },
      "execution_count": 12,
      "outputs": [
        {
          "output_type": "execute_result",
          "data": {
            "text/plain": [
              "(100000, 784)"
            ]
          },
          "metadata": {},
          "execution_count": 12
        }
      ]
    },
    {
      "cell_type": "code",
      "metadata": {
        "deletable": false,
        "nbgrader": {
          "cell_type": "code",
          "checksum": "ef20dd34df6998e0a50e394d59d58659",
          "grade": false,
          "grade_id": "cell-907b9348d7a2ebb3",
          "locked": false,
          "schema_version": 3,
          "solution": true,
          "task": false
        },
        "id": "f133nwpOLj1G"
      },
      "source": [
        "# get dim of image row vectors and save to input_dim by indexing the shape\n",
        "input_dim = X.shape[1] # aka 784\n",
        "\n",
        "# get number of unique labels and save to n_output_labels\n",
        "# np.unique will give us 10 labels\n",
        "n_output_labels = len(np.unique(y))\n",
        "\n",
        "# normalize image data to values between 0 and 1 (by dividing by max pixel value)\n",
        "max_pixel_value = X.max()\n",
        "X_scaled = X / max_pixel_value\n",
        "\n",
        "# YOUR CODE HERE\n"
      ],
      "execution_count": 18,
      "outputs": []
    },
    {
      "cell_type": "code",
      "source": [
        "# Values should range from 0 to 1\n",
        "X_scaled[0]"
      ],
      "metadata": {
        "colab": {
          "base_uri": "https://localhost:8080/"
        },
        "id": "fNDUtAVKDCp6",
        "outputId": "dbb6161c-933d-4926-b9b7-12970ec0dcc6"
      },
      "execution_count": 19,
      "outputs": [
        {
          "output_type": "execute_result",
          "data": {
            "text/plain": [
              "array([0.        , 0.        , 0.        , 0.        , 0.        ,\n",
              "       0.        , 0.        , 0.        , 0.        , 0.        ,\n",
              "       0.        , 0.        , 0.        , 0.        , 0.        ,\n",
              "       0.        , 0.        , 0.        , 0.        , 0.        ,\n",
              "       0.        , 0.        , 0.        , 0.        , 0.        ,\n",
              "       0.        , 0.        , 0.        , 0.        , 0.        ,\n",
              "       0.        , 0.        , 0.        , 0.        , 0.        ,\n",
              "       0.        , 0.        , 0.        , 0.        , 0.        ,\n",
              "       0.        , 0.        , 0.        , 0.01176471, 0.14117647,\n",
              "       0.29411765, 0.36862745, 0.4       , 0.4       , 0.09411765,\n",
              "       0.        , 0.        , 0.        , 0.        , 0.        ,\n",
              "       0.        , 0.        , 0.        , 0.        , 0.        ,\n",
              "       0.        , 0.        , 0.        , 0.        , 0.        ,\n",
              "       0.        , 0.        , 0.1372549 , 0.36470588, 0.58823529,\n",
              "       0.81176471, 0.97647059, 1.        , 1.        , 1.        ,\n",
              "       1.        , 1.        , 0.85098039, 0.00392157, 0.        ,\n",
              "       0.        , 0.        , 0.        , 0.        , 0.        ,\n",
              "       0.        , 0.        , 0.        , 0.        , 0.        ,\n",
              "       0.03137255, 0.23137255, 0.45490196, 0.68627451, 0.90980392,\n",
              "       1.        , 1.        , 0.92156863, 0.69803922, 0.5372549 ,\n",
              "       0.43137255, 0.24705882, 0.17254902, 0.06666667, 0.41960784,\n",
              "       1.        , 0.10588235, 0.        , 0.        , 0.        ,\n",
              "       0.        , 0.        , 0.        , 0.        , 0.        ,\n",
              "       0.        , 0.28627451, 0.77647059, 0.97647059, 1.        ,\n",
              "       0.99215686, 0.82745098, 0.65882353, 0.58039216, 0.58431373,\n",
              "       0.69803922, 0.88235294, 1.        , 1.        , 1.        ,\n",
              "       1.        , 0.78823529, 0.38431373, 1.        , 0.22352941,\n",
              "       0.        , 0.        , 0.        , 0.        , 0.        ,\n",
              "       0.        , 0.        , 0.        , 0.        , 0.57254902,\n",
              "       0.97647059, 0.50588235, 0.48627451, 0.71372549, 0.94509804,\n",
              "       1.        , 1.        , 0.97254902, 0.8       , 0.61176471,\n",
              "       0.42352941, 0.36078431, 0.4       , 0.44313725, 0.90196078,\n",
              "       0.8       , 1.        , 0.34117647, 0.        , 0.        ,\n",
              "       0.        , 0.        , 0.        , 0.        , 0.        ,\n",
              "       0.        , 0.        , 0.4627451 , 0.99215686, 0.09019608,\n",
              "       0.98823529, 0.90588235, 0.54901961, 0.35686275, 0.17254902,\n",
              "       0.01568627, 0.        , 0.        , 0.        , 0.        ,\n",
              "       0.        , 0.        , 0.52941176, 0.95686275, 0.99607843,\n",
              "       0.45490196, 0.        , 0.        , 0.        , 0.        ,\n",
              "       0.        , 0.        , 0.        , 0.        , 0.        ,\n",
              "       0.34901961, 1.        , 0.12941176, 0.85098039, 0.62352941,\n",
              "       0.        , 0.        , 0.        , 0.        , 0.        ,\n",
              "       0.        , 0.        , 0.        , 0.        , 0.        ,\n",
              "       0.51764706, 0.95686275, 0.90980392, 0.56862745, 0.        ,\n",
              "       0.        , 0.        , 0.        , 0.        , 0.        ,\n",
              "       0.        , 0.        , 0.        , 0.23529412, 1.        ,\n",
              "       0.24313725, 0.84313725, 0.63137255, 0.        , 0.        ,\n",
              "       0.        , 0.20392157, 0.34117647, 0.38823529, 0.09019608,\n",
              "       0.        , 0.        , 0.        , 0.51764706, 0.95686275,\n",
              "       0.79607843, 0.68627451, 0.        , 0.        , 0.        ,\n",
              "       0.        , 0.        , 0.        , 0.        , 0.        ,\n",
              "       0.        , 0.12156863, 1.        , 0.35686275, 0.83529412,\n",
              "       0.64313725, 0.        , 0.01960784, 0.65490196, 1.        ,\n",
              "       1.        , 1.        , 0.94117647, 0.18431373, 0.        ,\n",
              "       0.        , 0.51764706, 0.95686275, 0.67843137, 0.8       ,\n",
              "       0.        , 0.        , 0.        , 0.        , 0.        ,\n",
              "       0.        , 0.        , 0.        , 0.        , 0.01960784,\n",
              "       0.98823529, 0.47058824, 0.82352941, 0.65490196, 0.        ,\n",
              "       0.51764706, 0.99607843, 0.9254902 , 0.55686275, 0.95294118,\n",
              "       0.87843137, 0.74509804, 0.        , 0.        , 0.51764706,\n",
              "       0.95686275, 0.56470588, 0.91764706, 0.        , 0.        ,\n",
              "       0.        , 0.        , 0.        , 0.        , 0.        ,\n",
              "       0.        , 0.        , 0.        , 0.89803922, 0.58431373,\n",
              "       0.81176471, 0.66666667, 0.        , 0.76470588, 0.81568627,\n",
              "       0.99607843, 0.38039216, 0.99607843, 0.52941176, 0.98823529,\n",
              "       0.0745098 , 0.        , 0.51764706, 0.95686275, 0.45098039,\n",
              "       0.99607843, 0.03529412, 0.        , 0.        , 0.        ,\n",
              "       0.        , 0.        , 0.        , 0.        , 0.        ,\n",
              "       0.        , 0.78431373, 0.69803922, 0.80392157, 0.6745098 ,\n",
              "       0.        , 0.75686275, 0.79215686, 0.16078431, 0.00392157,\n",
              "       0.16470588, 0.29803922, 1.        , 0.18039216, 0.        ,\n",
              "       0.45490196, 0.99607843, 0.35294118, 1.        , 0.14901961,\n",
              "       0.        , 0.        , 0.        , 0.        , 0.        ,\n",
              "       0.        , 0.        , 0.        , 0.        , 0.67058824,\n",
              "       0.81176471, 0.79215686, 0.68235294, 0.        , 0.39215686,\n",
              "       1.        , 0.23137255, 0.82745098, 0.87058824, 0.81960784,\n",
              "       1.        , 0.18039216, 0.        , 0.34117647, 1.        ,\n",
              "       0.32156863, 1.        , 0.2627451 , 0.        , 0.        ,\n",
              "       0.        , 0.        , 0.        , 0.        , 0.        ,\n",
              "       0.        , 0.        , 0.55686275, 0.92156863, 0.78431373,\n",
              "       0.69411765, 0.        , 0.03529412, 0.89411765, 0.90980392,\n",
              "       0.56470588, 0.6       , 0.68627451, 1.        , 0.17647059,\n",
              "       0.        , 0.23137255, 1.        , 0.3372549 , 1.        ,\n",
              "       0.35686275, 0.        , 0.        , 0.        , 0.        ,\n",
              "       0.        , 0.        , 0.        , 0.        , 0.        ,\n",
              "       0.44313725, 1.        , 0.76862745, 0.72156863, 0.        ,\n",
              "       0.        , 0.13333333, 0.84313725, 0.98039216, 0.80392157,\n",
              "       0.94509804, 0.97254902, 0.06666667, 0.        , 0.11764706,\n",
              "       1.        , 0.41960784, 1.        , 0.39215686, 0.        ,\n",
              "       0.        , 0.        , 0.        , 0.        , 0.        ,\n",
              "       0.        , 0.        , 0.        , 0.32941176, 1.        ,\n",
              "       0.70588235, 0.83137255, 0.        , 0.        , 0.        ,\n",
              "       0.27058824, 0.87843137, 0.98431373, 1.        , 0.96078431,\n",
              "       0.56862745, 0.01960784, 0.01568627, 0.98823529, 0.49803922,\n",
              "       1.        , 0.42352941, 0.        , 0.        , 0.        ,\n",
              "       0.        , 0.        , 0.        , 0.        , 0.        ,\n",
              "       0.        , 0.23137255, 1.        , 0.63529412, 0.96470588,\n",
              "       0.00392157, 0.00392157, 0.5372549 , 0.98823529, 0.8627451 ,\n",
              "       0.54509804, 0.4       , 0.59215686, 0.99215686, 0.71372549,\n",
              "       0.02745098, 0.89803922, 0.59215686, 1.        , 0.45490196,\n",
              "       0.        , 0.        , 0.        , 0.        , 0.        ,\n",
              "       0.        , 0.        , 0.        , 0.        , 0.18431373,\n",
              "       1.        , 0.56470588, 1.        , 0.09411765, 0.37647059,\n",
              "       1.        , 0.57647059, 0.03921569, 0.        , 0.        ,\n",
              "       0.        , 0.35686275, 0.99607843, 0.47058824, 0.78823529,\n",
              "       0.69019608, 0.98823529, 0.48627451, 0.        , 0.        ,\n",
              "       0.        , 0.        , 0.        , 0.        , 0.        ,\n",
              "       0.        , 0.        , 0.1372549 , 1.        , 0.50980392,\n",
              "       1.        , 0.28235294, 0.92156863, 0.74117647, 0.00392157,\n",
              "       0.        , 0.        , 0.        , 0.        , 0.        ,\n",
              "       0.65882353, 0.94901961, 0.70196078, 0.80392157, 0.96078431,\n",
              "       0.51764706, 0.        , 0.        , 0.        , 0.        ,\n",
              "       0.        , 0.        , 0.        , 0.        , 0.        ,\n",
              "       0.09019608, 1.        , 0.4627451 , 1.        , 0.6745098 ,\n",
              "       0.98039216, 0.15294118, 0.        , 0.        , 0.        ,\n",
              "       0.        , 0.        , 0.        , 0.13333333, 0.99607843,\n",
              "       0.74901961, 0.91372549, 0.92941176, 0.54901961, 0.        ,\n",
              "       0.        , 0.        , 0.        , 0.        , 0.        ,\n",
              "       0.        , 0.        , 0.        , 0.03921569, 1.        ,\n",
              "       0.43921569, 0.92941176, 0.83137255, 0.91372549, 0.        ,\n",
              "       0.        , 0.        , 0.        , 0.        , 0.        ,\n",
              "       0.        , 0.        , 0.83529412, 0.82745098, 0.99607843,\n",
              "       0.89803922, 0.58039216, 0.        , 0.        , 0.        ,\n",
              "       0.        , 0.        , 0.        , 0.        , 0.        ,\n",
              "       0.        , 0.00392157, 0.98823529, 0.48235294, 0.58039216,\n",
              "       0.97647059, 0.92156863, 0.06666667, 0.06666667, 0.06666667,\n",
              "       0.06666667, 0.06666667, 0.06666667, 0.06666667, 0.06666667,\n",
              "       0.60784314, 0.96862745, 1.        , 0.87843137, 0.61176471,\n",
              "       0.        , 0.        , 0.        , 0.        , 0.        ,\n",
              "       0.        , 0.        , 0.        , 0.        , 0.        ,\n",
              "       0.94509804, 0.5254902 , 0.16470588, 0.97254902, 1.        ,\n",
              "       1.        , 1.        , 1.        , 1.        , 1.        ,\n",
              "       1.        , 1.        , 1.        , 1.        , 1.        ,\n",
              "       0.96470588, 0.83921569, 0.64705882, 0.        , 0.        ,\n",
              "       0.        , 0.        , 0.        , 0.        , 0.        ,\n",
              "       0.        , 0.        , 0.        , 0.89411765, 0.63137255,\n",
              "       0.16470588, 0.34901961, 0.52156863, 0.52156863, 0.55294118,\n",
              "       0.56078431, 0.56078431, 0.56862745, 0.6       , 0.56078431,\n",
              "       0.54117647, 0.52156863, 0.38039216, 0.18039216, 0.81176471,\n",
              "       0.68235294, 0.        , 0.        , 0.        , 0.        ,\n",
              "       0.        , 0.        , 0.        , 0.        , 0.        ,\n",
              "       0.01568627, 0.96470588, 1.        , 1.        , 1.        ,\n",
              "       1.        , 1.        , 1.        , 1.        , 1.        ,\n",
              "       1.        , 1.        , 1.        , 1.        , 1.        ,\n",
              "       1.        , 1.        , 1.        , 0.69803922, 0.        ,\n",
              "       0.        , 0.        , 0.        , 0.        , 0.        ,\n",
              "       0.        , 0.        , 0.        , 0.        , 0.24313725,\n",
              "       0.33333333, 0.33333333, 0.27058824, 0.26666667, 0.26666667,\n",
              "       0.24705882, 0.2       , 0.2       , 0.2       , 0.16470588,\n",
              "       0.2       , 0.23921569, 0.27058824, 0.33333333, 0.37254902,\n",
              "       0.4       , 0.18431373, 0.        , 0.        , 0.        ,\n",
              "       0.        , 0.        , 0.        , 0.        , 0.        ,\n",
              "       0.        , 0.        , 0.        , 0.        , 0.        ,\n",
              "       0.        , 0.        , 0.        , 0.        , 0.        ,\n",
              "       0.        , 0.        , 0.        , 0.        , 0.        ,\n",
              "       0.        , 0.        , 0.        , 0.        , 0.        ,\n",
              "       0.        , 0.        , 0.        , 0.        ])"
            ]
          },
          "metadata": {},
          "execution_count": 19
        }
      ]
    },
    {
      "cell_type": "code",
      "metadata": {
        "id": "vOufsWS3Lj1G"
      },
      "source": [
        "# a check on your data prep\n",
        "assert  X_scaled.max(), \"Max pixel value should be 1.0, make sure you normalize your data\""
      ],
      "execution_count": 20,
      "outputs": []
    },
    {
      "cell_type": "code",
      "source": [
        "input_dim"
      ],
      "metadata": {
        "colab": {
          "base_uri": "https://localhost:8080/"
        },
        "id": "8ytcTtz6Fwx9",
        "outputId": "7ab4768d-62b9-469a-a326-e867a7e376f4"
      },
      "execution_count": 24,
      "outputs": [
        {
          "output_type": "execute_result",
          "data": {
            "text/plain": [
              "784"
            ]
          },
          "metadata": {},
          "execution_count": 24
        }
      ]
    },
    {
      "cell_type": "code",
      "metadata": {
        "deletable": false,
        "id": "zHWblzsMyNkU",
        "nbgrader": {
          "cell_type": "code",
          "checksum": "f0ba174cb72f491f73c3aa7df8ae7ac4",
          "grade": false,
          "grade_id": "cell-b7c96fc46d86725f",
          "locked": false,
          "schema_version": 3,
          "solution": true,
          "task": false
        }
      },
      "source": [
        "# instantiate a sequential object and call it model, then add the layers to your model\n",
        "epochs = 20   # following instructions\n",
        "\n",
        "model = Sequential()\n",
        "\n",
        "model.add(\n",
        "    # Hidden layer 1, must provide input dimension\n",
        "    Dense(500, activation='sigmoid', input_dim=input_dim) # Never ever use softmax in hidden layers, always just for output layer\n",
        ")\n",
        "\n",
        "model.add(\n",
        "    # Hidden layer 2\n",
        "    Dense(250, activation='sigmoid') # num of nodes according to instructions\n",
        ")\n",
        "\n",
        "model.add(\n",
        "    # Hidden layer 3\n",
        "    Dense(100, activation='sigmoid')\n",
        ")\n",
        "\n",
        "model.add(\n",
        "    # Output layer\n",
        "    Dense(n_output_labels, activation='softmax') # From 500, 250, 100 and ultimately to 10 our output layer. Softmax is for multiclassification problem. We need 10 outputs.\n",
        ")\n",
        "\n",
        "# add a compile layer but don't fit your model yet\n",
        "model.compile(optimizer='sgd',\n",
        "              loss='sparse_categorical_crossentropy',\n",
        "              metrics=['accuracy'])\n",
        "\n",
        "# YOUR CODE HERE"
      ],
      "execution_count": 29,
      "outputs": []
    },
    {
      "cell_type": "code",
      "metadata": {
        "id": "ojLnGDklLj1H"
      },
      "source": [
        "# a check on your model architecture\n",
        "n_layers = len(model.get_config()[\"layers\"])\n",
        "assert n_layers == 5, \"You should have 5 layers: input, h1, h2, h3, and output\""
      ],
      "execution_count": 30,
      "outputs": []
    },
    {
      "cell_type": "code",
      "metadata": {
        "id": "wMK2_DtJLj1I",
        "colab": {
          "base_uri": "https://localhost:8080/"
        },
        "outputId": "7007bcde-a397-4dc5-ef9d-414ff2bd5674"
      },
      "source": [
        "# check out your model summary\n",
        "model.summary()"
      ],
      "execution_count": 31,
      "outputs": [
        {
          "output_type": "stream",
          "name": "stdout",
          "text": [
            "Model: \"sequential_1\"\n",
            "_________________________________________________________________\n",
            " Layer (type)                Output Shape              Param #   \n",
            "=================================================================\n",
            " dense_4 (Dense)             (None, 500)               392500    \n",
            "                                                                 \n",
            " dense_5 (Dense)             (None, 250)               125250    \n",
            "                                                                 \n",
            " dense_6 (Dense)             (None, 100)               25100     \n",
            "                                                                 \n",
            " dense_7 (Dense)             (None, 10)                1010      \n",
            "                                                                 \n",
            "=================================================================\n",
            "Total params: 543860 (2.07 MB)\n",
            "Trainable params: 543860 (2.07 MB)\n",
            "Non-trainable params: 0 (0.00 Byte)\n",
            "_________________________________________________________________\n"
          ]
        }
      ]
    },
    {
      "cell_type": "code",
      "source": [
        "# Param # 392500 = 784 x 500 + 500 <-- the addition+ in every step is the bias\n",
        "# param # 125250 = 500 x 250 + 250\n",
        "# param # 25100 = 250 x 100 + 100\n",
        "# param # 1010 = 100 x 10 + 10"
      ],
      "metadata": {
        "id": "oTrAVnZIHYlP"
      },
      "execution_count": 27,
      "outputs": []
    },
    {
      "cell_type": "code",
      "metadata": {
        "id": "DXTSbEiyLj1I",
        "colab": {
          "base_uri": "https://localhost:8080/"
        },
        "outputId": "1cae6575-96a4-4599-d007-bdf7d1cf3faa"
      },
      "source": [
        "# fit your model and save training results to history\n",
        "history = model.fit(X_scaled, y,\n",
        "                    epochs=epochs,\n",
        "                    # a held-out validation set will be generated within the model\n",
        "                    validation_split=0.2\n",
        "                   )"
      ],
      "execution_count": 32,
      "outputs": [
        {
          "output_type": "stream",
          "name": "stdout",
          "text": [
            "Epoch 1/20\n",
            "2500/2500 [==============================] - 21s 8ms/step - loss: 2.2924 - accuracy: 0.1377 - val_loss: 2.2721 - val_accuracy: 0.2303\n",
            "Epoch 2/20\n",
            "2500/2500 [==============================] - 20s 8ms/step - loss: 2.2243 - accuracy: 0.2899 - val_loss: 2.1328 - val_accuracy: 0.4101\n",
            "Epoch 3/20\n",
            "2500/2500 [==============================] - 19s 8ms/step - loss: 1.9035 - accuracy: 0.4364 - val_loss: 1.6886 - val_accuracy: 0.4888\n",
            "Epoch 4/20\n",
            "2500/2500 [==============================] - 20s 8ms/step - loss: 1.5458 - accuracy: 0.5273 - val_loss: 1.4256 - val_accuracy: 0.5335\n",
            "Epoch 5/20\n",
            "2500/2500 [==============================] - 19s 8ms/step - loss: 1.3276 - accuracy: 0.5925 - val_loss: 1.2486 - val_accuracy: 0.6172\n",
            "Epoch 6/20\n",
            "2500/2500 [==============================] - 20s 8ms/step - loss: 1.1855 - accuracy: 0.6346 - val_loss: 1.1358 - val_accuracy: 0.6464\n",
            "Epoch 7/20\n",
            "2500/2500 [==============================] - 19s 8ms/step - loss: 1.0783 - accuracy: 0.6724 - val_loss: 1.0411 - val_accuracy: 0.6888\n",
            "Epoch 8/20\n",
            "2500/2500 [==============================] - 19s 8ms/step - loss: 0.9993 - accuracy: 0.6978 - val_loss: 0.9830 - val_accuracy: 0.7084\n",
            "Epoch 9/20\n",
            "2500/2500 [==============================] - 19s 8ms/step - loss: 0.9530 - accuracy: 0.7124 - val_loss: 0.9480 - val_accuracy: 0.7174\n",
            "Epoch 10/20\n",
            "2500/2500 [==============================] - 19s 8ms/step - loss: 0.9226 - accuracy: 0.7232 - val_loss: 0.9246 - val_accuracy: 0.7269\n",
            "Epoch 11/20\n",
            "2500/2500 [==============================] - 20s 8ms/step - loss: 0.8998 - accuracy: 0.7307 - val_loss: 0.9054 - val_accuracy: 0.7334\n",
            "Epoch 12/20\n",
            "2500/2500 [==============================] - 18s 7ms/step - loss: 0.8812 - accuracy: 0.7364 - val_loss: 0.8903 - val_accuracy: 0.7336\n",
            "Epoch 13/20\n",
            "2500/2500 [==============================] - 19s 8ms/step - loss: 0.8647 - accuracy: 0.7420 - val_loss: 0.8744 - val_accuracy: 0.7419\n",
            "Epoch 14/20\n",
            "2500/2500 [==============================] - 20s 8ms/step - loss: 0.8499 - accuracy: 0.7475 - val_loss: 0.8603 - val_accuracy: 0.7433\n",
            "Epoch 15/20\n",
            "2500/2500 [==============================] - 19s 8ms/step - loss: 0.8355 - accuracy: 0.7516 - val_loss: 0.8461 - val_accuracy: 0.7502\n",
            "Epoch 16/20\n",
            "2500/2500 [==============================] - 19s 8ms/step - loss: 0.8218 - accuracy: 0.7566 - val_loss: 0.8364 - val_accuracy: 0.7527\n",
            "Epoch 17/20\n",
            "2500/2500 [==============================] - 20s 8ms/step - loss: 0.8082 - accuracy: 0.7597 - val_loss: 0.8242 - val_accuracy: 0.7573\n",
            "Epoch 18/20\n",
            "2500/2500 [==============================] - 19s 8ms/step - loss: 0.7958 - accuracy: 0.7638 - val_loss: 0.8133 - val_accuracy: 0.7602\n",
            "Epoch 19/20\n",
            "2500/2500 [==============================] - 23s 9ms/step - loss: 0.7840 - accuracy: 0.7676 - val_loss: 0.8012 - val_accuracy: 0.7606\n",
            "Epoch 20/20\n",
            "2500/2500 [==============================] - 19s 8ms/step - loss: 0.7732 - accuracy: 0.7705 - val_loss: 0.7925 - val_accuracy: 0.7628\n"
          ]
        }
      ]
    },
    {
      "cell_type": "markdown",
      "metadata": {
        "id": "b0QJURWh-9uv"
      },
      "source": [
        "----\n",
        "### Visualize the Results\n",
        "\n",
        "- Move results in `history` to a dataframe.\n",
        "- Use [**Seaborn**](https://seaborn.pydata.org/generated/seaborn.lineplot.html) to create line plots for both loss and accuracy by epoch.\n",
        "- Analyze the results and write a couple of observations.\n",
        "\n",
        "At what point should we have stopped training the model and why?"
      ]
    },
    {
      "cell_type": "code",
      "metadata": {
        "deletable": false,
        "id": "ijAlzfYKAFaY",
        "nbgrader": {
          "cell_type": "code",
          "checksum": "6ef8cde40701c2ef57cf853b19455125",
          "grade": false,
          "grade_id": "cell-16e647cfc3291a01",
          "locked": false,
          "schema_version": 3,
          "solution": true,
          "task": false
        }
      },
      "source": [
        "# YOUR CODE HERE\n",
        "# Move results in history (name of model) in a dataframe and call that dataframe 'df'\n",
        "df = pd.DataFrame.from_records(history.history)\n",
        "n_rows = df.shape[0]\n",
        "\n",
        "# Shift the index up by one for plotting epochs, from 0, 1, 2, 3 to 1, 2, 3, 4 etc.\n",
        "df.index = [i for i in range(1, n_rows + 1)]"
      ],
      "execution_count": 34,
      "outputs": []
    },
    {
      "cell_type": "code",
      "source": [
        "history.history # dictionary of loos, accuracy, val_accuracy, val_loss"
      ],
      "metadata": {
        "colab": {
          "base_uri": "https://localhost:8080/"
        },
        "id": "laPk881RL_lZ",
        "outputId": "f207cdad-4454-4c3c-cc50-2ee462af1962"
      },
      "execution_count": 38,
      "outputs": [
        {
          "output_type": "execute_result",
          "data": {
            "text/plain": [
              "{'loss': [2.292438268661499,\n",
              "  2.2243049144744873,\n",
              "  1.9035265445709229,\n",
              "  1.5458341836929321,\n",
              "  1.32755446434021,\n",
              "  1.1854687929153442,\n",
              "  1.0782846212387085,\n",
              "  0.9993098378181458,\n",
              "  0.9530175924301147,\n",
              "  0.922606348991394,\n",
              "  0.8997883796691895,\n",
              "  0.8811525106430054,\n",
              "  0.86474609375,\n",
              "  0.8498825430870056,\n",
              "  0.8354883790016174,\n",
              "  0.8217887878417969,\n",
              "  0.8082087635993958,\n",
              "  0.7957922220230103,\n",
              "  0.7840147018432617,\n",
              "  0.77318274974823],\n",
              " 'accuracy': [0.13773749768733978,\n",
              "  0.28987500071525574,\n",
              "  0.436412513256073,\n",
              "  0.5273374915122986,\n",
              "  0.5925499796867371,\n",
              "  0.6345624923706055,\n",
              "  0.6723999977111816,\n",
              "  0.6977875232696533,\n",
              "  0.7123500108718872,\n",
              "  0.7232375144958496,\n",
              "  0.7306625247001648,\n",
              "  0.7363625168800354,\n",
              "  0.7419750094413757,\n",
              "  0.7475374937057495,\n",
              "  0.7515875101089478,\n",
              "  0.7566124796867371,\n",
              "  0.759737491607666,\n",
              "  0.7637624740600586,\n",
              "  0.7675750255584717,\n",
              "  0.7705374956130981],\n",
              " 'val_loss': [2.2720937728881836,\n",
              "  2.1328439712524414,\n",
              "  1.6885937452316284,\n",
              "  1.4256314039230347,\n",
              "  1.2486023902893066,\n",
              "  1.1357967853546143,\n",
              "  1.0411291122436523,\n",
              "  0.9829995036125183,\n",
              "  0.947961151599884,\n",
              "  0.9246396422386169,\n",
              "  0.9053909182548523,\n",
              "  0.8902780413627625,\n",
              "  0.8743529319763184,\n",
              "  0.860346794128418,\n",
              "  0.8461011648178101,\n",
              "  0.8364453911781311,\n",
              "  0.8241544961929321,\n",
              "  0.8133256435394287,\n",
              "  0.8011580109596252,\n",
              "  0.7924911379814148],\n",
              " 'val_accuracy': [0.23029999434947968,\n",
              "  0.4101000130176544,\n",
              "  0.4888499975204468,\n",
              "  0.5335000157356262,\n",
              "  0.6172000169754028,\n",
              "  0.646399974822998,\n",
              "  0.6887500286102295,\n",
              "  0.7083500027656555,\n",
              "  0.7174000144004822,\n",
              "  0.7268999814987183,\n",
              "  0.7334499955177307,\n",
              "  0.7335500121116638,\n",
              "  0.7419499754905701,\n",
              "  0.7433000206947327,\n",
              "  0.750249981880188,\n",
              "  0.7526500225067139,\n",
              "  0.7572500109672546,\n",
              "  0.7602499723434448,\n",
              "  0.7605500221252441,\n",
              "  0.7628499865531921]}"
            ]
          },
          "metadata": {},
          "execution_count": 38
        }
      ]
    },
    {
      "cell_type": "code",
      "source": [
        "df.shape # each row is one epoch, total of 20, 4 columns"
      ],
      "metadata": {
        "colab": {
          "base_uri": "https://localhost:8080/"
        },
        "id": "jfF5saw_LWbR",
        "outputId": "29035aed-a60e-4e6d-92fe-b4c3ba564216"
      },
      "execution_count": 35,
      "outputs": [
        {
          "output_type": "execute_result",
          "data": {
            "text/plain": [
              "(20, 4)"
            ]
          },
          "metadata": {},
          "execution_count": 35
        }
      ]
    },
    {
      "cell_type": "code",
      "source": [
        "df.head()"
      ],
      "metadata": {
        "colab": {
          "base_uri": "https://localhost:8080/",
          "height": 206
        },
        "id": "Cn_LjuEILiZE",
        "outputId": "8acad158-f1c1-4db9-de82-ad807f2dc8b6"
      },
      "execution_count": 37,
      "outputs": [
        {
          "output_type": "execute_result",
          "data": {
            "text/plain": [
              "   accuracy      loss  val_accuracy  val_loss\n",
              "1  0.137737  2.292438       0.23030  2.272094\n",
              "2  0.289875  2.224305       0.41010  2.132844\n",
              "3  0.436413  1.903527       0.48885  1.688594\n",
              "4  0.527337  1.545834       0.53350  1.425631\n",
              "5  0.592550  1.327554       0.61720  1.248602"
            ],
            "text/html": [
              "\n",
              "  <div id=\"df-34e12809-37d9-4136-b2c2-8e9158e981e7\" class=\"colab-df-container\">\n",
              "    <div>\n",
              "<style scoped>\n",
              "    .dataframe tbody tr th:only-of-type {\n",
              "        vertical-align: middle;\n",
              "    }\n",
              "\n",
              "    .dataframe tbody tr th {\n",
              "        vertical-align: top;\n",
              "    }\n",
              "\n",
              "    .dataframe thead th {\n",
              "        text-align: right;\n",
              "    }\n",
              "</style>\n",
              "<table border=\"1\" class=\"dataframe\">\n",
              "  <thead>\n",
              "    <tr style=\"text-align: right;\">\n",
              "      <th></th>\n",
              "      <th>accuracy</th>\n",
              "      <th>loss</th>\n",
              "      <th>val_accuracy</th>\n",
              "      <th>val_loss</th>\n",
              "    </tr>\n",
              "  </thead>\n",
              "  <tbody>\n",
              "    <tr>\n",
              "      <th>1</th>\n",
              "      <td>0.137737</td>\n",
              "      <td>2.292438</td>\n",
              "      <td>0.23030</td>\n",
              "      <td>2.272094</td>\n",
              "    </tr>\n",
              "    <tr>\n",
              "      <th>2</th>\n",
              "      <td>0.289875</td>\n",
              "      <td>2.224305</td>\n",
              "      <td>0.41010</td>\n",
              "      <td>2.132844</td>\n",
              "    </tr>\n",
              "    <tr>\n",
              "      <th>3</th>\n",
              "      <td>0.436413</td>\n",
              "      <td>1.903527</td>\n",
              "      <td>0.48885</td>\n",
              "      <td>1.688594</td>\n",
              "    </tr>\n",
              "    <tr>\n",
              "      <th>4</th>\n",
              "      <td>0.527337</td>\n",
              "      <td>1.545834</td>\n",
              "      <td>0.53350</td>\n",
              "      <td>1.425631</td>\n",
              "    </tr>\n",
              "    <tr>\n",
              "      <th>5</th>\n",
              "      <td>0.592550</td>\n",
              "      <td>1.327554</td>\n",
              "      <td>0.61720</td>\n",
              "      <td>1.248602</td>\n",
              "    </tr>\n",
              "  </tbody>\n",
              "</table>\n",
              "</div>\n",
              "    <div class=\"colab-df-buttons\">\n",
              "\n",
              "  <div class=\"colab-df-container\">\n",
              "    <button class=\"colab-df-convert\" onclick=\"convertToInteractive('df-34e12809-37d9-4136-b2c2-8e9158e981e7')\"\n",
              "            title=\"Convert this dataframe to an interactive table.\"\n",
              "            style=\"display:none;\">\n",
              "\n",
              "  <svg xmlns=\"http://www.w3.org/2000/svg\" height=\"24px\" viewBox=\"0 -960 960 960\">\n",
              "    <path d=\"M120-120v-720h720v720H120Zm60-500h600v-160H180v160Zm220 220h160v-160H400v160Zm0 220h160v-160H400v160ZM180-400h160v-160H180v160Zm440 0h160v-160H620v160ZM180-180h160v-160H180v160Zm440 0h160v-160H620v160Z\"/>\n",
              "  </svg>\n",
              "    </button>\n",
              "\n",
              "  <style>\n",
              "    .colab-df-container {\n",
              "      display:flex;\n",
              "      gap: 12px;\n",
              "    }\n",
              "\n",
              "    .colab-df-convert {\n",
              "      background-color: #E8F0FE;\n",
              "      border: none;\n",
              "      border-radius: 50%;\n",
              "      cursor: pointer;\n",
              "      display: none;\n",
              "      fill: #1967D2;\n",
              "      height: 32px;\n",
              "      padding: 0 0 0 0;\n",
              "      width: 32px;\n",
              "    }\n",
              "\n",
              "    .colab-df-convert:hover {\n",
              "      background-color: #E2EBFA;\n",
              "      box-shadow: 0px 1px 2px rgba(60, 64, 67, 0.3), 0px 1px 3px 1px rgba(60, 64, 67, 0.15);\n",
              "      fill: #174EA6;\n",
              "    }\n",
              "\n",
              "    .colab-df-buttons div {\n",
              "      margin-bottom: 4px;\n",
              "    }\n",
              "\n",
              "    [theme=dark] .colab-df-convert {\n",
              "      background-color: #3B4455;\n",
              "      fill: #D2E3FC;\n",
              "    }\n",
              "\n",
              "    [theme=dark] .colab-df-convert:hover {\n",
              "      background-color: #434B5C;\n",
              "      box-shadow: 0px 1px 3px 1px rgba(0, 0, 0, 0.15);\n",
              "      filter: drop-shadow(0px 1px 2px rgba(0, 0, 0, 0.3));\n",
              "      fill: #FFFFFF;\n",
              "    }\n",
              "  </style>\n",
              "\n",
              "    <script>\n",
              "      const buttonEl =\n",
              "        document.querySelector('#df-34e12809-37d9-4136-b2c2-8e9158e981e7 button.colab-df-convert');\n",
              "      buttonEl.style.display =\n",
              "        google.colab.kernel.accessAllowed ? 'block' : 'none';\n",
              "\n",
              "      async function convertToInteractive(key) {\n",
              "        const element = document.querySelector('#df-34e12809-37d9-4136-b2c2-8e9158e981e7');\n",
              "        const dataTable =\n",
              "          await google.colab.kernel.invokeFunction('convertToInteractive',\n",
              "                                                    [key], {});\n",
              "        if (!dataTable) return;\n",
              "\n",
              "        const docLinkHtml = 'Like what you see? Visit the ' +\n",
              "          '<a target=\"_blank\" href=https://colab.research.google.com/notebooks/data_table.ipynb>data table notebook</a>'\n",
              "          + ' to learn more about interactive tables.';\n",
              "        element.innerHTML = '';\n",
              "        dataTable['output_type'] = 'display_data';\n",
              "        await google.colab.output.renderOutput(dataTable, element);\n",
              "        const docLink = document.createElement('div');\n",
              "        docLink.innerHTML = docLinkHtml;\n",
              "        element.appendChild(docLink);\n",
              "      }\n",
              "    </script>\n",
              "  </div>\n",
              "\n",
              "\n",
              "<div id=\"df-38c5050c-593a-42e8-956f-c1ce1dbcce44\">\n",
              "  <button class=\"colab-df-quickchart\" onclick=\"quickchart('df-38c5050c-593a-42e8-956f-c1ce1dbcce44')\"\n",
              "            title=\"Suggest charts\"\n",
              "            style=\"display:none;\">\n",
              "\n",
              "<svg xmlns=\"http://www.w3.org/2000/svg\" height=\"24px\"viewBox=\"0 0 24 24\"\n",
              "     width=\"24px\">\n",
              "    <g>\n",
              "        <path d=\"M19 3H5c-1.1 0-2 .9-2 2v14c0 1.1.9 2 2 2h14c1.1 0 2-.9 2-2V5c0-1.1-.9-2-2-2zM9 17H7v-7h2v7zm4 0h-2V7h2v10zm4 0h-2v-4h2v4z\"/>\n",
              "    </g>\n",
              "</svg>\n",
              "  </button>\n",
              "\n",
              "<style>\n",
              "  .colab-df-quickchart {\n",
              "      --bg-color: #E8F0FE;\n",
              "      --fill-color: #1967D2;\n",
              "      --hover-bg-color: #E2EBFA;\n",
              "      --hover-fill-color: #174EA6;\n",
              "      --disabled-fill-color: #AAA;\n",
              "      --disabled-bg-color: #DDD;\n",
              "  }\n",
              "\n",
              "  [theme=dark] .colab-df-quickchart {\n",
              "      --bg-color: #3B4455;\n",
              "      --fill-color: #D2E3FC;\n",
              "      --hover-bg-color: #434B5C;\n",
              "      --hover-fill-color: #FFFFFF;\n",
              "      --disabled-bg-color: #3B4455;\n",
              "      --disabled-fill-color: #666;\n",
              "  }\n",
              "\n",
              "  .colab-df-quickchart {\n",
              "    background-color: var(--bg-color);\n",
              "    border: none;\n",
              "    border-radius: 50%;\n",
              "    cursor: pointer;\n",
              "    display: none;\n",
              "    fill: var(--fill-color);\n",
              "    height: 32px;\n",
              "    padding: 0;\n",
              "    width: 32px;\n",
              "  }\n",
              "\n",
              "  .colab-df-quickchart:hover {\n",
              "    background-color: var(--hover-bg-color);\n",
              "    box-shadow: 0 1px 2px rgba(60, 64, 67, 0.3), 0 1px 3px 1px rgba(60, 64, 67, 0.15);\n",
              "    fill: var(--button-hover-fill-color);\n",
              "  }\n",
              "\n",
              "  .colab-df-quickchart-complete:disabled,\n",
              "  .colab-df-quickchart-complete:disabled:hover {\n",
              "    background-color: var(--disabled-bg-color);\n",
              "    fill: var(--disabled-fill-color);\n",
              "    box-shadow: none;\n",
              "  }\n",
              "\n",
              "  .colab-df-spinner {\n",
              "    border: 2px solid var(--fill-color);\n",
              "    border-color: transparent;\n",
              "    border-bottom-color: var(--fill-color);\n",
              "    animation:\n",
              "      spin 1s steps(1) infinite;\n",
              "  }\n",
              "\n",
              "  @keyframes spin {\n",
              "    0% {\n",
              "      border-color: transparent;\n",
              "      border-bottom-color: var(--fill-color);\n",
              "      border-left-color: var(--fill-color);\n",
              "    }\n",
              "    20% {\n",
              "      border-color: transparent;\n",
              "      border-left-color: var(--fill-color);\n",
              "      border-top-color: var(--fill-color);\n",
              "    }\n",
              "    30% {\n",
              "      border-color: transparent;\n",
              "      border-left-color: var(--fill-color);\n",
              "      border-top-color: var(--fill-color);\n",
              "      border-right-color: var(--fill-color);\n",
              "    }\n",
              "    40% {\n",
              "      border-color: transparent;\n",
              "      border-right-color: var(--fill-color);\n",
              "      border-top-color: var(--fill-color);\n",
              "    }\n",
              "    60% {\n",
              "      border-color: transparent;\n",
              "      border-right-color: var(--fill-color);\n",
              "    }\n",
              "    80% {\n",
              "      border-color: transparent;\n",
              "      border-right-color: var(--fill-color);\n",
              "      border-bottom-color: var(--fill-color);\n",
              "    }\n",
              "    90% {\n",
              "      border-color: transparent;\n",
              "      border-bottom-color: var(--fill-color);\n",
              "    }\n",
              "  }\n",
              "</style>\n",
              "\n",
              "  <script>\n",
              "    async function quickchart(key) {\n",
              "      const quickchartButtonEl =\n",
              "        document.querySelector('#' + key + ' button');\n",
              "      quickchartButtonEl.disabled = true;  // To prevent multiple clicks.\n",
              "      quickchartButtonEl.classList.add('colab-df-spinner');\n",
              "      try {\n",
              "        const charts = await google.colab.kernel.invokeFunction(\n",
              "            'suggestCharts', [key], {});\n",
              "      } catch (error) {\n",
              "        console.error('Error during call to suggestCharts:', error);\n",
              "      }\n",
              "      quickchartButtonEl.classList.remove('colab-df-spinner');\n",
              "      quickchartButtonEl.classList.add('colab-df-quickchart-complete');\n",
              "    }\n",
              "    (() => {\n",
              "      let quickchartButtonEl =\n",
              "        document.querySelector('#df-38c5050c-593a-42e8-956f-c1ce1dbcce44 button');\n",
              "      quickchartButtonEl.style.display =\n",
              "        google.colab.kernel.accessAllowed ? 'block' : 'none';\n",
              "    })();\n",
              "  </script>\n",
              "</div>\n",
              "\n",
              "    </div>\n",
              "  </div>\n"
            ],
            "application/vnd.google.colaboratory.intrinsic+json": {
              "type": "dataframe",
              "variable_name": "df",
              "summary": "{\n  \"name\": \"df\",\n  \"rows\": 20,\n  \"fields\": [\n    {\n      \"column\": \"accuracy\",\n      \"properties\": {\n        \"dtype\": \"number\",\n        \"std\": 0.17399086297227204,\n        \"min\": 0.13773749768733978,\n        \"max\": 0.7705374956130981,\n        \"num_unique_values\": 20,\n        \"samples\": [\n          0.13773749768733978,\n          0.7637624740600586,\n          0.7566124796867371\n        ],\n        \"semantic_type\": \"\",\n        \"description\": \"\"\n      }\n    },\n    {\n      \"column\": \"loss\",\n      \"properties\": {\n        \"dtype\": \"number\",\n        \"std\": 0.47919327197927997,\n        \"min\": 0.77318274974823,\n        \"max\": 2.292438268661499,\n        \"num_unique_values\": 20,\n        \"samples\": [\n          2.292438268661499,\n          0.7957922220230103,\n          0.8217887878417969\n        ],\n        \"semantic_type\": \"\",\n        \"description\": \"\"\n      }\n    },\n    {\n      \"column\": \"val_accuracy\",\n      \"properties\": {\n        \"dtype\": \"number\",\n        \"std\": 0.14262924572951033,\n        \"min\": 0.23029999434947968,\n        \"max\": 0.7628499865531921,\n        \"num_unique_values\": 20,\n        \"samples\": [\n          0.23029999434947968,\n          0.7602499723434448,\n          0.7526500225067139\n        ],\n        \"semantic_type\": \"\",\n        \"description\": \"\"\n      }\n    },\n    {\n      \"column\": \"val_loss\",\n      \"properties\": {\n        \"dtype\": \"number\",\n        \"std\": 0.43834155129332936,\n        \"min\": 0.7924911379814148,\n        \"max\": 2.2720937728881836,\n        \"num_unique_values\": 20,\n        \"samples\": [\n          2.2720937728881836,\n          0.8133256435394287,\n          0.8364453911781311\n        ],\n        \"semantic_type\": \"\",\n        \"description\": \"\"\n      }\n    }\n  ]\n}"
            }
          },
          "metadata": {},
          "execution_count": 37
        }
      ]
    },
    {
      "cell_type": "code",
      "metadata": {
        "id": "jFTzaMcALj1J"
      },
      "source": [
        "# a check on our model training\n",
        "assert df.shape[0] == 20, \"df should have the training results from 20 epochs\""
      ],
      "execution_count": 36,
      "outputs": []
    },
    {
      "cell_type": "code",
      "metadata": {
        "deletable": false,
        "nbgrader": {
          "cell_type": "code",
          "checksum": "424d241660318a72ecda935be10485d7",
          "grade": false,
          "grade_id": "cell-96dba18873c4cffc",
          "locked": false,
          "schema_version": 3,
          "solution": true,
          "task": false
        },
        "id": "i6NnocuJLj1J",
        "colab": {
          "base_uri": "https://localhost:8080/",
          "height": 333
        },
        "outputId": "9318c432-5dba-4c82-958c-d92a395c6d54"
      },
      "source": [
        "# use seaborn to plot loss and accuracy metrics\n",
        "\n",
        "# YOUR CODE HERE\n",
        "plot_cols = ['loss', 'val_loss']\n",
        "df[plot_cols].plot(figsize=(10,3), grid=True);\n",
        "\n",
        "plt.title(\"Model Loss vs Epoch\");\n",
        "plt.xlabel(\"Epochs\");\n",
        "plt.ylabel(\"Validation Loss\");\n",
        "plt.xticks(df.index);\n"
      ],
      "execution_count": 39,
      "outputs": [
        {
          "output_type": "display_data",
          "data": {
            "text/plain": [
              "<Figure size 1000x300 with 1 Axes>"
            ],
            "image/png": "[encoded data removed]"
          },
          "metadata": {}
        }
      ]
    },
    {
      "cell_type": "markdown",
      "metadata": {
        "id": "GmjyuTlrLj1K"
      },
      "source": [
        "### Observations\n",
        "\n",
        "Based on the plot of the training and validation loss, answer the following questions."
      ]
    },
    {
      "cell_type": "markdown",
      "metadata": {
        "id": "NF_mrNmPLj1K"
      },
      "source": [
        "**Was our model able to learn throughout the 20 epochs? Why or why not?**"
      ]
    },
    {
      "cell_type": "markdown",
      "metadata": {
        "deletable": false,
        "nbgrader": {
          "cell_type": "markdown",
          "checksum": "b7713eb32ad3a910a58dfdb9494a9db3",
          "grade": true,
          "grade_id": "cell-820990a8232a858a",
          "locked": false,
          "points": 0,
          "schema_version": 3,
          "solution": true,
          "task": false
        },
        "id": "yL42yLWELj1K"
      },
      "source": [
        "Yes, due to drop in loss from 2.3 during first epoch down to 0.8 in the last one."
      ]
    },
    {
      "cell_type": "markdown",
      "metadata": {
        "id": "_xKObFanLj1K"
      },
      "source": [
        "**Is our model overfitting? Why or why not?**"
      ]
    },
    {
      "cell_type": "markdown",
      "metadata": {
        "deletable": false,
        "nbgrader": {
          "cell_type": "markdown",
          "checksum": "1d30c64465cd35081d70578c20ecf96d",
          "grade": true,
          "grade_id": "cell-33868e7ef6e401b5",
          "locked": false,
          "points": 0,
          "schema_version": 3,
          "solution": true,
          "task": false
        },
        "id": "rx7xa4Z1Lj1L"
      },
      "source": [
        "No, because the gap between the training and val curves is narrow. A large gap would indicate big difference in training and val scores."
      ]
    },
    {
      "cell_type": "markdown",
      "metadata": {
        "id": "FIvb1mftLj1L"
      },
      "source": [
        "**Could the model score benefit from additional epochs? Why or why not?**"
      ]
    },
    {
      "cell_type": "markdown",
      "metadata": {
        "deletable": false,
        "nbgrader": {
          "cell_type": "markdown",
          "checksum": "0fc2208e2c78461578fc7a05224066b8",
          "grade": true,
          "grade_id": "cell-5c883f0a3161e469",
          "locked": false,
          "points": 0,
          "schema_version": 3,
          "solution": true,
          "task": false
        },
        "id": "Ww1hBmfMLj1L"
      },
      "source": [
        "No because the loss curve at the end tapers out, so having more epochs wouldn't decrease the loss by any further. If we really want to further refine the model to decrease loss, we might need to try something else like a different activation fuction or a different optimizer."
      ]
    },
    {
      "cell_type": "markdown",
      "metadata": {
        "id": "MAhBrcE4yOZe"
      },
      "source": [
        "-----\n",
        "## Change Optimizers\n",
        "\n",
        "Let's compare model performance between different optimizers.\n",
        "- Build a new model, identical to the last one but using `adam` for the optimizer.\n",
        "- Train (fit) the model\n",
        "- Save the modeling results to adam_history, so we don't erase the results from the previous model run\n",
        "- Visualize the training results just as we did for the last model.\n",
        "- **Adam means adaptive gradient descent**\n"
      ]
    },
    {
      "cell_type": "code",
      "metadata": {
        "deletable": false,
        "id": "jIW_spOZ0cxy",
        "nbgrader": {
          "cell_type": "code",
          "checksum": "6d30d8c6f4521861a77c9ef04dbde904",
          "grade": false,
          "grade_id": "cell-56663c8a5e75b71f",
          "locked": false,
          "schema_version": 3,
          "solution": true,
          "task": false
        }
      },
      "source": [
        "# train the same model as above but use the sgd optimizer if you used adam previously (or use adam if you used sgd previously)\n",
        "\n",
        "# YOUR CODE HERE\n",
        "epochs = 20   # following instructions\n",
        "\n",
        "model = Sequential()\n",
        "\n",
        "model.add(\n",
        "    # Hidden layer 1, must provide input dimension\n",
        "    Dense(500, activation='sigmoid', input_dim=input_dim) # Never ever use softmax in hidden layers, always just for output layer\n",
        ")\n",
        "\n",
        "model.add(\n",
        "    # Hidden layer 2\n",
        "    Dense(250, activation='sigmoid') # num of nodes according to instructions\n",
        ")\n",
        "\n",
        "model.add(\n",
        "    # Hidden layer 3\n",
        "    Dense(100, activation='sigmoid')\n",
        ")\n",
        "\n",
        "model.add(\n",
        "    # Output layer\n",
        "    Dense(n_output_labels, activation='softmax') # From 500, 250, 100 and ultimately to 10 our output layer. Softmax is for multiclassification problem. We need 10 outputs.\n",
        ")\n",
        "\n",
        "# add a compile layer but don't fit your model yet\n",
        "model.compile(optimizer='adam',    # everything is the same as previous model except for this, changing from sgd to adam\n",
        "              loss='sparse_categorical_crossentropy',\n",
        "              metrics=['accuracy'])"
      ],
      "execution_count": 40,
      "outputs": []
    },
    {
      "cell_type": "code",
      "metadata": {
        "id": "u9DQypQOLj1L"
      },
      "source": [
        "# a check that we're using the correct optimizer in this model\n",
        "opt_name = model.optimizer.get_config()[\"name\"]\n",
        "assert opt_name == \"Adam\", \"you need to use adam for the optimizer in this model.\""
      ],
      "execution_count": 41,
      "outputs": []
    },
    {
      "cell_type": "code",
      "source": [
        "# fit your model and save training results to history\n",
        "adam_history = model.fit(X_scaled, y,    # name a different name for the model\n",
        "                    epochs=epochs,\n",
        "                    # a held-out validation set will be generated within the model\n",
        "                    validation_split=0.2\n",
        "                   )"
      ],
      "metadata": {
        "colab": {
          "base_uri": "https://localhost:8080/"
        },
        "id": "NQA9HltuOmM_",
        "outputId": "46e05111-1042-4ea3-da86-fc5f4a02c4d6"
      },
      "execution_count": 43,
      "outputs": [
        {
          "output_type": "stream",
          "name": "stdout",
          "text": [
            "Epoch 1/20\n",
            "2500/2500 [==============================] - 36s 14ms/step - loss: 0.2697 - accuracy: 0.9185 - val_loss: 0.4104 - val_accuracy: 0.8808\n",
            "Epoch 2/20\n",
            "2500/2500 [==============================] - 40s 16ms/step - loss: 0.2324 - accuracy: 0.9305 - val_loss: 0.4334 - val_accuracy: 0.8802\n",
            "Epoch 3/20\n",
            "2500/2500 [==============================] - 48s 19ms/step - loss: 0.2023 - accuracy: 0.9395 - val_loss: 0.4404 - val_accuracy: 0.8802\n",
            "Epoch 4/20\n",
            "2500/2500 [==============================] - 41s 16ms/step - loss: 0.1768 - accuracy: 0.9469 - val_loss: 0.4790 - val_accuracy: 0.8798\n",
            "Epoch 5/20\n",
            "2500/2500 [==============================] - 34s 14ms/step - loss: 0.1542 - accuracy: 0.9533 - val_loss: 0.5009 - val_accuracy: 0.8738\n",
            "Epoch 6/20\n",
            "2500/2500 [==============================] - 33s 13ms/step - loss: 0.1348 - accuracy: 0.9590 - val_loss: 0.5155 - val_accuracy: 0.8757\n",
            "Epoch 7/20\n",
            "2500/2500 [==============================] - 38s 15ms/step - loss: 0.1161 - accuracy: 0.9645 - val_loss: 0.5504 - val_accuracy: 0.8777\n",
            "Epoch 8/20\n",
            "2500/2500 [==============================] - 32s 13ms/step - loss: 0.1041 - accuracy: 0.9687 - val_loss: 0.5640 - val_accuracy: 0.8784\n",
            "Epoch 9/20\n",
            "2500/2500 [==============================] - 28s 11ms/step - loss: 0.0931 - accuracy: 0.9714 - val_loss: 0.6047 - val_accuracy: 0.8756\n",
            "Epoch 10/20\n",
            "2500/2500 [==============================] - 29s 12ms/step - loss: 0.0809 - accuracy: 0.9756 - val_loss: 0.6240 - val_accuracy: 0.8770\n",
            "Epoch 11/20\n",
            "2500/2500 [==============================] - 36s 14ms/step - loss: 0.0753 - accuracy: 0.9770 - val_loss: 0.6394 - val_accuracy: 0.8753\n",
            "Epoch 12/20\n",
            "2500/2500 [==============================] - 28s 11ms/step - loss: 0.0652 - accuracy: 0.9800 - val_loss: 0.6471 - val_accuracy: 0.8781\n",
            "Epoch 13/20\n",
            "2500/2500 [==============================] - 30s 12ms/step - loss: 0.0599 - accuracy: 0.9816 - val_loss: 0.6950 - val_accuracy: 0.8728\n",
            "Epoch 14/20\n",
            "2500/2500 [==============================] - 32s 13ms/step - loss: 0.0555 - accuracy: 0.9830 - val_loss: 0.7352 - val_accuracy: 0.8722\n",
            "Epoch 15/20\n",
            "2500/2500 [==============================] - 32s 13ms/step - loss: 0.0521 - accuracy: 0.9834 - val_loss: 0.7204 - val_accuracy: 0.8748\n",
            "Epoch 16/20\n",
            "2500/2500 [==============================] - 33s 13ms/step - loss: 0.0453 - accuracy: 0.9861 - val_loss: 0.7501 - val_accuracy: 0.8738\n",
            "Epoch 17/20\n",
            "2500/2500 [==============================] - 32s 13ms/step - loss: 0.0450 - accuracy: 0.9858 - val_loss: 0.7943 - val_accuracy: 0.8712\n",
            "Epoch 18/20\n",
            "2500/2500 [==============================] - 28s 11ms/step - loss: 0.0406 - accuracy: 0.9872 - val_loss: 0.7861 - val_accuracy: 0.8799\n",
            "Epoch 19/20\n",
            "2500/2500 [==============================] - 29s 11ms/step - loss: 0.0364 - accuracy: 0.9882 - val_loss: 0.8102 - val_accuracy: 0.8728\n",
            "Epoch 20/20\n",
            "2500/2500 [==============================] - 31s 13ms/step - loss: 0.0374 - accuracy: 0.9881 - val_loss: 0.8140 - val_accuracy: 0.8755\n"
          ]
        }
      ]
    },
    {
      "cell_type": "code",
      "source": [
        "model.get_config()"
      ],
      "metadata": {
        "colab": {
          "base_uri": "https://localhost:8080/"
        },
        "id": "4OaKl0PiQunb",
        "outputId": "092461b7-42f1-47ea-fe73-e4a766dc58cc"
      },
      "execution_count": 44,
      "outputs": [
        {
          "output_type": "execute_result",
          "data": {
            "text/plain": [
              "{'name': 'sequential_2',\n",
              " 'layers': [{'module': 'keras.layers',\n",
              "   'class_name': 'InputLayer',\n",
              "   'config': {'batch_input_shape': (None, 784),\n",
              "    'dtype': 'float32',\n",
              "    'sparse': False,\n",
              "    'ragged': False,\n",
              "    'name': 'dense_8_input'},\n",
              "   'registered_name': None},\n",
              "  {'module': 'keras.layers',\n",
              "   'class_name': 'Dense',\n",
              "   'config': {'name': 'dense_8',\n",
              "    'trainable': True,\n",
              "    'dtype': 'float32',\n",
              "    'batch_input_shape': (None, 784),\n",
              "    'units': 500,\n",
              "    'activation': 'sigmoid',\n",
              "    'use_bias': True,\n",
              "    'kernel_initializer': {'module': 'keras.initializers',\n",
              "     'class_name': 'GlorotUniform',\n",
              "     'config': {'seed': None},\n",
              "     'registered_name': None},\n",
              "    'bias_initializer': {'module': 'keras.initializers',\n",
              "     'class_name': 'Zeros',\n",
              "     'config': {},\n",
              "     'registered_name': None},\n",
              "    'kernel_regularizer': None,\n",
              "    'bias_regularizer': None,\n",
              "    'activity_regularizer': None,\n",
              "    'kernel_constraint': None,\n",
              "    'bias_constraint': None},\n",
              "   'registered_name': None,\n",
              "   'build_config': {'input_shape': (None, 784)}},\n",
              "  {'module': 'keras.layers',\n",
              "   'class_name': 'Dense',\n",
              "   'config': {'name': 'dense_9',\n",
              "    'trainable': True,\n",
              "    'dtype': 'float32',\n",
              "    'units': 250,\n",
              "    'activation': 'sigmoid',\n",
              "    'use_bias': True,\n",
              "    'kernel_initializer': {'module': 'keras.initializers',\n",
              "     'class_name': 'GlorotUniform',\n",
              "     'config': {'seed': None},\n",
              "     'registered_name': None},\n",
              "    'bias_initializer': {'module': 'keras.initializers',\n",
              "     'class_name': 'Zeros',\n",
              "     'config': {},\n",
              "     'registered_name': None},\n",
              "    'kernel_regularizer': None,\n",
              "    'bias_regularizer': None,\n",
              "    'activity_regularizer': None,\n",
              "    'kernel_constraint': None,\n",
              "    'bias_constraint': None},\n",
              "   'registered_name': None,\n",
              "   'build_config': {'input_shape': (None, 500)}},\n",
              "  {'module': 'keras.layers',\n",
              "   'class_name': 'Dense',\n",
              "   'config': {'name': 'dense_10',\n",
              "    'trainable': True,\n",
              "    'dtype': 'float32',\n",
              "    'units': 100,\n",
              "    'activation': 'sigmoid',\n",
              "    'use_bias': True,\n",
              "    'kernel_initializer': {'module': 'keras.initializers',\n",
              "     'class_name': 'GlorotUniform',\n",
              "     'config': {'seed': None},\n",
              "     'registered_name': None},\n",
              "    'bias_initializer': {'module': 'keras.initializers',\n",
              "     'class_name': 'Zeros',\n",
              "     'config': {},\n",
              "     'registered_name': None},\n",
              "    'kernel_regularizer': None,\n",
              "    'bias_regularizer': None,\n",
              "    'activity_regularizer': None,\n",
              "    'kernel_constraint': None,\n",
              "    'bias_constraint': None},\n",
              "   'registered_name': None,\n",
              "   'build_config': {'input_shape': (None, 250)}},\n",
              "  {'module': 'keras.layers',\n",
              "   'class_name': 'Dense',\n",
              "   'config': {'name': 'dense_11',\n",
              "    'trainable': True,\n",
              "    'dtype': 'float32',\n",
              "    'units': 10,\n",
              "    'activation': 'softmax',\n",
              "    'use_bias': True,\n",
              "    'kernel_initializer': {'module': 'keras.initializers',\n",
              "     'class_name': 'GlorotUniform',\n",
              "     'config': {'seed': None},\n",
              "     'registered_name': None},\n",
              "    'bias_initializer': {'module': 'keras.initializers',\n",
              "     'class_name': 'Zeros',\n",
              "     'config': {},\n",
              "     'registered_name': None},\n",
              "    'kernel_regularizer': None,\n",
              "    'bias_regularizer': None,\n",
              "    'activity_regularizer': None,\n",
              "    'kernel_constraint': None,\n",
              "    'bias_constraint': None},\n",
              "   'registered_name': None,\n",
              "   'build_config': {'input_shape': (None, 100)}}]}"
            ]
          },
          "metadata": {},
          "execution_count": 44
        }
      ]
    },
    {
      "cell_type": "code",
      "metadata": {
        "deletable": false,
        "nbgrader": {
          "cell_type": "code",
          "checksum": "1a4c01aa7dbcc832d75b05bffaeaacc8",
          "grade": false,
          "grade_id": "cell-20118d1646215346",
          "locked": false,
          "schema_version": 3,
          "solution": true,
          "task": false
        },
        "id": "wBVj55zVLj1L",
        "colab": {
          "base_uri": "https://localhost:8080/",
          "height": 314
        },
        "outputId": "3defd468-53aa-4a3c-89a0-aa0be004f27a"
      },
      "source": [
        "# YOUR CODE HERE\n",
        "# Move results to df_adam\n",
        "df_adam = pd.DataFrame.from_records(adam_history.history)\n",
        "\n",
        "# Renaming index to epoch numbers by shift index up, so 0, 1, 2, 3 becomes 1, 2, 3, 4 etc.\n",
        "n_rows = df_adam.shape[0]\n",
        "df_adam.index = [i for i in range(1, n_rows + 1)]\n",
        "\n",
        "# Plot results\n",
        "# Select the columns to plot\n",
        "plot_cols = [\"loss\", \"val_loss\"]\n",
        "\n",
        "# Create the plot with the y-axis data\n",
        "df_adam[plot_cols].plot(figsize=(10,3), grid=True);\n",
        "\n",
        "plt.title(\"Model Loss vs Epoch\");\n",
        "\n",
        "# Label the x axis with epoch numbers from 1 to 20\n",
        "plt.xticks(df_adam.index);"
      ],
      "execution_count": 45,
      "outputs": [
        {
          "output_type": "display_data",
          "data": {
            "text/plain": [
              "<Figure size 1000x300 with 1 Axes>"
            ],
            "image/png": "[encoded data removed]"
          },
          "metadata": {}
        }
      ]
    },
    {
      "cell_type": "markdown",
      "metadata": {
        "id": "XECc5OtzLj1M"
      },
      "source": [
        "### Observations\n",
        "\n",
        "This plot should look very different from the previous plot. Based on the plot of the training and validation loss, answer the following questions."
      ]
    },
    {
      "cell_type": "markdown",
      "metadata": {
        "id": "tK8B5CszLj1M"
      },
      "source": [
        "**Is our model overfitting? Why or why not?**"
      ]
    },
    {
      "cell_type": "markdown",
      "metadata": {
        "deletable": false,
        "nbgrader": {
          "cell_type": "markdown",
          "checksum": "fa4141497af675d227aa510feb8db732",
          "grade": true,
          "grade_id": "cell-7e524ccac970c33e",
          "locked": false,
          "points": 0,
          "schema_version": 3,
          "solution": true,
          "task": false
        },
        "id": "Fn6C8NWTLj1M"
      },
      "source": [
        "Yes, because a huge gap between training and val loss. The model does well with the training data, but it performs poorly on the val data."
      ]
    },
    {
      "cell_type": "markdown",
      "metadata": {
        "id": "ygXQYH8ILj1M"
      },
      "source": [
        "**Could our model's performance improve by training on more than 20 epochs? Why or why not?**"
      ]
    },
    {
      "cell_type": "markdown",
      "metadata": {
        "deletable": false,
        "nbgrader": {
          "cell_type": "markdown",
          "checksum": "ae03b8b897eb5d052590574ab3bba839",
          "grade": true,
          "grade_id": "cell-456c40e885652955",
          "locked": false,
          "points": 0,
          "schema_version": 3,
          "solution": true,
          "task": false
        },
        "id": "Sa5SRkB1Lj1M"
      },
      "source": [
        "No, by looking at the trend, increasing the epochs beyond 20 we would expect the val loss to continue to increase creating an even wider gap."
      ]
    },
    {
      "cell_type": "markdown",
      "metadata": {
        "id": "bNxtLggeLj1M"
      },
      "source": [
        "**Assuming that you want to stick to this model architecture, what can you do to avoid overfitting?**"
      ]
    },
    {
      "cell_type": "markdown",
      "metadata": {
        "deletable": false,
        "nbgrader": {
          "cell_type": "markdown",
          "checksum": "9f5a9393314231d3ce253363c1df1223",
          "grade": true,
          "grade_id": "cell-74d7def19c66702b",
          "locked": false,
          "points": 0,
          "schema_version": 3,
          "solution": true,
          "task": false
        },
        "id": "tfztMm3rLj1M"
      },
      "source": [
        "\n",
        "Answer based on graph in solution video: Perhaps stop the training between 2 and 3 epochs where the gap is the smallest, maybe at epoch 3 where the val loss is lower than the lowest loss in our previous model, and the model is not overfitting because the training and val loss curves intersect.\n",
        "\n",
        "Answer for my graph: Maybe just stick with 1 epoch?"
      ]
    },
    {
      "cell_type": "markdown",
      "metadata": {
        "id": "ViaTP68cLj1M"
      },
      "source": [
        "------\n",
        "# Conclusion\n",
        "\n",
        "You have observed by comparing the two models that are identical except for the optimizer, that the choice of the optimizer can considerably influence the performance of a neural network.\n",
        "\n",
        "You might not know\n",
        "\n",
        "- why changing the optimizer from Stochastic Gradient Descent over to Adam made a difference.\n",
        "- how Gradient Descent works\n",
        "- or that Adam is known as Adaptive Gradient Descent (i.e., is it a different version of ordinary Gradient Descent).\n",
        "\n",
        "But that's ok - tomorrow's lesson will be a deep dive into Gradient Descent. You'll learn the theory of Gradient Descent, we'll code up Gradient Descent from scratch, and we'll talk about how Adam is different from ordinary Gradient Descent."
      ]
    },
    {
      "cell_type": "markdown",
      "metadata": {
        "id": "8v_TuVH5Lj1N"
      },
      "source": [
        "-----\n",
        "# Preparation for Tomorrow\n",
        "\n",
        "In preparation for tomorrow, you might need to watch a few videos. I say it might because you may or may not already be comfortable with multi-variate calculus.\n",
        "\n",
        "### Theory of Calculus\n",
        "The theory of Gradient Descent rests on [**the derivative from Calculus**](https://www.youtube.com/watch?v=WUvTyaaNkzM). If you've never taken a Calculus course before, or are a bit rusty, definitely watch this video in preparation for tomorrow's lesson. The takeaway here is to understand the derivative conceptually; you won't be asked to calculate any derivatives by hand.\n",
        "\n",
        "### The Gradient - a Multi-Dimensional Derivative\n",
        "Once you've watched the previous video, you will be ready to understand how to conceptualize a derivative in an N-dimensional space (where N is any number ranging from 2, 3, 4, ..., all the way to a very large number of dimensions N ). [**This video visually explains the multi-dimensional derivative called the Gradient visually**](https://www.youtube.com/watch?v=GkB4vW16QHI) - and that's the takeaway. The point of this video is to help you understand the Gradient visually using 3D surfaces. You should also know that the Gradient is made up of partial derivatives, more on this tomorrow.\n",
        "\n",
        "### Contour Maps\n",
        "It is very common to visual 3D surfaces as 2D contour maps - and we'll be making a lot of use of contour maps to understand Gradient Descent. Watch this video to [**understand the relationship between 3D surfaces and 2D contour maps.**](https://www.youtube.com/watch?v=acdX4YamDtU)\n",
        "\n",
        "### The Calculus of Backpropagation\n",
        "\n",
        "Unlike standard Sklearn ML models, neural networks use Gradient Descent and something called Backpropagatin to learn from the data. [**In order to understand how backpropagation works, you need to understand the Chain Rule in Calculus**](https://www.youtube.com/watch?v=acdX4YamDtU). The takeaway here is to understand how a partial derivative can be decomposed into a product of multiple derivatives."
      ]
    },
    {
      "cell_type": "markdown",
      "metadata": {
        "id": "XCjBp0vTLj1N"
      },
      "source": [
        "------\n",
        "# Stretch Goals\n",
        "\n",
        "### This Section is Optional!\n",
        "\n",
        "Only after you've completed the above work and watched the recommended videos are you then encouraged to experiment with building a few more models and analyze their results.\n",
        "\n",
        "Here are some suggestions to help you get started.\n",
        "\n",
        "- Train the same model using the Sigmoid and Relu activation functions and note the difference in their learning outcomes. [**Keras docs on activation functions**](https://keras.io/api/layers/activations/). We'll cover the Relu activation function in Sprint 2 Module 3.\n",
        "- Train the same model using normalized and non-normalized data and note the difference in their learning outcomes.\n",
        "\n",
        "\n",
        "The objective here is to get more practice with the Keras API (i.e., building models) and run a couple of experiments to help set you up for future lessons. In order words, we'll be discussing different activation functions and the effect of normalized data on model training."
      ]
    },
    {
      "cell_type": "code",
      "metadata": {
        "id": "5F1VQLmALj1N"
      },
      "source": [],
      "execution_count": null,
      "outputs": []
    }
  ]
}