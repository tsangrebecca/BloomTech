{
  "nbformat": 4,
  "nbformat_minor": 0,
  "metadata": {
    "accelerator": "GPU",
    "celltoolbar": "Create Assignment",
    "colab": {
      "provenance": [],
      "include_colab_link": true
    },
    "kernelspec": {
      "display_name": "Python 3",
      "language": "python",
      "name": "python3"
    },
    "language_info": {
      "codemirror_mode": {
        "name": "ipython",
        "version": 3
      },
      "file_extension": ".py",
      "mimetype": "text/x-python",
      "name": "python",
      "nbconvert_exporter": "python",
      "pygments_lexer": "ipython3",
      "version": "3.8.5"
    }
  },
  "cells": [
    {
      "cell_type": "markdown",
      "metadata": {
        "id": "view-in-github",
        "colab_type": "text"
      },
      "source": [
        "<a href=\"https://colab.research.google.com/github/tsangrebecca/BloomTech/blob/main/Sprint14/M2_DS_422_Train_GP_Recording_Solution.ipynb\" target=\"_parent\"><img src=\"https://colab.research.google.com/assets/colab-badge.svg\" alt=\"Open In Colab\"/></a>"
      ]
    },
    {
      "cell_type": "markdown",
      "metadata": {
        "id": "aS4GZ37Wgcjr"
      },
      "source": [
        "*Unit 4, Sprint 2, Module 2*\n",
        "\n",
        "---"
      ]
    },
    {
      "cell_type": "markdown",
      "metadata": {
        "id": "etFf1WLWgcjt",
        "toc-hr-collapsed": false
      },
      "source": [
        "# Train (Prepare)\n",
        "__*Neural Network Foundations*__"
      ]
    },
    {
      "cell_type": "markdown",
      "metadata": {
        "id": "hXB80QOhgcju"
      },
      "source": [
        "## Learning Objectives\n",
        "* <a href=\"#p1\">Part 1</a>: Student should be able to explain the intuition behind backpropagation and gradient descent\n",
        "* <a href=\"#p2\">Part 2</a>: Student should be able to discuss the importance of the batch size hyperparameter\n",
        "* <a href=\"#p3\">Part 3</a>: Student should be able to discuss the importance of the learning rate hyperparameter"
      ]
    },
    {
      "cell_type": "markdown",
      "metadata": {
        "id": "8YuQu2lfgcju"
      },
      "source": [
        "## Summary of Module 1\n",
        "\n",
        "In Module 1, we learned about Neural Networks and related concepts: Neurons, Weights, Activation Functions, and Layers (input, output, & hidden). Today, we will reinforce our understanding, and learn how a neural network is trained. **Feed-forward neural networks**, such as multi-layer perceptrons (MLPs), are almost always trained using some variation of **gradient descent** where gradients has been calculated by **back-propagation**.\n",
        "\n",
        "  <center><img src=\"https://raw.githubusercontent.com/LambdaSchool/DS-Unit-4-Sprint-2-Neural-Networks/main/module1-Architect/IMG_0167.jpeg\" width=400></center>\n",
        "\n",
        "- There are three kinds of layers: **input**, **hidden**, and **output**\n",
        "- Hidden and output layers are made up of individual neurons (aka activation units) which have a corresponding weight and bias.\n",
        "- Information is passed from layer to layer through a network by:\n",
        " - Taking in inputs from the training data (or previous layer)\n",
        " - Multiplying each input by its corresponding weight (represented by arrows) and adding these products to form a weighted sum\n",
        " - Adding a bias (also represented by arrows)\n",
        " - Passing this weighted sum plus the bias term into an activation function such as sigmoid or relu or some other activation function <br>\n",
        " As an example: for a `perceptron` with three inputs and a sigmoid activation function, the output is calculated as follows: <br><br>\n",
        "\\begin{align}\n",
        " y = \\text{sigmoid} \\left(weight_{1}\\times input_{1} + weight_{2} \\times input_{2} + weight_{3} \\times input_{3} + bias\\right)\n",
        "\\end{align} <br><br>\n",
        " - This \"activated\" neuron output $y$ is the signal that gets passed into the next layer of the network\n",
        " - the \"activated\" neuron output of the output layer is the prediction\n"
      ]
    },
    {
      "cell_type": "markdown",
      "metadata": {
        "id": "bpi4R03rgcjv"
      },
      "source": [
        "## Training a Neural Network for Classification: *Formal Summary*\n",
        "\n",
        "1. Choose a network architecture\n",
        "   - Number of input units = Number of features\n",
        "   - Number of output units = Number of Classes (or categories of expected targets)\n",
        "   - Select the number of hidden layers and the number of neurons within each hidden layer\n",
        "   - set the activation functions for each neuron\n",
        "2. Randomly initialize all the weights and biases\n",
        "3. Forward propagate the weights and biases through the network to compute the output predictions $\\hat y$\n",
        "4. Given the output predictions  $\\hat y$ and the true targets  $y$, compute the loss (cost) function $J(\\theta)$, where $\\theta$ is the set of values of all the weights and biases in the network.\n",
        "5. Perform **back-propagation**, which means computing partial derivatives (gradients) of the cost function with respect to the each of the weights and biases $\\frac{\\partial}{\\partial\\theta}{J(\\theta)}$\n",
        "6. Using the method of **gradient descent** (or other advanced optimizer), adjust the weights and biases so as to decrease the cost function $J(\\theta)$.\n",
        "7. Repeat steps 3 - 6 until the cost function is 'minimized' or some other stopping criteria is met. One pass over steps 3 - 6 is called an iteration.\n",
        "\n",
        "### Highly recommended: Check out this [Neural Networks mini-course from 3Blue1Brown](https://www.3blue1brown.com/topics/neural-networks)<br>\n",
        "\n",
        "\n"
      ]
    },
    {
      "cell_type": "markdown",
      "metadata": {
        "id": "aM4CK1IarId4",
        "toc-hr-collapsed": false
      },
      "source": [
        "------\n",
        "# 1. Backpropagation & Gradient Descent (Learn)\n",
        "<a id=\"p1\"></a>"
      ]
    },
    {
      "cell_type": "markdown",
      "metadata": {
        "id": "Ktm8Fmoagcjy",
        "toc-hr-collapsed": true
      },
      "source": [
        "## Overview\n",
        "\n",
        "Backpropagation is short for [\"Backwards Propagation of errors\"](https://en.wikipedia.org/wiki/Backpropagation) and refers to a specific algorithm using calculus to update the weights and biases in a neural network in reverse order, at the end of each training epoch. Our purpose today is to demonstrate the backpropagation algorithm on a simple Feedforward Neural Network and in so doing help you get a grasp on the main process. If you want to understand all of the underlying calculus of how the gradients are calculated then you'll need to dive into it yourself, watch [Backpropagation calculus ](https://www.youtube.com/watch?v=tIeHLnjs5U8) from 3Blue1Brown. Also highly recommended is this Welch Labs series [Neural Networks Demystified](https://www.youtube.com/watch?v=bxe2T-V8XRs) if you want a rapid yet orderly walk through of the main intuition and math behind the backpropagation algorithm."
      ]
    },
    {
      "cell_type": "markdown",
      "metadata": {
        "id": "NXI2tEO9gcjy"
      },
      "source": [
        "## 1.1 What is a Gradient?\n",
        "\n",
        "> In vector calculus, the gradient is a multi-variable generalization of the derivative.\n",
        "\n",
        "The gradients that we will deal with today will be vector representations of the derivative of the activation function."
      ]
    },
    {
      "cell_type": "markdown",
      "metadata": {
        "id": "n7SvE-6H9G4y"
      },
      "source": [
        "### 1.1.1 Review: Slope of a line\n",
        "\n",
        "![](https://www.mathwarehouse.com/algebra/linear_equation/images/slope-of-a-line/slope-formula-all_no_highlight.png)"
      ]
    },
    {
      "cell_type": "markdown",
      "metadata": {
        "id": "AGYuD9yI9G4z"
      },
      "source": [
        "### 1.1.2 Review: A basic derivative\n",
        "The derivative of a one-dimensional function at any point is defined as the slope of the line tangent to the function at that point.\n",
        "\n",
        "![](https://ginsyblog.files.wordpress.com/2017/02/derivativelimitdef.gif)"
      ]
    },
    {
      "cell_type": "markdown",
      "metadata": {
        "id": "gFs3TG5O9G4z"
      },
      "source": [
        "### 1.1.3 Gradients are multi-dimensional derivatives\n",
        "\n",
        "Each partial derivative can be considered as the component of a vector that lies on the axis of the associated parameter.  <br>\n",
        "Formally, the gradient is the vector sum of these partial derivative vectors.\n",
        "\n",
        "*The gradient of a function at a given point contains information about the magnitude <br>\n",
        "and direction of the sensitivity of the function to change in every parameter.*"
      ]
    },
    {
      "cell_type": "markdown",
      "metadata": {
        "id": "fVN-8elU9G40"
      },
      "source": [
        "##1.2. Gradient Descent Formula for updating neural network parameters\n",
        "\n",
        "Given the values of the current parameters (weights and biases), this formula prescribes how to update them in order to drive down the cost function, given their current values:\n",
        "\n",
        "$$ \\huge{\\theta_j = \\theta_j - \\alpha \\frac{\\partial J(\\theta)}{\\partial \\theta_j}}$$\n",
        "\n",
        "\n",
        "In this formula,\n",
        "- $\\Large{\\theta_j}$ refers to the vector of weights and biases for the $jth$ data point<br><br>\n",
        "- $\\Large{\\theta}$ refers to the combined set of weights and biases of all the data points<br><br>\n",
        "- $\\Large{J(\\theta)}$ represents the cost function, which is a measure of the error between the predicted target values and the true target values<br><br>\n",
        "- $\\Large{\\alpha}$ is the *learning rate*, a positive scalar hyper-parameter<br><br>\n",
        "- $\\Large{\\frac{\\partial J(\\theta)}{\\partial \\theta_j}}$ are the partial derivatives of the cost function, which measure its sensitivity to changes in the parameters $\\Large{\\theta_j}$<br><br>\n",
        "\n",
        "\n",
        "More sophisticated versions of gradient descent are discussed in the excellent article [**An overview of gradient descent optimization algorithms**](https://ruder.io/optimizing-gradient-descent/) by Sebastian Ruder.\n",
        "\n",
        "\n",
        "These versions all build on the Gradient Descent Formula presented above, so it's best to understand this before moving on to more sophisticated versions. <br>\n"
      ]
    },
    {
      "cell_type": "markdown",
      "metadata": {
        "id": "yQc8iy_u9G40"
      },
      "source": [
        "### 1.2.1 Geometry of Gradient Descent\n",
        "in one dimension\n",
        "\n",
        "![](https://i.stack.imgur.com/yk1mk.png)"
      ]
    },
    {
      "cell_type": "markdown",
      "metadata": {
        "id": "QlPoxfuS9G41"
      },
      "source": [
        "### 1.2.2 Convex vs. Non-Convex Loss Functions\n",
        "\n",
        "Loss curves won't always have a single minimum point for gradient descent to converge towards. Sometimes there are multiple minimums.\n",
        "\n",
        "**Global Minimum:** The absolute minimum location of a curve (or surface).\n",
        "\n",
        "**Local Minimum:** The local minimum location of a curve (or surface).\n",
        "\n",
        "\n",
        "### In 3-Dimensions\n",
        "In Calculus, those ambiguous points that take on the form of both local minima and local maxima are known as [**saddle points**](https://en.wikipedia.org/wiki/Saddle_point). It's not necessary to dive into the mathematics, the key take away is that non-convex error curves (and surfaces) have this global/local minimum issue.\n",
        "\n",
        "![](https://www.oreilly.com/radar/wp-content/uploads/sites/3/2019/06/convex-non-convex-9c8cb9320d4b0392c5f67004e8832e85.jpg)\n",
        "\n",
        "\n",
        "**Take Away:** Sometimes the gradient descent algorithm converges but is actually trapped in a local minimum.\n",
        "\n",
        "There are at least 2 possible solutions to this problem:\n",
        "\n",
        "1) Try different approaches to randomly initalizing the model weights\n",
        "For this check out [Keras's docs on Weight Initializers](https://keras.io/api/layers/initializers/). Treat these weight initializers as just another hyper-parameter to include in your gridsearch. It's a good idea to get into the practice of including weight initializers in your gridsearches!\n",
        "\n",
        "\n",
        "2) Try non-gradient descent optimizers such as [Particle Swarm](https://en.wikipedia.org/wiki/Particle_swarm_optimization) or [Genetic Algorithms](https://en.wikipedia.org/wiki/Genetic_algorithm). Feel free to read up on these approaches but know that **you are not expected to know these approaches** and they are outside the scope of this course."
      ]
    },
    {
      "cell_type": "markdown",
      "metadata": {
        "id": "UZY66kiUgcjz",
        "toc-hr-collapsed": true
      },
      "source": [
        "------\n",
        "## 1.3 Let's see how to implement Gradient Descent in Keras for a simple toy problem! (Follow Along)\n",
        "\n",
        "In this section, we will again build a simple neural network using base TensorFlow. <br>\n",
        "We'll train a __Feed Forward Neural Network__ to predict targets,<br> using the method of __Gradient Descent__ to adjust the neural network parameters.<br><br> This is the process of __Back-propagation__!"
      ]
    },
    {
      "cell_type": "markdown",
      "metadata": {
        "id": "4d4tzpwO6B47"
      },
      "source": [
        "### 1.3.1 Generate synthetic (fake) data for a simple linear regression problem<br>\n",
        "$y = \\textbf{w} \\cdot \\textbf{x} + b + \\text{noise}$"
      ]
    },
    {
      "cell_type": "code",
      "metadata": {
        "id": "ERyVgeO_IWyV"
      },
      "source": [
        "# plotting\n",
        "import matplotlib.pyplot as plt\n",
        "\n",
        "# dataset import\n",
        "from keras.datasets import mnist\n",
        "\n",
        "# tensorflow imports for building\n",
        "import tensorflow as tf\n",
        "from keras import Sequential\n",
        "from keras.layers import Dense\n",
        "from keras.optimizers import SGD\n",
        "%matplotlib inline"
      ],
      "execution_count": 39,
      "outputs": []
    },
    {
      "cell_type": "markdown",
      "source": [
        "Case study: Hours of study and sleep to predict test score"
      ],
      "metadata": {
        "id": "9dRZsGJdzJuE"
      }
    },
    {
      "cell_type": "code",
      "metadata": {
        "nbgrader": {
          "grade": false,
          "grade_id": "cell-13ede96854baf6e5",
          "locked": false,
          "schema_version": 3,
          "solution": true,
          "task": false
        },
        "id": "_C6O65Q09G43"
      },
      "source": [
        "# Generate samples of a Linear Regression data model\n",
        "# y     =      w  *  x    +  b     + noise\n",
        "\n",
        "### BEGIN SOLUTION\n",
        "# Specify the model parameters: slope(weight) and intercept (bias)\n",
        "w_true = 3.5\n",
        "b_true = 50.0 # If you don't study at all, the base score is 50\n",
        "# Specify how many examples we want to generate\n",
        "n_examples = 1000\n",
        "\n",
        "# linear regression assumes normally distributed noise,\n",
        "#    so we'll draw noise values from Gaussian distributions\n",
        "noise = tf.random.normal(mean=0.0, stddev=1.0, shape=[n_examples])\n",
        "\n",
        "# we'll draw input values from a uniform distribution\n",
        "x = tf.random.uniform(minval=-1, maxval=1, shape=[n_examples])\n",
        "# Generate samples from the Linear Regression data model\n",
        "# y     =      w  *  x    +  b     + noise\n",
        "y_true = w_true * x + b_true + noise\n",
        "### END SOLUTION"
      ],
      "execution_count": 40,
      "outputs": []
    },
    {
      "cell_type": "markdown",
      "metadata": {
        "id": "bCJesGEUgcj4"
      },
      "source": [
        "### 1.3.2 Loss Function\n",
        "The Mean Squared Error (MSE), is an appropriate loss function for a regression problem. We are trying to predict a continuous target.\n",
        "\n",
        "$$\\huge{\\text{MSE} = \\frac{1}{N}\\sum_{i=1}^{N} (y_i-\\hat{y}_i)^2}$$"
      ]
    },
    {
      "cell_type": "code",
      "metadata": {
        "id": "kyITYhMS9G44"
      },
      "source": [
        "def loss(target_y, predicted_y, model, reg_strength=0.0):\n",
        "    \"\"\"\n",
        "    Implements Mean Square Error (MSE) as the loss function\n",
        "    \"\"\"\n",
        "    return tf.reduce_mean(tf.square(target_y - predicted_y))"
      ],
      "execution_count": 41,
      "outputs": []
    },
    {
      "cell_type": "markdown",
      "metadata": {
        "id": "bgTf6vTS69Sw"
      },
      "source": [
        "### 1.3.3 Neural Network Architecture\n",
        "Lets create a Neural Network class called `Model` to feed forward the input to a neural network composed of a single linear layer, with no activation function. Note: This is essentially a linear regression model whose coefficients are trained by gradient descent. In practice, gradient descent works on much more complex functions like the multi-layer networks we constructed in Module 1."
      ]
    },
    {
      "cell_type": "code",
      "metadata": {
        "id": "RUI8VSR5zyBv"
      },
      "source": [
        "class Model(object):\n",
        "\n",
        "    def __init__(self):\n",
        "        self.w = tf.Variable(8.0) # instantiate something different from the true value which is 3.5, so the model can learn\n",
        "        self.b = tf.Variable(40.0) # true value is 50\n",
        "\n",
        "    # Forward propagation\n",
        "    def __call__(self, x):\n",
        "        # returns w*x + b\n",
        "        return self.w * x + self.b\n",
        "\n",
        "# Instantiate the Model() class\n",
        "model = Model()\n",
        "\n",
        "# test the Model() class\n",
        "#    with parameters w = 8 and b = 40, our model is  y(x) = w*x + b = 8\n",
        "#    with input of x = 3, we expect y = 8*3 + 40 = 64\n",
        "\n",
        "# To make sure we're setting it up correctly\n",
        "assert model(3.0).numpy() == 64.0"
      ],
      "execution_count": 42,
      "outputs": []
    },
    {
      "cell_type": "markdown",
      "metadata": {
        "id": "gbyT_FJ88IlK"
      },
      "source": [
        "### 1.3.4 Prediction with Initial Weights\n",
        "The weights in our model were initialized randomly, so of course our neural network's initial predictions are way off!"
      ]
    },
    {
      "cell_type": "code",
      "metadata": {
        "colab": {
          "base_uri": "https://localhost:8080/",
          "height": 471
        },
        "id": "IreIDe6P8H0H",
        "outputId": "28507fba-9848-4c3b-cc89-b44f8d54a078"
      },
      "source": [
        "inputs = x\n",
        "outputs = y_true\n",
        "predictions = model(inputs)\n",
        "plt.scatter(inputs, outputs, c='b', label = \"data\")\n",
        "plt.plot(inputs, predictions, c='r', label = \"model predictions\")\n",
        "plt.xlabel('x', fontsize=14)\n",
        "plt.ylabel('y', fontsize=14)\n",
        "plt.legend()\n",
        "plt.grid();\n",
        "\n",
        "print('Current loss: %1.6f' % loss(predictions, outputs, model).numpy())"
      ],
      "execution_count": 43,
      "outputs": [
        {
          "output_type": "stream",
          "name": "stdout",
          "text": [
            "Current loss: 106.976669\n"
          ]
        },
        {
          "output_type": "display_data",
          "data": {
            "text/plain": [
              "<Figure size 640x480 with 1 Axes>"
            ],
            "image/png": "[encoded data removed]"
          },
          "metadata": {}
        }
      ]
    },
    {
      "cell_type": "markdown",
      "metadata": {
        "id": "16Ujj6vNYQyX",
        "toc-hr-collapsed": true
      },
      "source": [
        "### 1.3.5 Back-propagation\n",
        "Means iteratively updating the weights and bias based on the gradients of the loss function.<br>\n",
        "We'll write a helper function to train a model using Keras!\n"
      ]
    },
    {
      "cell_type": "code",
      "metadata": {
        "id": "ZgaGD6YlHoid",
        "nbgrader": {
          "grade": false,
          "grade_id": "cell-100d1b1df12abe63",
          "locked": false,
          "schema_version": 3,
          "solution": true,
          "task": false
        }
      },
      "source": [
        "# this train function updates w and b using partial derivative of the loss function w.r.t. w and b\n",
        "def train(model, inputs, outputs, learning_rate):\n",
        "\n",
        "    with tf.GradientTape() as tape:\n",
        "\n",
        "        # calculate the loss function value from our model's predictions\n",
        "        current_loss = loss(outputs, model(inputs), model)\n",
        "\n",
        "        # calculate derivative of weight and derivative of bias, the gradients of the loss function with respect to weight and bias\n",
        "        # Derivatives tell us how much we need to update our weight and bias to minimize our loss\n",
        "        dw, db = tape.gradient(current_loss, [model.w, model.b])\n",
        "\n",
        "        # update the value of w by subtracting (learning rate) * (gradient of the loss function wrt w) from its current value\n",
        "        # model.w is weight\n",
        "        # assign_sub is subtract\n",
        "        # Derivative can be pos or neg, if neg, we need to increase our weight or bias because we're subtracting, and vice versa\n",
        "        model.w.assign_sub(learning_rate * dw)\n",
        "\n",
        "        # update the value of b by subtracting (learning rate) * (gradient of the loss function wrt b) from its current value\n",
        "        model.b.assign_sub(learning_rate * db)"
      ],
      "execution_count": 44,
      "outputs": []
    },
    {
      "cell_type": "markdown",
      "metadata": {
        "id": "7iziWWURgck8"
      },
      "source": [
        "### 1.3.6 Train the Network\n",
        "At each epoch, we'll print the values of the updated parameters and the loss function"
      ]
    },
    {
      "cell_type": "code",
      "metadata": {
        "colab": {
          "base_uri": "https://localhost:8080/"
        },
        "id": "4zn_HgFuHhTr",
        "outputId": "088fac8f-f48d-4d3e-8876-c7ad1136cebe"
      },
      "source": [
        "model = Model()\n",
        "\n",
        "# Store parameter history\n",
        "ws, bs = [], []\n",
        "current_loss = []\n",
        "epochs = range(50)\n",
        "\n",
        "for epoch in epochs:\n",
        "\n",
        "    # forward propagate the current parameters through the network to predict targets\n",
        "    y_hat =  model(inputs)\n",
        "\n",
        "    # compute the loss function by comparing target predictions to the true targets\n",
        "    current_loss.append(loss(outputs, y_hat, model))\n",
        "\n",
        "    # update the parameters (weight and bias) based on gradient descent\n",
        "    train(model, inputs, outputs, learning_rate=0.1)\n",
        "\n",
        "    # store the updated values of weight and bias\n",
        "    ws.append(model.w.numpy())\n",
        "    bs.append(model.b.numpy())\n",
        "\n",
        "    print('Epoch %2d: w=%1.2f b=%1.2f loss=%2.5f' % (epoch, ws[-1], bs[-1], current_loss[-1]))\n",
        "\n"
      ],
      "execution_count": 45,
      "outputs": [
        {
          "output_type": "stream",
          "name": "stdout",
          "text": [
            "Epoch  0: w=7.74 b=41.99 loss=106.97667\n",
            "Epoch  1: w=7.49 b=43.58 loss=70.68634\n",
            "Epoch  2: w=7.24 b=44.86 loss=47.22447\n",
            "Epoch  3: w=7.01 b=45.88 loss=32.00108\n",
            "Epoch  4: w=6.78 b=46.70 loss=22.07570\n",
            "Epoch  5: w=6.57 b=47.35 loss=15.56366\n",
            "Epoch  6: w=6.37 b=47.88 loss=11.25620\n",
            "Epoch  7: w=6.18 b=48.30 loss=8.37728\n",
            "Epoch  8: w=6.00 b=48.64 loss=6.42815\n",
            "Epoch  9: w=5.83 b=48.91 loss=5.08765\n",
            "Epoch 10: w=5.68 b=49.12 loss=4.14859\n",
            "Epoch 11: w=5.53 b=49.30 loss=3.47682\n",
            "Epoch 12: w=5.39 b=49.44 loss=2.98520\n",
            "Epoch 13: w=5.26 b=49.55 loss=2.61680\n",
            "Epoch 14: w=5.13 b=49.64 loss=2.33417\n",
            "Epoch 15: w=5.02 b=49.72 loss=2.11245\n",
            "Epoch 16: w=4.91 b=49.78 loss=1.93497\n",
            "Epoch 17: w=4.81 b=49.83 loss=1.79039\n",
            "Epoch 18: w=4.71 b=49.86 loss=1.67084\n",
            "Epoch 19: w=4.63 b=49.90 loss=1.57080\n",
            "Epoch 20: w=4.54 b=49.92 loss=1.48627\n",
            "Epoch 21: w=4.47 b=49.94 loss=1.41431\n",
            "Epoch 22: w=4.39 b=49.96 loss=1.35269\n",
            "Epoch 23: w=4.33 b=49.97 loss=1.29970\n",
            "Epoch 24: w=4.26 b=49.99 loss=1.25397\n",
            "Epoch 25: w=4.20 b=49.99 loss=1.21442\n",
            "Epoch 26: w=4.15 b=50.00 loss=1.18014\n",
            "Epoch 27: w=4.10 b=50.01 loss=1.15039\n",
            "Epoch 28: w=4.05 b=50.01 loss=1.12454\n",
            "Epoch 29: w=4.01 b=50.02 loss=1.10207\n",
            "Epoch 30: w=3.96 b=50.02 loss=1.08253\n",
            "Epoch 31: w=3.92 b=50.03 loss=1.06552\n",
            "Epoch 32: w=3.89 b=50.03 loss=1.05071\n",
            "Epoch 33: w=3.85 b=50.03 loss=1.03782\n",
            "Epoch 34: w=3.82 b=50.03 loss=1.02660\n",
            "Epoch 35: w=3.79 b=50.04 loss=1.01682\n",
            "Epoch 36: w=3.76 b=50.04 loss=1.00831\n",
            "Epoch 37: w=3.74 b=50.04 loss=1.00089\n",
            "Epoch 38: w=3.72 b=50.04 loss=0.99443\n",
            "Epoch 39: w=3.69 b=50.04 loss=0.98880\n",
            "Epoch 40: w=3.67 b=50.04 loss=0.98390\n",
            "Epoch 41: w=3.65 b=50.04 loss=0.97963\n",
            "Epoch 42: w=3.63 b=50.04 loss=0.97591\n",
            "Epoch 43: w=3.62 b=50.04 loss=0.97267\n",
            "Epoch 44: w=3.60 b=50.05 loss=0.96984\n",
            "Epoch 45: w=3.59 b=50.05 loss=0.96738\n",
            "Epoch 46: w=3.57 b=50.05 loss=0.96524\n",
            "Epoch 47: w=3.56 b=50.05 loss=0.96337\n",
            "Epoch 48: w=3.55 b=50.05 loss=0.96175\n",
            "Epoch 49: w=3.54 b=50.05 loss=0.96033\n"
          ]
        }
      ]
    },
    {
      "cell_type": "code",
      "metadata": {
        "colab": {
          "base_uri": "https://localhost:8080/",
          "height": 454
        },
        "id": "FSEt07wdHvi2",
        "outputId": "017c19c8-0869-406a-87a1-6dbe3673ccd7"
      },
      "source": [
        "plt.plot(epochs, ws, 'r', epochs, bs, 'b')\n",
        "plt.plot([w_true] * len(epochs), 'r--',\n",
        "         [b_true] * len(epochs), 'b--')\n",
        "plt.xlabel('Epoch number',fontsize=14)\n",
        "plt.ylabel('Parameter value',fontsize=14)\n",
        "plt.legend(['w', 'b', 'True w', 'True b'])\n",
        "plt.grid()"
      ],
      "execution_count": 46,
      "outputs": [
        {
          "output_type": "display_data",
          "data": {
            "text/plain": [
              "<Figure size 640x480 with 1 Axes>"
            ],
            "image/png": "[encoded data removed]"
          },
          "metadata": {}
        }
      ]
    },
    {
      "cell_type": "code",
      "metadata": {
        "colab": {
          "base_uri": "https://localhost:8080/",
          "height": 454
        },
        "id": "8cmu3mtNTVDf",
        "outputId": "76e8d073-5631-486a-c682-35ffe3087b4a"
      },
      "source": [
        "plt.plot(epochs, current_loss, 'k')\n",
        "plt.xlabel('Epoch number',fontsize=14)\n",
        "plt.ylabel('Loss',fontsize=14)\n",
        "plt.grid()"
      ],
      "execution_count": 47,
      "outputs": [
        {
          "output_type": "display_data",
          "data": {
            "text/plain": [
              "<Figure size 640x480 with 1 Axes>"
            ],
            "image/png": "[encoded data removed]"
          },
          "metadata": {}
        }
      ]
    },
    {
      "cell_type": "code",
      "metadata": {
        "colab": {
          "base_uri": "https://localhost:8080/",
          "height": 473
        },
        "id": "6pKDfpplbUxN",
        "outputId": "dcb4a7fb-e4de-43f1-a10f-1f9d42069d78"
      },
      "source": [
        "plt.scatter(inputs, outputs, c='b', label = \"data\")\n",
        "plt.plot(inputs, model(inputs),c='r',label = \"model predictions\")\n",
        "plt.legend()\n",
        "plt.xlabel('x',fontsize=14)\n",
        "plt.ylabel('y',fontsize=14)\n",
        "plt.grid()\n",
        "\n",
        "print('Current loss: %1.6f'% current_loss[-1])"
      ],
      "execution_count": 48,
      "outputs": [
        {
          "output_type": "stream",
          "name": "stdout",
          "text": [
            "Current loss: 0.960329\n"
          ]
        },
        {
          "output_type": "display_data",
          "data": {
            "text/plain": [
              "<Figure size 640x480 with 1 Axes>"
            ],
            "image/png": "[encoded data removed]"
          },
          "metadata": {}
        }
      ]
    },
    {
      "cell_type": "markdown",
      "metadata": {
        "id": "5N4lWxfS6YIQ"
      },
      "source": [
        "### Nice job! Our model closely fits the data.\n",
        "### Congratulations! <br>\n",
        "You've just learned how to train a neural network using gradient descent and back-propagation with Keras!"
      ]
    },
    {
      "cell_type": "markdown",
      "metadata": {
        "id": "iKUVGoRxgck_"
      },
      "source": [
        "## Challenge\n",
        "\n",
        "In the module project, you will be asked to explain the logic of back-propagation and gradient descent."
      ]
    },
    {
      "cell_type": "markdown",
      "metadata": {
        "id": "jFGB1EXNwxM-"
      },
      "source": [
        "## Investigate the effects of the `batch_size` and `learning_rate` hyperparameters.\n",
        "\n",
        "In parts 2 and 3, we'll return to modeling the MNIST handwritten digit data set. <br>\n",
        "Although we'll adjust `batch_size` and `learning_rate` separately, they are in fact related. <br>\n",
        "Larger `batch_size` gives more accurate parameter updates, so we can confidently move toward the minimum of the loss function with larger steps, i.e. we can use larger values of `learning_rate`. Conversely, smaller batch sizes give \"noisier\" updates, so we should take smaller steps, i.e. use smaller values of `learning_rate`.\n",
        "\n"
      ]
    },
    {
      "cell_type": "markdown",
      "metadata": {
        "id": "vTqZg-6igclA",
        "toc-hr-collapsed": true
      },
      "source": [
        "# 2. Effect of the Batch Size Hyperparameter on Training a Neural Network (Learn)"
      ]
    },
    {
      "cell_type": "markdown",
      "metadata": {
        "id": "0nrm-racgclA"
      },
      "source": [
        "## 2.1 Overview\n",
        "\n",
        "### 2.1.1 Stochastic Gradient Descent\n",
        "\n",
        "Stochastic Gradient Descent (SGD) estimates the gradients of the loss function over the entire dataset from the predictions of a **single** randomly chosen sample. With these gradients, we can then update the parameters.\n",
        "\n",
        "Why use a single sample instead of all of the samples (a batch), or a random subset of the samples (a minibatch)?\n",
        "\n",
        "Because calculating the gradient over the entire dataset (or a subset) is expensive computationally compared to using a single sample.\n",
        "\n",
        "So parameter updates in SGD are super-fast. What's the tradeoff? Can't get something for nothing!<br>\n",
        "The tradeoff is that SGD produces a noisy parameter update, because we are only using a small amount of information (a single sample) to compute the update!\n",
        "\n",
        "**Takeaway**: SGD computes *rapid* but *noisy* parameter updates!\n",
        "\n",
        "### 2.1.2 Minibatch Gradient Descent\n",
        "In minibatch Gradient Descent, the parameters are updated based on a batch of data points. Batch size is the number of data points our model uses to update the parameters and predict target values. A batch is a randomly selected subset of an epoch. All observations are eventually used when processing an epoch.\n",
        "\n",
        "* Smaller Batch = Slower Run Time, but potentially better generalization accuracy (due to noisier updates helping against overfitting!)\n",
        "* Default Batch = Balance between speed and generalization accuracy\n",
        "* Large Batch = Faster run time, but potentially worse generalization accuracy due to overfitting\n",
        "\n",
        "### 2.1.3 Batch Gradient Descent\n",
        "Another way to do Gradient Descent is to use all the data to compute each update, so that the parameters get updated only every epoch. But this is often problematic, because the whole dataset would have to fit in memory, and dataset can be huge."
      ]
    },
    {
      "cell_type": "markdown",
      "metadata": {
        "id": "oNQ2ZCi7I4i6"
      },
      "source": [
        "## 2.2 Baseline Model with MNIST data"
      ]
    },
    {
      "cell_type": "code",
      "metadata": {
        "id": "mZjW2lYVI9Q2",
        "nbgrader": {
          "grade": false,
          "grade_id": "cell-1c90a81f1eece31b",
          "locked": false,
          "schema_version": 3,
          "solution": true,
          "task": false
        }
      },
      "source": [
        "# load data\n",
        "\n",
        "# normalize data\n",
        "\n",
        "### BEGIN SOLUTION\n",
        "(X_train, y_train), (X_test, y_test) = mnist.load_data()\n",
        "\n",
        "# normalize data\n",
        "max_pixel_value = 255\n",
        "X_train = X_train / max_pixel_value\n",
        "X_test = X_test / max_pixel_value\n",
        "\n",
        "X_train = X_train.reshape((60000, 784))\n",
        "X_test = X_test.reshape((10000, 784))\n",
        "### END SOLUTION"
      ],
      "execution_count": 49,
      "outputs": []
    },
    {
      "cell_type": "markdown",
      "metadata": {
        "id": "Kkvukt_X9G48"
      },
      "source": [
        "### 2.2.1 Normalizing the data can help your model learn faster\n",
        "\n",
        "If your dataset has values ranging across multiple orders of magnitude (i.e. $10^1,~~10^2,~~10^3,~~10^4$), then gradient descent will update the weights and biases in grossly uneven proportions.<br>\n",
        "\n",
        "**Normalizing** the data, i.e shifting and scaling the values to lie within the unit interval $[0,1]$ ensures that all weight and bias updates are on the same scale, which can lead to quicker convergence.\n",
        "\n",
        "![](https://quicktomaster.com/wp-content/uploads/2020/08/contour_plot.png)\n",
        "\n",
        "There's more to be said about Normalization and Gradient Descent <br>\n",
        "If you are interested in going deeper, we highly recommend this well written article [Normalizing your data](https://www.jeremyjordan.me/batch-normalization/) in which Jeremy Jordan explores the impact of normalization on Gradient Descent in greater detail."
      ]
    },
    {
      "cell_type": "markdown",
      "metadata": {
        "id": "GPDPo4LG1gxY"
      },
      "source": [
        "### 2.2.2 Helper function to build our neural network model\n",
        "Since this is a classification problem with 10 classes and the target values are integers the [appropriate loss function](https://stats.stackexchange.com/questions/326065/cross-entropy-vs-sparse-cross-entropy-when-to-use-one-over-the-other) to use in our model is `sparse_categorical_crossentropy`."
      ]
    },
    {
      "cell_type": "code",
      "metadata": {
        "id": "o7x17kDKJSy5",
        "nbgrader": {
          "grade": false,
          "grade_id": "cell-38ed3365b403af52",
          "locked": false,
          "schema_version": 3,
          "solution": true,
          "task": false
        }
      },
      "source": [
        "# write a function called create_model that accepts a learning rate alpha for SGD as an input parameter\n",
        "# it should return a complied, 2 hidden layer neural net that uses SGD as the optimizer\n",
        "# Import SGD as discussed here: https://keras.io/api/optimizers/sgd/\n",
        "\n",
        "\n",
        "\n",
        "# create create_model\n",
        "def create_model(lr=.01): # To tune learning rate only\n",
        "    \"\"\"\n",
        "    Parameters\n",
        "    ----------\n",
        "    lr: float\n",
        "        Learning rate parameter used for Stocastic Gradient Descent\n",
        "\n",
        "    Returns\n",
        "    -------\n",
        "    model: keras object\n",
        "        A complied keras model\n",
        "    \"\"\"\n",
        "### BEGIN SOLUTION\n",
        "    opt = SGD(learning_rate=lr)\n",
        "\n",
        "    # Instantiate a model by passing a list of layers to Sequential() rather than adding layers in another line of code, make it cleaner to read\n",
        "    model = Sequential([\n",
        "          # hidden layer 1\n",
        "          Dense(64, activation='relu', input_dim=784),\n",
        "          # hidden layer 2\n",
        "          Dense(32, activation='relu'),\n",
        "          # output layer\n",
        "          Dense(10, activation='softmax')\n",
        "\n",
        "    ])\n",
        "\n",
        "    # # Or you can use a for loop to add hidden layers\n",
        "    # model = Sequential()\n",
        "    # model.add(Dense(64, activation='relu', input_dim=748))\n",
        "    # for i in num_layers:\n",
        "    #   model.add(Dense(num_units, activation='relu'))\n",
        "    # model.add(Dense(10, activation='softmas'))\n",
        "\n",
        "    # Compile our model\n",
        "    model.compile(optimizer=opt,\n",
        "                  loss='sparse_categorical_crossentropy',\n",
        "                  metrics=['accuracy']) # has to pass this as a list\n",
        "    return model\n",
        "### END SOLUTION"
      ],
      "execution_count": 50,
      "outputs": []
    },
    {
      "cell_type": "code",
      "metadata": {
        "colab": {
          "base_uri": "https://localhost:8080/"
        },
        "id": "W-HsAQ-9jgUM",
        "outputId": "ba40ec9e-7641-4481-bad2-bdeebfd1e25f"
      },
      "source": [
        "create_model().summary()"
      ],
      "execution_count": 51,
      "outputs": [
        {
          "output_type": "stream",
          "name": "stdout",
          "text": [
            "Model: \"sequential_7\"\n",
            "_________________________________________________________________\n",
            " Layer (type)                Output Shape              Param #   \n",
            "=================================================================\n",
            " dense_21 (Dense)            (None, 64)                50240     \n",
            "                                                                 \n",
            " dense_22 (Dense)            (None, 32)                2080      \n",
            "                                                                 \n",
            " dense_23 (Dense)            (None, 10)                330       \n",
            "                                                                 \n",
            "=================================================================\n",
            "Total params: 52650 (205.66 KB)\n",
            "Trainable params: 52650 (205.66 KB)\n",
            "Non-trainable params: 0 (0.00 Byte)\n",
            "_________________________________________________________________\n"
          ]
        }
      ]
    },
    {
      "cell_type": "markdown",
      "metadata": {
        "id": "ZF7UE-KluPsX"
      },
      "source": [
        "## 2.3 Experiments to gauge the effect of batch size (Follow Along)\n",
        "Let's run a series of experiments for a default, small, and large batch size."
      ]
    },
    {
      "cell_type": "markdown",
      "metadata": {
        "id": "VhpDaVFRJl3U"
      },
      "source": [
        "### 2.3.1 Default Batch Size\n",
        "Batch Size is 32"
      ]
    },
    {
      "cell_type": "code",
      "metadata": {
        "id": "P-ChVGikgclD",
        "scrolled": true,
        "colab": {
          "base_uri": "https://localhost:8080/"
        },
        "outputId": "974b65f0-d922-43d8-8a66-b2b7f8655691"
      },
      "source": [
        "%%time\n",
        "# instantiate a model and fit it with batch size of 32\n",
        "model = create_model()\n",
        "bt_default = model.fit(X_train, y_train, batch_size=32, validation_data=(X_test, y_test), epochs=5)"
      ],
      "execution_count": 52,
      "outputs": [
        {
          "output_type": "stream",
          "name": "stdout",
          "text": [
            "Epoch 1/5\n",
            "1875/1875 [==============================] - 5s 3ms/step - loss: 0.6833 - accuracy: 0.8131 - val_loss: 0.3293 - val_accuracy: 0.9081\n",
            "Epoch 2/5\n",
            "1875/1875 [==============================] - 4s 2ms/step - loss: 0.3026 - accuracy: 0.9120 - val_loss: 0.2589 - val_accuracy: 0.9264\n",
            "Epoch 3/5\n",
            "1875/1875 [==============================] - 6s 3ms/step - loss: 0.2494 - accuracy: 0.9279 - val_loss: 0.2332 - val_accuracy: 0.9337\n",
            "Epoch 4/5\n",
            "1875/1875 [==============================] - 4s 2ms/step - loss: 0.2172 - accuracy: 0.9374 - val_loss: 0.2050 - val_accuracy: 0.9407\n",
            "Epoch 5/5\n",
            "1875/1875 [==============================] - 4s 2ms/step - loss: 0.1928 - accuracy: 0.9438 - val_loss: 0.1834 - val_accuracy: 0.9478\n",
            "CPU times: user 27.2 s, sys: 2.2 s, total: 29.4 s\n",
            "Wall time: 24.1 s\n"
          ]
        }
      ]
    },
    {
      "cell_type": "markdown",
      "metadata": {
        "id": "krYQ1XHvnpk_"
      },
      "source": [
        "What's that number 1875? It's the number of batches in the full data set"
      ]
    },
    {
      "cell_type": "code",
      "metadata": {
        "colab": {
          "base_uri": "https://localhost:8080/"
        },
        "id": "knaV6-vBjwNQ",
        "outputId": "a87e1b87-8a1a-4950-ca6e-ac3bc68b836a"
      },
      "source": [
        "print(X_train.shape)\n",
        "print(X_train.shape[0]/32)"
      ],
      "execution_count": 53,
      "outputs": [
        {
          "output_type": "stream",
          "name": "stdout",
          "text": [
            "(60000, 784)\n",
            "1875.0\n"
          ]
        }
      ]
    },
    {
      "cell_type": "code",
      "metadata": {
        "colab": {
          "base_uri": "https://localhost:8080/"
        },
        "id": "A0hxaeqyj4ye",
        "outputId": "0408a8f3-24da-49cf-9d1c-ca450da5d41e"
      },
      "source": [
        "60000/32"
      ],
      "execution_count": 54,
      "outputs": [
        {
          "output_type": "execute_result",
          "data": {
            "text/plain": [
              "1875.0"
            ]
          },
          "metadata": {},
          "execution_count": 54
        }
      ]
    },
    {
      "cell_type": "markdown",
      "metadata": {
        "id": "KvsbOFnDJuG0"
      },
      "source": [
        "### 2.3.2 Small Batch Size\n",
        "Batch Size is 8\n",
        "- Training per epoch takes longer, a lot more updates, 7500 instead of 1875\n",
        "- performance better after 5 epochs because we make more updates"
      ]
    },
    {
      "cell_type": "code",
      "metadata": {
        "id": "diDzvb-UJ1je",
        "scrolled": true,
        "colab": {
          "base_uri": "https://localhost:8080/"
        },
        "outputId": "0d73ef3e-a49a-4237-90b0-7247988b5c0d"
      },
      "source": [
        "%%time\n",
        "# instantiate a model and fit it with batch size of 8\n",
        "#YOUR CODE HERE\n",
        "bt_small = model.fit(X_train, y_train, batch_size=8, validation_data=(X_test, y_test), epochs=5)"
      ],
      "execution_count": 56,
      "outputs": [
        {
          "output_type": "stream",
          "name": "stdout",
          "text": [
            "Epoch 1/5\n",
            "7500/7500 [==============================] - 17s 2ms/step - loss: 0.1742 - accuracy: 0.9484 - val_loss: 0.1562 - val_accuracy: 0.9558\n",
            "Epoch 2/5\n",
            "7500/7500 [==============================] - 15s 2ms/step - loss: 0.1330 - accuracy: 0.9606 - val_loss: 0.1298 - val_accuracy: 0.9613\n",
            "Epoch 3/5\n",
            "7500/7500 [==============================] - 29s 4ms/step - loss: 0.1090 - accuracy: 0.9672 - val_loss: 0.1086 - val_accuracy: 0.9660\n",
            "Epoch 4/5\n",
            "7500/7500 [==============================] - 18s 2ms/step - loss: 0.0924 - accuracy: 0.9726 - val_loss: 0.1045 - val_accuracy: 0.9679\n",
            "Epoch 5/5\n",
            "7500/7500 [==============================] - 15s 2ms/step - loss: 0.0802 - accuracy: 0.9764 - val_loss: 0.0928 - val_accuracy: 0.9710\n",
            "CPU times: user 1min 32s, sys: 4.95 s, total: 1min 37s\n",
            "Wall time: 2min 22s\n"
          ]
        }
      ]
    },
    {
      "cell_type": "markdown",
      "metadata": {
        "id": "_iPvvvt5J2Xl"
      },
      "source": [
        "### 2.3.3 Large Batch Size\n",
        "Batch Size is 512\n",
        "- Training per epoch is faster, fewer updates\n",
        "- performance not as good after 5 epochs because we make fewer updates, so we need more epochs to converge, but the model training time might end up to be about the same as previous model"
      ]
    },
    {
      "cell_type": "code",
      "metadata": {
        "id": "7h8Z5293KABT",
        "colab": {
          "base_uri": "https://localhost:8080/"
        },
        "outputId": "1e94b7f8-ba07-4265-f17b-73d6dc04043c"
      },
      "source": [
        "# instantiate a model and fit it with batch size of 512\n",
        "#YOUR CODE HERE\n",
        "bt_large = model.fit(X_train, y_train, batch_size=512, validation_data=(X_test, y_test), epochs=5)"
      ],
      "execution_count": 57,
      "outputs": [
        {
          "output_type": "stream",
          "name": "stdout",
          "text": [
            "Epoch 1/5\n",
            "118/118 [==============================] - 2s 19ms/step - loss: 0.0595 - accuracy: 0.9830 - val_loss: 0.0868 - val_accuracy: 0.9723\n",
            "Epoch 2/5\n",
            "118/118 [==============================] - 2s 15ms/step - loss: 0.0574 - accuracy: 0.9838 - val_loss: 0.0854 - val_accuracy: 0.9732\n",
            "Epoch 3/5\n",
            "118/118 [==============================] - 2s 13ms/step - loss: 0.0565 - accuracy: 0.9844 - val_loss: 0.0851 - val_accuracy: 0.9729\n",
            "Epoch 4/5\n",
            "118/118 [==============================] - 1s 12ms/step - loss: 0.0558 - accuracy: 0.9847 - val_loss: 0.0845 - val_accuracy: 0.9733\n",
            "Epoch 5/5\n",
            "118/118 [==============================] - 1s 9ms/step - loss: 0.0553 - accuracy: 0.9848 - val_loss: 0.0846 - val_accuracy: 0.9736\n"
          ]
        }
      ]
    },
    {
      "cell_type": "code",
      "metadata": {
        "colab": {
          "base_uri": "https://localhost:8080/"
        },
        "id": "vE2Awnk3aXPv",
        "outputId": "5793803f-5137-481d-b798-aa5a8e3e5076"
      },
      "source": [
        "bt_default.history"
      ],
      "execution_count": 58,
      "outputs": [
        {
          "output_type": "execute_result",
          "data": {
            "text/plain": [
              "{'loss': [0.6832714676856995,\n",
              "  0.3026222884654999,\n",
              "  0.24939483404159546,\n",
              "  0.2171924114227295,\n",
              "  0.19284668564796448],\n",
              " 'accuracy': [0.8131166696548462,\n",
              "  0.9120000004768372,\n",
              "  0.9278500080108643,\n",
              "  0.9374333620071411,\n",
              "  0.9438333511352539],\n",
              " 'val_loss': [0.32926690578460693,\n",
              "  0.2589048445224762,\n",
              "  0.233183816075325,\n",
              "  0.20501111447811127,\n",
              "  0.18339982628822327],\n",
              " 'val_accuracy': [0.9081000089645386,\n",
              "  0.9264000058174133,\n",
              "  0.9337000250816345,\n",
              "  0.9406999945640564,\n",
              "  0.9477999806404114]}"
            ]
          },
          "metadata": {},
          "execution_count": 58
        }
      ]
    },
    {
      "cell_type": "code",
      "metadata": {
        "id": "YQFCYnUSakDU",
        "colab": {
          "base_uri": "https://localhost:8080/",
          "height": 206
        },
        "outputId": "af5b2722-4f08-40ba-da4a-cdea8b36b882"
      },
      "source": [
        "import pandas as pd\n",
        "\n",
        "dd = pd.DataFrame.from_dict(bt_default.history)\n",
        "dd"
      ],
      "execution_count": 59,
      "outputs": [
        {
          "output_type": "execute_result",
          "data": {
            "text/plain": [
              "       loss  accuracy  val_loss  val_accuracy\n",
              "0  0.683271  0.813117  0.329267        0.9081\n",
              "1  0.302622  0.912000  0.258905        0.9264\n",
              "2  0.249395  0.927850  0.233184        0.9337\n",
              "3  0.217192  0.937433  0.205011        0.9407\n",
              "4  0.192847  0.943833  0.183400        0.9478"
            ],
            "text/html": [
              "\n",
              "  <div id=\"df-bde5c3d7-9333-4592-bcda-9644ec251dd6\" class=\"colab-df-container\">\n",
              "    <div>\n",
              "<style scoped>\n",
              "    .dataframe tbody tr th:only-of-type {\n",
              "        vertical-align: middle;\n",
              "    }\n",
              "\n",
              "    .dataframe tbody tr th {\n",
              "        vertical-align: top;\n",
              "    }\n",
              "\n",
              "    .dataframe thead th {\n",
              "        text-align: right;\n",
              "    }\n",
              "</style>\n",
              "<table border=\"1\" class=\"dataframe\">\n",
              "  <thead>\n",
              "    <tr style=\"text-align: right;\">\n",
              "      <th></th>\n",
              "      <th>loss</th>\n",
              "      <th>accuracy</th>\n",
              "      <th>val_loss</th>\n",
              "      <th>val_accuracy</th>\n",
              "    </tr>\n",
              "  </thead>\n",
              "  <tbody>\n",
              "    <tr>\n",
              "      <th>0</th>\n",
              "      <td>0.683271</td>\n",
              "      <td>0.813117</td>\n",
              "      <td>0.329267</td>\n",
              "      <td>0.9081</td>\n",
              "    </tr>\n",
              "    <tr>\n",
              "      <th>1</th>\n",
              "      <td>0.302622</td>\n",
              "      <td>0.912000</td>\n",
              "      <td>0.258905</td>\n",
              "      <td>0.9264</td>\n",
              "    </tr>\n",
              "    <tr>\n",
              "      <th>2</th>\n",
              "      <td>0.249395</td>\n",
              "      <td>0.927850</td>\n",
              "      <td>0.233184</td>\n",
              "      <td>0.9337</td>\n",
              "    </tr>\n",
              "    <tr>\n",
              "      <th>3</th>\n",
              "      <td>0.217192</td>\n",
              "      <td>0.937433</td>\n",
              "      <td>0.205011</td>\n",
              "      <td>0.9407</td>\n",
              "    </tr>\n",
              "    <tr>\n",
              "      <th>4</th>\n",
              "      <td>0.192847</td>\n",
              "      <td>0.943833</td>\n",
              "      <td>0.183400</td>\n",
              "      <td>0.9478</td>\n",
              "    </tr>\n",
              "  </tbody>\n",
              "</table>\n",
              "</div>\n",
              "    <div class=\"colab-df-buttons\">\n",
              "\n",
              "  <div class=\"colab-df-container\">\n",
              "    <button class=\"colab-df-convert\" onclick=\"convertToInteractive('df-bde5c3d7-9333-4592-bcda-9644ec251dd6')\"\n",
              "            title=\"Convert this dataframe to an interactive table.\"\n",
              "            style=\"display:none;\">\n",
              "\n",
              "  <svg xmlns=\"http://www.w3.org/2000/svg\" height=\"24px\" viewBox=\"0 -960 960 960\">\n",
              "    <path d=\"M120-120v-720h720v720H120Zm60-500h600v-160H180v160Zm220 220h160v-160H400v160Zm0 220h160v-160H400v160ZM180-400h160v-160H180v160Zm440 0h160v-160H620v160ZM180-180h160v-160H180v160Zm440 0h160v-160H620v160Z\"/>\n",
              "  </svg>\n",
              "    </button>\n",
              "\n",
              "  <style>\n",
              "    .colab-df-container {\n",
              "      display:flex;\n",
              "      gap: 12px;\n",
              "    }\n",
              "\n",
              "    .colab-df-convert {\n",
              "      background-color: #E8F0FE;\n",
              "      border: none;\n",
              "      border-radius: 50%;\n",
              "      cursor: pointer;\n",
              "      display: none;\n",
              "      fill: #1967D2;\n",
              "      height: 32px;\n",
              "      padding: 0 0 0 0;\n",
              "      width: 32px;\n",
              "    }\n",
              "\n",
              "    .colab-df-convert:hover {\n",
              "      background-color: #E2EBFA;\n",
              "      box-shadow: 0px 1px 2px rgba(60, 64, 67, 0.3), 0px 1px 3px 1px rgba(60, 64, 67, 0.15);\n",
              "      fill: #174EA6;\n",
              "    }\n",
              "\n",
              "    .colab-df-buttons div {\n",
              "      margin-bottom: 4px;\n",
              "    }\n",
              "\n",
              "    [theme=dark] .colab-df-convert {\n",
              "      background-color: #3B4455;\n",
              "      fill: #D2E3FC;\n",
              "    }\n",
              "\n",
              "    [theme=dark] .colab-df-convert:hover {\n",
              "      background-color: #434B5C;\n",
              "      box-shadow: 0px 1px 3px 1px rgba(0, 0, 0, 0.15);\n",
              "      filter: drop-shadow(0px 1px 2px rgba(0, 0, 0, 0.3));\n",
              "      fill: #FFFFFF;\n",
              "    }\n",
              "  </style>\n",
              "\n",
              "    <script>\n",
              "      const buttonEl =\n",
              "        document.querySelector('#df-bde5c3d7-9333-4592-bcda-9644ec251dd6 button.colab-df-convert');\n",
              "      buttonEl.style.display =\n",
              "        google.colab.kernel.accessAllowed ? 'block' : 'none';\n",
              "\n",
              "      async function convertToInteractive(key) {\n",
              "        const element = document.querySelector('#df-bde5c3d7-9333-4592-bcda-9644ec251dd6');\n",
              "        const dataTable =\n",
              "          await google.colab.kernel.invokeFunction('convertToInteractive',\n",
              "                                                    [key], {});\n",
              "        if (!dataTable) return;\n",
              "\n",
              "        const docLinkHtml = 'Like what you see? Visit the ' +\n",
              "          '<a target=\"_blank\" href=https://colab.research.google.com/notebooks/data_table.ipynb>data table notebook</a>'\n",
              "          + ' to learn more about interactive tables.';\n",
              "        element.innerHTML = '';\n",
              "        dataTable['output_type'] = 'display_data';\n",
              "        await google.colab.output.renderOutput(dataTable, element);\n",
              "        const docLink = document.createElement('div');\n",
              "        docLink.innerHTML = docLinkHtml;\n",
              "        element.appendChild(docLink);\n",
              "      }\n",
              "    </script>\n",
              "  </div>\n",
              "\n",
              "\n",
              "<div id=\"df-7f44d3a0-b0a5-4c22-aac7-c083b1d5c772\">\n",
              "  <button class=\"colab-df-quickchart\" onclick=\"quickchart('df-7f44d3a0-b0a5-4c22-aac7-c083b1d5c772')\"\n",
              "            title=\"Suggest charts\"\n",
              "            style=\"display:none;\">\n",
              "\n",
              "<svg xmlns=\"http://www.w3.org/2000/svg\" height=\"24px\"viewBox=\"0 0 24 24\"\n",
              "     width=\"24px\">\n",
              "    <g>\n",
              "        <path d=\"M19 3H5c-1.1 0-2 .9-2 2v14c0 1.1.9 2 2 2h14c1.1 0 2-.9 2-2V5c0-1.1-.9-2-2-2zM9 17H7v-7h2v7zm4 0h-2V7h2v10zm4 0h-2v-4h2v4z\"/>\n",
              "    </g>\n",
              "</svg>\n",
              "  </button>\n",
              "\n",
              "<style>\n",
              "  .colab-df-quickchart {\n",
              "      --bg-color: #E8F0FE;\n",
              "      --fill-color: #1967D2;\n",
              "      --hover-bg-color: #E2EBFA;\n",
              "      --hover-fill-color: #174EA6;\n",
              "      --disabled-fill-color: #AAA;\n",
              "      --disabled-bg-color: #DDD;\n",
              "  }\n",
              "\n",
              "  [theme=dark] .colab-df-quickchart {\n",
              "      --bg-color: #3B4455;\n",
              "      --fill-color: #D2E3FC;\n",
              "      --hover-bg-color: #434B5C;\n",
              "      --hover-fill-color: #FFFFFF;\n",
              "      --disabled-bg-color: #3B4455;\n",
              "      --disabled-fill-color: #666;\n",
              "  }\n",
              "\n",
              "  .colab-df-quickchart {\n",
              "    background-color: var(--bg-color);\n",
              "    border: none;\n",
              "    border-radius: 50%;\n",
              "    cursor: pointer;\n",
              "    display: none;\n",
              "    fill: var(--fill-color);\n",
              "    height: 32px;\n",
              "    padding: 0;\n",
              "    width: 32px;\n",
              "  }\n",
              "\n",
              "  .colab-df-quickchart:hover {\n",
              "    background-color: var(--hover-bg-color);\n",
              "    box-shadow: 0 1px 2px rgba(60, 64, 67, 0.3), 0 1px 3px 1px rgba(60, 64, 67, 0.15);\n",
              "    fill: var(--button-hover-fill-color);\n",
              "  }\n",
              "\n",
              "  .colab-df-quickchart-complete:disabled,\n",
              "  .colab-df-quickchart-complete:disabled:hover {\n",
              "    background-color: var(--disabled-bg-color);\n",
              "    fill: var(--disabled-fill-color);\n",
              "    box-shadow: none;\n",
              "  }\n",
              "\n",
              "  .colab-df-spinner {\n",
              "    border: 2px solid var(--fill-color);\n",
              "    border-color: transparent;\n",
              "    border-bottom-color: var(--fill-color);\n",
              "    animation:\n",
              "      spin 1s steps(1) infinite;\n",
              "  }\n",
              "\n",
              "  @keyframes spin {\n",
              "    0% {\n",
              "      border-color: transparent;\n",
              "      border-bottom-color: var(--fill-color);\n",
              "      border-left-color: var(--fill-color);\n",
              "    }\n",
              "    20% {\n",
              "      border-color: transparent;\n",
              "      border-left-color: var(--fill-color);\n",
              "      border-top-color: var(--fill-color);\n",
              "    }\n",
              "    30% {\n",
              "      border-color: transparent;\n",
              "      border-left-color: var(--fill-color);\n",
              "      border-top-color: var(--fill-color);\n",
              "      border-right-color: var(--fill-color);\n",
              "    }\n",
              "    40% {\n",
              "      border-color: transparent;\n",
              "      border-right-color: var(--fill-color);\n",
              "      border-top-color: var(--fill-color);\n",
              "    }\n",
              "    60% {\n",
              "      border-color: transparent;\n",
              "      border-right-color: var(--fill-color);\n",
              "    }\n",
              "    80% {\n",
              "      border-color: transparent;\n",
              "      border-right-color: var(--fill-color);\n",
              "      border-bottom-color: var(--fill-color);\n",
              "    }\n",
              "    90% {\n",
              "      border-color: transparent;\n",
              "      border-bottom-color: var(--fill-color);\n",
              "    }\n",
              "  }\n",
              "</style>\n",
              "\n",
              "  <script>\n",
              "    async function quickchart(key) {\n",
              "      const quickchartButtonEl =\n",
              "        document.querySelector('#' + key + ' button');\n",
              "      quickchartButtonEl.disabled = true;  // To prevent multiple clicks.\n",
              "      quickchartButtonEl.classList.add('colab-df-spinner');\n",
              "      try {\n",
              "        const charts = await google.colab.kernel.invokeFunction(\n",
              "            'suggestCharts', [key], {});\n",
              "      } catch (error) {\n",
              "        console.error('Error during call to suggestCharts:', error);\n",
              "      }\n",
              "      quickchartButtonEl.classList.remove('colab-df-spinner');\n",
              "      quickchartButtonEl.classList.add('colab-df-quickchart-complete');\n",
              "    }\n",
              "    (() => {\n",
              "      let quickchartButtonEl =\n",
              "        document.querySelector('#df-7f44d3a0-b0a5-4c22-aac7-c083b1d5c772 button');\n",
              "      quickchartButtonEl.style.display =\n",
              "        google.colab.kernel.accessAllowed ? 'block' : 'none';\n",
              "    })();\n",
              "  </script>\n",
              "</div>\n",
              "\n",
              "  <div id=\"id_5f0341c5-bf83-4e4e-94e8-c07bfef4577f\">\n",
              "    <style>\n",
              "      .colab-df-generate {\n",
              "        background-color: #E8F0FE;\n",
              "        border: none;\n",
              "        border-radius: 50%;\n",
              "        cursor: pointer;\n",
              "        display: none;\n",
              "        fill: #1967D2;\n",
              "        height: 32px;\n",
              "        padding: 0 0 0 0;\n",
              "        width: 32px;\n",
              "      }\n",
              "\n",
              "      .colab-df-generate:hover {\n",
              "        background-color: #E2EBFA;\n",
              "        box-shadow: 0px 1px 2px rgba(60, 64, 67, 0.3), 0px 1px 3px 1px rgba(60, 64, 67, 0.15);\n",
              "        fill: #174EA6;\n",
              "      }\n",
              "\n",
              "      [theme=dark] .colab-df-generate {\n",
              "        background-color: #3B4455;\n",
              "        fill: #D2E3FC;\n",
              "      }\n",
              "\n",
              "      [theme=dark] .colab-df-generate:hover {\n",
              "        background-color: #434B5C;\n",
              "        box-shadow: 0px 1px 3px 1px rgba(0, 0, 0, 0.15);\n",
              "        filter: drop-shadow(0px 1px 2px rgba(0, 0, 0, 0.3));\n",
              "        fill: #FFFFFF;\n",
              "      }\n",
              "    </style>\n",
              "    <button class=\"colab-df-generate\" onclick=\"generateWithVariable('dd')\"\n",
              "            title=\"Generate code using this dataframe.\"\n",
              "            style=\"display:none;\">\n",
              "\n",
              "  <svg xmlns=\"http://www.w3.org/2000/svg\" height=\"24px\"viewBox=\"0 0 24 24\"\n",
              "       width=\"24px\">\n",
              "    <path d=\"M7,19H8.4L18.45,9,17,7.55,7,17.6ZM5,21V16.75L18.45,3.32a2,2,0,0,1,2.83,0l1.4,1.43a1.91,1.91,0,0,1,.58,1.4,1.91,1.91,0,0,1-.58,1.4L9.25,21ZM18.45,9,17,7.55Zm-12,3A5.31,5.31,0,0,0,4.9,8.1,5.31,5.31,0,0,0,1,6.5,5.31,5.31,0,0,0,4.9,4.9,5.31,5.31,0,0,0,6.5,1,5.31,5.31,0,0,0,8.1,4.9,5.31,5.31,0,0,0,12,6.5,5.46,5.46,0,0,0,6.5,12Z\"/>\n",
              "  </svg>\n",
              "    </button>\n",
              "    <script>\n",
              "      (() => {\n",
              "      const buttonEl =\n",
              "        document.querySelector('#id_5f0341c5-bf83-4e4e-94e8-c07bfef4577f button.colab-df-generate');\n",
              "      buttonEl.style.display =\n",
              "        google.colab.kernel.accessAllowed ? 'block' : 'none';\n",
              "\n",
              "      buttonEl.onclick = () => {\n",
              "        google.colab.notebook.generateWithVariable('dd');\n",
              "      }\n",
              "      })();\n",
              "    </script>\n",
              "  </div>\n",
              "\n",
              "    </div>\n",
              "  </div>\n"
            ],
            "application/vnd.google.colaboratory.intrinsic+json": {
              "type": "dataframe",
              "variable_name": "dd",
              "summary": "{\n  \"name\": \"dd\",\n  \"rows\": 5,\n  \"fields\": [\n    {\n      \"column\": \"loss\",\n      \"properties\": {\n        \"dtype\": \"number\",\n        \"std\": 0.20222492386323324,\n        \"min\": 0.19284668564796448,\n        \"max\": 0.6832714676856995,\n        \"num_unique_values\": 5,\n        \"samples\": [\n          0.3026222884654999,\n          0.19284668564796448,\n          0.24939483404159546\n        ],\n        \"semantic_type\": \"\",\n        \"description\": \"\"\n      }\n    },\n    {\n      \"column\": \"accuracy\",\n      \"properties\": {\n        \"dtype\": \"number\",\n        \"std\": 0.05375074487075729,\n        \"min\": 0.8131166696548462,\n        \"max\": 0.9438333511352539,\n        \"num_unique_values\": 5,\n        \"samples\": [\n          0.9120000004768372,\n          0.9438333511352539,\n          0.9278500080108643\n        ],\n        \"semantic_type\": \"\",\n        \"description\": \"\"\n      }\n    },\n    {\n      \"column\": \"val_loss\",\n      \"properties\": {\n        \"dtype\": \"number\",\n        \"std\": 0.0565268936435608,\n        \"min\": 0.18339982628822327,\n        \"max\": 0.32926690578460693,\n        \"num_unique_values\": 5,\n        \"samples\": [\n          0.2589048445224762,\n          0.18339982628822327,\n          0.233183816075325\n        ],\n        \"semantic_type\": \"\",\n        \"description\": \"\"\n      }\n    },\n    {\n      \"column\": \"val_accuracy\",\n      \"properties\": {\n        \"dtype\": \"number\",\n        \"std\": 0.015236558872987848,\n        \"min\": 0.9081000089645386,\n        \"max\": 0.9477999806404114,\n        \"num_unique_values\": 5,\n        \"samples\": [\n          0.9264000058174133,\n          0.9477999806404114,\n          0.9337000250816345\n        ],\n        \"semantic_type\": \"\",\n        \"description\": \"\"\n      }\n    }\n  ]\n}"
            }
          },
          "metadata": {},
          "execution_count": 59
        }
      ]
    },
    {
      "cell_type": "markdown",
      "metadata": {
        "id": "B0ujUz6BKUGz"
      },
      "source": [
        "### 2.3.4 Visualize Results"
      ]
    },
    {
      "cell_type": "code",
      "metadata": {
        "id": "o-5DOZNMKYt-",
        "colab": {
          "base_uri": "https://localhost:8080/",
          "height": 519
        },
        "outputId": "9dbb6099-b85a-4223-b6b4-06d483b431c4"
      },
      "source": [
        "import seaborn as sns\n",
        "import pandas as pd\n",
        "\n",
        "experiment_dfs = []\n",
        "\n",
        "for experiment, label in zip([bt_default, bt_small, bt_large], [\"32_\", \"8_\", \"512_\"]):\n",
        "\n",
        "    df = pd.DataFrame.from_dict(experiment.history)\n",
        "    df['epoch'] = df.index.values\n",
        "    df['Batch Size'] = label\n",
        "\n",
        "    # append to list of experiment data frames\n",
        "    experiment_dfs.append(df)\n",
        "\n",
        "df = pd.concat(experiment_dfs,ignore_index=True)\n",
        "df['Batch Size'] = df['Batch Size'].astype('str')\n",
        "df"
      ],
      "execution_count": 74,
      "outputs": [
        {
          "output_type": "execute_result",
          "data": {
            "text/plain": [
              "        loss  accuracy  val_loss  val_accuracy  epoch Batch Size\n",
              "0   0.683271  0.813117  0.329267        0.9081      0        32_\n",
              "1   0.302622  0.912000  0.258905        0.9264      1        32_\n",
              "2   0.249395  0.927850  0.233184        0.9337      2        32_\n",
              "3   0.217192  0.937433  0.205011        0.9407      3        32_\n",
              "4   0.192847  0.943833  0.183400        0.9478      4        32_\n",
              "5   0.174229  0.948383  0.156196        0.9558      0         8_\n",
              "6   0.132989  0.960633  0.129813        0.9613      1         8_\n",
              "7   0.108995  0.967167  0.108571        0.9660      2         8_\n",
              "8   0.092411  0.972650  0.104466        0.9679      3         8_\n",
              "9   0.080247  0.976350  0.092824        0.9710      4         8_\n",
              "10  0.059510  0.982967  0.086822        0.9723      0       512_\n",
              "11  0.057433  0.983833  0.085449        0.9732      1       512_\n",
              "12  0.056462  0.984400  0.085118        0.9729      2       512_\n",
              "13  0.055813  0.984683  0.084485        0.9733      3       512_\n",
              "14  0.055275  0.984817  0.084634        0.9736      4       512_"
            ],
            "text/html": [
              "\n",
              "  <div id=\"df-39630162-351b-4c3f-9274-8ac5981d3495\" class=\"colab-df-container\">\n",
              "    <div>\n",
              "<style scoped>\n",
              "    .dataframe tbody tr th:only-of-type {\n",
              "        vertical-align: middle;\n",
              "    }\n",
              "\n",
              "    .dataframe tbody tr th {\n",
              "        vertical-align: top;\n",
              "    }\n",
              "\n",
              "    .dataframe thead th {\n",
              "        text-align: right;\n",
              "    }\n",
              "</style>\n",
              "<table border=\"1\" class=\"dataframe\">\n",
              "  <thead>\n",
              "    <tr style=\"text-align: right;\">\n",
              "      <th></th>\n",
              "      <th>loss</th>\n",
              "      <th>accuracy</th>\n",
              "      <th>val_loss</th>\n",
              "      <th>val_accuracy</th>\n",
              "      <th>epoch</th>\n",
              "      <th>Batch Size</th>\n",
              "    </tr>\n",
              "  </thead>\n",
              "  <tbody>\n",
              "    <tr>\n",
              "      <th>0</th>\n",
              "      <td>0.683271</td>\n",
              "      <td>0.813117</td>\n",
              "      <td>0.329267</td>\n",
              "      <td>0.9081</td>\n",
              "      <td>0</td>\n",
              "      <td>32_</td>\n",
              "    </tr>\n",
              "    <tr>\n",
              "      <th>1</th>\n",
              "      <td>0.302622</td>\n",
              "      <td>0.912000</td>\n",
              "      <td>0.258905</td>\n",
              "      <td>0.9264</td>\n",
              "      <td>1</td>\n",
              "      <td>32_</td>\n",
              "    </tr>\n",
              "    <tr>\n",
              "      <th>2</th>\n",
              "      <td>0.249395</td>\n",
              "      <td>0.927850</td>\n",
              "      <td>0.233184</td>\n",
              "      <td>0.9337</td>\n",
              "      <td>2</td>\n",
              "      <td>32_</td>\n",
              "    </tr>\n",
              "    <tr>\n",
              "      <th>3</th>\n",
              "      <td>0.217192</td>\n",
              "      <td>0.937433</td>\n",
              "      <td>0.205011</td>\n",
              "      <td>0.9407</td>\n",
              "      <td>3</td>\n",
              "      <td>32_</td>\n",
              "    </tr>\n",
              "    <tr>\n",
              "      <th>4</th>\n",
              "      <td>0.192847</td>\n",
              "      <td>0.943833</td>\n",
              "      <td>0.183400</td>\n",
              "      <td>0.9478</td>\n",
              "      <td>4</td>\n",
              "      <td>32_</td>\n",
              "    </tr>\n",
              "    <tr>\n",
              "      <th>5</th>\n",
              "      <td>0.174229</td>\n",
              "      <td>0.948383</td>\n",
              "      <td>0.156196</td>\n",
              "      <td>0.9558</td>\n",
              "      <td>0</td>\n",
              "      <td>8_</td>\n",
              "    </tr>\n",
              "    <tr>\n",
              "      <th>6</th>\n",
              "      <td>0.132989</td>\n",
              "      <td>0.960633</td>\n",
              "      <td>0.129813</td>\n",
              "      <td>0.9613</td>\n",
              "      <td>1</td>\n",
              "      <td>8_</td>\n",
              "    </tr>\n",
              "    <tr>\n",
              "      <th>7</th>\n",
              "      <td>0.108995</td>\n",
              "      <td>0.967167</td>\n",
              "      <td>0.108571</td>\n",
              "      <td>0.9660</td>\n",
              "      <td>2</td>\n",
              "      <td>8_</td>\n",
              "    </tr>\n",
              "    <tr>\n",
              "      <th>8</th>\n",
              "      <td>0.092411</td>\n",
              "      <td>0.972650</td>\n",
              "      <td>0.104466</td>\n",
              "      <td>0.9679</td>\n",
              "      <td>3</td>\n",
              "      <td>8_</td>\n",
              "    </tr>\n",
              "    <tr>\n",
              "      <th>9</th>\n",
              "      <td>0.080247</td>\n",
              "      <td>0.976350</td>\n",
              "      <td>0.092824</td>\n",
              "      <td>0.9710</td>\n",
              "      <td>4</td>\n",
              "      <td>8_</td>\n",
              "    </tr>\n",
              "    <tr>\n",
              "      <th>10</th>\n",
              "      <td>0.059510</td>\n",
              "      <td>0.982967</td>\n",
              "      <td>0.086822</td>\n",
              "      <td>0.9723</td>\n",
              "      <td>0</td>\n",
              "      <td>512_</td>\n",
              "    </tr>\n",
              "    <tr>\n",
              "      <th>11</th>\n",
              "      <td>0.057433</td>\n",
              "      <td>0.983833</td>\n",
              "      <td>0.085449</td>\n",
              "      <td>0.9732</td>\n",
              "      <td>1</td>\n",
              "      <td>512_</td>\n",
              "    </tr>\n",
              "    <tr>\n",
              "      <th>12</th>\n",
              "      <td>0.056462</td>\n",
              "      <td>0.984400</td>\n",
              "      <td>0.085118</td>\n",
              "      <td>0.9729</td>\n",
              "      <td>2</td>\n",
              "      <td>512_</td>\n",
              "    </tr>\n",
              "    <tr>\n",
              "      <th>13</th>\n",
              "      <td>0.055813</td>\n",
              "      <td>0.984683</td>\n",
              "      <td>0.084485</td>\n",
              "      <td>0.9733</td>\n",
              "      <td>3</td>\n",
              "      <td>512_</td>\n",
              "    </tr>\n",
              "    <tr>\n",
              "      <th>14</th>\n",
              "      <td>0.055275</td>\n",
              "      <td>0.984817</td>\n",
              "      <td>0.084634</td>\n",
              "      <td>0.9736</td>\n",
              "      <td>4</td>\n",
              "      <td>512_</td>\n",
              "    </tr>\n",
              "  </tbody>\n",
              "</table>\n",
              "</div>\n",
              "    <div class=\"colab-df-buttons\">\n",
              "\n",
              "  <div class=\"colab-df-container\">\n",
              "    <button class=\"colab-df-convert\" onclick=\"convertToInteractive('df-39630162-351b-4c3f-9274-8ac5981d3495')\"\n",
              "            title=\"Convert this dataframe to an interactive table.\"\n",
              "            style=\"display:none;\">\n",
              "\n",
              "  <svg xmlns=\"http://www.w3.org/2000/svg\" height=\"24px\" viewBox=\"0 -960 960 960\">\n",
              "    <path d=\"M120-120v-720h720v720H120Zm60-500h600v-160H180v160Zm220 220h160v-160H400v160Zm0 220h160v-160H400v160ZM180-400h160v-160H180v160Zm440 0h160v-160H620v160ZM180-180h160v-160H180v160Zm440 0h160v-160H620v160Z\"/>\n",
              "  </svg>\n",
              "    </button>\n",
              "\n",
              "  <style>\n",
              "    .colab-df-container {\n",
              "      display:flex;\n",
              "      gap: 12px;\n",
              "    }\n",
              "\n",
              "    .colab-df-convert {\n",
              "      background-color: #E8F0FE;\n",
              "      border: none;\n",
              "      border-radius: 50%;\n",
              "      cursor: pointer;\n",
              "      display: none;\n",
              "      fill: #1967D2;\n",
              "      height: 32px;\n",
              "      padding: 0 0 0 0;\n",
              "      width: 32px;\n",
              "    }\n",
              "\n",
              "    .colab-df-convert:hover {\n",
              "      background-color: #E2EBFA;\n",
              "      box-shadow: 0px 1px 2px rgba(60, 64, 67, 0.3), 0px 1px 3px 1px rgba(60, 64, 67, 0.15);\n",
              "      fill: #174EA6;\n",
              "    }\n",
              "\n",
              "    .colab-df-buttons div {\n",
              "      margin-bottom: 4px;\n",
              "    }\n",
              "\n",
              "    [theme=dark] .colab-df-convert {\n",
              "      background-color: #3B4455;\n",
              "      fill: #D2E3FC;\n",
              "    }\n",
              "\n",
              "    [theme=dark] .colab-df-convert:hover {\n",
              "      background-color: #434B5C;\n",
              "      box-shadow: 0px 1px 3px 1px rgba(0, 0, 0, 0.15);\n",
              "      filter: drop-shadow(0px 1px 2px rgba(0, 0, 0, 0.3));\n",
              "      fill: #FFFFFF;\n",
              "    }\n",
              "  </style>\n",
              "\n",
              "    <script>\n",
              "      const buttonEl =\n",
              "        document.querySelector('#df-39630162-351b-4c3f-9274-8ac5981d3495 button.colab-df-convert');\n",
              "      buttonEl.style.display =\n",
              "        google.colab.kernel.accessAllowed ? 'block' : 'none';\n",
              "\n",
              "      async function convertToInteractive(key) {\n",
              "        const element = document.querySelector('#df-39630162-351b-4c3f-9274-8ac5981d3495');\n",
              "        const dataTable =\n",
              "          await google.colab.kernel.invokeFunction('convertToInteractive',\n",
              "                                                    [key], {});\n",
              "        if (!dataTable) return;\n",
              "\n",
              "        const docLinkHtml = 'Like what you see? Visit the ' +\n",
              "          '<a target=\"_blank\" href=https://colab.research.google.com/notebooks/data_table.ipynb>data table notebook</a>'\n",
              "          + ' to learn more about interactive tables.';\n",
              "        element.innerHTML = '';\n",
              "        dataTable['output_type'] = 'display_data';\n",
              "        await google.colab.output.renderOutput(dataTable, element);\n",
              "        const docLink = document.createElement('div');\n",
              "        docLink.innerHTML = docLinkHtml;\n",
              "        element.appendChild(docLink);\n",
              "      }\n",
              "    </script>\n",
              "  </div>\n",
              "\n",
              "\n",
              "<div id=\"df-72f61c80-e25b-48b9-bb43-fa0516736d20\">\n",
              "  <button class=\"colab-df-quickchart\" onclick=\"quickchart('df-72f61c80-e25b-48b9-bb43-fa0516736d20')\"\n",
              "            title=\"Suggest charts\"\n",
              "            style=\"display:none;\">\n",
              "\n",
              "<svg xmlns=\"http://www.w3.org/2000/svg\" height=\"24px\"viewBox=\"0 0 24 24\"\n",
              "     width=\"24px\">\n",
              "    <g>\n",
              "        <path d=\"M19 3H5c-1.1 0-2 .9-2 2v14c0 1.1.9 2 2 2h14c1.1 0 2-.9 2-2V5c0-1.1-.9-2-2-2zM9 17H7v-7h2v7zm4 0h-2V7h2v10zm4 0h-2v-4h2v4z\"/>\n",
              "    </g>\n",
              "</svg>\n",
              "  </button>\n",
              "\n",
              "<style>\n",
              "  .colab-df-quickchart {\n",
              "      --bg-color: #E8F0FE;\n",
              "      --fill-color: #1967D2;\n",
              "      --hover-bg-color: #E2EBFA;\n",
              "      --hover-fill-color: #174EA6;\n",
              "      --disabled-fill-color: #AAA;\n",
              "      --disabled-bg-color: #DDD;\n",
              "  }\n",
              "\n",
              "  [theme=dark] .colab-df-quickchart {\n",
              "      --bg-color: #3B4455;\n",
              "      --fill-color: #D2E3FC;\n",
              "      --hover-bg-color: #434B5C;\n",
              "      --hover-fill-color: #FFFFFF;\n",
              "      --disabled-bg-color: #3B4455;\n",
              "      --disabled-fill-color: #666;\n",
              "  }\n",
              "\n",
              "  .colab-df-quickchart {\n",
              "    background-color: var(--bg-color);\n",
              "    border: none;\n",
              "    border-radius: 50%;\n",
              "    cursor: pointer;\n",
              "    display: none;\n",
              "    fill: var(--fill-color);\n",
              "    height: 32px;\n",
              "    padding: 0;\n",
              "    width: 32px;\n",
              "  }\n",
              "\n",
              "  .colab-df-quickchart:hover {\n",
              "    background-color: var(--hover-bg-color);\n",
              "    box-shadow: 0 1px 2px rgba(60, 64, 67, 0.3), 0 1px 3px 1px rgba(60, 64, 67, 0.15);\n",
              "    fill: var(--button-hover-fill-color);\n",
              "  }\n",
              "\n",
              "  .colab-df-quickchart-complete:disabled,\n",
              "  .colab-df-quickchart-complete:disabled:hover {\n",
              "    background-color: var(--disabled-bg-color);\n",
              "    fill: var(--disabled-fill-color);\n",
              "    box-shadow: none;\n",
              "  }\n",
              "\n",
              "  .colab-df-spinner {\n",
              "    border: 2px solid var(--fill-color);\n",
              "    border-color: transparent;\n",
              "    border-bottom-color: var(--fill-color);\n",
              "    animation:\n",
              "      spin 1s steps(1) infinite;\n",
              "  }\n",
              "\n",
              "  @keyframes spin {\n",
              "    0% {\n",
              "      border-color: transparent;\n",
              "      border-bottom-color: var(--fill-color);\n",
              "      border-left-color: var(--fill-color);\n",
              "    }\n",
              "    20% {\n",
              "      border-color: transparent;\n",
              "      border-left-color: var(--fill-color);\n",
              "      border-top-color: var(--fill-color);\n",
              "    }\n",
              "    30% {\n",
              "      border-color: transparent;\n",
              "      border-left-color: var(--fill-color);\n",
              "      border-top-color: var(--fill-color);\n",
              "      border-right-color: var(--fill-color);\n",
              "    }\n",
              "    40% {\n",
              "      border-color: transparent;\n",
              "      border-right-color: var(--fill-color);\n",
              "      border-top-color: var(--fill-color);\n",
              "    }\n",
              "    60% {\n",
              "      border-color: transparent;\n",
              "      border-right-color: var(--fill-color);\n",
              "    }\n",
              "    80% {\n",
              "      border-color: transparent;\n",
              "      border-right-color: var(--fill-color);\n",
              "      border-bottom-color: var(--fill-color);\n",
              "    }\n",
              "    90% {\n",
              "      border-color: transparent;\n",
              "      border-bottom-color: var(--fill-color);\n",
              "    }\n",
              "  }\n",
              "</style>\n",
              "\n",
              "  <script>\n",
              "    async function quickchart(key) {\n",
              "      const quickchartButtonEl =\n",
              "        document.querySelector('#' + key + ' button');\n",
              "      quickchartButtonEl.disabled = true;  // To prevent multiple clicks.\n",
              "      quickchartButtonEl.classList.add('colab-df-spinner');\n",
              "      try {\n",
              "        const charts = await google.colab.kernel.invokeFunction(\n",
              "            'suggestCharts', [key], {});\n",
              "      } catch (error) {\n",
              "        console.error('Error during call to suggestCharts:', error);\n",
              "      }\n",
              "      quickchartButtonEl.classList.remove('colab-df-spinner');\n",
              "      quickchartButtonEl.classList.add('colab-df-quickchart-complete');\n",
              "    }\n",
              "    (() => {\n",
              "      let quickchartButtonEl =\n",
              "        document.querySelector('#df-72f61c80-e25b-48b9-bb43-fa0516736d20 button');\n",
              "      quickchartButtonEl.style.display =\n",
              "        google.colab.kernel.accessAllowed ? 'block' : 'none';\n",
              "    })();\n",
              "  </script>\n",
              "</div>\n",
              "\n",
              "  <div id=\"id_15ee5183-0914-4eaf-80c4-0f4353b40993\">\n",
              "    <style>\n",
              "      .colab-df-generate {\n",
              "        background-color: #E8F0FE;\n",
              "        border: none;\n",
              "        border-radius: 50%;\n",
              "        cursor: pointer;\n",
              "        display: none;\n",
              "        fill: #1967D2;\n",
              "        height: 32px;\n",
              "        padding: 0 0 0 0;\n",
              "        width: 32px;\n",
              "      }\n",
              "\n",
              "      .colab-df-generate:hover {\n",
              "        background-color: #E2EBFA;\n",
              "        box-shadow: 0px 1px 2px rgba(60, 64, 67, 0.3), 0px 1px 3px 1px rgba(60, 64, 67, 0.15);\n",
              "        fill: #174EA6;\n",
              "      }\n",
              "\n",
              "      [theme=dark] .colab-df-generate {\n",
              "        background-color: #3B4455;\n",
              "        fill: #D2E3FC;\n",
              "      }\n",
              "\n",
              "      [theme=dark] .colab-df-generate:hover {\n",
              "        background-color: #434B5C;\n",
              "        box-shadow: 0px 1px 3px 1px rgba(0, 0, 0, 0.15);\n",
              "        filter: drop-shadow(0px 1px 2px rgba(0, 0, 0, 0.3));\n",
              "        fill: #FFFFFF;\n",
              "      }\n",
              "    </style>\n",
              "    <button class=\"colab-df-generate\" onclick=\"generateWithVariable('df')\"\n",
              "            title=\"Generate code using this dataframe.\"\n",
              "            style=\"display:none;\">\n",
              "\n",
              "  <svg xmlns=\"http://www.w3.org/2000/svg\" height=\"24px\"viewBox=\"0 0 24 24\"\n",
              "       width=\"24px\">\n",
              "    <path d=\"M7,19H8.4L18.45,9,17,7.55,7,17.6ZM5,21V16.75L18.45,3.32a2,2,0,0,1,2.83,0l1.4,1.43a1.91,1.91,0,0,1,.58,1.4,1.91,1.91,0,0,1-.58,1.4L9.25,21ZM18.45,9,17,7.55Zm-12,3A5.31,5.31,0,0,0,4.9,8.1,5.31,5.31,0,0,0,1,6.5,5.31,5.31,0,0,0,4.9,4.9,5.31,5.31,0,0,0,6.5,1,5.31,5.31,0,0,0,8.1,4.9,5.31,5.31,0,0,0,12,6.5,5.46,5.46,0,0,0,6.5,12Z\"/>\n",
              "  </svg>\n",
              "    </button>\n",
              "    <script>\n",
              "      (() => {\n",
              "      const buttonEl =\n",
              "        document.querySelector('#id_15ee5183-0914-4eaf-80c4-0f4353b40993 button.colab-df-generate');\n",
              "      buttonEl.style.display =\n",
              "        google.colab.kernel.accessAllowed ? 'block' : 'none';\n",
              "\n",
              "      buttonEl.onclick = () => {\n",
              "        google.colab.notebook.generateWithVariable('df');\n",
              "      }\n",
              "      })();\n",
              "    </script>\n",
              "  </div>\n",
              "\n",
              "    </div>\n",
              "  </div>\n"
            ],
            "application/vnd.google.colaboratory.intrinsic+json": {
              "type": "dataframe",
              "variable_name": "df",
              "summary": "{\n  \"name\": \"df\",\n  \"rows\": 15,\n  \"fields\": [\n    {\n      \"column\": \"loss\",\n      \"properties\": {\n        \"dtype\": \"number\",\n        \"std\": 0.16326564358770007,\n        \"min\": 0.05527466535568237,\n        \"max\": 0.6832714676856995,\n        \"num_unique_values\": 15,\n        \"samples\": [\n          0.08024711906909943,\n          0.057432621717453,\n          0.6832714676856995\n        ],\n        \"semantic_type\": \"\",\n        \"description\": \"\"\n      }\n    },\n    {\n      \"column\": \"accuracy\",\n      \"properties\": {\n        \"dtype\": \"number\",\n        \"std\": 0.044924425252576894,\n        \"min\": 0.8131166696548462,\n        \"max\": 0.9848166704177856,\n        \"num_unique_values\": 15,\n        \"samples\": [\n          0.9763500094413757,\n          0.9838333129882812,\n          0.8131166696548462\n        ],\n        \"semantic_type\": \"\",\n        \"description\": \"\"\n      }\n    },\n    {\n      \"column\": \"val_loss\",\n      \"properties\": {\n        \"dtype\": \"number\",\n        \"std\": 0.07721211785934376,\n        \"min\": 0.08448470383882523,\n        \"max\": 0.32926690578460693,\n        \"num_unique_values\": 15,\n        \"samples\": [\n          0.09282393008470535,\n          0.08544908463954926,\n          0.32926690578460693\n        ],\n        \"semantic_type\": \"\",\n        \"description\": \"\"\n      }\n    },\n    {\n      \"column\": \"val_accuracy\",\n      \"properties\": {\n        \"dtype\": \"number\",\n        \"std\": 0.020561840476553444,\n        \"min\": 0.9081000089645386,\n        \"max\": 0.9735999703407288,\n        \"num_unique_values\": 15,\n        \"samples\": [\n          0.9710000157356262,\n          0.9732000231742859,\n          0.9081000089645386\n        ],\n        \"semantic_type\": \"\",\n        \"description\": \"\"\n      }\n    },\n    {\n      \"column\": \"epoch\",\n      \"properties\": {\n        \"dtype\": \"number\",\n        \"std\": 1,\n        \"min\": 0,\n        \"max\": 4,\n        \"num_unique_values\": 5,\n        \"samples\": [\n          1,\n          4,\n          2\n        ],\n        \"semantic_type\": \"\",\n        \"description\": \"\"\n      }\n    },\n    {\n      \"column\": \"Batch Size\",\n      \"properties\": {\n        \"dtype\": \"category\",\n        \"num_unique_values\": 3,\n        \"samples\": [\n          \"32_\",\n          \"8_\",\n          \"512_\"\n        ],\n        \"semantic_type\": \"\",\n        \"description\": \"\"\n      }\n    }\n  ]\n}"
            }
          },
          "metadata": {},
          "execution_count": 74
        }
      ]
    },
    {
      "cell_type": "code",
      "metadata": {
        "id": "Dlg9uSEEmIJB",
        "colab": {
          "base_uri": "https://localhost:8080/",
          "height": 449
        },
        "outputId": "f5a61ade-c94b-4417-f540-2cd57b2fbe8a"
      },
      "source": [
        "sns.lineplot(x='epoch', y='val_accuracy', hue='Batch Size', data=df);\n",
        "plt.grid()\n",
        "\n",
        "# Wrong diagram\n",
        "# smallest batch size (with more updates per epoch) should have the highest performance\n",
        "# Largest batch size has the biggest improvement because there are few updates in each epoch, so each epoch results in a more drastic change"
      ],
      "execution_count": 75,
      "outputs": [
        {
          "output_type": "display_data",
          "data": {
            "text/plain": [
              "<Figure size 640x480 with 1 Axes>"
            ],
            "image/png": "[encoded data removed]"
          },
          "metadata": {}
        }
      ]
    },
    {
      "cell_type": "code",
      "metadata": {
        "id": "94bJYgz3nkp0",
        "colab": {
          "base_uri": "https://localhost:8080/",
          "height": 449
        },
        "outputId": "ba4a4bd4-6271-4ab1-8a70-db4f85e53eea"
      },
      "source": [
        "sns.lineplot(x='epoch', y='val_loss', hue='Batch Size', data=df);\n",
        "plt.grid()"
      ],
      "execution_count": 76,
      "outputs": [
        {
          "output_type": "display_data",
          "data": {
            "text/plain": [
              "<Figure size 640x480 with 1 Axes>"
            ],
            "image/png": "[encoded data removed]"
          },
          "metadata": {}
        }
      ]
    },
    {
      "cell_type": "markdown",
      "metadata": {
        "id": "4kZ2vUYYgclS"
      },
      "source": [
        "## Challenge\n",
        "\n",
        "You will be expected to experiment with batch size on today's assignment."
      ]
    },
    {
      "cell_type": "markdown",
      "metadata": {
        "id": "46cP9Pm_gclS"
      },
      "source": [
        "# 3. The Effect of the Learning Rate Hyperparameter on Neural Network Training (Learn)"
      ]
    },
    {
      "cell_type": "markdown",
      "metadata": {
        "id": "SXBoghYG9G5A"
      },
      "source": [
        "![](https://www.jeremyjordan.me/content/images/2018/02/Screen-Shot-2018-02-24-at-11.47.09-AM.png)"
      ]
    },
    {
      "cell_type": "markdown",
      "metadata": {
        "id": "Bna67ADZgclT",
        "toc-hr-collapsed": true
      },
      "source": [
        "## 3.1 Overview\n",
        "\n",
        "Learning Rate controls the size of the update to our weights that the optimization algorithm makes. VERY IMPORTANT hyperparameter.\n",
        "\n",
        "* If the learning rate is too high, the model will not find the minimum\n",
        "* If the learning rate is too low, the model will underfit or take too long to converge\n",
        "* Goldilocks learning rate is \"just right\", the model converges rapidly\n",
        "* Scale of 0-1"
      ]
    },
    {
      "cell_type": "markdown",
      "metadata": {
        "id": "gsVYOn7bgcle",
        "toc-hr-collapsed": true
      },
      "source": [
        "## 3.2 Experiments to gauge the effect of learning rate (Follow Along)\n",
        "\n",
        "Try experiments with same Batch Size = 32 but different Learning Rates:\n",
        "* High Learning Rate = 1\n",
        "* Default Learning Rate = .01\n",
        "* Low Learning Rate = .0001"
      ]
    },
    {
      "cell_type": "markdown",
      "metadata": {
        "id": "CI_H8Em1NOii"
      },
      "source": [
        "### 3.2.1 Default Learning Rate"
      ]
    },
    {
      "cell_type": "code",
      "metadata": {
        "id": "Se8cb_ZUNVtL",
        "colab": {
          "base_uri": "https://localhost:8080/"
        },
        "outputId": "62ea22f5-9c33-4470-8a71-7304505bdcc6"
      },
      "source": [
        "# instantiate a model and fit it with a learning rate value of 0.01\n",
        "model = create_model(lr=.01)\n",
        "lr_default = model.fit(X_train, y_train, batch_size=32, validation_data=(X_test, y_test), epochs=5)"
      ],
      "execution_count": 63,
      "outputs": [
        {
          "output_type": "stream",
          "name": "stdout",
          "text": [
            "Epoch 1/5\n",
            "1875/1875 [==============================] - 9s 4ms/step - loss: 0.7186 - accuracy: 0.8016 - val_loss: 0.3345 - val_accuracy: 0.9054\n",
            "Epoch 2/5\n",
            "1875/1875 [==============================] - 5s 3ms/step - loss: 0.3085 - accuracy: 0.9104 - val_loss: 0.2603 - val_accuracy: 0.9249\n",
            "Epoch 3/5\n",
            "1875/1875 [==============================] - 9s 5ms/step - loss: 0.2567 - accuracy: 0.9252 - val_loss: 0.2309 - val_accuracy: 0.9352\n",
            "Epoch 4/5\n",
            "1875/1875 [==============================] - 4s 2ms/step - loss: 0.2251 - accuracy: 0.9345 - val_loss: 0.2079 - val_accuracy: 0.9397\n",
            "Epoch 5/5\n",
            "1875/1875 [==============================] - 4s 2ms/step - loss: 0.2010 - accuracy: 0.9415 - val_loss: 0.1872 - val_accuracy: 0.9441\n"
          ]
        }
      ]
    },
    {
      "cell_type": "markdown",
      "metadata": {
        "id": "IQZ4SZdKNMRO"
      },
      "source": [
        "### 3.2.2 High Learning Rate"
      ]
    },
    {
      "cell_type": "code",
      "metadata": {
        "id": "Ny72mU_dNWMR",
        "colab": {
          "base_uri": "https://localhost:8080/"
        },
        "outputId": "cb1c6813-5d49-4f67-da8e-166508c66136"
      },
      "source": [
        "# instantiate a model and fit it with a learning rate value of 1\n",
        "model = create_model(lr=1)\n",
        "lr_high = model.fit(X_train, y_train, batch_size=32, validation_data=(X_test, y_test), epochs=5)"
      ],
      "execution_count": 77,
      "outputs": [
        {
          "output_type": "stream",
          "name": "stdout",
          "text": [
            "Epoch 1/5\n",
            "1875/1875 [==============================] - 6s 3ms/step - loss: 1.5317 - accuracy: 0.4003 - val_loss: 1.6110 - val_accuracy: 0.3010\n",
            "Epoch 2/5\n",
            "1875/1875 [==============================] - 4s 2ms/step - loss: 1.6559 - accuracy: 0.2778 - val_loss: 1.8546 - val_accuracy: 0.2092\n",
            "Epoch 3/5\n",
            "1875/1875 [==============================] - 6s 3ms/step - loss: 1.8027 - accuracy: 0.2277 - val_loss: 1.6737 - val_accuracy: 0.2977\n",
            "Epoch 4/5\n",
            "1875/1875 [==============================] - 5s 3ms/step - loss: 1.9696 - accuracy: 0.1984 - val_loss: 1.9342 - val_accuracy: 0.1946\n",
            "Epoch 5/5\n",
            "1875/1875 [==============================] - 4s 2ms/step - loss: 2.1948 - accuracy: 0.1393 - val_loss: 2.1351 - val_accuracy: 0.1711\n"
          ]
        }
      ]
    },
    {
      "cell_type": "markdown",
      "metadata": {
        "id": "kAqDmTVBNSMR"
      },
      "source": [
        "### 3.2.3 Low Learning Rate"
      ]
    },
    {
      "cell_type": "code",
      "metadata": {
        "id": "Ech1ER64NXBn",
        "jupyter": {
          "outputs_hidden": true
        },
        "colab": {
          "base_uri": "https://localhost:8080/"
        },
        "outputId": "af1bc09b-db07-4f1b-cb8a-617fe1283d7f"
      },
      "source": [
        "# instantiate a model and fit it with a learning rate value of 0.0001\n",
        "model = create_model(lr=0.0001)\n",
        "lr_low = model.fit(X_train, y_train, batch_size=32, validation_data=(X_test, y_test), epochs=5)"
      ],
      "execution_count": 65,
      "outputs": [
        {
          "output_type": "stream",
          "name": "stdout",
          "text": [
            "Epoch 1/5\n",
            "1875/1875 [==============================] - 5s 2ms/step - loss: 2.2880 - accuracy: 0.1374 - val_loss: 2.2414 - val_accuracy: 0.1664\n",
            "Epoch 2/5\n",
            "1875/1875 [==============================] - 5s 3ms/step - loss: 2.2060 - accuracy: 0.1938 - val_loss: 2.1665 - val_accuracy: 0.2302\n",
            "Epoch 3/5\n",
            "1875/1875 [==============================] - 5s 3ms/step - loss: 2.1340 - accuracy: 0.2581 - val_loss: 2.0921 - val_accuracy: 0.2979\n",
            "Epoch 4/5\n",
            "1875/1875 [==============================] - 4s 2ms/step - loss: 2.0595 - accuracy: 0.3220 - val_loss: 2.0136 - val_accuracy: 0.3618\n",
            "Epoch 5/5\n",
            "1875/1875 [==============================] - 6s 3ms/step - loss: 1.9803 - accuracy: 0.3860 - val_loss: 1.9296 - val_accuracy: 0.4218\n"
          ]
        }
      ]
    },
    {
      "cell_type": "markdown",
      "metadata": {
        "id": "sZe6DyhANXdU"
      },
      "source": [
        "### 3.2.4 Visualize Results"
      ]
    },
    {
      "cell_type": "code",
      "metadata": {
        "id": "Bn-BdFdMNph-",
        "colab": {
          "base_uri": "https://localhost:8080/",
          "height": 519
        },
        "outputId": "99d4f8b6-5aae-4e55-c5f1-b3dd4ab375d8"
      },
      "source": [
        "import seaborn as sns\n",
        "import pandas as pd\n",
        "\n",
        "experiments = []\n",
        "\n",
        "for experiment, label in zip([lr_default, lr_low, lr_high], [\".01_\", \".0001_\", \"1_\"]):\n",
        "\n",
        "    df = pd.DataFrame.from_dict(experiment.history)\n",
        "    df['epoch'] = df.index.values\n",
        "    df['Learning Rate'] = label\n",
        "\n",
        "    experiments.append(df)\n",
        "\n",
        "df = pd.concat(experiments,ignore_index=True)\n",
        "df['Learning Rate'] = df['Learning Rate'].astype('str')\n",
        "df"
      ],
      "execution_count": 79,
      "outputs": [
        {
          "output_type": "execute_result",
          "data": {
            "text/plain": [
              "        loss  accuracy  val_loss  val_accuracy  epoch Learning Rate\n",
              "0   0.718629  0.801650  0.334535        0.9054      0          .01_\n",
              "1   0.308455  0.910433  0.260315        0.9249      1          .01_\n",
              "2   0.256684  0.925183  0.230859        0.9352      2          .01_\n",
              "3   0.225141  0.934550  0.207865        0.9397      3          .01_\n",
              "4   0.201017  0.941533  0.187165        0.9441      4          .01_\n",
              "5   2.288029  0.137400  2.241404        0.1664      0        .0001_\n",
              "6   2.205961  0.193817  2.166464        0.2302      1        .0001_\n",
              "7   2.133986  0.258067  2.092144        0.2979      2        .0001_\n",
              "8   2.059547  0.322017  2.013638        0.3618      3        .0001_\n",
              "9   1.980252  0.386050  1.929614        0.4218      4        .0001_\n",
              "10  1.531662  0.400317  1.611011        0.3010      0            1_\n",
              "11  1.655925  0.277800  1.854647        0.2092      1            1_\n",
              "12  1.802670  0.227683  1.673695        0.2977      2            1_\n",
              "13  1.969570  0.198433  1.934198        0.1946      3            1_\n",
              "14  2.194764  0.139317  2.135054        0.1711      4            1_"
            ],
            "text/html": [
              "\n",
              "  <div id=\"df-31b2d75b-0728-4437-9cca-88c68d1235ee\" class=\"colab-df-container\">\n",
              "    <div>\n",
              "<style scoped>\n",
              "    .dataframe tbody tr th:only-of-type {\n",
              "        vertical-align: middle;\n",
              "    }\n",
              "\n",
              "    .dataframe tbody tr th {\n",
              "        vertical-align: top;\n",
              "    }\n",
              "\n",
              "    .dataframe thead th {\n",
              "        text-align: right;\n",
              "    }\n",
              "</style>\n",
              "<table border=\"1\" class=\"dataframe\">\n",
              "  <thead>\n",
              "    <tr style=\"text-align: right;\">\n",
              "      <th></th>\n",
              "      <th>loss</th>\n",
              "      <th>accuracy</th>\n",
              "      <th>val_loss</th>\n",
              "      <th>val_accuracy</th>\n",
              "      <th>epoch</th>\n",
              "      <th>Learning Rate</th>\n",
              "    </tr>\n",
              "  </thead>\n",
              "  <tbody>\n",
              "    <tr>\n",
              "      <th>0</th>\n",
              "      <td>0.718629</td>\n",
              "      <td>0.801650</td>\n",
              "      <td>0.334535</td>\n",
              "      <td>0.9054</td>\n",
              "      <td>0</td>\n",
              "      <td>.01_</td>\n",
              "    </tr>\n",
              "    <tr>\n",
              "      <th>1</th>\n",
              "      <td>0.308455</td>\n",
              "      <td>0.910433</td>\n",
              "      <td>0.260315</td>\n",
              "      <td>0.9249</td>\n",
              "      <td>1</td>\n",
              "      <td>.01_</td>\n",
              "    </tr>\n",
              "    <tr>\n",
              "      <th>2</th>\n",
              "      <td>0.256684</td>\n",
              "      <td>0.925183</td>\n",
              "      <td>0.230859</td>\n",
              "      <td>0.9352</td>\n",
              "      <td>2</td>\n",
              "      <td>.01_</td>\n",
              "    </tr>\n",
              "    <tr>\n",
              "      <th>3</th>\n",
              "      <td>0.225141</td>\n",
              "      <td>0.934550</td>\n",
              "      <td>0.207865</td>\n",
              "      <td>0.9397</td>\n",
              "      <td>3</td>\n",
              "      <td>.01_</td>\n",
              "    </tr>\n",
              "    <tr>\n",
              "      <th>4</th>\n",
              "      <td>0.201017</td>\n",
              "      <td>0.941533</td>\n",
              "      <td>0.187165</td>\n",
              "      <td>0.9441</td>\n",
              "      <td>4</td>\n",
              "      <td>.01_</td>\n",
              "    </tr>\n",
              "    <tr>\n",
              "      <th>5</th>\n",
              "      <td>2.288029</td>\n",
              "      <td>0.137400</td>\n",
              "      <td>2.241404</td>\n",
              "      <td>0.1664</td>\n",
              "      <td>0</td>\n",
              "      <td>.0001_</td>\n",
              "    </tr>\n",
              "    <tr>\n",
              "      <th>6</th>\n",
              "      <td>2.205961</td>\n",
              "      <td>0.193817</td>\n",
              "      <td>2.166464</td>\n",
              "      <td>0.2302</td>\n",
              "      <td>1</td>\n",
              "      <td>.0001_</td>\n",
              "    </tr>\n",
              "    <tr>\n",
              "      <th>7</th>\n",
              "      <td>2.133986</td>\n",
              "      <td>0.258067</td>\n",
              "      <td>2.092144</td>\n",
              "      <td>0.2979</td>\n",
              "      <td>2</td>\n",
              "      <td>.0001_</td>\n",
              "    </tr>\n",
              "    <tr>\n",
              "      <th>8</th>\n",
              "      <td>2.059547</td>\n",
              "      <td>0.322017</td>\n",
              "      <td>2.013638</td>\n",
              "      <td>0.3618</td>\n",
              "      <td>3</td>\n",
              "      <td>.0001_</td>\n",
              "    </tr>\n",
              "    <tr>\n",
              "      <th>9</th>\n",
              "      <td>1.980252</td>\n",
              "      <td>0.386050</td>\n",
              "      <td>1.929614</td>\n",
              "      <td>0.4218</td>\n",
              "      <td>4</td>\n",
              "      <td>.0001_</td>\n",
              "    </tr>\n",
              "    <tr>\n",
              "      <th>10</th>\n",
              "      <td>1.531662</td>\n",
              "      <td>0.400317</td>\n",
              "      <td>1.611011</td>\n",
              "      <td>0.3010</td>\n",
              "      <td>0</td>\n",
              "      <td>1_</td>\n",
              "    </tr>\n",
              "    <tr>\n",
              "      <th>11</th>\n",
              "      <td>1.655925</td>\n",
              "      <td>0.277800</td>\n",
              "      <td>1.854647</td>\n",
              "      <td>0.2092</td>\n",
              "      <td>1</td>\n",
              "      <td>1_</td>\n",
              "    </tr>\n",
              "    <tr>\n",
              "      <th>12</th>\n",
              "      <td>1.802670</td>\n",
              "      <td>0.227683</td>\n",
              "      <td>1.673695</td>\n",
              "      <td>0.2977</td>\n",
              "      <td>2</td>\n",
              "      <td>1_</td>\n",
              "    </tr>\n",
              "    <tr>\n",
              "      <th>13</th>\n",
              "      <td>1.969570</td>\n",
              "      <td>0.198433</td>\n",
              "      <td>1.934198</td>\n",
              "      <td>0.1946</td>\n",
              "      <td>3</td>\n",
              "      <td>1_</td>\n",
              "    </tr>\n",
              "    <tr>\n",
              "      <th>14</th>\n",
              "      <td>2.194764</td>\n",
              "      <td>0.139317</td>\n",
              "      <td>2.135054</td>\n",
              "      <td>0.1711</td>\n",
              "      <td>4</td>\n",
              "      <td>1_</td>\n",
              "    </tr>\n",
              "  </tbody>\n",
              "</table>\n",
              "</div>\n",
              "    <div class=\"colab-df-buttons\">\n",
              "\n",
              "  <div class=\"colab-df-container\">\n",
              "    <button class=\"colab-df-convert\" onclick=\"convertToInteractive('df-31b2d75b-0728-4437-9cca-88c68d1235ee')\"\n",
              "            title=\"Convert this dataframe to an interactive table.\"\n",
              "            style=\"display:none;\">\n",
              "\n",
              "  <svg xmlns=\"http://www.w3.org/2000/svg\" height=\"24px\" viewBox=\"0 -960 960 960\">\n",
              "    <path d=\"M120-120v-720h720v720H120Zm60-500h600v-160H180v160Zm220 220h160v-160H400v160Zm0 220h160v-160H400v160ZM180-400h160v-160H180v160Zm440 0h160v-160H620v160ZM180-180h160v-160H180v160Zm440 0h160v-160H620v160Z\"/>\n",
              "  </svg>\n",
              "    </button>\n",
              "\n",
              "  <style>\n",
              "    .colab-df-container {\n",
              "      display:flex;\n",
              "      gap: 12px;\n",
              "    }\n",
              "\n",
              "    .colab-df-convert {\n",
              "      background-color: #E8F0FE;\n",
              "      border: none;\n",
              "      border-radius: 50%;\n",
              "      cursor: pointer;\n",
              "      display: none;\n",
              "      fill: #1967D2;\n",
              "      height: 32px;\n",
              "      padding: 0 0 0 0;\n",
              "      width: 32px;\n",
              "    }\n",
              "\n",
              "    .colab-df-convert:hover {\n",
              "      background-color: #E2EBFA;\n",
              "      box-shadow: 0px 1px 2px rgba(60, 64, 67, 0.3), 0px 1px 3px 1px rgba(60, 64, 67, 0.15);\n",
              "      fill: #174EA6;\n",
              "    }\n",
              "\n",
              "    .colab-df-buttons div {\n",
              "      margin-bottom: 4px;\n",
              "    }\n",
              "\n",
              "    [theme=dark] .colab-df-convert {\n",
              "      background-color: #3B4455;\n",
              "      fill: #D2E3FC;\n",
              "    }\n",
              "\n",
              "    [theme=dark] .colab-df-convert:hover {\n",
              "      background-color: #434B5C;\n",
              "      box-shadow: 0px 1px 3px 1px rgba(0, 0, 0, 0.15);\n",
              "      filter: drop-shadow(0px 1px 2px rgba(0, 0, 0, 0.3));\n",
              "      fill: #FFFFFF;\n",
              "    }\n",
              "  </style>\n",
              "\n",
              "    <script>\n",
              "      const buttonEl =\n",
              "        document.querySelector('#df-31b2d75b-0728-4437-9cca-88c68d1235ee button.colab-df-convert');\n",
              "      buttonEl.style.display =\n",
              "        google.colab.kernel.accessAllowed ? 'block' : 'none';\n",
              "\n",
              "      async function convertToInteractive(key) {\n",
              "        const element = document.querySelector('#df-31b2d75b-0728-4437-9cca-88c68d1235ee');\n",
              "        const dataTable =\n",
              "          await google.colab.kernel.invokeFunction('convertToInteractive',\n",
              "                                                    [key], {});\n",
              "        if (!dataTable) return;\n",
              "\n",
              "        const docLinkHtml = 'Like what you see? Visit the ' +\n",
              "          '<a target=\"_blank\" href=https://colab.research.google.com/notebooks/data_table.ipynb>data table notebook</a>'\n",
              "          + ' to learn more about interactive tables.';\n",
              "        element.innerHTML = '';\n",
              "        dataTable['output_type'] = 'display_data';\n",
              "        await google.colab.output.renderOutput(dataTable, element);\n",
              "        const docLink = document.createElement('div');\n",
              "        docLink.innerHTML = docLinkHtml;\n",
              "        element.appendChild(docLink);\n",
              "      }\n",
              "    </script>\n",
              "  </div>\n",
              "\n",
              "\n",
              "<div id=\"df-d6f94842-fdd8-4d79-9268-02e632255b96\">\n",
              "  <button class=\"colab-df-quickchart\" onclick=\"quickchart('df-d6f94842-fdd8-4d79-9268-02e632255b96')\"\n",
              "            title=\"Suggest charts\"\n",
              "            style=\"display:none;\">\n",
              "\n",
              "<svg xmlns=\"http://www.w3.org/2000/svg\" height=\"24px\"viewBox=\"0 0 24 24\"\n",
              "     width=\"24px\">\n",
              "    <g>\n",
              "        <path d=\"M19 3H5c-1.1 0-2 .9-2 2v14c0 1.1.9 2 2 2h14c1.1 0 2-.9 2-2V5c0-1.1-.9-2-2-2zM9 17H7v-7h2v7zm4 0h-2V7h2v10zm4 0h-2v-4h2v4z\"/>\n",
              "    </g>\n",
              "</svg>\n",
              "  </button>\n",
              "\n",
              "<style>\n",
              "  .colab-df-quickchart {\n",
              "      --bg-color: #E8F0FE;\n",
              "      --fill-color: #1967D2;\n",
              "      --hover-bg-color: #E2EBFA;\n",
              "      --hover-fill-color: #174EA6;\n",
              "      --disabled-fill-color: #AAA;\n",
              "      --disabled-bg-color: #DDD;\n",
              "  }\n",
              "\n",
              "  [theme=dark] .colab-df-quickchart {\n",
              "      --bg-color: #3B4455;\n",
              "      --fill-color: #D2E3FC;\n",
              "      --hover-bg-color: #434B5C;\n",
              "      --hover-fill-color: #FFFFFF;\n",
              "      --disabled-bg-color: #3B4455;\n",
              "      --disabled-fill-color: #666;\n",
              "  }\n",
              "\n",
              "  .colab-df-quickchart {\n",
              "    background-color: var(--bg-color);\n",
              "    border: none;\n",
              "    border-radius: 50%;\n",
              "    cursor: pointer;\n",
              "    display: none;\n",
              "    fill: var(--fill-color);\n",
              "    height: 32px;\n",
              "    padding: 0;\n",
              "    width: 32px;\n",
              "  }\n",
              "\n",
              "  .colab-df-quickchart:hover {\n",
              "    background-color: var(--hover-bg-color);\n",
              "    box-shadow: 0 1px 2px rgba(60, 64, 67, 0.3), 0 1px 3px 1px rgba(60, 64, 67, 0.15);\n",
              "    fill: var(--button-hover-fill-color);\n",
              "  }\n",
              "\n",
              "  .colab-df-quickchart-complete:disabled,\n",
              "  .colab-df-quickchart-complete:disabled:hover {\n",
              "    background-color: var(--disabled-bg-color);\n",
              "    fill: var(--disabled-fill-color);\n",
              "    box-shadow: none;\n",
              "  }\n",
              "\n",
              "  .colab-df-spinner {\n",
              "    border: 2px solid var(--fill-color);\n",
              "    border-color: transparent;\n",
              "    border-bottom-color: var(--fill-color);\n",
              "    animation:\n",
              "      spin 1s steps(1) infinite;\n",
              "  }\n",
              "\n",
              "  @keyframes spin {\n",
              "    0% {\n",
              "      border-color: transparent;\n",
              "      border-bottom-color: var(--fill-color);\n",
              "      border-left-color: var(--fill-color);\n",
              "    }\n",
              "    20% {\n",
              "      border-color: transparent;\n",
              "      border-left-color: var(--fill-color);\n",
              "      border-top-color: var(--fill-color);\n",
              "    }\n",
              "    30% {\n",
              "      border-color: transparent;\n",
              "      border-left-color: var(--fill-color);\n",
              "      border-top-color: var(--fill-color);\n",
              "      border-right-color: var(--fill-color);\n",
              "    }\n",
              "    40% {\n",
              "      border-color: transparent;\n",
              "      border-right-color: var(--fill-color);\n",
              "      border-top-color: var(--fill-color);\n",
              "    }\n",
              "    60% {\n",
              "      border-color: transparent;\n",
              "      border-right-color: var(--fill-color);\n",
              "    }\n",
              "    80% {\n",
              "      border-color: transparent;\n",
              "      border-right-color: var(--fill-color);\n",
              "      border-bottom-color: var(--fill-color);\n",
              "    }\n",
              "    90% {\n",
              "      border-color: transparent;\n",
              "      border-bottom-color: var(--fill-color);\n",
              "    }\n",
              "  }\n",
              "</style>\n",
              "\n",
              "  <script>\n",
              "    async function quickchart(key) {\n",
              "      const quickchartButtonEl =\n",
              "        document.querySelector('#' + key + ' button');\n",
              "      quickchartButtonEl.disabled = true;  // To prevent multiple clicks.\n",
              "      quickchartButtonEl.classList.add('colab-df-spinner');\n",
              "      try {\n",
              "        const charts = await google.colab.kernel.invokeFunction(\n",
              "            'suggestCharts', [key], {});\n",
              "      } catch (error) {\n",
              "        console.error('Error during call to suggestCharts:', error);\n",
              "      }\n",
              "      quickchartButtonEl.classList.remove('colab-df-spinner');\n",
              "      quickchartButtonEl.classList.add('colab-df-quickchart-complete');\n",
              "    }\n",
              "    (() => {\n",
              "      let quickchartButtonEl =\n",
              "        document.querySelector('#df-d6f94842-fdd8-4d79-9268-02e632255b96 button');\n",
              "      quickchartButtonEl.style.display =\n",
              "        google.colab.kernel.accessAllowed ? 'block' : 'none';\n",
              "    })();\n",
              "  </script>\n",
              "</div>\n",
              "\n",
              "  <div id=\"id_b9604294-cea6-4a66-a0a8-43f7921b5277\">\n",
              "    <style>\n",
              "      .colab-df-generate {\n",
              "        background-color: #E8F0FE;\n",
              "        border: none;\n",
              "        border-radius: 50%;\n",
              "        cursor: pointer;\n",
              "        display: none;\n",
              "        fill: #1967D2;\n",
              "        height: 32px;\n",
              "        padding: 0 0 0 0;\n",
              "        width: 32px;\n",
              "      }\n",
              "\n",
              "      .colab-df-generate:hover {\n",
              "        background-color: #E2EBFA;\n",
              "        box-shadow: 0px 1px 2px rgba(60, 64, 67, 0.3), 0px 1px 3px 1px rgba(60, 64, 67, 0.15);\n",
              "        fill: #174EA6;\n",
              "      }\n",
              "\n",
              "      [theme=dark] .colab-df-generate {\n",
              "        background-color: #3B4455;\n",
              "        fill: #D2E3FC;\n",
              "      }\n",
              "\n",
              "      [theme=dark] .colab-df-generate:hover {\n",
              "        background-color: #434B5C;\n",
              "        box-shadow: 0px 1px 3px 1px rgba(0, 0, 0, 0.15);\n",
              "        filter: drop-shadow(0px 1px 2px rgba(0, 0, 0, 0.3));\n",
              "        fill: #FFFFFF;\n",
              "      }\n",
              "    </style>\n",
              "    <button class=\"colab-df-generate\" onclick=\"generateWithVariable('df')\"\n",
              "            title=\"Generate code using this dataframe.\"\n",
              "            style=\"display:none;\">\n",
              "\n",
              "  <svg xmlns=\"http://www.w3.org/2000/svg\" height=\"24px\"viewBox=\"0 0 24 24\"\n",
              "       width=\"24px\">\n",
              "    <path d=\"M7,19H8.4L18.45,9,17,7.55,7,17.6ZM5,21V16.75L18.45,3.32a2,2,0,0,1,2.83,0l1.4,1.43a1.91,1.91,0,0,1,.58,1.4,1.91,1.91,0,0,1-.58,1.4L9.25,21ZM18.45,9,17,7.55Zm-12,3A5.31,5.31,0,0,0,4.9,8.1,5.31,5.31,0,0,0,1,6.5,5.31,5.31,0,0,0,4.9,4.9,5.31,5.31,0,0,0,6.5,1,5.31,5.31,0,0,0,8.1,4.9,5.31,5.31,0,0,0,12,6.5,5.46,5.46,0,0,0,6.5,12Z\"/>\n",
              "  </svg>\n",
              "    </button>\n",
              "    <script>\n",
              "      (() => {\n",
              "      const buttonEl =\n",
              "        document.querySelector('#id_b9604294-cea6-4a66-a0a8-43f7921b5277 button.colab-df-generate');\n",
              "      buttonEl.style.display =\n",
              "        google.colab.kernel.accessAllowed ? 'block' : 'none';\n",
              "\n",
              "      buttonEl.onclick = () => {\n",
              "        google.colab.notebook.generateWithVariable('df');\n",
              "      }\n",
              "      })();\n",
              "    </script>\n",
              "  </div>\n",
              "\n",
              "    </div>\n",
              "  </div>\n"
            ],
            "application/vnd.google.colaboratory.intrinsic+json": {
              "type": "dataframe",
              "variable_name": "df",
              "summary": "{\n  \"name\": \"df\",\n  \"rows\": 15,\n  \"fields\": [\n    {\n      \"column\": \"loss\",\n      \"properties\": {\n        \"dtype\": \"number\",\n        \"std\": 0.8328740723742942,\n        \"min\": 0.20101679861545563,\n        \"max\": 2.2880289554595947,\n        \"num_unique_values\": 15,\n        \"samples\": [\n          1.9802519083023071,\n          1.6559252738952637,\n          0.7186290621757507\n        ],\n        \"semantic_type\": \"\",\n        \"description\": \"\"\n      }\n    },\n    {\n      \"column\": \"accuracy\",\n      \"properties\": {\n        \"dtype\": \"number\",\n        \"std\": 0.3266376995610801,\n        \"min\": 0.13740000128746033,\n        \"max\": 0.9415333271026611,\n        \"num_unique_values\": 15,\n        \"samples\": [\n          0.3860499858856201,\n          0.2777999937534332,\n          0.8016499876976013\n        ],\n        \"semantic_type\": \"\",\n        \"description\": \"\"\n      }\n    },\n    {\n      \"column\": \"val_loss\",\n      \"properties\": {\n        \"dtype\": \"number\",\n        \"std\": 0.8567131800827116,\n        \"min\": 0.18716509640216827,\n        \"max\": 2.241403818130493,\n        \"num_unique_values\": 15,\n        \"samples\": [\n          1.929613709449768,\n          1.8546470403671265,\n          0.3345354199409485\n        ],\n        \"semantic_type\": \"\",\n        \"description\": \"\"\n      }\n    },\n    {\n      \"column\": \"val_accuracy\",\n      \"properties\": {\n        \"dtype\": \"number\",\n        \"std\": 0.3315423084844862,\n        \"min\": 0.1664000004529953,\n        \"max\": 0.944100022315979,\n        \"num_unique_values\": 15,\n        \"samples\": [\n          0.42179998755455017,\n          0.20919999480247498,\n          0.9053999781608582\n        ],\n        \"semantic_type\": \"\",\n        \"description\": \"\"\n      }\n    },\n    {\n      \"column\": \"epoch\",\n      \"properties\": {\n        \"dtype\": \"number\",\n        \"std\": 1,\n        \"min\": 0,\n        \"max\": 4,\n        \"num_unique_values\": 5,\n        \"samples\": [\n          1,\n          4,\n          2\n        ],\n        \"semantic_type\": \"\",\n        \"description\": \"\"\n      }\n    },\n    {\n      \"column\": \"Learning Rate\",\n      \"properties\": {\n        \"dtype\": \"category\",\n        \"num_unique_values\": 3,\n        \"samples\": [\n          \".01_\",\n          \".0001_\",\n          \"1_\"\n        ],\n        \"semantic_type\": \"\",\n        \"description\": \"\"\n      }\n    }\n  ]\n}"
            }
          },
          "metadata": {},
          "execution_count": 79
        }
      ]
    },
    {
      "cell_type": "code",
      "metadata": {
        "id": "QgDX7htLpTlQ",
        "colab": {
          "base_uri": "https://localhost:8080/",
          "height": 449
        },
        "outputId": "a06ba973-ea1d-45ae-9d6d-bb42dde5939a"
      },
      "source": [
        "sns.lineplot(x='epoch', y='val_loss', hue='Learning Rate', data=df);\n",
        "plt.grid()"
      ],
      "execution_count": 80,
      "outputs": [
        {
          "output_type": "display_data",
          "data": {
            "text/plain": [
              "<Figure size 640x480 with 1 Axes>"
            ],
            "image/png": "[encoded data removed]"
          },
          "metadata": {}
        }
      ]
    },
    {
      "cell_type": "code",
      "source": [
        "# High learning rate, loss function just oscillates\n",
        "# Low learning rate, it takes a while for loss to come down"
      ],
      "metadata": {
        "id": "t257cfq8yMok"
      },
      "execution_count": 81,
      "outputs": []
    },
    {
      "cell_type": "code",
      "metadata": {
        "id": "D8GPXqf_qGs9",
        "colab": {
          "base_uri": "https://localhost:8080/",
          "height": 449
        },
        "outputId": "5fa0502d-daa3-4288-c4b3-d51c37220135"
      },
      "source": [
        "sns.lineplot(x='epoch', y='val_accuracy', hue='Learning Rate', data=df);\n",
        "plt.grid()"
      ],
      "execution_count": 82,
      "outputs": [
        {
          "output_type": "display_data",
          "data": {
            "text/plain": [
              "<Figure size 640x480 with 1 Axes>"
            ],
            "image/png": "[encoded data removed]"
          },
          "metadata": {}
        }
      ]
    },
    {
      "cell_type": "markdown",
      "metadata": {
        "id": "Hp1jHQ95swhy"
      },
      "source": [
        "##3.3 Learning Rate Scheduler Callback\n",
        "A great way to tune the learning rate is to use a learning rate scheduler, which adjusts the learning rate at each epoch according to a user-supplied \"schedule\". We'll show how to introduce an exponentially increasing schedule.\n",
        "The idea is you do a trial run with the scheduler, plot the loss vs. epoch, and choose a good learning rate by inspecting the plot. <br>_Rule of thumb: choose a learning rate that is a factor of 10 lower than the learning rate at the minimum of the loss vs. learning rate curve._"
      ]
    },
    {
      "cell_type": "markdown",
      "metadata": {
        "id": "o6SnRB9Cupwo"
      },
      "source": [
        "Here is a learning rate scheduler that starts the learning rate at 1.e-6 and increases by a factor of ten every 5 epochs. So that over 30 epochs, the learning rate goes from 1.e-6 up to 1.0"
      ]
    },
    {
      "cell_type": "code",
      "metadata": {
        "id": "m3-iOvmmulKa"
      },
      "source": [
        "def scheduler(epoch):\n",
        "    lr = 1e-6 * 10**(epoch/5) # start with a low learning rate, and after 5 epochs we're going to increase our LR by 10-fold e-06 to e-05 to e-04\n",
        "    return lr\n",
        "\n",
        "# Here is the callback\n",
        "lr_schedule = tf.keras.callbacks.LearningRateScheduler(scheduler)"
      ],
      "execution_count": 84,
      "outputs": []
    },
    {
      "cell_type": "markdown",
      "metadata": {
        "id": "z8i6vHFuvIA9"
      },
      "source": [
        "Let's try it out!"
      ]
    },
    {
      "cell_type": "code",
      "metadata": {
        "colab": {
          "base_uri": "https://localhost:8080/"
        },
        "id": "Pw3qyG1jt7y2",
        "outputId": "c70c8082-b28c-4cff-e940-ee80588497c0"
      },
      "source": [
        "# create the model and fit it, passing in the learning rate scheduler callback that we created\n",
        "epochs = 30\n",
        "batch_size = 32\n",
        "model_for_lr_schedule = create_model()\n",
        "history_for_lr_schedule = model_for_lr_schedule.fit(X_train, y_train, batch_size=batch_size,callbacks=[lr_schedule] , epochs=epochs)"
      ],
      "execution_count": 85,
      "outputs": [
        {
          "output_type": "stream",
          "name": "stdout",
          "text": [
            "Epoch 1/30\n",
            "1875/1875 [==============================] - 5s 3ms/step - loss: 2.3229 - accuracy: 0.1291 - lr: 1.0000e-06\n",
            "Epoch 2/30\n",
            "1875/1875 [==============================] - 4s 2ms/step - loss: 2.3215 - accuracy: 0.1301 - lr: 1.5849e-06\n",
            "Epoch 3/30\n",
            "1875/1875 [==============================] - 4s 2ms/step - loss: 2.3193 - accuracy: 0.1311 - lr: 2.5119e-06\n",
            "Epoch 4/30\n",
            "1875/1875 [==============================] - 4s 2ms/step - loss: 2.3158 - accuracy: 0.1330 - lr: 3.9811e-06\n",
            "Epoch 5/30\n",
            "1875/1875 [==============================] - 5s 2ms/step - loss: 2.3104 - accuracy: 0.1364 - lr: 6.3096e-06\n",
            "Epoch 6/30\n",
            "1875/1875 [==============================] - 4s 2ms/step - loss: 2.3020 - accuracy: 0.1413 - lr: 1.0000e-05\n",
            "Epoch 7/30\n",
            "1875/1875 [==============================] - 4s 2ms/step - loss: 2.2892 - accuracy: 0.1500 - lr: 1.5849e-05\n",
            "Epoch 8/30\n",
            "1875/1875 [==============================] - 5s 3ms/step - loss: 2.2694 - accuracy: 0.1654 - lr: 2.5119e-05\n",
            "Epoch 9/30\n",
            "1875/1875 [==============================] - 4s 2ms/step - loss: 2.2386 - accuracy: 0.1939 - lr: 3.9811e-05\n",
            "Epoch 10/30\n",
            "1875/1875 [==============================] - 4s 2ms/step - loss: 2.1892 - accuracy: 0.2525 - lr: 6.3096e-05\n",
            "Epoch 11/30\n",
            "1875/1875 [==============================] - 5s 3ms/step - loss: 2.1077 - accuracy: 0.3597 - lr: 1.0000e-04\n",
            "Epoch 12/30\n",
            "1875/1875 [==============================] - 4s 2ms/step - loss: 1.9748 - accuracy: 0.4897 - lr: 1.5849e-04\n",
            "Epoch 13/30\n",
            "1875/1875 [==============================] - 4s 2ms/step - loss: 1.7629 - accuracy: 0.5952 - lr: 2.5119e-04\n",
            "Epoch 14/30\n",
            "1875/1875 [==============================] - 5s 2ms/step - loss: 1.4537 - accuracy: 0.6819 - lr: 3.9811e-04\n",
            "Epoch 15/30\n",
            "1875/1875 [==============================] - 4s 2ms/step - loss: 1.0861 - accuracy: 0.7567 - lr: 6.3096e-04\n",
            "Epoch 16/30\n",
            "1875/1875 [==============================] - 4s 2ms/step - loss: 0.7774 - accuracy: 0.8084 - lr: 0.0010\n",
            "Epoch 17/30\n",
            "1875/1875 [==============================] - 4s 2ms/step - loss: 0.5782 - accuracy: 0.8474 - lr: 0.0016\n",
            "Epoch 18/30\n",
            "1875/1875 [==============================] - 5s 3ms/step - loss: 0.4534 - accuracy: 0.8760 - lr: 0.0025\n",
            "Epoch 19/30\n",
            "1875/1875 [==============================] - 4s 2ms/step - loss: 0.3736 - accuracy: 0.8949 - lr: 0.0040\n",
            "Epoch 20/30\n",
            "1875/1875 [==============================] - 4s 2ms/step - loss: 0.3213 - accuracy: 0.9071 - lr: 0.0063\n",
            "Epoch 21/30\n",
            "1875/1875 [==============================] - 6s 3ms/step - loss: 0.2814 - accuracy: 0.9197 - lr: 0.0100\n",
            "Epoch 22/30\n",
            "1875/1875 [==============================] - 6s 3ms/step - loss: 0.2438 - accuracy: 0.9303 - lr: 0.0158\n",
            "Epoch 23/30\n",
            "1875/1875 [==============================] - 8s 4ms/step - loss: 0.2042 - accuracy: 0.9412 - lr: 0.0251\n",
            "Epoch 24/30\n",
            "1875/1875 [==============================] - 5s 3ms/step - loss: 0.1659 - accuracy: 0.9509 - lr: 0.0398\n",
            "Epoch 25/30\n",
            "1875/1875 [==============================] - 4s 2ms/step - loss: 0.1394 - accuracy: 0.9581 - lr: 0.0631\n",
            "Epoch 26/30\n",
            "1875/1875 [==============================] - 5s 3ms/step - loss: 0.1218 - accuracy: 0.9621 - lr: 0.1000\n",
            "Epoch 27/30\n",
            "1875/1875 [==============================] - 4s 2ms/step - loss: 0.1189 - accuracy: 0.9628 - lr: 0.1585\n",
            "Epoch 28/30\n",
            "1875/1875 [==============================] - 4s 2ms/step - loss: 0.1293 - accuracy: 0.9594 - lr: 0.2512\n",
            "Epoch 29/30\n",
            "1875/1875 [==============================] - 7s 4ms/step - loss: 0.1513 - accuracy: 0.9560 - lr: 0.3981\n",
            "Epoch 30/30\n",
            "1875/1875 [==============================] - 6s 3ms/step - loss: 0.2115 - accuracy: 0.9424 - lr: 0.6310\n"
          ]
        }
      ]
    },
    {
      "cell_type": "markdown",
      "metadata": {
        "id": "swY-13T94ZlS"
      },
      "source": [
        "Since the minimum in the loss vs learning rate curve below is at learning rate of 0.1, we should choose a learning rate of 0.01"
      ]
    },
    {
      "cell_type": "code",
      "metadata": {
        "id": "1BXA30jw1YhV"
      },
      "source": [
        "# plot the result\n",
        "plt.semilogx(history_for_lr_schedule.history[\"lr\"], history_for_lr_schedule.history[\"loss\"])\n",
        "plt.axis([1e-6, 1, 1.0, 2.5])\n",
        "plt.title('learning rate schedule')\n",
        "plt.xlabel('learning rate')\n",
        "plt.ylabel('loss')\n",
        "plt.grid()"
      ],
      "execution_count": null,
      "outputs": []
    },
    {
      "cell_type": "markdown",
      "source": [
        "![image.png](data:image/png;base64,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)"
      ],
      "metadata": {
        "id": "l-VqQK370hS2"
      }
    },
    {
      "cell_type": "code",
      "source": [
        "# Lowest loss at 0.1 but we wanna start the LR at about a quarter magnitude less of that, so we can start at 0.01"
      ],
      "metadata": {
        "id": "Ukvns8fIzfqq"
      },
      "execution_count": null,
      "outputs": []
    },
    {
      "cell_type": "markdown",
      "metadata": {
        "id": "Kb2aiw_Sgcl7"
      },
      "source": [
        "## Challenge\n",
        "\n",
        "You will be expected to experiment with different learning rates today.\n",
        "\n",
        "---\n"
      ]
    }
  ]
}