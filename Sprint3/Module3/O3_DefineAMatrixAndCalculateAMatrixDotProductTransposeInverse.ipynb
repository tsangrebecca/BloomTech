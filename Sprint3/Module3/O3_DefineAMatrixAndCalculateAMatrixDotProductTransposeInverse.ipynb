{
  "nbformat": 4,
  "nbformat_minor": 0,
  "metadata": {
    "colab": {
      "provenance": [],
      "authorship_tag": "ABX9TyMvKkBsoaQQWv6p6K7aZ79l",
      "include_colab_link": true
    },
    "kernelspec": {
      "name": "python3",
      "display_name": "Python 3"
    },
    "language_info": {
      "name": "python"
    }
  },
  "cells": [
    {
      "cell_type": "markdown",
      "metadata": {
        "id": "view-in-github",
        "colab_type": "text"
      },
      "source": [
        "<a href=\"https://colab.research.google.com/github/tsangrebecca/BloomTech/blob/main/Sprint3/Module3/O3_DefineAMatrixAndCalculateAMatrixDotProductTransposeInverse.ipynb\" target=\"_parent\"><img src=\"https://colab.research.google.com/assets/colab-badge.svg\" alt=\"Open In Colab\"/></a>"
      ]
    },
    {
      "cell_type": "code",
      "execution_count": 1,
      "metadata": {
        "colab": {
          "base_uri": "https://localhost:8080/"
        },
        "id": "pVNLXhZzVnS9",
        "outputId": "169d3e17-0f1a-4931-fca7-eb0b73f0df8e"
      },
      "outputs": [
        {
          "output_type": "stream",
          "name": "stdout",
          "text": [
            "2x3 matrix:\n",
            " [[1 2 3]\n",
            " [4 5 6]]\n",
            "\n",
            "3x3 matrix:\n",
            " [[1 2 3]\n",
            " [4 5 6]\n",
            " [7 8 9]]\n"
          ]
        }
      ],
      "source": [
        "import numpy as np\n",
        "\n",
        "# Two dimensional numpy array (2x3)\n",
        "matrix1 = np.array([[ 1, 2, 3],[ 4, 5, 6]])\n",
        "print('2x3 matrix:\\n', matrix1)\n",
        "\n",
        "# 3x3 numpy array\n",
        "matrix2 = np.array([[ 1, 2, 3],[ 4, 5, 6], [7, 8, 9]])\n",
        "print('\\n3x3 matrix:\\n', matrix2)"
      ]
    },
    {
      "cell_type": "markdown",
      "source": [
        "**Matrix Multiplication**"
      ],
      "metadata": {
        "id": "RwOqyAzcyeHp"
      }
    },
    {
      "cell_type": "code",
      "source": [
        "# Check matrix multiplication with Python\n",
        "\n",
        "X = np.array([[1,4,8],[2,3,1]])\n",
        "Y = np.array([[1,6],[2,3],[5,7]])\n",
        "\n",
        "X_Y = np.matmul(X, Y)\n",
        "print('X * Y:\\n', X_Y)"
      ],
      "metadata": {
        "colab": {
          "base_uri": "https://localhost:8080/"
        },
        "id": "Xwz8TmCuxXec",
        "outputId": "ad7a23f0-5246-492f-ddbf-fbd4dcb0dc5b"
      },
      "execution_count": 2,
      "outputs": [
        {
          "output_type": "stream",
          "name": "stdout",
          "text": [
            "X * Y:\n",
            " [[49 74]\n",
            " [13 28]]\n"
          ]
        }
      ]
    },
    {
      "cell_type": "markdown",
      "source": [
        "**Transpose of Matrix**"
      ],
      "metadata": {
        "id": "5smE1_0cyhE_"
      }
    },
    {
      "cell_type": "code",
      "source": [
        "# Transposing matrix, switching columns to rows and vice versa\n",
        "A = np.array([[1, 2], [3, 4],[5, 6]])\n",
        "print('Original matrix:\\n', A)\n",
        "\n",
        "A_T = np.transpose(A)\n",
        "print('Transposed matrix:\\n', A_T)"
      ],
      "metadata": {
        "colab": {
          "base_uri": "https://localhost:8080/"
        },
        "id": "eAu-aQ_Ux7xL",
        "outputId": "856b16f3-aff9-4ba3-f3bc-ba717918bd00"
      },
      "execution_count": 3,
      "outputs": [
        {
          "output_type": "stream",
          "name": "stdout",
          "text": [
            "Original matrix:\n",
            " [[1 2]\n",
            " [3 4]\n",
            " [5 6]]\n",
            "Transposed matrix:\n",
            " [[1 3 5]\n",
            " [2 4 6]]\n"
          ]
        }
      ]
    },
    {
      "cell_type": "markdown",
      "source": [
        "Inverse of Matrix"
      ],
      "metadata": {
        "id": "OJiqbmbtyjiH"
      }
    },
    {
      "cell_type": "markdown",
      "source": [
        "Inverse of A = A-1"
      ],
      "metadata": {
        "id": "iuqZZDRlytg7"
      }
    },
    {
      "cell_type": "markdown",
      "source": [
        "Identity Matrix"
      ],
      "metadata": {
        "id": "qJadSlYLyqHH"
      }
    },
    {
      "cell_type": "markdown",
      "source": [
        "The identity matrix is a specific diagonal matrix where there are only ones on the main diagonal and zeros everywhere else. This matrix acts a lot like the number 1: if we multiply any matrix by its identity matrix, the original matrix will remain unchanged. Here's an example of a 3x3 identity matrix."
      ],
      "metadata": {
        "id": "xzsKpqHI2fZS"
      }
    },
    {
      "cell_type": "markdown",
      "source": [
        "Identity 3x3 is"
      ],
      "metadata": {
        "id": "4aBpkOxw2Xoa"
      }
    },
    {
      "cell_type": "code",
      "source": [
        "# 1 0 0\n",
        "# 0 1 0\n",
        "# 0 0 1"
      ],
      "metadata": {
        "id": "iNaJJCQi2pSi"
      },
      "execution_count": 5,
      "outputs": []
    },
    {
      "cell_type": "code",
      "source": [],
      "metadata": {
        "id": "B96vjOxv2vIR"
      },
      "execution_count": null,
      "outputs": []
    }
  ]
}