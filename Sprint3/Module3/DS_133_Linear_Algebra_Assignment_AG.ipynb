{
  "cells": [
    {
      "cell_type": "markdown",
      "metadata": {
        "id": "view-in-github",
        "colab_type": "text"
      },
      "source": [
        "<a href=\"https://colab.research.google.com/github/tsangrebecca/BloomTech/blob/main/Sprint3/Module3/DS_133_Linear_Algebra_Assignment_AG.ipynb\" target=\"_parent\"><img src=\"https://colab.research.google.com/assets/colab-badge.svg\" alt=\"Open In Colab\"/></a>"
      ]
    },
    {
      "cell_type": "markdown",
      "metadata": {
        "deletable": false,
        "editable": false,
        "id": "iovQcSbqJl0_",
        "nbgrader": {
          "cell_type": "markdown",
          "checksum": "93edd8c60a281e5968601be9fd49efb7",
          "grade": false,
          "grade_id": "cell-74fad01fc2c9eae4",
          "locked": true,
          "schema_version": 3,
          "solution": false,
          "task": false
        }
      },
      "source": [
        "# Data Science - Unit 1 Sprint 3 Module 3\n",
        "\n",
        "## Module Project: Linear Algebra\n",
        "\n",
        "### Learning Objectives\n",
        "\n",
        "* define a vector and calculate a vector length and dot product\n",
        "* define a matrix and calculate a matrix dot product, transpose, and inverse\n",
        "* explain cosine similarity and compute the similarity between two vectors\n",
        "* use linear algebra to solve for linear regression coefficients\n",
        "\n",
        "### Total notebook points: 13"
      ]
    },
    {
      "cell_type": "markdown",
      "metadata": {
        "deletable": false,
        "editable": false,
        "id": "MHWnltybtm8_",
        "nbgrader": {
          "cell_type": "markdown",
          "checksum": "e482adbf03a6296fe5f8d2302fe30447",
          "grade": false,
          "grade_id": "cell-54dbfe7a7ac7a05e",
          "locked": true,
          "schema_version": 3,
          "solution": false,
          "task": false
        }
      },
      "source": [
        "## Part A: Introduction\n",
        "\n",
        "### Statistical significance between head size and brain weight in healthy adult humans\n",
        "\n",
        "The `Brainhead.csv` dataset provides information on 237 individuals who were subject to post-mortem examination at the Middlesex Hospital in London around the turn of the 20th century. Study authors used cadavers to see if a relationship between brain weight and other more easily measured physiological characterizes such as age, sex, and head size could be determined. The end goal was to develop a way to estimate a person’s brain size while they were still alive (as the living aren’t keen on having their brains taken out and weighed).\n",
        "\n",
        "**We wish to determine if we can improve on our model of the linear relationship between head size and brain weight in healthy human adults.**\n",
        "\n",
        "Source: R.J. Gladstone (1905). \"A Study of the Relations of the Brain to the Size of the Head\", Biometrika, Vol. 4, pp105-123.\n",
        "\n",
        "### Use the above information to complete the following tasks."
      ]
    },
    {
      "cell_type": "markdown",
      "metadata": {
        "id": "UP2jBCbXyjzl"
      },
      "source": [
        "**Task 1** - Load the data\n",
        "\n",
        "Let's load the data! The URL has been provided as well as the imports for pandas and numpy.\n",
        "\n",
        "* load your CSV file into a DataFrame named `df`"
      ]
    },
    {
      "cell_type": "code",
      "execution_count": 7,
      "metadata": {
        "colab": {
          "base_uri": "https://localhost:8080/",
          "height": 206
        },
        "deletable": false,
        "id": "0NKz1DvXQHqq",
        "nbgrader": {
          "cell_type": "code",
          "checksum": "9358a768662a02dc0b59e5014916f3fb",
          "grade": false,
          "grade_id": "cell-a7ff057c4c794df7",
          "locked": false,
          "schema_version": 3,
          "solution": true,
          "task": false
        },
        "outputId": "536e5bd9-7c80-4eb0-e515-46fb7426082d"
      },
      "outputs": [
        {
          "output_type": "execute_result",
          "data": {
            "text/plain": [
              "   Gender  Age  Head  Brain\n",
              "0       1    1  4512   1530\n",
              "1       1    1  3738   1297\n",
              "2       1    1  4261   1335\n",
              "3       1    1  3777   1282\n",
              "4       1    1  4177   1590"
            ],
            "text/html": [
              "\n",
              "  <div id=\"df-fee218f6-760b-4b2c-9eab-1475b7b1720f\" class=\"colab-df-container\">\n",
              "    <div>\n",
              "<style scoped>\n",
              "    .dataframe tbody tr th:only-of-type {\n",
              "        vertical-align: middle;\n",
              "    }\n",
              "\n",
              "    .dataframe tbody tr th {\n",
              "        vertical-align: top;\n",
              "    }\n",
              "\n",
              "    .dataframe thead th {\n",
              "        text-align: right;\n",
              "    }\n",
              "</style>\n",
              "<table border=\"1\" class=\"dataframe\">\n",
              "  <thead>\n",
              "    <tr style=\"text-align: right;\">\n",
              "      <th></th>\n",
              "      <th>Gender</th>\n",
              "      <th>Age</th>\n",
              "      <th>Head</th>\n",
              "      <th>Brain</th>\n",
              "    </tr>\n",
              "  </thead>\n",
              "  <tbody>\n",
              "    <tr>\n",
              "      <th>0</th>\n",
              "      <td>1</td>\n",
              "      <td>1</td>\n",
              "      <td>4512</td>\n",
              "      <td>1530</td>\n",
              "    </tr>\n",
              "    <tr>\n",
              "      <th>1</th>\n",
              "      <td>1</td>\n",
              "      <td>1</td>\n",
              "      <td>3738</td>\n",
              "      <td>1297</td>\n",
              "    </tr>\n",
              "    <tr>\n",
              "      <th>2</th>\n",
              "      <td>1</td>\n",
              "      <td>1</td>\n",
              "      <td>4261</td>\n",
              "      <td>1335</td>\n",
              "    </tr>\n",
              "    <tr>\n",
              "      <th>3</th>\n",
              "      <td>1</td>\n",
              "      <td>1</td>\n",
              "      <td>3777</td>\n",
              "      <td>1282</td>\n",
              "    </tr>\n",
              "    <tr>\n",
              "      <th>4</th>\n",
              "      <td>1</td>\n",
              "      <td>1</td>\n",
              "      <td>4177</td>\n",
              "      <td>1590</td>\n",
              "    </tr>\n",
              "  </tbody>\n",
              "</table>\n",
              "</div>\n",
              "    <div class=\"colab-df-buttons\">\n",
              "\n",
              "  <div class=\"colab-df-container\">\n",
              "    <button class=\"colab-df-convert\" onclick=\"convertToInteractive('df-fee218f6-760b-4b2c-9eab-1475b7b1720f')\"\n",
              "            title=\"Convert this dataframe to an interactive table.\"\n",
              "            style=\"display:none;\">\n",
              "\n",
              "  <svg xmlns=\"http://www.w3.org/2000/svg\" height=\"24px\" viewBox=\"0 -960 960 960\">\n",
              "    <path d=\"M120-120v-720h720v720H120Zm60-500h600v-160H180v160Zm220 220h160v-160H400v160Zm0 220h160v-160H400v160ZM180-400h160v-160H180v160Zm440 0h160v-160H620v160ZM180-180h160v-160H180v160Zm440 0h160v-160H620v160Z\"/>\n",
              "  </svg>\n",
              "    </button>\n",
              "\n",
              "  <style>\n",
              "    .colab-df-container {\n",
              "      display:flex;\n",
              "      gap: 12px;\n",
              "    }\n",
              "\n",
              "    .colab-df-convert {\n",
              "      background-color: #E8F0FE;\n",
              "      border: none;\n",
              "      border-radius: 50%;\n",
              "      cursor: pointer;\n",
              "      display: none;\n",
              "      fill: #1967D2;\n",
              "      height: 32px;\n",
              "      padding: 0 0 0 0;\n",
              "      width: 32px;\n",
              "    }\n",
              "\n",
              "    .colab-df-convert:hover {\n",
              "      background-color: #E2EBFA;\n",
              "      box-shadow: 0px 1px 2px rgba(60, 64, 67, 0.3), 0px 1px 3px 1px rgba(60, 64, 67, 0.15);\n",
              "      fill: #174EA6;\n",
              "    }\n",
              "\n",
              "    .colab-df-buttons div {\n",
              "      margin-bottom: 4px;\n",
              "    }\n",
              "\n",
              "    [theme=dark] .colab-df-convert {\n",
              "      background-color: #3B4455;\n",
              "      fill: #D2E3FC;\n",
              "    }\n",
              "\n",
              "    [theme=dark] .colab-df-convert:hover {\n",
              "      background-color: #434B5C;\n",
              "      box-shadow: 0px 1px 3px 1px rgba(0, 0, 0, 0.15);\n",
              "      filter: drop-shadow(0px 1px 2px rgba(0, 0, 0, 0.3));\n",
              "      fill: #FFFFFF;\n",
              "    }\n",
              "  </style>\n",
              "\n",
              "    <script>\n",
              "      const buttonEl =\n",
              "        document.querySelector('#df-fee218f6-760b-4b2c-9eab-1475b7b1720f button.colab-df-convert');\n",
              "      buttonEl.style.display =\n",
              "        google.colab.kernel.accessAllowed ? 'block' : 'none';\n",
              "\n",
              "      async function convertToInteractive(key) {\n",
              "        const element = document.querySelector('#df-fee218f6-760b-4b2c-9eab-1475b7b1720f');\n",
              "        const dataTable =\n",
              "          await google.colab.kernel.invokeFunction('convertToInteractive',\n",
              "                                                    [key], {});\n",
              "        if (!dataTable) return;\n",
              "\n",
              "        const docLinkHtml = 'Like what you see? Visit the ' +\n",
              "          '<a target=\"_blank\" href=https://colab.research.google.com/notebooks/data_table.ipynb>data table notebook</a>'\n",
              "          + ' to learn more about interactive tables.';\n",
              "        element.innerHTML = '';\n",
              "        dataTable['output_type'] = 'display_data';\n",
              "        await google.colab.output.renderOutput(dataTable, element);\n",
              "        const docLink = document.createElement('div');\n",
              "        docLink.innerHTML = docLinkHtml;\n",
              "        element.appendChild(docLink);\n",
              "      }\n",
              "    </script>\n",
              "  </div>\n",
              "\n",
              "\n",
              "<div id=\"df-0f10a19c-04c2-4c3b-91e9-0b82a46b9746\">\n",
              "  <button class=\"colab-df-quickchart\" onclick=\"quickchart('df-0f10a19c-04c2-4c3b-91e9-0b82a46b9746')\"\n",
              "            title=\"Suggest charts.\"\n",
              "            style=\"display:none;\">\n",
              "\n",
              "<svg xmlns=\"http://www.w3.org/2000/svg\" height=\"24px\"viewBox=\"0 0 24 24\"\n",
              "     width=\"24px\">\n",
              "    <g>\n",
              "        <path d=\"M19 3H5c-1.1 0-2 .9-2 2v14c0 1.1.9 2 2 2h14c1.1 0 2-.9 2-2V5c0-1.1-.9-2-2-2zM9 17H7v-7h2v7zm4 0h-2V7h2v10zm4 0h-2v-4h2v4z\"/>\n",
              "    </g>\n",
              "</svg>\n",
              "  </button>\n",
              "\n",
              "<style>\n",
              "  .colab-df-quickchart {\n",
              "    background-color: #E8F0FE;\n",
              "    border: none;\n",
              "    border-radius: 50%;\n",
              "    cursor: pointer;\n",
              "    display: none;\n",
              "    fill: #1967D2;\n",
              "    height: 32px;\n",
              "    padding: 0 0 0 0;\n",
              "    width: 32px;\n",
              "  }\n",
              "\n",
              "  .colab-df-quickchart:hover {\n",
              "    background-color: #E2EBFA;\n",
              "    box-shadow: 0px 1px 2px rgba(60, 64, 67, 0.3), 0px 1px 3px 1px rgba(60, 64, 67, 0.15);\n",
              "    fill: #174EA6;\n",
              "  }\n",
              "\n",
              "  [theme=dark] .colab-df-quickchart {\n",
              "    background-color: #3B4455;\n",
              "    fill: #D2E3FC;\n",
              "  }\n",
              "\n",
              "  [theme=dark] .colab-df-quickchart:hover {\n",
              "    background-color: #434B5C;\n",
              "    box-shadow: 0px 1px 3px 1px rgba(0, 0, 0, 0.15);\n",
              "    filter: drop-shadow(0px 1px 2px rgba(0, 0, 0, 0.3));\n",
              "    fill: #FFFFFF;\n",
              "  }\n",
              "</style>\n",
              "\n",
              "  <script>\n",
              "    async function quickchart(key) {\n",
              "      const charts = await google.colab.kernel.invokeFunction(\n",
              "          'suggestCharts', [key], {});\n",
              "    }\n",
              "    (() => {\n",
              "      let quickchartButtonEl =\n",
              "        document.querySelector('#df-0f10a19c-04c2-4c3b-91e9-0b82a46b9746 button');\n",
              "      quickchartButtonEl.style.display =\n",
              "        google.colab.kernel.accessAllowed ? 'block' : 'none';\n",
              "    })();\n",
              "  </script>\n",
              "</div>\n",
              "    </div>\n",
              "  </div>\n"
            ]
          },
          "metadata": {},
          "execution_count": 7
        }
      ],
      "source": [
        "# Task 1\n",
        "\n",
        "# Imports\n",
        "import pandas as pd\n",
        "\n",
        "# Dataset URL\n",
        "data_url = 'https://raw.githubusercontent.com/bloominstituteoftechnology/data-science-practice-datasets/main/unit_1/Brainhead/Brainhead.csv'\n",
        "\n",
        "# YOUR CODE HERE\n",
        "df = pd.read_csv(data_url)\n",
        "# Print out your DataFrame\n",
        "df.head()"
      ]
    },
    {
      "cell_type": "markdown",
      "metadata": {
        "id": "UZ645l24as2R"
      },
      "source": [
        "**Task 2**\n",
        "\n",
        "Store the response variable (brain size) as a matrix called Y.\n",
        "\n",
        "* Import numpy\n",
        "* Assign the `Brain` column to a matrix variable called `Y` which should be a `np.array` with dimensions `(237, 1)`\n",
        "* Print out your matrix shape to check the dimensions."
      ]
    },
    {
      "cell_type": "code",
      "execution_count": 8,
      "metadata": {
        "colab": {
          "base_uri": "https://localhost:8080/"
        },
        "deletable": false,
        "id": "UVhixZZZQfUw",
        "nbgrader": {
          "cell_type": "code",
          "checksum": "1d1bf8ec0a3d924f988de7a9caba9e2c",
          "grade": false,
          "grade_id": "cell-906b5526dbb03375",
          "locked": false,
          "schema_version": 3,
          "solution": true,
          "task": false
        },
        "outputId": "8b31bf01-3c01-4ea8-a44a-6dfa88904e2c"
      },
      "outputs": [
        {
          "output_type": "stream",
          "name": "stdout",
          "text": [
            "Matrix Y shape:  (237, 1)\n"
          ]
        }
      ],
      "source": [
        "# Task 2\n",
        "import numpy as np\n",
        "\n",
        "# YOUR CODE HERE\n",
        "Y = np.array(df['Brain']).reshape(-1,1)\n",
        "# Print your matrix\n",
        "print(\"Matrix Y shape: \", Y.shape)"
      ]
    },
    {
      "cell_type": "code",
      "execution_count": 9,
      "metadata": {
        "deletable": false,
        "editable": false,
        "id": "49ZkVHWVyjzm",
        "nbgrader": {
          "cell_type": "code",
          "checksum": "6e3f524dc2ed17c9f8ffce476332af8d",
          "grade": true,
          "grade_id": "cell-d16efc5b41a30644",
          "locked": true,
          "points": 1,
          "schema_version": 3,
          "solution": false,
          "task": false
        }
      },
      "outputs": [],
      "source": [
        "# Task 2 - Test\n",
        "\n",
        "assert Y.shape == (237, 1), \"Is your Y matrix of the correct shape?\"\n"
      ]
    },
    {
      "cell_type": "markdown",
      "metadata": {
        "id": "l_tU9rAlbhh4"
      },
      "source": [
        "**Task 3** - Create the X and Y matrices\n",
        "\n",
        "Store the explanatory variable (head size) as the matrix `X`.  Don't forget to include the **column of ones** for the intercept term (refer to the Guided Project notes if needed).\n",
        "\n",
        "* Create an `np.array` of ones with the name `ones`; it should be the same length as your DataFrame.\n",
        "* Create another `np.array` with the name `head`; it should have a shape of `(237, 1)`.\n",
        "* Combine the `ones` and `head` arrays to create your matrix and call it `X`; it should have a shape of `(237, 2)`"
      ]
    },
    {
      "cell_type": "code",
      "execution_count": 10,
      "metadata": {
        "colab": {
          "base_uri": "https://localhost:8080/"
        },
        "deletable": false,
        "id": "_fGlhvmTbJdV",
        "nbgrader": {
          "cell_type": "code",
          "checksum": "d682dd6f4aac2bacefca8262984a0d88",
          "grade": false,
          "grade_id": "cell-a73325dfcd0c8c47",
          "locked": false,
          "schema_version": 3,
          "solution": true,
          "task": false
        },
        "outputId": "a72f59cb-1a8e-4659-92b2-a4797a08af26"
      },
      "outputs": [
        {
          "output_type": "stream",
          "name": "stdout",
          "text": [
            "(237, 2)\n"
          ]
        }
      ],
      "source": [
        "# Task 3\n",
        "\n",
        "# YOUR CODE HERE\n",
        "ones = np.ones(len(df)).reshape(-1,1)\n",
        "head = np.array(df['Head']).reshape(-1,1)\n",
        "X = np.concatenate([ones, head], axis=1)\n",
        "# Print your X matrix shape\n",
        "print(X.shape)"
      ]
    },
    {
      "cell_type": "code",
      "execution_count": 11,
      "metadata": {
        "deletable": false,
        "editable": false,
        "id": "RjY-9809yjzn",
        "nbgrader": {
          "cell_type": "code",
          "checksum": "865c1285b7a582be3f99187be7540e58",
          "grade": true,
          "grade_id": "cell-bc89267013875630",
          "locked": true,
          "points": 1,
          "schema_version": 3,
          "solution": false,
          "task": false
        }
      },
      "outputs": [],
      "source": [
        "# Task 3 - Test\n",
        "\n",
        "assert ones.shape == (237, 1), \"Is your ones matrix of the correct shape?\"\n",
        "assert head.shape == (237, 1), \"Is your 'head' matrix of the correct shape?\"\n",
        "assert X.shape == (237, 2), \"Is your X matrix of the correct shape?\"\n"
      ]
    },
    {
      "cell_type": "markdown",
      "metadata": {
        "id": "CTtxhF82ceG7"
      },
      "source": [
        "**Task 4** - Transpose of a matrix\n",
        "\n",
        "Calculate the transpose of X which is written as $X^T$.  \n",
        "\n",
        "* Calculate the transpose of `X` and assign it to the variable `X_T`.\n",
        "\n",
        "Explain what the transpose of a matrix is.\n",
        "\n",
        "YOUR ANSWER\n"
      ]
    },
    {
      "cell_type": "code",
      "execution_count": 12,
      "metadata": {
        "colab": {
          "base_uri": "https://localhost:8080/"
        },
        "deletable": false,
        "id": "m_Dd1ZbU335I",
        "nbgrader": {
          "cell_type": "code",
          "checksum": "712bbd01390c8b5e86868c45f0124046",
          "grade": false,
          "grade_id": "cell-77a8f3ab39997ded",
          "locked": false,
          "schema_version": 3,
          "solution": true,
          "task": false
        },
        "outputId": "14079833-1cfe-4de1-86d5-f3953cc5ae5b"
      },
      "outputs": [
        {
          "output_type": "stream",
          "name": "stdout",
          "text": [
            "(2, 237)\n"
          ]
        }
      ],
      "source": [
        "# Task 4\n",
        "\n",
        "# YOUR CODE HERE\n",
        "X_T = X.T\n",
        "# Print your transposed matrix shape\n",
        "print(X_T.shape)"
      ]
    },
    {
      "cell_type": "code",
      "execution_count": 13,
      "metadata": {
        "deletable": false,
        "editable": false,
        "id": "jzYyv8xpyjzo",
        "nbgrader": {
          "cell_type": "code",
          "checksum": "4646d3d8f77a047204be19706e5d51d2",
          "grade": true,
          "grade_id": "cell-c42371c469023c73",
          "locked": true,
          "points": 1,
          "schema_version": 3,
          "solution": false,
          "task": false
        }
      },
      "outputs": [],
      "source": [
        "# Task 4 - Test\n",
        "\n",
        "assert X_T.shape == (2, 237), \"Is your X_T matrix of the correct shape?\"\n"
      ]
    },
    {
      "cell_type": "markdown",
      "metadata": {
        "id": "GGng_b0CdJbV"
      },
      "source": [
        "**Task 5** - More matrix multiplication!\n",
        "\n",
        "Use matrix multiplication to calculate the transpose of X multiple by X, which is written as $X^TX$.\n",
        "\n",
        "* Assign the results of your calculation to the variable `X_T_X` which should be a `numpy.ndarray`."
      ]
    },
    {
      "cell_type": "code",
      "execution_count": 14,
      "metadata": {
        "colab": {
          "base_uri": "https://localhost:8080/"
        },
        "deletable": false,
        "id": "_cOjfx-wcvca",
        "nbgrader": {
          "cell_type": "code",
          "checksum": "f19943d0fc17e41d379caac4b5c9b9d7",
          "grade": false,
          "grade_id": "cell-c124802e72cb0884",
          "locked": false,
          "schema_version": 3,
          "solution": true,
          "task": false
        },
        "outputId": "075c1506-c3a7-40a9-be1d-93c9bbf1485e"
      },
      "outputs": [
        {
          "output_type": "stream",
          "name": "stdout",
          "text": [
            "[[2.37000000e+02 8.61256000e+05]\n",
            " [8.61256000e+05 3.16128319e+09]]\n"
          ]
        }
      ],
      "source": [
        "# Task 5\n",
        "\n",
        "# YOUR CODE HERE\n",
        "X_T_X = np.matmul(X_T, X)\n",
        "# Look at your matrix\n",
        "print(X_T_X)"
      ]
    },
    {
      "cell_type": "code",
      "execution_count": 15,
      "metadata": {
        "deletable": false,
        "editable": false,
        "id": "iClDrC_Jyjzp",
        "nbgrader": {
          "cell_type": "code",
          "checksum": "b5b9ed22ebd4f8e9a4ef6ba8f9a6864f",
          "grade": true,
          "grade_id": "cell-abafc7210672e842",
          "locked": true,
          "points": 1,
          "schema_version": 3,
          "solution": false,
          "task": false
        }
      },
      "outputs": [],
      "source": [
        "# Task 5 - Test\n",
        "\n",
        "assert X_T_X.shape == (2, 2), \"Is your X_T_X matrix of the correct shape?\"\n"
      ]
    },
    {
      "cell_type": "markdown",
      "metadata": {
        "id": "xihZH2tIdWGc"
      },
      "source": [
        "**Task 6** - Continuing the matrix multiplication\n",
        "\n",
        "Calculate the inverse of the matrix you calculated in **Task 5**. This would be written as $(X^TX)^{-1}$.  \n",
        "\n",
        "* Assign your calculation to the variable `X_T_X_inv` which should be a `numpy.ndarray`.\n",
        "\n",
        "Explain what the inverse of a matrix is. You can use examples from other areas of math to illustrate.\n",
        "\n",
        "YOUR ANSWER"
      ]
    },
    {
      "cell_type": "code",
      "execution_count": 16,
      "metadata": {
        "colab": {
          "base_uri": "https://localhost:8080/"
        },
        "deletable": false,
        "id": "WxOrKY9F391Z",
        "nbgrader": {
          "cell_type": "code",
          "checksum": "4f94fbee99a196cda21fdd2c8176e9f5",
          "grade": false,
          "grade_id": "cell-dbca155155dd78e0",
          "locked": false,
          "schema_version": 3,
          "solution": true,
          "task": false
        },
        "outputId": "22115915-013b-4813-d100-c725f15f2441"
      },
      "outputs": [
        {
          "output_type": "stream",
          "name": "stdout",
          "text": [
            "[[ 4.23638519e-01 -1.15415543e-04]\n",
            " [-1.15415543e-04  3.17599920e-08]]\n"
          ]
        }
      ],
      "source": [
        "# Task 6\n",
        "\n",
        "# YOUR CODE HERE\n",
        "X_T_X_inv = np.linalg.inv(X_T_X)\n",
        "# Look at your matrix\n",
        "print(X_T_X_inv)"
      ]
    },
    {
      "cell_type": "code",
      "execution_count": 17,
      "metadata": {
        "deletable": false,
        "editable": false,
        "id": "FI4Z2mPcyjzq",
        "nbgrader": {
          "cell_type": "code",
          "checksum": "2a66278c668fed6670563bff1e429844",
          "grade": true,
          "grade_id": "cell-4a406a5447c57b7b",
          "locked": true,
          "points": 1,
          "schema_version": 3,
          "solution": false,
          "task": false
        }
      },
      "outputs": [],
      "source": [
        "# Task 6 - Test\n",
        "\n",
        "assert X_T_X_inv.shape == (2, 2), \"Is your X_T_X matrix of the correct shape?\"\n"
      ]
    },
    {
      "cell_type": "markdown",
      "metadata": {
        "id": "Z3-aBWcJdwlS"
      },
      "source": [
        "**Task 7** - More and more matrix multiplication\n",
        "\n",
        "Next, we'll continue with the matrix multiplication. Let's calculate the result of X transpose multiplied by Y which is written $X^TY$.\n",
        "\n",
        "* Assign your result to the variable `X_T_Y` which should be a `numpy.ndarray`."
      ]
    },
    {
      "cell_type": "code",
      "execution_count": 18,
      "metadata": {
        "colab": {
          "base_uri": "https://localhost:8080/"
        },
        "deletable": false,
        "id": "IzDRPF924FNk",
        "nbgrader": {
          "cell_type": "code",
          "checksum": "647c9c927a9fdfa490843a5b119818e5",
          "grade": false,
          "grade_id": "cell-41f2499b7e62a7d1",
          "locked": false,
          "schema_version": 3,
          "solution": true,
          "task": false
        },
        "outputId": "4541f60d-cb53-4b59-fcae-75c855808ae6"
      },
      "outputs": [
        {
          "output_type": "stream",
          "name": "stdout",
          "text": [
            "[[3.0404100e+05]\n",
            " [1.1131768e+09]]\n",
            "X_T_Y shape:  (2, 1)\n"
          ]
        }
      ],
      "source": [
        "# Task 7\n",
        "\n",
        "# YOUR CODE HERE\n",
        "X_T_Y = np.matmul(X_T, Y)\n",
        "# Look at your matrix and the shape\n",
        "print(X_T_Y)\n",
        "print(\"X_T_Y shape: \", X_T_Y.shape)"
      ]
    },
    {
      "cell_type": "code",
      "execution_count": 19,
      "metadata": {
        "deletable": false,
        "editable": false,
        "id": "WJvopikhyjzr",
        "nbgrader": {
          "cell_type": "code",
          "checksum": "cf40df05590f7610120d70cf233c3dbc",
          "grade": true,
          "grade_id": "cell-ea720b65856a5c38",
          "locked": true,
          "points": 1,
          "schema_version": 3,
          "solution": false,
          "task": false
        }
      },
      "outputs": [],
      "source": [
        "# Task 7 - Test\n",
        "\n",
        "assert X_T_Y.shape == (2, 1), \"Is your X_T_Y matrix of the correct shape?\"\n"
      ]
    },
    {
      "cell_type": "markdown",
      "metadata": {
        "id": "uImjL8qgeDKS"
      },
      "source": [
        "**Task 8** - Calculate the slope and intercept\n",
        "\n",
        "Finally! We can calculate the slope and intercept from all of the matrix multiplication we just did.\n",
        "\n",
        "Use the results from your previous tasks to calculate the values of the slope and intercept using the formula $$ B = (X^{'}X)^{-1}X^{'}Y$$\n",
        "\n",
        "* Assign the results of your calculation to the variable `B` which should be a `numpy.ndarray`."
      ]
    },
    {
      "cell_type": "code",
      "execution_count": 20,
      "metadata": {
        "colab": {
          "base_uri": "https://localhost:8080/"
        },
        "deletable": false,
        "id": "ataF2sSMagfm",
        "nbgrader": {
          "cell_type": "code",
          "checksum": "bc7d4a1fe6c6c96bed50bb9a1189589b",
          "grade": false,
          "grade_id": "cell-21e02aaa9a371012",
          "locked": false,
          "schema_version": 3,
          "solution": true,
          "task": false
        },
        "outputId": "003c9055-6532-43df-99a7-1e9a45ce7d57"
      },
      "outputs": [
        {
          "output_type": "stream",
          "name": "stdout",
          "text": [
            "[[3.25573421e+02]\n",
            " [2.63429339e-01]]\n",
            "The shape of B is:  (2, 1)\n"
          ]
        }
      ],
      "source": [
        "# Task 8\n",
        "\n",
        "# YOUR CODE HERE\n",
        "B = np.matmul(X_T_X_inv, X_T_Y)\n",
        "# Look at your matrix and the shape\n",
        "print(B)\n",
        "print(\"The shape of B is: \", B.shape)"
      ]
    },
    {
      "cell_type": "code",
      "execution_count": 21,
      "metadata": {
        "deletable": false,
        "editable": false,
        "id": "eCxp786tyjzs",
        "nbgrader": {
          "cell_type": "code",
          "checksum": "6fb14a304ca64ab5afa270da272b85f5",
          "grade": true,
          "grade_id": "cell-5a90535710ea5156",
          "locked": true,
          "points": 1,
          "schema_version": 3,
          "solution": false,
          "task": false
        }
      },
      "outputs": [],
      "source": [
        "# Task 8 - Test\n",
        "\n",
        "assert B.shape == (2, 1), \"Is your B matrix of the correct shape?\"\n"
      ]
    },
    {
      "cell_type": "markdown",
      "metadata": {
        "id": "58tEkd1YibRJ"
      },
      "source": [
        "**Task 9** - Verify the linear algebra calculations\n",
        "\n",
        "Now, we're going to verify our linear algebra calculations by fitting a linear model!\n",
        "\n",
        "We'll use the results of this linear model to compare to our calculated values for the slope and intercept.\n",
        "\n",
        "* Import the `statsmodels.formula.api` library and fit an `ols` model (enter the model in the format Y ~ X).\n",
        "* Assign your model to the variable `model`\n",
        "\n",
        "Compare your `model.params` output to the two values in the `B` matrix you calculated above - this isn't autograded, just a chance to see if the results agree."
      ]
    },
    {
      "cell_type": "code",
      "execution_count": 22,
      "metadata": {
        "colab": {
          "base_uri": "https://localhost:8080/"
        },
        "deletable": false,
        "id": "cAz2v2l27XQC",
        "nbgrader": {
          "cell_type": "code",
          "checksum": "eca497723cce5aa9c2ba21f2f65e6518",
          "grade": false,
          "grade_id": "cell-9d0238431c55d153",
          "locked": false,
          "schema_version": 3,
          "solution": true,
          "task": false
        },
        "outputId": "d3dbb7ed-5eed-4b83-f1bb-2ecd961123d8"
      },
      "outputs": [
        {
          "output_type": "stream",
          "name": "stdout",
          "text": [
            "Intercept    325.573421\n",
            "Head           0.263429\n",
            "dtype: float64\n"
          ]
        }
      ],
      "source": [
        "# Task 9\n",
        "\n",
        "# YOUR CODE HERE\n",
        "from statsmodels.formula.api import ols\n",
        "model = ols('Brain ~ Head', data=df).fit()\n",
        "model.params\n",
        "print(model.params)"
      ]
    },
    {
      "cell_type": "code",
      "execution_count": 23,
      "metadata": {
        "deletable": false,
        "editable": false,
        "id": "Inp9-nX8yjzs",
        "nbgrader": {
          "cell_type": "code",
          "checksum": "c56b1852b4d8059aeee0058bd81ed8e1",
          "grade": true,
          "grade_id": "cell-c447fa0fd370c3e8",
          "locked": true,
          "points": 1,
          "schema_version": 3,
          "solution": false,
          "task": false
        }
      },
      "outputs": [],
      "source": [
        "# Task 9 - Test\n",
        "# Hidden tests - you will see the results when you submit to Canvas"
      ]
    },
    {
      "cell_type": "markdown",
      "metadata": {
        "id": "fldeKZQJiWJY"
      },
      "source": [
        "**Task 10** - Apply matrix calculations to the data\n",
        "\n",
        "Now that we've verified that our matrix calculations result in the same parameters as we fit with our model, let's practice using the matrix calculations with some of the data.\n",
        "\n",
        "Create a new X matrix that includes columns for both head size and age group.\n",
        "\n",
        "**Your tasks** (read carefully)\n",
        "\n",
        "* Create an array for the head size column 'Head' and assign it to the variable `head`; you should have a `numpy.ndarray`\n",
        "* Create a new column by subtracting `1` from each value in `df['Age']`; call this new column `Age_01`\n",
        "* Create an array from the 'Age_01' column and assign it to the variable `age`; this should be a `numpy.ndarray`\n",
        "* Concatenate the following three arrays and assign the result to the variable `X`: `ones`, `head`, `age` (use the `ones` array from Task 3)."
      ]
    },
    {
      "cell_type": "code",
      "execution_count": 24,
      "metadata": {
        "colab": {
          "base_uri": "https://localhost:8080/"
        },
        "deletable": false,
        "id": "p5k_g4HBkPvv",
        "nbgrader": {
          "cell_type": "code",
          "checksum": "f220a2702137065482c6d9eef5148223",
          "grade": false,
          "grade_id": "cell-697c74d2c03f2745",
          "locked": false,
          "schema_version": 3,
          "solution": true,
          "task": false
        },
        "outputId": "354e611f-b03b-4bf3-961d-48320673f34c"
      },
      "outputs": [
        {
          "output_type": "stream",
          "name": "stdout",
          "text": [
            "Shape of the array:  (237, 3)\n",
            "The first five rows: \n",
            " [[1.000e+00 4.512e+03 0.000e+00]\n",
            " [1.000e+00 3.738e+03 0.000e+00]\n",
            " [1.000e+00 4.261e+03 0.000e+00]\n",
            " [1.000e+00 3.777e+03 0.000e+00]\n",
            " [1.000e+00 4.177e+03 0.000e+00]]\n"
          ]
        }
      ],
      "source": [
        "# Task 10\n",
        "\n",
        "# YOUR CODE HERE\n",
        "head = np.array(df['Head']).reshape(-1,1)\n",
        "df['Age_01'] = df['Age'] - 1\n",
        "\n",
        "# create an array\n",
        "age = np.array(df['Age_01']).reshape(-1,1)\n",
        "\n",
        "X = np.concatenate([ones, head, age], axis = 1)\n",
        "# Print your results\n",
        "# Check the shape\n",
        "print(\"Shape of the array: \", X.shape)\n",
        "\n",
        "print(\"The first five rows: \\n\", X[:5])\n"
      ]
    },
    {
      "cell_type": "code",
      "execution_count": 24,
      "metadata": {
        "id": "NZOAosYSt8gX"
      },
      "outputs": [],
      "source": []
    },
    {
      "cell_type": "code",
      "execution_count": 25,
      "metadata": {
        "deletable": false,
        "editable": false,
        "id": "HwaBWAItyjzt",
        "nbgrader": {
          "cell_type": "code",
          "checksum": "bd7c7a0e2d2f60d7f0cebff6bb8a4998",
          "grade": true,
          "grade_id": "cell-d0f61adaa94f1d10",
          "locked": true,
          "points": 1,
          "schema_version": 3,
          "solution": false,
          "task": false
        }
      },
      "outputs": [],
      "source": [
        "# Task 10 - Test\n",
        "\n",
        "assert head.shape == (237, 1), \"Is your 'head' matrix of the correct shape?\"\n",
        "assert age.shape == (237, 1), \"Is your 'age' matrix of the correct shape?\"\n",
        "assert X.shape == (237, 3), \"Is your X matrix of the correct shape?\"\n"
      ]
    },
    {
      "cell_type": "markdown",
      "metadata": {
        "id": "NaPLUX6P7eV6"
      },
      "source": [
        "**Task 11** - Calculate the slope and intercept\n",
        "\n",
        "Now, calculate the values of the intercept and slope terms for head size and age using the formula $$ B = (X^{'}X)^{-1}X^{'}Y$$\n",
        "\n",
        "* Break it down into smaller steps, in separate cells if needed\n",
        "* COMMENT all the steps, so you can troubleshoot if there is a mistake\n",
        "\n",
        "This task will not be autograded but verify your answers!"
      ]
    },
    {
      "cell_type": "code",
      "execution_count": 26,
      "metadata": {
        "colab": {
          "base_uri": "https://localhost:8080/"
        },
        "deletable": false,
        "id": "wffPKuJVkrCB",
        "nbgrader": {
          "cell_type": "code",
          "checksum": "b5a7750fdaacf386a163ee1cf159deb9",
          "grade": false,
          "grade_id": "cell-39de8514ffef8d10",
          "locked": false,
          "schema_version": 3,
          "solution": true,
          "task": false
        },
        "outputId": "edd997c1-9342-4f41-e23a-bdbfe1133235"
      },
      "outputs": [
        {
          "output_type": "stream",
          "name": "stdout",
          "text": [
            "[[ 3.47550501e+02]\n",
            " [ 2.60438766e-01]\n",
            " [-2.07316446e+01]]\n"
          ]
        }
      ],
      "source": [
        "# Task 11\n",
        "# B = (X'X)^-1 X'Y\n",
        "\n",
        "# YOUR CODE HERE\n",
        "X_T = X.T\n",
        "X_T_X = X_T.dot(X)\n",
        "X_T_X_inv = np.linalg.inv(X_T_X)\n",
        "\n",
        "X_T_Y = X_T.dot(Y)\n",
        "\n",
        "B = X_T_X_inv.dot(X_T_Y)\n",
        "\n",
        "# Print your final result!\n",
        "# ones, head, age\n",
        "print(B)"
      ]
    },
    {
      "cell_type": "markdown",
      "metadata": {
        "id": "m92gsZo-8TcP"
      },
      "source": [
        "**Task 12** - Verify the matrix calculation with a linear model\n",
        "\n",
        "We're going to fit another OLS model and then confirm our answer with what we calculated for `B` in **Task 11**\n",
        "\n",
        "* Fit an OLS model as you did above but your input will be in the two independent variables head size and age (your model input should be Y ~ X1 + X2). **Make sure to use `Head` for X1 and `Age_01` (not `C(Age_01)`, which would change the order of the ouput) for X2.**\n",
        "* Assign the model results to the variable `model2`.\n",
        "\n",
        "Compare your `model2.params` to the values you determined for `B` in Task 11 - do they match?"
      ]
    },
    {
      "cell_type": "code",
      "execution_count": 53,
      "metadata": {
        "colab": {
          "base_uri": "https://localhost:8080/"
        },
        "deletable": false,
        "id": "1k7mU2R-lGeL",
        "nbgrader": {
          "cell_type": "code",
          "checksum": "086f97215373ae43896a799705a2a6ad",
          "grade": false,
          "grade_id": "cell-8495052423ed2196",
          "locked": false,
          "schema_version": 3,
          "solution": true,
          "task": false
        },
        "outputId": "3b518eb8-0f42-4dd7-e6b7-191103f64e0d"
      },
      "outputs": [
        {
          "output_type": "stream",
          "name": "stdout",
          "text": [
            "Intercept    347.550501\n",
            "Head           0.260439\n",
            "Age_01       -20.731645\n",
            "dtype: float64\n"
          ]
        }
      ],
      "source": [
        "# Task 12\n",
        "\n",
        "# YOUR CODE HERE\n",
        "model2 = ols('Brain ~ Head + Age_01', data = df).fit()\n",
        "print(model2.params)"
      ]
    },
    {
      "cell_type": "markdown",
      "metadata": {
        "id": "IKKKfCAKyjzv"
      },
      "source": [
        "**Task 12 Test**"
      ]
    },
    {
      "cell_type": "code",
      "execution_count": 54,
      "metadata": {
        "deletable": false,
        "editable": false,
        "id": "oMCAB5hKyjzv",
        "nbgrader": {
          "cell_type": "code",
          "checksum": "cc8e9289ee31142cebc8ce495e584c62",
          "grade": true,
          "grade_id": "cell-0d0ec86caf1c2671",
          "locked": true,
          "points": 1,
          "schema_version": 3,
          "solution": false,
          "task": false
        }
      },
      "outputs": [],
      "source": [
        "# Task 12 - Test\n",
        "# Hidden tests - you will see the results when you submit to Canvas"
      ]
    },
    {
      "cell_type": "markdown",
      "metadata": {
        "id": "J10sSUChlzRH"
      },
      "source": [
        "## Part B: Cosine Similarity\n",
        "\n",
        "Use the following information to answer the remaining Tasks in the Module Project.\n",
        "\n",
        "The song writing collaboration between John Lennon and Paul McCartney was one of the most productive in music history.  Unlike many other partnerships where one individual wrote lyrics and one wrote music, Lennon and McCartney composed both, and it was decided that any song that was written would be credited to both.  In the beginning of their relationship, many of their songs were truly collaborative.  However, later on, they often worked separately with little to no input from the other.    \n",
        "\n",
        "Because of extensive reporting on the Beatles over the years, it is generally known if a Lennon-McCartney song was a true collaboration, primarily (or totally) written by Lennon, or primarily (or totally) written by McCartney.  \n",
        "\n",
        "**However, there are several disputed songs where both Lennon and McCartney at times claimed to be the sole (or primary) composer.**\n",
        "\n",
        "We will now use cosine similarity to determine if *Ticket to Ride* (disputed) is most similar to *From Me to You* (collaborative, not disputed) or *Strawberry Fields* (Lennon, not disputed).\n",
        "\n",
        "From the Wikipedia article on the Lennon-McCartney Partnership: Lennon said that McCartney's contribution was limited to \"the way Ringo played the drums\". In Many Years from Now, McCartney said \"we sat down and wrote it together ... give him 60 percent of it.\""
      ]
    },
    {
      "cell_type": "markdown",
      "metadata": {
        "id": "MVipjsqR9o5y"
      },
      "source": [
        "**Task 13** - Import all the song lyrics\n",
        "\n",
        "Import the text of \"Strawberry Fields\", \"From Me to You\", and \"Ticket to Ride\". The code has been provided for you - run the cell to see the output. For each set of lyrics, the word frequencies have also been calculated.\n",
        "\n",
        "**Run the following cell to load all the lyrics.**"
      ]
    },
    {
      "cell_type": "code",
      "execution_count": 52,
      "metadata": {
        "id": "6SuKxo-lYsCR",
        "colab": {
          "base_uri": "https://localhost:8080/",
          "height": 1000
        },
        "outputId": "6fac7ff3-66d2-41c6-9dd2-b77dcded7d21"
      },
      "outputs": [
        {
          "output_type": "execute_result",
          "data": {
            "text/plain": [
              "col_0     count\n",
              "Words          \n",
              "I             8\n",
              "Im            2\n",
              "a            12\n",
              "ah            1\n",
              "around        2\n",
              "away          2\n",
              "baby          6\n",
              "be            4\n",
              "before        2\n",
              "bringing      2\n",
              "but           4\n",
              "by            4\n",
              "care         10\n",
              "do            4\n",
              "dont         12\n",
              "down          2\n",
              "driving       2\n",
              "for           2\n",
              "free          2\n",
              "gets          2\n",
              "girl          2\n",
              "going         2\n",
              "gonna         2\n",
              "goodbye       2\n",
              "got          12\n",
              "her           2\n",
              "high          2\n",
              "is            4\n",
              "its           2\n",
              "know          2\n",
              "living        2\n",
              "mad           2\n",
              "me            8\n",
              "my            6\n",
              "never         2\n",
              "ought         8\n",
              "ride         12\n",
              "ridin         2\n",
              "right         4\n",
              "sad           2\n",
              "said          2\n",
              "saying        2\n",
              "she          18\n",
              "shes         14\n",
              "so            2\n",
              "that          2\n",
              "thats         2\n",
              "the           2\n",
              "think         8\n",
              "ticket       12"
            ],
            "text/html": [
              "\n",
              "  <div id=\"df-91d81f07-7fcf-4b1f-aa94-5f49b6e12d8a\" class=\"colab-df-container\">\n",
              "    <div>\n",
              "<style scoped>\n",
              "    .dataframe tbody tr th:only-of-type {\n",
              "        vertical-align: middle;\n",
              "    }\n",
              "\n",
              "    .dataframe tbody tr th {\n",
              "        vertical-align: top;\n",
              "    }\n",
              "\n",
              "    .dataframe thead th {\n",
              "        text-align: right;\n",
              "    }\n",
              "</style>\n",
              "<table border=\"1\" class=\"dataframe\">\n",
              "  <thead>\n",
              "    <tr style=\"text-align: right;\">\n",
              "      <th>col_0</th>\n",
              "      <th>count</th>\n",
              "    </tr>\n",
              "    <tr>\n",
              "      <th>Words</th>\n",
              "      <th></th>\n",
              "    </tr>\n",
              "  </thead>\n",
              "  <tbody>\n",
              "    <tr>\n",
              "      <th>I</th>\n",
              "      <td>8</td>\n",
              "    </tr>\n",
              "    <tr>\n",
              "      <th>Im</th>\n",
              "      <td>2</td>\n",
              "    </tr>\n",
              "    <tr>\n",
              "      <th>a</th>\n",
              "      <td>12</td>\n",
              "    </tr>\n",
              "    <tr>\n",
              "      <th>ah</th>\n",
              "      <td>1</td>\n",
              "    </tr>\n",
              "    <tr>\n",
              "      <th>around</th>\n",
              "      <td>2</td>\n",
              "    </tr>\n",
              "    <tr>\n",
              "      <th>away</th>\n",
              "      <td>2</td>\n",
              "    </tr>\n",
              "    <tr>\n",
              "      <th>baby</th>\n",
              "      <td>6</td>\n",
              "    </tr>\n",
              "    <tr>\n",
              "      <th>be</th>\n",
              "      <td>4</td>\n",
              "    </tr>\n",
              "    <tr>\n",
              "      <th>before</th>\n",
              "      <td>2</td>\n",
              "    </tr>\n",
              "    <tr>\n",
              "      <th>bringing</th>\n",
              "      <td>2</td>\n",
              "    </tr>\n",
              "    <tr>\n",
              "      <th>but</th>\n",
              "      <td>4</td>\n",
              "    </tr>\n",
              "    <tr>\n",
              "      <th>by</th>\n",
              "      <td>4</td>\n",
              "    </tr>\n",
              "    <tr>\n",
              "      <th>care</th>\n",
              "      <td>10</td>\n",
              "    </tr>\n",
              "    <tr>\n",
              "      <th>do</th>\n",
              "      <td>4</td>\n",
              "    </tr>\n",
              "    <tr>\n",
              "      <th>dont</th>\n",
              "      <td>12</td>\n",
              "    </tr>\n",
              "    <tr>\n",
              "      <th>down</th>\n",
              "      <td>2</td>\n",
              "    </tr>\n",
              "    <tr>\n",
              "      <th>driving</th>\n",
              "      <td>2</td>\n",
              "    </tr>\n",
              "    <tr>\n",
              "      <th>for</th>\n",
              "      <td>2</td>\n",
              "    </tr>\n",
              "    <tr>\n",
              "      <th>free</th>\n",
              "      <td>2</td>\n",
              "    </tr>\n",
              "    <tr>\n",
              "      <th>gets</th>\n",
              "      <td>2</td>\n",
              "    </tr>\n",
              "    <tr>\n",
              "      <th>girl</th>\n",
              "      <td>2</td>\n",
              "    </tr>\n",
              "    <tr>\n",
              "      <th>going</th>\n",
              "      <td>2</td>\n",
              "    </tr>\n",
              "    <tr>\n",
              "      <th>gonna</th>\n",
              "      <td>2</td>\n",
              "    </tr>\n",
              "    <tr>\n",
              "      <th>goodbye</th>\n",
              "      <td>2</td>\n",
              "    </tr>\n",
              "    <tr>\n",
              "      <th>got</th>\n",
              "      <td>12</td>\n",
              "    </tr>\n",
              "    <tr>\n",
              "      <th>her</th>\n",
              "      <td>2</td>\n",
              "    </tr>\n",
              "    <tr>\n",
              "      <th>high</th>\n",
              "      <td>2</td>\n",
              "    </tr>\n",
              "    <tr>\n",
              "      <th>is</th>\n",
              "      <td>4</td>\n",
              "    </tr>\n",
              "    <tr>\n",
              "      <th>its</th>\n",
              "      <td>2</td>\n",
              "    </tr>\n",
              "    <tr>\n",
              "      <th>know</th>\n",
              "      <td>2</td>\n",
              "    </tr>\n",
              "    <tr>\n",
              "      <th>living</th>\n",
              "      <td>2</td>\n",
              "    </tr>\n",
              "    <tr>\n",
              "      <th>mad</th>\n",
              "      <td>2</td>\n",
              "    </tr>\n",
              "    <tr>\n",
              "      <th>me</th>\n",
              "      <td>8</td>\n",
              "    </tr>\n",
              "    <tr>\n",
              "      <th>my</th>\n",
              "      <td>6</td>\n",
              "    </tr>\n",
              "    <tr>\n",
              "      <th>never</th>\n",
              "      <td>2</td>\n",
              "    </tr>\n",
              "    <tr>\n",
              "      <th>ought</th>\n",
              "      <td>8</td>\n",
              "    </tr>\n",
              "    <tr>\n",
              "      <th>ride</th>\n",
              "      <td>12</td>\n",
              "    </tr>\n",
              "    <tr>\n",
              "      <th>ridin</th>\n",
              "      <td>2</td>\n",
              "    </tr>\n",
              "    <tr>\n",
              "      <th>right</th>\n",
              "      <td>4</td>\n",
              "    </tr>\n",
              "    <tr>\n",
              "      <th>sad</th>\n",
              "      <td>2</td>\n",
              "    </tr>\n",
              "    <tr>\n",
              "      <th>said</th>\n",
              "      <td>2</td>\n",
              "    </tr>\n",
              "    <tr>\n",
              "      <th>saying</th>\n",
              "      <td>2</td>\n",
              "    </tr>\n",
              "    <tr>\n",
              "      <th>she</th>\n",
              "      <td>18</td>\n",
              "    </tr>\n",
              "    <tr>\n",
              "      <th>shes</th>\n",
              "      <td>14</td>\n",
              "    </tr>\n",
              "    <tr>\n",
              "      <th>so</th>\n",
              "      <td>2</td>\n",
              "    </tr>\n",
              "    <tr>\n",
              "      <th>that</th>\n",
              "      <td>2</td>\n",
              "    </tr>\n",
              "    <tr>\n",
              "      <th>thats</th>\n",
              "      <td>2</td>\n",
              "    </tr>\n",
              "    <tr>\n",
              "      <th>the</th>\n",
              "      <td>2</td>\n",
              "    </tr>\n",
              "    <tr>\n",
              "      <th>think</th>\n",
              "      <td>8</td>\n",
              "    </tr>\n",
              "    <tr>\n",
              "      <th>ticket</th>\n",
              "      <td>12</td>\n",
              "    </tr>\n",
              "  </tbody>\n",
              "</table>\n",
              "</div>\n",
              "    <div class=\"colab-df-buttons\">\n",
              "\n",
              "  <div class=\"colab-df-container\">\n",
              "    <button class=\"colab-df-convert\" onclick=\"convertToInteractive('df-91d81f07-7fcf-4b1f-aa94-5f49b6e12d8a')\"\n",
              "            title=\"Convert this dataframe to an interactive table.\"\n",
              "            style=\"display:none;\">\n",
              "\n",
              "  <svg xmlns=\"http://www.w3.org/2000/svg\" height=\"24px\" viewBox=\"0 -960 960 960\">\n",
              "    <path d=\"M120-120v-720h720v720H120Zm60-500h600v-160H180v160Zm220 220h160v-160H400v160Zm0 220h160v-160H400v160ZM180-400h160v-160H180v160Zm440 0h160v-160H620v160ZM180-180h160v-160H180v160Zm440 0h160v-160H620v160Z\"/>\n",
              "  </svg>\n",
              "    </button>\n",
              "\n",
              "  <style>\n",
              "    .colab-df-container {\n",
              "      display:flex;\n",
              "      gap: 12px;\n",
              "    }\n",
              "\n",
              "    .colab-df-convert {\n",
              "      background-color: #E8F0FE;\n",
              "      border: none;\n",
              "      border-radius: 50%;\n",
              "      cursor: pointer;\n",
              "      display: none;\n",
              "      fill: #1967D2;\n",
              "      height: 32px;\n",
              "      padding: 0 0 0 0;\n",
              "      width: 32px;\n",
              "    }\n",
              "\n",
              "    .colab-df-convert:hover {\n",
              "      background-color: #E2EBFA;\n",
              "      box-shadow: 0px 1px 2px rgba(60, 64, 67, 0.3), 0px 1px 3px 1px rgba(60, 64, 67, 0.15);\n",
              "      fill: #174EA6;\n",
              "    }\n",
              "\n",
              "    .colab-df-buttons div {\n",
              "      margin-bottom: 4px;\n",
              "    }\n",
              "\n",
              "    [theme=dark] .colab-df-convert {\n",
              "      background-color: #3B4455;\n",
              "      fill: #D2E3FC;\n",
              "    }\n",
              "\n",
              "    [theme=dark] .colab-df-convert:hover {\n",
              "      background-color: #434B5C;\n",
              "      box-shadow: 0px 1px 3px 1px rgba(0, 0, 0, 0.15);\n",
              "      filter: drop-shadow(0px 1px 2px rgba(0, 0, 0, 0.3));\n",
              "      fill: #FFFFFF;\n",
              "    }\n",
              "  </style>\n",
              "\n",
              "    <script>\n",
              "      const buttonEl =\n",
              "        document.querySelector('#df-91d81f07-7fcf-4b1f-aa94-5f49b6e12d8a button.colab-df-convert');\n",
              "      buttonEl.style.display =\n",
              "        google.colab.kernel.accessAllowed ? 'block' : 'none';\n",
              "\n",
              "      async function convertToInteractive(key) {\n",
              "        const element = document.querySelector('#df-91d81f07-7fcf-4b1f-aa94-5f49b6e12d8a');\n",
              "        const dataTable =\n",
              "          await google.colab.kernel.invokeFunction('convertToInteractive',\n",
              "                                                    [key], {});\n",
              "        if (!dataTable) return;\n",
              "\n",
              "        const docLinkHtml = 'Like what you see? Visit the ' +\n",
              "          '<a target=\"_blank\" href=https://colab.research.google.com/notebooks/data_table.ipynb>data table notebook</a>'\n",
              "          + ' to learn more about interactive tables.';\n",
              "        element.innerHTML = '';\n",
              "        dataTable['output_type'] = 'display_data';\n",
              "        await google.colab.output.renderOutput(dataTable, element);\n",
              "        const docLink = document.createElement('div');\n",
              "        docLink.innerHTML = docLinkHtml;\n",
              "        element.appendChild(docLink);\n",
              "      }\n",
              "    </script>\n",
              "  </div>\n",
              "\n",
              "\n",
              "<div id=\"df-97ca5b10-f860-48d1-ac06-6ac292ebc74c\">\n",
              "  <button class=\"colab-df-quickchart\" onclick=\"quickchart('df-97ca5b10-f860-48d1-ac06-6ac292ebc74c')\"\n",
              "            title=\"Suggest charts.\"\n",
              "            style=\"display:none;\">\n",
              "\n",
              "<svg xmlns=\"http://www.w3.org/2000/svg\" height=\"24px\"viewBox=\"0 0 24 24\"\n",
              "     width=\"24px\">\n",
              "    <g>\n",
              "        <path d=\"M19 3H5c-1.1 0-2 .9-2 2v14c0 1.1.9 2 2 2h14c1.1 0 2-.9 2-2V5c0-1.1-.9-2-2-2zM9 17H7v-7h2v7zm4 0h-2V7h2v10zm4 0h-2v-4h2v4z\"/>\n",
              "    </g>\n",
              "</svg>\n",
              "  </button>\n",
              "\n",
              "<style>\n",
              "  .colab-df-quickchart {\n",
              "    background-color: #E8F0FE;\n",
              "    border: none;\n",
              "    border-radius: 50%;\n",
              "    cursor: pointer;\n",
              "    display: none;\n",
              "    fill: #1967D2;\n",
              "    height: 32px;\n",
              "    padding: 0 0 0 0;\n",
              "    width: 32px;\n",
              "  }\n",
              "\n",
              "  .colab-df-quickchart:hover {\n",
              "    background-color: #E2EBFA;\n",
              "    box-shadow: 0px 1px 2px rgba(60, 64, 67, 0.3), 0px 1px 3px 1px rgba(60, 64, 67, 0.15);\n",
              "    fill: #174EA6;\n",
              "  }\n",
              "\n",
              "  [theme=dark] .colab-df-quickchart {\n",
              "    background-color: #3B4455;\n",
              "    fill: #D2E3FC;\n",
              "  }\n",
              "\n",
              "  [theme=dark] .colab-df-quickchart:hover {\n",
              "    background-color: #434B5C;\n",
              "    box-shadow: 0px 1px 3px 1px rgba(0, 0, 0, 0.15);\n",
              "    filter: drop-shadow(0px 1px 2px rgba(0, 0, 0, 0.3));\n",
              "    fill: #FFFFFF;\n",
              "  }\n",
              "</style>\n",
              "\n",
              "  <script>\n",
              "    async function quickchart(key) {\n",
              "      const charts = await google.colab.kernel.invokeFunction(\n",
              "          'suggestCharts', [key], {});\n",
              "    }\n",
              "    (() => {\n",
              "      let quickchartButtonEl =\n",
              "        document.querySelector('#df-97ca5b10-f860-48d1-ac06-6ac292ebc74c button');\n",
              "      quickchartButtonEl.style.display =\n",
              "        google.colab.kernel.accessAllowed ? 'block' : 'none';\n",
              "    })();\n",
              "  </script>\n",
              "</div>\n",
              "    </div>\n",
              "  </div>\n"
            ]
          },
          "metadata": {},
          "execution_count": 52
        }
      ],
      "source": [
        "# Task 13\n",
        "\n",
        "# RUN THIS CELL TO LOAD THE LYRICS\n",
        "\n",
        "# Strawberry Fields - John Lennon (not disputed)\n",
        "\n",
        "Strawberry_ = \"let me take you down cause Im going to Strawberry Fields nothing is real and nothing to get hung about Strawberry Fields forever living is easy with eyes closed misunderstanding all you see its getting hard to be someone but it all works out it doesnt matter much to me let me take you down cause Im going to Strawberry Fields nothing is real and nothing to get hung about Strawberry Fields forever no one I think is in my tree I mean it must be high or low that is you cant you know tune in but its all right that is I think its not too bad let me take you down cause Im going to Strawberry Fields nothing is real and nothing to get hung about Strawberry Fields forever always no sometimes think but you know I know when it's a dream I think er no I mean er yes but its all wrong that is I think I disagree let me take you down cause Im going to Strawberry Fields nothing is real and nothing to get hung about Strawberry Fields forever Strawberry Fields forever Strawberry Fields forever\"\n",
        "Strawberry_df = pd.DataFrame({\"Words\": Strawberry_.split()})\n",
        "Strawberry_df_freq = pd.DataFrame(pd.crosstab(index=Strawberry_df['Words'],columns='count'))\n",
        "\n",
        "# Uncomment to display\n",
        "Strawberry_df_freq[0:50]\n",
        "\n",
        "\n",
        "# From Me to You - Lennon and McCartney (not disputed)\n",
        "\n",
        "Me_ = \"if there's anything that you want if there's anything I can do just call on me and Ill send it along with love from me to you Ive got everything that you want like a heart thats oh so true just call on me and Ill send it along with love from me to you Ive got arms that long to hold you and keep you by my side Ive got lips that long to kiss you and keep you satisfied oh if theres anything that you want if theres anything I can do just call on me and Ill send it along with love from me to you from me to you just call on me and Ill send it along with love from me to you Ive got arms that long to hold you and keep you by my side Ive got lips that long to kiss you and keep you satisfied oh if theres anything that you want if theres anything I can do just call on me and Ill send it along with love from me to you to you to you to you\"\n",
        "Me_df = pd.DataFrame({\"Words\": Me_.split()}) # always REMEMBER DataFrame with DF uppercase!!!\n",
        "Me_df_freq = pd.DataFrame(pd.crosstab(index=Me_df['Words'],columns='count')) # use the count function actually\n",
        "\n",
        "# Uncomment to display\n",
        "Me_df_freq[0:50]\n",
        "\n",
        "\n",
        "# Ticket to Ride (disputed)\n",
        "\n",
        "Ticket_ = \"I think Im gonna be sad I think its today yeah the girl thats driving me mad is going away shes got a ticket to ride shes got a ticket to ride shes got a ticket to ride but she dont care she said that living with me is bringing her down yeah for she would never be free when I was around shes got a ticket to ride shes got a ticket to ride shes got a ticket to ride but she dont care I dont know why shes ridin so high she ought to think twice she ought to do right by me before she gets to saying goodbye she ought to think twice she ought to do right by me I think Im gonna be sad I think its today yeah the girl thats driving me mad is going away yeah shes got a ticket to ride shes got a ticket to ride shes got a ticket to ride but she dont care I dont know why shes ridin so high she ought to think twice she ought to do right by me before she gets to saying goodbye she ought to think twice she ought to do right by me she said that living with me is bringing her down yeah for she would never be free when I was around ah shes got a ticket to ride shes got a ticket to ride shes got a ticket to ride but she dont care my baby dont care my baby dont care my baby dont care my baby dont care my baby dont care my baby dont care\"\n",
        "Ticket_df = pd.DataFrame({\"Words\": Ticket_.split()})\n",
        "Ticket_df_freq = pd.DataFrame(pd.crosstab(index=Ticket_df['Words'],columns='count'))\n",
        "\n",
        "# Uncomment to display\n",
        "Ticket_df_freq[0:50]"
      ]
    },
    {
      "cell_type": "code",
      "source": [
        "Me_df"
      ],
      "metadata": {
        "colab": {
          "base_uri": "https://localhost:8080/",
          "height": 423
        },
        "id": "tDHrVYjDMICc",
        "outputId": "e568c605-ff20-48c5-880d-e8d8bde97458"
      },
      "execution_count": 47,
      "outputs": [
        {
          "output_type": "execute_result",
          "data": {
            "text/plain": [
              "        Words\n",
              "0          if\n",
              "1     there's\n",
              "2    anything\n",
              "3        that\n",
              "4         you\n",
              "..        ...\n",
              "183       you\n",
              "184        to\n",
              "185       you\n",
              "186        to\n",
              "187       you\n",
              "\n",
              "[188 rows x 1 columns]"
            ],
            "text/html": [
              "\n",
              "  <div id=\"df-07b14a07-2589-4e26-915a-8a5e89eaa8ae\" class=\"colab-df-container\">\n",
              "    <div>\n",
              "<style scoped>\n",
              "    .dataframe tbody tr th:only-of-type {\n",
              "        vertical-align: middle;\n",
              "    }\n",
              "\n",
              "    .dataframe tbody tr th {\n",
              "        vertical-align: top;\n",
              "    }\n",
              "\n",
              "    .dataframe thead th {\n",
              "        text-align: right;\n",
              "    }\n",
              "</style>\n",
              "<table border=\"1\" class=\"dataframe\">\n",
              "  <thead>\n",
              "    <tr style=\"text-align: right;\">\n",
              "      <th></th>\n",
              "      <th>Words</th>\n",
              "    </tr>\n",
              "  </thead>\n",
              "  <tbody>\n",
              "    <tr>\n",
              "      <th>0</th>\n",
              "      <td>if</td>\n",
              "    </tr>\n",
              "    <tr>\n",
              "      <th>1</th>\n",
              "      <td>there's</td>\n",
              "    </tr>\n",
              "    <tr>\n",
              "      <th>2</th>\n",
              "      <td>anything</td>\n",
              "    </tr>\n",
              "    <tr>\n",
              "      <th>3</th>\n",
              "      <td>that</td>\n",
              "    </tr>\n",
              "    <tr>\n",
              "      <th>4</th>\n",
              "      <td>you</td>\n",
              "    </tr>\n",
              "    <tr>\n",
              "      <th>...</th>\n",
              "      <td>...</td>\n",
              "    </tr>\n",
              "    <tr>\n",
              "      <th>183</th>\n",
              "      <td>you</td>\n",
              "    </tr>\n",
              "    <tr>\n",
              "      <th>184</th>\n",
              "      <td>to</td>\n",
              "    </tr>\n",
              "    <tr>\n",
              "      <th>185</th>\n",
              "      <td>you</td>\n",
              "    </tr>\n",
              "    <tr>\n",
              "      <th>186</th>\n",
              "      <td>to</td>\n",
              "    </tr>\n",
              "    <tr>\n",
              "      <th>187</th>\n",
              "      <td>you</td>\n",
              "    </tr>\n",
              "  </tbody>\n",
              "</table>\n",
              "<p>188 rows × 1 columns</p>\n",
              "</div>\n",
              "    <div class=\"colab-df-buttons\">\n",
              "\n",
              "  <div class=\"colab-df-container\">\n",
              "    <button class=\"colab-df-convert\" onclick=\"convertToInteractive('df-07b14a07-2589-4e26-915a-8a5e89eaa8ae')\"\n",
              "            title=\"Convert this dataframe to an interactive table.\"\n",
              "            style=\"display:none;\">\n",
              "\n",
              "  <svg xmlns=\"http://www.w3.org/2000/svg\" height=\"24px\" viewBox=\"0 -960 960 960\">\n",
              "    <path d=\"M120-120v-720h720v720H120Zm60-500h600v-160H180v160Zm220 220h160v-160H400v160Zm0 220h160v-160H400v160ZM180-400h160v-160H180v160Zm440 0h160v-160H620v160ZM180-180h160v-160H180v160Zm440 0h160v-160H620v160Z\"/>\n",
              "  </svg>\n",
              "    </button>\n",
              "\n",
              "  <style>\n",
              "    .colab-df-container {\n",
              "      display:flex;\n",
              "      gap: 12px;\n",
              "    }\n",
              "\n",
              "    .colab-df-convert {\n",
              "      background-color: #E8F0FE;\n",
              "      border: none;\n",
              "      border-radius: 50%;\n",
              "      cursor: pointer;\n",
              "      display: none;\n",
              "      fill: #1967D2;\n",
              "      height: 32px;\n",
              "      padding: 0 0 0 0;\n",
              "      width: 32px;\n",
              "    }\n",
              "\n",
              "    .colab-df-convert:hover {\n",
              "      background-color: #E2EBFA;\n",
              "      box-shadow: 0px 1px 2px rgba(60, 64, 67, 0.3), 0px 1px 3px 1px rgba(60, 64, 67, 0.15);\n",
              "      fill: #174EA6;\n",
              "    }\n",
              "\n",
              "    .colab-df-buttons div {\n",
              "      margin-bottom: 4px;\n",
              "    }\n",
              "\n",
              "    [theme=dark] .colab-df-convert {\n",
              "      background-color: #3B4455;\n",
              "      fill: #D2E3FC;\n",
              "    }\n",
              "\n",
              "    [theme=dark] .colab-df-convert:hover {\n",
              "      background-color: #434B5C;\n",
              "      box-shadow: 0px 1px 3px 1px rgba(0, 0, 0, 0.15);\n",
              "      filter: drop-shadow(0px 1px 2px rgba(0, 0, 0, 0.3));\n",
              "      fill: #FFFFFF;\n",
              "    }\n",
              "  </style>\n",
              "\n",
              "    <script>\n",
              "      const buttonEl =\n",
              "        document.querySelector('#df-07b14a07-2589-4e26-915a-8a5e89eaa8ae button.colab-df-convert');\n",
              "      buttonEl.style.display =\n",
              "        google.colab.kernel.accessAllowed ? 'block' : 'none';\n",
              "\n",
              "      async function convertToInteractive(key) {\n",
              "        const element = document.querySelector('#df-07b14a07-2589-4e26-915a-8a5e89eaa8ae');\n",
              "        const dataTable =\n",
              "          await google.colab.kernel.invokeFunction('convertToInteractive',\n",
              "                                                    [key], {});\n",
              "        if (!dataTable) return;\n",
              "\n",
              "        const docLinkHtml = 'Like what you see? Visit the ' +\n",
              "          '<a target=\"_blank\" href=https://colab.research.google.com/notebooks/data_table.ipynb>data table notebook</a>'\n",
              "          + ' to learn more about interactive tables.';\n",
              "        element.innerHTML = '';\n",
              "        dataTable['output_type'] = 'display_data';\n",
              "        await google.colab.output.renderOutput(dataTable, element);\n",
              "        const docLink = document.createElement('div');\n",
              "        docLink.innerHTML = docLinkHtml;\n",
              "        element.appendChild(docLink);\n",
              "      }\n",
              "    </script>\n",
              "  </div>\n",
              "\n",
              "\n",
              "<div id=\"df-1dcd766a-5859-4a04-9fb3-6eeb119f45b5\">\n",
              "  <button class=\"colab-df-quickchart\" onclick=\"quickchart('df-1dcd766a-5859-4a04-9fb3-6eeb119f45b5')\"\n",
              "            title=\"Suggest charts.\"\n",
              "            style=\"display:none;\">\n",
              "\n",
              "<svg xmlns=\"http://www.w3.org/2000/svg\" height=\"24px\"viewBox=\"0 0 24 24\"\n",
              "     width=\"24px\">\n",
              "    <g>\n",
              "        <path d=\"M19 3H5c-1.1 0-2 .9-2 2v14c0 1.1.9 2 2 2h14c1.1 0 2-.9 2-2V5c0-1.1-.9-2-2-2zM9 17H7v-7h2v7zm4 0h-2V7h2v10zm4 0h-2v-4h2v4z\"/>\n",
              "    </g>\n",
              "</svg>\n",
              "  </button>\n",
              "\n",
              "<style>\n",
              "  .colab-df-quickchart {\n",
              "    background-color: #E8F0FE;\n",
              "    border: none;\n",
              "    border-radius: 50%;\n",
              "    cursor: pointer;\n",
              "    display: none;\n",
              "    fill: #1967D2;\n",
              "    height: 32px;\n",
              "    padding: 0 0 0 0;\n",
              "    width: 32px;\n",
              "  }\n",
              "\n",
              "  .colab-df-quickchart:hover {\n",
              "    background-color: #E2EBFA;\n",
              "    box-shadow: 0px 1px 2px rgba(60, 64, 67, 0.3), 0px 1px 3px 1px rgba(60, 64, 67, 0.15);\n",
              "    fill: #174EA6;\n",
              "  }\n",
              "\n",
              "  [theme=dark] .colab-df-quickchart {\n",
              "    background-color: #3B4455;\n",
              "    fill: #D2E3FC;\n",
              "  }\n",
              "\n",
              "  [theme=dark] .colab-df-quickchart:hover {\n",
              "    background-color: #434B5C;\n",
              "    box-shadow: 0px 1px 3px 1px rgba(0, 0, 0, 0.15);\n",
              "    filter: drop-shadow(0px 1px 2px rgba(0, 0, 0, 0.3));\n",
              "    fill: #FFFFFF;\n",
              "  }\n",
              "</style>\n",
              "\n",
              "  <script>\n",
              "    async function quickchart(key) {\n",
              "      const charts = await google.colab.kernel.invokeFunction(\n",
              "          'suggestCharts', [key], {});\n",
              "    }\n",
              "    (() => {\n",
              "      let quickchartButtonEl =\n",
              "        document.querySelector('#df-1dcd766a-5859-4a04-9fb3-6eeb119f45b5 button');\n",
              "      quickchartButtonEl.style.display =\n",
              "        google.colab.kernel.accessAllowed ? 'block' : 'none';\n",
              "    })();\n",
              "  </script>\n",
              "</div>\n",
              "    </div>\n",
              "  </div>\n"
            ]
          },
          "metadata": {},
          "execution_count": 47
        }
      ]
    },
    {
      "cell_type": "markdown",
      "metadata": {
        "id": "c8ieic21sH4j"
      },
      "source": [
        "**Task 14** - Cosine similarity calculations\n",
        "\n",
        "Now it's your turn to complete some linear algebra calculations! In this task, we need to concatenate \"Ticket to Ride\" and \"Strawberry Fields\" and calculate the cosine similarity. Two linear algebra imports have been provided\n",
        "\n",
        "* Concatenate `Strawberry_df_freq` and `Ticket_df_freq` to create a new DataFrame.\n",
        "* Assign your final result to `cos_sim_1`; your final answer should be a float.\n",
        "\n",
        "Hint: you might need to use `.fillna()` on your DataFrame"
      ]
    },
    {
      "cell_type": "code",
      "execution_count": 40,
      "metadata": {
        "colab": {
          "base_uri": "https://localhost:8080/"
        },
        "deletable": false,
        "id": "5GYIQ3jf88MI",
        "nbgrader": {
          "cell_type": "code",
          "checksum": "618cdc64dc71d76a18b08ad64c49bf49",
          "grade": false,
          "grade_id": "cell-89be8f6da1a6c0b4",
          "locked": false,
          "schema_version": 3,
          "solution": true,
          "task": false
        },
        "outputId": "d1e0093d-8356-424d-b1cc-942111919dba"
      },
      "outputs": [
        {
          "output_type": "stream",
          "name": "stdout",
          "text": [
            "0.324035859004908\n"
          ]
        }
      ],
      "source": [
        "# Task 14\n",
        "# Compare 'Strawberry Fields' to 'Ticket to Ride'\n",
        "\n",
        "# Imports for linear algebra\n",
        "from numpy import dot\n",
        "from numpy.linalg import norm\n",
        "\n",
        "# YOUR CODE HERE\n",
        "all_words = pd.concat([Strawberry_df_freq, Ticket_df_freq], axis=1)\n",
        "all_words = all_words.fillna(0)\n",
        "\n",
        "# label the columns so it's easier to call\n",
        "all_words.columns = ['straw', 'ticket']\n",
        "all_words.head()\n",
        "\n",
        "cos_sim_1 = dot(all_words['straw'], all_words['ticket']) / (norm(all_words['straw']) * (norm(all_words['ticket'])))\n",
        "# Print out your result\n",
        "print(cos_sim_1)"
      ]
    },
    {
      "cell_type": "code",
      "execution_count": 43,
      "metadata": {
        "deletable": false,
        "editable": false,
        "id": "Zl1rwWmVyjzx",
        "nbgrader": {
          "cell_type": "code",
          "checksum": "0812df9be219e1c96fa1176c02725fbd",
          "grade": true,
          "grade_id": "cell-faaa0f234f570442",
          "locked": true,
          "points": 1,
          "schema_version": 3,
          "solution": false,
          "task": false
        },
        "colab": {
          "base_uri": "https://localhost:8080/",
          "height": 140
        },
        "outputId": "0c97cf83-6c9b-4aef-d56c-6819f1d733a0"
      },
      "outputs": [
        {
          "output_type": "error",
          "ename": "SyntaxError",
          "evalue": "ignored",
          "traceback": [
            "\u001b[0;36m  File \u001b[0;32m\"<ipython-input-43-e5f3e209b1b6>\"\u001b[0;36m, line \u001b[0;32m1\u001b[0m\n\u001b[0;31m    Task 14 - Test\u001b[0m\n\u001b[0m         ^\u001b[0m\n\u001b[0;31mSyntaxError\u001b[0m\u001b[0;31m:\u001b[0m invalid syntax\n"
          ]
        }
      ],
      "source": [
        "Task 14 - Test\n",
        "# Hidden tests - you will see the results when you submit to Canvas"
      ]
    },
    {
      "cell_type": "markdown",
      "metadata": {
        "id": "JCFn7l2XCefQ"
      },
      "source": [
        "**Task 15** - More cosine similarity calculations\n",
        "\n",
        "Now, we'll compare \"Ticket to Ride\" and \"From Me to You\" and calculate the cosine similarity.\n",
        "\n",
        "* Concatenate `Ticket_df_freq` and `Me_df_freq` to create a new DataFrame.\n",
        "* Assign your final result to `cos_sim_2`; your final answer should be a float.\n",
        "\n",
        "Hint: you might need to use `.fillna()` on your DataFrame"
      ]
    },
    {
      "cell_type": "code",
      "execution_count": 44,
      "metadata": {
        "colab": {
          "base_uri": "https://localhost:8080/"
        },
        "deletable": false,
        "id": "uoj2UbIBCbJ5",
        "nbgrader": {
          "cell_type": "code",
          "checksum": "77d7bdc265f9623a1c6d70af01d7c514",
          "grade": false,
          "grade_id": "cell-35139e519c598a55",
          "locked": false,
          "schema_version": 3,
          "solution": true,
          "task": false
        },
        "outputId": "b1e02016-453f-482f-c364-8ad78184b7dc"
      },
      "outputs": [
        {
          "output_type": "stream",
          "name": "stdout",
          "text": [
            "0.2882268853551227\n"
          ]
        }
      ],
      "source": [
        "# Task 15\n",
        "# Compare From Me to You to Ticket to Ride\n",
        "\n",
        "# YOUR CODE HERE\n",
        "all_words = pd.concat([Me_df_freq, Ticket_df_freq], axis=1)\n",
        "all_words = all_words.fillna(0)\n",
        "\n",
        "# label the columns so it's easier to call\n",
        "all_words.columns = ['me', 'ticket']\n",
        "all_words.head()\n",
        "\n",
        "cos_sim_2 = dot(all_words['me'], all_words['ticket']) / (norm(all_words['me']) * (norm(all_words['ticket'])))\n",
        "# Print out your result\n",
        "print(cos_sim_2)"
      ]
    },
    {
      "cell_type": "code",
      "execution_count": null,
      "metadata": {
        "deletable": false,
        "editable": false,
        "id": "kQIWgcn5yjzx",
        "nbgrader": {
          "cell_type": "code",
          "checksum": "931c21fd5a8b37380d8f911f8297d4be",
          "grade": true,
          "grade_id": "cell-690e43451c978a2f",
          "locked": true,
          "points": 1,
          "schema_version": 3,
          "solution": false,
          "task": false
        }
      },
      "outputs": [],
      "source": [
        "# Task 15 - Test\n",
        "# Hidden tests - you will see the results when you submit to Canvas"
      ]
    },
    {
      "cell_type": "markdown",
      "metadata": {
        "id": "hJ-wIIvzuBaV"
      },
      "source": [
        "**Summary**\n",
        "  Select the best answer\n",
        "\n",
        "ANSWER:"
      ]
    },
    {
      "cell_type": "markdown",
      "metadata": {
        "id": "TEMavWb0xBqz"
      },
      "source": [
        "**Task 16** - Summary\n",
        "\n",
        "\n",
        "What is your conclusion about \"Ticket to Ride\"?  Does it appear most similar to \"Strawberry Fields\" (Lennon) or \"From Me to You\" (collaborative)?\n",
        "\n",
        "Select the answer that best describes the best answer. Specify your answer in the next code block using `Answer = `.  For example, if the correct answer is choice B, you'll type `Answer = 'B'`.\n",
        "\n",
        "A: Ticket to Ride is most similar to Strawberry Fields\n",
        "\n",
        "B: Ticket to Ride is most similar to From Me to You\n",
        "\n",
        "C: Ticket to Ride is equally similar to both songs\n",
        "\n",
        "D: Tickt to Ride was probably not written beither by John Lennon or collaboratively."
      ]
    },
    {
      "cell_type": "code",
      "execution_count": 45,
      "metadata": {
        "deletable": false,
        "id": "WBRJLy-mxBrA",
        "nbgrader": {
          "cell_type": "code",
          "checksum": "ce21bb965f585f1d9048ba83255735c2",
          "grade": false,
          "grade_id": "cell-6b9a56b997acc63d",
          "locked": false,
          "schema_version": 3,
          "solution": true,
          "task": false
        }
      },
      "outputs": [],
      "source": [
        "# Task 16\n",
        "\n",
        "# YOUR CODE HERE\n",
        "Answer = 'A'"
      ]
    },
    {
      "cell_type": "markdown",
      "metadata": {
        "id": "WQQxN3WfxBrB"
      },
      "source": [
        "**Task 16 Test**"
      ]
    },
    {
      "cell_type": "code",
      "execution_count": 46,
      "metadata": {
        "deletable": false,
        "editable": false,
        "id": "Uij_qEDkxBrB",
        "nbgrader": {
          "cell_type": "code",
          "checksum": "6976e28ec214b79b00145b17003fb995",
          "grade": true,
          "grade_id": "cell-3970fbb1a3eaefb5",
          "locked": true,
          "points": 1,
          "schema_version": 3,
          "solution": false,
          "task": false
        }
      },
      "outputs": [],
      "source": [
        "# Task 16 - Test\n",
        "# Hidden tests - you will see the results when you submit to Canvas"
      ]
    }
  ],
  "metadata": {
    "colab": {
      "provenance": [],
      "include_colab_link": true
    },
    "kernelspec": {
      "display_name": "Python 3",
      "language": "python",
      "name": "python3"
    },
    "language_info": {
      "codemirror_mode": {
        "name": "ipython",
        "version": 3
      },
      "file_extension": ".py",
      "mimetype": "text/x-python",
      "name": "python",
      "nbconvert_exporter": "python",
      "pygments_lexer": "ipython3",
      "version": "3.8.8"
    }
  },
  "nbformat": 4,
  "nbformat_minor": 0
}