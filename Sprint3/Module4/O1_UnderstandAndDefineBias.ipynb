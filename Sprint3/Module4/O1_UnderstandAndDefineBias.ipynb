{
  "nbformat": 4,
  "nbformat_minor": 0,
  "metadata": {
    "colab": {
      "provenance": [],
      "authorship_tag": "ABX9TyNl0H+UBT+bY7AVgZewIdPP",
      "include_colab_link": true
    },
    "kernelspec": {
      "name": "python3",
      "display_name": "Python 3"
    },
    "language_info": {
      "name": "python"
    }
  },
  "cells": [
    {
      "cell_type": "markdown",
      "metadata": {
        "id": "view-in-github",
        "colab_type": "text"
      },
      "source": [
        "<a href=\"https://colab.research.google.com/github/tsangrebecca/BloomTech/blob/main/Sprint3/Module4/O1_UnderstandAndDefineBias.ipynb\" target=\"_parent\"><img src=\"https://colab.research.google.com/assets/colab-badge.svg\" alt=\"Open In Colab\"/></a>"
      ]
    },
    {
      "cell_type": "markdown",
      "source": [
        "Biase is the calculated error due to systemic mistakes. Prediction bias is a value indicating how far apart the average of predictions is from the average of labels in the datasest. Prediction bias is not deliberately included in the model, but it's a mesaure to evaluate and tune the model."
      ],
      "metadata": {
        "id": "3v7XgcOevvMA"
      }
    },
    {
      "cell_type": "markdown",
      "source": [
        "Bias occurs when there are consistent mistakes."
      ],
      "metadata": {
        "id": "rPS5EDPf5BUK"
      }
    },
    {
      "cell_type": "code",
      "source": [],
      "metadata": {
        "id": "6rXimaJF5QO9"
      },
      "execution_count": null,
      "outputs": []
    }
  ]
}