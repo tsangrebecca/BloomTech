{
  "nbformat": 4,
  "nbformat_minor": 0,
  "metadata": {
    "colab": {
      "provenance": [],
      "authorship_tag": "ABX9TyNkkUBYo7RHHrEuJ/6Jd+EO",
      "include_colab_link": true
    },
    "kernelspec": {
      "name": "python3",
      "display_name": "Python 3"
    },
    "language_info": {
      "name": "python"
    }
  },
  "cells": [
    {
      "cell_type": "markdown",
      "metadata": {
        "id": "view-in-github",
        "colab_type": "text"
      },
      "source": [
        "<a href=\"https://colab.research.google.com/github/tsangrebecca/BloomTech/blob/main/Sprint3/Module4/O2_UnderstandAndDefineVariance.ipynb\" target=\"_parent\"><img src=\"https://colab.research.google.com/assets/colab-badge.svg\" alt=\"Open In Colab\"/></a>"
      ]
    },
    {
      "cell_type": "markdown",
      "source": [
        "variance measures variabilityLinks to an external site. from the average or mean."
      ],
      "metadata": {
        "id": "-VwqFsD05ldj"
      }
    },
    {
      "cell_type": "markdown",
      "source": [
        "S^2 = sum of (xi - avg_x)^2 / (n-1)"
      ],
      "metadata": {
        "id": "o4DMykme5x1H"
      }
    },
    {
      "cell_type": "markdown",
      "source": [
        "\n",
        "\n",
        "*   high variance indicates numbers are far from mean and far from each other\n",
        "*   low variance is opposite\n",
        "*   variance = 0 means all values are identical\n",
        "*   variance can only be equal to or large than 0, cannot be negative\n",
        "\n",
        "\n",
        "\n",
        "\n",
        "\n"
      ],
      "metadata": {
        "id": "rgtPDYYp58Ot"
      }
    },
    {
      "cell_type": "code",
      "source": [],
      "metadata": {
        "id": "L0WBzC626oDV"
      },
      "execution_count": null,
      "outputs": []
    }
  ]
}