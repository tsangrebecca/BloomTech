{
  "nbformat": 4,
  "nbformat_minor": 0,
  "metadata": {
    "colab": {
      "provenance": [],
      "authorship_tag": "ABX9TyMNBeT/rL6KB5KVGD96zH/2",
      "include_colab_link": true
    },
    "kernelspec": {
      "name": "python3",
      "display_name": "Python 3"
    },
    "language_info": {
      "name": "python"
    }
  },
  "cells": [
    {
      "cell_type": "markdown",
      "metadata": {
        "id": "view-in-github",
        "colab_type": "text"
      },
      "source": [
        "<a href=\"https://colab.research.google.com/github/tsangrebecca/BloomTech/blob/main/Sprint3/Module4/O3_DescribeTheBias_VarianceTradeoff.ipynb\" target=\"_parent\"><img src=\"https://colab.research.google.com/assets/colab-badge.svg\" alt=\"Open In Colab\"/></a>"
      ]
    },
    {
      "cell_type": "markdown",
      "source": [
        "\n",
        "\n",
        "*   The more complex the model, the less bias, but the more variance, so we need to fine a balance, a sweet spot\n",
        "\n",
        "*   We have to increase or decrease the model complexity to find a model that generalizes well on training and testing dataset\n",
        "\n",
        "*   High bias is underfitting, model too simple\n",
        "*   High variance is overfitting, model too complex that it misses the point of generalizing the data\n",
        "\n"
      ],
      "metadata": {
        "id": "U-bkrsDu68wu"
      }
    },
    {
      "cell_type": "code",
      "source": [],
      "metadata": {
        "id": "rHGQCBLE73u5"
      },
      "execution_count": null,
      "outputs": []
    }
  ]
}