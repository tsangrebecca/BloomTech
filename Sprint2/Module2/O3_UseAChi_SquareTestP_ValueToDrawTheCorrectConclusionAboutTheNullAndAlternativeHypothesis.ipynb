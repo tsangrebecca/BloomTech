{
  "nbformat": 4,
  "nbformat_minor": 0,
  "metadata": {
    "colab": {
      "provenance": [],
      "authorship_tag": "ABX9TyOvSGCB9+t30GtuMCGbNNm3",
      "include_colab_link": true
    },
    "kernelspec": {
      "name": "python3",
      "display_name": "Python 3"
    },
    "language_info": {
      "name": "python"
    }
  },
  "cells": [
    {
      "cell_type": "markdown",
      "metadata": {
        "id": "view-in-github",
        "colab_type": "text"
      },
      "source": [
        "<a href=\"https://colab.research.google.com/github/tsangrebecca/BloomTech/blob/main/Sprint2/Module2/O3_UseAChi_SquareTestP_ValueToDrawTheCorrectConclusionAboutTheNullAndAlternativeHypothesis.ipynb\" target=\"_parent\"><img src=\"https://colab.research.google.com/assets/colab-badge.svg\" alt=\"Open In Colab\"/></a>"
      ]
    },
    {
      "cell_type": "markdown",
      "source": [
        "Remember:\n",
        "p-value < alpha to reject the null hypothesis\n",
        "p-value > alpha to fail to reject the null hypothesis, we can't say to accept"
      ],
      "metadata": {
        "id": "QWfOpel7q9Ak"
      }
    },
    {
      "cell_type": "code",
      "execution_count": 1,
      "metadata": {
        "colab": {
          "base_uri": "https://localhost:8080/"
        },
        "id": "gcHp1BT6qmfU",
        "outputId": "683415f9-11bb-4fae-d82d-5456381112e2"
      },
      "outputs": [
        {
          "output_type": "execute_result",
          "data": {
            "text/plain": [
              "array([[13,  7, 10,  5, 13],\n",
              "       [ 5,  7,  4, 12,  9],\n",
              "       [ 5,  9, 14,  0, 10],\n",
              "       [12, 13,  8,  7,  7],\n",
              "       [ 7, 10,  9, 13,  6],\n",
              "       [ 8,  4,  5, 13,  5]])"
            ]
          },
          "metadata": {},
          "execution_count": 1
        }
      ],
      "source": [
        "import numpy as np\n",
        "\n",
        "# create the array for dice roll, for each die value\n",
        "a1 = [13, 7, 10, 5, 13]\n",
        "a2 = [5, 7, 4, 12, 9]\n",
        "a3 = [5, 9, 14, 0, 10]\n",
        "a4 = [12, 13, 8, 7, 7]\n",
        "a5 = [7, 10, 9, 13, 6]\n",
        "a6 = [8, 4, 5, 13, 5]\n",
        "\n",
        "# combine them into a (6,5) array\n",
        "dice = np.array([a1, a2, a3, a4, a5, a6])\n",
        "dice"
      ]
    },
    {
      "cell_type": "code",
      "source": [
        "# import the stats module\n",
        "from scipy.stats import chi2_contingency\n",
        "\n",
        "# perform the chi-square test\n",
        "stat, p, dof, expected = chi2_contingency(dice, correction = False)\n",
        "\n",
        "# print out the stats in a nice format\n",
        "print('Expected values: \\n ', expected.round(2))\n",
        "print('The degrees of freedom: ', dof)\n",
        "print(f'The chi square statistics is: {stat:.3f}')\n",
        "print(f'The p value is: {p:.6f}')"
      ],
      "metadata": {
        "colab": {
          "base_uri": "https://localhost:8080/"
        },
        "id": "9aafzuK5sJVM",
        "outputId": "b8865b19-371f-4a17-fa92-345ff2392eff"
      },
      "execution_count": 2,
      "outputs": [
        {
          "output_type": "stream",
          "name": "stdout",
          "text": [
            "Expected values: \n",
            "  [[9.6 9.6 9.6 9.6 9.6]\n",
            " [7.4 7.4 7.4 7.4 7.4]\n",
            " [7.6 7.6 7.6 7.6 7.6]\n",
            " [9.4 9.4 9.4 9.4 9.4]\n",
            " [9.  9.  9.  9.  9. ]\n",
            " [7.  7.  7.  7.  7. ]]\n",
            "The degrees of freedom:  20\n",
            "The chi square statistics is: 40.375\n",
            "The p value is: 0.004477\n"
          ]
        }
      ]
    },
    {
      "cell_type": "code",
      "source": [
        "# alplha level is 0.05, dof = (6-1)*(5-1) = 20, chi-square critical value is 31.410. calculated chi-square value is 40.375 > 31.410, larger than the critical value, which means\n",
        "#  our results are not due to chance, that there is some significance.\n",
        "# p-value is 0.004 < 0.05, which means we can reject our null hypothesis that the die is fair, and can conclude that the computer die is rigged!"
      ],
      "metadata": {
        "id": "22yfelK3sz5B"
      },
      "execution_count": 4,
      "outputs": []
    },
    {
      "cell_type": "code",
      "source": [
        "# another example\n",
        "\n",
        "# Create the array for each die value\n",
        "a1 = [4, 3, 5, 11, 4]\n",
        "a2 = [9, 15, 10, 4, 11]\n",
        "a3 = [7, 10, 8, 6, 8 ]\n",
        "a4 = [13, 6, 8, 9, 12]\n",
        "a5 = [9, 9, 7, 11, 6]\n",
        "a6 = [8, 7, 12, 9, 9]\n",
        "\n",
        "# Combine them into a (6,5) array\n",
        "dice = np.array([a1, a2, a3, a4, a5, a6])"
      ],
      "metadata": {
        "id": "bmJfrEiVt7BG"
      },
      "execution_count": 5,
      "outputs": []
    },
    {
      "cell_type": "code",
      "source": [
        "# Perform the chi-square test\n",
        "stat, p, dof, expected = chi2_contingency(dice, correction=False)\n",
        "\n",
        "# Print out the stats in a nice format\n",
        "print('Expected values: \\n ', expected.round(2))\n",
        "print(f'The chi square statistics is: {stat:.3f}')\n",
        "print(f'The p value is: {p:.6f}')"
      ],
      "metadata": {
        "colab": {
          "base_uri": "https://localhost:8080/"
        },
        "id": "Cfw-WFxFuh66",
        "outputId": "c0d46ff5-2a6c-4edc-be45-cda978790e9e"
      },
      "execution_count": 6,
      "outputs": [
        {
          "output_type": "stream",
          "name": "stdout",
          "text": [
            "Expected values: \n",
            "  [[5.4 5.4 5.4 5.4 5.4]\n",
            " [9.8 9.8 9.8 9.8 9.8]\n",
            " [7.8 7.8 7.8 7.8 7.8]\n",
            " [9.6 9.6 9.6 9.6 9.6]\n",
            " [8.4 8.4 8.4 8.4 8.4]\n",
            " [9.  9.  9.  9.  9. ]]\n",
            "The chi square statistics is: 21.989\n",
            "The p value is: 0.341086\n"
          ]
        }
      ]
    },
    {
      "cell_type": "code",
      "source": [
        "# in this case, the chi-square < than critical value of 31.41, and the p-value of 0.34 > 0.05, so in this case we fail to reject the null hypothesis\n",
        "# then we can conclude that our results are what we would expect if the physical dice used were fair."
      ],
      "metadata": {
        "id": "ypGzRntEumFG"
      },
      "execution_count": null,
      "outputs": []
    },
    {
      "cell_type": "code",
      "source": [
        "# If we have two arrays of categorical values, we have to use this code to produce a contingency table\n",
        "pd.crosstab(variable1, variable2, margins=True) # we need to write margins=True to display the row and column totals"
      ],
      "metadata": {
        "id": "Wl514odRxL8O"
      },
      "execution_count": null,
      "outputs": []
    }
  ]
}