{
  "nbformat": 4,
  "nbformat_minor": 0,
  "metadata": {
    "colab": {
      "provenance": [],
      "authorship_tag": "ABX9TyOjxCNGNupCuo8BNxDLKzA9",
      "include_colab_link": true
    },
    "kernelspec": {
      "name": "python3",
      "display_name": "Python 3"
    },
    "language_info": {
      "name": "python"
    }
  },
  "cells": [
    {
      "cell_type": "markdown",
      "metadata": {
        "id": "view-in-github",
        "colab_type": "text"
      },
      "source": [
        "<a href=\"https://colab.research.google.com/github/tsangrebecca/BloomTech/blob/main/Sprint2/Module2/O2_SetUpAChiSquareTestForIndependenceOnTwoCategoricalVariables.ipynb\" target=\"_parent\"><img src=\"https://colab.research.google.com/assets/colab-badge.svg\" alt=\"Open In Colab\"/></a>"
      ]
    },
    {
      "cell_type": "code",
      "execution_count": 2,
      "metadata": {
        "colab": {
          "base_uri": "https://localhost:8080/"
        },
        "id": "VpQnQ4leXXhK",
        "outputId": "b4e32690-599a-4324-a565-141724b0acbf"
      },
      "outputs": [
        {
          "output_type": "stream",
          "name": "stdout",
          "text": [
            "Contingency table: \n",
            " [[200 290]\n",
            " [400 910]]\n"
          ]
        }
      ],
      "source": [
        "# using scipy stats to do the hard work\n",
        "\n",
        "import numpy as np\n",
        "from scipy.stats import chi2_contingency\n",
        "\n",
        "# create the table using a NumPy array\n",
        "table = np.array([[200, 290], [400, 910]])\n",
        "\n",
        "# print out the table to double-check\n",
        "print('Contingency table: \\n', table)"
      ]
    },
    {
      "cell_type": "code",
      "source": [
        "# perform chi-square test\n",
        "stat, p, dof, expected = chi2_contingency(table, correction=False)\n",
        "\n",
        "# print out stats in a nice format\n",
        "print('Expected values: \\n', expected.round(2))\n",
        "print(f'The chi square statistics is: {stat:.3f}')\n",
        "print(f'The p-value is: {p:.6f}')"
      ],
      "metadata": {
        "colab": {
          "base_uri": "https://localhost:8080/"
        },
        "id": "7u4sFShHYG77",
        "outputId": "abe585b2-d5e9-4c8b-ef38-61899bd6ffe2"
      },
      "execution_count": 3,
      "outputs": [
        {
          "output_type": "stream",
          "name": "stdout",
          "text": [
            "Expected values: \n",
            " [[163.33 326.67]\n",
            " [436.67 873.33]]\n",
            "The chi square statistics is: 16.965\n",
            "The p-value is: 0.000038\n"
          ]
        }
      ]
    },
    {
      "cell_type": "code",
      "source": [],
      "metadata": {
        "id": "cy-mA9_iYrjv"
      },
      "execution_count": null,
      "outputs": []
    }
  ]
}