{
  "nbformat": 4,
  "nbformat_minor": 0,
  "metadata": {
    "colab": {
      "provenance": [],
      "authorship_tag": "ABX9TyMPhxHzCYDmKyrnZu9bkHMz",
      "include_colab_link": true
    },
    "kernelspec": {
      "name": "python3",
      "display_name": "Python 3"
    },
    "language_info": {
      "name": "python"
    }
  },
  "cells": [
    {
      "cell_type": "markdown",
      "metadata": {
        "id": "view-in-github",
        "colab_type": "text"
      },
      "source": [
        "<a href=\"https://colab.research.google.com/github/tsangrebecca/BloomTech/blob/main/Sprint2/Module2/O1_ExplainThePurposeOfAChi_SquaredTestAndIdentifyApplications.ipynb\" target=\"_parent\"><img src=\"https://colab.research.google.com/assets/colab-badge.svg\" alt=\"Open In Colab\"/></a>"
      ]
    },
    {
      "cell_type": "markdown",
      "source": [
        "When to use chi-square test for independence:\n",
        "\n",
        "1. The sampling method is simple random sampling.\n",
        "2. The variables under study are each CATEGORICAL.\n",
        "3. In a contingency table, the expected frequency count for each cell is at least"
      ],
      "metadata": {
        "id": "YoLb0aOXU0GA"
      }
    },
    {
      "cell_type": "markdown",
      "source": [
        "STEPS:\n",
        "\n",
        "1. State the hypothesis. Null hypothesis means 2 variables are independent.\n",
        "2. Significance level 0.01? 0.05? or 0.10?\n",
        "3. Create a contingency table\n",
        "4. Calculate degrees of freedome (DF) = (r - 1) x (c - 1), look at how many variables in the table rows and columns, just minus 1 and multiply them.\n",
        "4. calculate expected values: row total x column total / total total (look at the table)\n",
        "5. Calculate chi-square X2 = sum(observed-expected)^2/expected)\n",
        "6. Look up critical value in table based on df and alpha level\n",
        "7. If calculated chi-square value > critical value, the our results are NOT due to chance, and there's a significance, reject null hypothesis."
      ],
      "metadata": {
        "id": "h-CBffrTUJrB"
      }
    },
    {
      "cell_type": "code",
      "execution_count": null,
      "metadata": {
        "id": "k_TP30C4yaM7"
      },
      "outputs": [],
      "source": []
    }
  ]
}