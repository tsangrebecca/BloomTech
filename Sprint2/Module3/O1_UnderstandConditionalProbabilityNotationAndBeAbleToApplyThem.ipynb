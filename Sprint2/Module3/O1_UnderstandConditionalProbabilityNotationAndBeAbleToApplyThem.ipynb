{
  "nbformat": 4,
  "nbformat_minor": 0,
  "metadata": {
    "colab": {
      "provenance": [],
      "authorship_tag": "ABX9TyM53bi3TBQaAg1o6XGLqN3v",
      "include_colab_link": true
    },
    "kernelspec": {
      "name": "python3",
      "display_name": "Python 3"
    },
    "language_info": {
      "name": "python"
    }
  },
  "cells": [
    {
      "cell_type": "markdown",
      "metadata": {
        "id": "view-in-github",
        "colab_type": "text"
      },
      "source": [
        "<a href=\"https://colab.research.google.com/github/tsangrebecca/BloomTech/blob/main/Sprint2/Module3/O1_UnderstandConditionalProbabilityNotationAndBeAbleToApplyThem.ipynb\" target=\"_parent\"><img src=\"https://colab.research.google.com/assets/colab-badge.svg\" alt=\"Open In Colab\"/></a>"
      ]
    },
    {
      "cell_type": "code",
      "execution_count": null,
      "metadata": {
        "id": "FYz1R0ZAmnN2"
      },
      "outputs": [],
      "source": []
    },
    {
      "cell_type": "markdown",
      "source": [
        "Probablility of B given A is\n",
        "P(B|A) = P(A and B) / P(A)"
      ],
      "metadata": {
        "id": "oDQiAhy4r5mn"
      }
    },
    {
      "cell_type": "code",
      "source": [],
      "metadata": {
        "id": "RzM6yn5EsIOi"
      },
      "execution_count": null,
      "outputs": []
    },
    {
      "cell_type": "code",
      "source": [],
      "metadata": {
        "id": "6hGdLAmvsRSn"
      },
      "execution_count": null,
      "outputs": []
    }
  ]
}