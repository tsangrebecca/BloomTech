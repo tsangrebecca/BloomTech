{
  "nbformat": 4,
  "nbformat_minor": 0,
  "metadata": {
    "colab": {
      "provenance": [],
      "authorship_tag": "ABX9TyMSzzzpMe0MKMiTxYKCcMDn",
      "include_colab_link": true
    },
    "kernelspec": {
      "name": "python3",
      "display_name": "Python 3"
    },
    "language_info": {
      "name": "python"
    }
  },
  "cells": [
    {
      "cell_type": "markdown",
      "metadata": {
        "id": "view-in-github",
        "colab_type": "text"
      },
      "source": [
        "<a href=\"https://colab.research.google.com/github/tsangrebecca/BloomTech/blob/main/Sprint2/Module1/S2M1O3_SetUpAndRunATwoSampleIndependentTest.ipynb\" target=\"_parent\"><img src=\"https://colab.research.google.com/assets/colab-badge.svg\" alt=\"Open In Colab\"/></a>"
      ]
    },
    {
      "cell_type": "markdown",
      "source": [
        "Calculate with NumPy and SciPy\n",
        "Here are the parameters we are using for our two-sample t-test:\n",
        "\n",
        "cardio-based program: mean=69 bpm, std=6.5 bpm\n",
        "yoga-based program: mean=71 bpm, std=7.3 bpm"
      ],
      "metadata": {
        "id": "cd5b_Bc9n7L1"
      }
    },
    {
      "cell_type": "code",
      "execution_count": 1,
      "metadata": {
        "colab": {
          "base_uri": "https://localhost:8080/"
        },
        "id": "Fc7QqgPunhw7",
        "outputId": "3541a4e8-2823-4734-b941-37e04d90486c"
      },
      "outputs": [
        {
          "output_type": "execute_result",
          "data": {
            "text/plain": [
              "Ttest_indResult(statistic=-2.886610676042845, pvalue=0.004790856010749188)"
            ]
          },
          "metadata": {},
          "execution_count": 1
        }
      ],
      "source": [
        "# import the libraries\n",
        "import numpy as np\n",
        "from scipy import stats\n",
        "\n",
        "# apply a seed value that ensures that different machines will return the same result\n",
        "np.random.seed(42)\n",
        "\n",
        "# generate the random variables with the specified mean, std and sample size\n",
        "# cardio program group\n",
        "rvs1 = stats.norm.rvs(loc=69, scale=6.5, size=50)\n",
        "\n",
        "# yoga group\n",
        "rvs2 = stats.norm.rvs(loc=71, scale=7.3, size=50)\n",
        "\n",
        "# calculate the t-statistic for these 2 sample populations to see how different their means are\n",
        "stats.ttest_ind(rvs1, rvs2)"
      ]
    },
    {
      "cell_type": "code",
      "source": [],
      "metadata": {
        "id": "1waNeT2Jomr1"
      },
      "execution_count": null,
      "outputs": []
    }
  ]
}