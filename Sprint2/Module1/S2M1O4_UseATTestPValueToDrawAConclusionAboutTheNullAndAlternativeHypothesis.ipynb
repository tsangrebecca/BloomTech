{
  "nbformat": 4,
  "nbformat_minor": 0,
  "metadata": {
    "colab": {
      "provenance": [],
      "authorship_tag": "ABX9TyO+Z8UBClDdc1VkgP5UNrTA",
      "include_colab_link": true
    },
    "kernelspec": {
      "name": "python3",
      "display_name": "Python 3"
    },
    "language_info": {
      "name": "python"
    }
  },
  "cells": [
    {
      "cell_type": "markdown",
      "metadata": {
        "id": "view-in-github",
        "colab_type": "text"
      },
      "source": [
        "<a href=\"https://colab.research.google.com/github/tsangrebecca/BloomTech/blob/main/Sprint2/Module1/S2M1O4_UseATTestPValueToDrawAConclusionAboutTheNullAndAlternativeHypothesis.ipynb\" target=\"_parent\"><img src=\"https://colab.research.google.com/assets/colab-badge.svg\" alt=\"Open In Colab\"/></a>"
      ]
    },
    {
      "cell_type": "code",
      "execution_count": 1,
      "metadata": {
        "colab": {
          "base_uri": "https://localhost:8080/"
        },
        "id": "eMS3a4oNpY_c",
        "outputId": "e017078a-e3ee-4f8b-8b57-71e94ceb3c54"
      },
      "outputs": [
        {
          "output_type": "execute_result",
          "data": {
            "text/plain": [
              "TtestResult(statistic=2.6640411076902604, pvalue=0.010421324745517498, df=49)"
            ]
          },
          "metadata": {},
          "execution_count": 1
        }
      ],
      "source": [
        "# import stats module\n",
        "from scipy import stats\n",
        "\n",
        "# 50 scores from the class (they were generated to have the correct mean and SD)\n",
        "rvs = stats.norm.rvs(loc=74.6, scale=12.3, size=50, random_state=42)\n",
        "\n",
        "# calculate the t statistic and the p-value\n",
        "stats.ttest_1samp(rvs,67.5)"
      ]
    },
    {
      "cell_type": "code",
      "source": [],
      "metadata": {
        "id": "gXjcqeskIy5m"
      },
      "execution_count": null,
      "outputs": []
    }
  ]
}