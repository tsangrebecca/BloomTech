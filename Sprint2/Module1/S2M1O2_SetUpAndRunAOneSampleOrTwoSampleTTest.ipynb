{
  "nbformat": 4,
  "nbformat_minor": 0,
  "metadata": {
    "colab": {
      "provenance": [],
      "authorship_tag": "ABX9TyOs5rhZ2a0A4nzs17RapH/i",
      "include_colab_link": true
    },
    "kernelspec": {
      "name": "python3",
      "display_name": "Python 3"
    },
    "language_info": {
      "name": "python"
    }
  },
  "cells": [
    {
      "cell_type": "markdown",
      "metadata": {
        "id": "view-in-github",
        "colab_type": "text"
      },
      "source": [
        "<a href=\"https://colab.research.google.com/github/tsangrebecca/BloomTech/blob/main/Sprint2/Module1/S2M1O2_SetUpAndRunAOneSampleOrTwoSampleTTest.ipynb\" target=\"_parent\"><img src=\"https://colab.research.google.com/assets/colab-badge.svg\" alt=\"Open In Colab\"/></a>"
      ]
    },
    {
      "cell_type": "markdown",
      "source": [
        "Sample Information\n",
        "The sample population we have consists of 50 individuals, with a mean heart rate of 69 beats per minute (bpm) and a standard deviation of 6.5 bpm. We'd like to compare this to the population mean heart rate of 72 bpm."
      ],
      "metadata": {
        "id": "qlKvkHcjb58u"
      }
    },
    {
      "cell_type": "code",
      "execution_count": 55,
      "metadata": {
        "colab": {
          "base_uri": "https://localhost:8080/"
        },
        "id": "e2op-Vt-XVVT",
        "outputId": "9bf57263-a0e0-481d-e355-b7ea23845ce4"
      },
      "outputs": [
        {
          "output_type": "execute_result",
          "data": {
            "text/plain": [
              "array([72.22864199, 68.10128204, 73.2099755 , 78.89969407, 67.47800306,\n",
              "       67.47810978, 79.2648833 , 73.98832574, 65.94841649, 72.52664028,\n",
              "       65.987785  , 65.9727566 , 70.57275477, 56.56367841, 57.78803409,\n",
              "       65.34513106, 62.41659772, 71.04260766, 63.09784351, 59.82002594,\n",
              "       78.526717  , 67.53245405, 69.43893333, 59.73913679, 65.46151229,\n",
              "       69.72099683, 61.51854175, 71.44203712, 65.09584852, 67.10399063,\n",
              "       65.08890702, 81.0398082 , 68.91226804, 62.12487896, 74.34654193,\n",
              "       61.06451628, 70.35761337, 56.26214419, 60.36679068, 70.27959803,\n",
              "       73.80003277, 70.11389383, 68.24828616, 67.04282598, 59.38960706,\n",
              "       64.32101265, 66.00584799, 75.87129447, 71.23351888, 57.54023899])"
            ]
          },
          "metadata": {},
          "execution_count": 55
        }
      ],
      "source": [
        "# import the stats module\n",
        "from scipy import stats\n",
        "\n",
        "# generate the random test scores with the specified mean, std and sample size\n",
        "rvs = stats.norm.rvs(loc=69, scale=6.5, size=50, random_state=42) # loc is mean, std is scale\n",
        "\n",
        "# Display the test scores, as a check\n",
        "rvs"
      ]
    },
    {
      "cell_type": "code",
      "source": [
        "# check the sample mean and std\n",
        "print('The mean of the samples: ', rvs.mean())\n",
        "print('The standard deviation of the samples: ', rvs.std())"
      ],
      "metadata": {
        "colab": {
          "base_uri": "https://localhost:8080/"
        },
        "id": "xH-xVy2ubEqw",
        "outputId": "8a2714b6-b5f0-418e-90d7-9ffc09416de1"
      },
      "execution_count": 56,
      "outputs": [
        {
          "output_type": "stream",
          "name": "stdout",
          "text": [
            "The mean of the samples:  67.53441961583509\n",
            "The standard deviation of the samples:  6.00785209617076\n"
          ]
        }
      ]
    },
    {
      "cell_type": "code",
      "source": [
        "# calculate the t value using the ttest_1samp\n",
        "stats.ttest_1samp(rvs, popmean=72)"
      ],
      "metadata": {
        "colab": {
          "base_uri": "https://localhost:8080/"
        },
        "id": "zF0aQul1bSwb",
        "outputId": "e7b1dc54-b33c-4d2b-ed98-02aae9b23b2c"
      },
      "execution_count": 57,
      "outputs": [
        {
          "output_type": "execute_result",
          "data": {
            "text/plain": [
              "TtestResult(statistic=-5.2030346601039055, pvalue=3.841987344207577e-06, df=49)"
            ]
          },
          "metadata": {},
          "execution_count": 57
        }
      ]
    },
    {
      "cell_type": "markdown",
      "source": [
        "Manual Calculation"
      ],
      "metadata": {
        "id": "vKMVTdHKe84p"
      }
    },
    {
      "cell_type": "code",
      "source": [
        "# import python calculator to do manual calculation for t-value\n",
        "import numpy as np\n",
        "\n",
        "# calculate the t-value\n",
        "tstatistic = (67.53-72)/(6.01/np.sqrt(50))\n",
        "print('The t-statistic is: ', tstatistic)"
      ],
      "metadata": {
        "colab": {
          "base_uri": "https://localhost:8080/"
        },
        "id": "IIq8yjRic0UY",
        "outputId": "3271ab26-d069-41ab-b67c-ce1068ee17e0"
      },
      "execution_count": 58,
      "outputs": [
        {
          "output_type": "stream",
          "name": "stdout",
          "text": [
            "The t-statistic is:  -5.259180219473988\n"
          ]
        }
      ]
    },
    {
      "cell_type": "code",
      "source": [],
      "metadata": {
        "id": "E0YOy30fgBb3"
      },
      "execution_count": null,
      "outputs": []
    }
  ]
}