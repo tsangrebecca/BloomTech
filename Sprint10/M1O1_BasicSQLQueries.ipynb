{
  "nbformat": 4,
  "nbformat_minor": 0,
  "metadata": {
    "colab": {
      "provenance": [],
      "authorship_tag": "ABX9TyO8/81QFb+xpN7XRC65W9jQ",
      "include_colab_link": true
    },
    "kernelspec": {
      "name": "python3",
      "display_name": "Python 3"
    },
    "language_info": {
      "name": "python"
    }
  },
  "cells": [
    {
      "cell_type": "markdown",
      "metadata": {
        "id": "view-in-github",
        "colab_type": "text"
      },
      "source": [
        "<a href=\"https://colab.research.google.com/github/tsangrebecca/BloomTech/blob/main/Sprint10/M1O1_BasicSQLQueries.ipynb\" target=\"_parent\"><img src=\"https://colab.research.google.com/assets/colab-badge.svg\" alt=\"Open In Colab\"/></a>"
      ]
    },
    {
      "cell_type": "code",
      "execution_count": null,
      "metadata": {
        "id": "6yMqblzr748d"
      },
      "outputs": [],
      "source": [
        "SELECT name, id\n",
        "FROM customers\n",
        "WHERE state = 'CA';"
      ]
    },
    {
      "cell_type": "code",
      "source": [
        "import sqlite3\n",
        "conn = sqlite3.connect('rpg_db.sqlite3')\n",
        "curs = conn.cursor()\n",
        "query = 'SELECT COUNT(*) FROM armory_item;'\n",
        "curs.execute(query)\n",
        "curs.execute(query).fetchall()"
      ],
      "metadata": {
        "id": "LYSg6LZm77S6"
      },
      "execution_count": null,
      "outputs": []
    }
  ]
}