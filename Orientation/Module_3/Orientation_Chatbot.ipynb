{
  "nbformat": 4,
  "nbformat_minor": 0,
  "metadata": {
    "colab": {
      "provenance": [],
      "authorship_tag": "ABX9TyO2yMYnK3eZFqyCHGSJby2U",
      "include_colab_link": true
    },
    "kernelspec": {
      "name": "python3",
      "display_name": "Python 3"
    },
    "language_info": {
      "name": "python"
    }
  },
  "cells": [
    {
      "cell_type": "markdown",
      "metadata": {
        "id": "view-in-github",
        "colab_type": "text"
      },
      "source": [
        "<a href=\"https://colab.research.google.com/github/tsangrebecca/BloomTech/blob/main/Orientation/Orientation_Chatbot.ipynb\" target=\"_parent\"><img src=\"https://colab.research.google.com/assets/colab-badge.svg\" alt=\"Open In Colab\"/></a>"
      ]
    },
    {
      "cell_type": "code",
      "execution_count": null,
      "metadata": {
        "colab": {
          "base_uri": "https://localhost:8080/"
        },
        "id": "3-18MOnsLg2f",
        "outputId": "2d5345f5-0bbe-44ef-e99e-c8079221a7b3"
      },
      "outputs": [
        {
          "output_type": "stream",
          "name": "stdout",
          "text": [
            "Looking in indexes: https://pypi.org/simple, https://us-python.pkg.dev/colab-wheels/public/simple/\n",
            "Requirement already satisfied: NLTK in /usr/local/lib/python3.10/dist-packages (3.8.1)\n",
            "Requirement already satisfied: tqdm in /usr/local/lib/python3.10/dist-packages (from NLTK) (4.65.0)\n",
            "Requirement already satisfied: click in /usr/local/lib/python3.10/dist-packages (from NLTK) (8.1.3)\n",
            "Requirement already satisfied: regex>=2021.8.3 in /usr/local/lib/python3.10/dist-packages (from NLTK) (2022.10.31)\n",
            "Requirement already satisfied: joblib in /usr/local/lib/python3.10/dist-packages (from NLTK) (1.2.0)\n"
          ]
        }
      ],
      "source": [
        " pip install NLTK"
      ]
    },
    {
      "cell_type": "code",
      "source": [
        "from nltk.chat.util import Chat, reflections"
      ],
      "metadata": {
        "id": "Lsuv1JM9LzQZ"
      },
      "execution_count": null,
      "outputs": []
    },
    {
      "cell_type": "code",
      "source": [
        "pairs = [\n",
        "    [\"(hello|hi|hey)\", [\"hello back\"]], # pipe line is just like \"or\"\n",
        "    [\"my name is (.*)\", [\"hello %1\"]], # parameterize the name, remember to add the comma in the end\n",
        "    [\"this is great\", [\"absolutely\"]],\n",
        "    [\"(thank you|thanks|mahalo)\", [\"you're welcome\", \"no problem\", \"of course\", \"anytime\"]] # multiple ways of saying thank you, multiple responses to thank you or thanks\n",
        "         ]"
      ],
      "metadata": {
        "id": "e0H9ZQADXji-"
      },
      "execution_count": null,
      "outputs": []
    },
    {
      "cell_type": "code",
      "source": [
        "chat = Chat(pairs, reflections)\n",
        "chat.converse() #command for chat box\n",
        "# always type quit to close chat before updating dictionary in the above cell and rerun this chatbox"
      ],
      "metadata": {
        "colab": {
          "base_uri": "https://localhost:8080/"
        },
        "id": "FnAYIVu4ZdII",
        "outputId": "acf4413f-f585-4527-c4af-7a0886b6d2af"
      },
      "execution_count": null,
      "outputs": [
        {
          "output_type": "stream",
          "name": "stdout",
          "text": [
            ">mahalo\n",
            "no problem\n",
            ">mahalo\n",
            "no problem\n",
            ">mahalo\n",
            "anytime\n",
            ">thanks\n",
            "you're welcome\n",
            ">thank you\n",
            "of course\n",
            ">quit\n",
            "None\n"
          ]
        }
      ]
    },
    {
      "cell_type": "code",
      "source": [],
      "metadata": {
        "id": "tI5gpQREZk9-"
      },
      "execution_count": null,
      "outputs": []
    }
  ]
}
