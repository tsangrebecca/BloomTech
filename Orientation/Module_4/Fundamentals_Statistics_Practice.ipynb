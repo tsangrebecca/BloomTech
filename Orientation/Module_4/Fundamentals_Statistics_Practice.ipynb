{
  "nbformat": 4,
  "nbformat_minor": 0,
  "metadata": {
    "colab": {
      "provenance": [],
      "include_colab_link": true
    },
    "kernelspec": {
      "name": "python3",
      "display_name": "Python 3"
    },
    "language_info": {
      "name": "python"
    }
  },
  "cells": [
    {
      "cell_type": "markdown",
      "metadata": {
        "id": "view-in-github",
        "colab_type": "text"
      },
      "source": [
        "<a href=\"https://colab.research.google.com/github/tsangrebecca/BloomTech/blob/main/Orientation/Module_4/Fundamentals_Statistics_Practice.ipynb\" target=\"_parent\"><img src=\"https://colab.research.google.com/assets/colab-badge.svg\" alt=\"Open In Colab\"/></a>"
      ]
    },
    {
      "cell_type": "markdown",
      "source": [
        "# Practice: Statistics\n",
        "\n",
        "\n",
        "Follow the instructions for the following tasks. If a task is completed correctly, the assert statement will show no error in your code. This notebook is for practice purposes only and does not need to be turned in. \n",
        "\n",
        "Feel free to make changes to this document. If you would like to **save** any changes, make sure to click \"Copy to Drive\" above. \n",
        "\n",
        "____"
      ],
      "metadata": {
        "id": "O8Dv9Rrhb8n3"
      }
    },
    {
      "cell_type": "code",
      "source": [
        "import pandas as pd\n",
        "import seaborn as sns\n",
        "import matplotlib.pyplot as plt\n",
        "import numpy as np\n",
        "import scipy.stats as st"
      ],
      "metadata": {
        "id": "B1cbAqzJYRYw"
      },
      "execution_count": 5,
      "outputs": []
    },
    {
      "cell_type": "markdown",
      "source": [
        "**Task 1**\n",
        "\n",
        "Return the mean for the following series of numbers:\n",
        "\n",
        "`10, 4, 42, 124, 5, 2, 7, 60, 40`"
      ],
      "metadata": {
        "id": "jpwH_cjOcHta"
      }
    },
    {
      "cell_type": "code",
      "source": [
        "#your code here\n",
        "\n",
        "test = 10, 4, 42, 124, 5, 2, 7, 60, 40\n",
        "pd.Series(test).mean()\n"
      ],
      "metadata": {
        "id": "Fqrurdx2cxmT",
        "colab": {
          "base_uri": "https://localhost:8080/"
        },
        "outputId": "ee76b7df-175c-4c4e-d226-86e37bab8c83"
      },
      "execution_count": 22,
      "outputs": [
        {
          "output_type": "execute_result",
          "data": {
            "text/plain": [
              "32.666666666666664"
            ]
          },
          "metadata": {},
          "execution_count": 22
        }
      ]
    },
    {
      "cell_type": "code",
      "source": [
        "# base python\n",
        "average = sum(test)/len(test)\n",
        "print(average)"
      ],
      "metadata": {
        "colab": {
          "base_uri": "https://localhost:8080/"
        },
        "id": "foLoZwupayGj",
        "outputId": "ba23ba00-7a14-45be-c362-87eab3495e20"
      },
      "execution_count": 31,
      "outputs": [
        {
          "output_type": "stream",
          "name": "stdout",
          "text": [
            "32.666666666666664\n"
          ]
        }
      ]
    },
    {
      "cell_type": "code",
      "source": [
        "#there are multiple ways you can answer this. example answers are available in solution notebook"
      ],
      "metadata": {
        "id": "WS8eBVK6i4Ho"
      },
      "execution_count": 24,
      "outputs": []
    },
    {
      "cell_type": "markdown",
      "source": [
        "**Task 2**\n",
        "\n",
        "Return the median of the following series of numbers:\n",
        "\n",
        "`10, 4, 42, 124, 5, 2, 7, 60, 40`\n"
      ],
      "metadata": {
        "id": "oGjgOijPchZY"
      }
    },
    {
      "cell_type": "code",
      "source": [
        "#your code here \n",
        "np.median(test)"
      ],
      "metadata": {
        "id": "3KdXkKoyck09",
        "colab": {
          "base_uri": "https://localhost:8080/"
        },
        "outputId": "a332be08-a2cd-4bbd-ebbf-66b8e33ca5f4"
      },
      "execution_count": 25,
      "outputs": [
        {
          "output_type": "execute_result",
          "data": {
            "text/plain": [
              "10.0"
            ]
          },
          "metadata": {},
          "execution_count": 25
        }
      ]
    },
    {
      "cell_type": "code",
      "source": [
        "# base python\n",
        "testlist = [10,4,42,124,5,2,7,60,40]   # I need a new object because python can only work on list for this calculation\n",
        "testlist.sort()\n",
        "mid_position = len(testlist)//2   # //2 means divide it by 2 and just keep the quotient so in this case it's 4.\n",
        "print(testlist[mid_position])     # we call index 4, that means it's the 5th number in the list, which is the median."
      ],
      "metadata": {
        "colab": {
          "base_uri": "https://localhost:8080/"
        },
        "id": "Cq_LAPDhbPMa",
        "outputId": "ce41e4bb-2089-4e80-863c-3c0bd719d8e6"
      },
      "execution_count": 26,
      "outputs": [
        {
          "output_type": "stream",
          "name": "stdout",
          "text": [
            "10\n"
          ]
        }
      ]
    },
    {
      "cell_type": "code",
      "source": [
        "#there are multiple ways you can answer this. example answers are available in solution notebook"
      ],
      "metadata": {
        "id": "c6wVAa7wje2J"
      },
      "execution_count": 27,
      "outputs": []
    },
    {
      "cell_type": "markdown",
      "source": [
        "**Task 3**\n",
        "\n",
        "Return the standard deviation for the following series of numbers.\n",
        "\n",
        "`10, 4, 42, 124, 5, 2, 7, 60, 40`\n",
        "\n",
        "*Note: Using the numpy method will require an [extra parameter](https://stackoverflow.com/questions/24984178/different-std-in-pandas-vs-numpy)."
      ],
      "metadata": {
        "id": "ENMAPbKocmG3"
      }
    },
    {
      "cell_type": "code",
      "source": [
        "#your code here \n",
        "\n",
        "np.std(test, ddof=1)  # the number is different because the degree of freedom by default is zero, will have to set it to 1 to match the answer from pd method"
      ],
      "metadata": {
        "id": "GeIdQsAHct42",
        "colab": {
          "base_uri": "https://localhost:8080/"
        },
        "outputId": "6bc0050f-9b47-46e7-b57d-39f7baa1a870"
      },
      "execution_count": 36,
      "outputs": [
        {
          "output_type": "execute_result",
          "data": {
            "text/plain": [
              "40.202611855450385"
            ]
          },
          "metadata": {},
          "execution_count": 36
        }
      ]
    },
    {
      "cell_type": "code",
      "source": [
        "pd.Series(test).std()"
      ],
      "metadata": {
        "colab": {
          "base_uri": "https://localhost:8080/"
        },
        "id": "LW8VmP7odh1a",
        "outputId": "35bc3c34-8c62-4e77-839a-b5975ffa8e04"
      },
      "execution_count": 29,
      "outputs": [
        {
          "output_type": "execute_result",
          "data": {
            "text/plain": [
              "40.202611855450385"
            ]
          },
          "metadata": {},
          "execution_count": 29
        }
      ]
    },
    {
      "cell_type": "code",
      "source": [
        "# base python, use loop to get variance to calculate std\n",
        "variances = []\n",
        "for i in testlist:\n",
        "  variances.append((i - average)**2)\n",
        "print((sum(variances)/8)**0.5)   # coz it's n-1\n",
        "\n"
      ],
      "metadata": {
        "colab": {
          "base_uri": "https://localhost:8080/"
        },
        "id": "QES3INUYfK1w",
        "outputId": "c612817b-4885-4c61-9aed-2354826588d0"
      },
      "execution_count": 34,
      "outputs": [
        {
          "output_type": "stream",
          "name": "stdout",
          "text": [
            "40.202611855450385\n"
          ]
        }
      ]
    },
    {
      "cell_type": "code",
      "source": [
        "#there are multiple ways you can answer this. example answers are available in solution notebook"
      ],
      "metadata": {
        "id": "DYvhphfQu08b"
      },
      "execution_count": null,
      "outputs": []
    }
  ]
}