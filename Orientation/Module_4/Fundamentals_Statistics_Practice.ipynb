{
  "nbformat": 4,
  "nbformat_minor": 0,
  "metadata": {
    "colab": {
      "provenance": [],
      "include_colab_link": true
    },
    "kernelspec": {
      "name": "python3",
      "display_name": "Python 3"
    },
    "language_info": {
      "name": "python"
    }
  },
  "cells": [
    {
      "cell_type": "markdown",
      "metadata": {
        "id": "view-in-github",
        "colab_type": "text"
      },
      "source": [
        "<a href=\"https://colab.research.google.com/github/tsangrebecca/BloomTech/blob/main/Orientation/Module_4/Fundamentals_Statistics_Practice.ipynb\" target=\"_parent\"><img src=\"https://colab.research.google.com/assets/colab-badge.svg\" alt=\"Open In Colab\"/></a>"
      ]
    },
    {
      "cell_type": "markdown",
      "source": [
        "# Practice: Statistics\n",
        "\n",
        "\n",
        "Follow the instructions for the following tasks. If a task is completed correctly, the assert statement will show no error in your code. This notebook is for practice purposes only and does not need to be turned in. \n",
        "\n",
        "Feel free to make changes to this document. If you would like to **save** any changes, make sure to click \"Copy to Drive\" above. \n",
        "\n",
        "____"
      ],
      "metadata": {
        "id": "O8Dv9Rrhb8n3"
      }
    },
    {
      "cell_type": "code",
      "source": [
        "import pandas as pd\n",
        "import seaborn as sns\n",
        "import matplotlib.pyplot as plt\n",
        "import numpy as np\n",
        "import scipy.stats as st"
      ],
      "metadata": {
        "id": "B1cbAqzJYRYw"
      },
      "execution_count": 3,
      "outputs": []
    },
    {
      "cell_type": "markdown",
      "source": [
        "**Task 1**\n",
        "\n",
        "Return the mean for the following series of numbers:\n",
        "\n",
        "`10, 4, 42, 124, 5, 2, 7, 60, 40`"
      ],
      "metadata": {
        "id": "jpwH_cjOcHta"
      }
    },
    {
      "cell_type": "code",
      "source": [
        "#your code here\n",
        "\n",
        "test = 10, 4, 42, 124, 5, 2, 7, 60, 40\n",
        "pd.Series(test).mean()\n"
      ],
      "metadata": {
        "id": "Fqrurdx2cxmT",
        "colab": {
          "base_uri": "https://localhost:8080/"
        },
        "outputId": "eab8ec33-735b-4f2e-d505-84a2b83ff6aa"
      },
      "execution_count": 4,
      "outputs": [
        {
          "output_type": "execute_result",
          "data": {
            "text/plain": [
              "32.666666666666664"
            ]
          },
          "metadata": {},
          "execution_count": 4
        }
      ]
    },
    {
      "cell_type": "code",
      "source": [
        "# base python\n",
        "average = sum(test)/len(test)\n",
        "print(average)"
      ],
      "metadata": {
        "colab": {
          "base_uri": "https://localhost:8080/"
        },
        "id": "foLoZwupayGj",
        "outputId": "f35a904a-62aa-4a09-f016-61ab66a7035a"
      },
      "execution_count": 5,
      "outputs": [
        {
          "output_type": "stream",
          "name": "stdout",
          "text": [
            "32.666666666666664\n"
          ]
        }
      ]
    },
    {
      "cell_type": "code",
      "source": [
        "#there are multiple ways you can answer this. example answers are available in solution notebook"
      ],
      "metadata": {
        "id": "WS8eBVK6i4Ho"
      },
      "execution_count": 6,
      "outputs": []
    },
    {
      "cell_type": "markdown",
      "source": [
        "**Task 2**\n",
        "\n",
        "Return the median of the following series of numbers:\n",
        "\n",
        "`10, 4, 42, 124, 5, 2, 7, 60, 40`\n"
      ],
      "metadata": {
        "id": "oGjgOijPchZY"
      }
    },
    {
      "cell_type": "code",
      "source": [
        "#your code here \n",
        "np.median(test)"
      ],
      "metadata": {
        "id": "3KdXkKoyck09",
        "colab": {
          "base_uri": "https://localhost:8080/"
        },
        "outputId": "9d859e5f-2b33-4a6c-b5ec-31562cdec187"
      },
      "execution_count": 7,
      "outputs": [
        {
          "output_type": "execute_result",
          "data": {
            "text/plain": [
              "10.0"
            ]
          },
          "metadata": {},
          "execution_count": 7
        }
      ]
    },
    {
      "cell_type": "code",
      "source": [
        "# base python\n",
        "testlist = [10,4,42,124,5,2,7,60,40]   # I need a new object because python can only work on list for this calculation\n",
        "testlist.sort()\n",
        "mid_position = len(testlist)//2   # //2 means divide it by 2 and just keep the quotient so in this case it's 4.\n",
        "print(testlist[mid_position])     # we call index 4, that means it's the 5th number in the list, which is the median."
      ],
      "metadata": {
        "colab": {
          "base_uri": "https://localhost:8080/"
        },
        "id": "Cq_LAPDhbPMa",
        "outputId": "7d4b229a-8912-4807-bb59-e1fa129ce6c9"
      },
      "execution_count": 8,
      "outputs": [
        {
          "output_type": "stream",
          "name": "stdout",
          "text": [
            "10\n"
          ]
        }
      ]
    },
    {
      "cell_type": "code",
      "source": [
        "#there are multiple ways you can answer this. example answers are available in solution notebook"
      ],
      "metadata": {
        "id": "c6wVAa7wje2J"
      },
      "execution_count": 9,
      "outputs": []
    },
    {
      "cell_type": "markdown",
      "source": [
        "**Task 3**\n",
        "\n",
        "Return the standard deviation for the following series of numbers.\n",
        "\n",
        "`10, 4, 42, 124, 5, 2, 7, 60, 40`\n",
        "\n",
        "*Note: Using the numpy method will require an [extra parameter](https://stackoverflow.com/questions/24984178/different-std-in-pandas-vs-numpy)."
      ],
      "metadata": {
        "id": "ENMAPbKocmG3"
      }
    },
    {
      "cell_type": "code",
      "source": [
        "#your code here \n",
        "\n",
        "np.std(test, ddof=1)  \n",
        "\n",
        "# the number is different because the delta degree of freedom by default is zero, n for population std\n",
        "# will have to set it to 1 so it's n-1, used for sample std, to match the answer from pd method"
      ],
      "metadata": {
        "id": "GeIdQsAHct42",
        "colab": {
          "base_uri": "https://localhost:8080/"
        },
        "outputId": "e2adee5d-ee49-4027-8091-49e794334d8d"
      },
      "execution_count": 10,
      "outputs": [
        {
          "output_type": "execute_result",
          "data": {
            "text/plain": [
              "40.202611855450385"
            ]
          },
          "metadata": {},
          "execution_count": 10
        }
      ]
    },
    {
      "cell_type": "code",
      "source": [
        "pd.Series(test).std()"
      ],
      "metadata": {
        "colab": {
          "base_uri": "https://localhost:8080/"
        },
        "id": "LW8VmP7odh1a",
        "outputId": "b0d96631-c727-4db8-94c0-348f1da7ab19"
      },
      "execution_count": 11,
      "outputs": [
        {
          "output_type": "execute_result",
          "data": {
            "text/plain": [
              "40.202611855450385"
            ]
          },
          "metadata": {},
          "execution_count": 11
        }
      ]
    },
    {
      "cell_type": "code",
      "source": [
        "# base python, use loop to get variance to calculate std, basically to use the sample standard deviation formula\n",
        "variances = []\n",
        "for i in testlist:\n",
        "  variances.append((i - average)**2)        # (x-x1)^2 append (x-x2)^2 append (x-x3)^2...... to create a new list as variances []\n",
        "print((sum(variances)/8)**0.5)   # coz it's n-1 --> 9-1 = 8, **0.5 is square root\n",
        "\n"
      ],
      "metadata": {
        "colab": {
          "base_uri": "https://localhost:8080/"
        },
        "id": "QES3INUYfK1w",
        "outputId": "78d55350-ac75-4cb7-8840-0f0ae006ba45"
      },
      "execution_count": 12,
      "outputs": [
        {
          "output_type": "stream",
          "name": "stdout",
          "text": [
            "40.202611855450385\n"
          ]
        }
      ]
    },
    {
      "cell_type": "code",
      "source": [
        "variances = []\n",
        "for i in testlist:\n",
        "  variances.append((i - average)**2)\n",
        "print((sum(variances)/(len(testlist)-1))**0.5)   # instead of typing out 8, I parameterize n-1 :)"
      ],
      "metadata": {
        "colab": {
          "base_uri": "https://localhost:8080/"
        },
        "id": "k3-bCZ7dSmHw",
        "outputId": "83417d6c-5955-488f-cbd8-c5ae5474f6e5"
      },
      "execution_count": 13,
      "outputs": [
        {
          "output_type": "stream",
          "name": "stdout",
          "text": [
            "40.202611855450385\n"
          ]
        }
      ]
    },
    {
      "cell_type": "code",
      "source": [
        "#there are multiple ways you can answer this. example answers are available in solution notebook"
      ],
      "metadata": {
        "id": "DYvhphfQu08b"
      },
      "execution_count": null,
      "outputs": []
    }
  ]
}