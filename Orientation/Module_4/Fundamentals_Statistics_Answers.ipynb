{
  "nbformat": 4,
  "nbformat_minor": 0,
  "metadata": {
    "colab": {
      "provenance": [],
      "include_colab_link": true
    },
    "kernelspec": {
      "name": "python3",
      "display_name": "Python 3"
    },
    "language_info": {
      "name": "python"
    }
  },
  "cells": [
    {
      "cell_type": "markdown",
      "metadata": {
        "id": "view-in-github",
        "colab_type": "text"
      },
      "source": [
        "<a href=\"https://colab.research.google.com/github/tsangrebecca/BloomTech/blob/main/Orientation/Module_4/Fundamentals_Statistics_Answers.ipynb\" target=\"_parent\"><img src=\"https://colab.research.google.com/assets/colab-badge.svg\" alt=\"Open In Colab\"/></a>"
      ]
    },
    {
      "cell_type": "markdown",
      "source": [
        "# Practice: Statistics\n",
        "\n",
        "\n",
        "Follow the instructions for the following tasks. If a task is completed correctly, the assert statement will show no error in your code. This notebook is for practice purposes only and does not need to be turned in. \n",
        "\n",
        "Feel free to make changes to this document. If you would like to **save** any changes, make sure to click \"Copy to Drive\" above. \n",
        "\n",
        "____"
      ],
      "metadata": {
        "id": "O8Dv9Rrhb8n3"
      }
    },
    {
      "cell_type": "markdown",
      "source": [
        "**Task 1**\n",
        "\n",
        "Return the mean for the following series of numbers:\n",
        "\n",
        "`10, 4, 42, 124, 5, 2, 7, 60, 40`"
      ],
      "metadata": {
        "id": "jpwH_cjOcHta"
      }
    },
    {
      "cell_type": "code",
      "source": [
        "#your code here\n",
        "\n",
        "#with numpy\n",
        "import numpy as np\n",
        "print(np.mean([10, 4, 42, 124, 5, 2, 7, 60, 40]))\n",
        "\n",
        "\n",
        "#base python\n",
        "list_of_numbers= [10, 4, 42, 124, 5, 2, 7, 60, 40]\n",
        "print(sum(list_of_numbers)/len(list_of_numbers))\n",
        "\n",
        "#with pandas\n",
        "import pandas as pd\n",
        "print(pd.Series([10, 4, 42, 124, 5, 2, 7, 60, 40]).mean())"
      ],
      "metadata": {
        "colab": {
          "base_uri": "https://localhost:8080/"
        },
        "id": "Fqrurdx2cxmT",
        "outputId": "4610fb6f-b546-463b-b5ee-a5648bee271b"
      },
      "execution_count": null,
      "outputs": [
        {
          "output_type": "stream",
          "name": "stdout",
          "text": [
            "32.666666666666664\n",
            "32.666666666666664\n",
            "32.666666666666664\n"
          ]
        }
      ]
    },
    {
      "cell_type": "code",
      "source": [
        "#there are multiple ways you can answer this. example answers are available in solution notebook"
      ],
      "metadata": {
        "id": "WS8eBVK6i4Ho"
      },
      "execution_count": null,
      "outputs": []
    },
    {
      "cell_type": "markdown",
      "source": [
        "**Task 2**\n",
        "\n",
        "Return the median of the following series of numbers:\n",
        "\n",
        "`10, 4, 42, 124, 5, 2, 7, 60, 40`\n"
      ],
      "metadata": {
        "id": "oGjgOijPchZY"
      }
    },
    {
      "cell_type": "code",
      "source": [
        "#your code here \n",
        "\n",
        "#with numpy\n",
        "print(np.median([10, 4, 42, 124, 5, 2, 7, 60, 40]))\n",
        "\n",
        "#base python\n",
        "list_of_numbers.sort()\n",
        "middle_position = len(list_of_numbers)//2\n",
        "print(list_of_numbers[middle_position])\n",
        "\n",
        "#with pandas\n",
        "print(pd.Series([10, 4, 42, 124, 5, 2, 7, 60, 40]).median())"
      ],
      "metadata": {
        "colab": {
          "base_uri": "https://localhost:8080/"
        },
        "id": "3KdXkKoyck09",
        "outputId": "3c27c0e8-5531-4059-ab50-a293cd85c110"
      },
      "execution_count": null,
      "outputs": [
        {
          "output_type": "stream",
          "name": "stdout",
          "text": [
            "10.0\n",
            "10\n",
            "10.0\n"
          ]
        }
      ]
    },
    {
      "cell_type": "code",
      "source": [
        "#there are multiple ways you can answer this. example answers are available in solution notebook"
      ],
      "metadata": {
        "id": "c6wVAa7wje2J"
      },
      "execution_count": null,
      "outputs": []
    },
    {
      "cell_type": "markdown",
      "source": [
        "**Task 3**\n",
        "\n",
        "Return the standard deviation for the following series of numbers.\n",
        "\n",
        "`10, 4, 42, 124, 5, 2, 7, 60, 40`\n",
        "\n",
        "*Note: Using the numpy method will require an [extra parameter](https://stackoverflow.com/questions/24984178/different-std-in-pandas-vs-numpy)."
      ],
      "metadata": {
        "id": "ENMAPbKocmG3"
      }
    },
    {
      "cell_type": "code",
      "source": [
        "#your code here \n",
        "\n",
        "#with numpy\n",
        "print(np.std([10, 4, 42, 124, 5, 2, 7, 60, 40], ddof=1))\n",
        "\n",
        "\n",
        "#with pandas\n",
        "print(pd.Series([10, 4, 42, 124, 5, 2, 7, 60, 40]).std())\n",
        "\n",
        "#base python\n",
        "\n",
        "data = [10, 4, 42, 124, 5, 2, 7, 60, 40]\n",
        "#get the average\n",
        "averages = sum(data) / len(data)\n",
        "\n",
        "#for loop to get the variances\n",
        "variances = []\n",
        "for i in data:\n",
        "  variances.append((i - averages)**2)\n",
        "#getting the square root for the variances  \n",
        "print((sum(variances)/8)**0.5)"
      ],
      "metadata": {
        "id": "GeIdQsAHct42",
        "colab": {
          "base_uri": "https://localhost:8080/"
        },
        "outputId": "f8ac0cfc-298e-49b7-e264-5713e2652a67"
      },
      "execution_count": null,
      "outputs": [
        {
          "output_type": "stream",
          "name": "stdout",
          "text": [
            "40.202611855450385\n",
            "40.202611855450385\n",
            "40.20261185545039\n"
          ]
        }
      ]
    },
    {
      "cell_type": "code",
      "source": [],
      "metadata": {
        "id": "DYvhphfQu08b"
      },
      "execution_count": null,
      "outputs": []
    }
  ]
}