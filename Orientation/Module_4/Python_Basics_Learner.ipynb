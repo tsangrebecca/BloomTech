{
  "cells": [
    {
      "cell_type": "markdown",
      "metadata": {
        "id": "view-in-github",
        "colab_type": "text"
      },
      "source": [
        "<a href=\"https://colab.research.google.com/github/tsangrebecca/BloomTech/blob/main/Orientation/Module_4/Python_Basics_Learner.ipynb\" target=\"_parent\"><img src=\"https://colab.research.google.com/assets/colab-badge.svg\" alt=\"Open In Colab\"/></a>"
      ]
    },
    {
      "cell_type": "markdown",
      "id": "96b78f63",
      "metadata": {
        "id": "96b78f63"
      },
      "source": [
        "# Python Basics"
      ]
    },
    {
      "cell_type": "markdown",
      "id": "e5b64b8e",
      "metadata": {
        "id": "e5b64b8e"
      },
      "source": [
        "\n",
        "## Objects\n",
        "\n",
        "In Python, values can be assigned to objects. "
      ]
    },
    {
      "cell_type": "markdown",
      "id": "4aa18032",
      "metadata": {
        "id": "4aa18032"
      },
      "source": [
        "- These objects can then be used with operator values for calculation. \n",
        "- The results of these calculation expressions can then be assigned to other values. "
      ]
    },
    {
      "cell_type": "markdown",
      "id": "3db80c2e",
      "metadata": {
        "id": "3db80c2e"
      },
      "source": [
        "## Lists\n",
        "Lists are used to store multiple items in a single variable. Lists can contain objects of the same or different data types. "
      ]
    },
    {
      "cell_type": "code",
      "source": [],
      "metadata": {
        "id": "A9sJIcOsgYlc"
      },
      "id": "A9sJIcOsgYlc",
      "execution_count": null,
      "outputs": []
    },
    {
      "cell_type": "markdown",
      "id": "997bf187",
      "metadata": {
        "id": "997bf187"
      },
      "source": [
        "- Just like string objects, list objects can be *indexed* by calling its index location. "
      ]
    },
    {
      "cell_type": "code",
      "source": [],
      "metadata": {
        "id": "kbLi4tIgjaEt"
      },
      "id": "kbLi4tIgjaEt",
      "execution_count": null,
      "outputs": []
    },
    {
      "cell_type": "markdown",
      "id": "106e3ab9",
      "metadata": {
        "id": "106e3ab9"
      },
      "source": [
        "## Dictionaries\n",
        "Dictionaries are used to store data values in key:value pairs."
      ]
    },
    {
      "cell_type": "code",
      "source": [],
      "metadata": {
        "id": "Aza3IzT1jZzI"
      },
      "id": "Aza3IzT1jZzI",
      "execution_count": null,
      "outputs": []
    },
    {
      "cell_type": "markdown",
      "id": "15b5a5e8",
      "metadata": {
        "id": "15b5a5e8"
      },
      "source": [
        "- Dictionary objects can be indexed by calling their key values. "
      ]
    },
    {
      "cell_type": "markdown",
      "id": "f69fd8a6",
      "metadata": {
        "id": "f69fd8a6"
      },
      "source": [
        "## Functions\n",
        "A function is code which runs a specified set of operations, as built by the user. "
      ]
    },
    {
      "cell_type": "code",
      "source": [],
      "metadata": {
        "id": "SHjtxgpyjZZH"
      },
      "id": "SHjtxgpyjZZH",
      "execution_count": null,
      "outputs": []
    },
    {
      "cell_type": "markdown",
      "id": "9c7a59ab",
      "metadata": {
        "id": "9c7a59ab"
      },
      "source": [
        "- You can pass parameters into the function. "
      ]
    },
    {
      "cell_type": "code",
      "source": [],
      "metadata": {
        "id": "d_2mkGn6jZJH"
      },
      "id": "d_2mkGn6jZJH",
      "execution_count": null,
      "outputs": []
    },
    {
      "cell_type": "code",
      "source": [],
      "metadata": {
        "id": "YVBSvFKOi5gm"
      },
      "id": "YVBSvFKOi5gm",
      "execution_count": null,
      "outputs": []
    }
  ],
  "metadata": {
    "kernelspec": {
      "display_name": "Python 3",
      "language": "python",
      "name": "python3"
    },
    "language_info": {
      "codemirror_mode": {
        "name": "ipython",
        "version": 3
      },
      "file_extension": ".py",
      "mimetype": "text/x-python",
      "name": "python",
      "nbconvert_exporter": "python",
      "pygments_lexer": "ipython3",
      "version": "3.8.8"
    },
    "colab": {
      "provenance": [],
      "include_colab_link": true
    }
  },
  "nbformat": 4,
  "nbformat_minor": 5
}