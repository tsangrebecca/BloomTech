{
  "nbformat": 4,
  "nbformat_minor": 0,
  "metadata": {
    "colab": {
      "provenance": [],
      "include_colab_link": true
    },
    "kernelspec": {
      "name": "python3",
      "display_name": "Python 3"
    },
    "language_info": {
      "name": "python"
    }
  },
  "cells": [
    {
      "cell_type": "markdown",
      "metadata": {
        "id": "view-in-github",
        "colab_type": "text"
      },
      "source": [
        "<a href=\"https://colab.research.google.com/github/tsangrebecca/BloomTech/blob/main/Orientation/Module_4/Practice_Visualizations_Answers.ipynb\" target=\"_parent\"><img src=\"https://colab.research.google.com/assets/colab-badge.svg\" alt=\"Open In Colab\"/></a>"
      ]
    },
    {
      "cell_type": "markdown",
      "source": [
        "# Practice: Visualizations\n",
        "\n",
        "\n",
        "Follow the instructions for the following tasks. If a task is completed correctly, the assert statement will show no error in your code. This notebook is for practice purposes only and does not need to be turned in. \n",
        "\n",
        "Feel free to make changes to this document. If you would like to **save** any changes, make sure to click \"Copy to Drive\" above. \n",
        "\n",
        "____"
      ],
      "metadata": {
        "id": "dd-Sb4BR1Jr9"
      }
    },
    {
      "cell_type": "code",
      "source": [],
      "metadata": {
        "id": "wH_Xwfi51OAo"
      },
      "execution_count": null,
      "outputs": []
    },
    {
      "cell_type": "markdown",
      "source": [
        "**Task 1**\n",
        "\n",
        "Import the following packages:\n",
        "- Pandas\n",
        "- Numpy\n",
        "- Seaborn\n",
        "- Matplotlib.pyplot\n"
      ],
      "metadata": {
        "id": "3Y_lVtmf1Peq"
      }
    },
    {
      "cell_type": "code",
      "source": [
        "#your code here\n",
        "import pandas as pd\n",
        "import numpy as np\n",
        "import seaborn as sns\n",
        "import matplotlib.pyplot as plt\n",
        "\n"
      ],
      "metadata": {
        "id": "1A1VomU_1RQk"
      },
      "execution_count": null,
      "outputs": []
    },
    {
      "cell_type": "markdown",
      "source": [
        "**Task 2** \n",
        "\n",
        "Import the `titanic` dataset from the seaborn module.\n",
        "Assign it to an object called `df`  "
      ],
      "metadata": {
        "id": "JLGkCIbq1n2V"
      }
    },
    {
      "cell_type": "code",
      "source": [
        "#your code here\n",
        "titanic = sns.load_dataset('titanic')"
      ],
      "metadata": {
        "id": "7VeuteQ310Kh"
      },
      "execution_count": null,
      "outputs": []
    },
    {
      "cell_type": "code",
      "source": [
        "#test cells\n",
        "assert df.shape == (891, 15), \"Make sure you have a dataset assigned to the df object\""
      ],
      "metadata": {
        "id": "cBUlf8N114nR"
      },
      "execution_count": null,
      "outputs": []
    },
    {
      "cell_type": "markdown",
      "source": [
        "**Task 3**\n",
        "\n",
        "Create a bar chart that demonstrates how many passengers survived in total."
      ],
      "metadata": {
        "id": "GJd3R5ib2IM0"
      }
    },
    {
      "cell_type": "code",
      "source": [
        "#your code here\n",
        "titanic['survived'].value_counts().plot(kind='bar');"
      ],
      "metadata": {
        "id": "16sBDGV0Yaa4"
      },
      "execution_count": null,
      "outputs": []
    },
    {
      "cell_type": "code",
      "source": [
        "#example display\n",
        "titanic['survived'].value_counts().plot(kind='bar');"
      ],
      "metadata": {
        "colab": {
          "base_uri": "https://localhost:8080/",
          "height": 262
        },
        "id": "pzpj1OC1HAtP",
        "outputId": "185d59e1-a212-4b21-8070-cbd8c8aeeb17"
      },
      "execution_count": null,
      "outputs": [
        {
          "output_type": "display_data",
          "data": {
            "text/plain": [
              "<Figure size 432x288 with 1 Axes>"
            ],
            "image/png": "[encoded data removed]"
          },
          "metadata": {
            "needs_background": "light"
          }
        }
      ]
    },
    {
      "cell_type": "markdown",
      "source": [
        "**Task 4**\n",
        "\n",
        "Create a visualization that demonstrates the distribution of the ticket prices."
      ],
      "metadata": {
        "id": "QTazS-aKHFqv"
      }
    },
    {
      "cell_type": "code",
      "source": [
        "#your code here\n",
        "titanic['fare'].plot(kind='hist');"
      ],
      "metadata": {
        "colab": {
          "base_uri": "https://localhost:8080/",
          "height": 283
        },
        "id": "L4i495fvHHrL",
        "outputId": "014c7819-d5a7-4bad-9239-9d7a40c1daa8"
      },
      "execution_count": null,
      "outputs": [
        {
          "output_type": "execute_result",
          "data": {
            "text/plain": [
              "<matplotlib.axes._subplots.AxesSubplot at 0x7f3643ae2d10>"
            ]
          },
          "metadata": {},
          "execution_count": 16
        },
        {
          "output_type": "display_data",
          "data": {
            "text/plain": [
              "<Figure size 432x288 with 1 Axes>"
            ],
            "image/png": "[encoded data removed]"
          },
          "metadata": {
            "needs_background": "light"
          }
        }
      ]
    },
    {
      "cell_type": "code",
      "source": [
        "#example display\n",
        "titanic['fare'].plot(kind='hist');"
      ],
      "metadata": {
        "colab": {
          "base_uri": "https://localhost:8080/",
          "height": 265
        },
        "id": "9ZJK7C1lHeK2",
        "outputId": "1a877680-3812-4f6a-a5fd-a7382b53f149"
      },
      "execution_count": null,
      "outputs": [
        {
          "output_type": "display_data",
          "data": {
            "text/plain": [
              "<Figure size 432x288 with 1 Axes>"
            ],
            "image/png": "[encoded data removed]"
          },
          "metadata": {
            "needs_background": "light"
          }
        }
      ]
    },
    {
      "cell_type": "markdown",
      "source": [
        "**Task 5**\n",
        "\n",
        "Create a visualization that measures the relationship between fare price and age. "
      ],
      "metadata": {
        "id": "ZKRuYQohHoxD"
      }
    },
    {
      "cell_type": "code",
      "source": [
        "#your code here\n",
        "sns.scatterplot(x= 'age', y='fare', data=titanic);"
      ],
      "metadata": {
        "colab": {
          "base_uri": "https://localhost:8080/",
          "height": 279
        },
        "id": "QHhlMEEIHqNV",
        "outputId": "2ede20cc-8f04-47c7-fbc2-81c9b5b6075b"
      },
      "execution_count": null,
      "outputs": [
        {
          "output_type": "display_data",
          "data": {
            "text/plain": [
              "<Figure size 432x288 with 1 Axes>"
            ],
            "image/png": "[encoded data removed]"
          },
          "metadata": {
            "needs_background": "light"
          }
        }
      ]
    },
    {
      "cell_type": "code",
      "source": [
        "#example display\n",
        "sns.scatterplot(x= 'age', y='fare', data=titanic);"
      ],
      "metadata": {
        "colab": {
          "base_uri": "https://localhost:8080/",
          "height": 279
        },
        "id": "F-l3soQ7N6up",
        "outputId": "b5408172-e55c-4a1f-e2e5-1722e776159a"
      },
      "execution_count": null,
      "outputs": [
        {
          "output_type": "display_data",
          "data": {
            "text/plain": [
              "<Figure size 432x288 with 1 Axes>"
            ],
            "image/png": "[encoded data removed]"
          },
          "metadata": {
            "needs_background": "light"
          }
        }
      ]
    },
    {
      "cell_type": "markdown",
      "source": [
        "**Task 6**\n",
        "\n",
        "Create a box plot to study the distribution for passenger ages. "
      ],
      "metadata": {
        "id": "AbNUjCRJOOjN"
      }
    },
    {
      "cell_type": "code",
      "source": [
        "#your code here\n",
        "titanic['age'].plot(kind='box', vert=False)"
      ],
      "metadata": {
        "colab": {
          "base_uri": "https://localhost:8080/",
          "height": 283
        },
        "id": "GX09cDW2aXsz",
        "outputId": "30827383-d892-4483-b965-910685210efb"
      },
      "execution_count": null,
      "outputs": [
        {
          "output_type": "execute_result",
          "data": {
            "text/plain": [
              "<matplotlib.axes._subplots.AxesSubplot at 0x7f3640e30390>"
            ]
          },
          "metadata": {},
          "execution_count": 34
        },
        {
          "output_type": "display_data",
          "data": {
            "text/plain": [
              "<Figure size 432x288 with 1 Axes>"
            ],
            "image/png": "[encoded data removed]"
          },
          "metadata": {
            "needs_background": "light"
          }
        }
      ]
    },
    {
      "cell_type": "code",
      "source": [
        "#example display\n",
        "titanic['age'].plot(kind='box', vert=False)"
      ],
      "metadata": {
        "colab": {
          "base_uri": "https://localhost:8080/",
          "height": 283
        },
        "id": "ts3thxLeaeYz",
        "outputId": "537d00a5-0c6d-4ce9-8bdd-af1b47543f42"
      },
      "execution_count": null,
      "outputs": [
        {
          "output_type": "execute_result",
          "data": {
            "text/plain": [
              "<matplotlib.axes._subplots.AxesSubplot at 0x7f3640d4f7d0>"
            ]
          },
          "metadata": {},
          "execution_count": 35
        },
        {
          "output_type": "display_data",
          "data": {
            "text/plain": [
              "<Figure size 432x288 with 1 Axes>"
            ],
            "image/png": "[encoded data removed]"
          },
          "metadata": {
            "needs_background": "light"
          }
        }
      ]
    }
  ]
}