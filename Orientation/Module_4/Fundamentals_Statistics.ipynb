{
  "nbformat": 4,
  "nbformat_minor": 0,
  "metadata": {
    "colab": {
      "provenance": [],
      "include_colab_link": true
    },
    "kernelspec": {
      "name": "python3",
      "display_name": "Python 3"
    },
    "language_info": {
      "name": "python"
    }
  },
  "cells": [
    {
      "cell_type": "markdown",
      "metadata": {
        "id": "view-in-github",
        "colab_type": "text"
      },
      "source": [
        "<a href=\"https://colab.research.google.com/github/tsangrebecca/BloomTech/blob/main/Orientation/Module_4/Fundamentals_Statistics.ipynb\" target=\"_parent\"><img src=\"https://colab.research.google.com/assets/colab-badge.svg\" alt=\"Open In Colab\"/></a>"
      ]
    },
    {
      "cell_type": "code",
      "execution_count": null,
      "metadata": {
        "id": "okgXIxduEpcp"
      },
      "outputs": [],
      "source": []
    },
    {
      "cell_type": "markdown",
      "source": [
        "# Introduction to Statistics\n",
        "\n",
        ">Statistics is a branch of mathematics dealing with the collection, analysis, interpretation, and presentation of masses of numerical data. \n",
        ">\n",
        ">Source: [Merriam-Webster](https://www.merriam-webster.com/dictionary/statistics)"
      ],
      "metadata": {
        "id": "nCP0tQENGyYg"
      }
    },
    {
      "cell_type": "code",
      "source": [
        "import numpy as np\n",
        "import pandas as pd\n",
        "import matplotlib.pyplot as plt\n",
        "import seaborn as sns"
      ],
      "metadata": {
        "id": "xD1OGUfnJeEE"
      },
      "execution_count": 1,
      "outputs": []
    },
    {
      "cell_type": "markdown",
      "source": [
        "## Terms You'll Need to Know"
      ],
      "metadata": {
        "id": "Aeb-TeTXJDyN"
      }
    },
    {
      "cell_type": "markdown",
      "source": [
        "### Mean (or Average)\n",
        "\n",
        "\n",
        "# $\\frac{\\text{Sum of all values}}{\\text{Number of all values}}$\n"
      ],
      "metadata": {
        "id": "b0i06slRJLbV"
      }
    },
    {
      "cell_type": "code",
      "source": [
        "test_values=[1,2,5,6,8,12,12,16]\n",
        "test_values"
      ],
      "metadata": {
        "id": "meSOFELBLzdy",
        "outputId": "b3548371-b36d-49cc-8f6b-c6e2a099227b",
        "colab": {
          "base_uri": "https://localhost:8080/"
        }
      },
      "execution_count": 2,
      "outputs": [
        {
          "output_type": "execute_result",
          "data": {
            "text/plain": [
              "[1, 2, 5, 6, 8, 12, 12, 16]"
            ]
          },
          "metadata": {},
          "execution_count": 2
        }
      ]
    },
    {
      "cell_type": "code",
      "source": [
        "(1+2+5+6+8+12+12+16)/8"
      ],
      "metadata": {
        "id": "4uG18RNQJ62x",
        "outputId": "8d9e75a0-ec42-428f-dd8f-7cc2fcac8a8f",
        "colab": {
          "base_uri": "https://localhost:8080/"
        }
      },
      "execution_count": 4,
      "outputs": [
        {
          "output_type": "execute_result",
          "data": {
            "text/plain": [
              "7.75"
            ]
          },
          "metadata": {},
          "execution_count": 4
        }
      ]
    },
    {
      "cell_type": "code",
      "source": [
        "# better\n",
        "\n",
        "sum(test_values)/len(test_values)"
      ],
      "metadata": {
        "id": "lpboQuIQL5Ah",
        "outputId": "8437f99c-cf8d-48b6-f232-c99944436932",
        "colab": {
          "base_uri": "https://localhost:8080/"
        }
      },
      "execution_count": 5,
      "outputs": [
        {
          "output_type": "execute_result",
          "data": {
            "text/plain": [
              "7.75"
            ]
          },
          "metadata": {},
          "execution_count": 5
        }
      ]
    },
    {
      "cell_type": "code",
      "source": [
        "# even better with pd\n",
        "\n",
        "pd.Series(test_values).mean()      # S in Series has to be capitalized!"
      ],
      "metadata": {
        "id": "5NN459N-L8-K",
        "outputId": "4630b16d-39c7-407c-8ba1-63c5581b81cb",
        "colab": {
          "base_uri": "https://localhost:8080/"
        }
      },
      "execution_count": 10,
      "outputs": [
        {
          "output_type": "execute_result",
          "data": {
            "text/plain": [
              "7.75"
            ]
          },
          "metadata": {},
          "execution_count": 10
        }
      ]
    },
    {
      "cell_type": "markdown",
      "source": [
        "###Median\n",
        "If n is even:\n",
        "\n",
        "#$Med(X) = X[\\frac{n}{2}]$\n",
        "\n",
        "If n is odd:\n",
        "\n",
        "#$Med(X) = X[\\frac{X[\\frac{n-1}{2}] + X[\\frac{n + 1}{2}]}{2}]$"
      ],
      "metadata": {
        "id": "fhsdjIyQJLAf"
      }
    },
    {
      "cell_type": "code",
      "source": [
        "# find median with np\n",
        "\n",
        "np.median(test_values)"
      ],
      "metadata": {
        "id": "u3HiZu3FGHWy",
        "outputId": "34158f5b-ce58-417f-bc79-24ffa82f62fe",
        "colab": {
          "base_uri": "https://localhost:8080/"
        }
      },
      "execution_count": 11,
      "outputs": [
        {
          "output_type": "execute_result",
          "data": {
            "text/plain": [
              "7.0"
            ]
          },
          "metadata": {},
          "execution_count": 11
        }
      ]
    },
    {
      "cell_type": "code",
      "source": [
        "test_values"
      ],
      "metadata": {
        "id": "txVco1pvFzlA",
        "outputId": "6f561976-c7b5-4599-de05-bc8f2d21a9d7",
        "colab": {
          "base_uri": "https://localhost:8080/"
        }
      },
      "execution_count": 12,
      "outputs": [
        {
          "output_type": "execute_result",
          "data": {
            "text/plain": [
              "[1, 2, 5, 6, 8, 12, 12, 16]"
            ]
          },
          "metadata": {},
          "execution_count": 12
        }
      ]
    },
    {
      "cell_type": "code",
      "source": [],
      "metadata": {
        "id": "VQvNVB5rGAZN"
      },
      "execution_count": null,
      "outputs": []
    },
    {
      "cell_type": "markdown",
      "source": [
        "### Mode\n",
        "\n",
        "#Mode = $L + h \\frac{(f_m - f_1)}{(f_m - f_1) + (f_m - f_2)}$"
      ],
      "metadata": {
        "id": "Cd98KHb0JLDn"
      }
    },
    {
      "cell_type": "code",
      "source": [
        "test_values"
      ],
      "metadata": {
        "id": "Lt_-igrDfYv3",
        "outputId": "934c8680-949c-4894-923f-597f6747b39e",
        "colab": {
          "base_uri": "https://localhost:8080/"
        }
      },
      "execution_count": 13,
      "outputs": [
        {
          "output_type": "execute_result",
          "data": {
            "text/plain": [
              "[1, 2, 5, 6, 8, 12, 12, 16]"
            ]
          },
          "metadata": {},
          "execution_count": 13
        }
      ]
    },
    {
      "cell_type": "code",
      "source": [
        "# in this way it would be 12, and occurs twice. We need scipy to get mode\n",
        "\n",
        "import scipy.stats as st\n",
        "st.mode(test_values)"
      ],
      "metadata": {
        "id": "kq7CfIPOMHjF",
        "outputId": "c9e133ad-ed76-46a9-a9b0-6872276c0eb5",
        "colab": {
          "base_uri": "https://localhost:8080/"
        }
      },
      "execution_count": 15,
      "outputs": [
        {
          "output_type": "stream",
          "name": "stderr",
          "text": [
            "<ipython-input-15-9d3e4b2291b2>:4: FutureWarning: Unlike other reduction functions (e.g. `skew`, `kurtosis`), the default behavior of `mode` typically preserves the axis it acts along. In SciPy 1.11.0, this behavior will change: the default value of `keepdims` will become False, the `axis` over which the statistic is taken will be eliminated, and the value None will no longer be accepted. Set `keepdims` to True or False to avoid this warning.\n",
            "  st.mode(test_values)\n"
          ]
        },
        {
          "output_type": "execute_result",
          "data": {
            "text/plain": [
              "ModeResult(mode=array([12]), count=array([2]))"
            ]
          },
          "metadata": {},
          "execution_count": 15
        }
      ]
    },
    {
      "cell_type": "code",
      "source": [
        "# mode is 12 and the count is 2"
      ],
      "metadata": {
        "id": "1hhR0IG_MZhJ"
      },
      "execution_count": null,
      "outputs": []
    },
    {
      "cell_type": "markdown",
      "source": [
        "### Standard Deviation"
      ],
      "metadata": {
        "id": "UFCHKiemJK8C"
      }
    },
    {
      "cell_type": "markdown",
      "source": [
        "*For a population*\n",
        "\n",
        "#$σ = \\sqrt{\\frac{\\Sigma(x_i - \\mu)^2}{N} }$"
      ],
      "metadata": {
        "id": "AqenjImAWzby"
      }
    },
    {
      "cell_type": "code",
      "source": [
        "pd.Series(test_values)"
      ],
      "metadata": {
        "id": "VfLCaKtQWvqU",
        "outputId": "567d6827-215f-469a-93e1-59b15ee3144c",
        "colab": {
          "base_uri": "https://localhost:8080/"
        }
      },
      "execution_count": 16,
      "outputs": [
        {
          "output_type": "execute_result",
          "data": {
            "text/plain": [
              "0     1\n",
              "1     2\n",
              "2     5\n",
              "3     6\n",
              "4     8\n",
              "5    12\n",
              "6    12\n",
              "7    16\n",
              "dtype: int64"
            ]
          },
          "metadata": {},
          "execution_count": 16
        }
      ]
    },
    {
      "cell_type": "code",
      "source": [
        "pd.Series(test_values).std()\n"
      ],
      "metadata": {
        "id": "cjEGloRcG1A2",
        "outputId": "bfa0a7b2-4908-4990-98b4-85341383571a",
        "colab": {
          "base_uri": "https://localhost:8080/"
        }
      },
      "execution_count": 17,
      "outputs": [
        {
          "output_type": "execute_result",
          "data": {
            "text/plain": [
              "5.257647491307984"
            ]
          },
          "metadata": {},
          "execution_count": 17
        }
      ]
    },
    {
      "cell_type": "markdown",
      "source": [
        "### What's the Standard Deviation For?\n",
        "The standard deviation tells us about the spread of the data set in relation to the mean. \n"
      ],
      "metadata": {
        "id": "HN8phISah5Nx"
      }
    },
    {
      "cell_type": "code",
      "source": [
        "# generate a dataset per lecture\n",
        "# run with 100 then with 1000\n",
        "distribution = np.random.normal(loc=0, scale = 5, size =100)   # avg 0 and standard spread is 5 with 100 values\n",
        "dist_sd = distribution.std()\n",
        "dist_mean = distribution.mean()\n",
        "\n",
        "sns.displot(distribution)\n",
        "plt.axvline(dist_mean - dist_sd)\n",
        "plt.axvline(dist_mean + dist_sd)"
      ],
      "metadata": {
        "id": "hi6wK54PiIFp",
        "outputId": "7dd086c3-054f-439c-b0b2-ab06d02462ab",
        "colab": {
          "base_uri": "https://localhost:8080/",
          "height": 523
        }
      },
      "execution_count": 19,
      "outputs": [
        {
          "output_type": "execute_result",
          "data": {
            "text/plain": [
              "<matplotlib.lines.Line2D at 0x7f6804987190>"
            ]
          },
          "metadata": {},
          "execution_count": 19
        },
        {
          "output_type": "display_data",
          "data": {
            "text/plain": [
              "<Figure size 500x500 with 1 Axes>"
            ],
            "image/png": "[encoded data removed]"
          },
          "metadata": {}
        }
      ]
    },
    {
      "cell_type": "code",
      "source": [
        "distribution = np.random.normal(loc=0, scale = 5, size =1000)   # avg 0 and standard spread is 5, now with 1000 values\n",
        "dist_sd = distribution.std()\n",
        "dist_mean = distribution.mean()\n",
        "\n",
        "sns.displot(distribution)\n",
        "plt.axvline(dist_mean - dist_sd)\n",
        "plt.axvline(dist_mean + dist_sd)"
      ],
      "metadata": {
        "id": "nXWF0SagnmRy",
        "outputId": "6a8b0532-b27c-4500-a360-165cef9dc383",
        "colab": {
          "base_uri": "https://localhost:8080/",
          "height": 523
        }
      },
      "execution_count": 20,
      "outputs": [
        {
          "output_type": "execute_result",
          "data": {
            "text/plain": [
              "<matplotlib.lines.Line2D at 0x7f680435cfa0>"
            ]
          },
          "metadata": {},
          "execution_count": 20
        },
        {
          "output_type": "display_data",
          "data": {
            "text/plain": [
              "<Figure size 500x500 with 1 Axes>"
            ],
            "image/png": "[encoded data removed]"
          },
          "metadata": {}
        }
      ]
    },
    {
      "cell_type": "code",
      "source": [],
      "metadata": {
        "id": "duIiemgioDCk"
      },
      "execution_count": null,
      "outputs": []
    },
    {
      "cell_type": "markdown",
      "source": [
        "# Distributions\n",
        "\n",
        "The average for an adult female height is 64 inches, while adult males have a height of 69 inches. \n",
        "\n",
        "According to the National Bureau of Economic Research, adult male height is normally distributed with a standard deviation of about 2.5 inches (6.35 cm) while female height is normally distributed with a standard deviation of about 2.2 inches (5.59 cm)\n",
        "\n",
        "Source:\n",
        "https://worldpopulationreview.com/state-rankings/average-height-by-state\n",
        "https://www.nber.org/system/files/working_papers/h0108/h0108.pdf"
      ],
      "metadata": {
        "id": "W4xlb9uRhg1f"
      }
    },
    {
      "cell_type": "code",
      "source": [
        "# for women\n",
        "distribution = np.random.normal(loc=64, scale = 2.2, size =1000)   # avg 0 and standard spread is 5 with 100 values\n",
        "dist_sd = distribution.std()\n",
        "dist_mean = distribution.mean()\n",
        "\n",
        "sns.displot(distribution)\n",
        "plt.axvline(dist_mean - dist_sd)\n",
        "plt.axvline(dist_mean + dist_sd)\n",
        "\n",
        "# most values within 1 std. almost all values within 3 stds"
      ],
      "metadata": {
        "id": "jpVvd8gYhlb7",
        "outputId": "a06d6be1-a64d-4c65-ea1c-42ed6f343b89",
        "colab": {
          "base_uri": "https://localhost:8080/",
          "height": 523
        }
      },
      "execution_count": 24,
      "outputs": [
        {
          "output_type": "execute_result",
          "data": {
            "text/plain": [
              "<matplotlib.lines.Line2D at 0x7f680403baf0>"
            ]
          },
          "metadata": {},
          "execution_count": 24
        },
        {
          "output_type": "display_data",
          "data": {
            "text/plain": [
              "<Figure size 500x500 with 1 Axes>"
            ],
            "image/png": "[encoded data removed]"
          },
          "metadata": {}
        }
      ]
    },
    {
      "cell_type": "markdown",
      "source": [
        "#Z-Score\n",
        "\n",
        "For a sample:\n",
        "#$z_i = \\frac{x_i - \\bar{x}}{s}$\n",
        "\n",
        "The standard score gives you an idea of how far from the mean a data point is, relative to the standard deviation.\n",
        "\n",
        "How tall are you? "
      ],
      "metadata": {
        "id": "W47SRb1YjJcr"
      }
    },
    {
      "cell_type": "code",
      "source": [
        "# my height is 1 std above average, so the z-score of my height is 1!"
      ],
      "metadata": {
        "id": "KWRs4D-CoXBL"
      },
      "execution_count": 28,
      "outputs": []
    },
    {
      "cell_type": "code",
      "source": [
        "dist_mean + 1* dist_sd"
      ],
      "metadata": {
        "id": "gXsAd88tltQR",
        "outputId": "0d172af0-dbb0-4fc0-8c36-e210659e9ac3",
        "colab": {
          "base_uri": "https://localhost:8080/"
        }
      },
      "execution_count": 29,
      "outputs": [
        {
          "output_type": "execute_result",
          "data": {
            "text/plain": [
              "66.09063136618656"
            ]
          },
          "metadata": {},
          "execution_count": 29
        }
      ]
    },
    {
      "cell_type": "code",
      "source": [
        "# 1 std is right at 66 inches, my height!"
      ],
      "metadata": {
        "id": "a9yRlWMEl6_s"
      },
      "execution_count": 30,
      "outputs": []
    },
    {
      "cell_type": "markdown",
      "source": [
        "## Conclusion\n",
        "There are many terms and additional concepts we will be discussing in class. Our main goal will be focusing on interpreting our results of where they may possibly be located along a particular distribution. "
      ],
      "metadata": {
        "id": "7hh0w5ZcnRuH"
      }
    }
  ]
}