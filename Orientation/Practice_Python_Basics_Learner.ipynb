{
  "nbformat": 4,
  "nbformat_minor": 0,
  "metadata": {
    "colab": {
      "provenance": [],
      "include_colab_link": true
    },
    "kernelspec": {
      "name": "python3",
      "display_name": "Python 3"
    },
    "language_info": {
      "name": "python"
    }
  },
  "cells": [
    {
      "cell_type": "markdown",
      "metadata": {
        "id": "view-in-github",
        "colab_type": "text"
      },
      "source": [
        "<a href=\"https://colab.research.google.com/github/tsangrebecca/BloomTech/blob/main/Orientation/Practice_Python_Basics_Learner.ipynb\" target=\"_parent\"><img src=\"https://colab.research.google.com/assets/colab-badge.svg\" alt=\"Open In Colab\"/></a>"
      ]
    },
    {
      "cell_type": "markdown",
      "source": [
        "# Practice: Python Basics\n",
        "\n",
        "Follow the instructions for the following tasks. If a task is completed correctly, the assert statement will show no error in your code. This notebook is for practice purposes only and does not need to be turned in. \n",
        "\n",
        "Feel free to make changes to this document. If you would like to **save** any changes, make sure to click \"Copy to Drive\" above. \n",
        "\n",
        "____"
      ],
      "metadata": {
        "id": "gj_2wZgnwfjE"
      }
    },
    {
      "cell_type": "markdown",
      "source": [
        "**Task 1:** Assign the number 100 to an object named **x**"
      ],
      "metadata": {
        "id": "b0LR41U4xeeu"
      }
    },
    {
      "cell_type": "code",
      "source": [
        "#your code here\n",
        "x = 100"
      ],
      "metadata": {
        "id": "eRhqRietxtb6"
      },
      "execution_count": 1,
      "outputs": []
    },
    {
      "cell_type": "code",
      "source": [
        "#test cells\n",
        "assert x == 100, \"Did you assign the correct value to your cell?\""
      ],
      "metadata": {
        "id": "nmQ_eAhdxvjx"
      },
      "execution_count": 2,
      "outputs": []
    },
    {
      "cell_type": "markdown",
      "source": [
        "---\n",
        "**Task 2:** Assign the string \"foobar\" to an object named **foobar_object**"
      ],
      "metadata": {
        "id": "xYDSSxJRyXUy"
      }
    },
    {
      "cell_type": "code",
      "source": [
        "#your code here\n",
        "foobar_object = \"foobar\""
      ],
      "metadata": {
        "id": "u2IJCXG_2E5c"
      },
      "execution_count": 4,
      "outputs": []
    },
    {
      "cell_type": "code",
      "source": [
        "#test cells\n",
        "assert foobar_object == 'foobar', \"Check to make sure you've assigned the value correctly. \""
      ],
      "metadata": {
        "id": "WpIeNrSp2GET"
      },
      "execution_count": 5,
      "outputs": []
    },
    {
      "cell_type": "markdown",
      "source": [
        "---\n",
        "**Task 3:** Create a list items called **my_list** with three string objects.   "
      ],
      "metadata": {
        "id": "IJGTDqCQ2SCL"
      }
    },
    {
      "cell_type": "code",
      "source": [
        "#your code here\n",
        "my_list = [\"lukey\", \"mommy\", \"daddy\"]"
      ],
      "metadata": {
        "id": "YJFAPYPB5xmY"
      },
      "execution_count": 7,
      "outputs": []
    },
    {
      "cell_type": "code",
      "source": [
        "#test cells\n",
        "assert len(my_list) == 3, \"Did you add three objects to the list?\"\n",
        "assert type(my_list[0])== str, \"Are all three objects strings?\""
      ],
      "metadata": {
        "id": "OajLF6F_585l"
      },
      "execution_count": 8,
      "outputs": []
    },
    {
      "cell_type": "markdown",
      "source": [
        "---\n",
        "**Task 4:** Create a dictionary that includes the key:value pair of  **fire, red** and **water, blue**. Assign it to a dictionary object called **my_dictionary**\n"
      ],
      "metadata": {
        "id": "yyQqpUurJK7w"
      }
    },
    {
      "cell_type": "code",
      "source": [
        "#your code here\n",
        "my_dictionary = {\"fire\": \"red\", \"water\": \"blue\"}"
      ],
      "metadata": {
        "id": "p4-oyBBEKf8h"
      },
      "execution_count": 9,
      "outputs": []
    },
    {
      "cell_type": "code",
      "source": [
        "#test cells\n",
        "assert len(my_dictionary.values()) == 2, 'Make sure your syntax for the dictionary includes a {}.'"
      ],
      "metadata": {
        "id": "KBm_YgTTKtAC"
      },
      "execution_count": 10,
      "outputs": []
    },
    {
      "cell_type": "markdown",
      "source": [
        "---\n",
        "**Task 5:** Build a function called **my_multiplier()** that returns the product of two values. "
      ],
      "metadata": {
        "id": "TYQV2BvuLJs6"
      }
    },
    {
      "cell_type": "code",
      "source": [
        "#your code here\n",
        "def my_multiplier(num1, num2):\n",
        "  return num1*num2\n"
      ],
      "metadata": {
        "id": "hU9gr_ekKxbx"
      },
      "execution_count": 11,
      "outputs": []
    },
    {
      "cell_type": "code",
      "source": [
        "my_multiplier(2, 6)"
      ],
      "metadata": {
        "id": "Q3zbWg7aw9_6",
        "outputId": "d0cff4aa-ced4-4380-a141-e2b9990afd2d",
        "colab": {
          "base_uri": "https://localhost:8080/"
        }
      },
      "execution_count": 13,
      "outputs": [
        {
          "output_type": "execute_result",
          "data": {
            "text/plain": [
              "12"
            ]
          },
          "metadata": {},
          "execution_count": 13
        }
      ]
    },
    {
      "cell_type": "code",
      "source": [
        "my_multiplier(5, 4)"
      ],
      "metadata": {
        "id": "m1JtcKFUxFmc",
        "outputId": "f746c512-f027-4054-ec47-8bd9f6f4fc59",
        "colab": {
          "base_uri": "https://localhost:8080/"
        }
      },
      "execution_count": 14,
      "outputs": [
        {
          "output_type": "execute_result",
          "data": {
            "text/plain": [
              "20"
            ]
          },
          "metadata": {},
          "execution_count": 14
        }
      ]
    },
    {
      "cell_type": "markdown",
      "source": [],
      "metadata": {
        "id": "dPzEUweTxD2x"
      }
    },
    {
      "cell_type": "code",
      "source": [
        "assert my_multiplier(2, 5) == 10, \"Check the syntax of your function.\"\n",
        "assert my_multiplier(0, 100) == 0, \"Check the syntax of your function.\"\n",
        "assert my_multiplier(.5, 10) == 5, \"Check the syntax of your function.\""
      ],
      "metadata": {
        "id": "zvXE3yQ-Loew"
      },
      "execution_count": 12,
      "outputs": []
    },
    {
      "cell_type": "code",
      "source": [],
      "metadata": {
        "id": "TgJznewRL0HL"
      },
      "execution_count": null,
      "outputs": []
    }
  ]
}