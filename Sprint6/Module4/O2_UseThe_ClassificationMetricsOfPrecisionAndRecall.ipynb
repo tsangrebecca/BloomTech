{
  "nbformat": 4,
  "nbformat_minor": 0,
  "metadata": {
    "colab": {
      "provenance": [],
      "authorship_tag": "ABX9TyOs+vNdFjsk2qqHNTQVQu/S",
      "include_colab_link": true
    },
    "kernelspec": {
      "name": "python3",
      "display_name": "Python 3"
    },
    "language_info": {
      "name": "python"
    }
  },
  "cells": [
    {
      "cell_type": "markdown",
      "metadata": {
        "id": "view-in-github",
        "colab_type": "text"
      },
      "source": [
        "<a href=\"https://colab.research.google.com/github/tsangrebecca/BloomTech/blob/main/Sprint6/Module4/O2_UseThe_ClassificationMetricsOfPrecisionAndRecall.ipynb\" target=\"_parent\"><img src=\"https://colab.research.google.com/assets/colab-badge.svg\" alt=\"Open In Colab\"/></a>"
      ]
    },
    {
      "cell_type": "markdown",
      "source": [
        "#Precision\n",
        "Precision is the portion of positive classifications that were actually correct.\n",
        "\n",
        "Precision = True Positive / (True Pos + False Pos)\n",
        "\n",
        "The portion of time you say it's Yes and it's actually a Yes!\n",
        "***Remember: Precision - just look at the Positive calls or Predictions***"
      ],
      "metadata": {
        "id": "MAadP4WmPaEl"
      }
    },
    {
      "cell_type": "markdown",
      "source": [
        "# Recall\n",
        "Recall is the portion of actual positives that were identified correctly.\n",
        "\n",
        "Recall = True Positive / (True Pos + False Neg)\n",
        "\n",
        "False Neg means Actual Pos but identified wrong.\n",
        "Recall is the portion of identifying correctly with positives, kinda like accuracy.\n",
        "***Remember: Recall the Truth (of Positive column)***"
      ],
      "metadata": {
        "id": "H0fzkEo0R3RI"
      }
    },
    {
      "cell_type": "markdown",
      "source": [
        "# General Notes:\n",
        "- There is a balance between precision and recall. One goes up the other goes down.\n",
        "- e.g. If we reduce the number of False Pos to increase our precision, aka we call less people being sick when they are not, we increase the False Negs, aka we call more people being not sick when they are. (If we are pulling back and being more conservative about calling people sick all the time when they are not, we might actually miss calling them sick when they actually are.)"
      ],
      "metadata": {
        "id": "I2vMJp1hSDzO"
      }
    },
    {
      "cell_type": "markdown",
      "source": [
        "# F1 Score or F-Score\n",
        "F1 = 2 x ((precision * recall) / (precision + recall))"
      ],
      "metadata": {
        "id": "AFG2X4KtW5VW"
      }
    },
    {
      "cell_type": "code",
      "source": [
        "# Import necessary modules\n",
        "import numpy as np\n",
        "import pandas as pd\n",
        "\n",
        "from sklearn import datasets, metrics\n",
        "from sklearn.model_selection import train_test_split\n",
        "from sklearn.tree import DecisionTreeClassifier\n",
        "from sklearn.metrics import ConfusionMatrixDisplay"
      ],
      "metadata": {
        "id": "3ll6WD4iXtTD"
      },
      "execution_count": 3,
      "outputs": []
    },
    {
      "cell_type": "code",
      "source": [
        "# Load the digits data\n",
        "\n",
        "# Use the first four digits (0-3)\n",
        "digits = datasets.load_digits(n_class=4)\n",
        "\n",
        "# Create the feature, target\n",
        "X = digits.data\n",
        "y = digits.target\n",
        "\n",
        "# Split the data into a training set and a test set\n",
        "X_train, X_test, y_train, y_test = train_test_split(X, y, random_state=0)\n",
        "\n",
        "# Instantiate and train a decision tree classifier\n",
        "dt_classifier = DecisionTreeClassifier(max_depth=3).fit(X_train, y_train)"
      ],
      "metadata": {
        "id": "zlYOJQ7SX3JF"
      },
      "execution_count": 4,
      "outputs": []
    },
    {
      "cell_type": "code",
      "source": [
        "# Plot the decision matrix\n",
        "import matplotlib.pyplot as plt\n",
        "\n",
        "fig, ax = plt.subplots(1,1,figsize=(8,8))\n",
        "\n",
        "#plot the confusion matrix\n",
        "\n",
        "import matplotlib.pyplot as plt\n",
        "ConfusionMatrixDisplay.from_estimator(dt_classifier, X_test, y_test)\n",
        "plt.show()"
      ],
      "metadata": {
        "colab": {
          "base_uri": "https://localhost:8080/",
          "height": 1000
        },
        "id": "J8ZZCVY4X5aI",
        "outputId": "d2cd5dd2-1b0a-4e30-9ed8-e9a426d66ba0"
      },
      "execution_count": 5,
      "outputs": [
        {
          "output_type": "display_data",
          "data": {
            "text/plain": [
              "<Figure size 800x800 with 1 Axes>"
            ],
            "image/png": "[encoded data removed]"
          },
          "metadata": {}
        },
        {
          "output_type": "display_data",
          "data": {
            "text/plain": [
              "<Figure size 640x480 with 2 Axes>"
            ],
            "image/png": "[encoded data removed]"
          },
          "metadata": {}
        }
      ]
    },
    {
      "cell_type": "code",
      "source": [
        "# we don't need to actually calculate F-score ourselves, just use the scikitlearn classification_report function\n",
        "y_pred = dt_classifier.predict(X_test)\n",
        "print (metrics.classification_report(y_test, y_pred))"
      ],
      "metadata": {
        "colab": {
          "base_uri": "https://localhost:8080/"
        },
        "id": "IT4mU2PeYmmF",
        "outputId": "6bcccd1b-4458-4781-af7a-234a5af898ca"
      },
      "execution_count": 6,
      "outputs": [
        {
          "output_type": "stream",
          "name": "stdout",
          "text": [
            "              precision    recall  f1-score   support\n",
            "\n",
            "           0       1.00      1.00      1.00        46\n",
            "           1       0.94      0.98      0.96        45\n",
            "           2       0.88      0.90      0.89        48\n",
            "           3       0.95      0.88      0.91        41\n",
            "\n",
            "    accuracy                           0.94       180\n",
            "   macro avg       0.94      0.94      0.94       180\n",
            "weighted avg       0.94      0.94      0.94       180\n",
            "\n"
          ]
        }
      ]
    }
  ]
}