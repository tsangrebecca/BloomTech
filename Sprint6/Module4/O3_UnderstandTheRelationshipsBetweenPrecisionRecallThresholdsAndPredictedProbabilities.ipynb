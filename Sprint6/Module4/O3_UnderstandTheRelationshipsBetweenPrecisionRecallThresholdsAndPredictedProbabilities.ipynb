{
  "nbformat": 4,
  "nbformat_minor": 0,
  "metadata": {
    "colab": {
      "provenance": [],
      "authorship_tag": "ABX9TyPqhcLRSd8JGh+W7aIxsGKY",
      "include_colab_link": true
    },
    "kernelspec": {
      "name": "python3",
      "display_name": "Python 3"
    },
    "language_info": {
      "name": "python"
    }
  },
  "cells": [
    {
      "cell_type": "markdown",
      "metadata": {
        "id": "view-in-github",
        "colab_type": "text"
      },
      "source": [
        "<a href=\"https://colab.research.google.com/github/tsangrebecca/BloomTech/blob/main/Sprint6/Module4/O3_UnderstandTheRelationshipsBetweenPrecisionRecallThresholdsAndPredictedProbabilities.ipynb\" target=\"_parent\"><img src=\"https://colab.research.google.com/assets/colab-badge.svg\" alt=\"Open In Colab\"/></a>"
      ]
    },
    {
      "cell_type": "markdown",
      "source": [
        "By default, the classification threshold is 0.5 in sklearn, which is the value at which we decide if an observation belongs in one class or another."
      ],
      "metadata": {
        "id": "kRos8M6Pbw-p"
      }
    },
    {
      "cell_type": "code",
      "source": [
        "# Load modules\n",
        "from sklearn.datasets import make_classification\n",
        "from sklearn.linear_model import LogisticRegression\n",
        "from sklearn.model_selection import train_test_split\n",
        "\n",
        "# Create the data (feature, target)\n",
        "X, y = make_classification(n_samples=10000, n_features=5,\n",
        "                          n_classes=2, n_informative=3,\n",
        "                          random_state=42)\n",
        "\n",
        "# Split the data into a training set and a test set\n",
        "X_train, X_test, y_train, y_test = train_test_split(X, y, random_state=42)\n",
        "\n",
        "# Create and fit the model\n",
        "logreg_classifier = LogisticRegression().fit(X_train, y_train)"
      ],
      "metadata": {
        "id": "eRJ6MPeocSE7"
      },
      "execution_count": 1,
      "outputs": []
    },
    {
      "cell_type": "code",
      "source": [
        "# The value of the 10th observation\n",
        "print('The 10th observation: ', X_test[10:11])\n",
        "# Print out the probability for the 10th observation\n",
        "print('Predicted probability for the 10th observation: ',\n",
        "      logreg_classifier.predict_proba(X_test)[10:11])\n",
        "# Print the two classes\n",
        "print('The two classes: ')\n",
        "logreg_classifier.classes_"
      ],
      "metadata": {
        "colab": {
          "base_uri": "https://localhost:8080/"
        },
        "id": "q6PyP_jKcS1B",
        "outputId": "db2b9c81-b60b-4338-f508-e0146e73a757"
      },
      "execution_count": 2,
      "outputs": [
        {
          "output_type": "stream",
          "name": "stdout",
          "text": [
            "The 10th observation:  [[-0.73552378  1.05914888 -0.60278934 -0.32282208  0.55717004]]\n",
            "Predicted probability for the 10th observation:  [[0.73592057 0.26407943]]\n",
            "The two classes: \n"
          ]
        },
        {
          "output_type": "execute_result",
          "data": {
            "text/plain": [
              "array([0, 1])"
            ]
          },
          "metadata": {},
          "execution_count": 2
        }
      ]
    },
    {
      "cell_type": "code",
      "source": [
        "# Check the class of the 10th observation\n",
        "logreg_classifier.predict(X_test[10:11])"
      ],
      "metadata": {
        "colab": {
          "base_uri": "https://localhost:8080/"
        },
        "id": "7RAQsAcRcbgy",
        "outputId": "6088db9d-246f-4a9d-9caa-46288e29775c"
      },
      "execution_count": 3,
      "outputs": [
        {
          "output_type": "execute_result",
          "data": {
            "text/plain": [
              "array([0])"
            ]
          },
          "metadata": {},
          "execution_count": 3
        }
      ]
    },
    {
      "cell_type": "code",
      "source": [],
      "metadata": {
        "id": "-Xb9ADZtcmf1"
      },
      "execution_count": null,
      "outputs": []
    }
  ]
}