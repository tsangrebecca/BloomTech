{
  "nbformat": 4,
  "nbformat_minor": 0,
  "metadata": {
    "colab": {
      "provenance": [],
      "authorship_tag": "ABX9TyN4tt5KSTYaiffSKR0E6vqF",
      "include_colab_link": true
    },
    "kernelspec": {
      "name": "python3",
      "display_name": "Python 3"
    },
    "language_info": {
      "name": "python"
    }
  },
  "cells": [
    {
      "cell_type": "markdown",
      "metadata": {
        "id": "view-in-github",
        "colab_type": "text"
      },
      "source": [
        "<a href=\"https://colab.research.google.com/github/tsangrebecca/BloomTech/blob/main/Sprint6/Module3/O1_ImplementCrossValidationWithIndependentTestSet.ipynb\" target=\"_parent\"><img src=\"https://colab.research.google.com/assets/colab-badge.svg\" alt=\"Open In Colab\"/></a>"
      ]
    },
    {
      "cell_type": "code",
      "execution_count": 1,
      "metadata": {
        "id": "QQXkVICWS-rj"
      },
      "outputs": [],
      "source": [
        "# Import libraries\n",
        "import numpy as np\n",
        "from sklearn import datasets\n",
        "from sklearn.model_selection import KFold, cross_val_score\n",
        "from sklearn.pipeline import make_pipeline\n",
        "from sklearn.linear_model import LogisticRegression\n",
        "from sklearn.preprocessing import StandardScaler"
      ]
    },
    {
      "cell_type": "code",
      "source": [
        "# Load the digits data\n",
        "\n",
        "# The deafult with 10 classes (digits 0-9)\n",
        "digits = datasets.load_digits(n_class=10)\n",
        "\n",
        "# Create the feature matrix\n",
        "features = digits.data\n",
        "print('The shape of the feature matrix: ', features.shape)\n",
        "\n",
        "# Create the target array\n",
        "target = digits.target\n",
        "print('The shape of the target array: ', target.shape)\n",
        "print('The unique classes in the target: ', np.unique(target))"
      ],
      "metadata": {
        "colab": {
          "base_uri": "https://localhost:8080/"
        },
        "id": "3hyfmXDMTuqq",
        "outputId": "6bbe3e6b-80e6-4680-8774-7e83d78c7d54"
      },
      "execution_count": 2,
      "outputs": [
        {
          "output_type": "stream",
          "name": "stdout",
          "text": [
            "The shape of the feature matrix:  (1797, 64)\n",
            "The shape of the target array:  (1797,)\n",
            "The unique classes in the target:  [0 1 2 3 4 5 6 7 8 9]\n"
          ]
        }
      ]
    },
    {
      "cell_type": "code",
      "source": [
        "# Instantiate the standardizier\n",
        "standardizer = StandardScaler()\n",
        "\n",
        "# Instantiate the classifier\n",
        "logreg = LogisticRegression(max_iter=150)\n",
        "\n",
        "# Create the pipeline\n",
        "pipeline = make_pipeline(standardizer, logreg)\n",
        "\n",
        "# Instantiate the k-fold cross-validation\n",
        "kfold_cv = KFold(n_splits=5, shuffle=True, random_state=11)"
      ],
      "metadata": {
        "id": "kQPh3HBgTxz2"
      },
      "execution_count": 3,
      "outputs": []
    },
    {
      "cell_type": "code",
      "source": [
        "# Fit the model using k-fold cross-validation\n",
        "cv_scores = cross_val_score(pipeline, features, target,\n",
        "                           cv=kfold_cv, scoring='accuracy')"
      ],
      "metadata": {
        "id": "ACuh2bUKT4h5"
      },
      "execution_count": 4,
      "outputs": []
    },
    {
      "cell_type": "code",
      "source": [
        "# Print the mean score\n",
        "print('All cv scores: ', cv_scores)\n",
        "\n",
        "# Print the mean score\n",
        "print('Mean of all cv scores: ', cv_scores.mean())"
      ],
      "metadata": {
        "colab": {
          "base_uri": "https://localhost:8080/"
        },
        "id": "ajn6EXQ5T9VF",
        "outputId": "5ee1053f-9d14-4b45-eff7-8ed3b29abbfb"
      },
      "execution_count": 5,
      "outputs": [
        {
          "output_type": "stream",
          "name": "stdout",
          "text": [
            "All cv scores:  [0.97222222 0.96944444 0.95543175 0.97493036 0.98050139]\n",
            "Mean of all cv scores:  0.9705060352831941\n"
          ]
        }
      ]
    },
    {
      "cell_type": "code",
      "source": [],
      "metadata": {
        "id": "CNUwxA0XUACv"
      },
      "execution_count": null,
      "outputs": []
    }
  ]
}