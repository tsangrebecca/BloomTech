{
  "nbformat": 4,
  "nbformat_minor": 0,
  "metadata": {
    "colab": {
      "provenance": [],
      "authorship_tag": "ABX9TyOCCDVYp6e1PFtKReOjdslq",
      "include_colab_link": true
    },
    "kernelspec": {
      "name": "python3",
      "display_name": "Python 3"
    },
    "language_info": {
      "name": "python"
    }
  },
  "cells": [
    {
      "cell_type": "markdown",
      "metadata": {
        "id": "view-in-github",
        "colab_type": "text"
      },
      "source": [
        "<a href=\"https://colab.research.google.com/github/tsangrebecca/BloomTech/blob/main/Sprint6/Module2/O2_ImplementOrdinalEncodingWithHigh_CardinalityCategoricals.ipynb\" target=\"_parent\"><img src=\"https://colab.research.google.com/assets/colab-badge.svg\" alt=\"Open In Colab\"/></a>"
      ]
    },
    {
      "cell_type": "code",
      "execution_count": 1,
      "metadata": {
        "id": "hx-eIvPr4X-h"
      },
      "outputs": [],
      "source": [
        "# Imports\n",
        "import numpy as np\n",
        "import pandas as pd\n",
        "\n",
        "# Create the DataFrame\n",
        "df = pd.DataFrame({\n",
        "    'color':[\"a\", \"c\", \"a\", \"a\", \"b\", \"b\", \"d\", \"d\", \"c\"],\n",
        "    'outcome':[1, 2, 0, 0, 1, 1, 3, 3, 2]})\n",
        "\n",
        "# set up X and y\n",
        "X = df.drop('outcome', axis = 1)\n",
        "y = df.drop('color', axis = 1)"
      ]
    },
    {
      "cell_type": "markdown",
      "source": [
        "Basically label encoding and ordinal encoding mean assigning a number to a category, so a is 1, b is 2, c is 3, etc."
      ],
      "metadata": {
        "id": "5xYz7UdD532r"
      }
    },
    {
      "cell_type": "code",
      "source": [
        "# Label encoding\n",
        "from sklearn.preprocessing import LabelEncoder\n",
        "\n",
        "label_enc = LabelEncoder()\n",
        "encoded = label_enc.fit_transform(np.ravel(X))\n",
        "\n",
        "print(\"\\n The result of transforming X with LabelEncoder:\")\n",
        "print(encoded)\n",
        "print(type(encoded))"
      ],
      "metadata": {
        "colab": {
          "base_uri": "https://localhost:8080/"
        },
        "id": "kYi_0RGr5dA1",
        "outputId": "e800fb25-b557-44b7-975f-8775890509d8"
      },
      "execution_count": 2,
      "outputs": [
        {
          "output_type": "stream",
          "name": "stdout",
          "text": [
            "\n",
            " The result of transforming X with LabelEncoder:\n",
            "[0 2 0 0 1 1 3 3 2]\n",
            "<class 'numpy.ndarray'>\n"
          ]
        }
      ]
    },
    {
      "cell_type": "code",
      "source": [
        "# Ordinal encoding\n",
        "from sklearn.preprocessing import OrdinalEncoder\n",
        "\n",
        "ordinal_enc = OrdinalEncoder()\n",
        "ordinal_enc.fit_transform(X, y['outcome'])"
      ],
      "metadata": {
        "colab": {
          "base_uri": "https://localhost:8080/"
        },
        "id": "1x2QDPg45svR",
        "outputId": "5bd952f1-ff3b-4721-8082-26f39e30052e"
      },
      "execution_count": 3,
      "outputs": [
        {
          "output_type": "execute_result",
          "data": {
            "text/plain": [
              "array([[0.],\n",
              "       [2.],\n",
              "       [0.],\n",
              "       [0.],\n",
              "       [1.],\n",
              "       [1.],\n",
              "       [3.],\n",
              "       [3.],\n",
              "       [2.]])"
            ]
          },
          "metadata": {},
          "execution_count": 3
        }
      ]
    }
  ]
}