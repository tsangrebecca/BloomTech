{
  "nbformat": 4,
  "nbformat_minor": 0,
  "metadata": {
    "colab": {
      "provenance": [],
      "authorship_tag": "ABX9TyN1PoSOKp0SAugGiphsWgUT",
      "include_colab_link": true
    },
    "kernelspec": {
      "name": "python3",
      "display_name": "Python 3"
    },
    "language_info": {
      "name": "python"
    }
  },
  "cells": [
    {
      "cell_type": "markdown",
      "metadata": {
        "id": "view-in-github",
        "colab_type": "text"
      },
      "source": [
        "<a href=\"https://colab.research.google.com/github/tsangrebecca/BloomTech/blob/main/Sprint9/S9M2O2_WriteStylisticPEP8PythonCode.ipynb\" target=\"_parent\"><img src=\"https://colab.research.google.com/assets/colab-badge.svg\" alt=\"Open In Colab\"/></a>"
      ]
    },
    {
      "cell_type": "code",
      "execution_count": null,
      "metadata": {
        "id": "DQrMVPtZL3I3"
      },
      "outputs": [],
      "source": [
        "import math\n",
        "import sys\n",
        "\n",
        "\n",
        "def example1():\n",
        "    # This is a long comment. This should be wrapped to fit within 72\n",
        "    # characters.\n",
        "    some_tuple = (1, 2, 3, 'a')\n",
        "    some_variable = {\n",
        "        'long': 'Long code lines should be wrapped within 79 characters.',\n",
        "        'other': [\n",
        "            math.pi,\n",
        "            100,\n",
        "            200,\n",
        "            300,\n",
        "            9876543210,\n",
        "            'This is a long string that goes on'],\n",
        "        'more': {\n",
        "            'inner': 'This whole logical line should be wrapped.',\n",
        "            some_tuple: [\n",
        "                1,\n",
        "                20,\n",
        "                300,\n",
        "                40000,\n",
        "                500000000,\n",
        "                60000000000000000]}}\n",
        "    return (some_tuple, some_variable)\n",
        "\n",
        "\n",
        "def example2(): return ('' in {'f': 2}) in {'has_key() is deprecated': True}\n",
        "\n",
        "\n",
        "class Example3(object):\n",
        "    def __init__(self, bar):\n",
        "        # Comments should have a space after the hash.\n",
        "        if bar:\n",
        "            bar += 1\n",
        "            bar = bar * bar\n",
        "            return bar\n",
        "        else:\n",
        "            some_string = \"\"\"\n",
        "                       Indentation in multiline strings should not be touched.\n",
        "Only actual code should be reindented.\n",
        "\"\"\"\n",
        "            return (sys.path, some_string)"
      ]
    }
  ]
}