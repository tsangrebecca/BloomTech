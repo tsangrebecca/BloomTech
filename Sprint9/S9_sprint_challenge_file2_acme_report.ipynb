{
  "nbformat": 4,
  "nbformat_minor": 0,
  "metadata": {
    "colab": {
      "provenance": [],
      "authorship_tag": "ABX9TyMH7KLZwTkctDneyW45JycN",
      "include_colab_link": true
    },
    "kernelspec": {
      "name": "python3",
      "display_name": "Python 3"
    },
    "language_info": {
      "name": "python"
    }
  },
  "cells": [
    {
      "cell_type": "markdown",
      "metadata": {
        "id": "view-in-github",
        "colab_type": "text"
      },
      "source": [
        "<a href=\"https://colab.research.google.com/github/tsangrebecca/BloomTech/blob/main/Sprint9/S9_sprint_challenge_file2_acme_report.ipynb\" target=\"_parent\"><img src=\"https://colab.research.google.com/assets/colab-badge.svg\" alt=\"Open In Colab\"/></a>"
      ]
    },
    {
      "cell_type": "code",
      "execution_count": null,
      "metadata": {
        "id": "GK8_Kkmvxdva"
      },
      "outputs": [],
      "source": [
        "import random\n",
        "\n",
        "\"\"\"\n",
        "Useful to use with random.sample or random.choice to generate names\n",
        "\"\"\"\n",
        "ADJECTIVES = ['Awesome', 'Shiny', 'Impressive', 'Portable', 'Improved']\n",
        "NOUNS = ['Anvil', 'Catapult', 'Disguise', 'Mousetrap', '???']\n",
        "\n",
        "\n",
        "def generate_products(num_products=30):\n",
        "    \"\"\"\n",
        "    randomly generate a given number of products (default 30), and return them as a list\n",
        "    \"\"\"\n",
        "    products = []\n",
        "    price_list = []\n",
        "    weight_list = []\n",
        "    flam_list = []\n",
        "\n",
        "    for i in range(num_products):\n",
        "\n",
        "        random_adjective = random.choice(ADJECTIVES)\n",
        "        random_noun = random.choice(NOUNS)\n",
        "        name = random_adjective + ' ' + random_noun\n",
        "        products.append(name)\n",
        "\n",
        "        price = random.randint(5, 100)\n",
        "        price_list.append(price)\n",
        "\n",
        "        weight = random.randint(5, 100)\n",
        "        weight_list.append(weight)\n",
        "\n",
        "        flammability = random.uniform(0.0, 2.5)\n",
        "        flam_list.append(flammability)\n",
        "\n",
        "    return products, price_list, weight_list, flam_list\n",
        "\n",
        "\n",
        "def inventory_report(products, price_list, weight_list, flam_list):\n",
        "    \"\"\"\n",
        "    takes a list of products, and returns a tuple that holds some basic statistics about the list of products\n",
        "    Number of unique product names in the product list\n",
        "    Average (mean) price\n",
        "    Average (mean) weight\n",
        "    Average (mean) flammability\n",
        "    \"\"\"\n",
        "    my_set = set(products)\n",
        "\n",
        "    avg_price = sum(price_list) / len(price_list)\n",
        "    avg_weight = sum(weight_list) / len(weight_list)\n",
        "    avg_flam = sum(flam_list) / len(flam_list)\n",
        "\n",
        "    return (len(my_set), avg_price, avg_weight, avg_flam)\n",
        "\n",
        "\n",
        "if __name__ == '__main__':\n",
        "    # print(generate_products())\n",
        "    generated_products = generate_products()\n",
        "    print(inventory_report(*generated_products))\n"
      ]
    }
  ]
}