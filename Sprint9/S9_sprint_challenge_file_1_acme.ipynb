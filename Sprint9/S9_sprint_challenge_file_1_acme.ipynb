{
  "nbformat": 4,
  "nbformat_minor": 0,
  "metadata": {
    "colab": {
      "provenance": [],
      "authorship_tag": "ABX9TyN6DTXSf6VzNvS5ssU/+K6D",
      "include_colab_link": true
    },
    "kernelspec": {
      "name": "python3",
      "display_name": "Python 3"
    },
    "language_info": {
      "name": "python"
    }
  },
  "cells": [
    {
      "cell_type": "markdown",
      "metadata": {
        "id": "view-in-github",
        "colab_type": "text"
      },
      "source": [
        "<a href=\"https://colab.research.google.com/github/tsangrebecca/BloomTech/blob/main/Sprint9/S9_sprint_challenge_file_1_acme.ipynb\" target=\"_parent\"><img src=\"https://colab.research.google.com/assets/colab-badge.svg\" alt=\"Open In Colab\"/></a>"
      ]
    },
    {
      "cell_type": "code",
      "execution_count": null,
      "metadata": {
        "id": "2KN61heZsMtc"
      },
      "outputs": [],
      "source": [
        "import random\n",
        "import pytest\n",
        "\n",
        "\"\"\"\n",
        "Creating a Class with the following attributes\n",
        "\"\"\"\n",
        "\n",
        "\n",
        "class Product:\n",
        "    \"\"\"\n",
        "    5 attributes\n",
        "    \"\"\"\n",
        "\n",
        "    def __init__(self, name, price=10, weight=20, flammability=0.5):\n",
        "        self.name = name\n",
        "        self.price = price\n",
        "        self.weight = weight\n",
        "        self.flammability = flammability\n",
        "        self.identifier = random.randint(1000000, 9999999)\n",
        "\n",
        "    def stealability(self):\n",
        "        \"\"\"\n",
        "        calculates the price divided by the weight, and then returns a message\n",
        "        \"\"\"\n",
        "        ratio = self.price / self.weight\n",
        "\n",
        "        if ratio < 0.5:\n",
        "            return \"Not so stealable...\"\n",
        "        if ratio == 0.5 or (ratio > 0.5 and ratio < 1.0):\n",
        "            return \"Kinda stealable.\"\n",
        "        else:\n",
        "            return \"Very stealable!\"\n",
        "\n",
        "    def explode(self):\n",
        "        \"\"\"\n",
        "        calculates the flammability times the weight, and then returns a message:\n",
        "        \"\"\"\n",
        "        result = self.flammability * self.weight\n",
        "\n",
        "        if result < 10:\n",
        "            return \"...fizzle.\"\n",
        "        if result == 10 or (result > 10 and result < 50):\n",
        "            return \"...boom!\"\n",
        "        else:\n",
        "            return \"...BABOOM!!\"\n",
        "\n",
        "\n",
        "class BoxingGlove(Product):\n",
        "    \"\"\"\n",
        "    Child class that inherits from Product class\n",
        "    \"\"\"\n",
        "\n",
        "    def __init__(self, name, price=10, weight=10, flammability=0.5):\n",
        "\n",
        "        super().__init__(name, price=10, weight=10, flammability=0.5)\n",
        "\n",
        "    def explode(self):\n",
        "        \"\"\"\n",
        "        always return \"...it's a glove.\n",
        "        \"\"\"\n",
        "        return \"...it's a glove.\"\n",
        "\n",
        "    def punch(self):\n",
        "\n",
        "        if self.weight < 5:\n",
        "            return \"That tickles.\"\n",
        "        if self.weight >= 5 and self.weight < 15:\n",
        "            return \"Hey that hurt!\"\n",
        "        else:\n",
        "            return \"OUCH!\"\n"
      ]
    }
  ]
}