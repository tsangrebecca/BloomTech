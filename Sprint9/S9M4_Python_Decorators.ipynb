{
  "nbformat": 4,
  "nbformat_minor": 0,
  "metadata": {
    "colab": {
      "provenance": [],
      "authorship_tag": "ABX9TyNV6HSSZKUKn+Ja5palE6BY",
      "include_colab_link": true
    },
    "kernelspec": {
      "name": "python3",
      "display_name": "Python 3"
    },
    "language_info": {
      "name": "python"
    }
  },
  "cells": [
    {
      "cell_type": "markdown",
      "metadata": {
        "id": "view-in-github",
        "colab_type": "text"
      },
      "source": [
        "<a href=\"https://colab.research.google.com/github/tsangrebecca/BloomTech/blob/main/Sprint9/S9M4_Python_Decorators.ipynb\" target=\"_parent\"><img src=\"https://colab.research.google.com/assets/colab-badge.svg\" alt=\"Open In Colab\"/></a>"
      ]
    },
    {
      "cell_type": "code",
      "execution_count": null,
      "metadata": {
        "id": "X61dCzr9rMka"
      },
      "outputs": [],
      "source": [
        "def say_hello(name):\n",
        "  return f\"Hello {name}!\"\n",
        "\n",
        "def be_awesome(name):\n",
        "  return f\"{name} is awesome.\""
      ]
    },
    {
      "cell_type": "code",
      "source": [
        "def greeting_bob(func):\n",
        "  return func(\"Bob\")"
      ],
      "metadata": {
        "id": "o1oXr2Abrh6Q"
      },
      "execution_count": null,
      "outputs": []
    },
    {
      "cell_type": "code",
      "source": [
        "say_hello(\"bob\")"
      ],
      "metadata": {
        "colab": {
          "base_uri": "https://localhost:8080/",
          "height": 36
        },
        "id": "MuHRL9vdr3DY",
        "outputId": "c989c143-abf1-4bc1-c22b-b347d44249e2"
      },
      "execution_count": null,
      "outputs": [
        {
          "output_type": "execute_result",
          "data": {
            "text/plain": [
              "'Hello bob!'"
            ],
            "application/vnd.google.colaboratory.intrinsic+json": {
              "type": "string"
            }
          },
          "metadata": {},
          "execution_count": 3
        }
      ]
    },
    {
      "cell_type": "code",
      "source": [
        "be_awesome(\"bob\")"
      ],
      "metadata": {
        "colab": {
          "base_uri": "https://localhost:8080/",
          "height": 36
        },
        "id": "aKEFvcA_r6C9",
        "outputId": "f38643f5-7ad3-4250-a3bc-1118869b3a41"
      },
      "execution_count": null,
      "outputs": [
        {
          "output_type": "execute_result",
          "data": {
            "text/plain": [
              "'bob is awesome.'"
            ],
            "application/vnd.google.colaboratory.intrinsic+json": {
              "type": "string"
            }
          },
          "metadata": {},
          "execution_count": 4
        }
      ]
    },
    {
      "cell_type": "code",
      "source": [
        "greeting_bob(say_hello)"
      ],
      "metadata": {
        "colab": {
          "base_uri": "https://localhost:8080/",
          "height": 36
        },
        "id": "bCRm99pFr8UA",
        "outputId": "e0101fa7-03ce-418d-cfed-7b31a8a8f666"
      },
      "execution_count": null,
      "outputs": [
        {
          "output_type": "execute_result",
          "data": {
            "text/plain": [
              "'Hello Bob!'"
            ],
            "application/vnd.google.colaboratory.intrinsic+json": {
              "type": "string"
            }
          },
          "metadata": {},
          "execution_count": 5
        }
      ]
    },
    {
      "cell_type": "code",
      "source": [
        "greeting_bob(be_awesome)"
      ],
      "metadata": {
        "colab": {
          "base_uri": "https://localhost:8080/",
          "height": 36
        },
        "id": "kXoD30masAKf",
        "outputId": "5eaea408-c053-4c2b-a70d-b5ebc819936b"
      },
      "execution_count": null,
      "outputs": [
        {
          "output_type": "execute_result",
          "data": {
            "text/plain": [
              "'Bob is awesome.'"
            ],
            "application/vnd.google.colaboratory.intrinsic+json": {
              "type": "string"
            }
          },
          "metadata": {},
          "execution_count": 6
        }
      ]
    },
    {
      "cell_type": "code",
      "source": [
        "def my_decorator(my_func):\n",
        "  # wrapper adds functionality before and after the function and then\n",
        "  #    is returned from the function\n",
        "  def wrapper():\n",
        "    print(\"This happens before the function.\")\n",
        "    my_func()\n",
        "    print(\"This happens after the function.\")\n",
        "  return wrapper\n",
        "\n",
        "def my_func():\n",
        "  print(\"Stuff my function does.\")\n",
        "\n",
        "decorated_func = my_decorator(my_func)\n",
        "\n",
        "decorated_func()"
      ],
      "metadata": {
        "colab": {
          "base_uri": "https://localhost:8080/"
        },
        "id": "3cq3aWC9sCaP",
        "outputId": "b0c0267a-fdb2-4931-b447-801b36d941e7"
      },
      "execution_count": null,
      "outputs": [
        {
          "output_type": "stream",
          "name": "stdout",
          "text": [
            "This happens before the function.\n",
            "Stuff my function does.\n",
            "This happens after the function.\n"
          ]
        }
      ]
    },
    {
      "cell_type": "code",
      "source": [
        "# instead of writing the wrapper function, we can just use @\n",
        "\n",
        "@my_decorator\n",
        "def my_func():\n",
        "  print(\"Stuff my function does.\")\n",
        "\n",
        "# what the @my_decorator line does, is takes the function declared directly below it and passes it into the function called my_decorator()\n",
        "#    to add functionality before and after the main function is called.\n",
        "\n",
        "my_func()"
      ],
      "metadata": {
        "colab": {
          "base_uri": "https://localhost:8080/"
        },
        "id": "3V66JlLttxZW",
        "outputId": "2d6cebea-6ea0-404b-8744-1dc1b8ad5b42"
      },
      "execution_count": null,
      "outputs": [
        {
          "output_type": "stream",
          "name": "stdout",
          "text": [
            "This happens before the function.\n",
            "Stuff my function does.\n",
            "This happens after the function.\n"
          ]
        }
      ]
    },
    {
      "cell_type": "code",
      "source": [
        "import numpy as np"
      ],
      "metadata": {
        "id": "nGPU0TZKvD2P"
      },
      "execution_count": 10,
      "outputs": []
    },
    {
      "cell_type": "code",
      "source": [
        "# to pull up a doc string\n",
        "?np.random.randint"
      ],
      "metadata": {
        "id": "OYRGLBBpx73V"
      },
      "execution_count": 12,
      "outputs": []
    },
    {
      "cell_type": "code",
      "source": [
        "# another way to do that\n",
        "help(np.random.randint)"
      ],
      "metadata": {
        "id": "SMwzt6HAyJNM"
      },
      "execution_count": null,
      "outputs": []
    },
    {
      "cell_type": "code",
      "source": [],
      "metadata": {
        "id": "cWk8e5UByhvP"
      },
      "execution_count": null,
      "outputs": []
    },
    {
      "cell_type": "code",
      "source": [
        "# README.md  <--- mark down, anything we write in texts in colab notebooks"
      ],
      "metadata": {
        "id": "frukyXp504ti"
      },
      "execution_count": 14,
      "outputs": []
    },
    {
      "cell_type": "markdown",
      "source": [
        "# Big heading\n",
        "\n",
        "## smaller heading\n",
        "\n",
        "paragraph text\n",
        "\n",
        "a link to google (http://google.com/)"
      ],
      "metadata": {
        "id": "nD1ZtO2U0-4b"
      }
    },
    {
      "cell_type": "code",
      "source": [
        "# The read me file should be in the outer folder, outside of the package folder"
      ],
      "metadata": {
        "id": "OFNf-43y2GC3"
      },
      "execution_count": 15,
      "outputs": []
    },
    {
      "cell_type": "code",
      "source": [
        "# can right click the file name and open preview to see how the readme text looks like"
      ],
      "metadata": {
        "id": "0WELbECf2KzD"
      },
      "execution_count": 16,
      "outputs": []
    },
    {
      "cell_type": "code",
      "source": [],
      "metadata": {
        "id": "lD6E_Ghu2q6U"
      },
      "execution_count": null,
      "outputs": []
    }
  ]
}