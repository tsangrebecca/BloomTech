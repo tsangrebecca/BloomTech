{
  "nbformat": 4,
  "nbformat_minor": 0,
  "metadata": {
    "colab": {
      "provenance": [],
      "authorship_tag": "ABX9TyPwvmRzqjrKhRYwIZygCovO",
      "include_colab_link": true
    },
    "kernelspec": {
      "name": "python3",
      "display_name": "Python 3"
    },
    "language_info": {
      "name": "python"
    }
  },
  "cells": [
    {
      "cell_type": "markdown",
      "metadata": {
        "id": "view-in-github",
        "colab_type": "text"
      },
      "source": [
        "<a href=\"https://colab.research.google.com/github/tsangrebecca/BloomTech/blob/main/Sprint9/S9_sprint_challenge_file3_acme_test.ipynb\" target=\"_parent\"><img src=\"https://colab.research.google.com/assets/colab-badge.svg\" alt=\"Open In Colab\"/></a>"
      ]
    },
    {
      "cell_type": "code",
      "execution_count": null,
      "metadata": {
        "id": "A6v8NwSUyKMQ"
      },
      "outputs": [],
      "source": [
        "import pytest\n",
        "from acme import Product\n",
        "from acme_report import generate_products, ADJECTIVES, NOUNS\n",
        "\n",
        "\n",
        "def test_default_product_price():\n",
        "    '''Test default product price being 10.'''\n",
        "\n",
        "    prod = Product('Test Product')\n",
        "    assert prod.price == 10\n",
        "\n",
        "\n",
        "def test_stealability():\n",
        "    \"\"\"\n",
        "    Test stealability method for 3 different scenarios\n",
        "    \"\"\"\n",
        "    product1 = Product(\"TestProduct1\", price=20, weight=60)\n",
        "    assert product1.stealability() == \"Not so stealable...\"\n",
        "\n",
        "    product2 = Product(\"TestProduct2\", price=50, weight=100)\n",
        "    assert product2.stealability() == \"Kinda stealable.\"\n",
        "\n",
        "    product3 = Product(\"TestProduct3\", price=80, weight=30)\n",
        "    assert product3.stealability() == \"Very stealable!\"\n",
        "\n",
        "\n",
        "def test_explode():\n",
        "    \"\"\"\n",
        "    Test explode method for 3 different scenarios.\n",
        "    \"\"\"\n",
        "    thing1 = Product(\"thing1\", weight=3, flammability=2)\n",
        "    assert thing1.explode() == \"...fizzle.\"\n",
        "\n",
        "    thing2 = Product(\"thing2\", weight=10, flammability=3)\n",
        "    assert thing2.explode() == \"...boom!\"\n",
        "\n",
        "    thing3 = Product(\"thing3\", weight=9, flammability=9)\n",
        "    assert thing3.explode() == \"...BABOOM!!\"\n",
        "\n",
        "\n",
        "def test_generate_products():\n",
        "    \"\"\"\n",
        "    Test the generate_products() method to ensure it\n",
        "    returns a list with 30 items in it.\n",
        "    \"\"\"\n",
        "    products, _, _, _ = generate_products()\n",
        "\n",
        "    assert len(products) == 30\n"
      ]
    }
  ]
}