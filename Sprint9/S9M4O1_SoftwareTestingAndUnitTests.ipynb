{
  "nbformat": 4,
  "nbformat_minor": 0,
  "metadata": {
    "colab": {
      "provenance": [],
      "authorship_tag": "ABX9TyNgewRoSeO8sofSsg5hzR8o",
      "include_colab_link": true
    },
    "kernelspec": {
      "name": "python3",
      "display_name": "Python 3"
    },
    "language_info": {
      "name": "python"
    }
  },
  "cells": [
    {
      "cell_type": "markdown",
      "metadata": {
        "id": "view-in-github",
        "colab_type": "text"
      },
      "source": [
        "<a href=\"https://colab.research.google.com/github/tsangrebecca/BloomTech/blob/main/Sprint9/S9M4O1_SoftwareTestingAndUnitTests.ipynb\" target=\"_parent\"><img src=\"https://colab.research.google.com/assets/colab-badge.svg\" alt=\"Open In Colab\"/></a>"
      ]
    },
    {
      "cell_type": "code",
      "execution_count": null,
      "metadata": {
        "id": "cy_jvrqV5ptY"
      },
      "outputs": [],
      "source": [
        "import unittest\n",
        "class TestStringMethods(unittest.TestCase):\n",
        "\n",
        "    def test_upper(self):\n",
        "        self.assertEqual('foo'.upper(), 'FOO')\n",
        "\n",
        "    def test_isupper(self):\n",
        "        self.assertTrue('FOO'.isupper())\n",
        "        self.assertFalse('Foo'.isupper())\n",
        "\n",
        "    def test_split(self):\n",
        "        s = 'hello world'\n",
        "        self.assertEqual(s.split(), ['hello', 'world'])\n",
        "        # check that s.split fails when the separator is not a string\n",
        "        with self.assertRaises(TypeError):\n",
        "            s.split(2)\n",
        "\n",
        "if __name__ == '__main__':\n",
        "    unittest.main()"
      ]
    },
    {
      "cell_type": "markdown",
      "source": [
        "This tests basic string methods (i.e. the “units” being tested are already written and built-in to Python). The overall test case is a class, inheriting from unittest.TestCase, and the methods in the class are specific tests.\n",
        "\n",
        "Save the code to a file string_tests.py, and execute with python string_tests.py. You should see:"
      ],
      "metadata": {
        "id": "0JDMg6U951YQ"
      }
    },
    {
      "cell_type": "code",
      "source": [
        "...\n",
        "----------------------------------------------------------------------\n",
        "Ran 3 tests in 0.000s\n",
        "\n",
        "OK"
      ],
      "metadata": {
        "id": "__PNOPwD6GjG"
      },
      "execution_count": null,
      "outputs": []
    },
    {
      "cell_type": "markdown",
      "source": [
        "What happened? The default response when tests pass is to be silent - this just means all the tests passed. Try running again as verbose with python string_tests.py -v:"
      ],
      "metadata": {
        "id": "fGLeydtW6KM1"
      }
    },
    {
      "cell_type": "code",
      "source": [
        "test_isupper (__main__.TestStringMethods) ... ok\n",
        "test_split (__main__.TestStringMethods) ... ok\n",
        "test_upper (__main__.TestStringMethods) ... ok\n",
        "\n",
        "----------------------------------------------------------------------\n",
        "Ran 3 tests in 0.000s\n",
        "\n",
        "OK"
      ],
      "metadata": {
        "id": "FiQT-RzK6MNd"
      },
      "execution_count": null,
      "outputs": []
    },
    {
      "cell_type": "markdown",
      "source": [
        "Now you see it checking off each individual test and saying that it passed.\n",
        "\n",
        "What does it look like when a test fails? It’s noisier!\n",
        "\n",
        "Python string methods are pretty well-written, so to get a failing test let’s introduce a bug into the test itself:\n",
        "\n",
        "    def test_upper(self):\n",
        "        self.assertEqual('foo'.upper(), 'FO')  # bug in test!\n",
        "Now run python string_tests.py again:\n",
        "\n",
        "Failure! Specifically, the assertion self.assertEqual('foo'.upper(), 'FO') failed, as 'foo'.upper() is equal to FOO.\n",
        "\n",
        "The above is the minimal viable approach to testing basic expected code behavior - you can make unit tests more complicated, with setUp() and tearDown() methods in the class to do setup/cleanup behavior before/after tests. You can also use unittest.mock to make “fake” objects, e.g. a fake database connection, so that a unit test can run without hitting real systems.\n",
        "\n",
        "Advanced testing is beyond the scope for today, and in general is unlikely to be your core responsibility as a data scientist (there exist specific software test engineers). But it’s good to be aware of its existence, and that a codebase is only as healthy as its test suite."
      ],
      "metadata": {
        "id": "L0_BFbJU6O4c"
      }
    },
    {
      "cell_type": "code",
      "source": [
        "\n",
        "..F\n",
        "======================================================================\n",
        "FAIL: test_upper (__main__.TestStringMethods)\n",
        "----------------------------------------------------------------------\n",
        "Traceback (most recent call last):\n",
        "  File \"string_tests.py\", line 6, in test_upper\n",
        "    self.assertEqual('foo'.upper(), 'FO')  # bug in test!\n",
        "AssertionError: 'FOO' != 'FO'\n",
        "- FOO\n",
        "?   -\n",
        "+ FO\n",
        "\n",
        "\n",
        "----------------------------------------------------------------------\n",
        "Ran 3 tests in 0.001s\n",
        "\n",
        "FAILED (failures=1)"
      ],
      "metadata": {
        "id": "wKgfRhBb6SME"
      },
      "execution_count": null,
      "outputs": []
    }
  ]
}