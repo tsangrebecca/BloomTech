{
  "nbformat": 4,
  "nbformat_minor": 0,
  "metadata": {
    "colab": {
      "provenance": [],
      "authorship_tag": "ABX9TyPT8inQ52zgHhSFLoEGAIv2",
      "include_colab_link": true
    },
    "kernelspec": {
      "name": "python3",
      "display_name": "Python 3"
    },
    "language_info": {
      "name": "python"
    }
  },
  "cells": [
    {
      "cell_type": "markdown",
      "metadata": {
        "id": "view-in-github",
        "colab_type": "text"
      },
      "source": [
        "<a href=\"https://colab.research.google.com/github/tsangrebecca/BloomTech/blob/main/Sprint9/S9M2assignment.ipynb\" target=\"_parent\"><img src=\"https://colab.research.google.com/assets/colab-badge.svg\" alt=\"Open In Colab\"/></a>"
      ]
    },
    {
      "cell_type": "code",
      "execution_count": null,
      "metadata": {
        "id": "HtGCXN3cEMnF"
      },
      "outputs": [],
      "source": [
        "import random\n",
        "\"\"\"\n",
        "This is the parent class.\n",
        "\"\"\"\n",
        "class Student:\n",
        "    \"\"\"\n",
        "    These are the attributes.\n",
        "    \"\"\"\n",
        "    def __init__(self, name, age, school):\n",
        "        self.name = name\n",
        "        self.age = age\n",
        "        self.school = school\n",
        "\n",
        "    \"\"\"\n",
        "    These are the methods.\n",
        "    \"\"\"\n",
        "    def years_in_school(self, start_age):\n",
        "        return self.age - start_age\n",
        "\n",
        "    def encouragement(self):\n",
        "        return \"You can do it!\"\n",
        "\n",
        "\n",
        "\"\"\"\n",
        "This is the child class.\n",
        "\"\"\"\n",
        "class BloomTechStudent(Student):\n",
        "    \"\"\"\n",
        "    Attribute\n",
        "    \"\"\"\n",
        "    def __init__(self, name, age, school, track, cohort):\n",
        "        super().__init__(name, age, school)\n",
        "        self.track = track\n",
        "        self.cohort = cohort\n",
        "\n",
        "    \"\"\"\n",
        "    Method\n",
        "    \"\"\"\n",
        "    def welcome(self, name):\n",
        "        return f\"Hi, {name}, welcome to the {self.cohort} cohort.\"\n",
        "\n",
        "    def __repr__(self):\n",
        "        return f\"{self.name}, {self.age} year old from {self.school} in the {self.track} {self.cohort} cohort\"\n",
        "\n",
        "\n",
        "    def student_generator(num_students=30):\n",
        "        \"\"\"\n",
        "        write a function called student_generator that will\n",
        "        randomly generate values for your Bloomtech student's attributes.\n",
        "        Create 30 different randomly generated Bloomtech students and add them to a list.\n",
        "        \"\"\"\n",
        "        first_names = ['Arthur', 'Becky', 'Darrel', 'Eric', 'Francine', 'Gary']\n",
        "        last_names = ['Adams', 'Brown', 'Douglas', 'Evans', 'Farnsworth', 'Gunderson']\n",
        "\n",
        "        random_first_name = random.choice(first_names)\n",
        "        random_last_name = random.choice(last_names)\n",
        "\n",
        "        random_name = random_first_name + ' ' + random_last_name\n",
        "\n",
        "        age = random.randit(18, 100)\n",
        "\n",
        "        school = 'BloomTech'\n",
        "\n",
        "        track = random.choice(['WEB', 'DS', 'Backend'])\n",
        "\n",
        "        cohort = random.randit(1, 50)\n",
        "\n",
        "        students = []\n",
        "        for _ in range(num_students):\n",
        "            students.append(BloomTechStudent(random_name, age, school, track, cohort))\n",
        "        return students\n",
        "\n",
        "    student_list = student_generator(2)\n",
        "\n",
        "if __name__ == '__main__':\n",
        "    my_student = BloomTechStudent(\"Reb Tsang\", \"39\", \"BloomTech\", \"DS\", \"9\")\n",
        "    print(my_student)\n",
        "    print(my_student.name)\n",
        "    print(my_student.age)\n",
        "    print(my_student.school)\n",
        "    print(my_student.track)\n",
        "    print(my_student.cohort)\n",
        "    print(my_student.encouragement())\n",
        "    print(my_student.welcome(\"Rebecca\"))\n",
        "    print(student_list)"
      ]
    }
  ]
}