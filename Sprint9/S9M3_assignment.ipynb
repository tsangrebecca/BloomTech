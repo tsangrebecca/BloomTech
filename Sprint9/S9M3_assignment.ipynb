{
  "nbformat": 4,
  "nbformat_minor": 0,
  "metadata": {
    "colab": {
      "provenance": [],
      "authorship_tag": "ABX9TyM3zdElL3niNmhJRH5wbWIu",
      "include_colab_link": true
    },
    "kernelspec": {
      "name": "python3",
      "display_name": "Python 3"
    },
    "language_info": {
      "name": "python"
    }
  },
  "cells": [
    {
      "cell_type": "markdown",
      "metadata": {
        "id": "view-in-github",
        "colab_type": "text"
      },
      "source": [
        "<a href=\"https://colab.research.google.com/github/tsangrebecca/BloomTech/blob/main/Sprint9/S9M3_assignment.ipynb\" target=\"_parent\"><img src=\"https://colab.research.google.com/assets/colab-badge.svg\" alt=\"Open In Colab\"/></a>"
      ]
    },
    {
      "cell_type": "code",
      "execution_count": null,
      "metadata": {
        "id": "h40gGa-ZuRMH"
      },
      "outputs": [],
      "source": [
        "from ubuntu\n",
        "\n",
        "# environment var\n",
        "ENV PYTHONBUFFER=1\n",
        "\n",
        "RUN apt update -y\n",
        "RUN apt upgrade -y\n",
        "RUN apt install python3 python3-pip curl -y\n",
        "RUN pip3 install flask\n",
        "\n",
        "ADD . /\n",
        "\n",
        "WORKDIR /flask_app\n",
        "\n",
        "ENV FLASK_APP=app.py\n",
        "\n",
        "ENTRYPOINT [\"flask\", \"run\", \"--host=0.0.0.0\"]"
      ]
    }
  ]
}