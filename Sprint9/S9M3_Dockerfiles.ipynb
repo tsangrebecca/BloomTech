{
  "nbformat": 4,
  "nbformat_minor": 0,
  "metadata": {
    "colab": {
      "provenance": [],
      "authorship_tag": "ABX9TyNDohIy+lh/yyXrAO5jy+qP",
      "include_colab_link": true
    },
    "kernelspec": {
      "name": "python3",
      "display_name": "Python 3"
    },
    "language_info": {
      "name": "python"
    }
  },
  "cells": [
    {
      "cell_type": "markdown",
      "metadata": {
        "id": "view-in-github",
        "colab_type": "text"
      },
      "source": [
        "<a href=\"https://colab.research.google.com/github/tsangrebecca/BloomTech/blob/main/Sprint9/S9M3_Dockerfiles.ipynb\" target=\"_parent\"><img src=\"https://colab.research.google.com/assets/colab-badge.svg\" alt=\"Open In Colab\"/></a>"
      ]
    },
    {
      "cell_type": "markdown",
      "source": [
        "Dockerfile that runs the debian OS instead of ubuntu"
      ],
      "metadata": {
        "id": "eg3N83uB-Ys4"
      }
    },
    {
      "cell_type": "code",
      "source": [
        "# Dockerfile\n",
        "\n",
        "FROM debian\n",
        "\n",
        "### So logging/io works reliably w/Docker\n",
        "ENV PYTHONUNBUFFERED=1\n",
        "### UTF Python issue for Click package (pipenv dependency)\n",
        "ENV LC_ALL=C.UTF-8\n",
        "ENV LANG=C.UTF-8\n",
        "### Need to explicitly set this so `pipenv shell` works\n",
        "ENV SHELL=/bin/bash\n",
        "\n",
        "### Basic Python dev dependencies\n",
        "RUN apt-get update && \\\n",
        "  apt-get upgrade -y && \\\n",
        "  apt-get install python3-pip curl -y && \\\n",
        "  pip3 install pipenv\n",
        "\n",
        "### Install via pip or pipenv:\n",
        "RUN pip3 install pandas\n",
        "#RUN pipenv install pandas"
      ],
      "metadata": {
        "id": "G4vTJ_e7-knR"
      },
      "execution_count": null,
      "outputs": []
    },
    {
      "cell_type": "markdown",
      "source": [
        "Dockerfile with a pythong image"
      ],
      "metadata": {
        "id": "93B2jUuX-mu0"
      }
    },
    {
      "cell_type": "code",
      "source": [
        "FROM python:3\n",
        "\n",
        "ENV PYTHONUNBUFFERED=1\n",
        "\n",
        "RUN apt-get update && \\\n",
        "    apt-get upgrade -y && \\\n",
        "    pip install --upgrade pip\n",
        "\n",
        "RUN pip install pandas\n",
        "\n",
        "#  or install packages from the requirements.txt file (must be in same dir as Dockerfile)\n",
        "# COPY requirements.txt /tmp/requirements.txt\n",
        "# RUN pip install -r /tmp/requirements.txt"
      ],
      "metadata": {
        "id": "CC1dBFxb-qkB"
      },
      "execution_count": null,
      "outputs": []
    }
  ]
}