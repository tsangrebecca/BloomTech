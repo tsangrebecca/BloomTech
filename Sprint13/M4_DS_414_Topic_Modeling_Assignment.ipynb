{
  "nbformat": 4,
  "nbformat_minor": 0,
  "metadata": {
    "kernelspec": {
      "name": "python3",
      "display_name": "Python 3"
    },
    "colab": {
      "provenance": [],
      "include_colab_link": true
    },
    "language_info": {
      "name": "python"
    },
    "accelerator": "GPU"
  },
  "cells": [
    {
      "cell_type": "markdown",
      "metadata": {
        "id": "view-in-github",
        "colab_type": "text"
      },
      "source": [
        "<a href=\"https://colab.research.google.com/github/tsangrebecca/BloomTech/blob/main/Sprint13/M4_DS_414_Topic_Modeling_Assignment.ipynb\" target=\"_parent\"><img src=\"https://colab.research.google.com/assets/colab-badge.svg\" alt=\"Open In Colab\"/></a>"
      ]
    },
    {
      "cell_type": "markdown",
      "metadata": {
        "id": "5utTU63WzGd3"
      },
      "source": [
        "# Topic Modeling\n",
        "## *Data Science Unit 4 Sprint 1 Assignment 4*\n",
        "\n",
        "\n",
        "![](https://drive.google.com/uc?export=view&id=1Aze8Xe_ZZpV22IwFNUH09T2howHmF1AK)\n",
        "\n",
        "[Image Credit: slides from Ben Mabey](https://speakerdeck.com/bmabey/visualizing-topic-models)\n",
        "\n",
        "Apply Topic Modeling to Analyze a corpus of Amazon reviews\n",
        "\n",
        "- Load in the Amazon Review dataset\n",
        "- Clean the dataset\n",
        "- Vectorize the dataset\n",
        "- Fit a Gensim LDA topic model on Amazon Reviews\n",
        "- Select appropriate number of topics\n",
        "- Create some dope visualization of the topics\n",
        "- Write a few bullets on your findings in markdown at the end"
      ]
    },
    {
      "cell_type": "code",
      "metadata": {
        "colab": {
          "base_uri": "https://localhost:8080/"
        },
        "id": "X0x7DXmr8zYE",
        "outputId": "595db5d0-13b4-4572-8c3a-c39d852a3bb6"
      },
      "source": [
        "!pip install -U pyLDAvis  #==3.3.1"
      ],
      "execution_count": 23,
      "outputs": [
        {
          "output_type": "stream",
          "name": "stdout",
          "text": [
            "Requirement already satisfied: pyLDAvis in /usr/local/lib/python3.10/dist-packages (3.4.1)\n",
            "Requirement already satisfied: numpy>=1.24.2 in /usr/local/lib/python3.10/dist-packages (from pyLDAvis) (1.25.2)\n",
            "Requirement already satisfied: scipy in /usr/local/lib/python3.10/dist-packages (from pyLDAvis) (1.11.4)\n",
            "Requirement already satisfied: pandas>=2.0.0 in /usr/local/lib/python3.10/dist-packages (from pyLDAvis) (2.0.3)\n",
            "Requirement already satisfied: joblib>=1.2.0 in /usr/local/lib/python3.10/dist-packages (from pyLDAvis) (1.4.2)\n",
            "Requirement already satisfied: jinja2 in /usr/local/lib/python3.10/dist-packages (from pyLDAvis) (3.1.4)\n",
            "Requirement already satisfied: numexpr in /usr/local/lib/python3.10/dist-packages (from pyLDAvis) (2.10.0)\n",
            "Requirement already satisfied: funcy in /usr/local/lib/python3.10/dist-packages (from pyLDAvis) (2.0)\n",
            "Requirement already satisfied: scikit-learn>=1.0.0 in /usr/local/lib/python3.10/dist-packages (from pyLDAvis) (1.2.2)\n",
            "Requirement already satisfied: gensim in /usr/local/lib/python3.10/dist-packages (from pyLDAvis) (4.3.2)\n",
            "Requirement already satisfied: setuptools in /usr/local/lib/python3.10/dist-packages (from pyLDAvis) (67.7.2)\n",
            "Requirement already satisfied: python-dateutil>=2.8.2 in /usr/local/lib/python3.10/dist-packages (from pandas>=2.0.0->pyLDAvis) (2.8.2)\n",
            "Requirement already satisfied: pytz>=2020.1 in /usr/local/lib/python3.10/dist-packages (from pandas>=2.0.0->pyLDAvis) (2023.4)\n",
            "Requirement already satisfied: tzdata>=2022.1 in /usr/local/lib/python3.10/dist-packages (from pandas>=2.0.0->pyLDAvis) (2024.1)\n",
            "Requirement already satisfied: threadpoolctl>=2.0.0 in /usr/local/lib/python3.10/dist-packages (from scikit-learn>=1.0.0->pyLDAvis) (3.5.0)\n",
            "Requirement already satisfied: smart-open>=1.8.1 in /usr/local/lib/python3.10/dist-packages (from gensim->pyLDAvis) (6.4.0)\n",
            "Requirement already satisfied: MarkupSafe>=2.0 in /usr/local/lib/python3.10/dist-packages (from jinja2->pyLDAvis) (2.1.5)\n",
            "Requirement already satisfied: six>=1.5 in /usr/local/lib/python3.10/dist-packages (from python-dateutil>=2.8.2->pandas>=2.0.0->pyLDAvis) (1.16.0)\n"
          ]
        }
      ]
    },
    {
      "cell_type": "code",
      "metadata": {
        "colab": {
          "base_uri": "https://localhost:8080/"
        },
        "id": "uQGwb9xbFKIr",
        "outputId": "260c3aa2-f2c0-4f1c-a027-2f80c9b9e698"
      },
      "source": [
        "!pip install pandarallel==1.4.8"
      ],
      "execution_count": 24,
      "outputs": [
        {
          "output_type": "stream",
          "name": "stdout",
          "text": [
            "Requirement already satisfied: pandarallel==1.4.8 in /usr/local/lib/python3.10/dist-packages (1.4.8)\n",
            "Requirement already satisfied: dill in /usr/local/lib/python3.10/dist-packages (from pandarallel==1.4.8) (0.3.8)\n"
          ]
        }
      ]
    },
    {
      "cell_type": "code",
      "metadata": {
        "id": "nUPIrjOB_-BR",
        "colab": {
          "base_uri": "https://localhost:8080/"
        },
        "outputId": "1b877169-ae25-409c-bf76-2a099200fdcd"
      },
      "source": [
        "!python -m spacy download en_core_web_md"
      ],
      "execution_count": null,
      "outputs": [
        {
          "output_type": "stream",
          "name": "stdout",
          "text": [
            "Collecting en-core-web-md==3.7.1\n",
            "  Downloading https://github.com/explosion/spacy-models/releases/download/en_core_web_md-3.7.1/en_core_web_md-3.7.1-py3-none-any.whl (42.8 MB)\n",
            "\u001b[2K     \u001b[90m━━━━━━━━━━━━━━━━━━━━━━━━━━━━━━━━━━━━━━━━\u001b[0m \u001b[32m42.8/42.8 MB\u001b[0m \u001b[31m12.4 MB/s\u001b[0m eta \u001b[36m0:00:00\u001b[0m\n",
            "\u001b[?25hRequirement already satisfied: spacy<3.8.0,>=3.7.2 in /usr/local/lib/python3.10/dist-packages (from en-core-web-md==3.7.1) (3.7.4)\n",
            "Requirement already satisfied: spacy-legacy<3.1.0,>=3.0.11 in /usr/local/lib/python3.10/dist-packages (from spacy<3.8.0,>=3.7.2->en-core-web-md==3.7.1) (3.0.12)\n",
            "Requirement already satisfied: spacy-loggers<2.0.0,>=1.0.0 in /usr/local/lib/python3.10/dist-packages (from spacy<3.8.0,>=3.7.2->en-core-web-md==3.7.1) (1.0.5)\n",
            "Requirement already satisfied: murmurhash<1.1.0,>=0.28.0 in /usr/local/lib/python3.10/dist-packages (from spacy<3.8.0,>=3.7.2->en-core-web-md==3.7.1) (1.0.10)\n",
            "Requirement already satisfied: cymem<2.1.0,>=2.0.2 in /usr/local/lib/python3.10/dist-packages (from spacy<3.8.0,>=3.7.2->en-core-web-md==3.7.1) (2.0.8)\n",
            "Requirement already satisfied: preshed<3.1.0,>=3.0.2 in /usr/local/lib/python3.10/dist-packages (from spacy<3.8.0,>=3.7.2->en-core-web-md==3.7.1) (3.0.9)\n",
            "Requirement already satisfied: thinc<8.3.0,>=8.2.2 in /usr/local/lib/python3.10/dist-packages (from spacy<3.8.0,>=3.7.2->en-core-web-md==3.7.1) (8.2.3)\n",
            "Requirement already satisfied: wasabi<1.2.0,>=0.9.1 in /usr/local/lib/python3.10/dist-packages (from spacy<3.8.0,>=3.7.2->en-core-web-md==3.7.1) (1.1.2)\n",
            "Requirement already satisfied: srsly<3.0.0,>=2.4.3 in /usr/local/lib/python3.10/dist-packages (from spacy<3.8.0,>=3.7.2->en-core-web-md==3.7.1) (2.4.8)\n",
            "Requirement already satisfied: catalogue<2.1.0,>=2.0.6 in /usr/local/lib/python3.10/dist-packages (from spacy<3.8.0,>=3.7.2->en-core-web-md==3.7.1) (2.0.10)\n",
            "Requirement already satisfied: weasel<0.4.0,>=0.1.0 in /usr/local/lib/python3.10/dist-packages (from spacy<3.8.0,>=3.7.2->en-core-web-md==3.7.1) (0.3.4)\n",
            "Requirement already satisfied: typer<0.10.0,>=0.3.0 in /usr/local/lib/python3.10/dist-packages (from spacy<3.8.0,>=3.7.2->en-core-web-md==3.7.1) (0.9.4)\n",
            "Requirement already satisfied: smart-open<7.0.0,>=5.2.1 in /usr/local/lib/python3.10/dist-packages (from spacy<3.8.0,>=3.7.2->en-core-web-md==3.7.1) (6.4.0)\n",
            "Requirement already satisfied: tqdm<5.0.0,>=4.38.0 in /usr/local/lib/python3.10/dist-packages (from spacy<3.8.0,>=3.7.2->en-core-web-md==3.7.1) (4.66.4)\n",
            "Requirement already satisfied: requests<3.0.0,>=2.13.0 in /usr/local/lib/python3.10/dist-packages (from spacy<3.8.0,>=3.7.2->en-core-web-md==3.7.1) (2.31.0)\n",
            "Requirement already satisfied: pydantic!=1.8,!=1.8.1,<3.0.0,>=1.7.4 in /usr/local/lib/python3.10/dist-packages (from spacy<3.8.0,>=3.7.2->en-core-web-md==3.7.1) (2.7.1)\n",
            "Requirement already satisfied: jinja2 in /usr/local/lib/python3.10/dist-packages (from spacy<3.8.0,>=3.7.2->en-core-web-md==3.7.1) (3.1.4)\n",
            "Requirement already satisfied: setuptools in /usr/local/lib/python3.10/dist-packages (from spacy<3.8.0,>=3.7.2->en-core-web-md==3.7.1) (67.7.2)\n",
            "Requirement already satisfied: packaging>=20.0 in /usr/local/lib/python3.10/dist-packages (from spacy<3.8.0,>=3.7.2->en-core-web-md==3.7.1) (24.0)\n",
            "Requirement already satisfied: langcodes<4.0.0,>=3.2.0 in /usr/local/lib/python3.10/dist-packages (from spacy<3.8.0,>=3.7.2->en-core-web-md==3.7.1) (3.4.0)\n",
            "Requirement already satisfied: numpy>=1.19.0 in /usr/local/lib/python3.10/dist-packages (from spacy<3.8.0,>=3.7.2->en-core-web-md==3.7.1) (1.25.2)\n",
            "Requirement already satisfied: language-data>=1.2 in /usr/local/lib/python3.10/dist-packages (from langcodes<4.0.0,>=3.2.0->spacy<3.8.0,>=3.7.2->en-core-web-md==3.7.1) (1.2.0)\n",
            "Requirement already satisfied: annotated-types>=0.4.0 in /usr/local/lib/python3.10/dist-packages (from pydantic!=1.8,!=1.8.1,<3.0.0,>=1.7.4->spacy<3.8.0,>=3.7.2->en-core-web-md==3.7.1) (0.6.0)\n",
            "Requirement already satisfied: pydantic-core==2.18.2 in /usr/local/lib/python3.10/dist-packages (from pydantic!=1.8,!=1.8.1,<3.0.0,>=1.7.4->spacy<3.8.0,>=3.7.2->en-core-web-md==3.7.1) (2.18.2)\n",
            "Requirement already satisfied: typing-extensions>=4.6.1 in /usr/local/lib/python3.10/dist-packages (from pydantic!=1.8,!=1.8.1,<3.0.0,>=1.7.4->spacy<3.8.0,>=3.7.2->en-core-web-md==3.7.1) (4.11.0)\n",
            "Requirement already satisfied: charset-normalizer<4,>=2 in /usr/local/lib/python3.10/dist-packages (from requests<3.0.0,>=2.13.0->spacy<3.8.0,>=3.7.2->en-core-web-md==3.7.1) (3.3.2)\n",
            "Requirement already satisfied: idna<4,>=2.5 in /usr/local/lib/python3.10/dist-packages (from requests<3.0.0,>=2.13.0->spacy<3.8.0,>=3.7.2->en-core-web-md==3.7.1) (3.7)\n",
            "Requirement already satisfied: urllib3<3,>=1.21.1 in /usr/local/lib/python3.10/dist-packages (from requests<3.0.0,>=2.13.0->spacy<3.8.0,>=3.7.2->en-core-web-md==3.7.1) (2.0.7)\n",
            "Requirement already satisfied: certifi>=2017.4.17 in /usr/local/lib/python3.10/dist-packages (from requests<3.0.0,>=2.13.0->spacy<3.8.0,>=3.7.2->en-core-web-md==3.7.1) (2024.2.2)\n",
            "Requirement already satisfied: blis<0.8.0,>=0.7.8 in /usr/local/lib/python3.10/dist-packages (from thinc<8.3.0,>=8.2.2->spacy<3.8.0,>=3.7.2->en-core-web-md==3.7.1) (0.7.11)\n",
            "Requirement already satisfied: confection<1.0.0,>=0.0.1 in /usr/local/lib/python3.10/dist-packages (from thinc<8.3.0,>=8.2.2->spacy<3.8.0,>=3.7.2->en-core-web-md==3.7.1) (0.1.4)\n",
            "Requirement already satisfied: click<9.0.0,>=7.1.1 in /usr/local/lib/python3.10/dist-packages (from typer<0.10.0,>=0.3.0->spacy<3.8.0,>=3.7.2->en-core-web-md==3.7.1) (8.1.7)\n",
            "Requirement already satisfied: cloudpathlib<0.17.0,>=0.7.0 in /usr/local/lib/python3.10/dist-packages (from weasel<0.4.0,>=0.1.0->spacy<3.8.0,>=3.7.2->en-core-web-md==3.7.1) (0.16.0)\n",
            "Requirement already satisfied: MarkupSafe>=2.0 in /usr/local/lib/python3.10/dist-packages (from jinja2->spacy<3.8.0,>=3.7.2->en-core-web-md==3.7.1) (2.1.5)\n",
            "Requirement already satisfied: marisa-trie>=0.7.7 in /usr/local/lib/python3.10/dist-packages (from language-data>=1.2->langcodes<4.0.0,>=3.2.0->spacy<3.8.0,>=3.7.2->en-core-web-md==3.7.1) (1.1.1)\n",
            "Installing collected packages: en-core-web-md\n",
            "Successfully installed en-core-web-md-3.7.1\n",
            "\u001b[38;5;2m✔ Download and installation successful\u001b[0m\n",
            "You can now load the package via spacy.load('en_core_web_md')\n",
            "\u001b[38;5;3m⚠ Restart to reload dependencies\u001b[0m\n",
            "If you are in a Jupyter or Colab notebook, you may need to restart Python in\n",
            "order to load all the package's dependencies. You can do this by selecting the\n",
            "'Restart kernel' or 'Restart runtime' option.\n"
          ]
        }
      ]
    },
    {
      "cell_type": "markdown",
      "metadata": {
        "id": "isyLmOAZqYR0"
      },
      "source": [
        "## Restart runtime!"
      ]
    },
    {
      "cell_type": "code",
      "metadata": {
        "id": "rXrXC0mrzGd5"
      },
      "source": [
        "import re\n",
        "import pandas as pd\n",
        "import numpy as np\n",
        "import matplotlib.pyplot as plt\n",
        "from sklearn.feature_extraction.text import CountVectorizer, TfidfVectorizer\n",
        "\n",
        "import spacy\n",
        "spacy.util.fix_random_seed(0)\n",
        "\n",
        "import pyLDAvis\n",
        "import pyLDAvis.gensim_models\n",
        "\n",
        "import gensim\n",
        "import gensim.corpora as corpora\n",
        "from gensim.utils import simple_preprocess\n",
        "from gensim.models import CoherenceModel\n",
        "\n",
        "from pandarallel import pandarallel\n",
        "\n",
        "%matplotlib inline\n",
        "\n",
        "import warnings\n",
        "warnings.filterwarnings(\"ignore\")"
      ],
      "execution_count": 1,
      "outputs": []
    },
    {
      "cell_type": "markdown",
      "metadata": {
        "id": "x9ph4ZzpzGd6"
      },
      "source": [
        "----\n",
        "### Load the Amazon Review corpus\n",
        "This dataset is located in the Sprint 1 Module 1 `/data` directory.\n",
        "\n",
        "If the provided relative path doesn't work for you, then you'll have to provide the file path so pandas can read in the file."
      ]
    },
    {
      "cell_type": "code",
      "metadata": {
        "colab": {
          "base_uri": "https://localhost:8080/"
        },
        "id": "c_L4bKk_4E84",
        "outputId": "b341697d-6c80-4638-d908-fd5e7c9ee7e2"
      },
      "source": [
        "# A \"brute force\" way to get the Amazon reviews dataset; just clone the Sprint 1 repo!\n",
        "# Overkill, but it does the job!\n",
        "!git clone https://github.com/LambdaSchool/DS-Unit-4-Sprint-1-NLP.git"
      ],
      "execution_count": 2,
      "outputs": [
        {
          "output_type": "stream",
          "name": "stdout",
          "text": [
            "fatal: destination path 'DS-Unit-4-Sprint-1-NLP' already exists and is not an empty directory.\n"
          ]
        }
      ]
    },
    {
      "cell_type": "code",
      "metadata": {
        "colab": {
          "base_uri": "https://localhost:8080/"
        },
        "id": "7__zXIF_504B",
        "outputId": "a2ba28c2-c7a7-4d30-c533-578056b2b95a"
      },
      "source": [
        "!unzip '/content/DS-Unit-4-Sprint-1-NLP/module1-text-data/data/Datafiniti_Amazon_Consumer_Reviews_of_Amazon_Products_May19.csv.zip'"
      ],
      "execution_count": 3,
      "outputs": [
        {
          "output_type": "stream",
          "name": "stdout",
          "text": [
            "Archive:  /content/DS-Unit-4-Sprint-1-NLP/module1-text-data/data/Datafiniti_Amazon_Consumer_Reviews_of_Amazon_Products_May19.csv.zip\n",
            "replace Datafiniti_Amazon_Consumer_Reviews_of_Amazon_Products_May19.csv? [y]es, [n]o, [A]ll, [N]one, [r]ename: "
          ]
        }
      ]
    },
    {
      "cell_type": "code",
      "metadata": {
        "id": "Ov482n4pzGd6"
      },
      "source": [
        "data_path = \"/content/Datafiniti_Amazon_Consumer_Reviews_of_Amazon_Products_May19.csv\"\n",
        "df = pd.read_csv(data_path)"
      ],
      "execution_count": 4,
      "outputs": []
    },
    {
      "cell_type": "code",
      "metadata": {
        "id": "-yZZEwZNzGd7",
        "colab": {
          "base_uri": "https://localhost:8080/",
          "height": 300
        },
        "outputId": "a055120f-39e1-41a9-8e9e-eed688c39b69"
      },
      "source": [
        "df.head(2)"
      ],
      "execution_count": 5,
      "outputs": [
        {
          "output_type": "execute_result",
          "data": {
            "text/plain": [
              "                     id             dateAdded           dateUpdated  \\\n",
              "0  AVpgNzjwLJeJML43Kpxn  2015-10-30T08:59:32Z  2019-04-25T09:08:16Z   \n",
              "1  AVpgNzjwLJeJML43Kpxn  2015-10-30T08:59:32Z  2019-04-25T09:08:16Z   \n",
              "\n",
              "                                                name                  asins  \\\n",
              "0  AmazonBasics AAA Performance Alkaline Batterie...  B00QWO9P0O,B00LH3DMUO   \n",
              "1  AmazonBasics AAA Performance Alkaline Batterie...  B00QWO9P0O,B00LH3DMUO   \n",
              "\n",
              "          brand                                         categories  \\\n",
              "0  Amazonbasics  AA,AAA,Health,Electronics,Health & Household,C...   \n",
              "1  Amazonbasics  AA,AAA,Health,Electronics,Health & Household,C...   \n",
              "\n",
              "  primaryCategories                                          imageURLs  \\\n",
              "0   Health & Beauty  https://images-na.ssl-images-amazon.com/images...   \n",
              "1   Health & Beauty  https://images-na.ssl-images-amazon.com/images...   \n",
              "\n",
              "                                                keys  ... reviews.didPurchase  \\\n",
              "0  amazonbasics/hl002619,amazonbasicsaaaperforman...  ...                 NaN   \n",
              "1  amazonbasics/hl002619,amazonbasicsaaaperforman...  ...                 NaN   \n",
              "\n",
              "  reviews.doRecommend reviews.id reviews.numHelpful reviews.rating  \\\n",
              "0                 NaN        NaN                NaN              3   \n",
              "1                 NaN        NaN                NaN              4   \n",
              "\n",
              "                                  reviews.sourceURLs  \\\n",
              "0  https://www.amazon.com/product-reviews/B00QWO9...   \n",
              "1  https://www.amazon.com/product-reviews/B00QWO9...   \n",
              "\n",
              "                                        reviews.text  \\\n",
              "0  I order 3 of them and one of the item is bad q...   \n",
              "1  Bulk is always the less expensive way to go fo...   \n",
              "\n",
              "                                       reviews.title  reviews.username  \\\n",
              "0  ... 3 of them and one of the item is bad quali...        Byger yang   \n",
              "1  ... always the less expensive way to go for pr...              ByMG   \n",
              "\n",
              "                                          sourceURLs  \n",
              "0  https://www.barcodable.com/upc/841710106442,ht...  \n",
              "1  https://www.barcodable.com/upc/841710106442,ht...  \n",
              "\n",
              "[2 rows x 24 columns]"
            ],
            "text/html": [
              "\n",
              "  <div id=\"df-a0e96004-42ab-43b7-8429-f29e4e8fc3ae\" class=\"colab-df-container\">\n",
              "    <div>\n",
              "<style scoped>\n",
              "    .dataframe tbody tr th:only-of-type {\n",
              "        vertical-align: middle;\n",
              "    }\n",
              "\n",
              "    .dataframe tbody tr th {\n",
              "        vertical-align: top;\n",
              "    }\n",
              "\n",
              "    .dataframe thead th {\n",
              "        text-align: right;\n",
              "    }\n",
              "</style>\n",
              "<table border=\"1\" class=\"dataframe\">\n",
              "  <thead>\n",
              "    <tr style=\"text-align: right;\">\n",
              "      <th></th>\n",
              "      <th>id</th>\n",
              "      <th>dateAdded</th>\n",
              "      <th>dateUpdated</th>\n",
              "      <th>name</th>\n",
              "      <th>asins</th>\n",
              "      <th>brand</th>\n",
              "      <th>categories</th>\n",
              "      <th>primaryCategories</th>\n",
              "      <th>imageURLs</th>\n",
              "      <th>keys</th>\n",
              "      <th>...</th>\n",
              "      <th>reviews.didPurchase</th>\n",
              "      <th>reviews.doRecommend</th>\n",
              "      <th>reviews.id</th>\n",
              "      <th>reviews.numHelpful</th>\n",
              "      <th>reviews.rating</th>\n",
              "      <th>reviews.sourceURLs</th>\n",
              "      <th>reviews.text</th>\n",
              "      <th>reviews.title</th>\n",
              "      <th>reviews.username</th>\n",
              "      <th>sourceURLs</th>\n",
              "    </tr>\n",
              "  </thead>\n",
              "  <tbody>\n",
              "    <tr>\n",
              "      <th>0</th>\n",
              "      <td>AVpgNzjwLJeJML43Kpxn</td>\n",
              "      <td>2015-10-30T08:59:32Z</td>\n",
              "      <td>2019-04-25T09:08:16Z</td>\n",
              "      <td>AmazonBasics AAA Performance Alkaline Batterie...</td>\n",
              "      <td>B00QWO9P0O,B00LH3DMUO</td>\n",
              "      <td>Amazonbasics</td>\n",
              "      <td>AA,AAA,Health,Electronics,Health &amp; Household,C...</td>\n",
              "      <td>Health &amp; Beauty</td>\n",
              "      <td>https://images-na.ssl-images-amazon.com/images...</td>\n",
              "      <td>amazonbasics/hl002619,amazonbasicsaaaperforman...</td>\n",
              "      <td>...</td>\n",
              "      <td>NaN</td>\n",
              "      <td>NaN</td>\n",
              "      <td>NaN</td>\n",
              "      <td>NaN</td>\n",
              "      <td>3</td>\n",
              "      <td>https://www.amazon.com/product-reviews/B00QWO9...</td>\n",
              "      <td>I order 3 of them and one of the item is bad q...</td>\n",
              "      <td>... 3 of them and one of the item is bad quali...</td>\n",
              "      <td>Byger yang</td>\n",
              "      <td>https://www.barcodable.com/upc/841710106442,ht...</td>\n",
              "    </tr>\n",
              "    <tr>\n",
              "      <th>1</th>\n",
              "      <td>AVpgNzjwLJeJML43Kpxn</td>\n",
              "      <td>2015-10-30T08:59:32Z</td>\n",
              "      <td>2019-04-25T09:08:16Z</td>\n",
              "      <td>AmazonBasics AAA Performance Alkaline Batterie...</td>\n",
              "      <td>B00QWO9P0O,B00LH3DMUO</td>\n",
              "      <td>Amazonbasics</td>\n",
              "      <td>AA,AAA,Health,Electronics,Health &amp; Household,C...</td>\n",
              "      <td>Health &amp; Beauty</td>\n",
              "      <td>https://images-na.ssl-images-amazon.com/images...</td>\n",
              "      <td>amazonbasics/hl002619,amazonbasicsaaaperforman...</td>\n",
              "      <td>...</td>\n",
              "      <td>NaN</td>\n",
              "      <td>NaN</td>\n",
              "      <td>NaN</td>\n",
              "      <td>NaN</td>\n",
              "      <td>4</td>\n",
              "      <td>https://www.amazon.com/product-reviews/B00QWO9...</td>\n",
              "      <td>Bulk is always the less expensive way to go fo...</td>\n",
              "      <td>... always the less expensive way to go for pr...</td>\n",
              "      <td>ByMG</td>\n",
              "      <td>https://www.barcodable.com/upc/841710106442,ht...</td>\n",
              "    </tr>\n",
              "  </tbody>\n",
              "</table>\n",
              "<p>2 rows × 24 columns</p>\n",
              "</div>\n",
              "    <div class=\"colab-df-buttons\">\n",
              "\n",
              "  <div class=\"colab-df-container\">\n",
              "    <button class=\"colab-df-convert\" onclick=\"convertToInteractive('df-a0e96004-42ab-43b7-8429-f29e4e8fc3ae')\"\n",
              "            title=\"Convert this dataframe to an interactive table.\"\n",
              "            style=\"display:none;\">\n",
              "\n",
              "  <svg xmlns=\"http://www.w3.org/2000/svg\" height=\"24px\" viewBox=\"0 -960 960 960\">\n",
              "    <path d=\"M120-120v-720h720v720H120Zm60-500h600v-160H180v160Zm220 220h160v-160H400v160Zm0 220h160v-160H400v160ZM180-400h160v-160H180v160Zm440 0h160v-160H620v160ZM180-180h160v-160H180v160Zm440 0h160v-160H620v160Z\"/>\n",
              "  </svg>\n",
              "    </button>\n",
              "\n",
              "  <style>\n",
              "    .colab-df-container {\n",
              "      display:flex;\n",
              "      gap: 12px;\n",
              "    }\n",
              "\n",
              "    .colab-df-convert {\n",
              "      background-color: #E8F0FE;\n",
              "      border: none;\n",
              "      border-radius: 50%;\n",
              "      cursor: pointer;\n",
              "      display: none;\n",
              "      fill: #1967D2;\n",
              "      height: 32px;\n",
              "      padding: 0 0 0 0;\n",
              "      width: 32px;\n",
              "    }\n",
              "\n",
              "    .colab-df-convert:hover {\n",
              "      background-color: #E2EBFA;\n",
              "      box-shadow: 0px 1px 2px rgba(60, 64, 67, 0.3), 0px 1px 3px 1px rgba(60, 64, 67, 0.15);\n",
              "      fill: #174EA6;\n",
              "    }\n",
              "\n",
              "    .colab-df-buttons div {\n",
              "      margin-bottom: 4px;\n",
              "    }\n",
              "\n",
              "    [theme=dark] .colab-df-convert {\n",
              "      background-color: #3B4455;\n",
              "      fill: #D2E3FC;\n",
              "    }\n",
              "\n",
              "    [theme=dark] .colab-df-convert:hover {\n",
              "      background-color: #434B5C;\n",
              "      box-shadow: 0px 1px 3px 1px rgba(0, 0, 0, 0.15);\n",
              "      filter: drop-shadow(0px 1px 2px rgba(0, 0, 0, 0.3));\n",
              "      fill: #FFFFFF;\n",
              "    }\n",
              "  </style>\n",
              "\n",
              "    <script>\n",
              "      const buttonEl =\n",
              "        document.querySelector('#df-a0e96004-42ab-43b7-8429-f29e4e8fc3ae button.colab-df-convert');\n",
              "      buttonEl.style.display =\n",
              "        google.colab.kernel.accessAllowed ? 'block' : 'none';\n",
              "\n",
              "      async function convertToInteractive(key) {\n",
              "        const element = document.querySelector('#df-a0e96004-42ab-43b7-8429-f29e4e8fc3ae');\n",
              "        const dataTable =\n",
              "          await google.colab.kernel.invokeFunction('convertToInteractive',\n",
              "                                                    [key], {});\n",
              "        if (!dataTable) return;\n",
              "\n",
              "        const docLinkHtml = 'Like what you see? Visit the ' +\n",
              "          '<a target=\"_blank\" href=https://colab.research.google.com/notebooks/data_table.ipynb>data table notebook</a>'\n",
              "          + ' to learn more about interactive tables.';\n",
              "        element.innerHTML = '';\n",
              "        dataTable['output_type'] = 'display_data';\n",
              "        await google.colab.output.renderOutput(dataTable, element);\n",
              "        const docLink = document.createElement('div');\n",
              "        docLink.innerHTML = docLinkHtml;\n",
              "        element.appendChild(docLink);\n",
              "      }\n",
              "    </script>\n",
              "  </div>\n",
              "\n",
              "\n",
              "<div id=\"df-0fc9dfed-b7c3-46c8-9a65-31164de2594e\">\n",
              "  <button class=\"colab-df-quickchart\" onclick=\"quickchart('df-0fc9dfed-b7c3-46c8-9a65-31164de2594e')\"\n",
              "            title=\"Suggest charts\"\n",
              "            style=\"display:none;\">\n",
              "\n",
              "<svg xmlns=\"http://www.w3.org/2000/svg\" height=\"24px\"viewBox=\"0 0 24 24\"\n",
              "     width=\"24px\">\n",
              "    <g>\n",
              "        <path d=\"M19 3H5c-1.1 0-2 .9-2 2v14c0 1.1.9 2 2 2h14c1.1 0 2-.9 2-2V5c0-1.1-.9-2-2-2zM9 17H7v-7h2v7zm4 0h-2V7h2v10zm4 0h-2v-4h2v4z\"/>\n",
              "    </g>\n",
              "</svg>\n",
              "  </button>\n",
              "\n",
              "<style>\n",
              "  .colab-df-quickchart {\n",
              "      --bg-color: #E8F0FE;\n",
              "      --fill-color: #1967D2;\n",
              "      --hover-bg-color: #E2EBFA;\n",
              "      --hover-fill-color: #174EA6;\n",
              "      --disabled-fill-color: #AAA;\n",
              "      --disabled-bg-color: #DDD;\n",
              "  }\n",
              "\n",
              "  [theme=dark] .colab-df-quickchart {\n",
              "      --bg-color: #3B4455;\n",
              "      --fill-color: #D2E3FC;\n",
              "      --hover-bg-color: #434B5C;\n",
              "      --hover-fill-color: #FFFFFF;\n",
              "      --disabled-bg-color: #3B4455;\n",
              "      --disabled-fill-color: #666;\n",
              "  }\n",
              "\n",
              "  .colab-df-quickchart {\n",
              "    background-color: var(--bg-color);\n",
              "    border: none;\n",
              "    border-radius: 50%;\n",
              "    cursor: pointer;\n",
              "    display: none;\n",
              "    fill: var(--fill-color);\n",
              "    height: 32px;\n",
              "    padding: 0;\n",
              "    width: 32px;\n",
              "  }\n",
              "\n",
              "  .colab-df-quickchart:hover {\n",
              "    background-color: var(--hover-bg-color);\n",
              "    box-shadow: 0 1px 2px rgba(60, 64, 67, 0.3), 0 1px 3px 1px rgba(60, 64, 67, 0.15);\n",
              "    fill: var(--button-hover-fill-color);\n",
              "  }\n",
              "\n",
              "  .colab-df-quickchart-complete:disabled,\n",
              "  .colab-df-quickchart-complete:disabled:hover {\n",
              "    background-color: var(--disabled-bg-color);\n",
              "    fill: var(--disabled-fill-color);\n",
              "    box-shadow: none;\n",
              "  }\n",
              "\n",
              "  .colab-df-spinner {\n",
              "    border: 2px solid var(--fill-color);\n",
              "    border-color: transparent;\n",
              "    border-bottom-color: var(--fill-color);\n",
              "    animation:\n",
              "      spin 1s steps(1) infinite;\n",
              "  }\n",
              "\n",
              "  @keyframes spin {\n",
              "    0% {\n",
              "      border-color: transparent;\n",
              "      border-bottom-color: var(--fill-color);\n",
              "      border-left-color: var(--fill-color);\n",
              "    }\n",
              "    20% {\n",
              "      border-color: transparent;\n",
              "      border-left-color: var(--fill-color);\n",
              "      border-top-color: var(--fill-color);\n",
              "    }\n",
              "    30% {\n",
              "      border-color: transparent;\n",
              "      border-left-color: var(--fill-color);\n",
              "      border-top-color: var(--fill-color);\n",
              "      border-right-color: var(--fill-color);\n",
              "    }\n",
              "    40% {\n",
              "      border-color: transparent;\n",
              "      border-right-color: var(--fill-color);\n",
              "      border-top-color: var(--fill-color);\n",
              "    }\n",
              "    60% {\n",
              "      border-color: transparent;\n",
              "      border-right-color: var(--fill-color);\n",
              "    }\n",
              "    80% {\n",
              "      border-color: transparent;\n",
              "      border-right-color: var(--fill-color);\n",
              "      border-bottom-color: var(--fill-color);\n",
              "    }\n",
              "    90% {\n",
              "      border-color: transparent;\n",
              "      border-bottom-color: var(--fill-color);\n",
              "    }\n",
              "  }\n",
              "</style>\n",
              "\n",
              "  <script>\n",
              "    async function quickchart(key) {\n",
              "      const quickchartButtonEl =\n",
              "        document.querySelector('#' + key + ' button');\n",
              "      quickchartButtonEl.disabled = true;  // To prevent multiple clicks.\n",
              "      quickchartButtonEl.classList.add('colab-df-spinner');\n",
              "      try {\n",
              "        const charts = await google.colab.kernel.invokeFunction(\n",
              "            'suggestCharts', [key], {});\n",
              "      } catch (error) {\n",
              "        console.error('Error during call to suggestCharts:', error);\n",
              "      }\n",
              "      quickchartButtonEl.classList.remove('colab-df-spinner');\n",
              "      quickchartButtonEl.classList.add('colab-df-quickchart-complete');\n",
              "    }\n",
              "    (() => {\n",
              "      let quickchartButtonEl =\n",
              "        document.querySelector('#df-0fc9dfed-b7c3-46c8-9a65-31164de2594e button');\n",
              "      quickchartButtonEl.style.display =\n",
              "        google.colab.kernel.accessAllowed ? 'block' : 'none';\n",
              "    })();\n",
              "  </script>\n",
              "</div>\n",
              "\n",
              "    </div>\n",
              "  </div>\n"
            ],
            "application/vnd.google.colaboratory.intrinsic+json": {
              "type": "dataframe",
              "variable_name": "df"
            }
          },
          "metadata": {},
          "execution_count": 5
        }
      ]
    },
    {
      "cell_type": "markdown",
      "metadata": {
        "id": "kdwr6x8PzGd7"
      },
      "source": [
        "----\n",
        "\n",
        "### Clean data\n",
        "\n",
        "- Create a function called `clean_data` that uses regex expressions to clean your data in preparation for the vectorizer.\n",
        "\n",
        "- Save the clean text data to a column in your dataframe named `clean_text`\n",
        "\n",
        "- Feel free to re-use old code that you have written in previous modules  "
      ]
    },
    {
      "cell_type": "code",
      "metadata": {
        "colab": {
          "base_uri": "https://localhost:8080/"
        },
        "id": "g5cL1Amq8iT_",
        "outputId": "c64f010b-c6a7-4ccd-c45d-f47ceb4bbfdc"
      },
      "source": [
        "df.shape"
      ],
      "execution_count": 6,
      "outputs": [
        {
          "output_type": "execute_result",
          "data": {
            "text/plain": [
              "(28332, 24)"
            ]
          },
          "metadata": {},
          "execution_count": 6
        }
      ]
    },
    {
      "cell_type": "code",
      "metadata": {
        "colab": {
          "base_uri": "https://localhost:8080/",
          "height": 36
        },
        "id": "dgW6kglx8T_l",
        "outputId": "e0e92aa8-9a7e-4a6a-907c-db8ec56ae28d"
      },
      "source": [
        "df['reviews.text'][8505]"
      ],
      "execution_count": 7,
      "outputs": [
        {
          "output_type": "execute_result",
          "data": {
            "text/plain": [
              "'Have had zero issues with longevity or voltage. As good as the major brand batteries'"
            ],
            "application/vnd.google.colaboratory.intrinsic+json": {
              "type": "string"
            }
          },
          "metadata": {},
          "execution_count": 7
        }
      ]
    },
    {
      "cell_type": "code",
      "metadata": {
        "deletable": false,
        "nbgrader": {
          "cell_type": "code",
          "checksum": "a2513c0ebd04cf8645fe0a1feb1e1a36",
          "grade": false,
          "grade_id": "cell-fa0950cfe5ef7725",
          "locked": false,
          "schema_version": 3,
          "solution": true,
          "task": false
        },
        "id": "4xo_hkHKzGd7"
      },
      "source": [
        "def clean_data(text):\n",
        "  \"\"\"\n",
        "  Cleans data to remove unwanted characters and punctuation.\n",
        "  \"\"\"\n",
        " # YOUR CODE HERE\n",
        " # Remove new line and '\\xa0' characters\n",
        "  text = \" \".join(text.split())\n",
        " # Remove punctuation\n",
        "  text = re.sub('[^a-zA-Z$ 0-9]', '', text)\n",
        " # Remove any double whitespaces created by cleaning\n",
        "  text = re.sub(\"[ ]{2,}\", ' ', text)\n",
        "\n",
        "  return text.lower()"
      ],
      "execution_count": 8,
      "outputs": []
    },
    {
      "cell_type": "code",
      "metadata": {
        "deletable": false,
        "nbgrader": {
          "cell_type": "code",
          "checksum": "a6ceefe5476e71efcb3d36c3e203616f",
          "grade": false,
          "grade_id": "cell-5b8e2bc0f9a745f3",
          "locked": false,
          "schema_version": 3,
          "solution": true,
          "task": false
        },
        "id": "H693L3fJzGd8"
      },
      "source": [
        "# create a clean_text column by applying  clean_data to your text\n",
        "df['clean_text'] = df['reviews.text'].apply(clean_data)"
      ],
      "execution_count": 9,
      "outputs": []
    },
    {
      "cell_type": "code",
      "metadata": {
        "id": "5FMvAhkBzGd8"
      },
      "source": [
        "alphebetical_chars = [\"ABCDEFGHIJKLMNOP\"]\n",
        "# check if any of these alphabetical chars exist in your clean chars\n",
        "assert df.clean_text.isin(alphebetical_chars).sum() == 0, \"Did you case normalize your text inside of your clean_data function?\""
      ],
      "execution_count": 10,
      "outputs": []
    },
    {
      "cell_type": "markdown",
      "metadata": {
        "id": "kzqt1ainzGd8"
      },
      "source": [
        "------\n",
        "\n",
        "## Determine number of topics\n",
        "\n",
        "We are going to run an experiment to determine how many topics exists within the `primaryCategories` of `Electronics`. This is the largest primary category containing nearly 14K documents, so we should have plenty of data.\n",
        "\n",
        "Just as we did in the guided project, we'll be running a gridseach over the number of topics and scoring each model using the Coherence metric to determine which number of topics we should use.\n"
      ]
    },
    {
      "cell_type": "code",
      "metadata": {
        "id": "3jrHewGbzGd9"
      },
      "source": [
        "# create a mask for docs that are in the Electronics primaryCategories - save result to `electronics_mask`\n",
        "electronics_mask = df.primaryCategories.isin([\"Electronics\"])\n",
        "\n",
        "# use mask to select all the documents in the Electronics primaryCategories - save result to `df_electronics`\n",
        "df_electronics = df[electronics_mask]"
      ],
      "execution_count": 11,
      "outputs": []
    },
    {
      "cell_type": "code",
      "metadata": {
        "colab": {
          "base_uri": "https://localhost:8080/",
          "height": 435
        },
        "id": "peb18zW3zGd9",
        "outputId": "fb221dc7-67c8-4df4-92eb-63ceff13da2e"
      },
      "source": [
        "df_electronics.head(3)"
      ],
      "execution_count": 12,
      "outputs": [
        {
          "output_type": "execute_result",
          "data": {
            "text/plain": [
              "                        id             dateAdded           dateUpdated  \\\n",
              "8343  AVpe7nGV1cnluZ0-aG2o  2014-10-28T11:14:38Z  2019-04-25T09:05:28Z   \n",
              "8344  AVpe7nGV1cnluZ0-aG2o  2014-10-28T11:14:38Z  2019-04-25T09:05:28Z   \n",
              "8345  AVpe7nGV1cnluZ0-aG2o  2014-10-28T11:14:38Z  2019-04-25T09:05:28Z   \n",
              "\n",
              "                                                 name                  asins  \\\n",
              "8343  AmazonBasics Nylon CD/DVD Binder (400 Capacity)  B00DIHVMEA,B00EZ1ZTV0   \n",
              "8344  AmazonBasics Nylon CD/DVD Binder (400 Capacity)  B00DIHVMEA,B00EZ1ZTV0   \n",
              "8345  AmazonBasics Nylon CD/DVD Binder (400 Capacity)  B00DIHVMEA,B00EZ1ZTV0   \n",
              "\n",
              "             brand                                         categories  \\\n",
              "8343  Amazonbasics  Audio & Video Accessories,TV, Video & Home Aud...   \n",
              "8344  Amazonbasics  Audio & Video Accessories,TV, Video & Home Aud...   \n",
              "8345  Amazonbasics  Audio & Video Accessories,TV, Video & Home Aud...   \n",
              "\n",
              "     primaryCategories                                          imageURLs  \\\n",
              "8343       Electronics  http://ecx.images-amazon.com/images/I/41jQha7Z...   \n",
              "8344       Electronics  http://ecx.images-amazon.com/images/I/41jQha7Z...   \n",
              "8345       Electronics  http://ecx.images-amazon.com/images/I/41jQha7Z...   \n",
              "\n",
              "                                                   keys  ...  \\\n",
              "8343  amazonbasicsnyloncddvdbinder400capacity/b00ez1...  ...   \n",
              "8344  amazonbasicsnyloncddvdbinder400capacity/b00ez1...  ...   \n",
              "8345  amazonbasicsnyloncddvdbinder400capacity/b00ez1...  ...   \n",
              "\n",
              "     reviews.doRecommend reviews.id reviews.numHelpful reviews.rating  \\\n",
              "8343                 NaN        NaN                NaN              5   \n",
              "8344                 NaN        NaN                NaN              5   \n",
              "8345                 NaN        NaN                NaN              5   \n",
              "\n",
              "                                     reviews.sourceURLs  \\\n",
              "8343  https://www.ebay.com/itm/Amazonbasics-Nylon-Cd...   \n",
              "8344  http://www.amazon.co.uk/gp/product-reviews/B00...   \n",
              "8345  https://www.ebay.com/itm/Amazonbasics-Nylon-Cd...   \n",
              "\n",
              "                                           reviews.text  \\\n",
              "8343  Great case to keep everything in its place! My...   \n",
              "8344  After discarding and getting rid of broken cd ...   \n",
              "8345     A few dollars more, but I am boycotting amazon   \n",
              "\n",
              "                     reviews.title  reviews.username  \\\n",
              "8343             Excellent product           qs341_5   \n",
              "8344  It was a much needed storage          Diablita   \n",
              "8345               it was worth it  coldbloodblazing   \n",
              "\n",
              "                                             sourceURLs  \\\n",
              "8343  https://www.ebay.com/itm/AmazonBasics-Nylon-CD...   \n",
              "8344  https://www.ebay.com/itm/AmazonBasics-Nylon-CD...   \n",
              "8345  https://www.ebay.com/itm/AmazonBasics-Nylon-CD...   \n",
              "\n",
              "                                             clean_text  \n",
              "8343  great case to keep everything in its place my ...  \n",
              "8344  after discarding and getting rid of broken cd ...  \n",
              "8345      a few dollars more but i am boycotting amazon  \n",
              "\n",
              "[3 rows x 25 columns]"
            ],
            "text/html": [
              "\n",
              "  <div id=\"df-73660191-1789-4247-89b8-fe0bd8f79ee4\" class=\"colab-df-container\">\n",
              "    <div>\n",
              "<style scoped>\n",
              "    .dataframe tbody tr th:only-of-type {\n",
              "        vertical-align: middle;\n",
              "    }\n",
              "\n",
              "    .dataframe tbody tr th {\n",
              "        vertical-align: top;\n",
              "    }\n",
              "\n",
              "    .dataframe thead th {\n",
              "        text-align: right;\n",
              "    }\n",
              "</style>\n",
              "<table border=\"1\" class=\"dataframe\">\n",
              "  <thead>\n",
              "    <tr style=\"text-align: right;\">\n",
              "      <th></th>\n",
              "      <th>id</th>\n",
              "      <th>dateAdded</th>\n",
              "      <th>dateUpdated</th>\n",
              "      <th>name</th>\n",
              "      <th>asins</th>\n",
              "      <th>brand</th>\n",
              "      <th>categories</th>\n",
              "      <th>primaryCategories</th>\n",
              "      <th>imageURLs</th>\n",
              "      <th>keys</th>\n",
              "      <th>...</th>\n",
              "      <th>reviews.doRecommend</th>\n",
              "      <th>reviews.id</th>\n",
              "      <th>reviews.numHelpful</th>\n",
              "      <th>reviews.rating</th>\n",
              "      <th>reviews.sourceURLs</th>\n",
              "      <th>reviews.text</th>\n",
              "      <th>reviews.title</th>\n",
              "      <th>reviews.username</th>\n",
              "      <th>sourceURLs</th>\n",
              "      <th>clean_text</th>\n",
              "    </tr>\n",
              "  </thead>\n",
              "  <tbody>\n",
              "    <tr>\n",
              "      <th>8343</th>\n",
              "      <td>AVpe7nGV1cnluZ0-aG2o</td>\n",
              "      <td>2014-10-28T11:14:38Z</td>\n",
              "      <td>2019-04-25T09:05:28Z</td>\n",
              "      <td>AmazonBasics Nylon CD/DVD Binder (400 Capacity)</td>\n",
              "      <td>B00DIHVMEA,B00EZ1ZTV0</td>\n",
              "      <td>Amazonbasics</td>\n",
              "      <td>Audio &amp; Video Accessories,TV, Video &amp; Home Aud...</td>\n",
              "      <td>Electronics</td>\n",
              "      <td>http://ecx.images-amazon.com/images/I/41jQha7Z...</td>\n",
              "      <td>amazonbasicsnyloncddvdbinder400capacity/b00ez1...</td>\n",
              "      <td>...</td>\n",
              "      <td>NaN</td>\n",
              "      <td>NaN</td>\n",
              "      <td>NaN</td>\n",
              "      <td>5</td>\n",
              "      <td>https://www.ebay.com/itm/Amazonbasics-Nylon-Cd...</td>\n",
              "      <td>Great case to keep everything in its place! My...</td>\n",
              "      <td>Excellent product</td>\n",
              "      <td>qs341_5</td>\n",
              "      <td>https://www.ebay.com/itm/AmazonBasics-Nylon-CD...</td>\n",
              "      <td>great case to keep everything in its place my ...</td>\n",
              "    </tr>\n",
              "    <tr>\n",
              "      <th>8344</th>\n",
              "      <td>AVpe7nGV1cnluZ0-aG2o</td>\n",
              "      <td>2014-10-28T11:14:38Z</td>\n",
              "      <td>2019-04-25T09:05:28Z</td>\n",
              "      <td>AmazonBasics Nylon CD/DVD Binder (400 Capacity)</td>\n",
              "      <td>B00DIHVMEA,B00EZ1ZTV0</td>\n",
              "      <td>Amazonbasics</td>\n",
              "      <td>Audio &amp; Video Accessories,TV, Video &amp; Home Aud...</td>\n",
              "      <td>Electronics</td>\n",
              "      <td>http://ecx.images-amazon.com/images/I/41jQha7Z...</td>\n",
              "      <td>amazonbasicsnyloncddvdbinder400capacity/b00ez1...</td>\n",
              "      <td>...</td>\n",
              "      <td>NaN</td>\n",
              "      <td>NaN</td>\n",
              "      <td>NaN</td>\n",
              "      <td>5</td>\n",
              "      <td>http://www.amazon.co.uk/gp/product-reviews/B00...</td>\n",
              "      <td>After discarding and getting rid of broken cd ...</td>\n",
              "      <td>It was a much needed storage</td>\n",
              "      <td>Diablita</td>\n",
              "      <td>https://www.ebay.com/itm/AmazonBasics-Nylon-CD...</td>\n",
              "      <td>after discarding and getting rid of broken cd ...</td>\n",
              "    </tr>\n",
              "    <tr>\n",
              "      <th>8345</th>\n",
              "      <td>AVpe7nGV1cnluZ0-aG2o</td>\n",
              "      <td>2014-10-28T11:14:38Z</td>\n",
              "      <td>2019-04-25T09:05:28Z</td>\n",
              "      <td>AmazonBasics Nylon CD/DVD Binder (400 Capacity)</td>\n",
              "      <td>B00DIHVMEA,B00EZ1ZTV0</td>\n",
              "      <td>Amazonbasics</td>\n",
              "      <td>Audio &amp; Video Accessories,TV, Video &amp; Home Aud...</td>\n",
              "      <td>Electronics</td>\n",
              "      <td>http://ecx.images-amazon.com/images/I/41jQha7Z...</td>\n",
              "      <td>amazonbasicsnyloncddvdbinder400capacity/b00ez1...</td>\n",
              "      <td>...</td>\n",
              "      <td>NaN</td>\n",
              "      <td>NaN</td>\n",
              "      <td>NaN</td>\n",
              "      <td>5</td>\n",
              "      <td>https://www.ebay.com/itm/Amazonbasics-Nylon-Cd...</td>\n",
              "      <td>A few dollars more, but I am boycotting amazon</td>\n",
              "      <td>it was worth it</td>\n",
              "      <td>coldbloodblazing</td>\n",
              "      <td>https://www.ebay.com/itm/AmazonBasics-Nylon-CD...</td>\n",
              "      <td>a few dollars more but i am boycotting amazon</td>\n",
              "    </tr>\n",
              "  </tbody>\n",
              "</table>\n",
              "<p>3 rows × 25 columns</p>\n",
              "</div>\n",
              "    <div class=\"colab-df-buttons\">\n",
              "\n",
              "  <div class=\"colab-df-container\">\n",
              "    <button class=\"colab-df-convert\" onclick=\"convertToInteractive('df-73660191-1789-4247-89b8-fe0bd8f79ee4')\"\n",
              "            title=\"Convert this dataframe to an interactive table.\"\n",
              "            style=\"display:none;\">\n",
              "\n",
              "  <svg xmlns=\"http://www.w3.org/2000/svg\" height=\"24px\" viewBox=\"0 -960 960 960\">\n",
              "    <path d=\"M120-120v-720h720v720H120Zm60-500h600v-160H180v160Zm220 220h160v-160H400v160Zm0 220h160v-160H400v160ZM180-400h160v-160H180v160Zm440 0h160v-160H620v160ZM180-180h160v-160H180v160Zm440 0h160v-160H620v160Z\"/>\n",
              "  </svg>\n",
              "    </button>\n",
              "\n",
              "  <style>\n",
              "    .colab-df-container {\n",
              "      display:flex;\n",
              "      gap: 12px;\n",
              "    }\n",
              "\n",
              "    .colab-df-convert {\n",
              "      background-color: #E8F0FE;\n",
              "      border: none;\n",
              "      border-radius: 50%;\n",
              "      cursor: pointer;\n",
              "      display: none;\n",
              "      fill: #1967D2;\n",
              "      height: 32px;\n",
              "      padding: 0 0 0 0;\n",
              "      width: 32px;\n",
              "    }\n",
              "\n",
              "    .colab-df-convert:hover {\n",
              "      background-color: #E2EBFA;\n",
              "      box-shadow: 0px 1px 2px rgba(60, 64, 67, 0.3), 0px 1px 3px 1px rgba(60, 64, 67, 0.15);\n",
              "      fill: #174EA6;\n",
              "    }\n",
              "\n",
              "    .colab-df-buttons div {\n",
              "      margin-bottom: 4px;\n",
              "    }\n",
              "\n",
              "    [theme=dark] .colab-df-convert {\n",
              "      background-color: #3B4455;\n",
              "      fill: #D2E3FC;\n",
              "    }\n",
              "\n",
              "    [theme=dark] .colab-df-convert:hover {\n",
              "      background-color: #434B5C;\n",
              "      box-shadow: 0px 1px 3px 1px rgba(0, 0, 0, 0.15);\n",
              "      filter: drop-shadow(0px 1px 2px rgba(0, 0, 0, 0.3));\n",
              "      fill: #FFFFFF;\n",
              "    }\n",
              "  </style>\n",
              "\n",
              "    <script>\n",
              "      const buttonEl =\n",
              "        document.querySelector('#df-73660191-1789-4247-89b8-fe0bd8f79ee4 button.colab-df-convert');\n",
              "      buttonEl.style.display =\n",
              "        google.colab.kernel.accessAllowed ? 'block' : 'none';\n",
              "\n",
              "      async function convertToInteractive(key) {\n",
              "        const element = document.querySelector('#df-73660191-1789-4247-89b8-fe0bd8f79ee4');\n",
              "        const dataTable =\n",
              "          await google.colab.kernel.invokeFunction('convertToInteractive',\n",
              "                                                    [key], {});\n",
              "        if (!dataTable) return;\n",
              "\n",
              "        const docLinkHtml = 'Like what you see? Visit the ' +\n",
              "          '<a target=\"_blank\" href=https://colab.research.google.com/notebooks/data_table.ipynb>data table notebook</a>'\n",
              "          + ' to learn more about interactive tables.';\n",
              "        element.innerHTML = '';\n",
              "        dataTable['output_type'] = 'display_data';\n",
              "        await google.colab.output.renderOutput(dataTable, element);\n",
              "        const docLink = document.createElement('div');\n",
              "        docLink.innerHTML = docLinkHtml;\n",
              "        element.appendChild(docLink);\n",
              "      }\n",
              "    </script>\n",
              "  </div>\n",
              "\n",
              "\n",
              "<div id=\"df-9fe1508c-fa4e-4f40-98bb-e0d98163257a\">\n",
              "  <button class=\"colab-df-quickchart\" onclick=\"quickchart('df-9fe1508c-fa4e-4f40-98bb-e0d98163257a')\"\n",
              "            title=\"Suggest charts\"\n",
              "            style=\"display:none;\">\n",
              "\n",
              "<svg xmlns=\"http://www.w3.org/2000/svg\" height=\"24px\"viewBox=\"0 0 24 24\"\n",
              "     width=\"24px\">\n",
              "    <g>\n",
              "        <path d=\"M19 3H5c-1.1 0-2 .9-2 2v14c0 1.1.9 2 2 2h14c1.1 0 2-.9 2-2V5c0-1.1-.9-2-2-2zM9 17H7v-7h2v7zm4 0h-2V7h2v10zm4 0h-2v-4h2v4z\"/>\n",
              "    </g>\n",
              "</svg>\n",
              "  </button>\n",
              "\n",
              "<style>\n",
              "  .colab-df-quickchart {\n",
              "      --bg-color: #E8F0FE;\n",
              "      --fill-color: #1967D2;\n",
              "      --hover-bg-color: #E2EBFA;\n",
              "      --hover-fill-color: #174EA6;\n",
              "      --disabled-fill-color: #AAA;\n",
              "      --disabled-bg-color: #DDD;\n",
              "  }\n",
              "\n",
              "  [theme=dark] .colab-df-quickchart {\n",
              "      --bg-color: #3B4455;\n",
              "      --fill-color: #D2E3FC;\n",
              "      --hover-bg-color: #434B5C;\n",
              "      --hover-fill-color: #FFFFFF;\n",
              "      --disabled-bg-color: #3B4455;\n",
              "      --disabled-fill-color: #666;\n",
              "  }\n",
              "\n",
              "  .colab-df-quickchart {\n",
              "    background-color: var(--bg-color);\n",
              "    border: none;\n",
              "    border-radius: 50%;\n",
              "    cursor: pointer;\n",
              "    display: none;\n",
              "    fill: var(--fill-color);\n",
              "    height: 32px;\n",
              "    padding: 0;\n",
              "    width: 32px;\n",
              "  }\n",
              "\n",
              "  .colab-df-quickchart:hover {\n",
              "    background-color: var(--hover-bg-color);\n",
              "    box-shadow: 0 1px 2px rgba(60, 64, 67, 0.3), 0 1px 3px 1px rgba(60, 64, 67, 0.15);\n",
              "    fill: var(--button-hover-fill-color);\n",
              "  }\n",
              "\n",
              "  .colab-df-quickchart-complete:disabled,\n",
              "  .colab-df-quickchart-complete:disabled:hover {\n",
              "    background-color: var(--disabled-bg-color);\n",
              "    fill: var(--disabled-fill-color);\n",
              "    box-shadow: none;\n",
              "  }\n",
              "\n",
              "  .colab-df-spinner {\n",
              "    border: 2px solid var(--fill-color);\n",
              "    border-color: transparent;\n",
              "    border-bottom-color: var(--fill-color);\n",
              "    animation:\n",
              "      spin 1s steps(1) infinite;\n",
              "  }\n",
              "\n",
              "  @keyframes spin {\n",
              "    0% {\n",
              "      border-color: transparent;\n",
              "      border-bottom-color: var(--fill-color);\n",
              "      border-left-color: var(--fill-color);\n",
              "    }\n",
              "    20% {\n",
              "      border-color: transparent;\n",
              "      border-left-color: var(--fill-color);\n",
              "      border-top-color: var(--fill-color);\n",
              "    }\n",
              "    30% {\n",
              "      border-color: transparent;\n",
              "      border-left-color: var(--fill-color);\n",
              "      border-top-color: var(--fill-color);\n",
              "      border-right-color: var(--fill-color);\n",
              "    }\n",
              "    40% {\n",
              "      border-color: transparent;\n",
              "      border-right-color: var(--fill-color);\n",
              "      border-top-color: var(--fill-color);\n",
              "    }\n",
              "    60% {\n",
              "      border-color: transparent;\n",
              "      border-right-color: var(--fill-color);\n",
              "    }\n",
              "    80% {\n",
              "      border-color: transparent;\n",
              "      border-right-color: var(--fill-color);\n",
              "      border-bottom-color: var(--fill-color);\n",
              "    }\n",
              "    90% {\n",
              "      border-color: transparent;\n",
              "      border-bottom-color: var(--fill-color);\n",
              "    }\n",
              "  }\n",
              "</style>\n",
              "\n",
              "  <script>\n",
              "    async function quickchart(key) {\n",
              "      const quickchartButtonEl =\n",
              "        document.querySelector('#' + key + ' button');\n",
              "      quickchartButtonEl.disabled = true;  // To prevent multiple clicks.\n",
              "      quickchartButtonEl.classList.add('colab-df-spinner');\n",
              "      try {\n",
              "        const charts = await google.colab.kernel.invokeFunction(\n",
              "            'suggestCharts', [key], {});\n",
              "      } catch (error) {\n",
              "        console.error('Error during call to suggestCharts:', error);\n",
              "      }\n",
              "      quickchartButtonEl.classList.remove('colab-df-spinner');\n",
              "      quickchartButtonEl.classList.add('colab-df-quickchart-complete');\n",
              "    }\n",
              "    (() => {\n",
              "      let quickchartButtonEl =\n",
              "        document.querySelector('#df-9fe1508c-fa4e-4f40-98bb-e0d98163257a button');\n",
              "      quickchartButtonEl.style.display =\n",
              "        google.colab.kernel.accessAllowed ? 'block' : 'none';\n",
              "    })();\n",
              "  </script>\n",
              "</div>\n",
              "\n",
              "    </div>\n",
              "  </div>\n"
            ],
            "application/vnd.google.colaboratory.intrinsic+json": {
              "type": "dataframe",
              "variable_name": "df_electronics"
            }
          },
          "metadata": {},
          "execution_count": 12
        }
      ]
    },
    {
      "cell_type": "markdown",
      "metadata": {
        "id": "FfZWF0I9zGd-"
      },
      "source": [
        "------\n",
        "### Tokenize your documents\n",
        "\n",
        "Remember that you'll need to use the [**corpora**](https://radimrehurek.com/gensim/corpora/dictionary.html) class from the Gensim library. So definitely check out the docs to learn more about this tool. There is an example on how to do this in the guided project.\n",
        "\n",
        "But before we can use the [**corpora**](https://radimrehurek.com/gensim/corpora/dictionary.html) class, we must first tokenize our articles.\n",
        "\n"
      ]
    },
    {
      "cell_type": "code",
      "metadata": {
        "id": "t6pNnk3vzGd-"
      },
      "source": [
        "# load in the spaCy language model\n",
        "nlp = spacy.load(\"en_core_web_md\")"
      ],
      "execution_count": 13,
      "outputs": []
    },
    {
      "cell_type": "code",
      "source": [],
      "metadata": {
        "id": "wvW9UmechtTA"
      },
      "execution_count": null,
      "outputs": []
    },
    {
      "cell_type": "code",
      "metadata": {
        "id": "2rAMfVfB1PS-",
        "colab": {
          "base_uri": "https://localhost:8080/"
        },
        "outputId": "d861a126-dabb-422f-fde3-03479c28c542"
      },
      "source": [
        "# Original assignment (SKIPPED here, used solution video code)\n",
        "# identify how many processors your machine has - save the result to `n_processors`\n",
        "import os\n",
        "\n",
        "# Check the number of CPU cores\n",
        "n_processors = os.cpu_count()\n",
        "print(\"Number of CPU cores:\", n_processors)\n",
        "\n",
        "# subtract 1 from n_processors - save the result to `nb_workers`\n",
        "nb_workers = n_processors - 1\n",
        "# initialize just like we did in the guided project\n",
        "# YOUR CODE HERE\n",
        "pandarallel.initialize(progress_bar=True, nb_workers = nb_workers)"
      ],
      "execution_count": null,
      "outputs": [
        {
          "output_type": "stream",
          "name": "stdout",
          "text": [
            "Number of CPU cores: 2\n",
            "INFO: Pandarallel will run on 1 workers.\n",
            "INFO: Pandarallel will use Memory file system to transfer data between the main process and workers.\n"
          ]
        }
      ]
    },
    {
      "cell_type": "code",
      "metadata": {
        "id": "05x-KJPIBQa2",
        "colab": {
          "base_uri": "https://localhost:8080/"
        },
        "outputId": "758c4be2-e327-45ed-8ebb-514be36f0c9a"
      },
      "source": [
        "%%time\n",
        "# Skipped the list comprehension in the original assignment\n",
        "# create our tokens in the form of lemmas\n",
        "# We're using parallel_apply here so we need to run pandarallel first before this cell\n",
        "# df_electronics['lemmas'] = df_electronics['clean_text'].parallel_apply(lambda x: [token.lemma_ for token in nlp(x) if (token.is_stop != True) and (token.is_punct != True)])\n",
        "\n",
        "# Or if we don't use list comprehension, we will write out the full for loop like this like in solution video:\n",
        "def tokenizer(text):\n",
        "  lemmas = []\n",
        "  for token in nlp(text):\n",
        "    if (not token.is_stop) and (not token.is_punct) and (not token.is_space):\n",
        "      lemmas.append(token.lemma_.lower())\n",
        "  return lemmas"
      ],
      "execution_count": 14,
      "outputs": [
        {
          "output_type": "stream",
          "name": "stdout",
          "text": [
            "CPU times: user 5 µs, sys: 0 ns, total: 5 µs\n",
            "Wall time: 8.58 µs\n"
          ]
        }
      ]
    },
    {
      "cell_type": "code",
      "source": [
        "# Initialize pandarallel to use 10 workers\n",
        "pandarallel.initialize(progress_bar=True, nb_workers=10)"
      ],
      "metadata": {
        "colab": {
          "base_uri": "https://localhost:8080/"
        },
        "id": "NFP-Y3H_lEGb",
        "outputId": "33bb3fc0-51b8-47d1-d90f-7bdf9d7e22a0"
      },
      "execution_count": 15,
      "outputs": [
        {
          "output_type": "stream",
          "name": "stdout",
          "text": [
            "INFO: Pandarallel will run on 10 workers.\n",
            "INFO: Pandarallel will use Memory file system to transfer data between the main process and workers.\n"
          ]
        }
      ]
    },
    {
      "cell_type": "code",
      "source": [
        "%%time\n",
        "# ~2.5 mins with 10 workers on Colab\n",
        "# pandarallel and pyLDAvis not agreeing on the Python version to use, so I just skipped using pandarallel and it took 3 mins to run tokenizer\n",
        "# Create our tokens in the form of lemmas\n",
        "df_electronics['lemmas'] = df_electronics['clean_text'].apply(tokenizer) # instead of .parallel_apply(tokenizer)"
      ],
      "metadata": {
        "colab": {
          "base_uri": "https://localhost:8080/"
        },
        "id": "fapJFsmvlWkb",
        "outputId": "3afb3c4a-a382-4af1-f2e2-8cfaf3d04ca8"
      },
      "execution_count": 17,
      "outputs": [
        {
          "output_type": "stream",
          "name": "stdout",
          "text": [
            "CPU times: user 3min 3s, sys: 684 ms, total: 3min 4s\n",
            "Wall time: 3min 7s\n"
          ]
        }
      ]
    },
    {
      "cell_type": "code",
      "source": [
        "df_electronics['lemmas'].iloc[0]"
      ],
      "metadata": {
        "colab": {
          "base_uri": "https://localhost:8080/"
        },
        "id": "IlcwQkGDo7sF",
        "outputId": "fd3fdc29-fc9b-4df4-fe49-a9429b4d3dfb"
      },
      "execution_count": 18,
      "outputs": [
        {
          "output_type": "execute_result",
          "data": {
            "text/plain": [
              "['great', 'case', 'place', 'husband', 'love', 'hold', 'lot', 'cd']"
            ]
          },
          "metadata": {},
          "execution_count": 18
        }
      ]
    },
    {
      "cell_type": "markdown",
      "metadata": {
        "id": "WS7vTVqnzGd_"
      },
      "source": [
        "### Use the corpora class to prep your data for LDA\n",
        "\n",
        "You'll need to create the same `id2word` and `corpus` objects that we created in the guided projects. So be sure to reference the guided project notebook if you need to."
      ]
    },
    {
      "cell_type": "code",
      "metadata": {
        "deletable": false,
        "nbgrader": {
          "cell_type": "code",
          "checksum": "53bf811aebb39e7ed6fc592851f82f8b",
          "grade": false,
          "grade_id": "cell-9d92f28649aa999e",
          "locked": false,
          "schema_version": 3,
          "solution": true,
          "task": false
        },
        "id": "7paL9zS7zGd_"
      },
      "source": [
        "# Create lemma dictionary using Dictionary - save result to `id2word`\n",
        "# corpora from gensim\n",
        "# id2word is a gensim dictionary object for the corpora that maps word IDs to words\n",
        "id2word = corpora.Dictionary(df_electronics['lemmas'])\n",
        "\n",
        "# Create Term Document Frequency list - save result to `corpus`\n",
        "# text is the list of lemmas correspond to a review\n",
        "corpus = [id2word.doc2bow(text) for text in df_electronics['lemmas']]\n",
        "\n",
        "# YOUR CODE HERE\n"
      ],
      "execution_count": 21,
      "outputs": []
    },
    {
      "cell_type": "markdown",
      "source": [
        "id2word is a gensim dictionary object for the corpora that maps words ids to words."
      ],
      "metadata": {
        "id": "60sqwyFtp0rP"
      }
    },
    {
      "cell_type": "code",
      "source": [
        "type(id2word)"
      ],
      "metadata": {
        "colab": {
          "base_uri": "https://localhost:8080/",
          "height": 186
        },
        "id": "eSbLSHRfprwI",
        "outputId": "9c5c023d-e89b-4468-bc3f-02b44cfe7038"
      },
      "execution_count": 22,
      "outputs": [
        {
          "output_type": "execute_result",
          "data": {
            "text/plain": [
              "gensim.corpora.dictionary.Dictionary"
            ],
            "text/html": [
              "<div style=\"max-width:800px; border: 1px solid var(--colab-border-color);\"><style>\n",
              "      pre.function-repr-contents {\n",
              "        overflow-x: auto;\n",
              "        padding: 8px 12px;\n",
              "        max-height: 500px;\n",
              "      }\n",
              "\n",
              "      pre.function-repr-contents.function-repr-contents-collapsed {\n",
              "        cursor: pointer;\n",
              "        max-height: 100px;\n",
              "      }\n",
              "    </style>\n",
              "    <pre style=\"white-space: initial; background:\n",
              "         var(--colab-secondary-surface-color); padding: 8px 12px;\n",
              "         border-bottom: 1px solid var(--colab-border-color);\"><b>gensim.corpora.dictionary.Dictionary</b><br/>def __init__(documents=None, prune_at=2000000)</pre><pre class=\"function-repr-contents function-repr-contents-collapsed\" style=\"\"><a class=\"filepath\" style=\"display:none\" href=\"#\">/usr/local/lib/python3.10/dist-packages/gensim/corpora/dictionary.py</a>Dictionary encapsulates the mapping between normalized words and their integer ids.\n",
              "\n",
              "Notable instance attributes:\n",
              "\n",
              "Attributes\n",
              "----------\n",
              "token2id : dict of (str, int)\n",
              "    token -&gt; token_id. I.e. the reverse mapping to `self[token_id]`.\n",
              "cfs : dict of (int, int)\n",
              "    Collection frequencies: token_id -&gt; how many instances of this token are contained in the documents.\n",
              "dfs : dict of (int, int)\n",
              "    Document frequencies: token_id -&gt; how many documents contain this token.\n",
              "num_docs : int\n",
              "    Number of documents processed.\n",
              "num_pos : int\n",
              "    Total number of corpus positions (number of processed words).\n",
              "num_nnz : int\n",
              "    Total number of non-zeroes in the BOW matrix (sum of the number of unique\n",
              "    words per document over the entire corpus).</pre>\n",
              "      <script>\n",
              "      if (google.colab.kernel.accessAllowed && google.colab.files && google.colab.files.view) {\n",
              "        for (const element of document.querySelectorAll('.filepath')) {\n",
              "          element.style.display = 'block'\n",
              "          element.onclick = (event) => {\n",
              "            event.preventDefault();\n",
              "            event.stopPropagation();\n",
              "            google.colab.files.view(element.textContent, 21);\n",
              "          };\n",
              "        }\n",
              "      }\n",
              "      for (const element of document.querySelectorAll('.function-repr-contents')) {\n",
              "        element.onclick = (event) => {\n",
              "          event.preventDefault();\n",
              "          event.stopPropagation();\n",
              "          element.classList.toggle('function-repr-contents-collapsed');\n",
              "        };\n",
              "      }\n",
              "      </script>\n",
              "      </div>"
            ]
          },
          "metadata": {},
          "execution_count": 22
        }
      ]
    },
    {
      "cell_type": "code",
      "source": [
        "# The first 8 word IDs correspond to the words in the first review\n",
        "[id2word[index] for index in range(8)]"
      ],
      "metadata": {
        "colab": {
          "base_uri": "https://localhost:8080/"
        },
        "id": "5Ms3T8yXp_K5",
        "outputId": "cd4b22bd-ea58-45b2-bc9c-7bfb3a3bdafc"
      },
      "execution_count": 23,
      "outputs": [
        {
          "output_type": "execute_result",
          "data": {
            "text/plain": [
              "['case', 'cd', 'great', 'hold', 'husband', 'lot', 'love', 'place']"
            ]
          },
          "metadata": {},
          "execution_count": 23
        }
      ]
    },
    {
      "cell_type": "code",
      "source": [
        "# Using id2word's .doc2bow() method, convert our input docs (list of lemmas) to their \"bag of words\" representation in gensim:\n",
        "# Return a list of tuples of (word ID, frequency), word 0 only appears 1 time, actually all words appear only once\n",
        "id2word.doc2bow(df_electronics['lemmas'].iloc[0])"
      ],
      "metadata": {
        "colab": {
          "base_uri": "https://localhost:8080/"
        },
        "id": "WUdl23yQqfYm",
        "outputId": "3d7d056a-4c99-4cb1-fe3a-3d27ba6db6f1"
      },
      "execution_count": 24,
      "outputs": [
        {
          "output_type": "execute_result",
          "data": {
            "text/plain": [
              "[(0, 1), (1, 1), (2, 1), (3, 1), (4, 1), (5, 1), (6, 1), (7, 1)]"
            ]
          },
          "metadata": {},
          "execution_count": 24
        }
      ]
    },
    {
      "cell_type": "code",
      "source": [
        "# In the 2000th review, Here is a list of tuples with the word ID aka lemma and their frequencies\n",
        "index = 2000\n",
        "print(f'corpus[2000] is {corpus[index]} \\n')"
      ],
      "metadata": {
        "colab": {
          "base_uri": "https://localhost:8080/"
        },
        "id": "DYEEYyuutgGY",
        "outputId": "04b76531-ea39-4697-8990-e7f3ecda975e"
      },
      "execution_count": 27,
      "outputs": [
        {
          "output_type": "stream",
          "name": "stdout",
          "text": [
            "corpus[2000] is [(6, 1), (40, 1), (58, 1), (65, 1), (109, 1), (118, 1), (120, 1), (133, 3), (151, 1), (159, 1), (168, 1), (190, 1), (195, 3), (241, 1), (256, 1), (291, 1), (439, 1), (479, 1), (727, 1), (1017, 1), (1341, 1), (1402, 1), (1502, 2), (1553, 1), (1582, 1), (1741, 1), (1759, 1), (2314, 1), (2323, 1), (2615, 1), (2784, 1), (2930, 2), (3040, 1), (3245, 1), (3743, 1)] \n",
            "\n"
          ]
        }
      ]
    },
    {
      "cell_type": "markdown",
      "metadata": {
        "id": "vtmHceiazGd_"
      },
      "source": [
        "## Gridsearch the number of topics\n",
        "\n",
        "Just as we did in the guided project, we're going to run a `for` loop over a range of possible number of topics and then plot the `coherence_values` to determine which number of topics leads to the most sensible grouping of documents."
      ]
    },
    {
      "cell_type": "code",
      "metadata": {
        "id": "FBICFYD4zGeA"
      },
      "source": [
        "def compute_coherence_values(dictionary, corpus, texts, limit, start=2, step=3): # limit is up to whatever number topics\n",
        "    \"\"\"\n",
        "    Compute c_v coherence for various number of topics\n",
        "\n",
        "    Parameters:\n",
        "    ----------\n",
        "    dictionary : Gensim dictionary\n",
        "    corpus : Gensim corpus\n",
        "    texts : List of input texts\n",
        "    limit : Max num of topics\n",
        "\n",
        "    Returns:\n",
        "    -------\n",
        "    model_list : List of LDA topic models\n",
        "    coherence_values : Coherence values corresponding to the LDA model with respective number of topics\n",
        "    \"\"\"\n",
        "    coherence_values = []\n",
        "    model_list = []\n",
        "    for num_topics in range(start, limit, step):\n",
        "        model = gensim.models.ldamulticore.LdaMulticore(corpus=corpus,           # ldamulticore is parallel processing\n",
        "                                                        id2word=id2word,\n",
        "                                                        num_topics=num_topics,\n",
        "                                                        chunksize=100,\n",
        "                                                        passes=10,\n",
        "                                                        random_state=1234,\n",
        "                                                        per_word_topics=True,\n",
        "                                                        workers=2)\n",
        "        model_list.append(model)\n",
        "        coherencemodel = CoherenceModel(model=model, texts=texts, dictionary=dictionary, coherence='c_v')\n",
        "        coherence_values.append(coherencemodel.get_coherence())\n",
        "\n",
        "    return model_list, coherence_values"
      ],
      "execution_count": 25,
      "outputs": []
    },
    {
      "cell_type": "code",
      "metadata": {
        "id": "Nn20KdDl2HUR",
        "colab": {
          "base_uri": "https://localhost:8080/"
        },
        "outputId": "dbb5c439-980a-4beb-c367-0e64682bf1bf"
      },
      "source": [
        "%%time\n",
        "model_list, coherence_values = compute_coherence_values(dictionary=id2word, corpus=corpus, texts=df_electronics['lemmas'], start=2, limit=16, step=2)"
      ],
      "execution_count": 26,
      "outputs": [
        {
          "output_type": "stream",
          "name": "stdout",
          "text": [
            "CPU times: user 3min 36s, sys: 11.6 s, total: 3min 47s\n",
            "Wall time: 7min 55s\n"
          ]
        }
      ]
    },
    {
      "cell_type": "code",
      "source": [
        "# So we have the number of topics and their coherence values\n",
        "# number of topics start from 2, 4, 6, 8.... all the way to 14, not 16 because it's not all-inclusive for the start/stop"
      ],
      "metadata": {
        "id": "AYj3ODgsu4w5"
      },
      "execution_count": 29,
      "outputs": []
    },
    {
      "cell_type": "code",
      "metadata": {
        "id": "k2kJsVLt2P5-",
        "colab": {
          "base_uri": "https://localhost:8080/",
          "height": 333
        },
        "outputId": "b3cf53dc-0448-4a9a-cd14-557a96ce8613"
      },
      "source": [
        "start=2; limit=16;  step=2;\n",
        "x = range(start, limit, step)\n",
        "\n",
        "plt.figure(figsize=(10,3))\n",
        "plt.grid()\n",
        "plt.title(\"Coherence Score vs. Number of Topics\")\n",
        "plt.xticks(x)\n",
        "plt.plot(x, coherence_values, \"-o\")\n",
        "\n",
        "plt.xlabel(\"Num Topics\")\n",
        "plt.ylabel(\"Coherence score\")\n",
        "\n",
        "plt.show();"
      ],
      "execution_count": 30,
      "outputs": [
        {
          "output_type": "display_data",
          "data": {
            "text/plain": [
              "<Figure size 1000x300 with 1 Axes>"
            ],
            "image/png": "[encoded data removed]"
          },
          "metadata": {}
        }
      ]
    },
    {
      "cell_type": "markdown",
      "source": [
        "For some reason, the solution video has the best coherence score when the number of topics is 6, but in my case it's 10."
      ],
      "metadata": {
        "id": "SOaRDOaKveaV"
      }
    },
    {
      "cell_type": "code",
      "metadata": {
        "deletable": false,
        "nbgrader": {
          "cell_type": "code",
          "checksum": "45f72ff929ab8b765d0f0b5f35137f0d",
          "grade": false,
          "grade_id": "cell-e97661faebf1ac3c",
          "locked": false,
          "schema_version": 3,
          "solution": true,
          "task": false
        },
        "id": "1Qx7OVX-zGeB",
        "colab": {
          "base_uri": "https://localhost:8080/"
        },
        "outputId": "2b457cd0-06ac-4083-838f-54c4e1d22378"
      },
      "source": [
        "# use np.argmax() to get index of largest coherence value from coherence_values - save result to `max_cohereance_val_index`\n",
        "\n",
        "# use `max_coherence_val_index` to index model_list for the corresponding model - save result to `lda_trained_model`\n",
        "\n",
        "max_coherence_val_index = np.argmax(coherence_values)\n",
        "print(f'Model number {max_coherence_val_index} has the highest coherence value.')\n",
        "\n",
        "lda_trained_model = model_list[max_coherence_val_index] # It's technically 10 topics with the highest score but in this case it's better to use 4 topics\n",
        "\n",
        "# YOUR CODE HERE"
      ],
      "execution_count": 36,
      "outputs": [
        {
          "output_type": "stream",
          "name": "stdout",
          "text": [
            "Model number 4 has the highest coherence value.\n"
          ]
        }
      ]
    },
    {
      "cell_type": "code",
      "metadata": {
        "colab": {
          "base_uri": "https://localhost:8080/"
        },
        "id": "7y-wokYcIg9_",
        "outputId": "2a16d01d-2b14-4422-aead-1908c138d43f"
      },
      "source": [
        "lda_trained_model"
      ],
      "execution_count": 35,
      "outputs": [
        {
          "output_type": "execute_result",
          "data": {
            "text/plain": [
              "<gensim.models.ldamulticore.LdaMulticore at 0x7bda82e04760>"
            ]
          },
          "metadata": {},
          "execution_count": 35
        }
      ]
    },
    {
      "cell_type": "markdown",
      "metadata": {
        "id": "LwGY4o8fzGeB"
      },
      "source": [
        "## Use pyLDAvis to visualize your topics\n",
        "\n",
        "Take a look at the topic bubbles and bar chart for the terms on the right hand side.  \n",
        "\n",
        "- Describe the topic bubbles.\n",
        "- Do they overlap or not?\n",
        "- What does it mean when they overlap?\n",
        "- What does it mean when they don't overlap?\n",
        "- Are the terms in each topic distinct from the topics in the other topic bubbles?\n"
      ]
    },
    {
      "cell_type": "code",
      "metadata": {
        "id": "9poWZ8WgItYS",
        "colab": {
          "base_uri": "https://localhost:8080/"
        },
        "outputId": "3351ae37-27cf-4fdb-8cac-6dd2e47a0c8c"
      },
      "source": [
        "!pip install ipywidgets"
      ],
      "execution_count": 31,
      "outputs": [
        {
          "output_type": "stream",
          "name": "stdout",
          "text": [
            "Requirement already satisfied: ipywidgets in /usr/local/lib/python3.10/dist-packages (7.7.1)\n",
            "Requirement already satisfied: ipykernel>=4.5.1 in /usr/local/lib/python3.10/dist-packages (from ipywidgets) (5.5.6)\n",
            "Requirement already satisfied: ipython-genutils~=0.2.0 in /usr/local/lib/python3.10/dist-packages (from ipywidgets) (0.2.0)\n",
            "Requirement already satisfied: traitlets>=4.3.1 in /usr/local/lib/python3.10/dist-packages (from ipywidgets) (5.7.1)\n",
            "Requirement already satisfied: widgetsnbextension~=3.6.0 in /usr/local/lib/python3.10/dist-packages (from ipywidgets) (3.6.6)\n",
            "Requirement already satisfied: ipython>=4.0.0 in /usr/local/lib/python3.10/dist-packages (from ipywidgets) (7.34.0)\n",
            "Requirement already satisfied: jupyterlab-widgets>=1.0.0 in /usr/local/lib/python3.10/dist-packages (from ipywidgets) (3.0.10)\n",
            "Requirement already satisfied: jupyter-client in /usr/local/lib/python3.10/dist-packages (from ipykernel>=4.5.1->ipywidgets) (6.1.12)\n",
            "Requirement already satisfied: tornado>=4.2 in /usr/local/lib/python3.10/dist-packages (from ipykernel>=4.5.1->ipywidgets) (6.3.3)\n",
            "Requirement already satisfied: setuptools>=18.5 in /usr/local/lib/python3.10/dist-packages (from ipython>=4.0.0->ipywidgets) (67.7.2)\n",
            "Collecting jedi>=0.16 (from ipython>=4.0.0->ipywidgets)\n",
            "  Downloading jedi-0.19.1-py2.py3-none-any.whl (1.6 MB)\n",
            "\u001b[2K     \u001b[90m━━━━━━━━━━━━━━━━━━━━━━━━━━━━━━━━━━━━━━━━\u001b[0m \u001b[32m1.6/1.6 MB\u001b[0m \u001b[31m12.5 MB/s\u001b[0m eta \u001b[36m0:00:00\u001b[0m\n",
            "\u001b[?25hRequirement already satisfied: decorator in /usr/local/lib/python3.10/dist-packages (from ipython>=4.0.0->ipywidgets) (4.4.2)\n",
            "Requirement already satisfied: pickleshare in /usr/local/lib/python3.10/dist-packages (from ipython>=4.0.0->ipywidgets) (0.7.5)\n",
            "Requirement already satisfied: prompt-toolkit!=3.0.0,!=3.0.1,<3.1.0,>=2.0.0 in /usr/local/lib/python3.10/dist-packages (from ipython>=4.0.0->ipywidgets) (3.0.43)\n",
            "Requirement already satisfied: pygments in /usr/local/lib/python3.10/dist-packages (from ipython>=4.0.0->ipywidgets) (2.16.1)\n",
            "Requirement already satisfied: backcall in /usr/local/lib/python3.10/dist-packages (from ipython>=4.0.0->ipywidgets) (0.2.0)\n",
            "Requirement already satisfied: matplotlib-inline in /usr/local/lib/python3.10/dist-packages (from ipython>=4.0.0->ipywidgets) (0.1.7)\n",
            "Requirement already satisfied: pexpect>4.3 in /usr/local/lib/python3.10/dist-packages (from ipython>=4.0.0->ipywidgets) (4.9.0)\n",
            "Requirement already satisfied: notebook>=4.4.1 in /usr/local/lib/python3.10/dist-packages (from widgetsnbextension~=3.6.0->ipywidgets) (6.5.5)\n",
            "Requirement already satisfied: parso<0.9.0,>=0.8.3 in /usr/local/lib/python3.10/dist-packages (from jedi>=0.16->ipython>=4.0.0->ipywidgets) (0.8.4)\n",
            "Requirement already satisfied: jinja2 in /usr/local/lib/python3.10/dist-packages (from notebook>=4.4.1->widgetsnbextension~=3.6.0->ipywidgets) (3.1.4)\n",
            "Requirement already satisfied: pyzmq<25,>=17 in /usr/local/lib/python3.10/dist-packages (from notebook>=4.4.1->widgetsnbextension~=3.6.0->ipywidgets) (24.0.1)\n",
            "Requirement already satisfied: argon2-cffi in /usr/local/lib/python3.10/dist-packages (from notebook>=4.4.1->widgetsnbextension~=3.6.0->ipywidgets) (23.1.0)\n",
            "Requirement already satisfied: jupyter-core>=4.6.1 in /usr/local/lib/python3.10/dist-packages (from notebook>=4.4.1->widgetsnbextension~=3.6.0->ipywidgets) (5.7.2)\n",
            "Requirement already satisfied: nbformat in /usr/local/lib/python3.10/dist-packages (from notebook>=4.4.1->widgetsnbextension~=3.6.0->ipywidgets) (5.10.4)\n",
            "Requirement already satisfied: nbconvert>=5 in /usr/local/lib/python3.10/dist-packages (from notebook>=4.4.1->widgetsnbextension~=3.6.0->ipywidgets) (6.5.4)\n",
            "Requirement already satisfied: nest-asyncio>=1.5 in /usr/local/lib/python3.10/dist-packages (from notebook>=4.4.1->widgetsnbextension~=3.6.0->ipywidgets) (1.6.0)\n",
            "Requirement already satisfied: Send2Trash>=1.8.0 in /usr/local/lib/python3.10/dist-packages (from notebook>=4.4.1->widgetsnbextension~=3.6.0->ipywidgets) (1.8.3)\n",
            "Requirement already satisfied: terminado>=0.8.3 in /usr/local/lib/python3.10/dist-packages (from notebook>=4.4.1->widgetsnbextension~=3.6.0->ipywidgets) (0.18.1)\n",
            "Requirement already satisfied: prometheus-client in /usr/local/lib/python3.10/dist-packages (from notebook>=4.4.1->widgetsnbextension~=3.6.0->ipywidgets) (0.20.0)\n",
            "Requirement already satisfied: nbclassic>=0.4.7 in /usr/local/lib/python3.10/dist-packages (from notebook>=4.4.1->widgetsnbextension~=3.6.0->ipywidgets) (1.0.0)\n",
            "Requirement already satisfied: python-dateutil>=2.1 in /usr/local/lib/python3.10/dist-packages (from jupyter-client->ipykernel>=4.5.1->ipywidgets) (2.8.2)\n",
            "Requirement already satisfied: ptyprocess>=0.5 in /usr/local/lib/python3.10/dist-packages (from pexpect>4.3->ipython>=4.0.0->ipywidgets) (0.7.0)\n",
            "Requirement already satisfied: wcwidth in /usr/local/lib/python3.10/dist-packages (from prompt-toolkit!=3.0.0,!=3.0.1,<3.1.0,>=2.0.0->ipython>=4.0.0->ipywidgets) (0.2.13)\n",
            "Requirement already satisfied: platformdirs>=2.5 in /usr/local/lib/python3.10/dist-packages (from jupyter-core>=4.6.1->notebook>=4.4.1->widgetsnbextension~=3.6.0->ipywidgets) (4.2.1)\n",
            "Requirement already satisfied: jupyter-server>=1.8 in /usr/local/lib/python3.10/dist-packages (from nbclassic>=0.4.7->notebook>=4.4.1->widgetsnbextension~=3.6.0->ipywidgets) (1.24.0)\n",
            "Requirement already satisfied: notebook-shim>=0.2.3 in /usr/local/lib/python3.10/dist-packages (from nbclassic>=0.4.7->notebook>=4.4.1->widgetsnbextension~=3.6.0->ipywidgets) (0.2.4)\n",
            "Requirement already satisfied: lxml in /usr/local/lib/python3.10/dist-packages (from nbconvert>=5->notebook>=4.4.1->widgetsnbextension~=3.6.0->ipywidgets) (4.9.4)\n",
            "Requirement already satisfied: beautifulsoup4 in /usr/local/lib/python3.10/dist-packages (from nbconvert>=5->notebook>=4.4.1->widgetsnbextension~=3.6.0->ipywidgets) (4.12.3)\n",
            "Requirement already satisfied: bleach in /usr/local/lib/python3.10/dist-packages (from nbconvert>=5->notebook>=4.4.1->widgetsnbextension~=3.6.0->ipywidgets) (6.1.0)\n",
            "Requirement already satisfied: defusedxml in /usr/local/lib/python3.10/dist-packages (from nbconvert>=5->notebook>=4.4.1->widgetsnbextension~=3.6.0->ipywidgets) (0.7.1)\n",
            "Requirement already satisfied: entrypoints>=0.2.2 in /usr/local/lib/python3.10/dist-packages (from nbconvert>=5->notebook>=4.4.1->widgetsnbextension~=3.6.0->ipywidgets) (0.4)\n",
            "Requirement already satisfied: jupyterlab-pygments in /usr/local/lib/python3.10/dist-packages (from nbconvert>=5->notebook>=4.4.1->widgetsnbextension~=3.6.0->ipywidgets) (0.3.0)\n",
            "Requirement already satisfied: MarkupSafe>=2.0 in /usr/local/lib/python3.10/dist-packages (from nbconvert>=5->notebook>=4.4.1->widgetsnbextension~=3.6.0->ipywidgets) (2.1.5)\n",
            "Requirement already satisfied: mistune<2,>=0.8.1 in /usr/local/lib/python3.10/dist-packages (from nbconvert>=5->notebook>=4.4.1->widgetsnbextension~=3.6.0->ipywidgets) (0.8.4)\n",
            "Requirement already satisfied: nbclient>=0.5.0 in /usr/local/lib/python3.10/dist-packages (from nbconvert>=5->notebook>=4.4.1->widgetsnbextension~=3.6.0->ipywidgets) (0.10.0)\n",
            "Requirement already satisfied: packaging in /usr/local/lib/python3.10/dist-packages (from nbconvert>=5->notebook>=4.4.1->widgetsnbextension~=3.6.0->ipywidgets) (24.0)\n",
            "Requirement already satisfied: pandocfilters>=1.4.1 in /usr/local/lib/python3.10/dist-packages (from nbconvert>=5->notebook>=4.4.1->widgetsnbextension~=3.6.0->ipywidgets) (1.5.1)\n",
            "Requirement already satisfied: tinycss2 in /usr/local/lib/python3.10/dist-packages (from nbconvert>=5->notebook>=4.4.1->widgetsnbextension~=3.6.0->ipywidgets) (1.3.0)\n",
            "Requirement already satisfied: fastjsonschema>=2.15 in /usr/local/lib/python3.10/dist-packages (from nbformat->notebook>=4.4.1->widgetsnbextension~=3.6.0->ipywidgets) (2.19.1)\n",
            "Requirement already satisfied: jsonschema>=2.6 in /usr/local/lib/python3.10/dist-packages (from nbformat->notebook>=4.4.1->widgetsnbextension~=3.6.0->ipywidgets) (4.19.2)\n",
            "Requirement already satisfied: six>=1.5 in /usr/local/lib/python3.10/dist-packages (from python-dateutil>=2.1->jupyter-client->ipykernel>=4.5.1->ipywidgets) (1.16.0)\n",
            "Requirement already satisfied: argon2-cffi-bindings in /usr/local/lib/python3.10/dist-packages (from argon2-cffi->notebook>=4.4.1->widgetsnbextension~=3.6.0->ipywidgets) (21.2.0)\n",
            "Requirement already satisfied: attrs>=22.2.0 in /usr/local/lib/python3.10/dist-packages (from jsonschema>=2.6->nbformat->notebook>=4.4.1->widgetsnbextension~=3.6.0->ipywidgets) (23.2.0)\n",
            "Requirement already satisfied: jsonschema-specifications>=2023.03.6 in /usr/local/lib/python3.10/dist-packages (from jsonschema>=2.6->nbformat->notebook>=4.4.1->widgetsnbextension~=3.6.0->ipywidgets) (2023.12.1)\n",
            "Requirement already satisfied: referencing>=0.28.4 in /usr/local/lib/python3.10/dist-packages (from jsonschema>=2.6->nbformat->notebook>=4.4.1->widgetsnbextension~=3.6.0->ipywidgets) (0.35.1)\n",
            "Requirement already satisfied: rpds-py>=0.7.1 in /usr/local/lib/python3.10/dist-packages (from jsonschema>=2.6->nbformat->notebook>=4.4.1->widgetsnbextension~=3.6.0->ipywidgets) (0.18.1)\n",
            "Requirement already satisfied: anyio<4,>=3.1.0 in /usr/local/lib/python3.10/dist-packages (from jupyter-server>=1.8->nbclassic>=0.4.7->notebook>=4.4.1->widgetsnbextension~=3.6.0->ipywidgets) (3.7.1)\n",
            "Requirement already satisfied: websocket-client in /usr/local/lib/python3.10/dist-packages (from jupyter-server>=1.8->nbclassic>=0.4.7->notebook>=4.4.1->widgetsnbextension~=3.6.0->ipywidgets) (1.8.0)\n",
            "Requirement already satisfied: cffi>=1.0.1 in /usr/local/lib/python3.10/dist-packages (from argon2-cffi-bindings->argon2-cffi->notebook>=4.4.1->widgetsnbextension~=3.6.0->ipywidgets) (1.16.0)\n",
            "Requirement already satisfied: soupsieve>1.2 in /usr/local/lib/python3.10/dist-packages (from beautifulsoup4->nbconvert>=5->notebook>=4.4.1->widgetsnbextension~=3.6.0->ipywidgets) (2.5)\n",
            "Requirement already satisfied: webencodings in /usr/local/lib/python3.10/dist-packages (from bleach->nbconvert>=5->notebook>=4.4.1->widgetsnbextension~=3.6.0->ipywidgets) (0.5.1)\n",
            "Requirement already satisfied: idna>=2.8 in /usr/local/lib/python3.10/dist-packages (from anyio<4,>=3.1.0->jupyter-server>=1.8->nbclassic>=0.4.7->notebook>=4.4.1->widgetsnbextension~=3.6.0->ipywidgets) (3.7)\n",
            "Requirement already satisfied: sniffio>=1.1 in /usr/local/lib/python3.10/dist-packages (from anyio<4,>=3.1.0->jupyter-server>=1.8->nbclassic>=0.4.7->notebook>=4.4.1->widgetsnbextension~=3.6.0->ipywidgets) (1.3.1)\n",
            "Requirement already satisfied: exceptiongroup in /usr/local/lib/python3.10/dist-packages (from anyio<4,>=3.1.0->jupyter-server>=1.8->nbclassic>=0.4.7->notebook>=4.4.1->widgetsnbextension~=3.6.0->ipywidgets) (1.2.1)\n",
            "Requirement already satisfied: pycparser in /usr/local/lib/python3.10/dist-packages (from cffi>=1.0.1->argon2-cffi-bindings->argon2-cffi->notebook>=4.4.1->widgetsnbextension~=3.6.0->ipywidgets) (2.22)\n",
            "Installing collected packages: jedi\n",
            "Successfully installed jedi-0.19.1\n"
          ]
        }
      ]
    },
    {
      "cell_type": "code",
      "source": [
        "# Topics are defined by weighted probabilities of word occurrences in a doc\n",
        "lda_trained_model.show_topics()"
      ],
      "metadata": {
        "colab": {
          "base_uri": "https://localhost:8080/"
        },
        "id": "i1JgQnXGw9wf",
        "outputId": "02a1c8a0-66d4-4396-9864-05a960a8bf30"
      },
      "execution_count": 37,
      "outputs": [
        {
          "output_type": "execute_result",
          "data": {
            "text/plain": [
              "[(0,\n",
              "  '0.062*\"not\" + 0.022*\"case\" + 0.020*\"buy\" + 0.019*\"like\" + 0.018*\"come\" + 0.015*\"time\" + 0.014*\"screen\" + 0.014*\"work\" + 0.013*\"m\" + 0.012*\"thing\"'),\n",
              " (1,\n",
              "  '0.081*\"old\" + 0.075*\"kindle\" + 0.065*\"year\" + 0.052*\"fire\" + 0.051*\"love\" + 0.038*\"buy\" + 0.031*\"tablet\" + 0.025*\"new\" + 0.024*\"8\" + 0.020*\"2\"'),\n",
              " (2,\n",
              "  '0.148*\"love\" + 0.082*\"buy\" + 0.062*\"gift\" + 0.048*\"christmas\" + 0.038*\"daughter\" + 0.037*\"use\" + 0.031*\"great\" + 0.029*\"purchase\" + 0.024*\"easy\" + 0.024*\"get\"'),\n",
              " (3,\n",
              "  '0.087*\"kid\" + 0.080*\"tablet\" + 0.048*\"great\" + 0.042*\"use\" + 0.041*\"love\" + 0.035*\"watch\" + 0.030*\"easy\" + 0.027*\"child\" + 0.024*\"app\" + 0.020*\"time\"'),\n",
              " (4,\n",
              "  '0.072*\"game\" + 0.041*\"read\" + 0.037*\"hd\" + 0.033*\"play\" + 0.029*\"great\" + 0.028*\"perfect\" + 0.028*\"book\" + 0.025*\"use\" + 0.024*\"size\" + 0.022*\"user\"'),\n",
              " (5,\n",
              "  '0.086*\"ipad\" + 0.045*\"battery\" + 0.041*\"life\" + 0.030*\"$\" + 0.021*\"load\" + 0.021*\"reading\" + 0.021*\"great\" + 0.019*\"low\" + 0.016*\"cost\" + 0.016*\"expensive\"'),\n",
              " (6,\n",
              "  '0.107*\"tablet\" + 0.083*\"great\" + 0.076*\"good\" + 0.067*\"price\" + 0.029*\"screen\" + 0.024*\"nice\" + 0.022*\"product\" + 0.020*\"work\" + 0.019*\"use\" + 0.016*\"quality\"'),\n",
              " (7,\n",
              "  '0.160*\"happy\" + 0.046*\"service\" + 0.045*\"purchase\" + 0.037*\"update\" + 0.033*\"tool\" + 0.025*\"ton\" + 0.023*\"receive\" + 0.023*\"touch\" + 0.021*\"far\" + 0.019*\"disappoint\"'),\n",
              " (8,\n",
              "  '0.054*\"amazon\" + 0.047*\"app\" + 0.031*\"book\" + 0.030*\"tablet\" + 0.029*\"read\" + 0.018*\"fire\" + 0.018*\"not\" + 0.018*\"play\" + 0.018*\"download\" + 0.017*\"game\"'),\n",
              " (9,\n",
              "  '0.048*\"easy\" + 0.039*\"use\" + 0.039*\"light\" + 0.028*\"charge\" + 0.024*\"storage\" + 0.024*\"fast\" + 0.024*\"hold\" + 0.020*\"need\" + 0.019*\"long\" + 0.017*\"carry\"')]"
            ]
          },
          "metadata": {},
          "execution_count": 37
        }
      ]
    },
    {
      "cell_type": "code",
      "metadata": {
        "id": "YBqK345s2oYC",
        "colab": {
          "base_uri": "https://localhost:8080/",
          "height": 862
        },
        "outputId": "fefc8c25-634c-413f-e781-a184e2207dad"
      },
      "source": [
        "# plot your topics here -- using pyLDAvis\n",
        "# YOUR CODE HERE\n",
        "pyLDAvis.enable_notebook()\n",
        "vis = pyLDAvis.gensim_models.prepare(topic_model=lda_trained_model,\n",
        "                                     corpus=corpus,\n",
        "                                     dictionary=id2word)\n",
        "vis"
      ],
      "execution_count": 38,
      "outputs": [
        {
          "output_type": "execute_result",
          "data": {
            "text/plain": [
              "PreparedData(topic_coordinates=              x         y  topics  cluster       Freq\n",
              "topic                                                \n",
              "8     -0.086305 -0.125699       1        1  15.726462\n",
              "6     -0.141806 -0.066841       2        1  15.535075\n",
              "0     -0.004459  0.050550       3        1  13.676065\n",
              "1     -0.177312  0.192764       4        1  12.826268\n",
              "3     -0.179313 -0.026422       5        1  11.668080\n",
              "4      0.047735 -0.257383       6        1   7.915045\n",
              "2     -0.132244  0.138004       7        1   7.914751\n",
              "9      0.162854 -0.153077       8        1   6.603518\n",
              "5      0.249026  0.012008       9        1   6.001211\n",
              "7      0.261824  0.236096      10        1   2.133525, topic_info=          Term         Freq        Total Category  logprob  loglift\n",
              "6         love  4527.000000  4527.000000  Default  30.0000  30.0000\n",
              "719     tablet  6797.000000  6797.000000  Default  29.0000  29.0000\n",
              "1404       kid  1999.000000  1999.000000  Default  28.0000  28.0000\n",
              "151        old  2049.000000  2049.000000  Default  27.0000  27.0000\n",
              "117      price  2052.000000  2052.000000  Default  26.0000  26.0000\n",
              "...        ...          ...          ...      ...      ...      ...\n",
              "33         one    66.559591   128.073139  Topic10  -4.1417   3.1929\n",
              "234   purchase   188.203906  1680.219988  Topic10  -3.1023   1.6582\n",
              "731        far    87.172193   525.586010  Topic10  -3.8719   2.0508\n",
              "764       help    51.602791   270.498771  Topic10  -4.3962   2.1907\n",
              "105       mean    26.369311    47.194316  Topic10  -5.0676   3.2653\n",
              "\n",
              "[554 rows x 6 columns], token_table=      Topic      Freq     Term\n",
              "term                          \n",
              "1446      1  0.195253        $\n",
              "1446      5  0.032908        $\n",
              "1446      9  0.770043        $\n",
              "56        3  0.158503       10\n",
              "56        4  0.836242       10\n",
              "...     ...       ...      ...\n",
              "1061      4  0.999500     year\n",
              "1414      3  0.994286    young\n",
              "1576      3  0.077145  youtube\n",
              "1576      5  0.919311  youtube\n",
              "1553      4  0.994407       yr\n",
              "\n",
              "[730 rows x 3 columns], R=30, lambda_step=0.01, plot_opts={'xlab': 'PC1', 'ylab': 'PC2'}, topic_order=[9, 7, 1, 2, 4, 5, 3, 10, 6, 8])"
            ],
            "text/html": [
              "\n",
              "<link rel=\"stylesheet\" type=\"text/css\" href=\"https://cdn.jsdelivr.net/gh/bmabey/pyLDAvis@3.4.0/pyLDAvis/js/ldavis.v1.0.0.css\">\n",
              "\n",
              "\n",
              "<div id=\"ldavis_el76651361781410808008444218515\" style=\"background-color:white;\"></div>\n",
              "<script type=\"text/javascript\">\n",
              "\n",
              "var ldavis_el76651361781410808008444218515_data = {\"mdsDat\": {\"x\": [-0.086304886911898, -0.1418062311556724, -0.004459229895188151, -0.17731169918332262, -0.17931315613502383, 0.04773509565590021, -0.1322439201805071, 0.16285407863942641, 0.24902634258543363, 0.2618236065808531], \"y\": [-0.12569945036331145, -0.06684118296242561, 0.05055008616113596, 0.19276426517950207, -0.026421749911201976, -0.2573828051582963, 0.1380043499516422, -0.15307693818020907, 0.012007834006123373, 0.23609559127704122], \"topics\": [1, 2, 3, 4, 5, 6, 7, 8, 9, 10], \"cluster\": [1, 1, 1, 1, 1, 1, 1, 1, 1, 1], \"Freq\": [15.726462484405882, 15.535074958152057, 13.676065329547429, 12.826268283734809, 11.668080239985489, 7.915044858253275, 7.91475071565065, 6.6035179711402225, 6.0012106479677225, 2.1335245111624666]}, \"tinfo\": {\"Term\": [\"love\", \"tablet\", \"kid\", \"old\", \"price\", \"kindle\", \"year\", \"buy\", \"great\", \"game\", \"ipad\", \"good\", \"not\", \"happy\", \"app\", \"gift\", \"fire\", \"read\", \"amazon\", \"purchase\", \"use\", \"easy\", \"book\", \"christmas\", \"play\", \"watch\", \"battery\", \"daughter\", \"screen\", \"hd\", \"google\", \"prime\", \"web\", \"black\", \"friday\", \"available\", \"surf\", \"content\", \"pleased\", \"educational\", \"member\", \"listen\", \"library\", \"ok\", \"ebook\", \"setting\", \"freetime\", \"install\", \"impressed\", \"instal\", \"night\", \"unlimited\", \"primarily\", \"site\", \"past\", \"kids\", \"link\", \"news\", \"magazine\", \"50\", \"access\", \"close\", \"amazon\", \"connect\", \"app\", \"music\", \"store\", \"download\", \"book\", \"free\", \"account\", \"read\", \"wifi\", \"play\", \"game\", \"fire\", \"tablet\", \"not\", \"lot\", \"kindle\", \"like\", \"want\", \"use\", \"purchase\", \"need\", \"device\", \"price\", \"picture\", \"camera\", \"android\", \"slow\", \"beat\", \"expect\", \"clear\", \"resolution\", \"display\", \"basic\", \"quality\", \"inch\", \"nephew\", \"performance\", \"original\", \"graphic\", \"stop\", \"own\", \"limited\", \"powerful\", \"busy\", \"buck\", \"solid\", \"clarity\", \"starter\", \"surfing\", \"reasonable\", \"flight\", \"general\", \"nice\", \"good\", \"overall\", \"money\", \"sound\", \"excellent\", \"screen\", \"great\", \"tablet\", \"feature\", \"product\", \"deal\", \"color\", \"well\", \"work\", \"look\", \"size\", \"recommend\", \"little\", \"use\", \"not\", \"buy\", \"fire\", \"easy\", \"like\", \"amazon\", \"video\", \"case\", \"try\", \"return\", \"young\", \"fine\", \"speed\", \"will\", \"9\", \"grand\", \"keyboard\", \"ask\", \"table\", \"charger\", \"wrong\", \"protective\", \"appropriate\", \"helpful\", \"brand\", \"ago\", \"mode\", \"dollar\", \"live\", \"safe\", \"remove\", \"believe\", \"instruction\", \"perform\", \"protection\", \"real\", \"type\", \"come\", \"star\", \"know\", \"not\", \"issue\", \"drop\", \"pay\", \"ad\", \"problem\", \"sure\", \"cover\", \"m\", \"end\", \"go\", \"find\", \"way\", \"time\", \"thing\", \"like\", \"screen\", \"day\", \"charge\", \"buy\", \"work\", \"device\", \"ve\", \"take\", \"far\", \"get\", \"old\", \"year\", \"7\", \"memory\", \"upgrade\", \"break\", \"navigate\", \"yr\", \"warranty\", \"6\", \"previous\", \"replacement\", \"niece\", \"3\", \"16\", \"satisfied\", \"nook\", \"annoying\", \"die\", \"purse\", \"excited\", \"eye\", \"transfer\", \"galaxy\", \"exchange\", \"call\", \"totally\", \"wear\", \"rough\", \"okay\", \"replace\", \"8\", \"second\", \"2\", \"new\", \"kindle\", \"model\", \"10\", \"4\", \"fire\", \"love\", \"buy\", \"version\", \"well\", \"purchase\", \"tablet\", \"get\", \"enjoy\", \"good\", \"fast\", \"easy\", \"amazon\", \"kid\", \"watch\", \"child\", \"control\", \"learn\", \"parental\", \"netflix\", \"mom\", \"tv\", \"worry\", \"entertain\", \"dad\", \"away\", \"customer\", \"strong\", \"gaming\", \"reliable\", \"father\", \"save\", \"offline\", \"hulu\", \"downside\", \"grow\", \"benefit\", \"shut\", \"durability\", \"slot\", \"tough\", \"investment\", \"homework\", \"pad\", \"profile\", \"youtube\", \"parent\", \"affordable\", \"limit\", \"choice\", \"set\", \"fun\", \"show\", \"keep\", \"durable\", \"movie\", \"tablet\", \"son\", \"use\", \"time\", \"great\", \"easy\", \"love\", \"enjoy\", \"app\", \"lot\", \"play\", \"download\", \"good\", \"get\", \"perfect\", \"product\", \"like\", \"purchase\", \"hd\", \"user\", \"card\", \"email\", \"friendly\", \"gb\", \"sd\", \"mother\", \"trip\", \"tech\", \"entertainment\", \"medium\", \"person\", \"exactly\", \"portable\", \"responsive\", \"micro\", \"finally\", \"ram\", \"128\", \"social\", \"road\", \"application\", \"step\", \"operating\", \"savvy\", \"activity\", \"advertisement\", \"ride\", \"hdx\", \"game\", \"travel\", \"right\", \"perfect\", \"video\", \"read\", \"size\", \"play\", \"value\", \"quickly\", \"book\", \"system\", \"recommend\", \"movie\", \"highly\", \"use\", \"great\", \"easy\", \"enjoy\", \"want\", \"work\", \"screen\", \"need\", \"gift\", \"christmas\", \"granddaughter\", \"age\", \"present\", \"husband\", \"friend\", \"thank\", \"birthday\", \"grandkid\", \"program\", \"bring\", \"12\", \"pink\", \"occupy\", \"rating\", \"loading\", \"borrow\", \"loves\", \"grandma\", \"vs\", \"aspect\", \"bc\", \"grandaughter\", \"13\", \"6th\", \"xmas\", \"extend\", \"senior\", \"heart\", \"absolutely\", \"daughter\", \"wife\", \"grandson\", \"love\", \"sister\", \"family\", \"school\", \"everyday\", \"buy\", \"s\", \"glad\", \"get\", \"purchase\", \"son\", \"use\", \"recommend\", \"easy\", \"give\", \"great\", \"perfect\", \"product\", \"work\", \"light\", \"hold\", \"carry\", \"adult\", \"super\", \"weight\", \"space\", \"toddler\", \"laptop\", \"last\", \"lightweight\", \"week\", \"meet\", \"port\", \"page\", \"blue\", \"expandable\", \"cable\", \"heavy\", \"fall\", \"shop\", \"main\", \"pop\", \"happen\", \"improve\", \"compact\", \"care\", \"throw\", \"range\", \"browsing\", \"storage\", \"ereader\", \"charge\", \"browse\", \"small\", \"fast\", \"fit\", \"long\", \"easy\", \"use\", \"need\", \"take\", \"battery\", \"hard\", \"internet\", \"read\", \"time\", \"size\", \"ipad\", \"life\", \"load\", \"reading\", \"cost\", \"expensive\", \"complaint\", \"learning\", \"tab\", \"mini\", \"bright\", \"sell\", \"budget\", \"grandchild\", \"mainly\", \"lack\", \"pro\", \"generation\", \"sharp\", \"sturdy\", \"level\", \"improvement\", \"alternative\", \"law\", \"2nd\", \"iphone\", \"variety\", \"late\", \"crisp\", \"advertise\", \"$\", \"low\", \"battery\", \"compare\", \"option\", \"high\", \"decent\", \"value\", \"worth\", \"make\", \"device\", \"experience\", \"great\", \"long\", \"apple\", \"well\", \"good\", \"need\", \"happy\", \"service\", \"update\", \"tool\", \"ton\", \"disappoint\", \"geek\", \"box\", \"selection\", \"squad\", \"functional\", \"guarantee\", \"fairly\", \"children\", \"fee\", \"enjoyable\", \"outstanding\", \"recipient\", \"grandmother\", \"knowledgeable\", \"opportunity\", \"nicely\", \"encourage\", \"teenager\", \"poor\", \"satisfy\", \"flash\", \"gear\", \"accidentally\", \"darn\", \"receive\", \"touch\", \"one\", \"purchase\", \"far\", \"help\", \"mean\"], \"Freq\": [4527.0, 6797.0, 1999.0, 2049.0, 2052.0, 2346.0, 1637.0, 3433.0, 4854.0, 1636.0, 1011.0, 3089.0, 2695.0, 671.0, 2087.0, 956.0, 2291.0, 1687.0, 2293.0, 1680.0, 3440.0, 2602.0, 1465.0, 742.0, 1427.0, 794.0, 740.0, 746.0, 1442.0, 574.0, 475.8197113245775, 469.91137023425955, 353.7125965396904, 352.8580394994749, 303.3302084411517, 282.2423484256799, 221.30819733499743, 217.6559138510516, 210.5884204204191, 208.22225548643607, 190.15942218700454, 161.75630210199083, 157.9872137294542, 137.59913385679, 136.2373012483682, 110.59646514919564, 92.0545334667532, 91.65347029262668, 89.8411261011702, 83.50748988863124, 71.29860514834111, 70.90247891025876, 66.00421193865971, 61.84765672823464, 61.22106109295803, 60.73178701644121, 60.61634032422937, 60.0750703223158, 57.66085110692469, 56.97494037687581, 354.3314741701469, 73.21039231065518, 1669.3046978034924, 104.70785743060591, 1456.9877604972285, 259.13823510630147, 504.4405165138851, 546.6794178282353, 958.7795975516225, 345.34544571265087, 181.50189041138762, 886.6073128203969, 194.41701571006567, 557.1062842433082, 510.5054598025647, 569.7915797187483, 918.9717671484765, 558.6812746347606, 292.64736871910173, 449.4941574085778, 389.85096838298733, 297.01765661049564, 332.23182252836585, 272.75771098639575, 237.54736813981444, 229.23241804556213, 2051.7367870612493, 343.29896280829047, 286.0855498728665, 276.7401334223126, 244.52353229951828, 241.29716996233003, 235.57719447203712, 218.37237538291666, 194.915882968857, 193.57251183096028, 188.9459598048939, 487.2791870457614, 144.94860997593696, 123.04795487054788, 120.52150280979201, 114.54142130669169, 107.66223095655806, 98.11202920381626, 86.61441491867993, 78.57477452281468, 61.623168541328845, 54.747566619171366, 53.61572461447612, 48.27754934232227, 48.10100294515734, 45.71707642879548, 43.722645196697606, 43.38048095799443, 42.245639723190536, 39.66458747691822, 741.2354506605351, 2307.460360327739, 228.20016741771465, 266.80131663272334, 139.3171987337755, 254.64808129398986, 897.9931476304305, 2523.1863996307875, 3268.600356382389, 443.4958225242487, 664.656594562026, 194.93909594508256, 182.09772008972766, 399.17252559548376, 615.382331841596, 300.31946294359153, 341.1893788869441, 317.81188157974617, 275.96892310514346, 581.1084505310424, 473.290238312526, 471.53167434481895, 401.5529701654118, 355.55305746390854, 318.15864227169277, 282.6946664540259, 240.1086655795821, 601.3131222965701, 287.6295349206741, 229.5018860127538, 217.28399324632701, 200.79173404714874, 199.355009086591, 159.66998622911743, 138.8298689114426, 136.76342769188946, 132.96299514209147, 120.33656109472106, 118.91670922527827, 118.39148114533536, 112.50725933860089, 98.43739483927781, 92.69232603989751, 89.26804468539547, 88.85931592566168, 87.70410911641714, 85.13749948187328, 83.78131540957084, 82.51735215415103, 77.9052739273806, 77.4419638425365, 77.14227899645623, 74.34583911304793, 74.17485845641659, 73.53797425834385, 73.52000129165994, 66.67240097377872, 491.09759119037176, 136.76057801427893, 285.1277929475276, 1662.7912852421077, 266.7240000038173, 193.64664238503218, 232.39370885530553, 182.520738579806, 276.83365627907, 177.28310612318185, 118.7023084808445, 340.15614248511247, 129.8811188006555, 276.35751014639254, 282.3719547207763, 227.2936858306632, 415.2147759583714, 315.4134416741712, 506.2099315024126, 388.05467363268633, 196.87107759851034, 253.17903237190785, 543.4629170009234, 381.00159656078324, 285.3805643510154, 176.4509877623233, 198.4631599831856, 199.7236423824013, 200.66557331995307, 2048.877824511803, 1636.8404287537933, 472.9384359490598, 281.6628624018248, 279.6750533352309, 238.42312714832633, 226.69212316676436, 207.18646244341215, 205.5182407479211, 170.05897632571063, 154.3981049998919, 153.82641355050606, 145.96312710973888, 360.34252085238995, 110.7182220718945, 105.90435524097593, 78.24439883114799, 60.10853642127318, 56.309697085899465, 55.27244476437123, 55.13744887384505, 54.58446566405283, 52.611824806753525, 51.63815822812975, 46.05131933434056, 44.77065769437802, 39.56722635368877, 38.81283358891079, 38.52597977611948, 36.8488318121757, 341.164090214561, 614.5950224243784, 165.0404676108164, 504.3275329520161, 632.5460706365385, 1896.0985566125348, 187.04097054839494, 153.31130397613174, 257.8197502496862, 1311.863209135279, 1282.6862325227657, 966.7540482013028, 170.82102059637504, 297.69249469843004, 404.855776144991, 778.7276598147649, 260.4938563161087, 200.7565952248907, 252.27751632376265, 199.0032018070393, 199.20718726155553, 192.85687694912545, 1998.4537821393371, 793.4436583991626, 613.6052369154821, 387.71894819649407, 367.84844140810264, 324.0302660330268, 267.28308544460845, 213.21410285542655, 143.61611238218018, 111.8423635648358, 99.27074501931885, 83.35204544250925, 77.73427145482526, 69.95182086914241, 63.677874722385916, 57.597902682181164, 50.282869924459945, 49.27790586570346, 45.608771620973954, 42.92903808003475, 41.30015356970504, 38.639267736818404, 37.54048367954792, 37.390035249003844, 37.15733936600747, 34.324144960281, 33.77369591378962, 33.55609152659036, 33.453556795739175, 32.51599128789995, 62.75234828803543, 97.08088127200165, 142.8156579522136, 110.70024044252845, 105.01209279187817, 148.4728388451922, 110.65754385240541, 388.63460024461733, 131.8526366386275, 152.60425645031486, 166.17150317430537, 156.312344402267, 345.416672386531, 1830.974807859096, 360.8676982117619, 950.5047499972537, 449.4746392798454, 1104.8232788064024, 677.2632508988311, 940.9688654075755, 289.3996845316954, 546.8305424688958, 268.1525646068094, 362.880409498611, 202.03683082037386, 306.4856997118727, 205.449529600748, 182.72033468214542, 190.39019487152106, 188.6932506742632, 155.0952463236272, 573.6836341029044, 346.93695536076393, 332.4142189479415, 324.302630591103, 300.6174407176164, 270.9272825928624, 213.34895159538806, 167.9674293236114, 148.00526016123766, 120.40651716361211, 101.03988114596194, 88.21051782945608, 88.08800997269796, 78.18266094065241, 72.99701823328101, 72.92335148710572, 69.71844294817971, 61.37203822111912, 61.12906960983852, 60.974668912950115, 59.26914340760222, 59.058472716752945, 58.654958485088656, 55.62720385888907, 55.58039176659985, 55.39606214568354, 53.83679594653078, 43.32210487164215, 39.269435598402396, 38.482917942102496, 1124.8774413663912, 213.2038605118468, 246.32788434853742, 440.6047439401708, 307.0391787300419, 641.3422871217442, 366.6623116857176, 506.9484484332125, 180.29659803767473, 95.70273840600068, 439.4190449647124, 91.05450705373009, 223.53912271410405, 204.83575505437324, 107.46041115106118, 387.5049952181751, 445.40014241252544, 313.47037826092753, 175.37098071568855, 193.8093679899232, 169.36468148628921, 155.40494882330128, 136.99253008979417, 955.3462120600867, 741.0914631068183, 307.0613598786253, 250.0248168097044, 176.93548012546006, 169.27864748945797, 151.57422926166944, 148.02893908488622, 145.78408195119485, 129.1998282648522, 109.871402194492, 92.63236053595574, 57.19937206501092, 44.49037759919154, 32.020682661498185, 27.978500392564385, 27.528134745711665, 20.107017533728158, 19.66752354877954, 18.7972824565653, 18.10627007797402, 17.796067856634767, 17.26963493466627, 16.70651105793493, 16.665123877961676, 16.497043500273307, 16.24422491952003, 15.987118795457596, 15.46359727995377, 13.789108180942502, 194.6645205336355, 589.6897627072491, 308.1760994390811, 261.2669687488885, 2302.761210786974, 72.58127636456221, 107.3064567157705, 79.94774231805174, 59.05742805411022, 1275.5955994592628, 204.97736599591244, 69.27057683240561, 375.58373056618836, 456.7481586874612, 229.67853410606315, 572.9618410576733, 214.69909106289526, 376.25046796317605, 121.23968855834921, 483.5644328526368, 191.07055019410137, 161.85681056332976, 117.83528152122412, 503.37337931595494, 308.59857648606396, 218.3519320493942, 210.23052873487956, 177.7225981595575, 175.28391525862918, 173.07667343857008, 158.8047912933632, 147.75201016678173, 142.91873585219577, 136.49888012226813, 120.38890317224617, 101.80450423183287, 96.21130052105052, 84.50105774565408, 83.48277130455519, 80.46226906270279, 78.64357668487582, 75.63570563421662, 66.61818176647883, 65.60373356599096, 59.98531575257833, 56.38488311525978, 55.62342083680678, 51.51666632718666, 50.540965648464656, 47.63234872392059, 44.846630936048264, 43.295652823355546, 42.92805377779192, 315.7998883484451, 132.24158329811655, 364.1361559165009, 140.25538310619316, 199.9915270374696, 315.03419555636265, 115.53391503734817, 244.58703082209337, 623.0274646001533, 507.4490597675465, 261.73390002422644, 165.71707639577073, 205.2077925873651, 104.86085419259956, 124.09835753383858, 158.72159320364057, 128.55025798494478, 112.86403245433121, 1010.9776322081966, 482.38508012258114, 251.00763622011823, 248.6721303596519, 189.53334599063567, 183.9778238663063, 163.49482166816335, 158.56090401882798, 121.34575156310419, 108.35353905221189, 105.51041897075532, 97.05360795078718, 91.20350131322417, 86.14754761972803, 83.72641744029009, 79.76580456561395, 78.8085694331906, 77.01231798690868, 76.78820954969254, 74.48833661264146, 74.13793614410584, 74.11253733414186, 72.67132077540217, 70.33973634640297, 69.93910316345145, 66.6313126489593, 55.92024892542751, 53.69160344357015, 51.009026217925616, 48.953675099797856, 350.8926931947927, 228.21050681865418, 534.7612325248558, 136.27090620063515, 157.97310612224427, 111.37319484844288, 117.81960038786796, 160.1684934776448, 124.37427034290283, 131.82604315818548, 176.82524256066623, 87.1355892983763, 244.4676757464747, 133.5922887980945, 93.4454741775502, 130.27628247333976, 115.01935828013164, 102.53019686997692, 670.2364962069688, 191.4928838814983, 154.314846329785, 137.98332827417067, 104.1016389159388, 77.98731096559378, 65.61338397286602, 60.81349637387179, 59.72397274833667, 57.456239305999354, 52.90131699048171, 40.01759843475279, 37.08979592230551, 30.397344143745297, 28.896943968905695, 27.939018453057457, 27.825906707353585, 27.185739579778655, 24.509221758641413, 24.34402413158767, 23.75045605609901, 21.445738186799375, 21.268512041718925, 20.312589004070304, 19.650798231671875, 19.64725733545912, 19.316815285366438, 19.240660668966857, 19.03134612687466, 18.006519900698287, 97.68675167403859, 96.39631338575299, 66.55959099408943, 188.2039060556844, 87.17219295888222, 51.602790796089, 26.369311474317833], \"Total\": [4527.0, 6797.0, 1999.0, 2049.0, 2052.0, 2346.0, 1637.0, 3433.0, 4854.0, 1636.0, 1011.0, 3089.0, 2695.0, 671.0, 2087.0, 956.0, 2291.0, 1687.0, 2293.0, 1680.0, 3440.0, 2602.0, 1465.0, 742.0, 1427.0, 794.0, 740.0, 746.0, 1442.0, 574.0, 476.78634620354177, 470.87806184063936, 354.6793655986872, 353.8248198751035, 304.29696806053664, 283.2090175710713, 222.27489397943967, 218.62260774417348, 211.5551488055378, 209.1889953337084, 191.12614452377895, 162.72294866380258, 158.9539360490838, 138.56582497329288, 137.20399970698614, 111.5631674156554, 93.02126980211638, 92.6200924560782, 90.80791768988, 84.47415344586338, 72.2653749836633, 71.86915802400429, 66.97100199815922, 62.814356236291104, 62.1880050196373, 61.69846172986181, 61.58299475104708, 61.041777809858914, 58.62746096331614, 57.94176275650523, 416.2485731506068, 75.99555271455974, 2293.43505678728, 112.38674482138899, 2087.761695973581, 310.5767111925739, 661.4613587428022, 749.5897264309805, 1465.8666149318549, 477.1648507392682, 227.88675678530547, 1687.4042470994796, 251.32836678950923, 1427.707914638889, 1636.2489265638828, 2291.2792147366467, 6797.95489669173, 2695.5213022731464, 740.3506679332316, 2346.459505241754, 1716.040480979377, 1009.4996142904381, 3440.3190230639866, 1680.219987529312, 1129.1218776492772, 820.4300845583284, 2052.7214518299434, 344.2835877154491, 287.07022163203067, 277.72481768360444, 245.50820411840496, 242.28181403856428, 236.56192628479985, 219.35701476232794, 195.9005916638845, 194.5572003757863, 189.93068936811565, 490.2495988404811, 145.9333723656485, 124.03265085853377, 121.50617559211297, 115.52618679410884, 108.64691570303984, 99.09743662226396, 87.5990952652999, 79.55954990875416, 62.607989180777146, 55.732277093170886, 54.60046559103813, 49.26222675406128, 49.08569371548272, 46.701709234096896, 44.70737631091475, 44.36504999310393, 43.23089356028231, 40.649421896924636, 768.5902840945197, 3089.205915309142, 276.0823772521766, 329.23080995328803, 161.31645337236012, 318.1398796300714, 1442.2218829321218, 4854.284369829133, 6797.95489669173, 650.0953282155323, 1138.434212336975, 259.44858585858736, 248.2611471649031, 827.9128026893732, 1612.1337788126293, 604.7048934853816, 821.4667183349253, 756.8358831583739, 615.0553497462187, 3440.3190230639866, 2695.5213022731464, 3433.1852443815405, 2291.2792147366467, 2602.650680913629, 1716.040480979377, 2293.43505678728, 548.0319004730421, 602.2760451607418, 288.59248567532035, 230.46481652734764, 218.24696853650417, 201.754711228188, 200.3182835086764, 160.6329367711051, 139.793001187796, 137.72639991019807, 133.92609704360206, 121.30667830516404, 119.87977973341259, 119.35437357807191, 113.47021938999954, 99.40026457907142, 93.65533783314072, 90.23105990976251, 89.82239028595761, 88.66731877251297, 86.10046464614676, 84.74436284928302, 83.48045807504157, 78.86817394103448, 78.40491191297542, 78.1052029110162, 75.30878927049271, 75.13819730925613, 74.50088244183515, 74.4829928522941, 67.63535222332686, 545.1649581903492, 147.45518511005173, 334.5359870151352, 2695.5213022731464, 330.02019768827245, 242.55186454989226, 304.1324299384772, 226.41000606512267, 387.58564963022957, 226.50529267228023, 134.85921339770297, 567.0729196706395, 152.4900406203441, 450.67674974875877, 474.3583679680376, 377.5757867405642, 1147.3562787008166, 731.8169434707567, 1716.040480979377, 1442.2218829321218, 348.65588909073347, 618.1451028025016, 3433.1852443815405, 1612.1337788126293, 820.4300845583284, 300.27718025705116, 450.8790656515724, 525.5860102312054, 1263.210043214905, 2049.855733559197, 1637.8183305318535, 473.91647489973207, 282.64096904815534, 280.65298282141697, 239.40109558820404, 227.6701047798837, 208.16435047950515, 206.49621474169933, 171.03689562913567, 155.37612279756644, 154.80446269969013, 146.94106747815044, 363.47732963366116, 111.6962258912124, 106.88247364628046, 79.22230460454931, 61.08697346278799, 57.287681752717525, 56.250731338582376, 56.115458863700894, 55.56245725530953, 53.58993478934311, 52.616491702363064, 47.029387237867795, 45.748805364453695, 40.54526018645423, 39.790787631559134, 39.50429025255149, 37.827221568992144, 361.00347512025246, 680.3481155897143, 176.80253218285947, 561.4133001431379, 714.5539694111282, 2346.459505241754, 210.6619085174704, 182.96143897626504, 335.865076120184, 2291.2792147366467, 4527.202839246073, 3433.1852443815405, 285.2861336127465, 827.9128026893732, 1680.219987529312, 6797.95489669173, 1263.210043214905, 666.3113583950523, 3089.205915309142, 789.5641591665229, 2602.650680913629, 2293.43505678728, 1999.4384188989484, 794.4284615994312, 614.5898814410632, 388.703550118248, 368.833112974001, 325.01485539437715, 268.26789508375714, 214.1988394907311, 144.60097808699845, 112.82706590850256, 100.2553463975412, 84.33687442693282, 78.7191620600649, 70.93696774808107, 64.66284440876973, 58.58285703463055, 51.267603794951725, 50.27704037367553, 46.59372457597087, 43.91424359445497, 42.28537897847549, 39.6241181906807, 38.52507884661449, 38.3753883727071, 38.14215715236995, 35.30901730577656, 34.758546234643305, 34.54076077514456, 34.43824516352187, 33.50062449974508, 65.40399308592862, 103.9869825528973, 155.55127662329414, 133.15500189187918, 126.58221294537731, 189.26314688762926, 135.39943527485406, 610.1199222905619, 169.54758225014118, 201.83563782747112, 235.33045653551116, 218.95919983486033, 639.2890701998516, 6797.95489669173, 744.4935854846555, 3440.3190230639866, 1147.3562787008166, 4854.284369829133, 2602.650680913629, 4527.202839246073, 666.3113583950523, 2087.761695973581, 740.3506679332316, 1427.707914638889, 749.5897264309805, 3089.205915309142, 1263.210043214905, 815.1814672754208, 1138.434212336975, 1716.040480979377, 1680.219987529312, 574.6610383729551, 347.9141716440296, 333.39145989457836, 325.2799332616114, 301.5946338012083, 271.90452783253585, 214.32618735985383, 168.94469456648332, 148.9824626894507, 121.38387952537997, 102.01712568828839, 89.18778414379746, 89.06530800244876, 79.15987503328809, 73.97436635004598, 73.90089155002079, 70.6957443340525, 62.3494237149879, 62.106689420510605, 61.951910195339316, 60.24639295491047, 60.035674529487714, 59.63218654024751, 56.604604158296205, 56.55776632418737, 56.373258868940056, 54.81407352725099, 44.299935527018, 40.24663407118087, 39.46030954286185, 1636.2489265638828, 273.0509519359165, 330.7578143452044, 815.1814672754208, 548.0319004730421, 1687.4042470994796, 821.4667183349253, 1427.707914638889, 341.32901280132893, 128.82333804950812, 1465.8666149318549, 128.90274334443484, 756.8358831583739, 639.2890701998516, 183.1402058933058, 3440.3190230639866, 4854.284369829133, 2602.650680913629, 666.3113583950523, 1009.4996142904381, 1612.1337788126293, 1442.2218829321218, 1129.1218776492772, 956.3258676377793, 742.0711119539303, 308.04099061294147, 251.0045341273552, 177.91513870337894, 170.258416155401, 152.5539115678169, 149.00873975131591, 146.76368624414064, 130.1794494193083, 110.85124622346554, 93.61212592566689, 58.179184032485935, 45.470089870967854, 33.00036899278265, 28.958653064528622, 28.508675956290386, 21.08699702487372, 20.647269456877304, 19.77686652061453, 19.086307718756355, 18.775855895430205, 18.249353544792168, 17.686100422143785, 17.645191483394207, 17.47705884307933, 17.22381500345819, 16.967040706050028, 16.443381124906864, 14.768954023338365, 215.24079139566436, 746.4849115313137, 424.90998005682144, 380.4717351072478, 4527.202839246073, 93.64551762492471, 159.60482325788777, 116.3239228274117, 80.96248837160589, 3433.1852443815405, 412.49334758316684, 112.73803125653315, 1263.210043214905, 1680.219987529312, 744.4935854846555, 3440.3190230639866, 756.8358831583739, 2602.650680913629, 318.9093292522227, 4854.284369829133, 815.1814672754208, 1138.434212336975, 1612.1337788126293, 504.3182677900655, 309.5434476093621, 219.29679002560778, 211.1754423616731, 178.66752780641912, 176.22874624887888, 174.0215983446443, 159.74967987716423, 148.69686577751915, 143.8636438510564, 137.44376914299713, 121.33386828577557, 102.7494289408743, 97.15614215982424, 85.44596608923588, 84.42763101327543, 81.40712215781858, 79.58845027283802, 76.58714190970908, 67.56310803718588, 66.54859271139057, 60.93028328440528, 57.32978476595856, 56.56836101414693, 52.46170499877073, 51.48577915315529, 48.57728797020232, 45.79151808124859, 44.24058124030085, 43.87305915392181, 365.08867036609496, 144.80469587711946, 618.1451028025016, 193.20245539178663, 390.30192756988083, 789.5641591665229, 176.50877645066274, 576.6770712386681, 2602.650680913629, 3440.3190230639866, 1129.1218776492772, 450.8790656515724, 740.8005044730248, 195.2153342141966, 462.0976068815879, 1687.4042470994796, 1147.3562787008166, 821.4667183349253, 1011.942203080442, 483.3495664647157, 251.9721459617106, 249.6366783822402, 190.49783836244205, 184.94236409399065, 164.4593479611325, 159.52537274756037, 122.31027097424675, 109.31801127623241, 106.4749463453644, 98.0182755364966, 92.16803750583904, 87.11197330880563, 84.69098992387869, 80.73031921048748, 79.77305034851976, 77.9767829002252, 77.75273914170738, 75.45283459622668, 75.10249960669516, 75.07703880104242, 73.63578354504057, 71.30427244076294, 70.90368351119027, 67.59588625012407, 56.88483888170542, 54.65622945800405, 51.97362909406121, 49.918252301081274, 455.81847382269507, 281.3962121027282, 740.8005044730248, 168.10489720428671, 233.508854597217, 147.9500873217649, 164.45291396561865, 341.32901280132893, 242.09253770014533, 304.93875189506406, 820.4300845583284, 121.73003941262547, 4854.284369829133, 576.6770712386681, 166.1462634832428, 827.9128026893732, 3089.205915309142, 1129.1218776492772, 671.1943736663042, 192.45076812815606, 155.272786253199, 138.94117028200455, 105.0595138739249, 78.94518084434775, 66.57124658517888, 61.771403485702535, 60.681823742176284, 58.41409812765376, 53.85916948310514, 40.97551429514227, 38.04789650685856, 31.355207656933114, 29.854872921295556, 28.89689410362522, 28.78376687890117, 28.143586419703986, 25.467148025331465, 25.30183751146491, 24.708294988152414, 22.403626436739263, 22.226512671465102, 21.270428277568676, 20.60867502073544, 20.60530320153134, 20.275869836314744, 20.198697061885017, 19.989163101398393, 18.964328217033007, 127.17956842169376, 129.63219649160396, 128.07313948317594, 1680.219987529312, 525.5860102312054, 270.4987705593592, 47.194316312832925], \"Category\": [\"Default\", \"Default\", \"Default\", \"Default\", \"Default\", \"Default\", \"Default\", \"Default\", \"Default\", \"Default\", \"Default\", \"Default\", \"Default\", \"Default\", \"Default\", \"Default\", \"Default\", \"Default\", \"Default\", \"Default\", \"Default\", \"Default\", \"Default\", \"Default\", \"Default\", \"Default\", \"Default\", \"Default\", \"Default\", \"Default\", \"Topic1\", \"Topic1\", \"Topic1\", \"Topic1\", \"Topic1\", \"Topic1\", \"Topic1\", \"Topic1\", \"Topic1\", \"Topic1\", \"Topic1\", \"Topic1\", \"Topic1\", \"Topic1\", \"Topic1\", \"Topic1\", \"Topic1\", \"Topic1\", \"Topic1\", \"Topic1\", \"Topic1\", \"Topic1\", \"Topic1\", \"Topic1\", \"Topic1\", \"Topic1\", \"Topic1\", \"Topic1\", \"Topic1\", \"Topic1\", \"Topic1\", \"Topic1\", \"Topic1\", \"Topic1\", \"Topic1\", \"Topic1\", \"Topic1\", \"Topic1\", \"Topic1\", \"Topic1\", \"Topic1\", \"Topic1\", \"Topic1\", \"Topic1\", \"Topic1\", \"Topic1\", \"Topic1\", \"Topic1\", \"Topic1\", \"Topic1\", \"Topic1\", \"Topic1\", \"Topic1\", \"Topic1\", \"Topic1\", \"Topic1\", \"Topic2\", \"Topic2\", \"Topic2\", \"Topic2\", \"Topic2\", \"Topic2\", \"Topic2\", \"Topic2\", \"Topic2\", \"Topic2\", \"Topic2\", \"Topic2\", \"Topic2\", \"Topic2\", \"Topic2\", \"Topic2\", \"Topic2\", \"Topic2\", \"Topic2\", \"Topic2\", \"Topic2\", \"Topic2\", \"Topic2\", \"Topic2\", \"Topic2\", \"Topic2\", \"Topic2\", \"Topic2\", \"Topic2\", \"Topic2\", \"Topic2\", \"Topic2\", \"Topic2\", \"Topic2\", \"Topic2\", \"Topic2\", \"Topic2\", \"Topic2\", \"Topic2\", \"Topic2\", \"Topic2\", \"Topic2\", \"Topic2\", \"Topic2\", \"Topic2\", \"Topic2\", \"Topic2\", \"Topic2\", \"Topic2\", \"Topic2\", \"Topic2\", \"Topic2\", \"Topic2\", \"Topic2\", \"Topic2\", \"Topic2\", \"Topic2\", \"Topic3\", \"Topic3\", \"Topic3\", \"Topic3\", \"Topic3\", \"Topic3\", \"Topic3\", \"Topic3\", \"Topic3\", \"Topic3\", \"Topic3\", \"Topic3\", \"Topic3\", \"Topic3\", \"Topic3\", \"Topic3\", \"Topic3\", \"Topic3\", \"Topic3\", \"Topic3\", \"Topic3\", \"Topic3\", \"Topic3\", \"Topic3\", \"Topic3\", \"Topic3\", \"Topic3\", \"Topic3\", \"Topic3\", \"Topic3\", \"Topic3\", \"Topic3\", \"Topic3\", \"Topic3\", \"Topic3\", \"Topic3\", \"Topic3\", \"Topic3\", \"Topic3\", \"Topic3\", \"Topic3\", \"Topic3\", \"Topic3\", \"Topic3\", \"Topic3\", \"Topic3\", \"Topic3\", \"Topic3\", \"Topic3\", \"Topic3\", \"Topic3\", \"Topic3\", \"Topic3\", \"Topic3\", \"Topic3\", \"Topic3\", \"Topic3\", \"Topic3\", \"Topic3\", \"Topic4\", \"Topic4\", \"Topic4\", \"Topic4\", \"Topic4\", \"Topic4\", \"Topic4\", \"Topic4\", \"Topic4\", \"Topic4\", \"Topic4\", \"Topic4\", \"Topic4\", \"Topic4\", \"Topic4\", \"Topic4\", \"Topic4\", \"Topic4\", \"Topic4\", \"Topic4\", \"Topic4\", \"Topic4\", \"Topic4\", \"Topic4\", \"Topic4\", \"Topic4\", \"Topic4\", \"Topic4\", \"Topic4\", \"Topic4\", \"Topic4\", \"Topic4\", \"Topic4\", \"Topic4\", \"Topic4\", \"Topic4\", \"Topic4\", \"Topic4\", \"Topic4\", \"Topic4\", \"Topic4\", \"Topic4\", \"Topic4\", \"Topic4\", \"Topic4\", \"Topic4\", \"Topic4\", \"Topic4\", \"Topic4\", \"Topic4\", \"Topic4\", \"Topic4\", \"Topic5\", \"Topic5\", \"Topic5\", \"Topic5\", \"Topic5\", \"Topic5\", \"Topic5\", \"Topic5\", \"Topic5\", \"Topic5\", \"Topic5\", \"Topic5\", \"Topic5\", \"Topic5\", \"Topic5\", \"Topic5\", \"Topic5\", \"Topic5\", \"Topic5\", \"Topic5\", \"Topic5\", \"Topic5\", \"Topic5\", \"Topic5\", \"Topic5\", \"Topic5\", \"Topic5\", \"Topic5\", \"Topic5\", \"Topic5\", \"Topic5\", \"Topic5\", \"Topic5\", \"Topic5\", \"Topic5\", \"Topic5\", \"Topic5\", \"Topic5\", \"Topic5\", \"Topic5\", \"Topic5\", \"Topic5\", \"Topic5\", \"Topic5\", \"Topic5\", \"Topic5\", \"Topic5\", \"Topic5\", \"Topic5\", \"Topic5\", \"Topic5\", \"Topic5\", \"Topic5\", \"Topic5\", \"Topic5\", \"Topic5\", \"Topic5\", \"Topic5\", \"Topic5\", \"Topic5\", \"Topic5\", \"Topic6\", \"Topic6\", \"Topic6\", \"Topic6\", \"Topic6\", \"Topic6\", \"Topic6\", \"Topic6\", \"Topic6\", \"Topic6\", \"Topic6\", \"Topic6\", \"Topic6\", \"Topic6\", \"Topic6\", \"Topic6\", \"Topic6\", \"Topic6\", \"Topic6\", \"Topic6\", \"Topic6\", \"Topic6\", \"Topic6\", \"Topic6\", \"Topic6\", \"Topic6\", \"Topic6\", \"Topic6\", \"Topic6\", \"Topic6\", \"Topic6\", \"Topic6\", \"Topic6\", \"Topic6\", \"Topic6\", \"Topic6\", \"Topic6\", \"Topic6\", \"Topic6\", \"Topic6\", \"Topic6\", \"Topic6\", \"Topic6\", \"Topic6\", \"Topic6\", \"Topic6\", \"Topic6\", \"Topic6\", \"Topic6\", \"Topic6\", \"Topic6\", \"Topic6\", \"Topic6\", \"Topic7\", \"Topic7\", \"Topic7\", \"Topic7\", \"Topic7\", \"Topic7\", \"Topic7\", \"Topic7\", \"Topic7\", \"Topic7\", \"Topic7\", \"Topic7\", \"Topic7\", \"Topic7\", \"Topic7\", \"Topic7\", \"Topic7\", \"Topic7\", \"Topic7\", \"Topic7\", \"Topic7\", \"Topic7\", \"Topic7\", \"Topic7\", \"Topic7\", \"Topic7\", \"Topic7\", \"Topic7\", \"Topic7\", \"Topic7\", \"Topic7\", \"Topic7\", \"Topic7\", \"Topic7\", \"Topic7\", \"Topic7\", \"Topic7\", \"Topic7\", \"Topic7\", \"Topic7\", \"Topic7\", \"Topic7\", \"Topic7\", \"Topic7\", \"Topic7\", \"Topic7\", \"Topic7\", \"Topic7\", \"Topic7\", \"Topic7\", \"Topic7\", \"Topic7\", \"Topic7\", \"Topic8\", \"Topic8\", \"Topic8\", \"Topic8\", \"Topic8\", \"Topic8\", \"Topic8\", \"Topic8\", \"Topic8\", \"Topic8\", \"Topic8\", \"Topic8\", \"Topic8\", \"Topic8\", \"Topic8\", \"Topic8\", \"Topic8\", \"Topic8\", \"Topic8\", \"Topic8\", \"Topic8\", \"Topic8\", \"Topic8\", \"Topic8\", \"Topic8\", \"Topic8\", \"Topic8\", \"Topic8\", \"Topic8\", \"Topic8\", \"Topic8\", \"Topic8\", \"Topic8\", \"Topic8\", \"Topic8\", \"Topic8\", \"Topic8\", \"Topic8\", \"Topic8\", \"Topic8\", \"Topic8\", \"Topic8\", \"Topic8\", \"Topic8\", \"Topic8\", \"Topic8\", \"Topic8\", \"Topic8\", \"Topic9\", \"Topic9\", \"Topic9\", \"Topic9\", \"Topic9\", \"Topic9\", \"Topic9\", \"Topic9\", \"Topic9\", \"Topic9\", \"Topic9\", \"Topic9\", \"Topic9\", \"Topic9\", \"Topic9\", \"Topic9\", \"Topic9\", \"Topic9\", \"Topic9\", \"Topic9\", \"Topic9\", \"Topic9\", \"Topic9\", \"Topic9\", \"Topic9\", \"Topic9\", \"Topic9\", \"Topic9\", \"Topic9\", \"Topic9\", \"Topic9\", \"Topic9\", \"Topic9\", \"Topic9\", \"Topic9\", \"Topic9\", \"Topic9\", \"Topic9\", \"Topic9\", \"Topic9\", \"Topic9\", \"Topic9\", \"Topic9\", \"Topic9\", \"Topic9\", \"Topic9\", \"Topic9\", \"Topic9\", \"Topic10\", \"Topic10\", \"Topic10\", \"Topic10\", \"Topic10\", \"Topic10\", \"Topic10\", \"Topic10\", \"Topic10\", \"Topic10\", \"Topic10\", \"Topic10\", \"Topic10\", \"Topic10\", \"Topic10\", \"Topic10\", \"Topic10\", \"Topic10\", \"Topic10\", \"Topic10\", \"Topic10\", \"Topic10\", \"Topic10\", \"Topic10\", \"Topic10\", \"Topic10\", \"Topic10\", \"Topic10\", \"Topic10\", \"Topic10\", \"Topic10\", \"Topic10\", \"Topic10\", \"Topic10\", \"Topic10\", \"Topic10\", \"Topic10\"], \"logprob\": [30.0, 29.0, 28.0, 27.0, 26.0, 25.0, 24.0, 23.0, 22.0, 21.0, 20.0, 19.0, 18.0, 17.0, 16.0, 15.0, 14.0, 13.0, 12.0, 11.0, 10.0, 9.0, 8.0, 7.0, 6.0, 5.0, 4.0, 3.0, 2.0, 1.0, -4.1723, -4.1848, -4.4689, -4.4713, -4.6225, -4.6946, -4.9378, -4.9544, -4.9875, -4.9988, -5.0895, -5.2513, -5.2749, -5.413, -5.423, -5.6315, -5.815, -5.8194, -5.8393, -5.9124, -6.0705, -6.0761, -6.1476, -6.2127, -6.2229, -6.2309, -6.2328, -6.2418, -6.2828, -6.2948, -4.4671, -6.044, -2.9172, -5.6862, -3.0532, -4.78, -4.1139, -4.0335, -3.4717, -4.4928, -5.1361, -3.55, -5.0674, -4.0146, -4.102, -3.9921, -3.5141, -4.0118, -4.6584, -4.2292, -4.3716, -4.6436, -4.5315, -4.7288, -4.867, -4.9026, -2.6987, -4.4865, -4.6688, -4.702, -4.8258, -4.8391, -4.8631, -4.9389, -5.0526, -5.0595, -5.0837, -4.1363, -5.3487, -5.5125, -5.5333, -5.5842, -5.6461, -5.739, -5.8637, -5.9611, -6.2041, -6.3224, -6.3433, -6.4482, -6.4518, -6.5026, -6.5473, -6.5551, -6.5816, -6.6447, -3.7168, -2.5812, -4.8949, -4.7386, -5.3884, -4.7852, -3.525, -2.4918, -2.233, -4.2304, -3.8259, -5.0524, -5.1206, -4.3357, -3.9029, -4.6203, -4.4927, -4.5637, -4.7048, -3.9602, -4.1654, -4.1691, -4.3298, -4.4514, -4.5626, -4.6808, -4.844, -3.7986, -4.536, -4.7618, -4.8165, -4.8954, -4.9026, -5.1246, -5.2644, -5.2794, -5.3076, -5.4074, -5.4192, -5.4237, -5.4746, -5.6082, -5.6684, -5.706, -5.7106, -5.7237, -5.7534, -5.7695, -5.7847, -5.8422, -5.8481, -5.852, -5.8889, -5.8912, -5.8999, -5.9001, -5.9979, -4.001, -5.2794, -4.5447, -2.7814, -4.6115, -4.9316, -4.7492, -4.9908, -4.5743, -5.0199, -5.421, -4.3683, -5.331, -4.576, -4.5544, -4.7714, -4.1689, -4.4438, -3.9707, -4.2365, -4.9151, -4.6636, -3.8997, -4.2549, -4.5438, -5.0246, -4.9071, -4.9007, -4.896, -2.5085, -2.733, -3.9746, -4.4928, -4.4999, -4.6595, -4.7099, -4.7999, -4.808, -4.9974, -5.094, -5.0977, -5.1502, -4.2465, -5.4265, -5.471, -5.7737, -6.0374, -6.1026, -6.1212, -6.1237, -6.1338, -6.1706, -6.1893, -6.3038, -6.332, -6.4555, -6.4748, -6.4822, -6.5267, -4.3012, -3.7126, -5.0273, -3.9103, -3.6838, -2.586, -4.9022, -5.101, -4.5813, -2.9543, -2.9768, -3.2596, -4.9929, -4.4375, -4.13, -3.4759, -4.5709, -4.8314, -4.603, -4.8402, -4.8392, -4.8716, -2.4387, -3.3625, -3.6195, -4.0786, -4.1312, -4.258, -4.4506, -4.6766, -5.0717, -5.3218, -5.441, -5.6158, -5.6856, -5.7911, -5.885, -5.9854, -6.1212, -6.1414, -6.2188, -6.2793, -6.318, -6.3846, -6.4135, -6.4175, -6.4237, -6.503, -6.5192, -6.5257, -6.5287, -6.5571, -5.8997, -5.4633, -5.0773, -5.3321, -5.3848, -5.0385, -5.3324, -4.0762, -5.1572, -5.011, -4.9259, -4.987, -4.1941, -2.5263, -4.1504, -3.1819, -3.9308, -3.0314, -3.5208, -3.192, -4.3711, -3.7347, -4.4473, -4.1448, -4.7304, -4.3137, -4.7137, -4.8309, -4.7898, -4.7988, -4.9948, -3.2987, -3.8016, -3.8444, -3.8691, -3.9449, -4.0489, -4.2879, -4.527, -4.6535, -4.8599, -5.0353, -5.1711, -5.1724, -5.2917, -5.3604, -5.3614, -5.4063, -5.5338, -5.5378, -5.5403, -5.5687, -5.5723, -5.5791, -5.6321, -5.633, -5.6363, -5.6648, -5.8821, -5.9803, -6.0006, -2.6254, -4.2885, -4.1441, -3.5626, -3.9238, -3.1872, -3.7463, -3.4224, -4.4562, -5.0895, -3.5653, -5.1393, -4.2412, -4.3286, -4.9737, -3.6911, -3.5518, -3.9031, -4.4839, -4.3839, -4.5187, -4.6048, -4.7309, -2.7887, -3.0426, -3.9237, -4.1292, -4.475, -4.5192, -4.6297, -4.6533, -4.6686, -4.7894, -4.9514, -5.1221, -5.6042, -5.8555, -6.1844, -6.3193, -6.3355, -6.6497, -6.6718, -6.717, -6.7545, -6.7718, -6.8018, -6.8349, -6.8374, -6.8476, -6.863, -6.879, -6.9123, -7.0269, -4.3795, -3.2712, -3.9201, -4.0852, -1.9089, -5.366, -4.9751, -5.2694, -5.5722, -2.4996, -4.3278, -5.4127, -3.7223, -3.5266, -4.2141, -3.2999, -4.2815, -3.7205, -4.853, -3.4696, -4.3981, -4.564, -4.8815, -3.2483, -3.7376, -4.0835, -4.1214, -4.2894, -4.3032, -4.3159, -4.4019, -4.4741, -4.5073, -4.5533, -4.6789, -4.8466, -4.9031, -5.0329, -5.045, -5.0818, -5.1047, -5.1437, -5.2706, -5.286, -5.3755, -5.4374, -5.451, -5.5277, -5.5468, -5.6061, -5.6664, -5.7016, -5.7101, -3.7145, -4.585, -3.5721, -4.5262, -4.1713, -3.7169, -4.7201, -3.9701, -3.035, -3.2402, -3.9023, -4.3593, -4.1456, -4.817, -4.6485, -4.4025, -4.6133, -4.7434, -2.4553, -3.1952, -3.8485, -3.8578, -4.1294, -4.1592, -4.2772, -4.3078, -4.5753, -4.6886, -4.7152, -4.7987, -4.8609, -4.9179, -4.9464, -4.9949, -5.007, -5.03, -5.0329, -5.0633, -5.0681, -5.0684, -5.088, -5.1206, -5.1264, -5.1748, -5.3501, -5.3907, -5.442, -5.4831, -3.5135, -3.9437, -3.0922, -4.4593, -4.3116, -4.6611, -4.6048, -4.2978, -4.5507, -4.4925, -4.1988, -4.9065, -3.8749, -4.4792, -4.8366, -4.5043, -4.6289, -4.7438, -1.8322, -3.0849, -3.3008, -3.4127, -3.6944, -3.9832, -4.156, -4.232, -4.2501, -4.2888, -4.3714, -4.6505, -4.7265, -4.9254, -4.9761, -5.0098, -5.0138, -5.0371, -5.1407, -5.1475, -5.1722, -5.2743, -5.2826, -5.3286, -5.3617, -5.3619, -5.3788, -5.3828, -5.3937, -5.4491, -3.758, -3.7713, -4.1417, -3.1023, -3.8719, -4.3962, -5.0676], \"loglift\": [30.0, 29.0, 28.0, 27.0, 26.0, 25.0, 24.0, 23.0, 22.0, 21.0, 20.0, 19.0, 18.0, 17.0, 16.0, 15.0, 14.0, 13.0, 12.0, 11.0, 10.0, 9.0, 8.0, 7.0, 6.0, 5.0, 4.0, 3.0, 2.0, 1.0, 1.8478, 1.8478, 1.8471, 1.8471, 1.8466, 1.8464, 1.8455, 1.8454, 1.8452, 1.8452, 1.8448, 1.8439, 1.8437, 1.8428, 1.8428, 1.8411, 1.8394, 1.8393, 1.8391, 1.8383, 1.8364, 1.8363, 1.8353, 1.8343, 1.8342, 1.834, 1.834, 1.8339, 1.8332, 1.833, 1.6888, 1.8125, 1.5322, 1.7791, 1.4901, 1.6688, 1.5788, 1.5342, 1.4253, 1.5265, 1.6222, 1.2063, 1.5931, 0.9088, 0.6851, 0.4582, -0.1513, 0.2761, 0.9217, 0.1973, 0.3678, 0.6264, -0.4877, 0.0317, 0.291, 0.5747, 1.8616, 1.8592, 1.8586, 1.8585, 1.8581, 1.858, 1.8579, 1.8576, 1.857, 1.857, 1.8569, 1.856, 1.8553, 1.8541, 1.8539, 1.8535, 1.853, 1.8521, 1.8508, 1.8496, 1.8462, 1.8442, 1.8439, 1.8419, 1.8418, 1.8408, 1.8398, 1.8396, 1.839, 1.8375, 1.8258, 1.5703, 1.6716, 1.6518, 1.7155, 1.6395, 1.3883, 1.2077, 1.1298, 1.4796, 1.3239, 1.5762, 1.5521, 1.1326, 0.899, 1.1622, 0.9834, 0.9944, 1.0606, 0.0837, 0.1224, -0.1232, 0.1205, -0.1285, 0.1768, -0.2314, 1.0368, 1.9879, 1.9862, 1.9853, 1.9851, 1.9847, 1.9847, 1.9835, 1.9826, 1.9825, 1.9823, 1.9815, 1.9815, 1.9814, 1.981, 1.9798, 1.9792, 1.9788, 1.9787, 1.9786, 1.9783, 1.9781, 1.9779, 1.9772, 1.9772, 1.9771, 1.9767, 1.9766, 1.9765, 1.9765, 1.9752, 1.8851, 1.9142, 1.8297, 1.5064, 1.7766, 1.7643, 1.7205, 1.774, 1.653, 1.7445, 1.8619, 1.4784, 1.829, 1.5005, 1.4708, 1.482, 0.9731, 1.1479, 0.7687, 0.6767, 1.418, 1.0969, 0.1462, 0.547, 0.9335, 1.4579, 1.1689, 1.0219, 0.1498, 2.0532, 2.0531, 2.0516, 2.0502, 2.0502, 2.0496, 2.0494, 2.049, 2.0489, 2.0479, 2.0474, 2.0473, 2.047, 2.045, 2.0449, 2.0445, 2.0413, 2.0375, 2.0365, 2.0361, 2.0361, 2.0359, 2.0353, 2.0349, 2.0327, 2.0321, 2.0293, 2.0288, 2.0286, 2.0275, 1.9972, 1.952, 1.9848, 1.9464, 1.9318, 1.8406, 1.9347, 1.8769, 1.7892, 1.496, 0.7925, 0.7864, 1.5408, 1.0308, 0.6305, -0.113, 0.4748, 0.854, -0.4515, 0.6755, -0.5163, -0.4222, 2.1478, 2.1471, 2.1467, 2.1458, 2.1456, 2.1453, 2.1446, 2.1437, 2.1415, 2.1395, 2.1384, 2.1366, 2.1357, 2.1343, 2.133, 2.1314, 2.1289, 2.1282, 2.1269, 2.1256, 2.1247, 2.1231, 2.1224, 2.1223, 2.1222, 2.12, 2.1196, 2.1194, 2.1193, 2.1185, 2.1069, 2.0796, 2.0629, 1.9636, 1.9615, 1.9056, 1.9465, 1.6973, 1.8969, 1.8687, 1.8003, 1.8113, 1.5327, 0.8365, 1.4241, 0.862, 1.2112, 0.6681, 0.8021, 0.5774, 1.3144, 0.8086, 1.1327, 0.7786, 0.8372, -0.1622, 0.3321, 0.6529, 0.36, -0.0593, -0.2343, 2.5347, 2.5336, 2.5335, 2.5334, 2.5332, 2.5328, 2.5318, 2.5306, 2.5298, 2.5283, 2.5268, 2.5254, 2.5254, 2.524, 2.5231, 2.5231, 2.5225, 2.5206, 2.5205, 2.5205, 2.5201, 2.52, 2.5199, 2.519, 2.519, 2.5189, 2.5184, 2.5141, 2.5118, 2.5113, 2.1617, 2.289, 2.2417, 1.9211, 1.957, 1.569, 1.7298, 1.501, 1.8982, 2.2392, 1.3317, 2.1888, 1.3168, 1.3983, 2.0033, 0.3528, 0.1478, 0.4198, 1.2016, 0.8861, 0.2831, 0.3085, 0.4271, 2.5354, 2.5351, 2.5333, 2.5325, 2.5309, 2.5307, 2.53, 2.5298, 2.5297, 2.5289, 2.5276, 2.5259, 2.5195, 2.5147, 2.5063, 2.502, 2.5014, 2.4889, 2.4878, 2.4856, 2.4837, 2.4828, 2.4813, 2.4795, 2.4793, 2.4787, 2.4779, 2.477, 2.475, 2.4678, 2.436, 2.3007, 2.2152, 2.1606, 1.8604, 2.2816, 2.1394, 2.1614, 2.221, 1.5464, 1.8371, 2.0494, 1.3235, 1.2339, 1.3604, 0.7439, 1.2765, 0.6024, 1.5693, 0.23, 1.0857, 0.5857, -0.0796, 2.7157, 2.7145, 2.7132, 2.7131, 2.7123, 2.7122, 2.7121, 2.7116, 2.7112, 2.711, 2.7107, 2.7097, 2.7083, 2.7078, 2.7064, 2.7063, 2.7059, 2.7056, 2.7051, 2.7035, 2.7033, 2.7019, 2.7009, 2.7007, 2.6994, 2.699, 2.6979, 2.6967, 2.696, 2.6958, 2.5725, 2.6268, 2.1884, 2.3973, 2.0489, 1.7988, 2.2938, 1.8599, 1.2879, 0.8036, 1.2557, 1.7167, 1.4339, 2.0961, 1.4029, 0.3538, 0.5287, 0.7327, 2.8123, 2.8112, 2.8094, 2.8093, 2.8081, 2.808, 2.8073, 2.8071, 2.8053, 2.8043, 2.8041, 2.8033, 2.8027, 2.8021, 2.8018, 2.8012, 2.801, 2.8008, 2.8007, 2.8003, 2.8003, 2.8003, 2.8, 2.7996, 2.7995, 2.7988, 2.7961, 2.7954, 2.7945, 2.7937, 2.5516, 2.6037, 2.4873, 2.6033, 2.4224, 2.5292, 2.4797, 2.0566, 2.1472, 1.9746, 1.2785, 2.4789, -0.1753, 1.3507, 2.2377, 0.964, -0.4774, 0.4142, 3.846, 3.8424, 3.8412, 3.8405, 3.8382, 3.8352, 3.8329, 3.8318, 3.8315, 3.8309, 3.8295, 3.8237, 3.8219, 3.8164, 3.8148, 3.8137, 3.8136, 3.8128, 3.8091, 3.8088, 3.8079, 3.8037, 3.8033, 3.8013, 3.7998, 3.7998, 3.7989, 3.7988, 3.7983, 3.7956, 3.5836, 3.5512, 3.1929, 1.6582, 2.0508, 2.1907, 3.2653]}, \"token.table\": {\"Topic\": [1, 5, 9, 3, 4, 7, 6, 7, 4, 3, 4, 9, 3, 4, 3, 4, 5, 1, 4, 7, 4, 2, 4, 3, 4, 7, 1, 5, 10, 1, 3, 6, 3, 8, 8, 9, 6, 5, 8, 7, 3, 9, 1, 2, 3, 4, 2, 4, 1, 2, 5, 3, 9, 6, 3, 3, 7, 1, 5, 2, 8, 9, 7, 2, 3, 5, 7, 1, 8, 1, 6, 8, 7, 10, 3, 4, 9, 7, 8, 9, 8, 2, 9, 2, 1, 2, 3, 4, 5, 7, 8, 4, 2, 6, 8, 8, 3, 3, 8, 3, 5, 10, 3, 5, 7, 2, 2, 1, 8, 2, 4, 3, 4, 8, 3, 9, 9, 1, 3, 1, 5, 9, 3, 4, 9, 5, 5, 10, 4, 7, 1, 3, 4, 5, 7, 1, 2, 1, 9, 1, 3, 5, 6, 9, 4, 10, 2, 3, 1, 5, 5, 3, 4, 5, 4, 5, 1, 2, 4, 5, 6, 7, 8, 1, 1, 6, 10, 3, 4, 4, 5, 6, 10, 5, 6, 4, 8, 2, 7, 6, 1, 2, 4, 4, 8, 2, 9, 4, 9, 7, 4, 10, 8, 5, 7, 2, 3, 4, 10, 1, 4, 6, 8, 5, 1, 2, 6, 8, 10, 6, 1, 3, 4, 6, 3, 1, 2, 4, 6, 6, 8, 10, 2, 1, 5, 1, 1, 7, 6, 1, 5, 10, 4, 1, 6, 5, 6, 10, 10, 2, 9, 1, 2, 3, 4, 5, 7, 7, 1, 3, 4, 5, 7, 3, 4, 7, 2, 3, 7, 9, 1, 2, 3, 4, 5, 6, 9, 1, 3, 7, 9, 7, 7, 7, 10, 4, 7, 2, 1, 2, 5, 6, 7, 8, 9, 5, 10, 8, 10, 1, 3, 8, 6, 6, 7, 8, 1, 3, 4, 5, 7, 10, 3, 6, 9, 2, 6, 8, 5, 5, 7, 1, 8, 9, 2, 1, 1, 3, 2, 4, 5, 8, 5, 9, 9, 1, 2, 3, 3, 5, 3, 5, 1, 1, 4, 3, 4, 10, 9, 8, 8, 9, 9, 5, 9, 9, 1, 9, 8, 8, 1, 2, 3, 4, 5, 7, 8, 1, 5, 2, 1, 1, 1, 2, 3, 5, 8, 3, 9, 7, 3, 5, 6, 8, 9, 1, 2, 3, 6, 9, 1, 2, 4, 5, 4, 5, 7, 7, 1, 3, 9, 1, 3, 7, 1, 8, 9, 1, 3, 4, 5, 8, 9, 8, 10, 6, 8, 1, 4, 6, 9, 3, 4, 9, 5, 2, 5, 6, 1, 5, 6, 1, 6, 4, 1, 2, 3, 5, 6, 7, 8, 9, 2, 5, 1, 4, 1, 2, 8, 10, 4, 1, 4, 1, 2, 3, 7, 5, 1, 4, 4, 3, 10, 6, 10, 5, 9, 2, 10, 1, 2, 2, 3, 5, 8, 3, 5, 5, 1, 3, 9, 5, 6, 7, 3, 2, 6, 2, 7, 1, 5, 6, 1, 10, 8, 8, 6, 2, 7, 4, 2, 1, 1, 9, 1, 2, 3, 5, 2, 3, 5, 7, 10, 5, 9, 7, 3, 3, 1, 2, 3, 4, 5, 7, 9, 10, 4, 2, 9, 4, 6, 8, 6, 8, 7, 1, 6, 8, 9, 3, 2, 3, 10, 10, 2, 6, 7, 5, 3, 3, 4, 4, 2, 6, 3, 6, 3, 6, 6, 4, 1, 3, 7, 3, 4, 10, 5, 6, 5, 7, 2, 3, 6, 6, 3, 4, 10, 9, 7, 10, 1, 2, 3, 5, 6, 7, 1, 9, 8, 1, 5, 5, 7, 10, 1, 2, 6, 8, 5, 2, 2, 6, 8, 6, 2, 4, 5, 7, 1, 2, 9, 8, 3, 10, 3, 9, 2, 6, 2, 1, 8, 1, 3, 5, 9, 8, 1, 3, 1, 2, 3, 6, 9, 3, 1, 2, 4, 5, 2, 3, 8, 6, 10, 7, 1, 3, 4, 5, 7, 8, 1, 3, 4, 5, 7, 8, 8, 10, 10, 4, 8, 10, 5, 4, 6, 8, 6, 3, 5, 3, 1, 10, 4, 1, 2, 4, 5, 6, 7, 8, 6, 6, 9, 9, 1, 2, 3, 4, 6, 9, 1, 3, 4, 2, 6, 7, 1, 2, 3, 4, 5, 6, 7, 9, 4, 5, 1, 3, 4, 5, 4, 1, 8, 8, 2, 4, 9, 4, 7, 1, 3, 3, 1, 2, 3, 5, 6, 7, 9, 5, 4, 5, 9, 3, 7, 4, 3, 3, 5, 4], \"Freq\": [0.19525316570345796, 0.03290783691631314, 0.7700433838417275, 0.1585033445422457, 0.8362417832746066, 0.979731856812782, 0.984634691774025, 0.9634352801440895, 0.9937667912621282, 0.09974826030256541, 0.8977343427230886, 0.9872547734272841, 0.0055024064417325425, 0.9904331595118577, 0.16375623400725092, 0.7681656067976498, 0.06550249360290036, 0.9837463910018945, 0.9939375909196575, 0.9154858459686296, 0.9980661678834314, 0.09553932539911437, 0.9039490018531592, 0.9943273183846258, 0.09291919003975035, 0.905962102887566, 0.8504533656909761, 0.14654704889025294, 0.9505150317509193, 0.7986422842967752, 0.20185464328380034, 0.9851484577798023, 0.808268164382114, 0.18992093480016886, 0.9944338112967702, 0.9816048788017888, 0.9706560402051785, 0.8295004294585175, 0.16590008589170352, 0.9959979442967133, 0.9924739037815606, 0.9913658344566717, 0.7277293486295577, 0.12339568943209397, 0.0645320213284449, 0.08415324402966126, 0.997390158756247, 0.9822061333018874, 0.6978765837163999, 0.039755495160234175, 0.26200308256202526, 0.43335311002803134, 0.5597477671195404, 0.9893985685092928, 0.9930026643616588, 0.9892283069372577, 0.9586780011653669, 0.9957310060906945, 0.9908642058522401, 0.995099847364257, 0.2767276733239114, 0.7221917328209396, 0.9315398465087714, 0.9947094087781584, 0.9858498170438742, 0.9641596233672182, 0.9947964904419867, 0.9976688467603978, 0.9830904764691201, 0.6542205069897045, 0.2994815459525342, 0.04570675074902002, 0.9484517864923334, 0.9875119644014388, 0.9908442618445195, 0.9941474971751421, 0.9955393605569535, 0.9934610402272783, 0.7246284718074636, 0.26914771809991506, 0.9801003355872948, 0.9890025554811993, 0.9873270871611535, 0.9868608079309823, 0.009903339779186547, 0.1374816581110603, 0.15816216176759693, 0.28166263430804095, 0.04136100731307323, 0.3716665164188834, 0.9926063358336449, 0.9836322422304057, 0.9962719169339602, 0.9958263481163604, 0.9881160930483309, 0.9940865982331235, 0.9978812951785236, 0.4092890145905337, 0.5888585032053528, 0.9886525014754822, 0.9990402031356584, 0.9567788651964658, 0.17725332422015797, 0.8197966245182307, 0.9985565912259945, 0.9778816670744073, 0.9938136705416134, 0.9605825261142442, 0.026317329482582034, 0.7330990051339354, 0.2618210732621198, 0.9006448279982129, 0.09721828082261769, 0.9905647897119273, 0.1844086669428063, 0.809018667878118, 0.991126390933537, 0.9342738787111559, 0.06228492524741039, 0.9971521346735465, 0.9981900085089679, 0.9973866456085718, 0.8824017062079861, 0.11122710582453606, 0.9812668633876009, 0.9867915449754134, 0.984148399664834, 0.949150415137464, 0.20897944163397342, 0.7903709651541303, 0.020077102435457028, 0.5650270256835763, 0.10898998464962387, 0.11185814214040343, 0.19216655188223156, 0.24667700457185474, 0.7515939983048698, 0.27971532331507964, 0.7175306119821608, 0.27912189510125074, 0.34737877774609804, 0.05484928069675232, 0.102385323967271, 0.21574050407389248, 0.9775225368993669, 0.9880273775518823, 0.9971360588314898, 0.99121637328719, 0.7297325199538548, 0.26948074777089337, 0.9842490326806191, 0.7998289370399572, 0.19789581947380383, 0.9629268270356989, 0.283157775726074, 0.7124615002139927, 0.022284972941370603, 0.13678362701944716, 0.07646051060918535, 0.26011942553979134, 0.12026200914912068, 0.144468100447506, 0.23937134728403253, 0.9912247477511048, 0.9943161669101587, 0.9960651330416316, 0.9448175838650691, 0.8525146919178953, 0.14427171709379769, 0.301660773852257, 0.4337311624044889, 0.26263997723455207, 0.9689622663110808, 0.9874785092002636, 0.9900298535032618, 0.08287024068738172, 0.9115726475611988, 0.25937937954195645, 0.7287325425226396, 0.9853476899401327, 0.19802610120194777, 0.801534219150741, 0.9781118296808482, 0.9801220753373818, 0.98271499936958, 0.9976246123219197, 0.9949045525690818, 0.2793065718540597, 0.7146962279795058, 0.943004751223046, 0.9898770269873948, 0.9724584904011799, 0.9916654509606639, 0.31953921541327573, 0.6704058048866766, 0.25305087542473453, 0.3805276322176459, 0.19977700691426412, 0.16552952001467597, 0.23177343839058986, 0.2520377827307507, 0.11651997995592496, 0.398954279196917, 0.974599929427346, 0.21381479602621603, 0.681438522587149, 0.06922061741855914, 0.03384119073796225, 0.9713657156220628, 0.9783570779874984, 0.2023786370866098, 0.5944872464419163, 0.07378387810449316, 0.12648664817913113, 0.9962592634214404, 0.24876933214161515, 0.17544784477356015, 0.5726059013505247, 0.003055061973668958, 0.33992643995677485, 0.6571911172497646, 0.9370744709541575, 0.9715274550463334, 0.7230205650426553, 0.27453824353793577, 0.9890211152321515, 0.9957378212842442, 0.9963690765964355, 0.9980283674357407, 0.21822782436031576, 0.7785425085286941, 0.9840478512507578, 0.9882832989730599, 0.312299670119936, 0.6875481974264736, 0.9900507236394087, 0.9966733623755875, 0.9406547334111486, 0.9914190192540865, 0.9840238343715838, 0.9874734137021908, 0.04591477111153136, 0.12903633950309676, 0.15911843092099662, 0.20582483601720955, 0.1622849668597229, 0.29765437824027224, 0.9986135817479722, 0.141105937871168, 0.3637397509567887, 0.09407062524744535, 0.01881412504948907, 0.37941818849802955, 0.2040127873766392, 0.1774024238057732, 0.6120383621299176, 0.17529193605847332, 0.6124123335713751, 0.19304301819097694, 0.015532196865940673, 0.029781116093322454, 0.7467938568184228, 0.004208201187099912, 0.08157436147301367, 0.09905458178865946, 0.0006474155672461403, 0.037226395116653065, 0.9983507367402545, 0.9947257758086198, 0.9612068004948815, 0.9872351266241695, 0.9966206100984479, 0.9909398186536394, 0.9607184222129043, 0.9816568378655197, 0.3101413038388726, 0.6859905110334386, 0.9940457057721912, 0.0030900538281666405, 0.519747053897629, 0.2276339653416092, 0.09167159690227701, 0.09970573685551028, 0.00762213277614438, 0.05026487560484402, 0.9863704666587428, 0.9761927504285671, 0.9899526695849507, 0.9982205249132526, 0.12294116185394752, 0.3329656466877745, 0.5378675831110203, 0.9988496899410012, 0.9629929526711984, 0.9479344290649669, 0.9923336751435211, 0.12199685762622854, 0.29944683235528824, 0.02218124684113246, 0.24029684077893498, 0.11829998315270646, 0.192237472623148, 0.986356583741855, 0.2433253041730652, 0.7502530212002844, 0.40952230906463905, 0.584251827598885, 0.9982443575738424, 0.985056263660133, 0.9696022831170606, 0.9926087873726466, 0.9911030038962116, 0.9911991995155028, 0.9856542184102836, 0.9936041198081146, 0.994386999732797, 0.9933049898824895, 0.9826210289241031, 0.4003483187209106, 0.08223370871024109, 0.24670112613072326, 0.268341575791313, 0.9582369787806346, 0.9990689161124283, 0.9911845781869163, 0.10908423257780289, 0.08181317443335218, 0.8090413916187048, 0.28895537365236384, 0.7053910592101824, 0.9930850143172577, 0.9992805885465877, 0.9886794304059001, 0.1913521196496165, 0.8080258771841267, 0.851926283156813, 0.14647153640239943, 0.9485477088027692, 0.9909535944162029, 0.9953135140147351, 0.993996788709519, 0.9879935102638525, 0.9817083549678389, 0.9977412196879956, 0.9967066508699419, 0.9853200677411691, 0.9939986635575401, 0.9972078872965862, 0.9973860399785989, 0.9894955649717738, 0.227267365964129, 0.18531031378613594, 0.2948648389175622, 0.09148968322145705, 0.11013726196723174, 0.05128084155088039, 0.039626104834771206, 0.211345952224651, 0.7819800232312087, 0.9929669045463945, 0.9905331860945725, 0.995557180657436, 0.08291936655951922, 0.4487401013809275, 0.2959083277222058, 0.10568154561507351, 0.0650347973015837, 0.9942446641271461, 0.9961418514812415, 0.9821571525429561, 0.21502502212140215, 0.003468145518087131, 0.12485323865113672, 0.42484782596567355, 0.2323657497118378, 0.1785995138513144, 0.4961097606980955, 0.11079784655590799, 0.11079784655590799, 0.10252935054427308, 0.39575840569974896, 0.1391232620719254, 0.10265405745112942, 0.36199062364345636, 0.28339794914372807, 0.20785461429793306, 0.5087026320171518, 0.9686510868553756, 0.18123911341557658, 0.003553708106187776, 0.8102454482108129, 0.25922592121905375, 0.5995701579216209, 0.13931188963472957, 0.989297490407972, 0.9847320046082343, 0.9918410456118206, 0.2229956001899039, 0.2164369060666714, 0.06886628829394091, 0.013117388246464934, 0.04591085886262727, 0.4328738121333428, 0.42377984389958556, 0.5509137970694612, 0.9866822104035863, 0.9927062471431783, 0.9941078468014676, 0.9977322146526956, 0.9901586108102213, 0.9879433291838619, 0.9872188303434898, 0.8876782770839271, 0.10917968113866483, 0.9944031466576504, 0.8109812081010357, 0.18831773371634536, 0.9944082614200616, 0.1376529086794646, 0.5396619715274464, 0.3206687077192073, 0.8339324574771686, 0.16421063834492508, 0.9970566852396735, 0.2107832685834527, 0.18598523698539943, 0.07439409479415977, 0.004428219928223796, 0.121333226033332, 0.08059360269367309, 0.2320387242389269, 0.0912213305214102, 0.9916743627473417, 0.9952737725721474, 0.11335742780458276, 0.8858673061765542, 0.9829333638822909, 0.9641027415184881, 0.03512924969095706, 0.9373482484765286, 0.9935956128922884, 0.9824898855925212, 0.9845712061691384, 0.20738103591635226, 0.17547626115999038, 0.6169493072073234, 0.9696861270550813, 0.9791811603793532, 0.995916561869408, 0.9781315799923768, 0.9995825396172096, 0.4762903466422258, 0.5231385774594939, 0.9901381125805028, 0.9713337165315519, 0.32118696367796695, 0.6766338701482503, 0.9954453028468203, 0.9727705243653957, 0.17023904411352447, 0.8258404693166719, 0.9931609423192614, 0.030579172702381856, 0.9632439401250285, 0.9947807238931545, 0.16522098071737348, 0.8336149481649299, 0.9968775107428683, 0.9808965568317851, 0.7628255889940155, 0.2334509345628237, 0.22448989255317653, 0.5409838394314254, 0.2343036583478509, 0.9848519481433458, 0.9958341574850306, 0.9880390241010623, 0.9962717138973527, 0.9676690792751986, 0.39013582140215447, 0.25425368612025506, 0.355114652515067, 0.9973758671974081, 0.9704651065571649, 0.9768046440190342, 0.9881001639821972, 0.9868283244842505, 0.9902889521172512, 0.9948563190853328, 0.9911432801077207, 0.9996485388559172, 0.9855011576773793, 0.9981352670430067, 0.9903093796069927, 0.0748221716352683, 0.07224209675129353, 0.714680742861011, 0.13674396885066276, 0.5841356424407604, 0.0904751446186441, 0.16689589784021727, 0.14230071289534316, 0.015811190321704794, 0.9328090653140831, 0.05769952981324225, 0.9923208240550628, 0.9932768253822202, 0.9859128686930453, 0.16247872423029214, 0.06011117636358794, 0.010712882916282999, 0.24103986561636748, 0.09224982511243694, 0.271988194041185, 0.04939829344730494, 0.11189011045895576, 0.9777650652921467, 0.99337154207129, 0.004079554587561766, 0.13196366634644047, 0.745206586426958, 0.11643852912921218, 0.9821808338065251, 0.9719582969861449, 0.9668957992489342, 0.5256594568401057, 0.37987340680327825, 0.09422756892624218, 0.9974495799801288, 0.9935153941349817, 0.9692314109120554, 0.22802404788671465, 0.7705640238930357, 0.9593660025183096, 0.42017035274932385, 0.29596905350895764, 0.2840774397519013, 0.9752747602555877, 0.9820813278314147, 0.05263107230109346, 0.9445892449827825, 0.9948033623471777, 0.9954028129459165, 0.9878094630372489, 0.9979831345436951, 0.9690251346491223, 0.25396225382095167, 0.7437466004756441, 0.9827490148548423, 0.9872345446702736, 0.060607038020072564, 0.4412192367861283, 0.49697771176459504, 0.9889920877122935, 0.9917435140095939, 0.970623911931257, 0.9872574132809924, 0.9756398885483507, 0.300883938138237, 0.6877347157445417, 0.6226503776064701, 0.2690293390994548, 0.10747306072272034, 0.9938122943528727, 0.06221630348949505, 0.9332445523424258, 0.988763954342025, 0.9896113706252927, 0.9122211475886448, 0.992461614249365, 0.11473154283702178, 0.05736577141851089, 0.03278044081057765, 0.6375795737657353, 0.008195110202644412, 0.1491510056881283, 0.994952030955188, 0.9903188087002892, 0.991756509205691, 0.2378172681329466, 0.7580425421737673, 0.9700552554537681, 0.7795354422876328, 0.21357135405140626, 0.9870355077233027, 0.4151111571399887, 0.44676186120344824, 0.13755882919888188, 0.9781766984866797, 0.9979299913001691, 0.2946436896072209, 0.19215892800470932, 0.5124238080125582, 0.9793117414374783, 0.974377391416696, 0.20550882234989173, 0.4848933651523589, 0.3089348309834974, 0.10538292681627212, 0.8616604016154015, 0.024795982780299323, 0.994129473844844, 0.9934190554871678, 0.9757918349682726, 0.9290958462922236, 0.06781721505782654, 0.984974656268371, 0.9893188166000523, 0.9889256810300036, 0.13147490978525217, 0.8655431560862434, 0.761949270865831, 0.23584144098228102, 0.9897492228368502, 0.9807451290067327, 0.9962638549118877, 0.21191557792624707, 0.7814386936030361, 0.9942643365761425, 0.984177637578297, 0.2870381113700123, 0.7059585982343546, 0.9892873185235389, 0.9926611499006002, 0.1351877165950656, 0.4808799189872355, 0.11459328751638313, 0.26934571173619704, 0.1907385073993623, 0.43914214494271786, 0.3681696770731877, 0.9885991489908624, 0.9402725577035775, 0.9932303316369266, 0.28832346925352587, 0.4304355109709036, 0.10795049322762344, 0.128447422321476, 0.04236032012729527, 0.9827147446860315, 0.09935884965835143, 0.3617010755106653, 0.03311961655278381, 0.39133441663684027, 0.0008715688566522055, 0.11243238250813452, 0.9953071588140854, 0.989915107781706, 0.9932261238328834, 0.9865518143440994, 0.2468522548105754, 0.7405567644317262, 0.9843442714344123, 0.9889916867474818, 0.7800741894135198, 0.2160768881474069, 0.9934055145034176, 0.99794698162728, 0.9958438864318271, 0.9906062110650511, 0.9879063836574515, 0.9918029019513858, 0.9976733444453271, 0.09650267831973242, 0.16887968705953174, 0.031392437525696086, 0.2764278526568239, 0.1127802385182415, 0.16655432131688758, 0.1473700539400733, 0.9973724219404178, 0.5273504251007496, 0.4687559334228885, 0.9844450841542246, 0.09990769186762248, 0.053284102329398654, 0.5861251256233853, 0.07992615349409798, 0.07659589709851057, 0.09990769186762248, 0.3259885043212096, 0.07361030742736992, 0.5993982176228694, 0.43793071131961536, 0.5601863682296747, 0.9430844490844698, 0.29420516441579503, 0.1218425428388646, 0.14660728731830863, 0.04556712984217701, 0.12382372239722013, 0.19217441716048564, 0.04556712984217701, 0.02971769337533283, 0.9975969789939247, 0.998201900273619, 0.21187799326488257, 0.6012038058891043, 0.002648474915811032, 0.1800962942751502, 0.9801263639493294, 0.9980845640751036, 0.9890066285315001, 0.9930275492788017, 0.481934810893004, 0.359941287333622, 0.15702136695762037, 0.2729990008342186, 0.7248594160080977, 0.7718985424453799, 0.2228160741079447, 0.9960597323075341, 0.13088243840123862, 0.38148198870503197, 0.23633274422214176, 0.06637166307550964, 0.1048300099043096, 0.07319491815803866, 0.00620295916593548, 0.9926696143177801, 0.25610041758822366, 0.2271858543121339, 0.5122008351764473, 0.9958560105679941, 0.9289463453240486, 0.9995003532952353, 0.9942864336450309, 0.0771449792023306, 0.9193110021611063, 0.9944065807770491], \"Term\": [\"$\", \"$\", \"$\", \"10\", \"10\", \"12\", \"128\", \"13\", \"16\", \"2\", \"2\", \"2nd\", \"3\", \"3\", \"4\", \"4\", \"4\", \"50\", \"6\", \"6th\", \"7\", \"8\", \"8\", \"9\", \"absolutely\", \"absolutely\", \"access\", \"access\", \"accidentally\", \"account\", \"account\", \"activity\", \"ad\", \"ad\", \"adult\", \"advertise\", \"advertisement\", \"affordable\", \"affordable\", \"age\", \"ago\", \"alternative\", \"amazon\", \"amazon\", \"amazon\", \"amazon\", \"android\", \"annoying\", \"app\", \"app\", \"app\", \"apple\", \"apple\", \"application\", \"appropriate\", \"ask\", \"aspect\", \"available\", \"away\", \"basic\", \"battery\", \"battery\", \"bc\", \"beat\", \"believe\", \"benefit\", \"birthday\", \"black\", \"blue\", \"book\", \"book\", \"book\", \"borrow\", \"box\", \"brand\", \"break\", \"bright\", \"bring\", \"browse\", \"browse\", \"browsing\", \"buck\", \"budget\", \"busy\", \"buy\", \"buy\", \"buy\", \"buy\", \"buy\", \"buy\", \"cable\", \"call\", \"camera\", \"card\", \"care\", \"carry\", \"case\", \"charge\", \"charge\", \"charger\", \"child\", \"children\", \"choice\", \"choice\", \"christmas\", \"clarity\", \"clear\", \"close\", \"close\", \"color\", \"color\", \"come\", \"come\", \"compact\", \"compare\", \"compare\", \"complaint\", \"connect\", \"connect\", \"content\", \"control\", \"cost\", \"cover\", \"cover\", \"crisp\", \"customer\", \"dad\", \"darn\", \"daughter\", \"daughter\", \"day\", \"day\", \"day\", \"day\", \"day\", \"deal\", \"deal\", \"decent\", \"decent\", \"device\", \"device\", \"device\", \"device\", \"device\", \"die\", \"disappoint\", \"display\", \"dollar\", \"download\", \"download\", \"downside\", \"drop\", \"drop\", \"durability\", \"durable\", \"durable\", \"easy\", \"easy\", \"easy\", \"easy\", \"easy\", \"easy\", \"easy\", \"ebook\", \"educational\", \"email\", \"encourage\", \"end\", \"end\", \"enjoy\", \"enjoy\", \"enjoy\", \"enjoyable\", \"entertain\", \"entertainment\", \"ereader\", \"ereader\", \"everyday\", \"everyday\", \"exactly\", \"excellent\", \"excellent\", \"exchange\", \"excited\", \"expandable\", \"expect\", \"expensive\", \"experience\", \"experience\", \"extend\", \"eye\", \"fairly\", \"fall\", \"family\", \"family\", \"far\", \"far\", \"far\", \"far\", \"fast\", \"fast\", \"fast\", \"fast\", \"father\", \"feature\", \"feature\", \"feature\", \"feature\", \"fee\", \"finally\", \"find\", \"find\", \"find\", \"find\", \"fine\", \"fire\", \"fire\", \"fire\", \"fire\", \"fit\", \"fit\", \"flash\", \"flight\", \"free\", \"free\", \"freetime\", \"friday\", \"friend\", \"friendly\", \"fun\", \"fun\", \"functional\", \"galaxy\", \"game\", \"game\", \"gaming\", \"gb\", \"gear\", \"geek\", \"general\", \"generation\", \"get\", \"get\", \"get\", \"get\", \"get\", \"get\", \"gift\", \"give\", \"give\", \"give\", \"give\", \"give\", \"glad\", \"glad\", \"glad\", \"go\", \"go\", \"go\", \"go\", \"good\", \"good\", \"good\", \"good\", \"good\", \"good\", \"good\", \"google\", \"grand\", \"grandaughter\", \"grandchild\", \"granddaughter\", \"grandkid\", \"grandma\", \"grandmother\", \"grandson\", \"grandson\", \"graphic\", \"great\", \"great\", \"great\", \"great\", \"great\", \"great\", \"great\", \"grow\", \"guarantee\", \"happen\", \"happy\", \"hard\", \"hard\", \"hard\", \"hd\", \"hdx\", \"heart\", \"heavy\", \"help\", \"help\", \"help\", \"help\", \"help\", \"help\", \"helpful\", \"high\", \"high\", \"highly\", \"highly\", \"hold\", \"homework\", \"hulu\", \"husband\", \"impressed\", \"improve\", \"improvement\", \"inch\", \"instal\", \"install\", \"instruction\", \"internet\", \"internet\", \"internet\", \"internet\", \"investment\", \"ipad\", \"iphone\", \"issue\", \"issue\", \"issue\", \"keep\", \"keep\", \"keyboard\", \"kid\", \"kids\", \"kindle\", \"kindle\", \"know\", \"know\", \"knowledgeable\", \"lack\", \"laptop\", \"last\", \"late\", \"law\", \"learn\", \"learning\", \"level\", \"library\", \"life\", \"light\", \"lightweight\", \"like\", \"like\", \"like\", \"like\", \"like\", \"like\", \"like\", \"limit\", \"limit\", \"limited\", \"link\", \"listen\", \"little\", \"little\", \"little\", \"little\", \"little\", \"live\", \"load\", \"loading\", \"long\", \"long\", \"long\", \"long\", \"long\", \"look\", \"look\", \"look\", \"look\", \"look\", \"lot\", \"lot\", \"lot\", \"lot\", \"love\", \"love\", \"love\", \"loves\", \"low\", \"low\", \"low\", \"m\", \"m\", \"m\", \"magazine\", \"main\", \"mainly\", \"make\", \"make\", \"make\", \"make\", \"make\", \"make\", \"mean\", \"mean\", \"medium\", \"meet\", \"member\", \"memory\", \"micro\", \"mini\", \"mode\", \"model\", \"model\", \"mom\", \"money\", \"money\", \"mother\", \"movie\", \"movie\", \"movie\", \"music\", \"music\", \"navigate\", \"need\", \"need\", \"need\", \"need\", \"need\", \"need\", \"need\", \"need\", \"nephew\", \"netflix\", \"new\", \"new\", \"news\", \"nice\", \"nice\", \"nicely\", \"niece\", \"night\", \"nook\", \"not\", \"not\", \"not\", \"occupy\", \"offline\", \"ok\", \"okay\", \"old\", \"one\", \"one\", \"operating\", \"opportunity\", \"option\", \"option\", \"original\", \"outstanding\", \"overall\", \"overall\", \"own\", \"pad\", \"pad\", \"page\", \"parent\", \"parent\", \"parental\", \"past\", \"pay\", \"pay\", \"perfect\", \"perfect\", \"perfect\", \"perform\", \"performance\", \"person\", \"picture\", \"pink\", \"play\", \"play\", \"play\", \"pleased\", \"poor\", \"pop\", \"port\", \"portable\", \"powerful\", \"present\", \"previous\", \"price\", \"primarily\", \"prime\", \"pro\", \"problem\", \"problem\", \"problem\", \"problem\", \"product\", \"product\", \"product\", \"product\", \"product\", \"profile\", \"profile\", \"program\", \"protection\", \"protective\", \"purchase\", \"purchase\", \"purchase\", \"purchase\", \"purchase\", \"purchase\", \"purchase\", \"purchase\", \"purse\", \"quality\", \"quality\", \"quickly\", \"quickly\", \"quickly\", \"ram\", \"range\", \"rating\", \"read\", \"read\", \"read\", \"reading\", \"real\", \"reasonable\", \"receive\", \"receive\", \"recipient\", \"recommend\", \"recommend\", \"recommend\", \"reliable\", \"remove\", \"replace\", \"replace\", \"replacement\", \"resolution\", \"responsive\", \"return\", \"ride\", \"right\", \"right\", \"road\", \"rough\", \"s\", \"s\", \"s\", \"safe\", \"satisfied\", \"satisfy\", \"save\", \"savvy\", \"school\", \"school\", \"screen\", \"screen\", \"screen\", \"sd\", \"second\", \"second\", \"selection\", \"sell\", \"senior\", \"service\", \"set\", \"set\", \"set\", \"set\", \"set\", \"set\", \"setting\", \"sharp\", \"shop\", \"show\", \"show\", \"shut\", \"sister\", \"sister\", \"site\", \"size\", \"size\", \"size\", \"slot\", \"slow\", \"small\", \"small\", \"small\", \"social\", \"solid\", \"son\", \"son\", \"son\", \"sound\", \"sound\", \"sound\", \"space\", \"speed\", \"squad\", \"star\", \"star\", \"starter\", \"step\", \"stop\", \"storage\", \"storage\", \"store\", \"store\", \"strong\", \"sturdy\", \"super\", \"sure\", \"sure\", \"surf\", \"surfing\", \"system\", \"system\", \"tab\", \"table\", \"tablet\", \"tablet\", \"tablet\", \"tablet\", \"take\", \"take\", \"take\", \"tech\", \"teenager\", \"thank\", \"thing\", \"thing\", \"thing\", \"thing\", \"thing\", \"throw\", \"time\", \"time\", \"time\", \"time\", \"time\", \"time\", \"toddler\", \"ton\", \"tool\", \"totally\", \"touch\", \"touch\", \"tough\", \"transfer\", \"travel\", \"travel\", \"trip\", \"try\", \"tv\", \"type\", \"unlimited\", \"update\", \"upgrade\", \"use\", \"use\", \"use\", \"use\", \"use\", \"use\", \"use\", \"user\", \"value\", \"value\", \"variety\", \"ve\", \"ve\", \"ve\", \"ve\", \"ve\", \"ve\", \"version\", \"version\", \"version\", \"video\", \"video\", \"vs\", \"want\", \"want\", \"want\", \"want\", \"want\", \"want\", \"want\", \"want\", \"warranty\", \"watch\", \"way\", \"way\", \"way\", \"way\", \"wear\", \"web\", \"week\", \"weight\", \"well\", \"well\", \"well\", \"wife\", \"wife\", \"wifi\", \"wifi\", \"will\", \"work\", \"work\", \"work\", \"work\", \"work\", \"work\", \"work\", \"worry\", \"worth\", \"worth\", \"worth\", \"wrong\", \"xmas\", \"year\", \"young\", \"youtube\", \"youtube\", \"yr\"]}, \"R\": 30, \"lambda.step\": 0.01, \"plot.opts\": {\"xlab\": \"PC1\", \"ylab\": \"PC2\"}, \"topic.order\": [9, 7, 1, 2, 4, 5, 3, 10, 6, 8]};\n",
              "\n",
              "function LDAvis_load_lib(url, callback){\n",
              "  var s = document.createElement('script');\n",
              "  s.src = url;\n",
              "  s.async = true;\n",
              "  s.onreadystatechange = s.onload = callback;\n",
              "  s.onerror = function(){console.warn(\"failed to load library \" + url);};\n",
              "  document.getElementsByTagName(\"head\")[0].appendChild(s);\n",
              "}\n",
              "\n",
              "if(typeof(LDAvis) !== \"undefined\"){\n",
              "   // already loaded: just create the visualization\n",
              "   !function(LDAvis){\n",
              "       new LDAvis(\"#\" + \"ldavis_el76651361781410808008444218515\", ldavis_el76651361781410808008444218515_data);\n",
              "   }(LDAvis);\n",
              "}else if(typeof define === \"function\" && define.amd){\n",
              "   // require.js is available: use it to load d3/LDAvis\n",
              "   require.config({paths: {d3: \"https://d3js.org/d3.v5\"}});\n",
              "   require([\"d3\"], function(d3){\n",
              "      window.d3 = d3;\n",
              "      LDAvis_load_lib(\"https://cdn.jsdelivr.net/gh/bmabey/pyLDAvis@3.4.0/pyLDAvis/js/ldavis.v3.0.0.js\", function(){\n",
              "        new LDAvis(\"#\" + \"ldavis_el76651361781410808008444218515\", ldavis_el76651361781410808008444218515_data);\n",
              "      });\n",
              "    });\n",
              "}else{\n",
              "    // require.js not available: dynamically load d3 & LDAvis\n",
              "    LDAvis_load_lib(\"https://d3js.org/d3.v5.js\", function(){\n",
              "         LDAvis_load_lib(\"https://cdn.jsdelivr.net/gh/bmabey/pyLDAvis@3.4.0/pyLDAvis/js/ldavis.v3.0.0.js\", function(){\n",
              "                 new LDAvis(\"#\" + \"ldavis_el76651361781410808008444218515\", ldavis_el76651361781410808008444218515_data);\n",
              "            })\n",
              "         });\n",
              "}\n",
              "</script>"
            ]
          },
          "metadata": {},
          "execution_count": 38
        }
      ]
    },
    {
      "cell_type": "markdown",
      "metadata": {
        "id": "9gie-6YrzGeB"
      },
      "source": [
        "## Create a Topic id/name dictionary\n",
        "\n",
        "When populating your topic id/name dictionary, use the index ordering as shown in the viz tool.\n",
        "\n",
        "We'll use a function to map the the viz tool index ordering with the train LDA model ordering."
      ]
    },
    {
      "cell_type": "code",
      "metadata": {
        "deletable": false,
        "nbgrader": {
          "cell_type": "code",
          "checksum": "fc10e9728e5dcf06baf0800c3cdb88ce",
          "grade": false,
          "grade_id": "cell-4905c0c1050f0d03",
          "locked": false,
          "schema_version": 3,
          "solution": true,
          "task": false
        },
        "id": "88vMiVwQzGeC"
      },
      "source": [
        "# create a dictionary\n",
        "# keys - use topic ids from pyLDAvis visualization\n",
        "# values - topic names that you create\n",
        "# save dictionary to `vis_topic_name_dict`\n",
        "\n",
        "# THE HUMAN TOUCH BY ASSIGNING TOPIC NAMES TO TOPIC INDICES\n",
        "vis_topic_name_dict = {1: 'Kindle Fire',\n",
        "                       2: 'Tablet',\n",
        "                       3: 'Troubleshoot',\n",
        "                       4: 'Warranty',\n",
        "                       5: 'For Entertainment',\n",
        "                       6: 'For Travel',\n",
        "                       7: 'As a Gift',\n",
        "                       8: 'Portability',\n",
        "                       9: 'For Learning',\n",
        "                       10: 'Sentiments'}\n",
        "# YOUR CODE HERE\n"
      ],
      "execution_count": 39,
      "outputs": []
    },
    {
      "cell_type": "markdown",
      "source": [
        "The topic index and names have been for the pyLDAvis tool. But now we need to transfer all our info onto the gensim LDA model. We need a dictionary to map the indices from pyLDAvis to indices on gensim LDA."
      ],
      "metadata": {
        "id": "TR4f3QdD3Cdi"
      }
    },
    {
      "cell_type": "markdown",
      "source": [
        "### Re-assign index to gensim LDA"
      ],
      "metadata": {
        "id": "3HiVDnQH3Yd7"
      }
    },
    {
      "cell_type": "code",
      "metadata": {
        "id": "iWLsK27ZzGeC"
      },
      "source": [
        "def get_topic_id_lookup_dict(vis, vis_topic_name_dict):\n",
        "    \"\"\"\n",
        "    Both the starting index and the ordering of topic IDs bewteen the trained LDA model\n",
        "    and the viz tool are different. So we need to create a look up dictionary that maps\n",
        "    the correct association between topic IDs from both sources.\n",
        "    \"\"\"\n",
        "    # value is order of topic IDs accoridng to pyLDAvis tool\n",
        "    # key is order of topic IDs according to gensim LDA model\n",
        "    model_vis_tool_topic_id_lookup = vis.topic_coordinates.topics.to_dict()\n",
        "\n",
        "    # Invert dictionary so that:\n",
        "    # key is order of topic IDs accoridng to pyLDAvis tool\n",
        "    # value is order of topic IDs according to gensim LDA model\n",
        "    topic_id_lookup =  {v:k for k, v in model_vis_tool_topic_id_lookup.items()}\n",
        "\n",
        "    return {v:vis_topic_name_dict[k]  for k, v in topic_id_lookup.items()}"
      ],
      "execution_count": 40,
      "outputs": []
    },
    {
      "cell_type": "code",
      "source": [
        "vis.topic_coordinates"
      ],
      "metadata": {
        "colab": {
          "base_uri": "https://localhost:8080/",
          "height": 394
        },
        "id": "KsxJzAbH1q15",
        "outputId": "2cfb8df5-ac50-4ae4-cb3f-7ddd6ea27502"
      },
      "execution_count": 44,
      "outputs": [
        {
          "output_type": "execute_result",
          "data": {
            "text/plain": [
              "              x         y  topics  cluster       Freq\n",
              "topic                                                \n",
              "8     -0.086305 -0.125699       1        1  15.726462\n",
              "6     -0.141806 -0.066841       2        1  15.535075\n",
              "0     -0.004459  0.050550       3        1  13.676065\n",
              "1     -0.177312  0.192764       4        1  12.826268\n",
              "3     -0.179313 -0.026422       5        1  11.668080\n",
              "4      0.047735 -0.257383       6        1   7.915045\n",
              "2     -0.132244  0.138004       7        1   7.914751\n",
              "9      0.162854 -0.153077       8        1   6.603518\n",
              "5      0.249026  0.012008       9        1   6.001211\n",
              "7      0.261824  0.236096      10        1   2.133525"
            ],
            "text/html": [
              "\n",
              "  <div id=\"df-e204f09b-224a-4258-ac18-366f38c1e488\" class=\"colab-df-container\">\n",
              "    <div>\n",
              "<style scoped>\n",
              "    .dataframe tbody tr th:only-of-type {\n",
              "        vertical-align: middle;\n",
              "    }\n",
              "\n",
              "    .dataframe tbody tr th {\n",
              "        vertical-align: top;\n",
              "    }\n",
              "\n",
              "    .dataframe thead th {\n",
              "        text-align: right;\n",
              "    }\n",
              "</style>\n",
              "<table border=\"1\" class=\"dataframe\">\n",
              "  <thead>\n",
              "    <tr style=\"text-align: right;\">\n",
              "      <th></th>\n",
              "      <th>x</th>\n",
              "      <th>y</th>\n",
              "      <th>topics</th>\n",
              "      <th>cluster</th>\n",
              "      <th>Freq</th>\n",
              "    </tr>\n",
              "    <tr>\n",
              "      <th>topic</th>\n",
              "      <th></th>\n",
              "      <th></th>\n",
              "      <th></th>\n",
              "      <th></th>\n",
              "      <th></th>\n",
              "    </tr>\n",
              "  </thead>\n",
              "  <tbody>\n",
              "    <tr>\n",
              "      <th>8</th>\n",
              "      <td>-0.086305</td>\n",
              "      <td>-0.125699</td>\n",
              "      <td>1</td>\n",
              "      <td>1</td>\n",
              "      <td>15.726462</td>\n",
              "    </tr>\n",
              "    <tr>\n",
              "      <th>6</th>\n",
              "      <td>-0.141806</td>\n",
              "      <td>-0.066841</td>\n",
              "      <td>2</td>\n",
              "      <td>1</td>\n",
              "      <td>15.535075</td>\n",
              "    </tr>\n",
              "    <tr>\n",
              "      <th>0</th>\n",
              "      <td>-0.004459</td>\n",
              "      <td>0.050550</td>\n",
              "      <td>3</td>\n",
              "      <td>1</td>\n",
              "      <td>13.676065</td>\n",
              "    </tr>\n",
              "    <tr>\n",
              "      <th>1</th>\n",
              "      <td>-0.177312</td>\n",
              "      <td>0.192764</td>\n",
              "      <td>4</td>\n",
              "      <td>1</td>\n",
              "      <td>12.826268</td>\n",
              "    </tr>\n",
              "    <tr>\n",
              "      <th>3</th>\n",
              "      <td>-0.179313</td>\n",
              "      <td>-0.026422</td>\n",
              "      <td>5</td>\n",
              "      <td>1</td>\n",
              "      <td>11.668080</td>\n",
              "    </tr>\n",
              "    <tr>\n",
              "      <th>4</th>\n",
              "      <td>0.047735</td>\n",
              "      <td>-0.257383</td>\n",
              "      <td>6</td>\n",
              "      <td>1</td>\n",
              "      <td>7.915045</td>\n",
              "    </tr>\n",
              "    <tr>\n",
              "      <th>2</th>\n",
              "      <td>-0.132244</td>\n",
              "      <td>0.138004</td>\n",
              "      <td>7</td>\n",
              "      <td>1</td>\n",
              "      <td>7.914751</td>\n",
              "    </tr>\n",
              "    <tr>\n",
              "      <th>9</th>\n",
              "      <td>0.162854</td>\n",
              "      <td>-0.153077</td>\n",
              "      <td>8</td>\n",
              "      <td>1</td>\n",
              "      <td>6.603518</td>\n",
              "    </tr>\n",
              "    <tr>\n",
              "      <th>5</th>\n",
              "      <td>0.249026</td>\n",
              "      <td>0.012008</td>\n",
              "      <td>9</td>\n",
              "      <td>1</td>\n",
              "      <td>6.001211</td>\n",
              "    </tr>\n",
              "    <tr>\n",
              "      <th>7</th>\n",
              "      <td>0.261824</td>\n",
              "      <td>0.236096</td>\n",
              "      <td>10</td>\n",
              "      <td>1</td>\n",
              "      <td>2.133525</td>\n",
              "    </tr>\n",
              "  </tbody>\n",
              "</table>\n",
              "</div>\n",
              "    <div class=\"colab-df-buttons\">\n",
              "\n",
              "  <div class=\"colab-df-container\">\n",
              "    <button class=\"colab-df-convert\" onclick=\"convertToInteractive('df-e204f09b-224a-4258-ac18-366f38c1e488')\"\n",
              "            title=\"Convert this dataframe to an interactive table.\"\n",
              "            style=\"display:none;\">\n",
              "\n",
              "  <svg xmlns=\"http://www.w3.org/2000/svg\" height=\"24px\" viewBox=\"0 -960 960 960\">\n",
              "    <path d=\"M120-120v-720h720v720H120Zm60-500h600v-160H180v160Zm220 220h160v-160H400v160Zm0 220h160v-160H400v160ZM180-400h160v-160H180v160Zm440 0h160v-160H620v160ZM180-180h160v-160H180v160Zm440 0h160v-160H620v160Z\"/>\n",
              "  </svg>\n",
              "    </button>\n",
              "\n",
              "  <style>\n",
              "    .colab-df-container {\n",
              "      display:flex;\n",
              "      gap: 12px;\n",
              "    }\n",
              "\n",
              "    .colab-df-convert {\n",
              "      background-color: #E8F0FE;\n",
              "      border: none;\n",
              "      border-radius: 50%;\n",
              "      cursor: pointer;\n",
              "      display: none;\n",
              "      fill: #1967D2;\n",
              "      height: 32px;\n",
              "      padding: 0 0 0 0;\n",
              "      width: 32px;\n",
              "    }\n",
              "\n",
              "    .colab-df-convert:hover {\n",
              "      background-color: #E2EBFA;\n",
              "      box-shadow: 0px 1px 2px rgba(60, 64, 67, 0.3), 0px 1px 3px 1px rgba(60, 64, 67, 0.15);\n",
              "      fill: #174EA6;\n",
              "    }\n",
              "\n",
              "    .colab-df-buttons div {\n",
              "      margin-bottom: 4px;\n",
              "    }\n",
              "\n",
              "    [theme=dark] .colab-df-convert {\n",
              "      background-color: #3B4455;\n",
              "      fill: #D2E3FC;\n",
              "    }\n",
              "\n",
              "    [theme=dark] .colab-df-convert:hover {\n",
              "      background-color: #434B5C;\n",
              "      box-shadow: 0px 1px 3px 1px rgba(0, 0, 0, 0.15);\n",
              "      filter: drop-shadow(0px 1px 2px rgba(0, 0, 0, 0.3));\n",
              "      fill: #FFFFFF;\n",
              "    }\n",
              "  </style>\n",
              "\n",
              "    <script>\n",
              "      const buttonEl =\n",
              "        document.querySelector('#df-e204f09b-224a-4258-ac18-366f38c1e488 button.colab-df-convert');\n",
              "      buttonEl.style.display =\n",
              "        google.colab.kernel.accessAllowed ? 'block' : 'none';\n",
              "\n",
              "      async function convertToInteractive(key) {\n",
              "        const element = document.querySelector('#df-e204f09b-224a-4258-ac18-366f38c1e488');\n",
              "        const dataTable =\n",
              "          await google.colab.kernel.invokeFunction('convertToInteractive',\n",
              "                                                    [key], {});\n",
              "        if (!dataTable) return;\n",
              "\n",
              "        const docLinkHtml = 'Like what you see? Visit the ' +\n",
              "          '<a target=\"_blank\" href=https://colab.research.google.com/notebooks/data_table.ipynb>data table notebook</a>'\n",
              "          + ' to learn more about interactive tables.';\n",
              "        element.innerHTML = '';\n",
              "        dataTable['output_type'] = 'display_data';\n",
              "        await google.colab.output.renderOutput(dataTable, element);\n",
              "        const docLink = document.createElement('div');\n",
              "        docLink.innerHTML = docLinkHtml;\n",
              "        element.appendChild(docLink);\n",
              "      }\n",
              "    </script>\n",
              "  </div>\n",
              "\n",
              "\n",
              "<div id=\"df-3b250e73-f16c-44ae-91e7-8036c6f2e065\">\n",
              "  <button class=\"colab-df-quickchart\" onclick=\"quickchart('df-3b250e73-f16c-44ae-91e7-8036c6f2e065')\"\n",
              "            title=\"Suggest charts\"\n",
              "            style=\"display:none;\">\n",
              "\n",
              "<svg xmlns=\"http://www.w3.org/2000/svg\" height=\"24px\"viewBox=\"0 0 24 24\"\n",
              "     width=\"24px\">\n",
              "    <g>\n",
              "        <path d=\"M19 3H5c-1.1 0-2 .9-2 2v14c0 1.1.9 2 2 2h14c1.1 0 2-.9 2-2V5c0-1.1-.9-2-2-2zM9 17H7v-7h2v7zm4 0h-2V7h2v10zm4 0h-2v-4h2v4z\"/>\n",
              "    </g>\n",
              "</svg>\n",
              "  </button>\n",
              "\n",
              "<style>\n",
              "  .colab-df-quickchart {\n",
              "      --bg-color: #E8F0FE;\n",
              "      --fill-color: #1967D2;\n",
              "      --hover-bg-color: #E2EBFA;\n",
              "      --hover-fill-color: #174EA6;\n",
              "      --disabled-fill-color: #AAA;\n",
              "      --disabled-bg-color: #DDD;\n",
              "  }\n",
              "\n",
              "  [theme=dark] .colab-df-quickchart {\n",
              "      --bg-color: #3B4455;\n",
              "      --fill-color: #D2E3FC;\n",
              "      --hover-bg-color: #434B5C;\n",
              "      --hover-fill-color: #FFFFFF;\n",
              "      --disabled-bg-color: #3B4455;\n",
              "      --disabled-fill-color: #666;\n",
              "  }\n",
              "\n",
              "  .colab-df-quickchart {\n",
              "    background-color: var(--bg-color);\n",
              "    border: none;\n",
              "    border-radius: 50%;\n",
              "    cursor: pointer;\n",
              "    display: none;\n",
              "    fill: var(--fill-color);\n",
              "    height: 32px;\n",
              "    padding: 0;\n",
              "    width: 32px;\n",
              "  }\n",
              "\n",
              "  .colab-df-quickchart:hover {\n",
              "    background-color: var(--hover-bg-color);\n",
              "    box-shadow: 0 1px 2px rgba(60, 64, 67, 0.3), 0 1px 3px 1px rgba(60, 64, 67, 0.15);\n",
              "    fill: var(--button-hover-fill-color);\n",
              "  }\n",
              "\n",
              "  .colab-df-quickchart-complete:disabled,\n",
              "  .colab-df-quickchart-complete:disabled:hover {\n",
              "    background-color: var(--disabled-bg-color);\n",
              "    fill: var(--disabled-fill-color);\n",
              "    box-shadow: none;\n",
              "  }\n",
              "\n",
              "  .colab-df-spinner {\n",
              "    border: 2px solid var(--fill-color);\n",
              "    border-color: transparent;\n",
              "    border-bottom-color: var(--fill-color);\n",
              "    animation:\n",
              "      spin 1s steps(1) infinite;\n",
              "  }\n",
              "\n",
              "  @keyframes spin {\n",
              "    0% {\n",
              "      border-color: transparent;\n",
              "      border-bottom-color: var(--fill-color);\n",
              "      border-left-color: var(--fill-color);\n",
              "    }\n",
              "    20% {\n",
              "      border-color: transparent;\n",
              "      border-left-color: var(--fill-color);\n",
              "      border-top-color: var(--fill-color);\n",
              "    }\n",
              "    30% {\n",
              "      border-color: transparent;\n",
              "      border-left-color: var(--fill-color);\n",
              "      border-top-color: var(--fill-color);\n",
              "      border-right-color: var(--fill-color);\n",
              "    }\n",
              "    40% {\n",
              "      border-color: transparent;\n",
              "      border-right-color: var(--fill-color);\n",
              "      border-top-color: var(--fill-color);\n",
              "    }\n",
              "    60% {\n",
              "      border-color: transparent;\n",
              "      border-right-color: var(--fill-color);\n",
              "    }\n",
              "    80% {\n",
              "      border-color: transparent;\n",
              "      border-right-color: var(--fill-color);\n",
              "      border-bottom-color: var(--fill-color);\n",
              "    }\n",
              "    90% {\n",
              "      border-color: transparent;\n",
              "      border-bottom-color: var(--fill-color);\n",
              "    }\n",
              "  }\n",
              "</style>\n",
              "\n",
              "  <script>\n",
              "    async function quickchart(key) {\n",
              "      const quickchartButtonEl =\n",
              "        document.querySelector('#' + key + ' button');\n",
              "      quickchartButtonEl.disabled = true;  // To prevent multiple clicks.\n",
              "      quickchartButtonEl.classList.add('colab-df-spinner');\n",
              "      try {\n",
              "        const charts = await google.colab.kernel.invokeFunction(\n",
              "            'suggestCharts', [key], {});\n",
              "      } catch (error) {\n",
              "        console.error('Error during call to suggestCharts:', error);\n",
              "      }\n",
              "      quickchartButtonEl.classList.remove('colab-df-spinner');\n",
              "      quickchartButtonEl.classList.add('colab-df-quickchart-complete');\n",
              "    }\n",
              "    (() => {\n",
              "      let quickchartButtonEl =\n",
              "        document.querySelector('#df-3b250e73-f16c-44ae-91e7-8036c6f2e065 button');\n",
              "      quickchartButtonEl.style.display =\n",
              "        google.colab.kernel.accessAllowed ? 'block' : 'none';\n",
              "    })();\n",
              "  </script>\n",
              "</div>\n",
              "\n",
              "    </div>\n",
              "  </div>\n"
            ],
            "application/vnd.google.colaboratory.intrinsic+json": {
              "type": "dataframe",
              "summary": "{\n  \"name\": \"vis\",\n  \"rows\": 10,\n  \"fields\": [\n    {\n      \"column\": \"topic\",\n      \"properties\": {\n        \"dtype\": \"number\",\n        \"std\": 3,\n        \"min\": 0,\n        \"max\": 9,\n        \"num_unique_values\": 10,\n        \"samples\": [\n          5,\n          6,\n          4\n        ],\n        \"semantic_type\": \"\",\n        \"description\": \"\"\n      }\n    },\n    {\n      \"column\": \"x\",\n      \"properties\": {\n        \"dtype\": \"number\",\n        \"std\": 0.17257022307746556,\n        \"min\": -0.17931315613502383,\n        \"max\": 0.2618236065808531,\n        \"num_unique_values\": 10,\n        \"samples\": [\n          0.24902634258543363,\n          -0.1418062311556724,\n          0.04773509565590021\n        ],\n        \"semantic_type\": \"\",\n        \"description\": \"\"\n      }\n    },\n    {\n      \"column\": \"y\",\n      \"properties\": {\n        \"dtype\": \"number\",\n        \"std\": 0.1582152373151656,\n        \"min\": -0.2573828051582963,\n        \"max\": 0.23609559127704122,\n        \"num_unique_values\": 10,\n        \"samples\": [\n          0.012007834006123373,\n          -0.06684118296242561,\n          -0.2573828051582963\n        ],\n        \"semantic_type\": \"\",\n        \"description\": \"\"\n      }\n    },\n    {\n      \"column\": \"topics\",\n      \"properties\": {\n        \"dtype\": \"number\",\n        \"std\": 3,\n        \"min\": 1,\n        \"max\": 10,\n        \"num_unique_values\": 10,\n        \"samples\": [\n          9,\n          2,\n          6\n        ],\n        \"semantic_type\": \"\",\n        \"description\": \"\"\n      }\n    },\n    {\n      \"column\": \"cluster\",\n      \"properties\": {\n        \"dtype\": \"number\",\n        \"std\": 0,\n        \"min\": 1,\n        \"max\": 1,\n        \"num_unique_values\": 1,\n        \"samples\": [\n          1\n        ],\n        \"semantic_type\": \"\",\n        \"description\": \"\"\n      }\n    },\n    {\n      \"column\": \"Freq\",\n      \"properties\": {\n        \"dtype\": \"number\",\n        \"std\": 4.543815251711782,\n        \"min\": 2.1335245111624666,\n        \"max\": 15.726462484405882,\n        \"num_unique_values\": 10,\n        \"samples\": [\n          6.0012106479677225\n        ],\n        \"semantic_type\": \"\",\n        \"description\": \"\"\n      }\n    }\n  ]\n}"
            }
          },
          "metadata": {},
          "execution_count": 44
        }
      ]
    },
    {
      "cell_type": "markdown",
      "metadata": {
        "id": "tR8xm8IG4M0M"
      },
      "source": [
        "Create a topic id/name look up dict\n",
        "that is aligned with the index ordering of the trained gensim LDA model"
      ]
    },
    {
      "cell_type": "code",
      "metadata": {
        "deletable": false,
        "nbgrader": {
          "cell_type": "code",
          "checksum": "55f23aa9324a225091037f0c5daf2192",
          "grade": false,
          "grade_id": "cell-d38acb7b250b4079",
          "locked": false,
          "schema_version": 3,
          "solution": true,
          "task": false
        },
        "id": "dcsa0f_tzGeC"
      },
      "source": [
        "topic_name_dict = get_topic_id_lookup_dict(vis, vis_topic_name_dict)"
      ],
      "execution_count": 41,
      "outputs": []
    },
    {
      "cell_type": "code",
      "metadata": {
        "id": "tbeEkAlC4WNi",
        "colab": {
          "base_uri": "https://localhost:8080/"
        },
        "outputId": "32f88bb8-5ad1-431f-f7bc-e6bc166fe8a3"
      },
      "source": [
        "topic_name_dict"
      ],
      "execution_count": 42,
      "outputs": [
        {
          "output_type": "execute_result",
          "data": {
            "text/plain": [
              "{8: 'Kindle Fire',\n",
              " 6: 'Tablet',\n",
              " 0: 'Troubleshoot',\n",
              " 1: 'Warranty',\n",
              " 3: 'For Entertainment',\n",
              " 4: 'For Travel',\n",
              " 2: 'As a Gift',\n",
              " 9: 'Portability',\n",
              " 5: 'For Learning',\n",
              " 7: 'Sentiments'}"
            ]
          },
          "metadata": {},
          "execution_count": 42
        }
      ]
    },
    {
      "cell_type": "markdown",
      "metadata": {
        "id": "t4NLAlB9zGeC"
      },
      "source": [
        "## Use the LDA Model to Assign Each Document a Topic Name\n",
        "\n",
        "Now that we have a topic id/name look up dict that is aligned with the index ordering of the trained LDA model, we can move forward to giving each topic a topic name.\n",
        "\n",
        "The function below has been given to you. However, you highly encouraged to read through it and make sure that you understand what it is doing each step of the way. In fact, a good way to do this is to copy and paste the code inside of the function into a new cell, comment out all the lines of code and line by line, uncomment the code and see the output."
      ]
    },
    {
      "cell_type": "code",
      "metadata": {
        "id": "23No1SMKzGeC"
      },
      "source": [
        "def get_topic_ids_for_docs(lda_model, corpus):\n",
        "\n",
        "    \"\"\"\n",
        "    Passes a Bag-of-Words vector into a trained LDA model in order to get the topic id of that document.\n",
        "\n",
        "    Parameters\n",
        "    ----------\n",
        "    lda_model: Gensim object\n",
        "        Must be a trained model\n",
        "\n",
        "    corpus: nested lists of tuples,\n",
        "        i.e. [[(),(), ..., ()], [(),(), ..., ()], ..., [(),(), ..., ()]]\n",
        "\n",
        "    Returns\n",
        "    -------\n",
        "    topic_id_list: list\n",
        "        Contains topic ids for all document vectors in corpus\n",
        "    \"\"\"\n",
        "\n",
        "    # store topic ids for each document\n",
        "    doc_topic_ids = []\n",
        "\n",
        "    # iterature through the bow vectors for each doc\n",
        "    for doc_bow in corpus: # the bag of words vectors for each review\n",
        "\n",
        "        # store the topic ids for the doc\n",
        "        topic_ids = []\n",
        "        # store the topic probabilities for the doc\n",
        "        topic_probs = []\n",
        "\n",
        "        # list of tuples\n",
        "        # each tuple has a topic id and the prob that the doc belongs to that topic\n",
        "        topic_id_prob_tuples = lda_trained_model.get_document_topics(doc_bow)\n",
        "\n",
        "        # iterate through the topic id/prob pairs\n",
        "        for topic_id_prob in topic_id_prob_tuples:\n",
        "\n",
        "            # index for topic id\n",
        "            topic_id = topic_id_prob[0]\n",
        "            # index for prob that doc belongs that the corresponding topic\n",
        "            topic_prob = topic_id_prob[1]\n",
        "\n",
        "            # store all topic ids for doc\n",
        "            topic_ids.append(topic_id)\n",
        "            # store all topic probs for doc\n",
        "            topic_probs.append(topic_prob)\n",
        "\n",
        "        # get the index for the topic that had the highest probability, for the current document\n",
        "        max_topic_prob_ind = np.argmax(topic_probs)\n",
        "        # get the corresponding topic id\n",
        "        max_prob_topic_id = topic_ids[max_topic_prob_ind]\n",
        "        # store the most probable topic id for the current document\n",
        "        doc_topic_ids.append(max_prob_topic_id)\n",
        "\n",
        "    return doc_topic_ids"
      ],
      "execution_count": 43,
      "outputs": []
    },
    {
      "cell_type": "code",
      "metadata": {
        "deletable": false,
        "nbgrader": {
          "cell_type": "code",
          "checksum": "09f2b8ebaf696dc05187cecce8c9e251",
          "grade": false,
          "grade_id": "cell-e28e8774a79ac647",
          "locked": false,
          "schema_version": 3,
          "solution": true,
          "task": false
        },
        "id": "gI94W2MvzGeD"
      },
      "source": [
        "# use get_topic_ids_for_docs to get the topic id for each doc in the corpus - save result to `doc_topic_ids`\n",
        "doc_topic_ids = get_topic_ids_for_docs(lda_model=lda_trained_model, corpus=corpus)\n",
        "\n",
        "# create a new feature in df_electronics called topic_id using `doc_topic_ids`\n",
        "df_electronics['topic_id'] = doc_topic_ids\n",
        "\n",
        "# iterate through topic_id and use the lookup dict `topic_name_dict` to assign each document a topic name\n",
        "# save results to a new feature in df_electronics called `new_topic_name`\n",
        "# topic_name_dict[topic_id] is the human-generated names, so we apply the map to the topic_id column to get the names\n",
        "df_electronics['new_topic_name'] = df_electronics['topic_id'].apply(lambda topic_id: topic_name_dict[topic_id])\n",
        "\n",
        "# YOUR CODE HERE"
      ],
      "execution_count": 45,
      "outputs": []
    },
    {
      "cell_type": "markdown",
      "metadata": {
        "id": "NZa4oKuIzGeD"
      },
      "source": [
        "## Congratulations! You have created new topic names for your documents."
      ]
    },
    {
      "cell_type": "code",
      "metadata": {
        "id": "kDVAZTa23xkF",
        "colab": {
          "base_uri": "https://localhost:8080/",
          "height": 519
        },
        "outputId": "0702ef32-08e5-4094-f4a8-5206559d57bc"
      },
      "source": [
        "cols = [\"reviews.text\", \"new_topic_name\", \"topic_id\"]\n",
        "df_electronics[cols].head(15)"
      ],
      "execution_count": 46,
      "outputs": [
        {
          "output_type": "execute_result",
          "data": {
            "text/plain": [
              "                                           reviews.text     new_topic_name  \\\n",
              "8343  Great case to keep everything in its place! My...          As a Gift   \n",
              "8344  After discarding and getting rid of broken cd ...       Troubleshoot   \n",
              "8345     A few dollars more, but I am boycotting amazon       Troubleshoot   \n",
              "8346  My initial impression of this was very good. T...        Portability   \n",
              "8347  Pros: Standard Echo. Cons: Older generation Ec...        Kindle Fire   \n",
              "8348  Pros: Got it for under 50, much impressive sou...        Kindle Fire   \n",
              "8349  Pros: I love the Alexa series so when this one...             Tablet   \n",
              "8350  ASIDE FROM THE FACT THAT THE SCREEN IS SMALL, ...             Tablet   \n",
              "8351  I wasn't sure I even wanted this item, but cau...       Troubleshoot   \n",
              "8352  Pros: Works good like Alexia Cons: setting it ...             Tablet   \n",
              "8353  Pros: Relatively easy to setup and works quite...         For Travel   \n",
              "8354  Pros: I WOULD recommend anyone who was going t...             Tablet   \n",
              "8355  Pros: Allows you to cut your cable. With many ...  For Entertainment   \n",
              "8356  Pros: I'm a subscriber to DirectTV Now! So i p...       Troubleshoot   \n",
              "8357  Pros: Very satisfied I am about buy online thi...           Warranty   \n",
              "\n",
              "      topic_id  \n",
              "8343         2  \n",
              "8344         0  \n",
              "8345         0  \n",
              "8346         9  \n",
              "8347         8  \n",
              "8348         8  \n",
              "8349         6  \n",
              "8350         6  \n",
              "8351         0  \n",
              "8352         6  \n",
              "8353         4  \n",
              "8354         6  \n",
              "8355         3  \n",
              "8356         0  \n",
              "8357         1  "
            ],
            "text/html": [
              "\n",
              "  <div id=\"df-0c73254d-d835-487d-b005-6b950efa2416\" class=\"colab-df-container\">\n",
              "    <div>\n",
              "<style scoped>\n",
              "    .dataframe tbody tr th:only-of-type {\n",
              "        vertical-align: middle;\n",
              "    }\n",
              "\n",
              "    .dataframe tbody tr th {\n",
              "        vertical-align: top;\n",
              "    }\n",
              "\n",
              "    .dataframe thead th {\n",
              "        text-align: right;\n",
              "    }\n",
              "</style>\n",
              "<table border=\"1\" class=\"dataframe\">\n",
              "  <thead>\n",
              "    <tr style=\"text-align: right;\">\n",
              "      <th></th>\n",
              "      <th>reviews.text</th>\n",
              "      <th>new_topic_name</th>\n",
              "      <th>topic_id</th>\n",
              "    </tr>\n",
              "  </thead>\n",
              "  <tbody>\n",
              "    <tr>\n",
              "      <th>8343</th>\n",
              "      <td>Great case to keep everything in its place! My...</td>\n",
              "      <td>As a Gift</td>\n",
              "      <td>2</td>\n",
              "    </tr>\n",
              "    <tr>\n",
              "      <th>8344</th>\n",
              "      <td>After discarding and getting rid of broken cd ...</td>\n",
              "      <td>Troubleshoot</td>\n",
              "      <td>0</td>\n",
              "    </tr>\n",
              "    <tr>\n",
              "      <th>8345</th>\n",
              "      <td>A few dollars more, but I am boycotting amazon</td>\n",
              "      <td>Troubleshoot</td>\n",
              "      <td>0</td>\n",
              "    </tr>\n",
              "    <tr>\n",
              "      <th>8346</th>\n",
              "      <td>My initial impression of this was very good. T...</td>\n",
              "      <td>Portability</td>\n",
              "      <td>9</td>\n",
              "    </tr>\n",
              "    <tr>\n",
              "      <th>8347</th>\n",
              "      <td>Pros: Standard Echo. Cons: Older generation Ec...</td>\n",
              "      <td>Kindle Fire</td>\n",
              "      <td>8</td>\n",
              "    </tr>\n",
              "    <tr>\n",
              "      <th>8348</th>\n",
              "      <td>Pros: Got it for under 50, much impressive sou...</td>\n",
              "      <td>Kindle Fire</td>\n",
              "      <td>8</td>\n",
              "    </tr>\n",
              "    <tr>\n",
              "      <th>8349</th>\n",
              "      <td>Pros: I love the Alexa series so when this one...</td>\n",
              "      <td>Tablet</td>\n",
              "      <td>6</td>\n",
              "    </tr>\n",
              "    <tr>\n",
              "      <th>8350</th>\n",
              "      <td>ASIDE FROM THE FACT THAT THE SCREEN IS SMALL, ...</td>\n",
              "      <td>Tablet</td>\n",
              "      <td>6</td>\n",
              "    </tr>\n",
              "    <tr>\n",
              "      <th>8351</th>\n",
              "      <td>I wasn't sure I even wanted this item, but cau...</td>\n",
              "      <td>Troubleshoot</td>\n",
              "      <td>0</td>\n",
              "    </tr>\n",
              "    <tr>\n",
              "      <th>8352</th>\n",
              "      <td>Pros: Works good like Alexia Cons: setting it ...</td>\n",
              "      <td>Tablet</td>\n",
              "      <td>6</td>\n",
              "    </tr>\n",
              "    <tr>\n",
              "      <th>8353</th>\n",
              "      <td>Pros: Relatively easy to setup and works quite...</td>\n",
              "      <td>For Travel</td>\n",
              "      <td>4</td>\n",
              "    </tr>\n",
              "    <tr>\n",
              "      <th>8354</th>\n",
              "      <td>Pros: I WOULD recommend anyone who was going t...</td>\n",
              "      <td>Tablet</td>\n",
              "      <td>6</td>\n",
              "    </tr>\n",
              "    <tr>\n",
              "      <th>8355</th>\n",
              "      <td>Pros: Allows you to cut your cable. With many ...</td>\n",
              "      <td>For Entertainment</td>\n",
              "      <td>3</td>\n",
              "    </tr>\n",
              "    <tr>\n",
              "      <th>8356</th>\n",
              "      <td>Pros: I'm a subscriber to DirectTV Now! So i p...</td>\n",
              "      <td>Troubleshoot</td>\n",
              "      <td>0</td>\n",
              "    </tr>\n",
              "    <tr>\n",
              "      <th>8357</th>\n",
              "      <td>Pros: Very satisfied I am about buy online thi...</td>\n",
              "      <td>Warranty</td>\n",
              "      <td>1</td>\n",
              "    </tr>\n",
              "  </tbody>\n",
              "</table>\n",
              "</div>\n",
              "    <div class=\"colab-df-buttons\">\n",
              "\n",
              "  <div class=\"colab-df-container\">\n",
              "    <button class=\"colab-df-convert\" onclick=\"convertToInteractive('df-0c73254d-d835-487d-b005-6b950efa2416')\"\n",
              "            title=\"Convert this dataframe to an interactive table.\"\n",
              "            style=\"display:none;\">\n",
              "\n",
              "  <svg xmlns=\"http://www.w3.org/2000/svg\" height=\"24px\" viewBox=\"0 -960 960 960\">\n",
              "    <path d=\"M120-120v-720h720v720H120Zm60-500h600v-160H180v160Zm220 220h160v-160H400v160Zm0 220h160v-160H400v160ZM180-400h160v-160H180v160Zm440 0h160v-160H620v160ZM180-180h160v-160H180v160Zm440 0h160v-160H620v160Z\"/>\n",
              "  </svg>\n",
              "    </button>\n",
              "\n",
              "  <style>\n",
              "    .colab-df-container {\n",
              "      display:flex;\n",
              "      gap: 12px;\n",
              "    }\n",
              "\n",
              "    .colab-df-convert {\n",
              "      background-color: #E8F0FE;\n",
              "      border: none;\n",
              "      border-radius: 50%;\n",
              "      cursor: pointer;\n",
              "      display: none;\n",
              "      fill: #1967D2;\n",
              "      height: 32px;\n",
              "      padding: 0 0 0 0;\n",
              "      width: 32px;\n",
              "    }\n",
              "\n",
              "    .colab-df-convert:hover {\n",
              "      background-color: #E2EBFA;\n",
              "      box-shadow: 0px 1px 2px rgba(60, 64, 67, 0.3), 0px 1px 3px 1px rgba(60, 64, 67, 0.15);\n",
              "      fill: #174EA6;\n",
              "    }\n",
              "\n",
              "    .colab-df-buttons div {\n",
              "      margin-bottom: 4px;\n",
              "    }\n",
              "\n",
              "    [theme=dark] .colab-df-convert {\n",
              "      background-color: #3B4455;\n",
              "      fill: #D2E3FC;\n",
              "    }\n",
              "\n",
              "    [theme=dark] .colab-df-convert:hover {\n",
              "      background-color: #434B5C;\n",
              "      box-shadow: 0px 1px 3px 1px rgba(0, 0, 0, 0.15);\n",
              "      filter: drop-shadow(0px 1px 2px rgba(0, 0, 0, 0.3));\n",
              "      fill: #FFFFFF;\n",
              "    }\n",
              "  </style>\n",
              "\n",
              "    <script>\n",
              "      const buttonEl =\n",
              "        document.querySelector('#df-0c73254d-d835-487d-b005-6b950efa2416 button.colab-df-convert');\n",
              "      buttonEl.style.display =\n",
              "        google.colab.kernel.accessAllowed ? 'block' : 'none';\n",
              "\n",
              "      async function convertToInteractive(key) {\n",
              "        const element = document.querySelector('#df-0c73254d-d835-487d-b005-6b950efa2416');\n",
              "        const dataTable =\n",
              "          await google.colab.kernel.invokeFunction('convertToInteractive',\n",
              "                                                    [key], {});\n",
              "        if (!dataTable) return;\n",
              "\n",
              "        const docLinkHtml = 'Like what you see? Visit the ' +\n",
              "          '<a target=\"_blank\" href=https://colab.research.google.com/notebooks/data_table.ipynb>data table notebook</a>'\n",
              "          + ' to learn more about interactive tables.';\n",
              "        element.innerHTML = '';\n",
              "        dataTable['output_type'] = 'display_data';\n",
              "        await google.colab.output.renderOutput(dataTable, element);\n",
              "        const docLink = document.createElement('div');\n",
              "        docLink.innerHTML = docLinkHtml;\n",
              "        element.appendChild(docLink);\n",
              "      }\n",
              "    </script>\n",
              "  </div>\n",
              "\n",
              "\n",
              "<div id=\"df-89af7ce4-c169-4428-a3fb-954be79c9edb\">\n",
              "  <button class=\"colab-df-quickchart\" onclick=\"quickchart('df-89af7ce4-c169-4428-a3fb-954be79c9edb')\"\n",
              "            title=\"Suggest charts\"\n",
              "            style=\"display:none;\">\n",
              "\n",
              "<svg xmlns=\"http://www.w3.org/2000/svg\" height=\"24px\"viewBox=\"0 0 24 24\"\n",
              "     width=\"24px\">\n",
              "    <g>\n",
              "        <path d=\"M19 3H5c-1.1 0-2 .9-2 2v14c0 1.1.9 2 2 2h14c1.1 0 2-.9 2-2V5c0-1.1-.9-2-2-2zM9 17H7v-7h2v7zm4 0h-2V7h2v10zm4 0h-2v-4h2v4z\"/>\n",
              "    </g>\n",
              "</svg>\n",
              "  </button>\n",
              "\n",
              "<style>\n",
              "  .colab-df-quickchart {\n",
              "      --bg-color: #E8F0FE;\n",
              "      --fill-color: #1967D2;\n",
              "      --hover-bg-color: #E2EBFA;\n",
              "      --hover-fill-color: #174EA6;\n",
              "      --disabled-fill-color: #AAA;\n",
              "      --disabled-bg-color: #DDD;\n",
              "  }\n",
              "\n",
              "  [theme=dark] .colab-df-quickchart {\n",
              "      --bg-color: #3B4455;\n",
              "      --fill-color: #D2E3FC;\n",
              "      --hover-bg-color: #434B5C;\n",
              "      --hover-fill-color: #FFFFFF;\n",
              "      --disabled-bg-color: #3B4455;\n",
              "      --disabled-fill-color: #666;\n",
              "  }\n",
              "\n",
              "  .colab-df-quickchart {\n",
              "    background-color: var(--bg-color);\n",
              "    border: none;\n",
              "    border-radius: 50%;\n",
              "    cursor: pointer;\n",
              "    display: none;\n",
              "    fill: var(--fill-color);\n",
              "    height: 32px;\n",
              "    padding: 0;\n",
              "    width: 32px;\n",
              "  }\n",
              "\n",
              "  .colab-df-quickchart:hover {\n",
              "    background-color: var(--hover-bg-color);\n",
              "    box-shadow: 0 1px 2px rgba(60, 64, 67, 0.3), 0 1px 3px 1px rgba(60, 64, 67, 0.15);\n",
              "    fill: var(--button-hover-fill-color);\n",
              "  }\n",
              "\n",
              "  .colab-df-quickchart-complete:disabled,\n",
              "  .colab-df-quickchart-complete:disabled:hover {\n",
              "    background-color: var(--disabled-bg-color);\n",
              "    fill: var(--disabled-fill-color);\n",
              "    box-shadow: none;\n",
              "  }\n",
              "\n",
              "  .colab-df-spinner {\n",
              "    border: 2px solid var(--fill-color);\n",
              "    border-color: transparent;\n",
              "    border-bottom-color: var(--fill-color);\n",
              "    animation:\n",
              "      spin 1s steps(1) infinite;\n",
              "  }\n",
              "\n",
              "  @keyframes spin {\n",
              "    0% {\n",
              "      border-color: transparent;\n",
              "      border-bottom-color: var(--fill-color);\n",
              "      border-left-color: var(--fill-color);\n",
              "    }\n",
              "    20% {\n",
              "      border-color: transparent;\n",
              "      border-left-color: var(--fill-color);\n",
              "      border-top-color: var(--fill-color);\n",
              "    }\n",
              "    30% {\n",
              "      border-color: transparent;\n",
              "      border-left-color: var(--fill-color);\n",
              "      border-top-color: var(--fill-color);\n",
              "      border-right-color: var(--fill-color);\n",
              "    }\n",
              "    40% {\n",
              "      border-color: transparent;\n",
              "      border-right-color: var(--fill-color);\n",
              "      border-top-color: var(--fill-color);\n",
              "    }\n",
              "    60% {\n",
              "      border-color: transparent;\n",
              "      border-right-color: var(--fill-color);\n",
              "    }\n",
              "    80% {\n",
              "      border-color: transparent;\n",
              "      border-right-color: var(--fill-color);\n",
              "      border-bottom-color: var(--fill-color);\n",
              "    }\n",
              "    90% {\n",
              "      border-color: transparent;\n",
              "      border-bottom-color: var(--fill-color);\n",
              "    }\n",
              "  }\n",
              "</style>\n",
              "\n",
              "  <script>\n",
              "    async function quickchart(key) {\n",
              "      const quickchartButtonEl =\n",
              "        document.querySelector('#' + key + ' button');\n",
              "      quickchartButtonEl.disabled = true;  // To prevent multiple clicks.\n",
              "      quickchartButtonEl.classList.add('colab-df-spinner');\n",
              "      try {\n",
              "        const charts = await google.colab.kernel.invokeFunction(\n",
              "            'suggestCharts', [key], {});\n",
              "      } catch (error) {\n",
              "        console.error('Error during call to suggestCharts:', error);\n",
              "      }\n",
              "      quickchartButtonEl.classList.remove('colab-df-spinner');\n",
              "      quickchartButtonEl.classList.add('colab-df-quickchart-complete');\n",
              "    }\n",
              "    (() => {\n",
              "      let quickchartButtonEl =\n",
              "        document.querySelector('#df-89af7ce4-c169-4428-a3fb-954be79c9edb button');\n",
              "      quickchartButtonEl.style.display =\n",
              "        google.colab.kernel.accessAllowed ? 'block' : 'none';\n",
              "    })();\n",
              "  </script>\n",
              "</div>\n",
              "\n",
              "    </div>\n",
              "  </div>\n"
            ],
            "application/vnd.google.colaboratory.intrinsic+json": {
              "type": "dataframe",
              "summary": "{\n  \"name\": \"df_electronics[cols]\",\n  \"rows\": 15,\n  \"fields\": [\n    {\n      \"column\": \"reviews.text\",\n      \"properties\": {\n        \"dtype\": \"string\",\n        \"num_unique_values\": 15,\n        \"samples\": [\n          \"Pros: Works good like Alexia Cons: setting it up is a , HASLE had to call verizon three times Other Thoughts: I WOULD RECOMMEND IT\",\n          \"Pros: I WOULD recommend anyone who was going to purchase anything , newegg is the BEST PLACE TO LOOK ! Cons: No compaints\",\n          \"Great case to keep everything in its place! My husband love it!!!! Holds a lot of cds!\"\n        ],\n        \"semantic_type\": \"\",\n        \"description\": \"\"\n      }\n    },\n    {\n      \"column\": \"new_topic_name\",\n      \"properties\": {\n        \"dtype\": \"string\",\n        \"num_unique_values\": 8,\n        \"samples\": [\n          \"Troubleshoot\",\n          \"For Travel\",\n          \"As a Gift\"\n        ],\n        \"semantic_type\": \"\",\n        \"description\": \"\"\n      }\n    },\n    {\n      \"column\": \"topic_id\",\n      \"properties\": {\n        \"dtype\": \"number\",\n        \"std\": 3,\n        \"min\": 0,\n        \"max\": 9,\n        \"num_unique_values\": 8,\n        \"samples\": [\n          0,\n          4,\n          2\n        ],\n        \"semantic_type\": \"\",\n        \"description\": \"\"\n      }\n    }\n  ]\n}"
            }
          },
          "metadata": {},
          "execution_count": 46
        }
      ]
    },
    {
      "cell_type": "markdown",
      "metadata": {
        "id": "gkYnBihNzGeE"
      },
      "source": [
        "-----\n",
        "# Stretch Goals -- see if you can create a model to classify the reviews into the latent topics you've discovered!\n",
        "\n",
        "\n",
        "- Treat `topic_id` as the `y` (target) vector and train a supervised learning model to predict the topic of each document\n",
        "- Report your results on the Slack channel!"
      ]
    },
    {
      "cell_type": "markdown",
      "metadata": {
        "id": "eqY0KKxKQxbm"
      },
      "source": [
        "## Topic Modeling References\n"
      ]
    },
    {
      "cell_type": "markdown",
      "metadata": {
        "id": "iKhe7u4IXr0y"
      },
      "source": [
        "\n",
        "- [Topic Modeling with Gensim](https://www.tutorialspoint.com/gensim/gensim_topic_modeling.htm) -- Brief Tutorial\n",
        "\n",
        "- [Gensim documentation](https://radimrehurek.com/gensim/index.html) -- look up gensim commands\n",
        "\n",
        "- [`pyLDAvis` documentation](https://pyldavis.readthedocs.io/en/latest/readme.html) -- package for visualizing LDA models\n",
        "\n",
        "- [Visualizing Topic Models](https://speakerdeck.com/bmabey/visualizing-topic-models) -- slides from Ben Mabey\n",
        "\n",
        "- [Exploring the Space of Topic Coherence Measures](https://dl.acm.org/doi/10.1145/2684822.2685324) -- Study of Topic Coherence measures\n",
        "\n",
        "- [Exploring Topic Coherence over many models and many topics](https://www.researchgate.net/publication/232242203_Exploring_Topic_Coherence_over_many_models_and_many_topics) -- Study of automated topic coherence measures"
      ]
    }
  ]
}