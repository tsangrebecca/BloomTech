{
  "nbformat": 4,
  "nbformat_minor": 0,
  "metadata": {
    "celltoolbar": "Create Assignment",
    "kernelspec": {
      "display_name": "py37  (Python3)",
      "language": "python",
      "name": "py37"
    },
    "language_info": {
      "codemirror_mode": {
        "name": "ipython",
        "version": 3
      },
      "file_extension": ".py",
      "mimetype": "text/x-python",
      "name": "python",
      "nbconvert_exporter": "python",
      "pygments_lexer": "ipython3",
      "version": "3.7.0"
    },
    "colab": {
      "provenance": [],
      "include_colab_link": true
    }
  },
  "cells": [
    {
      "cell_type": "markdown",
      "metadata": {
        "id": "view-in-github",
        "colab_type": "text"
      },
      "source": [
        "<a href=\"https://colab.research.google.com/github/tsangrebecca/BloomTech/blob/main/Sprint13/M2_DS_412_Vector_Representations_Lecture_GP.ipynb\" target=\"_parent\"><img src=\"https://colab.research.google.com/assets/colab-badge.svg\" alt=\"Open In Colab\"/></a>"
      ]
    },
    {
      "cell_type": "markdown",
      "source": [
        "To compare texts, we can use\n",
        "- cosine similarity\n",
        "- Jacard index table"
      ],
      "metadata": {
        "id": "8idOUoPjCnpp"
      }
    },
    {
      "cell_type": "markdown",
      "metadata": {
        "id": "cM-KfuCGdQ_9"
      },
      "source": [
        "*Unit 4, Sprint 1, Module 2*\n",
        "\n",
        "---\n",
        "\n",
        "# Vector Representations (Prepare)\n",
        "\n",
        "\n",
        "As we learned yesterday, machines cannot interpret raw text. We need to transform that text into something we/machines can more readily analyze. Yesterday, we did simple counts of counts to summarize the content of Amazon reviews. Today, we'll extend those concepts to talk about vector representations such as Bag of Words (BoW) and word embedding models. We'll use those representations for search, visualization, and prepare for our classification day tomorrow.\n",
        "\n",
        "Processing text data to prepare it for machine learning models often means translating the information from documents into a numerical format. Bag-of-Words approaches (sometimes referred to as Frequency-Based word embeddings) accomplish this by \"vectorizing\" tokenized documents. This is done by representing each document as a row in a DataFrame and creating a column for each unique word in the corpora (group of documents). The presence or lack of a given word in a document is then represented either as a raw count of how many times a given word appears in a document (CountVectorizer) or as that word's TF-IDF score (TfidfVectorizer).\n",
        "\n",
        "On the python side, we will be focusing on `sklearn` and `spacy` today.  \n",
        "\n",
        "## Case Study\n",
        "\n",
        "We're going to pretend we're on the datascience team at the BBC. We want to recommend articles to visitors to on the BBC website based on the article they just read.\n",
        "\n",
        "[BBC data set](http://mlg.ucd.ie/datasets/bbc.html)<br>\n",
        "For today's exercise, we have downloaded the \"raw text files\" from the \"BBC\" data set and focused on the tech articles only\n",
        "\n",
        "## Learning Objectives\n",
        "* <a href=\"#p1\">Part 1</a>: Represent a document as a vector\n",
        "* <a href=\"#p2\">Part 2</a>: Query Documents by Similarity\n",
        "* <a href=\"#p3\">Part 3</a>: Apply word embedding models to create document vectors"
      ]
    },
    {
      "cell_type": "markdown",
      "metadata": {
        "id": "uxtT9pdddRAB"
      },
      "source": [
        "### Let's start with an analogy\n",
        "\n",
        "![](https://peterbeshai.com/static/d9c3868cc1becd7648da453597a5d616/36dbb/DER_cube.jpg)\n",
        "\n",
        "Pretend that the objecting floating in the room is our raw text dataset (i.e. a collection of documents).\n",
        "\n",
        "A vectorizer is a mathematical transformation that takes our raw text data and transforms it into a numerical representation (i.e. numbers inside of vectors).\n",
        "\n",
        "Depending on which vectorizer you use, you will be capturing some of the information encoded in the text but not other information.\n",
        "\n",
        "So, as the analogy goes, depending which side of the floating object you stand and shine a light from, you will only see a portion of the information that exists in your text data set. Apply one vectorizer and you'll get word counts but not the contextual meaning; apply another vectorizer and you'll get the contextual meaning of the words but not the counts.\n",
        "\n",
        "**Take Away:** Understand the benefits and limitations of using each of the vectorizers that we'll be learning today.\n",
        "\n",
        "----"
      ]
    },
    {
      "cell_type": "markdown",
      "metadata": {
        "id": "RmTC1bWMBz02"
      },
      "source": [
        "# 0. Colab notebook setup"
      ]
    },
    {
      "cell_type": "markdown",
      "metadata": {
        "id": "si_FTZzkeGFD"
      },
      "source": [
        "##0.1 Get `spacy`"
      ]
    },
    {
      "cell_type": "code",
      "metadata": {
        "id": "eMfQKVrneA38",
        "colab": {
          "base_uri": "https://localhost:8080/"
        },
        "outputId": "cd64a2c6-3243-4c46-a8fc-3305c45dd95a"
      },
      "source": [
        "%%time\n",
        "# You'll use en_core_web_sm for the sprint challenge due memory constraints on Codegrader\n",
        "#!python -m spacy download en_core_web_sm\n",
        "\n",
        "# Locally (or on colab) let's use en_core_web_lg\n",
        "!python -m spacy download en_core_web_md # Can do lg, takes awhile\n",
        "# Also on Colab, need to restart runtime after this step!\n",
        "#      or else Colab won't find spacy"
      ],
      "execution_count": 1,
      "outputs": [
        {
          "output_type": "stream",
          "name": "stdout",
          "text": [
            "Collecting en-core-web-md==3.7.1\n",
            "  Downloading https://github.com/explosion/spacy-models/releases/download/en_core_web_md-3.7.1/en_core_web_md-3.7.1-py3-none-any.whl (42.8 MB)\n",
            "\u001b[2K     \u001b[90m━━━━━━━━━━━━━━━━━━━━━━━━━━━━━━━━━━━━━━━━\u001b[0m \u001b[32m42.8/42.8 MB\u001b[0m \u001b[31m7.1 MB/s\u001b[0m eta \u001b[36m0:00:00\u001b[0m\n",
            "\u001b[?25hRequirement already satisfied: spacy<3.8.0,>=3.7.2 in /usr/local/lib/python3.10/dist-packages (from en-core-web-md==3.7.1) (3.7.4)\n",
            "Requirement already satisfied: spacy-legacy<3.1.0,>=3.0.11 in /usr/local/lib/python3.10/dist-packages (from spacy<3.8.0,>=3.7.2->en-core-web-md==3.7.1) (3.0.12)\n",
            "Requirement already satisfied: spacy-loggers<2.0.0,>=1.0.0 in /usr/local/lib/python3.10/dist-packages (from spacy<3.8.0,>=3.7.2->en-core-web-md==3.7.1) (1.0.5)\n",
            "Requirement already satisfied: murmurhash<1.1.0,>=0.28.0 in /usr/local/lib/python3.10/dist-packages (from spacy<3.8.0,>=3.7.2->en-core-web-md==3.7.1) (1.0.10)\n",
            "Requirement already satisfied: cymem<2.1.0,>=2.0.2 in /usr/local/lib/python3.10/dist-packages (from spacy<3.8.0,>=3.7.2->en-core-web-md==3.7.1) (2.0.8)\n",
            "Requirement already satisfied: preshed<3.1.0,>=3.0.2 in /usr/local/lib/python3.10/dist-packages (from spacy<3.8.0,>=3.7.2->en-core-web-md==3.7.1) (3.0.9)\n",
            "Requirement already satisfied: thinc<8.3.0,>=8.2.2 in /usr/local/lib/python3.10/dist-packages (from spacy<3.8.0,>=3.7.2->en-core-web-md==3.7.1) (8.2.3)\n",
            "Requirement already satisfied: wasabi<1.2.0,>=0.9.1 in /usr/local/lib/python3.10/dist-packages (from spacy<3.8.0,>=3.7.2->en-core-web-md==3.7.1) (1.1.2)\n",
            "Requirement already satisfied: srsly<3.0.0,>=2.4.3 in /usr/local/lib/python3.10/dist-packages (from spacy<3.8.0,>=3.7.2->en-core-web-md==3.7.1) (2.4.8)\n",
            "Requirement already satisfied: catalogue<2.1.0,>=2.0.6 in /usr/local/lib/python3.10/dist-packages (from spacy<3.8.0,>=3.7.2->en-core-web-md==3.7.1) (2.0.10)\n",
            "Requirement already satisfied: weasel<0.4.0,>=0.1.0 in /usr/local/lib/python3.10/dist-packages (from spacy<3.8.0,>=3.7.2->en-core-web-md==3.7.1) (0.3.4)\n",
            "Requirement already satisfied: typer<0.10.0,>=0.3.0 in /usr/local/lib/python3.10/dist-packages (from spacy<3.8.0,>=3.7.2->en-core-web-md==3.7.1) (0.9.4)\n",
            "Requirement already satisfied: smart-open<7.0.0,>=5.2.1 in /usr/local/lib/python3.10/dist-packages (from spacy<3.8.0,>=3.7.2->en-core-web-md==3.7.1) (6.4.0)\n",
            "Requirement already satisfied: tqdm<5.0.0,>=4.38.0 in /usr/local/lib/python3.10/dist-packages (from spacy<3.8.0,>=3.7.2->en-core-web-md==3.7.1) (4.66.2)\n",
            "Requirement already satisfied: requests<3.0.0,>=2.13.0 in /usr/local/lib/python3.10/dist-packages (from spacy<3.8.0,>=3.7.2->en-core-web-md==3.7.1) (2.31.0)\n",
            "Requirement already satisfied: pydantic!=1.8,!=1.8.1,<3.0.0,>=1.7.4 in /usr/local/lib/python3.10/dist-packages (from spacy<3.8.0,>=3.7.2->en-core-web-md==3.7.1) (2.7.1)\n",
            "Requirement already satisfied: jinja2 in /usr/local/lib/python3.10/dist-packages (from spacy<3.8.0,>=3.7.2->en-core-web-md==3.7.1) (3.1.3)\n",
            "Requirement already satisfied: setuptools in /usr/local/lib/python3.10/dist-packages (from spacy<3.8.0,>=3.7.2->en-core-web-md==3.7.1) (67.7.2)\n",
            "Requirement already satisfied: packaging>=20.0 in /usr/local/lib/python3.10/dist-packages (from spacy<3.8.0,>=3.7.2->en-core-web-md==3.7.1) (24.0)\n",
            "Requirement already satisfied: langcodes<4.0.0,>=3.2.0 in /usr/local/lib/python3.10/dist-packages (from spacy<3.8.0,>=3.7.2->en-core-web-md==3.7.1) (3.4.0)\n",
            "Requirement already satisfied: numpy>=1.19.0 in /usr/local/lib/python3.10/dist-packages (from spacy<3.8.0,>=3.7.2->en-core-web-md==3.7.1) (1.25.2)\n",
            "Requirement already satisfied: language-data>=1.2 in /usr/local/lib/python3.10/dist-packages (from langcodes<4.0.0,>=3.2.0->spacy<3.8.0,>=3.7.2->en-core-web-md==3.7.1) (1.2.0)\n",
            "Requirement already satisfied: annotated-types>=0.4.0 in /usr/local/lib/python3.10/dist-packages (from pydantic!=1.8,!=1.8.1,<3.0.0,>=1.7.4->spacy<3.8.0,>=3.7.2->en-core-web-md==3.7.1) (0.6.0)\n",
            "Requirement already satisfied: pydantic-core==2.18.2 in /usr/local/lib/python3.10/dist-packages (from pydantic!=1.8,!=1.8.1,<3.0.0,>=1.7.4->spacy<3.8.0,>=3.7.2->en-core-web-md==3.7.1) (2.18.2)\n",
            "Requirement already satisfied: typing-extensions>=4.6.1 in /usr/local/lib/python3.10/dist-packages (from pydantic!=1.8,!=1.8.1,<3.0.0,>=1.7.4->spacy<3.8.0,>=3.7.2->en-core-web-md==3.7.1) (4.11.0)\n",
            "Requirement already satisfied: charset-normalizer<4,>=2 in /usr/local/lib/python3.10/dist-packages (from requests<3.0.0,>=2.13.0->spacy<3.8.0,>=3.7.2->en-core-web-md==3.7.1) (3.3.2)\n",
            "Requirement already satisfied: idna<4,>=2.5 in /usr/local/lib/python3.10/dist-packages (from requests<3.0.0,>=2.13.0->spacy<3.8.0,>=3.7.2->en-core-web-md==3.7.1) (3.7)\n",
            "Requirement already satisfied: urllib3<3,>=1.21.1 in /usr/local/lib/python3.10/dist-packages (from requests<3.0.0,>=2.13.0->spacy<3.8.0,>=3.7.2->en-core-web-md==3.7.1) (2.0.7)\n",
            "Requirement already satisfied: certifi>=2017.4.17 in /usr/local/lib/python3.10/dist-packages (from requests<3.0.0,>=2.13.0->spacy<3.8.0,>=3.7.2->en-core-web-md==3.7.1) (2024.2.2)\n",
            "Requirement already satisfied: blis<0.8.0,>=0.7.8 in /usr/local/lib/python3.10/dist-packages (from thinc<8.3.0,>=8.2.2->spacy<3.8.0,>=3.7.2->en-core-web-md==3.7.1) (0.7.11)\n",
            "Requirement already satisfied: confection<1.0.0,>=0.0.1 in /usr/local/lib/python3.10/dist-packages (from thinc<8.3.0,>=8.2.2->spacy<3.8.0,>=3.7.2->en-core-web-md==3.7.1) (0.1.4)\n",
            "Requirement already satisfied: click<9.0.0,>=7.1.1 in /usr/local/lib/python3.10/dist-packages (from typer<0.10.0,>=0.3.0->spacy<3.8.0,>=3.7.2->en-core-web-md==3.7.1) (8.1.7)\n",
            "Requirement already satisfied: cloudpathlib<0.17.0,>=0.7.0 in /usr/local/lib/python3.10/dist-packages (from weasel<0.4.0,>=0.1.0->spacy<3.8.0,>=3.7.2->en-core-web-md==3.7.1) (0.16.0)\n",
            "Requirement already satisfied: MarkupSafe>=2.0 in /usr/local/lib/python3.10/dist-packages (from jinja2->spacy<3.8.0,>=3.7.2->en-core-web-md==3.7.1) (2.1.5)\n",
            "Requirement already satisfied: marisa-trie>=0.7.7 in /usr/local/lib/python3.10/dist-packages (from language-data>=1.2->langcodes<4.0.0,>=3.2.0->spacy<3.8.0,>=3.7.2->en-core-web-md==3.7.1) (1.1.0)\n",
            "Installing collected packages: en-core-web-md\n",
            "Successfully installed en-core-web-md-3.7.1\n",
            "\u001b[38;5;2m✔ Download and installation successful\u001b[0m\n",
            "You can now load the package via spacy.load('en_core_web_md')\n",
            "\u001b[38;5;3m⚠ Restart to reload dependencies\u001b[0m\n",
            "If you are in a Jupyter or Colab notebook, you may need to restart Python in\n",
            "order to load all the package's dependencies. You can do this by selecting the\n",
            "'Restart kernel' or 'Restart runtime' option.\n",
            "CPU times: user 515 ms, sys: 70.3 ms, total: 585 ms\n",
            "Wall time: 49.3 s\n"
          ]
        }
      ]
    },
    {
      "cell_type": "markdown",
      "metadata": {
        "id": "IRKrvC4feP15"
      },
      "source": [
        "##0.2 Restart the runtime!"
      ]
    },
    {
      "cell_type": "markdown",
      "metadata": {
        "id": "Eba3NjeAO-Ha"
      },
      "source": [
        "## 0.3 Imports"
      ]
    },
    {
      "cell_type": "code",
      "metadata": {
        "id": "0XVf_1L3dRAD"
      },
      "source": [
        "\"\"\" Import Statements \"\"\"\n",
        "\n",
        "# Classics\n",
        "import numpy as np\n",
        "import pandas as pd\n",
        "import seaborn as sns\n",
        "import matplotlib.pyplot as plt\n",
        "\n",
        "from sklearn.feature_extraction.text import CountVectorizer, TfidfVectorizer\n",
        "from sklearn.metrics.pairwise import cosine_similarity\n",
        "from sklearn.neighbors import NearestNeighbors\n",
        "from sklearn.decomposition import PCA\n",
        "\n",
        "import spacy\n",
        "nlp = spacy.load(\"en_core_web_md\")"
      ],
      "execution_count": 1,
      "outputs": []
    },
    {
      "cell_type": "markdown",
      "metadata": {
        "id": "55skIZ7eidH7"
      },
      "source": [
        "##0.4 Clone the git repo\n",
        "so we can access the files in the `/data` folder"
      ]
    },
    {
      "cell_type": "code",
      "metadata": {
        "id": "kpgi5SBuePAD",
        "colab": {
          "base_uri": "https://localhost:8080/"
        },
        "outputId": "96f83f61-c66b-490e-8df5-fee11f3f072f"
      },
      "source": [
        "!git clone https://github.com/LambdaSchool/DS-Unit-4-Sprint-1-NLP.git"
      ],
      "execution_count": 2,
      "outputs": [
        {
          "output_type": "stream",
          "name": "stdout",
          "text": [
            "Cloning into 'DS-Unit-4-Sprint-1-NLP'...\n",
            "remote: Enumerating objects: 1746, done.\u001b[K\n",
            "remote: Counting objects: 100% (214/214), done.\u001b[K\n",
            "remote: Compressing objects: 100% (126/126), done.\u001b[K\n",
            "remote: Total 1746 (delta 117), reused 155 (delta 88), pack-reused 1532\u001b[K\n",
            "Receiving objects: 100% (1746/1746), 60.07 MiB | 11.10 MiB/s, done.\n",
            "Resolving deltas: 100% (286/286), done.\n"
          ]
        }
      ]
    },
    {
      "cell_type": "markdown",
      "metadata": {
        "id": "JD4Kv86TjEfJ"
      },
      "source": [
        "## 0.5 Get the BBC tech articles data"
      ]
    },
    {
      "cell_type": "markdown",
      "metadata": {
        "id": "4v8uWdQRBjF7"
      },
      "source": [
        "Helper function to read articles in `.txt` files in a specified directory and gather them into a big list"
      ]
    },
    {
      "cell_type": "code",
      "metadata": {
        "id": "6m0vfCnqdRAI"
      },
      "source": [
        "import os\n",
        "\n",
        "def gather_data(filefolder):\n",
        "    \"\"\" Produces List of Documents from a Directory\n",
        "\n",
        "    filefolder (str): a path of .txt files\n",
        "\n",
        "    returns list of strings\n",
        "    \"\"\"\n",
        "\n",
        "    data = []\n",
        "\n",
        "    files = os.listdir(filefolder) # Causes variation across machines\n",
        "\n",
        "    for filename in files:\n",
        "\n",
        "        path = os.path.join(filefolder, filename)\n",
        "\n",
        "        if  path[-3:] == 'txt': # os ~endswith('txt')\n",
        "            with open(path, 'rb') as f:\n",
        "                data.append(f.read())\n",
        "\n",
        "    return data"
      ],
      "execution_count": 3,
      "outputs": []
    },
    {
      "cell_type": "markdown",
      "metadata": {
        "id": "XSH2TnEnBsK7"
      },
      "source": [
        "Read the articles into a list"
      ]
    },
    {
      "cell_type": "code",
      "metadata": {
        "id": "gFsYq8x6dRAJ",
        "colab": {
          "base_uri": "https://localhost:8080/"
        },
        "outputId": "01ceaed2-88de-4b05-96f9-f16a4f4a23c6"
      },
      "source": [
        "# locate and get path to the /data folder, using colab's file browser\n",
        "data_path = '/content/DS-Unit-4-Sprint-1-NLP/module2-vector-representations/data'\n",
        "data = gather_data(data_path)\n",
        "print(f'Number of Articles: {len(data)}')"
      ],
      "execution_count": 4,
      "outputs": [
        {
          "output_type": "stream",
          "name": "stdout",
          "text": [
            "Number of Articles: 401\n"
          ]
        }
      ]
    },
    {
      "cell_type": "markdown",
      "metadata": {
        "id": "2gx9kYDLCGtN"
      },
      "source": [
        "Articles turn out to be \"byte strings\" so we need to decode them to strings.\n",
        "Byte string is a sequence of bytes, unreadable by humans. Python decodes them when you print them and it is represented by a 'b', followed by the byte string's representation."
      ]
    },
    {
      "cell_type": "code",
      "metadata": {
        "id": "IC8NUCwhCY3Z",
        "colab": {
          "base_uri": "https://localhost:8080/"
        },
        "outputId": "9d77d20e-ca58-4a31-c10c-61dcd8d778c1"
      },
      "source": [
        "print(data[20])\n",
        "print(type(data[20]))"
      ],
      "execution_count": 5,
      "outputs": [
        {
          "output_type": "stream",
          "name": "stdout",
          "text": [
            "b'Mobile music challenges \\'iPod age\\'\\n\\nNokia and Microsoft have agreed a deal to work on delivery of music to handsets, while Sony Ericsson has unveiled its phone Walkman and Motorola is working on an iTunes phone.\\n\\nCan mobile phones replace the MP3 player in your pocket? The music download market has been growing steadily since record firms embraced digital distribution. Ease of use, relative low price and increased access to broadband has helped drive the phenomenal growth of MP3 players.\\n\\nFull-length music downloads on mobile phones have not taken off so quickly - held back by technical challenges as well as issues over music availability. But the mobile music industry is confident that the days of dedicated MP3 players are numbered.\\n\\nGilles Babinet, chief executive of mobile music firm Musiwave, said: \"Music downloads on mobiles have the potential to be the biggest-ever medium for music.\"\\n\\nMusiwave provides downloading infrastructure for the mobile phone market and Mr Babinet said the industry was enjoying \"definite momentum.\" But there are hurdles to overcome. Mobile phones offer limited storage for music - certainly nothing to rival Apple\\'s 60GB iPod. But the first mobile phones with hard disk players will be on the market soon and the current generation of mobiles using flash technology can store up to one gigabyte of music - enough for 250 songs. \"We are working in the hard disk area and we will be bringing out exciting devices,\" Jonas Guest, vice president for entertainment at Nokia, told the BBC News website. But will mobiles become mere storage devices? \"One of the problems we could have is that mobiles are used just for storage and playback while PCs are used for downloading,\" said Mr Babinet\\n\\n\"We don\\'t want people to cast aside their PCs - we want mobile users to hook up into the existing ecosystems,\" explained Mr Guest. \"You must enable people to transfer music from a PC to a handset and vice versa.\"\\n\\nOne of the key elements of the Nokia and Microsoft deal is the agreed ability to transfer songs between a handset and a PC. Microsoft will adopt open standards allowing music to cross boundaries for the first time. Songs can be downloaded on PC or mobile and transferred between the platforms. \"The line between online and wireless is going to blur,\" predicted Ted Cohen, senior vice president of digital development and distribution at EMI. He said: \"The market is more regional in its maturity. In Asia it is beyond belief. \"The majority of our digital revenues in Asia comes from mobiles. In North America it is fixed line while there is equilibrium in Europe.\"\\n\\nEMI currently offers its entire 200,000 download catalogue for use by both by PCs and mobile phones. Mr Cohen said: \"It\\'s going to be just as important to connect through 3G or wireless as it is through your PC. \"We want music to be a continuum.\" The seamless experience of mobiles and PC downloads is approaching, he predicted. Mr Babinet said the mobile phone had a number of advantages over PCs which would see it become the focus for music downloading in the future. \"Getting music from your PC onto a device is not an easy experience. You have to switch the PC on, load the operating system, load the program, buy the music, download the music, and then transfer the music. \"All of these steps can be done in one step on a mobile phone.\" He said the mobile phone\\'s billing system would make it easier for teenagers to embrace downloads, because pre-paid cards were already accepted by the age group.\\n\\n\"Certainly, we have a problem with battery, memory and bandwidth. But it\\'s not about the current status. It\\'s about the potential. \"You will have all of your music on your mobile.\" All three men said that the social interaction of mobile music would drive the market. Mr Cohen said: \"I can send you the song and it is either billed to me or I send it to you and if you listen to it and want to keep, it is billed to you. \"It\\'s a social phenomenon.\" Mr Babinet said: \"Today you use radio and TV to discover music. Tomorrow you will discover and consume music via one device - the mobile.\"\\n'\n",
            "<class 'bytes'>\n"
          ]
        }
      ]
    },
    {
      "cell_type": "code",
      "metadata": {
        "id": "ubER5c_yPLMG",
        "colab": {
          "base_uri": "https://localhost:8080/"
        },
        "outputId": "f5e3c8c5-a6e5-4832-8978-4f039f40013a"
      },
      "source": [
        "# decode bytestrings in a corpus to strings\n",
        "# takes a list of documents, i.e a list of strings as input\n",
        "articles = []\n",
        "for article in data:\n",
        "  article = article.decode(\"utf-8\")\n",
        "  articles.append(article)\n",
        "print(len(articles))\n",
        "\n",
        "# Preview first article and check data type again\n",
        "data = articles # overwrite it with strings\n",
        "print(data[0])\n",
        "print(type(data[0]))"
      ],
      "execution_count": 6,
      "outputs": [
        {
          "output_type": "stream",
          "name": "stdout",
          "text": [
            "401\n",
            "Row brewing over peer-to-peer ads\n",
            "\n",
            "Music download networks are proving popular not just with an audience of youngsters keen to take advantage of free music but with advertisers equally keen to reach out to a captive audience.\n",
            "\n",
            "The debate over the legitimacy of file-sharing networks rages on as the music industry continues its threats to close the services down for good. Meanwhile the millions of downloaders are proving both an advertiser's dream come true and a branding nightmare. Paul Myers, chief executive of Wippit - a peer to peer service which provides paid-for music downloads - believes it is time advertisers stopped providing 'oxygen' for companies that support illegal downloading. \"You may be surprised to know that current advertisers on the most popular peer to peer service eDonkey who now steadfastly support copyright theft with real cash money include Nat West, Vodafone, O2, First Direct, NTL, and Renault,\" he said in an open letter to the British Phonographic Industry last month.\n",
            "\n",
            "He urged people to follow his lead and 'dump' brands associated with companies such as eDonkey. The BPI is equally quick to condemn established brands becoming bedfellows with peer to peer networks. 'Networks like eDonkey, Kazaa and Grokster facilitate illegal filesharing. The BPI strongly believes that any reputable company should look carefully at the support they are giving these networks through their advertising revenue,\" it said in a statement. \"Illegal file-sharers steal millions of pounds worth of music through these services. We are sure that the companies advertising on them would not put up with theft on such a scale from their own businesses,\" it said. But the issue is often more complicated for advertisers, said Mark Mulligan, a music analyst with Jupiter Research. \"This has been a problem for a long time, ever since the days of Napster,\" he told the BBC News website.\n",
            "\n",
            "The reality is that the millions of downloaders represent a very attractive audience. \"Advertisers probably pay a lot less for putting ads here than on more respected sites and they are reaching the perfect target audience,\" he said. \"If you put the legality issues aside, not to advertise here would mean missing out on a valuable audience,\" he added. Meanwhile companies contacted by the BBC News website insist that they were not directly aware of where their ads have been appearing. OneTel adverts were spotted on eDonkey this week and its response was typical. \"We have investigated this matter and believe that one of our affiliate partners has placed this advert without our knowledge. It is not our policy to advertise through peer-to-peer networks,\" read a statement from the discount phone firm. It has requested the advert be removed immediately, said a spokeswoman. Similarly telecommunications firm NTL blames its media buying agency which places adverts with third party networks featuring thousands of sites. Since the matter was brought to its attention last month, the agency has strict instructions to make sure ads do not appear on such sites, a spokesman told the BBC News website.\n",
            "\n",
            "However Mr Mulligan was not entirely convinced by these explanations. While smaller brands might not necessarily be aware of where the money they allocate to online advertising actually ends, this is no excuse for well-known brands, he said. \"I would be surprised if these brands didn't have the know-how to prevent this happening,\" he said. At the moment eDonkey is enjoying the benefits of having some very well-known faces advert on its network. \"Many big brands have leveraged the opportunity, including perhaps two of the biggest brands in the world - Senator John Kerry and President George W. Bush,\" said chief executive Sam Yagan. There are some distinct advantages of advertising on such a network, he thinks. \"Peer-to-peer clients offer big brands a unique opportunity to engage with their customers where they're most comfortable: at their desks interacting with their favourite digital media,\" he said.\n",
            "\n",
            "<class 'str'>\n"
          ]
        }
      ]
    },
    {
      "cell_type": "markdown",
      "metadata": {
        "id": "2CF_285ECuXV"
      },
      "source": [
        "Make a `spacy` tokenizer, as in Module 1<br>\n",
        "Question: why did we use [`.strip()`](https://python-reference.readthedocs.io/en/latest/docs/str/strip.html)?"
      ]
    },
    {
      "cell_type": "code",
      "metadata": {
        "id": "XlnxqpI2dRAQ"
      },
      "source": [
        "def tokenize(document):\n",
        "    \"\"\"\n",
        "    Takes a doc (text string) and returns a list of tokens in the form of lemmas.\n",
        "    Filters out Stop words, punctuation, and leading/trailing spaces.\n",
        "    \"\"\"\n",
        "\n",
        "    doc = nlp(document)\n",
        "    # last \"and\" statement is to remove token lemmas that are empty strings\n",
        "    lemma_list = [token.lemma_.lower().strip() for token in doc if (not token.is_stop)\n",
        "                                                                and (not token.is_punct)\n",
        "                                                                and (not token.is_digit) # remove digits\n",
        "                                                                and (not token.like_num) # remove numbers in the word format as well\n",
        "                                                                and (token.lemma_.strip()!=\"\") # checks if the stripped lemma of the token is not an empty string so only tokens with non-empty lemmas are included\n",
        "                                                                and (len(token.lemma_.strip())>1)] # checks if the length of the stripped lemma > 1 to filter out single characters that might not be useful\n",
        "    return lemma_list"
      ],
      "execution_count": 7,
      "outputs": []
    },
    {
      "cell_type": "code",
      "source": [
        "# Test our tokenizer\n",
        "tokenize('My two cats ate my homework.')"
      ],
      "metadata": {
        "id": "NpDrlDB8SuGH",
        "colab": {
          "base_uri": "https://localhost:8080/"
        },
        "outputId": "a38ecfe5-0922-4fff-b3ac-9e3b4d91df7f"
      },
      "execution_count": 8,
      "outputs": [
        {
          "output_type": "execute_result",
          "data": {
            "text/plain": [
              "['cat', 'eat', 'homework']"
            ]
          },
          "metadata": {},
          "execution_count": 8
        }
      ]
    },
    {
      "cell_type": "code",
      "metadata": {
        "id": "DKox9ksM2RWM",
        "colab": {
          "base_uri": "https://localhost:8080/",
          "height": 123
        },
        "outputId": "828ac590-be4c-412d-8cc8-0a508b8655c9"
      },
      "source": [
        "data[20]"
      ],
      "execution_count": 9,
      "outputs": [
        {
          "output_type": "execute_result",
          "data": {
            "text/plain": [
              "'Mobile music challenges \\'iPod age\\'\\n\\nNokia and Microsoft have agreed a deal to work on delivery of music to handsets, while Sony Ericsson has unveiled its phone Walkman and Motorola is working on an iTunes phone.\\n\\nCan mobile phones replace the MP3 player in your pocket? The music download market has been growing steadily since record firms embraced digital distribution. Ease of use, relative low price and increased access to broadband has helped drive the phenomenal growth of MP3 players.\\n\\nFull-length music downloads on mobile phones have not taken off so quickly - held back by technical challenges as well as issues over music availability. But the mobile music industry is confident that the days of dedicated MP3 players are numbered.\\n\\nGilles Babinet, chief executive of mobile music firm Musiwave, said: \"Music downloads on mobiles have the potential to be the biggest-ever medium for music.\"\\n\\nMusiwave provides downloading infrastructure for the mobile phone market and Mr Babinet said the industry was enjoying \"definite momentum.\" But there are hurdles to overcome. Mobile phones offer limited storage for music - certainly nothing to rival Apple\\'s 60GB iPod. But the first mobile phones with hard disk players will be on the market soon and the current generation of mobiles using flash technology can store up to one gigabyte of music - enough for 250 songs. \"We are working in the hard disk area and we will be bringing out exciting devices,\" Jonas Guest, vice president for entertainment at Nokia, told the BBC News website. But will mobiles become mere storage devices? \"One of the problems we could have is that mobiles are used just for storage and playback while PCs are used for downloading,\" said Mr Babinet\\n\\n\"We don\\'t want people to cast aside their PCs - we want mobile users to hook up into the existing ecosystems,\" explained Mr Guest. \"You must enable people to transfer music from a PC to a handset and vice versa.\"\\n\\nOne of the key elements of the Nokia and Microsoft deal is the agreed ability to transfer songs between a handset and a PC. Microsoft will adopt open standards allowing music to cross boundaries for the first time. Songs can be downloaded on PC or mobile and transferred between the platforms. \"The line between online and wireless is going to blur,\" predicted Ted Cohen, senior vice president of digital development and distribution at EMI. He said: \"The market is more regional in its maturity. In Asia it is beyond belief. \"The majority of our digital revenues in Asia comes from mobiles. In North America it is fixed line while there is equilibrium in Europe.\"\\n\\nEMI currently offers its entire 200,000 download catalogue for use by both by PCs and mobile phones. Mr Cohen said: \"It\\'s going to be just as important to connect through 3G or wireless as it is through your PC. \"We want music to be a continuum.\" The seamless experience of mobiles and PC downloads is approaching, he predicted. Mr Babinet said the mobile phone had a number of advantages over PCs which would see it become the focus for music downloading in the future. \"Getting music from your PC onto a device is not an easy experience. You have to switch the PC on, load the operating system, load the program, buy the music, download the music, and then transfer the music. \"All of these steps can be done in one step on a mobile phone.\" He said the mobile phone\\'s billing system would make it easier for teenagers to embrace downloads, because pre-paid cards were already accepted by the age group.\\n\\n\"Certainly, we have a problem with battery, memory and bandwidth. But it\\'s not about the current status. It\\'s about the potential. \"You will have all of your music on your mobile.\" All three men said that the social interaction of mobile music would drive the market. Mr Cohen said: \"I can send you the song and it is either billed to me or I send it to you and if you listen to it and want to keep, it is billed to you. \"It\\'s a social phenomenon.\" Mr Babinet said: \"Today you use radio and TV to discover music. Tomorrow you will discover and consume music via one device - the mobile.\"\\n'"
            ],
            "application/vnd.google.colaboratory.intrinsic+json": {
              "type": "string"
            }
          },
          "metadata": {},
          "execution_count": 9
        }
      ]
    },
    {
      "cell_type": "code",
      "metadata": {
        "id": "n4Zl0PeDOigp",
        "colab": {
          "base_uri": "https://localhost:8080/"
        },
        "outputId": "41f3ca1e-90ea-4be7-d84a-0165bf0a0e13"
      },
      "source": [
        "tokenize(data[20])"
      ],
      "execution_count": 10,
      "outputs": [
        {
          "output_type": "execute_result",
          "data": {
            "text/plain": [
              "['mobile',\n",
              " 'music',\n",
              " 'challenge',\n",
              " 'ipod',\n",
              " 'age',\n",
              " 'nokia',\n",
              " 'microsoft',\n",
              " 'agree',\n",
              " 'deal',\n",
              " 'work',\n",
              " 'delivery',\n",
              " 'music',\n",
              " 'handset',\n",
              " 'sony',\n",
              " 'ericsson',\n",
              " 'unveil',\n",
              " 'phone',\n",
              " 'walkman',\n",
              " 'motorola',\n",
              " 'work',\n",
              " 'itunes',\n",
              " 'phone',\n",
              " 'mobile',\n",
              " 'phone',\n",
              " 'replace',\n",
              " 'mp3',\n",
              " 'player',\n",
              " 'pocket',\n",
              " 'music',\n",
              " 'download',\n",
              " 'market',\n",
              " 'grow',\n",
              " 'steadily',\n",
              " 'record',\n",
              " 'firm',\n",
              " 'embrace',\n",
              " 'digital',\n",
              " 'distribution',\n",
              " 'ease',\n",
              " 'use',\n",
              " 'relative',\n",
              " 'low',\n",
              " 'price',\n",
              " 'increase',\n",
              " 'access',\n",
              " 'broadband',\n",
              " 'help',\n",
              " 'drive',\n",
              " 'phenomenal',\n",
              " 'growth',\n",
              " 'mp3',\n",
              " 'player',\n",
              " 'length',\n",
              " 'music',\n",
              " 'download',\n",
              " 'mobile',\n",
              " 'phone',\n",
              " 'take',\n",
              " 'quickly',\n",
              " 'hold',\n",
              " 'technical',\n",
              " 'challenge',\n",
              " 'issue',\n",
              " 'music',\n",
              " 'availability',\n",
              " 'mobile',\n",
              " 'music',\n",
              " 'industry',\n",
              " 'confident',\n",
              " 'day',\n",
              " 'dedicated',\n",
              " 'mp3',\n",
              " 'player',\n",
              " 'number',\n",
              " 'gilles',\n",
              " 'babinet',\n",
              " 'chief',\n",
              " 'executive',\n",
              " 'mobile',\n",
              " 'music',\n",
              " 'firm',\n",
              " 'musiwave',\n",
              " 'say',\n",
              " 'music',\n",
              " 'download',\n",
              " 'mobile',\n",
              " 'potential',\n",
              " 'big',\n",
              " 'medium',\n",
              " 'music',\n",
              " 'musiwave',\n",
              " 'provide',\n",
              " 'download',\n",
              " 'infrastructure',\n",
              " 'mobile',\n",
              " 'phone',\n",
              " 'market',\n",
              " 'mr',\n",
              " 'babinet',\n",
              " 'say',\n",
              " 'industry',\n",
              " 'enjoy',\n",
              " 'definite',\n",
              " 'momentum',\n",
              " 'hurdle',\n",
              " 'overcome',\n",
              " 'mobile',\n",
              " 'phone',\n",
              " 'offer',\n",
              " 'limited',\n",
              " 'storage',\n",
              " 'music',\n",
              " 'certainly',\n",
              " 'rival',\n",
              " 'apple',\n",
              " 'gb',\n",
              " 'ipod',\n",
              " 'mobile',\n",
              " 'phone',\n",
              " 'hard',\n",
              " 'disk',\n",
              " 'player',\n",
              " 'market',\n",
              " 'soon',\n",
              " 'current',\n",
              " 'generation',\n",
              " 'mobile',\n",
              " 'flash',\n",
              " 'technology',\n",
              " 'store',\n",
              " 'gigabyte',\n",
              " 'music',\n",
              " 'song',\n",
              " 'work',\n",
              " 'hard',\n",
              " 'disk',\n",
              " 'area',\n",
              " 'bring',\n",
              " 'exciting',\n",
              " 'device',\n",
              " 'jonas',\n",
              " 'guest',\n",
              " 'vice',\n",
              " 'president',\n",
              " 'entertainment',\n",
              " 'nokia',\n",
              " 'tell',\n",
              " 'bbc',\n",
              " 'news',\n",
              " 'website',\n",
              " 'mobile',\n",
              " 'mere',\n",
              " 'storage',\n",
              " 'device',\n",
              " 'problem',\n",
              " 'mobile',\n",
              " 'storage',\n",
              " 'playback',\n",
              " 'pc',\n",
              " 'download',\n",
              " 'say',\n",
              " 'mr',\n",
              " 'babinet',\n",
              " 'want',\n",
              " 'people',\n",
              " 'cast',\n",
              " 'aside',\n",
              " 'pc',\n",
              " 'want',\n",
              " 'mobile',\n",
              " 'user',\n",
              " 'hook',\n",
              " 'exist',\n",
              " 'ecosystem',\n",
              " 'explain',\n",
              " 'mr',\n",
              " 'guest',\n",
              " 'enable',\n",
              " 'people',\n",
              " 'transfer',\n",
              " 'music',\n",
              " 'pc',\n",
              " 'handset',\n",
              " 'vice',\n",
              " 'versa',\n",
              " 'key',\n",
              " 'element',\n",
              " 'nokia',\n",
              " 'microsoft',\n",
              " 'deal',\n",
              " 'agree',\n",
              " 'ability',\n",
              " 'transfer',\n",
              " 'song',\n",
              " 'handset',\n",
              " 'pc',\n",
              " 'microsoft',\n",
              " 'adopt',\n",
              " 'open',\n",
              " 'standard',\n",
              " 'allow',\n",
              " 'music',\n",
              " 'cross',\n",
              " 'boundary',\n",
              " 'time',\n",
              " 'song',\n",
              " 'download',\n",
              " 'pc',\n",
              " 'mobile',\n",
              " 'transfer',\n",
              " 'platform',\n",
              " 'line',\n",
              " 'online',\n",
              " 'wireless',\n",
              " 'go',\n",
              " 'blur',\n",
              " 'predict',\n",
              " 'ted',\n",
              " 'cohen',\n",
              " 'senior',\n",
              " 'vice',\n",
              " 'president',\n",
              " 'digital',\n",
              " 'development',\n",
              " 'distribution',\n",
              " 'emi',\n",
              " 'say',\n",
              " 'market',\n",
              " 'regional',\n",
              " 'maturity',\n",
              " 'asia',\n",
              " 'belief',\n",
              " 'majority',\n",
              " 'digital',\n",
              " 'revenue',\n",
              " 'asia',\n",
              " 'come',\n",
              " 'mobile',\n",
              " 'north',\n",
              " 'america',\n",
              " 'fix',\n",
              " 'line',\n",
              " 'equilibrium',\n",
              " 'europe',\n",
              " 'emi',\n",
              " 'currently',\n",
              " 'offer',\n",
              " 'entire',\n",
              " 'download',\n",
              " 'catalogue',\n",
              " 'use',\n",
              " 'pc',\n",
              " 'mobile',\n",
              " 'phone',\n",
              " 'mr',\n",
              " 'cohen',\n",
              " 'say',\n",
              " 'go',\n",
              " 'important',\n",
              " 'connect',\n",
              " 'wireless',\n",
              " 'pc',\n",
              " 'want',\n",
              " 'music',\n",
              " 'continuum',\n",
              " 'seamless',\n",
              " 'experience',\n",
              " 'mobile',\n",
              " 'pc',\n",
              " 'download',\n",
              " 'approach',\n",
              " 'predict',\n",
              " 'mr',\n",
              " 'babinet',\n",
              " 'say',\n",
              " 'mobile',\n",
              " 'phone',\n",
              " 'number',\n",
              " 'advantage',\n",
              " 'pc',\n",
              " 'focus',\n",
              " 'music',\n",
              " 'download',\n",
              " 'future',\n",
              " 'get',\n",
              " 'music',\n",
              " 'pc',\n",
              " 'device',\n",
              " 'easy',\n",
              " 'experience',\n",
              " 'switch',\n",
              " 'pc',\n",
              " 'load',\n",
              " 'operating',\n",
              " 'system',\n",
              " 'load',\n",
              " 'program',\n",
              " 'buy',\n",
              " 'music',\n",
              " 'download',\n",
              " 'music',\n",
              " 'transfer',\n",
              " 'music',\n",
              " 'step',\n",
              " 'step',\n",
              " 'mobile',\n",
              " 'phone',\n",
              " 'say',\n",
              " 'mobile',\n",
              " 'phone',\n",
              " 'billing',\n",
              " 'system',\n",
              " 'easy',\n",
              " 'teenager',\n",
              " 'embrace',\n",
              " 'download',\n",
              " 'pre',\n",
              " 'pay',\n",
              " 'card',\n",
              " 'accept',\n",
              " 'age',\n",
              " 'group',\n",
              " 'certainly',\n",
              " 'problem',\n",
              " 'battery',\n",
              " 'memory',\n",
              " 'bandwidth',\n",
              " 'current',\n",
              " 'status',\n",
              " 'potential',\n",
              " 'music',\n",
              " 'mobile',\n",
              " 'man',\n",
              " 'say',\n",
              " 'social',\n",
              " 'interaction',\n",
              " 'mobile',\n",
              " 'music',\n",
              " 'drive',\n",
              " 'market',\n",
              " 'mr',\n",
              " 'cohen',\n",
              " 'say',\n",
              " 'send',\n",
              " 'song',\n",
              " 'bill',\n",
              " 'send',\n",
              " 'listen',\n",
              " 'want',\n",
              " 'bill',\n",
              " 'social',\n",
              " 'phenomenon',\n",
              " 'mr',\n",
              " 'babinet',\n",
              " 'say',\n",
              " 'today',\n",
              " 'use',\n",
              " 'radio',\n",
              " 'tv',\n",
              " 'discover',\n",
              " 'music',\n",
              " 'tomorrow',\n",
              " 'discover',\n",
              " 'consume',\n",
              " 'music',\n",
              " 'device',\n",
              " 'mobile']"
            ]
          },
          "metadata": {},
          "execution_count": 10
        }
      ]
    },
    {
      "cell_type": "markdown",
      "metadata": {
        "id": "wvGZ-eiUdRAB"
      },
      "source": [
        "# 1. Represent a document as a vector (Learn)\n",
        "<a id=\"p1\"></a>"
      ]
    },
    {
      "cell_type": "markdown",
      "metadata": {
        "id": "CSUmQeX5dRAC"
      },
      "source": [
        "## Overview\n",
        "\n",
        "In this section, we are going to create Document Term Matrices (DTM). <br>\n",
        "In the DTM, each row represents a document. The columns correspond to the vocabulary words of the entire corpus of documents. <br>\n",
        "Today, we'll learn three methods of computing the value in each cell. <br>\n",
        "* `CountVectorizer` from `sklearn` provides a basic implementation: counts of appearances of words. You could also ignore multiple occurrences of words in a document, and just keep track of whether or not a word occurs in the document via a boolean value.<br>\n",
        "* `TfidfVectorizer` is a more advanced implementation that keeps track of *term-frequency inverse-document frequency* (TF-IDF) instead of integer counts.\n",
        "\n",
        "* Word embeddings, an even more sophisticated method that helps solve the problem of accounting for the context of a word.\n",
        "\n",
        "**Discussion:** Don't we lose all the context and grammar if we do this? So Why does it work?"
      ]
    },
    {
      "cell_type": "markdown",
      "metadata": {
        "toc-hr-collapsed": true,
        "id": "TQQRch8mdRAD"
      },
      "source": [
        "## Follow Along"
      ]
    },
    {
      "cell_type": "markdown",
      "metadata": {
        "id": "wVIflCt1dRAF"
      },
      "source": [
        "**Warm Up (_3 Minutes_)**\n",
        "\n",
        "Extract the tokens from this sentence using Spacy. Text is from [OpenAI](https://openai.com/blog/better-language-models/)"
      ]
    },
    {
      "cell_type": "code",
      "metadata": {
        "id": "yg63BJ6-dRAG",
        "colab": {
          "base_uri": "https://localhost:8080/"
        },
        "outputId": "1eca9e3b-2cc6-4714-9e02-e111f9193fad"
      },
      "source": [
        "text = \"\"\"\n",
        "GPT-2 displays a broad set of capabilities, including the ability to generate conditional synthetic text samples of unprecedented quality,\n",
        "where we prime the model with an input and have it generate a lengthy continuation. In addition, GPT-2 outperforms other language models\n",
        "trained on specific domains (like Wikipedia, news, or books) without needing to use these domain-specific training datasets. On language\n",
        "tasks like question answering, reading comprehension, summarization, and translation, GPT-2 begins to learn these tasks from the raw text,\n",
        "using no task-specific training data. While scores on these downstream tasks are far from state-of-the-art, they suggest that the tasks\n",
        "can benefit from unsupervised techniques, given sufficient (unlabeled) data and compute.\"\"\"\n",
        "\n",
        "print(f'Number of Words: {len(text.split())}')"
      ],
      "execution_count": 11,
      "outputs": [
        {
          "output_type": "stream",
          "name": "stdout",
          "text": [
            "Number of Words: 110\n"
          ]
        }
      ]
    },
    {
      "cell_type": "code",
      "metadata": {
        "id": "r9rHYGcKRX-n",
        "colab": {
          "base_uri": "https://localhost:8080/"
        },
        "outputId": "16bd9c88-07bd-4197-e945-093aa06a0c48"
      },
      "source": [
        "tokens = tokenize(text)\n",
        "print(f'Number of Words: {len(tokens)}')\n",
        "tokens"
      ],
      "execution_count": 12,
      "outputs": [
        {
          "output_type": "stream",
          "name": "stdout",
          "text": [
            "Number of Words: 73\n"
          ]
        },
        {
          "output_type": "execute_result",
          "data": {
            "text/plain": [
              "['gpt-2',\n",
              " 'display',\n",
              " 'broad',\n",
              " 'set',\n",
              " 'capability',\n",
              " 'include',\n",
              " 'ability',\n",
              " 'generate',\n",
              " 'conditional',\n",
              " 'synthetic',\n",
              " 'text',\n",
              " 'sample',\n",
              " 'unprecedented',\n",
              " 'quality',\n",
              " 'prime',\n",
              " 'model',\n",
              " 'input',\n",
              " 'generate',\n",
              " 'lengthy',\n",
              " 'continuation',\n",
              " 'addition',\n",
              " 'gpt-2',\n",
              " 'outperform',\n",
              " 'language',\n",
              " 'model',\n",
              " 'train',\n",
              " 'specific',\n",
              " 'domain',\n",
              " 'like',\n",
              " 'wikipedia',\n",
              " 'news',\n",
              " 'book',\n",
              " 'need',\n",
              " 'use',\n",
              " 'domain',\n",
              " 'specific',\n",
              " 'training',\n",
              " 'dataset',\n",
              " 'language',\n",
              " 'task',\n",
              " 'like',\n",
              " 'question',\n",
              " 'answering',\n",
              " 'read',\n",
              " 'comprehension',\n",
              " 'summarization',\n",
              " 'translation',\n",
              " 'gpt-2',\n",
              " 'begin',\n",
              " 'learn',\n",
              " 'task',\n",
              " 'raw',\n",
              " 'text',\n",
              " 'task',\n",
              " 'specific',\n",
              " 'training',\n",
              " 'datum',\n",
              " 'score',\n",
              " 'downstream',\n",
              " 'task',\n",
              " 'far',\n",
              " 'state',\n",
              " 'art',\n",
              " 'suggest',\n",
              " 'task',\n",
              " 'benefit',\n",
              " 'unsupervised',\n",
              " 'technique',\n",
              " 'give',\n",
              " 'sufficient',\n",
              " 'unlabele',\n",
              " 'datum',\n",
              " 'compute']"
            ]
          },
          "metadata": {},
          "execution_count": 12
        }
      ]
    },
    {
      "cell_type": "markdown",
      "metadata": {
        "id": "5kJlWC4BdRAK"
      },
      "source": [
        "-----\n",
        "# 1.1 `CountVectorizer`\n",
        "\n",
        "![](https://images4.programmersought.com/947/0a/0acb9279d17a1631bcfb154583cca443.JPEG)"
      ]
    },
    {
      "cell_type": "code",
      "metadata": {
        "nbgrader": {
          "grade": false,
          "grade_id": "cell-c6a74f21ed3917ee",
          "locked": false,
          "schema_version": 3,
          "solution": true,
          "task": false
        },
        "id": "gRM5YA8KdRAK",
        "colab": {
          "base_uri": "https://localhost:8080/"
        },
        "outputId": "79c604e4-b8bb-4dbe-ade1-a8c6c3c0a435"
      },
      "source": [
        "from sklearn.feature_extraction.text import CountVectorizer\n",
        "\n",
        "\n",
        "# list of text documents\n",
        "\n",
        "# create the transformer\n",
        "\n",
        "# build vocab\n",
        "\n",
        "# transform text\n",
        "\n",
        "### BEGIN SOLUTION\n",
        "# a corpus is a collection of text documents, 3 sentences treated as 3 documents\n",
        "corpus = [\"We created a new dataset which emphasizes diversity of content, by scraping content from the Internet.\",\n",
        "          \" In order to preserve document quality, we used only pages which have been curated/filtered by humans—specifically, we used outbound links from Reddit which received at least 3 karma.\",\n",
        "          \" This can be thought of as a heuristic indicator for whether other users found the link interesting (whether educational or funny), leading to higher data quality than other similar datasets, such as CommonCrawl.\"]\n",
        "\n",
        "# create the transformer, instantiate the CountVectorizer class\n",
        "vect = CountVectorizer()\n",
        "\n",
        "# build vocabulary, fitting our corpus\n",
        "vect.fit(corpus)\n",
        "\n",
        "# transform text to create the document-term matrix (DTM)\n",
        "dtm = vect.transform(corpus)\n",
        "dtm\n",
        "\n",
        "### END SOLUTION"
      ],
      "execution_count": 13,
      "outputs": [
        {
          "output_type": "execute_result",
          "data": {
            "text/plain": [
              "<3x61 sparse matrix of type '<class 'numpy.int64'>'\n",
              "\twith 69 stored elements in Compressed Sparse Row format>"
            ]
          },
          "metadata": {},
          "execution_count": 13
        }
      ]
    },
    {
      "cell_type": "markdown",
      "source": [
        "3x61 means 3 rows, 3 documents, and 61 columns, 61 unique words in our vocab"
      ],
      "metadata": {
        "id": "X0zNpZsABVbT"
      }
    },
    {
      "cell_type": "code",
      "metadata": {
        "nbgrader": {
          "grade": false,
          "grade_id": "cell-93323028a4bfd7e7",
          "locked": false,
          "schema_version": 3,
          "solution": true,
          "task": false
        },
        "scrolled": true,
        "id": "YGKln3xLdRAL",
        "colab": {
          "base_uri": "https://localhost:8080/"
        },
        "outputId": "235efe2c-117a-40a2-f5d2-7f80885775fb"
      },
      "source": [
        "# explore the document-term matrix\n",
        "\n",
        "# Get feature names\n",
        "\n",
        "# print out raw text for comparison with  indexing\n",
        "\n",
        "# show indexing of token count\n",
        "\n",
        "# Dealing with Sparse Matrix\n",
        "\n",
        "# Get Word Counts for each document\n",
        "\n",
        "### BEGIN SOLUTION\n",
        "\n",
        "# Get feature names -- this is the \"vocablulary\" for the corpus, to get the 61 unique words\n",
        "print(vect.get_feature_names_out())"
      ],
      "execution_count": 15,
      "outputs": [
        {
          "output_type": "stream",
          "name": "stdout",
          "text": [
            "['as' 'at' 'be' 'been' 'by' 'can' 'commoncrawl' 'content' 'created'\n",
            " 'curated' 'data' 'dataset' 'datasets' 'diversity' 'document'\n",
            " 'educational' 'emphasizes' 'filtered' 'for' 'found' 'from' 'funny' 'have'\n",
            " 'heuristic' 'higher' 'humans' 'in' 'indicator' 'interesting' 'internet'\n",
            " 'karma' 'leading' 'least' 'link' 'links' 'new' 'of' 'only' 'or' 'order'\n",
            " 'other' 'outbound' 'pages' 'preserve' 'quality' 'received' 'reddit'\n",
            " 'scraping' 'similar' 'specifically' 'such' 'than' 'the' 'this' 'thought'\n",
            " 'to' 'used' 'users' 'we' 'whether' 'which']\n"
          ]
        }
      ]
    },
    {
      "cell_type": "code",
      "metadata": {
        "id": "mcTytc3-kKIm",
        "colab": {
          "base_uri": "https://localhost:8080/"
        },
        "outputId": "672acffa-ef92-43db-ce83-872b22f4bf82"
      },
      "source": [
        "# explore the document-term matrix and understand it's structure, format of a sparse matrix\n",
        "# It basically reads: In our 0th document, 4th word, aka \"been\", has appeared 1 time\n",
        "# for all the missing indices in the matrix, those numbers are zeros, that's how compressed sparse format works, we aren't storing 3*61=183 elements but only 69 elements here\n",
        "print(dtm)"
      ],
      "execution_count": 18,
      "outputs": [
        {
          "output_type": "stream",
          "name": "stdout",
          "text": [
            "  (0, 4)\t1\n",
            "  (0, 7)\t2\n",
            "  (0, 8)\t1\n",
            "  (0, 11)\t1\n",
            "  (0, 13)\t1\n",
            "  (0, 16)\t1\n",
            "  (0, 20)\t1\n",
            "  (0, 29)\t1\n",
            "  (0, 35)\t1\n",
            "  (0, 36)\t1\n",
            "  (0, 47)\t1\n",
            "  (0, 52)\t1\n",
            "  (0, 58)\t1\n",
            "  (0, 60)\t1\n",
            "  (1, 1)\t1\n",
            "  (1, 3)\t1\n",
            "  (1, 4)\t1\n",
            "  (1, 9)\t1\n",
            "  (1, 14)\t1\n",
            "  (1, 17)\t1\n",
            "  (1, 20)\t1\n",
            "  (1, 22)\t1\n",
            "  (1, 25)\t1\n",
            "  (1, 26)\t1\n",
            "  (1, 30)\t1\n",
            "  :\t:\n",
            "  (2, 10)\t1\n",
            "  (2, 12)\t1\n",
            "  (2, 15)\t1\n",
            "  (2, 18)\t1\n",
            "  (2, 19)\t1\n",
            "  (2, 21)\t1\n",
            "  (2, 23)\t1\n",
            "  (2, 24)\t1\n",
            "  (2, 27)\t1\n",
            "  (2, 28)\t1\n",
            "  (2, 31)\t1\n",
            "  (2, 33)\t1\n",
            "  (2, 36)\t1\n",
            "  (2, 38)\t1\n",
            "  (2, 40)\t2\n",
            "  (2, 44)\t1\n",
            "  (2, 48)\t1\n",
            "  (2, 50)\t1\n",
            "  (2, 51)\t1\n",
            "  (2, 52)\t1\n",
            "  (2, 53)\t1\n",
            "  (2, 54)\t1\n",
            "  (2, 55)\t1\n",
            "  (2, 57)\t1\n",
            "  (2, 59)\t2\n"
          ]
        }
      ]
    },
    {
      "cell_type": "code",
      "metadata": {
        "id": "99utB63ckHZO",
        "colab": {
          "base_uri": "https://localhost:8080/"
        },
        "outputId": "5c963acf-87d0-4843-de65-e3901696255d"
      },
      "source": [
        "dtm.todense() # dense format filling in all zeros"
      ],
      "execution_count": 19,
      "outputs": [
        {
          "output_type": "execute_result",
          "data": {
            "text/plain": [
              "matrix([[0, 0, 0, 0, 1, 0, 0, 2, 1, 0, 0, 1, 0, 1, 0, 0, 1, 0, 0, 0, 1,\n",
              "         0, 0, 0, 0, 0, 0, 0, 0, 1, 0, 0, 0, 0, 0, 1, 1, 0, 0, 0, 0, 0,\n",
              "         0, 0, 0, 0, 0, 1, 0, 0, 0, 0, 1, 0, 0, 0, 0, 0, 1, 0, 1],\n",
              "        [0, 1, 0, 1, 1, 0, 0, 0, 0, 1, 0, 0, 0, 0, 1, 0, 0, 1, 0, 0, 1,\n",
              "         0, 1, 0, 0, 1, 1, 0, 0, 0, 1, 0, 1, 0, 1, 0, 0, 1, 0, 1, 0, 1,\n",
              "         1, 1, 1, 1, 1, 0, 0, 1, 0, 0, 0, 0, 0, 1, 2, 0, 2, 0, 2],\n",
              "        [2, 0, 1, 0, 0, 1, 1, 0, 0, 0, 1, 0, 1, 0, 0, 1, 0, 0, 1, 1, 0,\n",
              "         1, 0, 1, 1, 0, 0, 1, 1, 0, 0, 1, 0, 1, 0, 0, 1, 0, 1, 0, 2, 0,\n",
              "         0, 0, 1, 0, 0, 0, 1, 0, 1, 1, 1, 1, 1, 1, 0, 1, 0, 2, 0]])"
            ]
          },
          "metadata": {},
          "execution_count": 19
        }
      ]
    },
    {
      "cell_type": "code",
      "metadata": {
        "id": "xBq6oeR-FhIW",
        "colab": {
          "base_uri": "https://localhost:8080/",
          "height": 190
        },
        "outputId": "6c48afeb-28ce-43c2-905e-6b8f0db283d8"
      },
      "source": [
        "# Get Word Counts for each document and format as a dataframe\n",
        "dtm = pd.DataFrame(dtm.todense(), columns=vect.get_feature_names_out())\n",
        "print(dtm.shape)\n",
        "dtm.head()\n",
        "### END SOLUTION"
      ],
      "execution_count": 20,
      "outputs": [
        {
          "output_type": "stream",
          "name": "stdout",
          "text": [
            "(3, 61)\n"
          ]
        },
        {
          "output_type": "execute_result",
          "data": {
            "text/plain": [
              "   as  at  be  been  by  can  commoncrawl  content  created  curated  ...  \\\n",
              "0   0   0   0     0   1    0            0        2        1        0  ...   \n",
              "1   0   1   0     1   1    0            0        0        0        1  ...   \n",
              "2   2   0   1     0   0    1            1        0        0        0  ...   \n",
              "\n",
              "   than  the  this  thought  to  used  users  we  whether  which  \n",
              "0     0    1     0        0   0     0      0   1        0      1  \n",
              "1     0    0     0        0   1     2      0   2        0      2  \n",
              "2     1    1     1        1   1     0      1   0        2      0  \n",
              "\n",
              "[3 rows x 61 columns]"
            ],
            "text/html": [
              "\n",
              "  <div id=\"df-c1421e97-b4e2-4786-9103-c5c0e9cab720\" class=\"colab-df-container\">\n",
              "    <div>\n",
              "<style scoped>\n",
              "    .dataframe tbody tr th:only-of-type {\n",
              "        vertical-align: middle;\n",
              "    }\n",
              "\n",
              "    .dataframe tbody tr th {\n",
              "        vertical-align: top;\n",
              "    }\n",
              "\n",
              "    .dataframe thead th {\n",
              "        text-align: right;\n",
              "    }\n",
              "</style>\n",
              "<table border=\"1\" class=\"dataframe\">\n",
              "  <thead>\n",
              "    <tr style=\"text-align: right;\">\n",
              "      <th></th>\n",
              "      <th>as</th>\n",
              "      <th>at</th>\n",
              "      <th>be</th>\n",
              "      <th>been</th>\n",
              "      <th>by</th>\n",
              "      <th>can</th>\n",
              "      <th>commoncrawl</th>\n",
              "      <th>content</th>\n",
              "      <th>created</th>\n",
              "      <th>curated</th>\n",
              "      <th>...</th>\n",
              "      <th>than</th>\n",
              "      <th>the</th>\n",
              "      <th>this</th>\n",
              "      <th>thought</th>\n",
              "      <th>to</th>\n",
              "      <th>used</th>\n",
              "      <th>users</th>\n",
              "      <th>we</th>\n",
              "      <th>whether</th>\n",
              "      <th>which</th>\n",
              "    </tr>\n",
              "  </thead>\n",
              "  <tbody>\n",
              "    <tr>\n",
              "      <th>0</th>\n",
              "      <td>0</td>\n",
              "      <td>0</td>\n",
              "      <td>0</td>\n",
              "      <td>0</td>\n",
              "      <td>1</td>\n",
              "      <td>0</td>\n",
              "      <td>0</td>\n",
              "      <td>2</td>\n",
              "      <td>1</td>\n",
              "      <td>0</td>\n",
              "      <td>...</td>\n",
              "      <td>0</td>\n",
              "      <td>1</td>\n",
              "      <td>0</td>\n",
              "      <td>0</td>\n",
              "      <td>0</td>\n",
              "      <td>0</td>\n",
              "      <td>0</td>\n",
              "      <td>1</td>\n",
              "      <td>0</td>\n",
              "      <td>1</td>\n",
              "    </tr>\n",
              "    <tr>\n",
              "      <th>1</th>\n",
              "      <td>0</td>\n",
              "      <td>1</td>\n",
              "      <td>0</td>\n",
              "      <td>1</td>\n",
              "      <td>1</td>\n",
              "      <td>0</td>\n",
              "      <td>0</td>\n",
              "      <td>0</td>\n",
              "      <td>0</td>\n",
              "      <td>1</td>\n",
              "      <td>...</td>\n",
              "      <td>0</td>\n",
              "      <td>0</td>\n",
              "      <td>0</td>\n",
              "      <td>0</td>\n",
              "      <td>1</td>\n",
              "      <td>2</td>\n",
              "      <td>0</td>\n",
              "      <td>2</td>\n",
              "      <td>0</td>\n",
              "      <td>2</td>\n",
              "    </tr>\n",
              "    <tr>\n",
              "      <th>2</th>\n",
              "      <td>2</td>\n",
              "      <td>0</td>\n",
              "      <td>1</td>\n",
              "      <td>0</td>\n",
              "      <td>0</td>\n",
              "      <td>1</td>\n",
              "      <td>1</td>\n",
              "      <td>0</td>\n",
              "      <td>0</td>\n",
              "      <td>0</td>\n",
              "      <td>...</td>\n",
              "      <td>1</td>\n",
              "      <td>1</td>\n",
              "      <td>1</td>\n",
              "      <td>1</td>\n",
              "      <td>1</td>\n",
              "      <td>0</td>\n",
              "      <td>1</td>\n",
              "      <td>0</td>\n",
              "      <td>2</td>\n",
              "      <td>0</td>\n",
              "    </tr>\n",
              "  </tbody>\n",
              "</table>\n",
              "<p>3 rows × 61 columns</p>\n",
              "</div>\n",
              "    <div class=\"colab-df-buttons\">\n",
              "\n",
              "  <div class=\"colab-df-container\">\n",
              "    <button class=\"colab-df-convert\" onclick=\"convertToInteractive('df-c1421e97-b4e2-4786-9103-c5c0e9cab720')\"\n",
              "            title=\"Convert this dataframe to an interactive table.\"\n",
              "            style=\"display:none;\">\n",
              "\n",
              "  <svg xmlns=\"http://www.w3.org/2000/svg\" height=\"24px\" viewBox=\"0 -960 960 960\">\n",
              "    <path d=\"M120-120v-720h720v720H120Zm60-500h600v-160H180v160Zm220 220h160v-160H400v160Zm0 220h160v-160H400v160ZM180-400h160v-160H180v160Zm440 0h160v-160H620v160ZM180-180h160v-160H180v160Zm440 0h160v-160H620v160Z\"/>\n",
              "  </svg>\n",
              "    </button>\n",
              "\n",
              "  <style>\n",
              "    .colab-df-container {\n",
              "      display:flex;\n",
              "      gap: 12px;\n",
              "    }\n",
              "\n",
              "    .colab-df-convert {\n",
              "      background-color: #E8F0FE;\n",
              "      border: none;\n",
              "      border-radius: 50%;\n",
              "      cursor: pointer;\n",
              "      display: none;\n",
              "      fill: #1967D2;\n",
              "      height: 32px;\n",
              "      padding: 0 0 0 0;\n",
              "      width: 32px;\n",
              "    }\n",
              "\n",
              "    .colab-df-convert:hover {\n",
              "      background-color: #E2EBFA;\n",
              "      box-shadow: 0px 1px 2px rgba(60, 64, 67, 0.3), 0px 1px 3px 1px rgba(60, 64, 67, 0.15);\n",
              "      fill: #174EA6;\n",
              "    }\n",
              "\n",
              "    .colab-df-buttons div {\n",
              "      margin-bottom: 4px;\n",
              "    }\n",
              "\n",
              "    [theme=dark] .colab-df-convert {\n",
              "      background-color: #3B4455;\n",
              "      fill: #D2E3FC;\n",
              "    }\n",
              "\n",
              "    [theme=dark] .colab-df-convert:hover {\n",
              "      background-color: #434B5C;\n",
              "      box-shadow: 0px 1px 3px 1px rgba(0, 0, 0, 0.15);\n",
              "      filter: drop-shadow(0px 1px 2px rgba(0, 0, 0, 0.3));\n",
              "      fill: #FFFFFF;\n",
              "    }\n",
              "  </style>\n",
              "\n",
              "    <script>\n",
              "      const buttonEl =\n",
              "        document.querySelector('#df-c1421e97-b4e2-4786-9103-c5c0e9cab720 button.colab-df-convert');\n",
              "      buttonEl.style.display =\n",
              "        google.colab.kernel.accessAllowed ? 'block' : 'none';\n",
              "\n",
              "      async function convertToInteractive(key) {\n",
              "        const element = document.querySelector('#df-c1421e97-b4e2-4786-9103-c5c0e9cab720');\n",
              "        const dataTable =\n",
              "          await google.colab.kernel.invokeFunction('convertToInteractive',\n",
              "                                                    [key], {});\n",
              "        if (!dataTable) return;\n",
              "\n",
              "        const docLinkHtml = 'Like what you see? Visit the ' +\n",
              "          '<a target=\"_blank\" href=https://colab.research.google.com/notebooks/data_table.ipynb>data table notebook</a>'\n",
              "          + ' to learn more about interactive tables.';\n",
              "        element.innerHTML = '';\n",
              "        dataTable['output_type'] = 'display_data';\n",
              "        await google.colab.output.renderOutput(dataTable, element);\n",
              "        const docLink = document.createElement('div');\n",
              "        docLink.innerHTML = docLinkHtml;\n",
              "        element.appendChild(docLink);\n",
              "      }\n",
              "    </script>\n",
              "  </div>\n",
              "\n",
              "\n",
              "<div id=\"df-ca652662-a6b5-4d62-990a-01f3194be43f\">\n",
              "  <button class=\"colab-df-quickchart\" onclick=\"quickchart('df-ca652662-a6b5-4d62-990a-01f3194be43f')\"\n",
              "            title=\"Suggest charts\"\n",
              "            style=\"display:none;\">\n",
              "\n",
              "<svg xmlns=\"http://www.w3.org/2000/svg\" height=\"24px\"viewBox=\"0 0 24 24\"\n",
              "     width=\"24px\">\n",
              "    <g>\n",
              "        <path d=\"M19 3H5c-1.1 0-2 .9-2 2v14c0 1.1.9 2 2 2h14c1.1 0 2-.9 2-2V5c0-1.1-.9-2-2-2zM9 17H7v-7h2v7zm4 0h-2V7h2v10zm4 0h-2v-4h2v4z\"/>\n",
              "    </g>\n",
              "</svg>\n",
              "  </button>\n",
              "\n",
              "<style>\n",
              "  .colab-df-quickchart {\n",
              "      --bg-color: #E8F0FE;\n",
              "      --fill-color: #1967D2;\n",
              "      --hover-bg-color: #E2EBFA;\n",
              "      --hover-fill-color: #174EA6;\n",
              "      --disabled-fill-color: #AAA;\n",
              "      --disabled-bg-color: #DDD;\n",
              "  }\n",
              "\n",
              "  [theme=dark] .colab-df-quickchart {\n",
              "      --bg-color: #3B4455;\n",
              "      --fill-color: #D2E3FC;\n",
              "      --hover-bg-color: #434B5C;\n",
              "      --hover-fill-color: #FFFFFF;\n",
              "      --disabled-bg-color: #3B4455;\n",
              "      --disabled-fill-color: #666;\n",
              "  }\n",
              "\n",
              "  .colab-df-quickchart {\n",
              "    background-color: var(--bg-color);\n",
              "    border: none;\n",
              "    border-radius: 50%;\n",
              "    cursor: pointer;\n",
              "    display: none;\n",
              "    fill: var(--fill-color);\n",
              "    height: 32px;\n",
              "    padding: 0;\n",
              "    width: 32px;\n",
              "  }\n",
              "\n",
              "  .colab-df-quickchart:hover {\n",
              "    background-color: var(--hover-bg-color);\n",
              "    box-shadow: 0 1px 2px rgba(60, 64, 67, 0.3), 0 1px 3px 1px rgba(60, 64, 67, 0.15);\n",
              "    fill: var(--button-hover-fill-color);\n",
              "  }\n",
              "\n",
              "  .colab-df-quickchart-complete:disabled,\n",
              "  .colab-df-quickchart-complete:disabled:hover {\n",
              "    background-color: var(--disabled-bg-color);\n",
              "    fill: var(--disabled-fill-color);\n",
              "    box-shadow: none;\n",
              "  }\n",
              "\n",
              "  .colab-df-spinner {\n",
              "    border: 2px solid var(--fill-color);\n",
              "    border-color: transparent;\n",
              "    border-bottom-color: var(--fill-color);\n",
              "    animation:\n",
              "      spin 1s steps(1) infinite;\n",
              "  }\n",
              "\n",
              "  @keyframes spin {\n",
              "    0% {\n",
              "      border-color: transparent;\n",
              "      border-bottom-color: var(--fill-color);\n",
              "      border-left-color: var(--fill-color);\n",
              "    }\n",
              "    20% {\n",
              "      border-color: transparent;\n",
              "      border-left-color: var(--fill-color);\n",
              "      border-top-color: var(--fill-color);\n",
              "    }\n",
              "    30% {\n",
              "      border-color: transparent;\n",
              "      border-left-color: var(--fill-color);\n",
              "      border-top-color: var(--fill-color);\n",
              "      border-right-color: var(--fill-color);\n",
              "    }\n",
              "    40% {\n",
              "      border-color: transparent;\n",
              "      border-right-color: var(--fill-color);\n",
              "      border-top-color: var(--fill-color);\n",
              "    }\n",
              "    60% {\n",
              "      border-color: transparent;\n",
              "      border-right-color: var(--fill-color);\n",
              "    }\n",
              "    80% {\n",
              "      border-color: transparent;\n",
              "      border-right-color: var(--fill-color);\n",
              "      border-bottom-color: var(--fill-color);\n",
              "    }\n",
              "    90% {\n",
              "      border-color: transparent;\n",
              "      border-bottom-color: var(--fill-color);\n",
              "    }\n",
              "  }\n",
              "</style>\n",
              "\n",
              "  <script>\n",
              "    async function quickchart(key) {\n",
              "      const quickchartButtonEl =\n",
              "        document.querySelector('#' + key + ' button');\n",
              "      quickchartButtonEl.disabled = true;  // To prevent multiple clicks.\n",
              "      quickchartButtonEl.classList.add('colab-df-spinner');\n",
              "      try {\n",
              "        const charts = await google.colab.kernel.invokeFunction(\n",
              "            'suggestCharts', [key], {});\n",
              "      } catch (error) {\n",
              "        console.error('Error during call to suggestCharts:', error);\n",
              "      }\n",
              "      quickchartButtonEl.classList.remove('colab-df-spinner');\n",
              "      quickchartButtonEl.classList.add('colab-df-quickchart-complete');\n",
              "    }\n",
              "    (() => {\n",
              "      let quickchartButtonEl =\n",
              "        document.querySelector('#df-ca652662-a6b5-4d62-990a-01f3194be43f button');\n",
              "      quickchartButtonEl.style.display =\n",
              "        google.colab.kernel.accessAllowed ? 'block' : 'none';\n",
              "    })();\n",
              "  </script>\n",
              "</div>\n",
              "\n",
              "    </div>\n",
              "  </div>\n"
            ],
            "application/vnd.google.colaboratory.intrinsic+json": {
              "type": "dataframe"
            }
          },
          "metadata": {},
          "execution_count": 20
        }
      ]
    },
    {
      "cell_type": "code",
      "metadata": {
        "id": "dg3lw6qok5wR"
      },
      "source": [
        "dtm_new"
      ],
      "execution_count": null,
      "outputs": []
    },
    {
      "cell_type": "markdown",
      "metadata": {
        "id": "DJWsLvkXdRAL"
      },
      "source": [
        "**Three Minute Challenge:**\n",
        "* Apply CountVectorizer to our BBC Data\n",
        "* Store results in a dataframe called `dtm`\n",
        "* Extra Challenge - Try to Customize CountVectorizer with Spacy Processing"
      ]
    },
    {
      "cell_type": "code",
      "metadata": {
        "nbgrader": {
          "grade": false,
          "grade_id": "cell-3a7cd500efe1978b",
          "locked": false,
          "schema_version": 3,
          "solution": true,
          "task": false
        },
        "id": "0LQrT4qydRAL",
        "colab": {
          "base_uri": "https://localhost:8080/",
          "height": 253
        },
        "outputId": "d711294d-7e6c-4b76-f714-72371115d29f"
      },
      "source": [
        "# Apply CountVectorizer to our Data\n",
        "# Use custom Spacy Vectorizer\n",
        "# BBC articles in `data` variable\n",
        "\n",
        "from sklearn.feature_extraction.text import CountVectorizer\n",
        "\n",
        "# Learn our Vocab\n",
        "# Get sparse dtm (i.e. transform the data)\n",
        "\n",
        "### BEGIN SOLUTION\n",
        "# Instantiate our class\n",
        "vect = CountVectorizer()\n",
        "\n",
        "# Learn our Vocab\n",
        "vect.fit(data)\n",
        "\n",
        "# Transform the BBC news articles\n",
        "dtm = vect.transform(data)\n",
        "dtm = pd.DataFrame(dtm.todense(), columns=vect.get_feature_names_out())\n",
        "print(dtm.shape)\n",
        "dtm.head()\n"
      ],
      "execution_count": 21,
      "outputs": [
        {
          "output_type": "stream",
          "name": "stdout",
          "text": [
            "(401, 12098)\n"
          ]
        },
        {
          "output_type": "execute_result",
          "data": {
            "text/plain": [
              "   00  000  000s  0051  007  01  028  04m  05  0530  ...  zip  zodiac  zombie  \\\n",
              "0   0    0     0     0    0   0    0    0   0     0  ...    0       0       0   \n",
              "1   0    0     0     0    0   0    0    0   0     0  ...    0       0       0   \n",
              "2   0    1     0     0    0   0    0    0   0     0  ...    0       0       0   \n",
              "3   0    0     0     0    0   0    0    0   0     0  ...    0       0       0   \n",
              "4   0    2     0     0    0   0    0    0   0     0  ...    0       0       0   \n",
              "\n",
              "   zombies  zone  zonealarm  zones  zoom  zooms  zurich  \n",
              "0        0     0          0      0     0      0       0  \n",
              "1        0     0          0      0     0      0       0  \n",
              "2        0     0          0      0     0      0       0  \n",
              "3        0     0          0      0     0      0       0  \n",
              "4        0     0          0      0     0      0       0  \n",
              "\n",
              "[5 rows x 12098 columns]"
            ],
            "text/html": [
              "\n",
              "  <div id=\"df-34f39ce8-df50-44e3-9af7-dc26fcd334fc\" class=\"colab-df-container\">\n",
              "    <div>\n",
              "<style scoped>\n",
              "    .dataframe tbody tr th:only-of-type {\n",
              "        vertical-align: middle;\n",
              "    }\n",
              "\n",
              "    .dataframe tbody tr th {\n",
              "        vertical-align: top;\n",
              "    }\n",
              "\n",
              "    .dataframe thead th {\n",
              "        text-align: right;\n",
              "    }\n",
              "</style>\n",
              "<table border=\"1\" class=\"dataframe\">\n",
              "  <thead>\n",
              "    <tr style=\"text-align: right;\">\n",
              "      <th></th>\n",
              "      <th>00</th>\n",
              "      <th>000</th>\n",
              "      <th>000s</th>\n",
              "      <th>0051</th>\n",
              "      <th>007</th>\n",
              "      <th>01</th>\n",
              "      <th>028</th>\n",
              "      <th>04m</th>\n",
              "      <th>05</th>\n",
              "      <th>0530</th>\n",
              "      <th>...</th>\n",
              "      <th>zip</th>\n",
              "      <th>zodiac</th>\n",
              "      <th>zombie</th>\n",
              "      <th>zombies</th>\n",
              "      <th>zone</th>\n",
              "      <th>zonealarm</th>\n",
              "      <th>zones</th>\n",
              "      <th>zoom</th>\n",
              "      <th>zooms</th>\n",
              "      <th>zurich</th>\n",
              "    </tr>\n",
              "  </thead>\n",
              "  <tbody>\n",
              "    <tr>\n",
              "      <th>0</th>\n",
              "      <td>0</td>\n",
              "      <td>0</td>\n",
              "      <td>0</td>\n",
              "      <td>0</td>\n",
              "      <td>0</td>\n",
              "      <td>0</td>\n",
              "      <td>0</td>\n",
              "      <td>0</td>\n",
              "      <td>0</td>\n",
              "      <td>0</td>\n",
              "      <td>...</td>\n",
              "      <td>0</td>\n",
              "      <td>0</td>\n",
              "      <td>0</td>\n",
              "      <td>0</td>\n",
              "      <td>0</td>\n",
              "      <td>0</td>\n",
              "      <td>0</td>\n",
              "      <td>0</td>\n",
              "      <td>0</td>\n",
              "      <td>0</td>\n",
              "    </tr>\n",
              "    <tr>\n",
              "      <th>1</th>\n",
              "      <td>0</td>\n",
              "      <td>0</td>\n",
              "      <td>0</td>\n",
              "      <td>0</td>\n",
              "      <td>0</td>\n",
              "      <td>0</td>\n",
              "      <td>0</td>\n",
              "      <td>0</td>\n",
              "      <td>0</td>\n",
              "      <td>0</td>\n",
              "      <td>...</td>\n",
              "      <td>0</td>\n",
              "      <td>0</td>\n",
              "      <td>0</td>\n",
              "      <td>0</td>\n",
              "      <td>0</td>\n",
              "      <td>0</td>\n",
              "      <td>0</td>\n",
              "      <td>0</td>\n",
              "      <td>0</td>\n",
              "      <td>0</td>\n",
              "    </tr>\n",
              "    <tr>\n",
              "      <th>2</th>\n",
              "      <td>0</td>\n",
              "      <td>1</td>\n",
              "      <td>0</td>\n",
              "      <td>0</td>\n",
              "      <td>0</td>\n",
              "      <td>0</td>\n",
              "      <td>0</td>\n",
              "      <td>0</td>\n",
              "      <td>0</td>\n",
              "      <td>0</td>\n",
              "      <td>...</td>\n",
              "      <td>0</td>\n",
              "      <td>0</td>\n",
              "      <td>0</td>\n",
              "      <td>0</td>\n",
              "      <td>0</td>\n",
              "      <td>0</td>\n",
              "      <td>0</td>\n",
              "      <td>0</td>\n",
              "      <td>0</td>\n",
              "      <td>0</td>\n",
              "    </tr>\n",
              "    <tr>\n",
              "      <th>3</th>\n",
              "      <td>0</td>\n",
              "      <td>0</td>\n",
              "      <td>0</td>\n",
              "      <td>0</td>\n",
              "      <td>0</td>\n",
              "      <td>0</td>\n",
              "      <td>0</td>\n",
              "      <td>0</td>\n",
              "      <td>0</td>\n",
              "      <td>0</td>\n",
              "      <td>...</td>\n",
              "      <td>0</td>\n",
              "      <td>0</td>\n",
              "      <td>0</td>\n",
              "      <td>0</td>\n",
              "      <td>0</td>\n",
              "      <td>0</td>\n",
              "      <td>0</td>\n",
              "      <td>0</td>\n",
              "      <td>0</td>\n",
              "      <td>0</td>\n",
              "    </tr>\n",
              "    <tr>\n",
              "      <th>4</th>\n",
              "      <td>0</td>\n",
              "      <td>2</td>\n",
              "      <td>0</td>\n",
              "      <td>0</td>\n",
              "      <td>0</td>\n",
              "      <td>0</td>\n",
              "      <td>0</td>\n",
              "      <td>0</td>\n",
              "      <td>0</td>\n",
              "      <td>0</td>\n",
              "      <td>...</td>\n",
              "      <td>0</td>\n",
              "      <td>0</td>\n",
              "      <td>0</td>\n",
              "      <td>0</td>\n",
              "      <td>0</td>\n",
              "      <td>0</td>\n",
              "      <td>0</td>\n",
              "      <td>0</td>\n",
              "      <td>0</td>\n",
              "      <td>0</td>\n",
              "    </tr>\n",
              "  </tbody>\n",
              "</table>\n",
              "<p>5 rows × 12098 columns</p>\n",
              "</div>\n",
              "    <div class=\"colab-df-buttons\">\n",
              "\n",
              "  <div class=\"colab-df-container\">\n",
              "    <button class=\"colab-df-convert\" onclick=\"convertToInteractive('df-34f39ce8-df50-44e3-9af7-dc26fcd334fc')\"\n",
              "            title=\"Convert this dataframe to an interactive table.\"\n",
              "            style=\"display:none;\">\n",
              "\n",
              "  <svg xmlns=\"http://www.w3.org/2000/svg\" height=\"24px\" viewBox=\"0 -960 960 960\">\n",
              "    <path d=\"M120-120v-720h720v720H120Zm60-500h600v-160H180v160Zm220 220h160v-160H400v160Zm0 220h160v-160H400v160ZM180-400h160v-160H180v160Zm440 0h160v-160H620v160ZM180-180h160v-160H180v160Zm440 0h160v-160H620v160Z\"/>\n",
              "  </svg>\n",
              "    </button>\n",
              "\n",
              "  <style>\n",
              "    .colab-df-container {\n",
              "      display:flex;\n",
              "      gap: 12px;\n",
              "    }\n",
              "\n",
              "    .colab-df-convert {\n",
              "      background-color: #E8F0FE;\n",
              "      border: none;\n",
              "      border-radius: 50%;\n",
              "      cursor: pointer;\n",
              "      display: none;\n",
              "      fill: #1967D2;\n",
              "      height: 32px;\n",
              "      padding: 0 0 0 0;\n",
              "      width: 32px;\n",
              "    }\n",
              "\n",
              "    .colab-df-convert:hover {\n",
              "      background-color: #E2EBFA;\n",
              "      box-shadow: 0px 1px 2px rgba(60, 64, 67, 0.3), 0px 1px 3px 1px rgba(60, 64, 67, 0.15);\n",
              "      fill: #174EA6;\n",
              "    }\n",
              "\n",
              "    .colab-df-buttons div {\n",
              "      margin-bottom: 4px;\n",
              "    }\n",
              "\n",
              "    [theme=dark] .colab-df-convert {\n",
              "      background-color: #3B4455;\n",
              "      fill: #D2E3FC;\n",
              "    }\n",
              "\n",
              "    [theme=dark] .colab-df-convert:hover {\n",
              "      background-color: #434B5C;\n",
              "      box-shadow: 0px 1px 3px 1px rgba(0, 0, 0, 0.15);\n",
              "      filter: drop-shadow(0px 1px 2px rgba(0, 0, 0, 0.3));\n",
              "      fill: #FFFFFF;\n",
              "    }\n",
              "  </style>\n",
              "\n",
              "    <script>\n",
              "      const buttonEl =\n",
              "        document.querySelector('#df-34f39ce8-df50-44e3-9af7-dc26fcd334fc button.colab-df-convert');\n",
              "      buttonEl.style.display =\n",
              "        google.colab.kernel.accessAllowed ? 'block' : 'none';\n",
              "\n",
              "      async function convertToInteractive(key) {\n",
              "        const element = document.querySelector('#df-34f39ce8-df50-44e3-9af7-dc26fcd334fc');\n",
              "        const dataTable =\n",
              "          await google.colab.kernel.invokeFunction('convertToInteractive',\n",
              "                                                    [key], {});\n",
              "        if (!dataTable) return;\n",
              "\n",
              "        const docLinkHtml = 'Like what you see? Visit the ' +\n",
              "          '<a target=\"_blank\" href=https://colab.research.google.com/notebooks/data_table.ipynb>data table notebook</a>'\n",
              "          + ' to learn more about interactive tables.';\n",
              "        element.innerHTML = '';\n",
              "        dataTable['output_type'] = 'display_data';\n",
              "        await google.colab.output.renderOutput(dataTable, element);\n",
              "        const docLink = document.createElement('div');\n",
              "        docLink.innerHTML = docLinkHtml;\n",
              "        element.appendChild(docLink);\n",
              "      }\n",
              "    </script>\n",
              "  </div>\n",
              "\n",
              "\n",
              "<div id=\"df-f71f1e3c-5a2c-412a-851b-83f331c04fd6\">\n",
              "  <button class=\"colab-df-quickchart\" onclick=\"quickchart('df-f71f1e3c-5a2c-412a-851b-83f331c04fd6')\"\n",
              "            title=\"Suggest charts\"\n",
              "            style=\"display:none;\">\n",
              "\n",
              "<svg xmlns=\"http://www.w3.org/2000/svg\" height=\"24px\"viewBox=\"0 0 24 24\"\n",
              "     width=\"24px\">\n",
              "    <g>\n",
              "        <path d=\"M19 3H5c-1.1 0-2 .9-2 2v14c0 1.1.9 2 2 2h14c1.1 0 2-.9 2-2V5c0-1.1-.9-2-2-2zM9 17H7v-7h2v7zm4 0h-2V7h2v10zm4 0h-2v-4h2v4z\"/>\n",
              "    </g>\n",
              "</svg>\n",
              "  </button>\n",
              "\n",
              "<style>\n",
              "  .colab-df-quickchart {\n",
              "      --bg-color: #E8F0FE;\n",
              "      --fill-color: #1967D2;\n",
              "      --hover-bg-color: #E2EBFA;\n",
              "      --hover-fill-color: #174EA6;\n",
              "      --disabled-fill-color: #AAA;\n",
              "      --disabled-bg-color: #DDD;\n",
              "  }\n",
              "\n",
              "  [theme=dark] .colab-df-quickchart {\n",
              "      --bg-color: #3B4455;\n",
              "      --fill-color: #D2E3FC;\n",
              "      --hover-bg-color: #434B5C;\n",
              "      --hover-fill-color: #FFFFFF;\n",
              "      --disabled-bg-color: #3B4455;\n",
              "      --disabled-fill-color: #666;\n",
              "  }\n",
              "\n",
              "  .colab-df-quickchart {\n",
              "    background-color: var(--bg-color);\n",
              "    border: none;\n",
              "    border-radius: 50%;\n",
              "    cursor: pointer;\n",
              "    display: none;\n",
              "    fill: var(--fill-color);\n",
              "    height: 32px;\n",
              "    padding: 0;\n",
              "    width: 32px;\n",
              "  }\n",
              "\n",
              "  .colab-df-quickchart:hover {\n",
              "    background-color: var(--hover-bg-color);\n",
              "    box-shadow: 0 1px 2px rgba(60, 64, 67, 0.3), 0 1px 3px 1px rgba(60, 64, 67, 0.15);\n",
              "    fill: var(--button-hover-fill-color);\n",
              "  }\n",
              "\n",
              "  .colab-df-quickchart-complete:disabled,\n",
              "  .colab-df-quickchart-complete:disabled:hover {\n",
              "    background-color: var(--disabled-bg-color);\n",
              "    fill: var(--disabled-fill-color);\n",
              "    box-shadow: none;\n",
              "  }\n",
              "\n",
              "  .colab-df-spinner {\n",
              "    border: 2px solid var(--fill-color);\n",
              "    border-color: transparent;\n",
              "    border-bottom-color: var(--fill-color);\n",
              "    animation:\n",
              "      spin 1s steps(1) infinite;\n",
              "  }\n",
              "\n",
              "  @keyframes spin {\n",
              "    0% {\n",
              "      border-color: transparent;\n",
              "      border-bottom-color: var(--fill-color);\n",
              "      border-left-color: var(--fill-color);\n",
              "    }\n",
              "    20% {\n",
              "      border-color: transparent;\n",
              "      border-left-color: var(--fill-color);\n",
              "      border-top-color: var(--fill-color);\n",
              "    }\n",
              "    30% {\n",
              "      border-color: transparent;\n",
              "      border-left-color: var(--fill-color);\n",
              "      border-top-color: var(--fill-color);\n",
              "      border-right-color: var(--fill-color);\n",
              "    }\n",
              "    40% {\n",
              "      border-color: transparent;\n",
              "      border-right-color: var(--fill-color);\n",
              "      border-top-color: var(--fill-color);\n",
              "    }\n",
              "    60% {\n",
              "      border-color: transparent;\n",
              "      border-right-color: var(--fill-color);\n",
              "    }\n",
              "    80% {\n",
              "      border-color: transparent;\n",
              "      border-right-color: var(--fill-color);\n",
              "      border-bottom-color: var(--fill-color);\n",
              "    }\n",
              "    90% {\n",
              "      border-color: transparent;\n",
              "      border-bottom-color: var(--fill-color);\n",
              "    }\n",
              "  }\n",
              "</style>\n",
              "\n",
              "  <script>\n",
              "    async function quickchart(key) {\n",
              "      const quickchartButtonEl =\n",
              "        document.querySelector('#' + key + ' button');\n",
              "      quickchartButtonEl.disabled = true;  // To prevent multiple clicks.\n",
              "      quickchartButtonEl.classList.add('colab-df-spinner');\n",
              "      try {\n",
              "        const charts = await google.colab.kernel.invokeFunction(\n",
              "            'suggestCharts', [key], {});\n",
              "      } catch (error) {\n",
              "        console.error('Error during call to suggestCharts:', error);\n",
              "      }\n",
              "      quickchartButtonEl.classList.remove('colab-df-spinner');\n",
              "      quickchartButtonEl.classList.add('colab-df-quickchart-complete');\n",
              "    }\n",
              "    (() => {\n",
              "      let quickchartButtonEl =\n",
              "        document.querySelector('#df-f71f1e3c-5a2c-412a-851b-83f331c04fd6 button');\n",
              "      quickchartButtonEl.style.display =\n",
              "        google.colab.kernel.accessAllowed ? 'block' : 'none';\n",
              "    })();\n",
              "  </script>\n",
              "</div>\n",
              "\n",
              "    </div>\n",
              "  </div>\n"
            ],
            "application/vnd.google.colaboratory.intrinsic+json": {
              "type": "dataframe",
              "variable_name": "dtm"
            }
          },
          "metadata": {},
          "execution_count": 21
        }
      ]
    },
    {
      "cell_type": "markdown",
      "source": [
        "#### Good to take a look at the length of document because it will increase the number of columns in our dataframe"
      ],
      "metadata": {
        "id": "-nQedEJYUz5V"
      }
    },
    {
      "cell_type": "code",
      "metadata": {
        "id": "G6JBj-YUdRAM",
        "colab": {
          "base_uri": "https://localhost:8080/",
          "height": 625
        },
        "outputId": "110aa1b7-857d-4642-ba61-1ec49bcf0c75"
      },
      "source": [
        "import seaborn as sns\n",
        "sns.set()\n",
        "\n",
        "# average number of length of the documents we have\n",
        "doc_len = [len(doc.split()) for doc in data]\n",
        "sns.distplot(doc_len);"
      ],
      "execution_count": 22,
      "outputs": [
        {
          "output_type": "stream",
          "name": "stderr",
          "text": [
            "<ipython-input-22-2587e7df1d19>:5: UserWarning: \n",
            "\n",
            "`distplot` is a deprecated function and will be removed in seaborn v0.14.0.\n",
            "\n",
            "Please adapt your code to use either `displot` (a figure-level function with\n",
            "similar flexibility) or `histplot` (an axes-level function for histograms).\n",
            "\n",
            "For a guide to updating your code to use the new functions, please see\n",
            "https://gist.github.com/mwaskom/de44147ed2974457ad6372750bbe5751\n",
            "\n",
            "  sns.distplot(doc_len);\n"
          ]
        },
        {
          "output_type": "display_data",
          "data": {
            "text/plain": [
              "<Figure size 640x480 with 1 Axes>"
            ],
            "image/png": "[encoded data removed]"
          },
          "metadata": {}
        }
      ]
    },
    {
      "cell_type": "markdown",
      "metadata": {
        "id": "yfzMqqbrdRAN"
      },
      "source": [
        "#1.2  `TfidfVectorizer`\n",
        "- Takes account of the term frequency AND also the **rarity** of the term\n",
        "\n",
        "## Term Frequency - Inverse Document Frequency (TF-IDF)\n",
        "\n",
        "![](https://miro.medium.com/max/1404/1*mu6G-cBmWlENS4pWHEnGcg@2x.jpeg)\n",
        "\n",
        "\n",
        "**Term Frequency**: $\\text{tf}_{i,j}$  is the number of times term $i$ appeared in document $j$. Basically it's what the CountVectorizer() would return. So now TfidVectorizer is one step beyond that.\n",
        "\n",
        "**Inverse Document Frequency:** A weight penalty for terms that exist in a high fraction of documents.\n",
        "\n",
        "**dfi:** number of documents that has the specific token i\n",
        "\n",
        "e.g. For the token 000, tf will be 1, N will be 401 documents, dfi is how many of the documents contain the word/token 000? dtm['000'].sum() = 190\n",
        "\n",
        "The higher the tf, the higher the score. The higher the df, the lower the score because it's not a rare token.\n",
        "\n",
        "The purpose of TF-IDF is to find what is **unique** to each document. Because of this we will penalize the term frequencies of words that are common across all documents. This effectively upweights terms that are rarer across documents.\n",
        "\n",
        "<img src=\"https://upload.wikimedia.org/wikipedia/commons/8/81/Logarithm_plots.png\" width=\"700\" height=\"400\" />\n",
        "\n",
        "It's useful to reference both the algebraic and geometric representations of a single mathematical ideal whenever possible in order to build the fullest understanding possible."
      ]
    },
    {
      "cell_type": "code",
      "source": [
        "dtm['000'].sum()"
      ],
      "metadata": {
        "colab": {
          "base_uri": "https://localhost:8080/"
        },
        "id": "tOQdi9hQXDiR",
        "outputId": "6929b32f-5de7-4229-8698-49fb86b081e1"
      },
      "execution_count": 23,
      "outputs": [
        {
          "output_type": "execute_result",
          "data": {
            "text/plain": [
              "190"
            ]
          },
          "metadata": {},
          "execution_count": 23
        }
      ]
    },
    {
      "cell_type": "markdown",
      "metadata": {
        "id": "1uysxF1NdRAN"
      },
      "source": [
        "The IDF portion of the TF-IDF equation has been coded up below so that we can play around with the values and get a better understanding of how this portion of the equation works.\n",
        "\n",
        "NOTE: There are other ways to construct the equation for the IDF term; different constructions of the equation serve different purposes and which you ultimately use simply depends on your problem/task. You can check out the [wikipedia article on tfidf](https://en.wikipedia.org/wiki/Tf%E2%80%93idf)\n",
        "\n",
        "In practice, you usually don't even have to think about the mathematical formulation of the IDF term. You simply import the tfidf vectorizer and use its api. The rare exception to this would if you are working a very particular kind of problem where the open source implementation of tfidf doesn't suit your needs and so then you might consider creating your own equation or using a different one that you read about."
      ]
    },
    {
      "cell_type": "code",
      "metadata": {
        "id": "Sk_AVqh3dRAN"
      },
      "source": [
        "# inverse document frequency score\n",
        "# the plus ones are constants that shift the around the baseline value\n",
        "def idf(n, df):\n",
        "    \"\"\"\n",
        "    Parameters\n",
        "    ----------\n",
        "    n: int\n",
        "        num of docs in corpus\n",
        "\n",
        "    df: int\n",
        "        num of docs that term t (i.e. a token) appears in\n",
        "\n",
        "    Returns\n",
        "    -------\n",
        "    inverse docuemnt frequency: float\n",
        "    \"\"\"\n",
        "    return np.log( n/ df)"
      ],
      "execution_count": 24,
      "outputs": []
    },
    {
      "cell_type": "code",
      "metadata": {
        "nbgrader": {
          "grade": false,
          "grade_id": "cell-4e40eb25d7faed91",
          "locked": false,
          "schema_version": 3,
          "solution": true,
          "task": false
        },
        "id": "1uh6Ab7FdRAO"
      },
      "source": [
        "n = 100                 # num of docs in corpus\n",
        "df_range = 100\n",
        "IDF = []\n",
        "DF = []\n",
        "for df in range(1, df_range + 1):\n",
        "    idf_score = idf(n, df)\n",
        "    IDF.append(idf_score)\n",
        "    DF.append(df)"
      ],
      "execution_count": 25,
      "outputs": []
    },
    {
      "cell_type": "code",
      "metadata": {
        "id": "qVAUfwlddRAO",
        "colab": {
          "base_uri": "https://localhost:8080/",
          "height": 943
        },
        "outputId": "36184bf9-3f77-4fb6-b45d-313d194c737d"
      },
      "source": [
        "plt.figure()\n",
        "plt.title(\"Inverse Document Frequency Score vs. Document Frequency of Token\")\n",
        "plt.ylabel(\"Inverse Document Frequency Score\")\n",
        "plt.xlabel(\"Document Frequency of Token\")\n",
        "plt.grid()\n",
        "plt.plot(DF, IDF);\n",
        "plt.show()\n",
        "\n",
        "plt.figure()\n",
        "plt.title(\"Inverse Document Frequency Score vs. Document Frequency of Token\")\n",
        "plt.ylabel(\"Inverse Document Frequency Score\")\n",
        "plt.xlabel(\"Document Frequency of Token\")\n",
        "plt.xlim(95,100)\n",
        "plt.ylim(0,0.10)\n",
        "plt.grid()\n",
        "plt.plot(DF, IDF);\n",
        "plt.show()"
      ],
      "execution_count": 26,
      "outputs": [
        {
          "output_type": "display_data",
          "data": {
            "text/plain": [
              "<Figure size 640x480 with 1 Axes>"
            ],
            "image/png": "[encoded data removed]"
          },
          "metadata": {}
        },
        {
          "output_type": "display_data",
          "data": {
            "text/plain": [
              "<Figure size 640x480 with 1 Axes>"
            ],
            "image/png": "[encoded data removed]"
          },
          "metadata": {}
        }
      ]
    },
    {
      "cell_type": "markdown",
      "source": [
        "- You get a lower score if the word appears everywhere in the document.\n",
        "- If it appears in every single document, the idf score will be 0."
      ],
      "metadata": {
        "id": "9PLoDLBIYu18"
      }
    },
    {
      "cell_type": "code",
      "metadata": {
        "nbgrader": {
          "grade": false,
          "grade_id": "cell-bed0fb42b084357d",
          "locked": false,
          "schema_version": 3,
          "solution": true,
          "task": false
        },
        "id": "G7dv3fH2dRAO",
        "colab": {
          "base_uri": "https://localhost:8080/"
        },
        "outputId": "e1e28652-bf7b-4b06-acdf-5bc4cf66f396"
      },
      "source": [
        "# let's work through a couple of examples to help build intuition\n",
        "# imagine the token we are considering is \"purchase\", which rarely appears\n",
        "# imagine the token that we are considering is \"the\", which appears often\n",
        "\n",
        "n = 100\n",
        "\n",
        "# imagine the token we are considering is \"purchase\"\n",
        "tf = 1  # one time in one document\n",
        "df = 20  # appears in 20 out of 100 documents\n",
        "\n",
        "tfidf_score = tf * idf(n, df)\n",
        "print(f'purchase: {tfidf_score:.2f}')\n",
        "\n",
        "# imagine the token that we are considering is \"the\"\n",
        "tf = 20\n",
        "df = 95\n",
        "\n",
        "tfidf_score = tf * idf(n, df)\n",
        "print(f'the: {tfidf_score:.2f}')"
      ],
      "execution_count": 30,
      "outputs": [
        {
          "output_type": "stream",
          "name": "stdout",
          "text": [
            "purchase: 1.61\n",
            "the: 1.03\n"
          ]
        }
      ]
    },
    {
      "cell_type": "markdown",
      "metadata": {
        "id": "SQbFzVXAdRAP"
      },
      "source": [
        "Now that we have built some intuition on how TFIDF works, let's use `sklearn`'s `TfidfVectorizer` to vectorize our dataset. <br>\n",
        "Note that `TfidfVectorizer` is used with the same syntax as `CountVectorizer`"
      ]
    },
    {
      "cell_type": "code",
      "metadata": {
        "nbgrader": {
          "grade": false,
          "grade_id": "cell-4ccfa3ef2d0404fc",
          "locked": false,
          "schema_version": 3,
          "solution": true,
          "task": false
        },
        "id": "Lm6FsqHOdRAP",
        "colab": {
          "base_uri": "https://localhost:8080/",
          "height": 253
        },
        "outputId": "07179924-8902-415f-ea31-0fa679dabe04"
      },
      "source": [
        "from sklearn.feature_extraction.text import TfidfVectorizer\n",
        "\n",
        "# 1. Instantiate vectorizer object\n",
        "tfidf = TfidfVectorizer(stop_words='english',\n",
        "                        max_features=1000) # first 1000 tokens with the highest tfidf score\n",
        "\n",
        "# 2. Create a vocabulary and get word counts per document\n",
        "dtm = tfidf.fit_transform(data)\n",
        "\n",
        "# 3. View term-document matrix as DataFrame\n",
        "dtm = pd.DataFrame(dtm.todense(), columns=tfidf.get_feature_names_out())\n",
        "print(dtm.shape)\n",
        "dtm.head()"
      ],
      "execution_count": 31,
      "outputs": [
        {
          "output_type": "stream",
          "name": "stdout",
          "text": [
            "(401, 1000)\n"
          ]
        },
        {
          "output_type": "execute_result",
          "data": {
            "text/plain": [
              "        000   10  100   11   12   14       15   18   20       200  ...  \\\n",
              "0  0.000000  0.0  0.0  0.0  0.0  0.0  0.00000  0.0  0.0  0.000000  ...   \n",
              "1  0.000000  0.0  0.0  0.0  0.0  0.0  0.00000  0.0  0.0  0.000000  ...   \n",
              "2  0.033158  0.0  0.0  0.0  0.0  0.0  0.04986  0.0  0.0  0.000000  ...   \n",
              "3  0.000000  0.0  0.0  0.0  0.0  0.0  0.00000  0.0  0.0  0.000000  ...   \n",
              "4  0.098469  0.0  0.0  0.0  0.0  0.0  0.00000  0.0  0.0  0.081234  ...   \n",
              "\n",
              "   worldwide  worm     worth   writing  xbox   xp  yahoo      year     years  \\\n",
              "0        0.0   0.0  0.049538  0.000000   0.0  0.0    0.0  0.000000  0.000000   \n",
              "1        0.0   0.0  0.000000  0.053744   0.0  0.0    0.0  0.000000  0.000000   \n",
              "2        0.0   0.0  0.000000  0.000000   0.0  0.0    0.0  0.027182  0.035468   \n",
              "3        0.0   0.0  0.000000  0.000000   0.0  0.0    0.0  0.028154  0.000000   \n",
              "4        0.0   0.0  0.000000  0.000000   0.0  0.0    0.0  0.121084  0.000000   \n",
              "\n",
              "   york  \n",
              "0   0.0  \n",
              "1   0.0  \n",
              "2   0.0  \n",
              "3   0.0  \n",
              "4   0.0  \n",
              "\n",
              "[5 rows x 1000 columns]"
            ],
            "text/html": [
              "\n",
              "  <div id=\"df-d27ced0d-2790-409e-be24-2bfa2c8c5df7\" class=\"colab-df-container\">\n",
              "    <div>\n",
              "<style scoped>\n",
              "    .dataframe tbody tr th:only-of-type {\n",
              "        vertical-align: middle;\n",
              "    }\n",
              "\n",
              "    .dataframe tbody tr th {\n",
              "        vertical-align: top;\n",
              "    }\n",
              "\n",
              "    .dataframe thead th {\n",
              "        text-align: right;\n",
              "    }\n",
              "</style>\n",
              "<table border=\"1\" class=\"dataframe\">\n",
              "  <thead>\n",
              "    <tr style=\"text-align: right;\">\n",
              "      <th></th>\n",
              "      <th>000</th>\n",
              "      <th>10</th>\n",
              "      <th>100</th>\n",
              "      <th>11</th>\n",
              "      <th>12</th>\n",
              "      <th>14</th>\n",
              "      <th>15</th>\n",
              "      <th>18</th>\n",
              "      <th>20</th>\n",
              "      <th>200</th>\n",
              "      <th>...</th>\n",
              "      <th>worldwide</th>\n",
              "      <th>worm</th>\n",
              "      <th>worth</th>\n",
              "      <th>writing</th>\n",
              "      <th>xbox</th>\n",
              "      <th>xp</th>\n",
              "      <th>yahoo</th>\n",
              "      <th>year</th>\n",
              "      <th>years</th>\n",
              "      <th>york</th>\n",
              "    </tr>\n",
              "  </thead>\n",
              "  <tbody>\n",
              "    <tr>\n",
              "      <th>0</th>\n",
              "      <td>0.000000</td>\n",
              "      <td>0.0</td>\n",
              "      <td>0.0</td>\n",
              "      <td>0.0</td>\n",
              "      <td>0.0</td>\n",
              "      <td>0.0</td>\n",
              "      <td>0.00000</td>\n",
              "      <td>0.0</td>\n",
              "      <td>0.0</td>\n",
              "      <td>0.000000</td>\n",
              "      <td>...</td>\n",
              "      <td>0.0</td>\n",
              "      <td>0.0</td>\n",
              "      <td>0.049538</td>\n",
              "      <td>0.000000</td>\n",
              "      <td>0.0</td>\n",
              "      <td>0.0</td>\n",
              "      <td>0.0</td>\n",
              "      <td>0.000000</td>\n",
              "      <td>0.000000</td>\n",
              "      <td>0.0</td>\n",
              "    </tr>\n",
              "    <tr>\n",
              "      <th>1</th>\n",
              "      <td>0.000000</td>\n",
              "      <td>0.0</td>\n",
              "      <td>0.0</td>\n",
              "      <td>0.0</td>\n",
              "      <td>0.0</td>\n",
              "      <td>0.0</td>\n",
              "      <td>0.00000</td>\n",
              "      <td>0.0</td>\n",
              "      <td>0.0</td>\n",
              "      <td>0.000000</td>\n",
              "      <td>...</td>\n",
              "      <td>0.0</td>\n",
              "      <td>0.0</td>\n",
              "      <td>0.000000</td>\n",
              "      <td>0.053744</td>\n",
              "      <td>0.0</td>\n",
              "      <td>0.0</td>\n",
              "      <td>0.0</td>\n",
              "      <td>0.000000</td>\n",
              "      <td>0.000000</td>\n",
              "      <td>0.0</td>\n",
              "    </tr>\n",
              "    <tr>\n",
              "      <th>2</th>\n",
              "      <td>0.033158</td>\n",
              "      <td>0.0</td>\n",
              "      <td>0.0</td>\n",
              "      <td>0.0</td>\n",
              "      <td>0.0</td>\n",
              "      <td>0.0</td>\n",
              "      <td>0.04986</td>\n",
              "      <td>0.0</td>\n",
              "      <td>0.0</td>\n",
              "      <td>0.000000</td>\n",
              "      <td>...</td>\n",
              "      <td>0.0</td>\n",
              "      <td>0.0</td>\n",
              "      <td>0.000000</td>\n",
              "      <td>0.000000</td>\n",
              "      <td>0.0</td>\n",
              "      <td>0.0</td>\n",
              "      <td>0.0</td>\n",
              "      <td>0.027182</td>\n",
              "      <td>0.035468</td>\n",
              "      <td>0.0</td>\n",
              "    </tr>\n",
              "    <tr>\n",
              "      <th>3</th>\n",
              "      <td>0.000000</td>\n",
              "      <td>0.0</td>\n",
              "      <td>0.0</td>\n",
              "      <td>0.0</td>\n",
              "      <td>0.0</td>\n",
              "      <td>0.0</td>\n",
              "      <td>0.00000</td>\n",
              "      <td>0.0</td>\n",
              "      <td>0.0</td>\n",
              "      <td>0.000000</td>\n",
              "      <td>...</td>\n",
              "      <td>0.0</td>\n",
              "      <td>0.0</td>\n",
              "      <td>0.000000</td>\n",
              "      <td>0.000000</td>\n",
              "      <td>0.0</td>\n",
              "      <td>0.0</td>\n",
              "      <td>0.0</td>\n",
              "      <td>0.028154</td>\n",
              "      <td>0.000000</td>\n",
              "      <td>0.0</td>\n",
              "    </tr>\n",
              "    <tr>\n",
              "      <th>4</th>\n",
              "      <td>0.098469</td>\n",
              "      <td>0.0</td>\n",
              "      <td>0.0</td>\n",
              "      <td>0.0</td>\n",
              "      <td>0.0</td>\n",
              "      <td>0.0</td>\n",
              "      <td>0.00000</td>\n",
              "      <td>0.0</td>\n",
              "      <td>0.0</td>\n",
              "      <td>0.081234</td>\n",
              "      <td>...</td>\n",
              "      <td>0.0</td>\n",
              "      <td>0.0</td>\n",
              "      <td>0.000000</td>\n",
              "      <td>0.000000</td>\n",
              "      <td>0.0</td>\n",
              "      <td>0.0</td>\n",
              "      <td>0.0</td>\n",
              "      <td>0.121084</td>\n",
              "      <td>0.000000</td>\n",
              "      <td>0.0</td>\n",
              "    </tr>\n",
              "  </tbody>\n",
              "</table>\n",
              "<p>5 rows × 1000 columns</p>\n",
              "</div>\n",
              "    <div class=\"colab-df-buttons\">\n",
              "\n",
              "  <div class=\"colab-df-container\">\n",
              "    <button class=\"colab-df-convert\" onclick=\"convertToInteractive('df-d27ced0d-2790-409e-be24-2bfa2c8c5df7')\"\n",
              "            title=\"Convert this dataframe to an interactive table.\"\n",
              "            style=\"display:none;\">\n",
              "\n",
              "  <svg xmlns=\"http://www.w3.org/2000/svg\" height=\"24px\" viewBox=\"0 -960 960 960\">\n",
              "    <path d=\"M120-120v-720h720v720H120Zm60-500h600v-160H180v160Zm220 220h160v-160H400v160Zm0 220h160v-160H400v160ZM180-400h160v-160H180v160Zm440 0h160v-160H620v160ZM180-180h160v-160H180v160Zm440 0h160v-160H620v160Z\"/>\n",
              "  </svg>\n",
              "    </button>\n",
              "\n",
              "  <style>\n",
              "    .colab-df-container {\n",
              "      display:flex;\n",
              "      gap: 12px;\n",
              "    }\n",
              "\n",
              "    .colab-df-convert {\n",
              "      background-color: #E8F0FE;\n",
              "      border: none;\n",
              "      border-radius: 50%;\n",
              "      cursor: pointer;\n",
              "      display: none;\n",
              "      fill: #1967D2;\n",
              "      height: 32px;\n",
              "      padding: 0 0 0 0;\n",
              "      width: 32px;\n",
              "    }\n",
              "\n",
              "    .colab-df-convert:hover {\n",
              "      background-color: #E2EBFA;\n",
              "      box-shadow: 0px 1px 2px rgba(60, 64, 67, 0.3), 0px 1px 3px 1px rgba(60, 64, 67, 0.15);\n",
              "      fill: #174EA6;\n",
              "    }\n",
              "\n",
              "    .colab-df-buttons div {\n",
              "      margin-bottom: 4px;\n",
              "    }\n",
              "\n",
              "    [theme=dark] .colab-df-convert {\n",
              "      background-color: #3B4455;\n",
              "      fill: #D2E3FC;\n",
              "    }\n",
              "\n",
              "    [theme=dark] .colab-df-convert:hover {\n",
              "      background-color: #434B5C;\n",
              "      box-shadow: 0px 1px 3px 1px rgba(0, 0, 0, 0.15);\n",
              "      filter: drop-shadow(0px 1px 2px rgba(0, 0, 0, 0.3));\n",
              "      fill: #FFFFFF;\n",
              "    }\n",
              "  </style>\n",
              "\n",
              "    <script>\n",
              "      const buttonEl =\n",
              "        document.querySelector('#df-d27ced0d-2790-409e-be24-2bfa2c8c5df7 button.colab-df-convert');\n",
              "      buttonEl.style.display =\n",
              "        google.colab.kernel.accessAllowed ? 'block' : 'none';\n",
              "\n",
              "      async function convertToInteractive(key) {\n",
              "        const element = document.querySelector('#df-d27ced0d-2790-409e-be24-2bfa2c8c5df7');\n",
              "        const dataTable =\n",
              "          await google.colab.kernel.invokeFunction('convertToInteractive',\n",
              "                                                    [key], {});\n",
              "        if (!dataTable) return;\n",
              "\n",
              "        const docLinkHtml = 'Like what you see? Visit the ' +\n",
              "          '<a target=\"_blank\" href=https://colab.research.google.com/notebooks/data_table.ipynb>data table notebook</a>'\n",
              "          + ' to learn more about interactive tables.';\n",
              "        element.innerHTML = '';\n",
              "        dataTable['output_type'] = 'display_data';\n",
              "        await google.colab.output.renderOutput(dataTable, element);\n",
              "        const docLink = document.createElement('div');\n",
              "        docLink.innerHTML = docLinkHtml;\n",
              "        element.appendChild(docLink);\n",
              "      }\n",
              "    </script>\n",
              "  </div>\n",
              "\n",
              "\n",
              "<div id=\"df-1977360b-2e48-4616-a0e0-03b5b699e739\">\n",
              "  <button class=\"colab-df-quickchart\" onclick=\"quickchart('df-1977360b-2e48-4616-a0e0-03b5b699e739')\"\n",
              "            title=\"Suggest charts\"\n",
              "            style=\"display:none;\">\n",
              "\n",
              "<svg xmlns=\"http://www.w3.org/2000/svg\" height=\"24px\"viewBox=\"0 0 24 24\"\n",
              "     width=\"24px\">\n",
              "    <g>\n",
              "        <path d=\"M19 3H5c-1.1 0-2 .9-2 2v14c0 1.1.9 2 2 2h14c1.1 0 2-.9 2-2V5c0-1.1-.9-2-2-2zM9 17H7v-7h2v7zm4 0h-2V7h2v10zm4 0h-2v-4h2v4z\"/>\n",
              "    </g>\n",
              "</svg>\n",
              "  </button>\n",
              "\n",
              "<style>\n",
              "  .colab-df-quickchart {\n",
              "      --bg-color: #E8F0FE;\n",
              "      --fill-color: #1967D2;\n",
              "      --hover-bg-color: #E2EBFA;\n",
              "      --hover-fill-color: #174EA6;\n",
              "      --disabled-fill-color: #AAA;\n",
              "      --disabled-bg-color: #DDD;\n",
              "  }\n",
              "\n",
              "  [theme=dark] .colab-df-quickchart {\n",
              "      --bg-color: #3B4455;\n",
              "      --fill-color: #D2E3FC;\n",
              "      --hover-bg-color: #434B5C;\n",
              "      --hover-fill-color: #FFFFFF;\n",
              "      --disabled-bg-color: #3B4455;\n",
              "      --disabled-fill-color: #666;\n",
              "  }\n",
              "\n",
              "  .colab-df-quickchart {\n",
              "    background-color: var(--bg-color);\n",
              "    border: none;\n",
              "    border-radius: 50%;\n",
              "    cursor: pointer;\n",
              "    display: none;\n",
              "    fill: var(--fill-color);\n",
              "    height: 32px;\n",
              "    padding: 0;\n",
              "    width: 32px;\n",
              "  }\n",
              "\n",
              "  .colab-df-quickchart:hover {\n",
              "    background-color: var(--hover-bg-color);\n",
              "    box-shadow: 0 1px 2px rgba(60, 64, 67, 0.3), 0 1px 3px 1px rgba(60, 64, 67, 0.15);\n",
              "    fill: var(--button-hover-fill-color);\n",
              "  }\n",
              "\n",
              "  .colab-df-quickchart-complete:disabled,\n",
              "  .colab-df-quickchart-complete:disabled:hover {\n",
              "    background-color: var(--disabled-bg-color);\n",
              "    fill: var(--disabled-fill-color);\n",
              "    box-shadow: none;\n",
              "  }\n",
              "\n",
              "  .colab-df-spinner {\n",
              "    border: 2px solid var(--fill-color);\n",
              "    border-color: transparent;\n",
              "    border-bottom-color: var(--fill-color);\n",
              "    animation:\n",
              "      spin 1s steps(1) infinite;\n",
              "  }\n",
              "\n",
              "  @keyframes spin {\n",
              "    0% {\n",
              "      border-color: transparent;\n",
              "      border-bottom-color: var(--fill-color);\n",
              "      border-left-color: var(--fill-color);\n",
              "    }\n",
              "    20% {\n",
              "      border-color: transparent;\n",
              "      border-left-color: var(--fill-color);\n",
              "      border-top-color: var(--fill-color);\n",
              "    }\n",
              "    30% {\n",
              "      border-color: transparent;\n",
              "      border-left-color: var(--fill-color);\n",
              "      border-top-color: var(--fill-color);\n",
              "      border-right-color: var(--fill-color);\n",
              "    }\n",
              "    40% {\n",
              "      border-color: transparent;\n",
              "      border-right-color: var(--fill-color);\n",
              "      border-top-color: var(--fill-color);\n",
              "    }\n",
              "    60% {\n",
              "      border-color: transparent;\n",
              "      border-right-color: var(--fill-color);\n",
              "    }\n",
              "    80% {\n",
              "      border-color: transparent;\n",
              "      border-right-color: var(--fill-color);\n",
              "      border-bottom-color: var(--fill-color);\n",
              "    }\n",
              "    90% {\n",
              "      border-color: transparent;\n",
              "      border-bottom-color: var(--fill-color);\n",
              "    }\n",
              "  }\n",
              "</style>\n",
              "\n",
              "  <script>\n",
              "    async function quickchart(key) {\n",
              "      const quickchartButtonEl =\n",
              "        document.querySelector('#' + key + ' button');\n",
              "      quickchartButtonEl.disabled = true;  // To prevent multiple clicks.\n",
              "      quickchartButtonEl.classList.add('colab-df-spinner');\n",
              "      try {\n",
              "        const charts = await google.colab.kernel.invokeFunction(\n",
              "            'suggestCharts', [key], {});\n",
              "      } catch (error) {\n",
              "        console.error('Error during call to suggestCharts:', error);\n",
              "      }\n",
              "      quickchartButtonEl.classList.remove('colab-df-spinner');\n",
              "      quickchartButtonEl.classList.add('colab-df-quickchart-complete');\n",
              "    }\n",
              "    (() => {\n",
              "      let quickchartButtonEl =\n",
              "        document.querySelector('#df-1977360b-2e48-4616-a0e0-03b5b699e739 button');\n",
              "      quickchartButtonEl.style.display =\n",
              "        google.colab.kernel.accessAllowed ? 'block' : 'none';\n",
              "    })();\n",
              "  </script>\n",
              "</div>\n",
              "\n",
              "    </div>\n",
              "  </div>\n"
            ],
            "application/vnd.google.colaboratory.intrinsic+json": {
              "type": "dataframe",
              "variable_name": "dtm"
            }
          },
          "metadata": {},
          "execution_count": 31
        }
      ]
    },
    {
      "cell_type": "markdown",
      "metadata": {
        "id": "n_VFnOHrMMtT"
      },
      "source": [
        "#### Tuning the Tfidf\n",
        "Now let's get a little fancier with the `TfidfVEctorizer`: we'll use the keywords `ngram_range`, `max_df`, `min_df` and `tokenizer` to accomplish the following:\n",
        "- Build a vocabulary from unigrams and bigrams\n",
        "- Do \"statistical trimming\" by ignoring all terms with document frequency higher than `max_df` and all terms with document frequency lower than `min_df`\n",
        "- Use the `spaCy` tokenizer that we built"
      ]
    },
    {
      "cell_type": "code",
      "metadata": {
        "nbgrader": {
          "grade": false,
          "grade_id": "cell-0667a7a2ebea2224",
          "locked": false,
          "schema_version": 3,
          "solution": true,
          "task": false
        },
        "id": "cKB5QWy-dRAQ",
        "colab": {
          "base_uri": "https://localhost:8080/"
        },
        "outputId": "07771e65-e8ac-4013-e9fe-96da57469e18"
      },
      "source": [
        "%%time\n",
        "# Tuning the Parameters of our Vectorizer\n",
        "\n",
        "### BEGIN SOLUTION\n",
        "\n",
        "# Instantiate vectorizer object (ngram_range includes unigrams and bigrams)\n",
        "tfidf = TfidfVectorizer(stop_words='english',\n",
        "                        ngram_range=(1,2), # (1,1) means just look at 1 word; (1,2) means look at 2-word phrases too e.g. New York, \"new\" and \"york\" on their own means diff things\n",
        "                        min_df=5, # statistical trimming - Trimming really rare words (min occurence) with min_df and really common words (max occurence) with max_df.\n",
        "                                    # integer 2 means the word has to appear in at least 2 docs to be consider meaningful. min_df has the most impact on reducing dataframe size\n",
        "                                    # almost cutting it down by 4 times! Usually set it to 2-10 for dataset this size. min_df 25 to 1000 for 1 mil docs.\n",
        "                                    # if you set 0.05 then it's 5% of the documents aka 20 documents so even trimming it more\n",
        "                        max_df=0.25, # more common to set it as a %, trim out words that appear in 50% of our documents, even up to .75\n",
        "                        tokenizer=tokenize) # now we specify the spacy tokenizer to be used\n",
        "\n",
        "# Create a vocabulary and get word counts per document\n",
        "dtm = tfidf.fit_transform(data) # Similiar to fit_predict -- produces a sparse matrix\n",
        "\n",
        "# Get feature names to use as dataframe column headers\n",
        "dtm = pd.DataFrame(dtm.todense(), columns=tfidf.get_feature_names_out())\n",
        "print(dtm.shape)\n",
        "\n",
        "### END SOLUTION"
      ],
      "execution_count": 38,
      "outputs": [
        {
          "output_type": "stream",
          "name": "stderr",
          "text": [
            "/usr/local/lib/python3.10/dist-packages/sklearn/feature_extraction/text.py:528: UserWarning: The parameter 'token_pattern' will not be used since 'tokenizer' is not None'\n",
            "  warnings.warn(\n"
          ]
        },
        {
          "output_type": "stream",
          "name": "stdout",
          "text": [
            "(401, 3376)\n",
            "CPU times: user 58.4 s, sys: 144 ms, total: 58.6 s\n",
            "Wall time: 1min 10s\n"
          ]
        }
      ]
    },
    {
      "cell_type": "code",
      "metadata": {
        "id": "kWJZl78z__ay",
        "colab": {
          "base_uri": "https://localhost:8080/",
          "height": 235
        },
        "outputId": "9687c8ac-ae08-498f-8d30-b216fcfe2f67"
      },
      "source": [
        "dtm.head()"
      ],
      "execution_count": 39,
      "outputs": [
        {
          "output_type": "execute_result",
          "data": {
            "text/plain": [
              "   1980  1980s  1bn   3d  3d graphic  3d model  3gsm  ability  able access  \\\n",
              "0   0.0    0.0  0.0  0.0         0.0       0.0   0.0      0.0          0.0   \n",
              "1   0.0    0.0  0.0  0.0         0.0       0.0   0.0      0.0          0.0   \n",
              "2   0.0    0.0  0.0  0.0         0.0       0.0   0.0      0.0          0.0   \n",
              "3   0.0    0.0  0.0  0.0         0.0       0.0   0.0      0.0          0.0   \n",
              "4   0.0    0.0  0.0  0.0         0.0       0.0   0.0      0.0          0.0   \n",
              "\n",
              "   able watch  ...  year use       yen  yes  york  young  young people  youth  \\\n",
              "0         0.0  ...       0.0  0.000000  0.0   0.0    0.0           0.0    0.0   \n",
              "1         0.0  ...       0.0  0.000000  0.0   0.0    0.0           0.0    0.0   \n",
              "2         0.0  ...       0.0  0.000000  0.0   0.0    0.0           0.0    0.0   \n",
              "3         0.0  ...       0.0  0.000000  0.0   0.0    0.0           0.0    0.0   \n",
              "4         0.0  ...       0.0  0.093183  0.0   0.0    0.0           0.0    0.0   \n",
              "\n",
              "   zombie  zone  zoom  \n",
              "0     0.0   0.0   0.0  \n",
              "1     0.0   0.0   0.0  \n",
              "2     0.0   0.0   0.0  \n",
              "3     0.0   0.0   0.0  \n",
              "4     0.0   0.0   0.0  \n",
              "\n",
              "[5 rows x 3376 columns]"
            ],
            "text/html": [
              "\n",
              "  <div id=\"df-6f06ed6c-9c0e-44b4-8739-566759ee178b\" class=\"colab-df-container\">\n",
              "    <div>\n",
              "<style scoped>\n",
              "    .dataframe tbody tr th:only-of-type {\n",
              "        vertical-align: middle;\n",
              "    }\n",
              "\n",
              "    .dataframe tbody tr th {\n",
              "        vertical-align: top;\n",
              "    }\n",
              "\n",
              "    .dataframe thead th {\n",
              "        text-align: right;\n",
              "    }\n",
              "</style>\n",
              "<table border=\"1\" class=\"dataframe\">\n",
              "  <thead>\n",
              "    <tr style=\"text-align: right;\">\n",
              "      <th></th>\n",
              "      <th>1980</th>\n",
              "      <th>1980s</th>\n",
              "      <th>1bn</th>\n",
              "      <th>3d</th>\n",
              "      <th>3d graphic</th>\n",
              "      <th>3d model</th>\n",
              "      <th>3gsm</th>\n",
              "      <th>ability</th>\n",
              "      <th>able access</th>\n",
              "      <th>able watch</th>\n",
              "      <th>...</th>\n",
              "      <th>year use</th>\n",
              "      <th>yen</th>\n",
              "      <th>yes</th>\n",
              "      <th>york</th>\n",
              "      <th>young</th>\n",
              "      <th>young people</th>\n",
              "      <th>youth</th>\n",
              "      <th>zombie</th>\n",
              "      <th>zone</th>\n",
              "      <th>zoom</th>\n",
              "    </tr>\n",
              "  </thead>\n",
              "  <tbody>\n",
              "    <tr>\n",
              "      <th>0</th>\n",
              "      <td>0.0</td>\n",
              "      <td>0.0</td>\n",
              "      <td>0.0</td>\n",
              "      <td>0.0</td>\n",
              "      <td>0.0</td>\n",
              "      <td>0.0</td>\n",
              "      <td>0.0</td>\n",
              "      <td>0.0</td>\n",
              "      <td>0.0</td>\n",
              "      <td>0.0</td>\n",
              "      <td>...</td>\n",
              "      <td>0.0</td>\n",
              "      <td>0.000000</td>\n",
              "      <td>0.0</td>\n",
              "      <td>0.0</td>\n",
              "      <td>0.0</td>\n",
              "      <td>0.0</td>\n",
              "      <td>0.0</td>\n",
              "      <td>0.0</td>\n",
              "      <td>0.0</td>\n",
              "      <td>0.0</td>\n",
              "    </tr>\n",
              "    <tr>\n",
              "      <th>1</th>\n",
              "      <td>0.0</td>\n",
              "      <td>0.0</td>\n",
              "      <td>0.0</td>\n",
              "      <td>0.0</td>\n",
              "      <td>0.0</td>\n",
              "      <td>0.0</td>\n",
              "      <td>0.0</td>\n",
              "      <td>0.0</td>\n",
              "      <td>0.0</td>\n",
              "      <td>0.0</td>\n",
              "      <td>...</td>\n",
              "      <td>0.0</td>\n",
              "      <td>0.000000</td>\n",
              "      <td>0.0</td>\n",
              "      <td>0.0</td>\n",
              "      <td>0.0</td>\n",
              "      <td>0.0</td>\n",
              "      <td>0.0</td>\n",
              "      <td>0.0</td>\n",
              "      <td>0.0</td>\n",
              "      <td>0.0</td>\n",
              "    </tr>\n",
              "    <tr>\n",
              "      <th>2</th>\n",
              "      <td>0.0</td>\n",
              "      <td>0.0</td>\n",
              "      <td>0.0</td>\n",
              "      <td>0.0</td>\n",
              "      <td>0.0</td>\n",
              "      <td>0.0</td>\n",
              "      <td>0.0</td>\n",
              "      <td>0.0</td>\n",
              "      <td>0.0</td>\n",
              "      <td>0.0</td>\n",
              "      <td>...</td>\n",
              "      <td>0.0</td>\n",
              "      <td>0.000000</td>\n",
              "      <td>0.0</td>\n",
              "      <td>0.0</td>\n",
              "      <td>0.0</td>\n",
              "      <td>0.0</td>\n",
              "      <td>0.0</td>\n",
              "      <td>0.0</td>\n",
              "      <td>0.0</td>\n",
              "      <td>0.0</td>\n",
              "    </tr>\n",
              "    <tr>\n",
              "      <th>3</th>\n",
              "      <td>0.0</td>\n",
              "      <td>0.0</td>\n",
              "      <td>0.0</td>\n",
              "      <td>0.0</td>\n",
              "      <td>0.0</td>\n",
              "      <td>0.0</td>\n",
              "      <td>0.0</td>\n",
              "      <td>0.0</td>\n",
              "      <td>0.0</td>\n",
              "      <td>0.0</td>\n",
              "      <td>...</td>\n",
              "      <td>0.0</td>\n",
              "      <td>0.000000</td>\n",
              "      <td>0.0</td>\n",
              "      <td>0.0</td>\n",
              "      <td>0.0</td>\n",
              "      <td>0.0</td>\n",
              "      <td>0.0</td>\n",
              "      <td>0.0</td>\n",
              "      <td>0.0</td>\n",
              "      <td>0.0</td>\n",
              "    </tr>\n",
              "    <tr>\n",
              "      <th>4</th>\n",
              "      <td>0.0</td>\n",
              "      <td>0.0</td>\n",
              "      <td>0.0</td>\n",
              "      <td>0.0</td>\n",
              "      <td>0.0</td>\n",
              "      <td>0.0</td>\n",
              "      <td>0.0</td>\n",
              "      <td>0.0</td>\n",
              "      <td>0.0</td>\n",
              "      <td>0.0</td>\n",
              "      <td>...</td>\n",
              "      <td>0.0</td>\n",
              "      <td>0.093183</td>\n",
              "      <td>0.0</td>\n",
              "      <td>0.0</td>\n",
              "      <td>0.0</td>\n",
              "      <td>0.0</td>\n",
              "      <td>0.0</td>\n",
              "      <td>0.0</td>\n",
              "      <td>0.0</td>\n",
              "      <td>0.0</td>\n",
              "    </tr>\n",
              "  </tbody>\n",
              "</table>\n",
              "<p>5 rows × 3376 columns</p>\n",
              "</div>\n",
              "    <div class=\"colab-df-buttons\">\n",
              "\n",
              "  <div class=\"colab-df-container\">\n",
              "    <button class=\"colab-df-convert\" onclick=\"convertToInteractive('df-6f06ed6c-9c0e-44b4-8739-566759ee178b')\"\n",
              "            title=\"Convert this dataframe to an interactive table.\"\n",
              "            style=\"display:none;\">\n",
              "\n",
              "  <svg xmlns=\"http://www.w3.org/2000/svg\" height=\"24px\" viewBox=\"0 -960 960 960\">\n",
              "    <path d=\"M120-120v-720h720v720H120Zm60-500h600v-160H180v160Zm220 220h160v-160H400v160Zm0 220h160v-160H400v160ZM180-400h160v-160H180v160Zm440 0h160v-160H620v160ZM180-180h160v-160H180v160Zm440 0h160v-160H620v160Z\"/>\n",
              "  </svg>\n",
              "    </button>\n",
              "\n",
              "  <style>\n",
              "    .colab-df-container {\n",
              "      display:flex;\n",
              "      gap: 12px;\n",
              "    }\n",
              "\n",
              "    .colab-df-convert {\n",
              "      background-color: #E8F0FE;\n",
              "      border: none;\n",
              "      border-radius: 50%;\n",
              "      cursor: pointer;\n",
              "      display: none;\n",
              "      fill: #1967D2;\n",
              "      height: 32px;\n",
              "      padding: 0 0 0 0;\n",
              "      width: 32px;\n",
              "    }\n",
              "\n",
              "    .colab-df-convert:hover {\n",
              "      background-color: #E2EBFA;\n",
              "      box-shadow: 0px 1px 2px rgba(60, 64, 67, 0.3), 0px 1px 3px 1px rgba(60, 64, 67, 0.15);\n",
              "      fill: #174EA6;\n",
              "    }\n",
              "\n",
              "    .colab-df-buttons div {\n",
              "      margin-bottom: 4px;\n",
              "    }\n",
              "\n",
              "    [theme=dark] .colab-df-convert {\n",
              "      background-color: #3B4455;\n",
              "      fill: #D2E3FC;\n",
              "    }\n",
              "\n",
              "    [theme=dark] .colab-df-convert:hover {\n",
              "      background-color: #434B5C;\n",
              "      box-shadow: 0px 1px 3px 1px rgba(0, 0, 0, 0.15);\n",
              "      filter: drop-shadow(0px 1px 2px rgba(0, 0, 0, 0.3));\n",
              "      fill: #FFFFFF;\n",
              "    }\n",
              "  </style>\n",
              "\n",
              "    <script>\n",
              "      const buttonEl =\n",
              "        document.querySelector('#df-6f06ed6c-9c0e-44b4-8739-566759ee178b button.colab-df-convert');\n",
              "      buttonEl.style.display =\n",
              "        google.colab.kernel.accessAllowed ? 'block' : 'none';\n",
              "\n",
              "      async function convertToInteractive(key) {\n",
              "        const element = document.querySelector('#df-6f06ed6c-9c0e-44b4-8739-566759ee178b');\n",
              "        const dataTable =\n",
              "          await google.colab.kernel.invokeFunction('convertToInteractive',\n",
              "                                                    [key], {});\n",
              "        if (!dataTable) return;\n",
              "\n",
              "        const docLinkHtml = 'Like what you see? Visit the ' +\n",
              "          '<a target=\"_blank\" href=https://colab.research.google.com/notebooks/data_table.ipynb>data table notebook</a>'\n",
              "          + ' to learn more about interactive tables.';\n",
              "        element.innerHTML = '';\n",
              "        dataTable['output_type'] = 'display_data';\n",
              "        await google.colab.output.renderOutput(dataTable, element);\n",
              "        const docLink = document.createElement('div');\n",
              "        docLink.innerHTML = docLinkHtml;\n",
              "        element.appendChild(docLink);\n",
              "      }\n",
              "    </script>\n",
              "  </div>\n",
              "\n",
              "\n",
              "<div id=\"df-0375dabe-d812-4b58-b6fe-68578a7c1505\">\n",
              "  <button class=\"colab-df-quickchart\" onclick=\"quickchart('df-0375dabe-d812-4b58-b6fe-68578a7c1505')\"\n",
              "            title=\"Suggest charts\"\n",
              "            style=\"display:none;\">\n",
              "\n",
              "<svg xmlns=\"http://www.w3.org/2000/svg\" height=\"24px\"viewBox=\"0 0 24 24\"\n",
              "     width=\"24px\">\n",
              "    <g>\n",
              "        <path d=\"M19 3H5c-1.1 0-2 .9-2 2v14c0 1.1.9 2 2 2h14c1.1 0 2-.9 2-2V5c0-1.1-.9-2-2-2zM9 17H7v-7h2v7zm4 0h-2V7h2v10zm4 0h-2v-4h2v4z\"/>\n",
              "    </g>\n",
              "</svg>\n",
              "  </button>\n",
              "\n",
              "<style>\n",
              "  .colab-df-quickchart {\n",
              "      --bg-color: #E8F0FE;\n",
              "      --fill-color: #1967D2;\n",
              "      --hover-bg-color: #E2EBFA;\n",
              "      --hover-fill-color: #174EA6;\n",
              "      --disabled-fill-color: #AAA;\n",
              "      --disabled-bg-color: #DDD;\n",
              "  }\n",
              "\n",
              "  [theme=dark] .colab-df-quickchart {\n",
              "      --bg-color: #3B4455;\n",
              "      --fill-color: #D2E3FC;\n",
              "      --hover-bg-color: #434B5C;\n",
              "      --hover-fill-color: #FFFFFF;\n",
              "      --disabled-bg-color: #3B4455;\n",
              "      --disabled-fill-color: #666;\n",
              "  }\n",
              "\n",
              "  .colab-df-quickchart {\n",
              "    background-color: var(--bg-color);\n",
              "    border: none;\n",
              "    border-radius: 50%;\n",
              "    cursor: pointer;\n",
              "    display: none;\n",
              "    fill: var(--fill-color);\n",
              "    height: 32px;\n",
              "    padding: 0;\n",
              "    width: 32px;\n",
              "  }\n",
              "\n",
              "  .colab-df-quickchart:hover {\n",
              "    background-color: var(--hover-bg-color);\n",
              "    box-shadow: 0 1px 2px rgba(60, 64, 67, 0.3), 0 1px 3px 1px rgba(60, 64, 67, 0.15);\n",
              "    fill: var(--button-hover-fill-color);\n",
              "  }\n",
              "\n",
              "  .colab-df-quickchart-complete:disabled,\n",
              "  .colab-df-quickchart-complete:disabled:hover {\n",
              "    background-color: var(--disabled-bg-color);\n",
              "    fill: var(--disabled-fill-color);\n",
              "    box-shadow: none;\n",
              "  }\n",
              "\n",
              "  .colab-df-spinner {\n",
              "    border: 2px solid var(--fill-color);\n",
              "    border-color: transparent;\n",
              "    border-bottom-color: var(--fill-color);\n",
              "    animation:\n",
              "      spin 1s steps(1) infinite;\n",
              "  }\n",
              "\n",
              "  @keyframes spin {\n",
              "    0% {\n",
              "      border-color: transparent;\n",
              "      border-bottom-color: var(--fill-color);\n",
              "      border-left-color: var(--fill-color);\n",
              "    }\n",
              "    20% {\n",
              "      border-color: transparent;\n",
              "      border-left-color: var(--fill-color);\n",
              "      border-top-color: var(--fill-color);\n",
              "    }\n",
              "    30% {\n",
              "      border-color: transparent;\n",
              "      border-left-color: var(--fill-color);\n",
              "      border-top-color: var(--fill-color);\n",
              "      border-right-color: var(--fill-color);\n",
              "    }\n",
              "    40% {\n",
              "      border-color: transparent;\n",
              "      border-right-color: var(--fill-color);\n",
              "      border-top-color: var(--fill-color);\n",
              "    }\n",
              "    60% {\n",
              "      border-color: transparent;\n",
              "      border-right-color: var(--fill-color);\n",
              "    }\n",
              "    80% {\n",
              "      border-color: transparent;\n",
              "      border-right-color: var(--fill-color);\n",
              "      border-bottom-color: var(--fill-color);\n",
              "    }\n",
              "    90% {\n",
              "      border-color: transparent;\n",
              "      border-bottom-color: var(--fill-color);\n",
              "    }\n",
              "  }\n",
              "</style>\n",
              "\n",
              "  <script>\n",
              "    async function quickchart(key) {\n",
              "      const quickchartButtonEl =\n",
              "        document.querySelector('#' + key + ' button');\n",
              "      quickchartButtonEl.disabled = true;  // To prevent multiple clicks.\n",
              "      quickchartButtonEl.classList.add('colab-df-spinner');\n",
              "      try {\n",
              "        const charts = await google.colab.kernel.invokeFunction(\n",
              "            'suggestCharts', [key], {});\n",
              "      } catch (error) {\n",
              "        console.error('Error during call to suggestCharts:', error);\n",
              "      }\n",
              "      quickchartButtonEl.classList.remove('colab-df-spinner');\n",
              "      quickchartButtonEl.classList.add('colab-df-quickchart-complete');\n",
              "    }\n",
              "    (() => {\n",
              "      let quickchartButtonEl =\n",
              "        document.querySelector('#df-0375dabe-d812-4b58-b6fe-68578a7c1505 button');\n",
              "      quickchartButtonEl.style.display =\n",
              "        google.colab.kernel.accessAllowed ? 'block' : 'none';\n",
              "    })();\n",
              "  </script>\n",
              "</div>\n",
              "\n",
              "    </div>\n",
              "  </div>\n"
            ],
            "application/vnd.google.colaboratory.intrinsic+json": {
              "type": "dataframe",
              "variable_name": "dtm"
            }
          },
          "metadata": {},
          "execution_count": 39
        }
      ]
    },
    {
      "cell_type": "markdown",
      "metadata": {
        "id": "jTMPm-hbdRAQ"
      },
      "source": [
        "## Challenge\n",
        "\n",
        "During this module's project assignment, you will transform data science job listings to vector representations for analysis downstream."
      ]
    },
    {
      "cell_type": "markdown",
      "metadata": {
        "id": "oddqm9omdRAR"
      },
      "source": [
        "# 2. Query Documents by Similarity (Learn)\n",
        "<a id=\"p2\"></a>"
      ]
    },
    {
      "cell_type": "markdown",
      "metadata": {
        "id": "myAGpeGOdRAR"
      },
      "source": [
        "## Overview\n",
        "\n",
        "Have you ever considered how a search bar works in Google? You may just think that search bars simply match your input text against the documents. While there are many different mechanisms for the 'match', one of the most classic is to search by similarity. We will apply two measures of similarity between a document and the input query document: the **Cosine Similarity** between the documents and the **Euclidean distance** between the documents. <br>\n",
        "\n",
        "Cosine Similarity is [more compute intensive](https://stackoverflow.com/questions/28917985/why-cosine-distance-is-much-slower-than-using-euclidean-distance-with-dbscan-alg) than Euclidean distance."
      ]
    },
    {
      "cell_type": "markdown",
      "metadata": {
        "toc-hr-collapsed": true,
        "id": "GG_E_NYfdRAR"
      },
      "source": [
        "## Follow Along\n",
        "*Cosine similarity* and *nearest-neighbor distance* provide two measures that can be used to gauge the similarity of one word to another. <br>\n",
        "We develop these concepts in this section."
      ]
    },
    {
      "cell_type": "markdown",
      "metadata": {
        "id": "m_vR2dvwdRAS"
      },
      "source": [
        "### 2.1 Cosine Similarity\n",
        "The [`cosine_simlarity`](https://scikit-learn.org/stable/modules/generated/sklearn.metrics.pairwise.cosine_similarity.html) between two feature vectors is the dot product of the *normalized* feature vectors. <br>To *normalize* a vector, you simply divide it by its length: thus<br><br>\n",
        "$\\text{cosine_similarity}(\\textbf{u},\\textbf{v})= \\frac{\\textbf{u}}{\\left\\|\\textbf{u}\\right\\|} \\cdot \\frac{\\textbf{v}}{\\left\\|\\textbf{v}\\right\\|}$, <br><br>\n",
        "where $\\left\\|\\textbf{u}\\right\\|$ is the length of the vector $\\textbf{u}$<br><br>\n",
        "\n",
        "$\\textbf{cosine_similarity}$ is in the interval $[0, 1]$, <br><br>\n",
        "The larger the $\\textbf{cosine_similarity}$, the more similar the words are, and vice-versa.<br><br>\n",
        "\n",
        "`cosine_similarity` takes as input the document-term matrix <br>\n",
        "and creates a **similarity matrix** in which the rows and columns represent documents <br>\n",
        "and entry ($i, j$) is the cosine similarity between documents $i$ and $j$.<br><br>\n",
        "\n",
        "Let's compute the **similarity matrix** for the BBC tech articles corpus<br>\n",
        "\n"
      ]
    },
    {
      "cell_type": "code",
      "metadata": {
        "nbgrader": {
          "grade": false,
          "grade_id": "cell-76ce78f9798d38bc",
          "locked": false,
          "schema_version": 3,
          "solution": true,
          "task": false
        },
        "id": "-PunUo9xdRAS",
        "colab": {
          "base_uri": "https://localhost:8080/"
        },
        "outputId": "1548308c-a382-4a17-d248-5569223ad3ea"
      },
      "source": [
        "%%time\n",
        "from sklearn.metrics.pairwise import cosine_similarity\n",
        "\n",
        "# Calculate Distance of TF-IDF Vectors\n",
        "\n",
        "# Turn it into a DataFrame\n",
        "\n",
        "# Our Similarity Matrix is ? size\n",
        "\n",
        "# Each row is the similarity of one document to all other documents (including itself)\n",
        "\n",
        "# Grab the row and pick off the indicies of the most/least similar docs\n",
        "\n",
        "# Calculate Distance of TF-IDF Vectors\n",
        "from sklearn.metrics.pairwise import cosine_similarity\n",
        "\n",
        "# similarity matrix\n",
        "dist_matrix = cosine_similarity(dtm)\n",
        "\n",
        "# Turn it into a DataFrame\n",
        "df = pd.DataFrame(dist_matrix)\n",
        "\n",
        "# Size of the Similarity Matrix\n",
        "print(df.shape)"
      ],
      "execution_count": 40,
      "outputs": [
        {
          "output_type": "stream",
          "name": "stdout",
          "text": [
            "(401, 401)\n",
            "CPU times: user 53.8 ms, sys: 7.25 ms, total: 61 ms\n",
            "Wall time: 42.1 ms\n"
          ]
        }
      ]
    },
    {
      "cell_type": "code",
      "metadata": {
        "id": "jMaFFxxV9k6e",
        "colab": {
          "base_uri": "https://localhost:8080/",
          "height": 255
        },
        "outputId": "e6c22c95-2e14-4c1c-c433-fa5bcd6f3ae1"
      },
      "source": [
        "df.head()\n",
        "# document 0 and document 0 have cosine similarity of 1, meaning they're identical"
      ],
      "execution_count": 41,
      "outputs": [
        {
          "output_type": "execute_result",
          "data": {
            "text/plain": [
              "        0         1         2         3         4         5         6    \\\n",
              "0  1.000000  0.031361  0.144419  0.023302  0.003834  0.024753  0.021580   \n",
              "1  0.031361  1.000000  0.019070  0.027383  0.001268  0.055899  0.014104   \n",
              "2  0.144419  0.019070  1.000000  0.013224  0.014342  0.060666  0.083609   \n",
              "3  0.023302  0.027383  0.013224  1.000000  0.011539  0.043024  0.000000   \n",
              "4  0.003834  0.001268  0.014342  0.011539  1.000000  0.005993  0.010463   \n",
              "\n",
              "        7         8         9    ...       391       392       393       394  \\\n",
              "0  0.014408  0.045153  0.016726  ...  0.027523  0.024048  0.029740  0.021993   \n",
              "1  0.009926  0.060503  0.033229  ...  0.025721  0.092137  0.025127  0.029280   \n",
              "2  0.009433  0.023036  0.047996  ...  0.031461  0.024269  0.049359  0.033881   \n",
              "3  0.006568  0.058930  0.015182  ...  0.011497  0.011100  0.008259  0.021981   \n",
              "4  0.067097  0.023433  0.087776  ...  0.009860  0.012646  0.042689  0.047930   \n",
              "\n",
              "        395       396       397       398       399       400  \n",
              "0  0.027406  0.050915  0.015580  0.023469  0.012407  0.299998  \n",
              "1  0.037664  0.203234  0.031476  0.034818  0.031237  0.050038  \n",
              "2  0.035215  0.005485  0.009722  0.054046  0.020080  0.075688  \n",
              "3  0.025635  0.015163  0.017981  0.008504  0.067168  0.004111  \n",
              "4  0.025626  0.002342  0.000000  0.021478  0.004134  0.010899  \n",
              "\n",
              "[5 rows x 401 columns]"
            ],
            "text/html": [
              "\n",
              "  <div id=\"df-3174c08e-7116-428a-b456-86220be1c741\" class=\"colab-df-container\">\n",
              "    <div>\n",
              "<style scoped>\n",
              "    .dataframe tbody tr th:only-of-type {\n",
              "        vertical-align: middle;\n",
              "    }\n",
              "\n",
              "    .dataframe tbody tr th {\n",
              "        vertical-align: top;\n",
              "    }\n",
              "\n",
              "    .dataframe thead th {\n",
              "        text-align: right;\n",
              "    }\n",
              "</style>\n",
              "<table border=\"1\" class=\"dataframe\">\n",
              "  <thead>\n",
              "    <tr style=\"text-align: right;\">\n",
              "      <th></th>\n",
              "      <th>0</th>\n",
              "      <th>1</th>\n",
              "      <th>2</th>\n",
              "      <th>3</th>\n",
              "      <th>4</th>\n",
              "      <th>5</th>\n",
              "      <th>6</th>\n",
              "      <th>7</th>\n",
              "      <th>8</th>\n",
              "      <th>9</th>\n",
              "      <th>...</th>\n",
              "      <th>391</th>\n",
              "      <th>392</th>\n",
              "      <th>393</th>\n",
              "      <th>394</th>\n",
              "      <th>395</th>\n",
              "      <th>396</th>\n",
              "      <th>397</th>\n",
              "      <th>398</th>\n",
              "      <th>399</th>\n",
              "      <th>400</th>\n",
              "    </tr>\n",
              "  </thead>\n",
              "  <tbody>\n",
              "    <tr>\n",
              "      <th>0</th>\n",
              "      <td>1.000000</td>\n",
              "      <td>0.031361</td>\n",
              "      <td>0.144419</td>\n",
              "      <td>0.023302</td>\n",
              "      <td>0.003834</td>\n",
              "      <td>0.024753</td>\n",
              "      <td>0.021580</td>\n",
              "      <td>0.014408</td>\n",
              "      <td>0.045153</td>\n",
              "      <td>0.016726</td>\n",
              "      <td>...</td>\n",
              "      <td>0.027523</td>\n",
              "      <td>0.024048</td>\n",
              "      <td>0.029740</td>\n",
              "      <td>0.021993</td>\n",
              "      <td>0.027406</td>\n",
              "      <td>0.050915</td>\n",
              "      <td>0.015580</td>\n",
              "      <td>0.023469</td>\n",
              "      <td>0.012407</td>\n",
              "      <td>0.299998</td>\n",
              "    </tr>\n",
              "    <tr>\n",
              "      <th>1</th>\n",
              "      <td>0.031361</td>\n",
              "      <td>1.000000</td>\n",
              "      <td>0.019070</td>\n",
              "      <td>0.027383</td>\n",
              "      <td>0.001268</td>\n",
              "      <td>0.055899</td>\n",
              "      <td>0.014104</td>\n",
              "      <td>0.009926</td>\n",
              "      <td>0.060503</td>\n",
              "      <td>0.033229</td>\n",
              "      <td>...</td>\n",
              "      <td>0.025721</td>\n",
              "      <td>0.092137</td>\n",
              "      <td>0.025127</td>\n",
              "      <td>0.029280</td>\n",
              "      <td>0.037664</td>\n",
              "      <td>0.203234</td>\n",
              "      <td>0.031476</td>\n",
              "      <td>0.034818</td>\n",
              "      <td>0.031237</td>\n",
              "      <td>0.050038</td>\n",
              "    </tr>\n",
              "    <tr>\n",
              "      <th>2</th>\n",
              "      <td>0.144419</td>\n",
              "      <td>0.019070</td>\n",
              "      <td>1.000000</td>\n",
              "      <td>0.013224</td>\n",
              "      <td>0.014342</td>\n",
              "      <td>0.060666</td>\n",
              "      <td>0.083609</td>\n",
              "      <td>0.009433</td>\n",
              "      <td>0.023036</td>\n",
              "      <td>0.047996</td>\n",
              "      <td>...</td>\n",
              "      <td>0.031461</td>\n",
              "      <td>0.024269</td>\n",
              "      <td>0.049359</td>\n",
              "      <td>0.033881</td>\n",
              "      <td>0.035215</td>\n",
              "      <td>0.005485</td>\n",
              "      <td>0.009722</td>\n",
              "      <td>0.054046</td>\n",
              "      <td>0.020080</td>\n",
              "      <td>0.075688</td>\n",
              "    </tr>\n",
              "    <tr>\n",
              "      <th>3</th>\n",
              "      <td>0.023302</td>\n",
              "      <td>0.027383</td>\n",
              "      <td>0.013224</td>\n",
              "      <td>1.000000</td>\n",
              "      <td>0.011539</td>\n",
              "      <td>0.043024</td>\n",
              "      <td>0.000000</td>\n",
              "      <td>0.006568</td>\n",
              "      <td>0.058930</td>\n",
              "      <td>0.015182</td>\n",
              "      <td>...</td>\n",
              "      <td>0.011497</td>\n",
              "      <td>0.011100</td>\n",
              "      <td>0.008259</td>\n",
              "      <td>0.021981</td>\n",
              "      <td>0.025635</td>\n",
              "      <td>0.015163</td>\n",
              "      <td>0.017981</td>\n",
              "      <td>0.008504</td>\n",
              "      <td>0.067168</td>\n",
              "      <td>0.004111</td>\n",
              "    </tr>\n",
              "    <tr>\n",
              "      <th>4</th>\n",
              "      <td>0.003834</td>\n",
              "      <td>0.001268</td>\n",
              "      <td>0.014342</td>\n",
              "      <td>0.011539</td>\n",
              "      <td>1.000000</td>\n",
              "      <td>0.005993</td>\n",
              "      <td>0.010463</td>\n",
              "      <td>0.067097</td>\n",
              "      <td>0.023433</td>\n",
              "      <td>0.087776</td>\n",
              "      <td>...</td>\n",
              "      <td>0.009860</td>\n",
              "      <td>0.012646</td>\n",
              "      <td>0.042689</td>\n",
              "      <td>0.047930</td>\n",
              "      <td>0.025626</td>\n",
              "      <td>0.002342</td>\n",
              "      <td>0.000000</td>\n",
              "      <td>0.021478</td>\n",
              "      <td>0.004134</td>\n",
              "      <td>0.010899</td>\n",
              "    </tr>\n",
              "  </tbody>\n",
              "</table>\n",
              "<p>5 rows × 401 columns</p>\n",
              "</div>\n",
              "    <div class=\"colab-df-buttons\">\n",
              "\n",
              "  <div class=\"colab-df-container\">\n",
              "    <button class=\"colab-df-convert\" onclick=\"convertToInteractive('df-3174c08e-7116-428a-b456-86220be1c741')\"\n",
              "            title=\"Convert this dataframe to an interactive table.\"\n",
              "            style=\"display:none;\">\n",
              "\n",
              "  <svg xmlns=\"http://www.w3.org/2000/svg\" height=\"24px\" viewBox=\"0 -960 960 960\">\n",
              "    <path d=\"M120-120v-720h720v720H120Zm60-500h600v-160H180v160Zm220 220h160v-160H400v160Zm0 220h160v-160H400v160ZM180-400h160v-160H180v160Zm440 0h160v-160H620v160ZM180-180h160v-160H180v160Zm440 0h160v-160H620v160Z\"/>\n",
              "  </svg>\n",
              "    </button>\n",
              "\n",
              "  <style>\n",
              "    .colab-df-container {\n",
              "      display:flex;\n",
              "      gap: 12px;\n",
              "    }\n",
              "\n",
              "    .colab-df-convert {\n",
              "      background-color: #E8F0FE;\n",
              "      border: none;\n",
              "      border-radius: 50%;\n",
              "      cursor: pointer;\n",
              "      display: none;\n",
              "      fill: #1967D2;\n",
              "      height: 32px;\n",
              "      padding: 0 0 0 0;\n",
              "      width: 32px;\n",
              "    }\n",
              "\n",
              "    .colab-df-convert:hover {\n",
              "      background-color: #E2EBFA;\n",
              "      box-shadow: 0px 1px 2px rgba(60, 64, 67, 0.3), 0px 1px 3px 1px rgba(60, 64, 67, 0.15);\n",
              "      fill: #174EA6;\n",
              "    }\n",
              "\n",
              "    .colab-df-buttons div {\n",
              "      margin-bottom: 4px;\n",
              "    }\n",
              "\n",
              "    [theme=dark] .colab-df-convert {\n",
              "      background-color: #3B4455;\n",
              "      fill: #D2E3FC;\n",
              "    }\n",
              "\n",
              "    [theme=dark] .colab-df-convert:hover {\n",
              "      background-color: #434B5C;\n",
              "      box-shadow: 0px 1px 3px 1px rgba(0, 0, 0, 0.15);\n",
              "      filter: drop-shadow(0px 1px 2px rgba(0, 0, 0, 0.3));\n",
              "      fill: #FFFFFF;\n",
              "    }\n",
              "  </style>\n",
              "\n",
              "    <script>\n",
              "      const buttonEl =\n",
              "        document.querySelector('#df-3174c08e-7116-428a-b456-86220be1c741 button.colab-df-convert');\n",
              "      buttonEl.style.display =\n",
              "        google.colab.kernel.accessAllowed ? 'block' : 'none';\n",
              "\n",
              "      async function convertToInteractive(key) {\n",
              "        const element = document.querySelector('#df-3174c08e-7116-428a-b456-86220be1c741');\n",
              "        const dataTable =\n",
              "          await google.colab.kernel.invokeFunction('convertToInteractive',\n",
              "                                                    [key], {});\n",
              "        if (!dataTable) return;\n",
              "\n",
              "        const docLinkHtml = 'Like what you see? Visit the ' +\n",
              "          '<a target=\"_blank\" href=https://colab.research.google.com/notebooks/data_table.ipynb>data table notebook</a>'\n",
              "          + ' to learn more about interactive tables.';\n",
              "        element.innerHTML = '';\n",
              "        dataTable['output_type'] = 'display_data';\n",
              "        await google.colab.output.renderOutput(dataTable, element);\n",
              "        const docLink = document.createElement('div');\n",
              "        docLink.innerHTML = docLinkHtml;\n",
              "        element.appendChild(docLink);\n",
              "      }\n",
              "    </script>\n",
              "  </div>\n",
              "\n",
              "\n",
              "<div id=\"df-aa9ea6e5-c021-43ab-8f01-8ec69851dfc3\">\n",
              "  <button class=\"colab-df-quickchart\" onclick=\"quickchart('df-aa9ea6e5-c021-43ab-8f01-8ec69851dfc3')\"\n",
              "            title=\"Suggest charts\"\n",
              "            style=\"display:none;\">\n",
              "\n",
              "<svg xmlns=\"http://www.w3.org/2000/svg\" height=\"24px\"viewBox=\"0 0 24 24\"\n",
              "     width=\"24px\">\n",
              "    <g>\n",
              "        <path d=\"M19 3H5c-1.1 0-2 .9-2 2v14c0 1.1.9 2 2 2h14c1.1 0 2-.9 2-2V5c0-1.1-.9-2-2-2zM9 17H7v-7h2v7zm4 0h-2V7h2v10zm4 0h-2v-4h2v4z\"/>\n",
              "    </g>\n",
              "</svg>\n",
              "  </button>\n",
              "\n",
              "<style>\n",
              "  .colab-df-quickchart {\n",
              "      --bg-color: #E8F0FE;\n",
              "      --fill-color: #1967D2;\n",
              "      --hover-bg-color: #E2EBFA;\n",
              "      --hover-fill-color: #174EA6;\n",
              "      --disabled-fill-color: #AAA;\n",
              "      --disabled-bg-color: #DDD;\n",
              "  }\n",
              "\n",
              "  [theme=dark] .colab-df-quickchart {\n",
              "      --bg-color: #3B4455;\n",
              "      --fill-color: #D2E3FC;\n",
              "      --hover-bg-color: #434B5C;\n",
              "      --hover-fill-color: #FFFFFF;\n",
              "      --disabled-bg-color: #3B4455;\n",
              "      --disabled-fill-color: #666;\n",
              "  }\n",
              "\n",
              "  .colab-df-quickchart {\n",
              "    background-color: var(--bg-color);\n",
              "    border: none;\n",
              "    border-radius: 50%;\n",
              "    cursor: pointer;\n",
              "    display: none;\n",
              "    fill: var(--fill-color);\n",
              "    height: 32px;\n",
              "    padding: 0;\n",
              "    width: 32px;\n",
              "  }\n",
              "\n",
              "  .colab-df-quickchart:hover {\n",
              "    background-color: var(--hover-bg-color);\n",
              "    box-shadow: 0 1px 2px rgba(60, 64, 67, 0.3), 0 1px 3px 1px rgba(60, 64, 67, 0.15);\n",
              "    fill: var(--button-hover-fill-color);\n",
              "  }\n",
              "\n",
              "  .colab-df-quickchart-complete:disabled,\n",
              "  .colab-df-quickchart-complete:disabled:hover {\n",
              "    background-color: var(--disabled-bg-color);\n",
              "    fill: var(--disabled-fill-color);\n",
              "    box-shadow: none;\n",
              "  }\n",
              "\n",
              "  .colab-df-spinner {\n",
              "    border: 2px solid var(--fill-color);\n",
              "    border-color: transparent;\n",
              "    border-bottom-color: var(--fill-color);\n",
              "    animation:\n",
              "      spin 1s steps(1) infinite;\n",
              "  }\n",
              "\n",
              "  @keyframes spin {\n",
              "    0% {\n",
              "      border-color: transparent;\n",
              "      border-bottom-color: var(--fill-color);\n",
              "      border-left-color: var(--fill-color);\n",
              "    }\n",
              "    20% {\n",
              "      border-color: transparent;\n",
              "      border-left-color: var(--fill-color);\n",
              "      border-top-color: var(--fill-color);\n",
              "    }\n",
              "    30% {\n",
              "      border-color: transparent;\n",
              "      border-left-color: var(--fill-color);\n",
              "      border-top-color: var(--fill-color);\n",
              "      border-right-color: var(--fill-color);\n",
              "    }\n",
              "    40% {\n",
              "      border-color: transparent;\n",
              "      border-right-color: var(--fill-color);\n",
              "      border-top-color: var(--fill-color);\n",
              "    }\n",
              "    60% {\n",
              "      border-color: transparent;\n",
              "      border-right-color: var(--fill-color);\n",
              "    }\n",
              "    80% {\n",
              "      border-color: transparent;\n",
              "      border-right-color: var(--fill-color);\n",
              "      border-bottom-color: var(--fill-color);\n",
              "    }\n",
              "    90% {\n",
              "      border-color: transparent;\n",
              "      border-bottom-color: var(--fill-color);\n",
              "    }\n",
              "  }\n",
              "</style>\n",
              "\n",
              "  <script>\n",
              "    async function quickchart(key) {\n",
              "      const quickchartButtonEl =\n",
              "        document.querySelector('#' + key + ' button');\n",
              "      quickchartButtonEl.disabled = true;  // To prevent multiple clicks.\n",
              "      quickchartButtonEl.classList.add('colab-df-spinner');\n",
              "      try {\n",
              "        const charts = await google.colab.kernel.invokeFunction(\n",
              "            'suggestCharts', [key], {});\n",
              "      } catch (error) {\n",
              "        console.error('Error during call to suggestCharts:', error);\n",
              "      }\n",
              "      quickchartButtonEl.classList.remove('colab-df-spinner');\n",
              "      quickchartButtonEl.classList.add('colab-df-quickchart-complete');\n",
              "    }\n",
              "    (() => {\n",
              "      let quickchartButtonEl =\n",
              "        document.querySelector('#df-aa9ea6e5-c021-43ab-8f01-8ec69851dfc3 button');\n",
              "      quickchartButtonEl.style.display =\n",
              "        google.colab.kernel.accessAllowed ? 'block' : 'none';\n",
              "    })();\n",
              "  </script>\n",
              "</div>\n",
              "\n",
              "    </div>\n",
              "  </div>\n"
            ],
            "application/vnd.google.colaboratory.intrinsic+json": {
              "type": "dataframe",
              "variable_name": "df"
            }
          },
          "metadata": {},
          "execution_count": 41
        }
      ]
    },
    {
      "cell_type": "code",
      "metadata": {
        "id": "XDtkkqU8Qx25",
        "colab": {
          "base_uri": "https://localhost:8080/"
        },
        "outputId": "dff99413-1989-48de-a23e-c22f6c81f6df"
      },
      "source": [
        "# Each row is the similarity of one document to all other documents (including itself)\n",
        "df.iloc[0]"
      ],
      "execution_count": 42,
      "outputs": [
        {
          "output_type": "execute_result",
          "data": {
            "text/plain": [
              "0      1.000000\n",
              "1      0.031361\n",
              "2      0.144419\n",
              "3      0.023302\n",
              "4      0.003834\n",
              "         ...   \n",
              "396    0.050915\n",
              "397    0.015580\n",
              "398    0.023469\n",
              "399    0.012407\n",
              "400    0.299998\n",
              "Name: 0, Length: 401, dtype: float64"
            ]
          },
          "metadata": {},
          "execution_count": 42
        }
      ]
    },
    {
      "cell_type": "markdown",
      "metadata": {
        "id": "WFV_5FzLijNo"
      },
      "source": [
        "### Find the most similar documents to the first document"
      ]
    },
    {
      "cell_type": "code",
      "metadata": {
        "id": "JW0zaZkFQtgS",
        "colab": {
          "base_uri": "https://localhost:8080/"
        },
        "outputId": "9353881d-9848-424a-f37d-47316773a14f"
      },
      "source": [
        "### BEGIN SOLUTION\n",
        "# Grab the first row and return the indices of the 5 most similar docs\n",
        "df.iloc[0].sort_values(ascending=False)[:6]\n",
        "### END SOLUTION"
      ],
      "execution_count": 43,
      "outputs": [
        {
          "output_type": "execute_result",
          "data": {
            "text/plain": [
              "0      1.000000\n",
              "357    0.317444\n",
              "351    0.299998\n",
              "400    0.299998\n",
              "47     0.223612\n",
              "41     0.221041\n",
              "Name: 0, dtype: float64"
            ]
          },
          "metadata": {},
          "execution_count": 43
        }
      ]
    },
    {
      "cell_type": "markdown",
      "source": [
        "Limitation: very slow with millions of documents"
      ],
      "metadata": {
        "id": "DrEY0E4otTia"
      }
    },
    {
      "cell_type": "markdown",
      "metadata": {
        "id": "msStkSPqdRAS"
      },
      "source": [
        "### 2.2 K Nearest Neighbors Search (kNN)\n",
        "\n",
        "<img src=\"https://miro.medium.com/max/753/0*jqxx3-dJqFjXD6FA\" width=\"600\" height=\"400\" />\n",
        "\n",
        "\n",
        "Nearest Neighbor models are distance based algorithms. They store your training set in memory.\n",
        "Takes a document as a reference."
      ]
    },
    {
      "cell_type": "markdown",
      "metadata": {
        "id": "CD4Oru_DlAhu"
      },
      "source": [
        "### `scikit-learn`'s `NearestNeighbors` class\n",
        "computes distances between all pairs of data points, <br>\n",
        "and returns the result in the form of a similarity matrix. <br>\n",
        "Entry $(i,j)$ in the similarity matrix records the similarity of data points $i$ and $j$.<br>\n",
        "\n",
        "Below is an example using `NearestNeighbors` to find the most similar documents to a given documentL\n"
      ]
    },
    {
      "cell_type": "code",
      "metadata": {
        "nbgrader": {
          "grade": false,
          "grade_id": "cell-eac83ba5d76f6bf2",
          "locked": false,
          "schema_version": 3,
          "solution": true,
          "task": false
        },
        "id": "OaF7cC7jdRAS",
        "colab": {
          "base_uri": "https://localhost:8080/",
          "height": 109
        },
        "outputId": "56da3a62-94ae-42b4-e8d1-b06af75553dd"
      },
      "source": [
        "%%time\n",
        "from sklearn.neighbors import NearestNeighbors\n",
        "\n",
        "# Instantiate the nearest neighbors model\n",
        "# Look up scikit learn documentation for the parameters\n",
        "# By default, metric=minkowski. Minkowski distance is similar to cosine similarity, just 0 means identical, large number means large distance\n",
        "nn = NearestNeighbors()\n",
        "\n",
        "# fit to our document term matrix\n",
        "nn.fit(dtm.values)"
      ],
      "execution_count": 45,
      "outputs": [
        {
          "output_type": "stream",
          "name": "stdout",
          "text": [
            "CPU times: user 3.88 ms, sys: 0 ns, total: 3.88 ms\n",
            "Wall time: 6.12 ms\n"
          ]
        },
        {
          "output_type": "execute_result",
          "data": {
            "text/plain": [
              "NearestNeighbors()"
            ],
            "text/html": [
              "<style>#sk-container-id-2 {color: black;background-color: white;}#sk-container-id-2 pre{padding: 0;}#sk-container-id-2 div.sk-toggleable {background-color: white;}#sk-container-id-2 label.sk-toggleable__label {cursor: pointer;display: block;width: 100%;margin-bottom: 0;padding: 0.3em;box-sizing: border-box;text-align: center;}#sk-container-id-2 label.sk-toggleable__label-arrow:before {content: \"▸\";float: left;margin-right: 0.25em;color: #696969;}#sk-container-id-2 label.sk-toggleable__label-arrow:hover:before {color: black;}#sk-container-id-2 div.sk-estimator:hover label.sk-toggleable__label-arrow:before {color: black;}#sk-container-id-2 div.sk-toggleable__content {max-height: 0;max-width: 0;overflow: hidden;text-align: left;background-color: #f0f8ff;}#sk-container-id-2 div.sk-toggleable__content pre {margin: 0.2em;color: black;border-radius: 0.25em;background-color: #f0f8ff;}#sk-container-id-2 input.sk-toggleable__control:checked~div.sk-toggleable__content {max-height: 200px;max-width: 100%;overflow: auto;}#sk-container-id-2 input.sk-toggleable__control:checked~label.sk-toggleable__label-arrow:before {content: \"▾\";}#sk-container-id-2 div.sk-estimator input.sk-toggleable__control:checked~label.sk-toggleable__label {background-color: #d4ebff;}#sk-container-id-2 div.sk-label input.sk-toggleable__control:checked~label.sk-toggleable__label {background-color: #d4ebff;}#sk-container-id-2 input.sk-hidden--visually {border: 0;clip: rect(1px 1px 1px 1px);clip: rect(1px, 1px, 1px, 1px);height: 1px;margin: -1px;overflow: hidden;padding: 0;position: absolute;width: 1px;}#sk-container-id-2 div.sk-estimator {font-family: monospace;background-color: #f0f8ff;border: 1px dotted black;border-radius: 0.25em;box-sizing: border-box;margin-bottom: 0.5em;}#sk-container-id-2 div.sk-estimator:hover {background-color: #d4ebff;}#sk-container-id-2 div.sk-parallel-item::after {content: \"\";width: 100%;border-bottom: 1px solid gray;flex-grow: 1;}#sk-container-id-2 div.sk-label:hover label.sk-toggleable__label {background-color: #d4ebff;}#sk-container-id-2 div.sk-serial::before {content: \"\";position: absolute;border-left: 1px solid gray;box-sizing: border-box;top: 0;bottom: 0;left: 50%;z-index: 0;}#sk-container-id-2 div.sk-serial {display: flex;flex-direction: column;align-items: center;background-color: white;padding-right: 0.2em;padding-left: 0.2em;position: relative;}#sk-container-id-2 div.sk-item {position: relative;z-index: 1;}#sk-container-id-2 div.sk-parallel {display: flex;align-items: stretch;justify-content: center;background-color: white;position: relative;}#sk-container-id-2 div.sk-item::before, #sk-container-id-2 div.sk-parallel-item::before {content: \"\";position: absolute;border-left: 1px solid gray;box-sizing: border-box;top: 0;bottom: 0;left: 50%;z-index: -1;}#sk-container-id-2 div.sk-parallel-item {display: flex;flex-direction: column;z-index: 1;position: relative;background-color: white;}#sk-container-id-2 div.sk-parallel-item:first-child::after {align-self: flex-end;width: 50%;}#sk-container-id-2 div.sk-parallel-item:last-child::after {align-self: flex-start;width: 50%;}#sk-container-id-2 div.sk-parallel-item:only-child::after {width: 0;}#sk-container-id-2 div.sk-dashed-wrapped {border: 1px dashed gray;margin: 0 0.4em 0.5em 0.4em;box-sizing: border-box;padding-bottom: 0.4em;background-color: white;}#sk-container-id-2 div.sk-label label {font-family: monospace;font-weight: bold;display: inline-block;line-height: 1.2em;}#sk-container-id-2 div.sk-label-container {text-align: center;}#sk-container-id-2 div.sk-container {/* jupyter's `normalize.less` sets `[hidden] { display: none; }` but bootstrap.min.css set `[hidden] { display: none !important; }` so we also need the `!important` here to be able to override the default hidden behavior on the sphinx rendered scikit-learn.org. See: https://github.com/scikit-learn/scikit-learn/issues/21755 */display: inline-block !important;position: relative;}#sk-container-id-2 div.sk-text-repr-fallback {display: none;}</style><div id=\"sk-container-id-2\" class=\"sk-top-container\"><div class=\"sk-text-repr-fallback\"><pre>NearestNeighbors()</pre><b>In a Jupyter environment, please rerun this cell to show the HTML representation or trust the notebook. <br />On GitHub, the HTML representation is unable to render, please try loading this page with nbviewer.org.</b></div><div class=\"sk-container\" hidden><div class=\"sk-item\"><div class=\"sk-estimator sk-toggleable\"><input class=\"sk-toggleable__control sk-hidden--visually\" id=\"sk-estimator-id-2\" type=\"checkbox\" checked><label for=\"sk-estimator-id-2\" class=\"sk-toggleable__label sk-toggleable__label-arrow\">NearestNeighbors</label><div class=\"sk-toggleable__content\"><pre>NearestNeighbors()</pre></div></div></div></div></div>"
            ]
          },
          "metadata": {},
          "execution_count": 45
        }
      ]
    },
    {
      "cell_type": "markdown",
      "metadata": {
        "id": "tPbW_1sum9NP"
      },
      "source": [
        "Find the 5 most similar documents to a query document; here we will choose the first document as our query document"
      ]
    },
    {
      "cell_type": "code",
      "metadata": {
        "id": "krvdbifUpi4X"
      },
      "source": [
        "# sample a doc from a dtm to use as our query point\n",
        "doc_index = 0\n",
        "\n",
        "# re-cast as a row vector\n",
        "query_doc = dtm.values[0][None,:]\n",
        "\n",
        "# pass in the query_doc\n",
        "# Query Using the k-neighbors method, using n_neighbors=6\n",
        "# NOTE: nn counts the original document as one of the neighbors, so if we want 5 nearest neighbors, we should set n_neightbors=6\n",
        "neigh_dist, neigh_index = nn.kneighbors(query_doc,n_neighbors=6)"
      ],
      "execution_count": 46,
      "outputs": []
    },
    {
      "cell_type": "code",
      "metadata": {
        "id": "3SUrN_YrvPsK",
        "colab": {
          "base_uri": "https://localhost:8080/"
        },
        "outputId": "1e9052e3-9dfd-4bef-be06-b0960b10bd1f"
      },
      "source": [
        "# nearest neighbor search returns the same documents as cosine similarity!\n",
        "# Doc 0 is the most similar, followed by 357, 400, 351, etc.\n",
        "# same order as if we use cosine similarity!\n",
        "print(neigh_index)\n",
        "print(neigh_dist)"
      ],
      "execution_count": 48,
      "outputs": [
        {
          "output_type": "stream",
          "name": "stdout",
          "text": [
            "[[  0 357 400 351  47  41]]\n",
            "[[0.         1.16837977 1.18321778 1.18321778 1.24610436 1.24816597]]\n"
          ]
        }
      ]
    },
    {
      "cell_type": "code",
      "metadata": {
        "id": "PDM_NrH7IBr8",
        "colab": {
          "base_uri": "https://localhost:8080/",
          "height": 123
        },
        "outputId": "62932f68-431f-4eca-96a1-ec1e226d0c01"
      },
      "source": [
        "data[0]"
      ],
      "execution_count": 49,
      "outputs": [
        {
          "output_type": "execute_result",
          "data": {
            "text/plain": [
              "'Row brewing over peer-to-peer ads\\n\\nMusic download networks are proving popular not just with an audience of youngsters keen to take advantage of free music but with advertisers equally keen to reach out to a captive audience.\\n\\nThe debate over the legitimacy of file-sharing networks rages on as the music industry continues its threats to close the services down for good. Meanwhile the millions of downloaders are proving both an advertiser\\'s dream come true and a branding nightmare. Paul Myers, chief executive of Wippit - a peer to peer service which provides paid-for music downloads - believes it is time advertisers stopped providing \\'oxygen\\' for companies that support illegal downloading. \"You may be surprised to know that current advertisers on the most popular peer to peer service eDonkey who now steadfastly support copyright theft with real cash money include Nat West, Vodafone, O2, First Direct, NTL, and Renault,\" he said in an open letter to the British Phonographic Industry last month.\\n\\nHe urged people to follow his lead and \\'dump\\' brands associated with companies such as eDonkey. The BPI is equally quick to condemn established brands becoming bedfellows with peer to peer networks. \\'Networks like eDonkey, Kazaa and Grokster facilitate illegal filesharing. The BPI strongly believes that any reputable company should look carefully at the support they are giving these networks through their advertising revenue,\" it said in a statement. \"Illegal file-sharers steal millions of pounds worth of music through these services. We are sure that the companies advertising on them would not put up with theft on such a scale from their own businesses,\" it said. But the issue is often more complicated for advertisers, said Mark Mulligan, a music analyst with Jupiter Research. \"This has been a problem for a long time, ever since the days of Napster,\" he told the BBC News website.\\n\\nThe reality is that the millions of downloaders represent a very attractive audience. \"Advertisers probably pay a lot less for putting ads here than on more respected sites and they are reaching the perfect target audience,\" he said. \"If you put the legality issues aside, not to advertise here would mean missing out on a valuable audience,\" he added. Meanwhile companies contacted by the BBC News website insist that they were not directly aware of where their ads have been appearing. OneTel adverts were spotted on eDonkey this week and its response was typical. \"We have investigated this matter and believe that one of our affiliate partners has placed this advert without our knowledge. It is not our policy to advertise through peer-to-peer networks,\" read a statement from the discount phone firm. It has requested the advert be removed immediately, said a spokeswoman. Similarly telecommunications firm NTL blames its media buying agency which places adverts with third party networks featuring thousands of sites. Since the matter was brought to its attention last month, the agency has strict instructions to make sure ads do not appear on such sites, a spokesman told the BBC News website.\\n\\nHowever Mr Mulligan was not entirely convinced by these explanations. While smaller brands might not necessarily be aware of where the money they allocate to online advertising actually ends, this is no excuse for well-known brands, he said. \"I would be surprised if these brands didn\\'t have the know-how to prevent this happening,\" he said. At the moment eDonkey is enjoying the benefits of having some very well-known faces advert on its network. \"Many big brands have leveraged the opportunity, including perhaps two of the biggest brands in the world - Senator John Kerry and President George W. Bush,\" said chief executive Sam Yagan. There are some distinct advantages of advertising on such a network, he thinks. \"Peer-to-peer clients offer big brands a unique opportunity to engage with their customers where they\\'re most comfortable: at their desks interacting with their favourite digital media,\" he said.\\n'"
            ],
            "application/vnd.google.colaboratory.intrinsic+json": {
              "type": "string"
            }
          },
          "metadata": {},
          "execution_count": 49
        }
      ]
    },
    {
      "cell_type": "code",
      "source": [
        "data[353] # Just using video's example, not the 2nd most similar doc in my case"
      ],
      "metadata": {
        "id": "R7jzq5UdVWIu",
        "colab": {
          "base_uri": "https://localhost:8080/",
          "height": 123
        },
        "outputId": "c523e4ee-78d2-4300-add4-9c07b785efd5"
      },
      "execution_count": 52,
      "outputs": [
        {
          "output_type": "execute_result",
          "data": {
            "text/plain": [
              "'US woman sues over ink cartridges\\n\\nA US woman is suing Hewlett Packard (HP), saying its printer ink cartridges are secretly programmed to expire on a certain date.\\n\\nThe unnamed woman from Georgia says that a chip inside the cartridge tells the printer that it needs re-filling even when it does not. The lawsuit seeks to represent anyone in the US who has purchased an HP inkjet printer since February 2001. HP, the world\\'s biggest printer firm, declined to comment on the lawsuit. HP ink cartridges use a chip technology to sense when they are low on ink and advise the user to make a change.\\n\\nBut the suit claims the chips also shut down the cartridges at a predetermined date regardless of whether they are empty. \"The smart chip is dually engineered to prematurely register ink depletion and to render a cartridge unusable through the use of a built-in expiration date that is not revealed to the consumer,\" the suit said. The lawsuit is asking for restitution, damages and other compensation. The cost of printer cartridges has been a contentious issue in Europe for the last 18 months. The price of inkjet printers has come down to as little as £34 but it could cost up to £1,700 in running costs over an 18-month period due to cartridge, a study by Computeractive Magazine revealed last year. The inkjet printer market has been the subject of an investigation by the UK\\'s Office of Fair Trading (OFT), which concluded in a 2002 report that retailers and manufacturers needed to make pricing more transparent for consumers.\\n'"
            ],
            "application/vnd.google.colaboratory.intrinsic+json": {
              "type": "string"
            }
          },
          "metadata": {},
          "execution_count": 52
        }
      ]
    },
    {
      "cell_type": "markdown",
      "source": [
        "Which words do these two documents have in common? It's hard to spot it with comparing the two paragraphs, so let's use some code to find out."
      ],
      "metadata": {
        "id": "GJvImw9sYxQ7"
      }
    },
    {
      "cell_type": "code",
      "source": [
        "# input two strings and return the overlapping words\n",
        "def shared_words(s1, s2):\n",
        "  res = []\n",
        "  l_s1, l_s2 = set(s1.split()), set(s2.split()) # create a set and see what unique words are in each string\n",
        "  for ss1 in l_s1:\n",
        "    if ss1 in l_s2: res.append(ss1)\n",
        "  return res\n",
        "\n",
        "doc1_tokens = tokenize(data[0])\n",
        "doc2_tokens = tokenize(data[353])\n",
        "shared_words(' '.join(doc1_tokens), ' '.join(doc2_tokens))"
      ],
      "metadata": {
        "id": "zlxQ968QYtrm",
        "colab": {
          "base_uri": "https://localhost:8080/"
        },
        "outputId": "9bffcf9a-a86b-4961-a01a-6714735869b6"
      },
      "execution_count": 54,
      "outputs": [
        {
          "output_type": "execute_result",
          "data": {
            "text/plain": [
              "['represent', 'big', 'month', 'tell', 'firm', 'say', 'issue', 'world', 'come']"
            ]
          },
          "metadata": {},
          "execution_count": 54
        }
      ]
    },
    {
      "cell_type": "markdown",
      "metadata": {
        "id": "LhG-KESidGIn"
      },
      "source": [
        "### Exercise:\n",
        "Search the BBC dataset for documents most similar to a random query doc"
      ]
    },
    {
      "cell_type": "code",
      "metadata": {
        "id": "ouWYmCawdRAT",
        "colab": {
          "base_uri": "https://localhost:8080/"
        },
        "outputId": "fa8e8134-59e0-4d70-cd7a-d520dc25f183"
      },
      "source": [
        "rndm_tech_article = [ \"\"\"\n",
        "Blockchain technology encompasses so much more than just cryptocurrencies these days. And while these currencies are by far blockchain’s most famous use case, the potential for blockchain far, far exceeds a straightforward transfer of value.\n",
        "The gaming industry, for example, has always been fairly controversial due to a range of issues. Many players feel particularly worried about the protection of their data, fraudulent activities, high fees, and most of all, unfair and hidden odds.\n",
        "In these cases, P2P doesn’t just mean peer-to-peer; it means player-to-player. As with the other P2P industries that blockchain is disrupting, such as FinTech, there are already plenty of ways in which blockchain technology is being applied to resolve these issues and many more of the challenges faced by the gaming industry. Here are just a few.\n",
        "Reducing fraud\n",
        "The gaming industry suffers a lot from online fraud. One of the main advantages of blockchain technology is that it enables highly secure data encryption. What’s more, all of it is entirely accessible and transparent to the player. In other words, blockchain is a for game changer for venues such as online casinos, lotteries, and virtually anything which relies on random number generation.\n",
        "On top of this, hackers will have particularly hard time, if it is even possible, to destroy a decentralized blockchain network, making sure gamer data stays safe. This is an inherent feature of distributed ledger technology whereby nodes in the ledger maintain the distributed databases in a shared manner, and each node has the complete information in the entire database.\n",
        "\"\"\"]\n",
        "\n",
        "\n",
        "# transform the rndm_tech_article to get its document vector\n",
        "doc_tfidf = tfidf.transform(rndm_tech_article)\n",
        "doc_tfidf"
      ],
      "execution_count": 56,
      "outputs": [
        {
          "output_type": "execute_result",
          "data": {
            "text/plain": [
              "<1x3376 sparse matrix of type '<class 'numpy.float64'>'\n",
              "\twith 61 stored elements in Compressed Sparse Row format>"
            ]
          },
          "metadata": {},
          "execution_count": 56
        }
      ]
    },
    {
      "cell_type": "code",
      "source": [
        "# use k Nearest Neighbors to find the most similar documents in our document term matrix to the query\n",
        "neigh_dist, neigh_index = nn.kneighbors(doc_tfidf, n_neighbors=5)"
      ],
      "metadata": {
        "id": "d1Z_yaXfVpOk"
      },
      "execution_count": 57,
      "outputs": []
    },
    {
      "cell_type": "code",
      "source": [
        "# Inspect the most similar documents\n",
        "neigh_dist"
      ],
      "metadata": {
        "id": "CQrZ5URfVqU6",
        "colab": {
          "base_uri": "https://localhost:8080/"
        },
        "outputId": "fd0b7add-4b76-49d4-8217-93bd3ee83dd0"
      },
      "execution_count": 58,
      "outputs": [
        {
          "output_type": "execute_result",
          "data": {
            "text/plain": [
              "array([[1.29336161, 1.29346351, 1.30548723, 1.31762852, 1.31806925]])"
            ]
          },
          "metadata": {},
          "execution_count": 58
        }
      ]
    },
    {
      "cell_type": "code",
      "source": [
        "neigh_index"
      ],
      "metadata": {
        "colab": {
          "base_uri": "https://localhost:8080/"
        },
        "id": "RxZocwygzgEv",
        "outputId": "3f90944a-3d7e-4032-fc63-23c39c5fb1bd"
      },
      "execution_count": 59,
      "outputs": [
        {
          "output_type": "execute_result",
          "data": {
            "text/plain": [
              "array([[179,  41,   0, 357, 209]])"
            ]
          },
          "metadata": {},
          "execution_count": 59
        }
      ]
    },
    {
      "cell_type": "code",
      "source": [
        "doc1_tokens = tokenize(rndm_tech_article[0])\n",
        "doc2_tokens = tokenize(data[179]) # It's 353 in the video, same article but different index somehow\n",
        "shared_words(' '.join(doc1_tokens), ' '.join(doc2_tokens))"
      ],
      "metadata": {
        "colab": {
          "base_uri": "https://localhost:8080/"
        },
        "id": "0EbuUgKQzma2",
        "outputId": "f97ca94e-e76c-40fb-cf36-31b8251ca48a"
      },
      "execution_count": 65,
      "outputs": [
        {
          "output_type": "execute_result",
          "data": {
            "text/plain": [
              "['distribute',\n",
              " 'far',\n",
              " 'make',\n",
              " 'technology',\n",
              " 'high',\n",
              " 'online',\n",
              " 'peer',\n",
              " 'case',\n",
              " 'network',\n",
              " 'stay',\n",
              " 'use',\n",
              " 'lot',\n",
              " 'issue',\n",
              " 'time',\n",
              " 'potential',\n",
              " 'transfer',\n",
              " 'resolve',\n",
              " 'rely',\n",
              " 'protection',\n",
              " 'p2p',\n",
              " 'industry',\n",
              " 'day',\n",
              " 'way',\n",
              " 'example',\n",
              " 'share']"
            ]
          },
          "metadata": {},
          "execution_count": 65
        }
      ]
    },
    {
      "cell_type": "code",
      "source": [
        "rndm_tech_article[0]"
      ],
      "metadata": {
        "colab": {
          "base_uri": "https://localhost:8080/",
          "height": 123
        },
        "id": "0exeZuhO0U9X",
        "outputId": "965f2229-13ac-4922-f71f-ba41f64875d9"
      },
      "execution_count": 63,
      "outputs": [
        {
          "output_type": "execute_result",
          "data": {
            "text/plain": [
              "'\\nBlockchain technology encompasses so much more than just cryptocurrencies these days. And while these currencies are by far blockchain’s most famous use case, the potential for blockchain far, far exceeds a straightforward transfer of value.\\nThe gaming industry, for example, has always been fairly controversial due to a range of issues. Many players feel particularly worried about the protection of their data, fraudulent activities, high fees, and most of all, unfair and hidden odds.\\nIn these cases, P2P doesn’t just mean peer-to-peer; it means player-to-player. As with the other P2P industries that blockchain is disrupting, such as FinTech, there are already plenty of ways in which blockchain technology is being applied to resolve these issues and many more of the challenges faced by the gaming industry. Here are just a few.\\nReducing fraud\\nThe gaming industry suffers a lot from online fraud. One of the main advantages of blockchain technology is that it enables highly secure data encryption. What’s more, all of it is entirely accessible and transparent to the player. In other words, blockchain is a for game changer for venues such as online casinos, lotteries, and virtually anything which relies on random number generation.\\nOn top of this, hackers will have particularly hard time, if it is even possible, to destroy a decentralized blockchain network, making sure gamer data stays safe. This is an inherent feature of distributed ledger technology whereby nodes in the ledger maintain the distributed databases in a shared manner, and each node has the complete information in the entire database.\\n'"
            ],
            "application/vnd.google.colaboratory.intrinsic+json": {
              "type": "string"
            }
          },
          "metadata": {},
          "execution_count": 63
        }
      ]
    },
    {
      "cell_type": "code",
      "source": [
        "data[179]"
      ],
      "metadata": {
        "colab": {
          "base_uri": "https://localhost:8080/",
          "height": 123
        },
        "id": "PiN_49GA0X04",
        "outputId": "f37dd93d-fd83-4c65-a827-59e724cb763c"
      },
      "execution_count": 64,
      "outputs": [
        {
          "output_type": "execute_result",
          "data": {
            "text/plain": [
              "'Peer-to-peer nets \\'here to stay\\'\\n\\nPeer-to-peer (P2P) networks are here to stay, and are on the verge of being exploited by commercial media firms, says a panel of industry experts.\\n\\nOnce several high-profile legal cases against file-sharers are resolved this year, firms will be very keen to try and make money from P2P technology. The expert panel probed the future of P2P at the Consumer Electronics Show in Las Vegas earlier in January. The first convictions for P2P piracy were handed out in the US in January. William Trowbridge and Michael Chicoine pleaded guilty to charges that they infringed copyright by illegally sharing music, movies and software. Since the first successful file-sharing network Napster was forced to close down, the entertainment industry has been nervous and critical of P2P technology, blaming it for falling sales and piracy. But that is going to change very soon, according to the panel.\\n\\nThe music and film industries have started some big legal cases against owners of legitimate P2P networks - which are not illegal in themselves - and of individuals accused of distributing pirated content over networks. But they have slowly realised that P2P is a good way to distribute content, said Travis Kalanick, founder and chairman of P2P network Red Swoosh, and soon they are all going to want a slice of it. They are just waiting to come up with \"business models\" that work for them, which includes digital rights management and copy-protection standards.\\n\\nBut, until the legal actions are resolved, experimentation with P2P cannot not happen, said Michael Weiss, president of StreamCast Networks. Remembering the furore around VCRs when they first came out, Mr Weiss said: \"Old media always tries to stop new media. \"When they can\\'t stop it, they try to control it. Then they figure out how to make money and they always make a lot of money.\" Once the courts decided that the VCR in itself was not an illegal technology, the film studios turned it into an extremely lucrative business. In August 2004, the San Francisco-based US Court of Appeals ruled in favour of Grokster and StreamCast, two file-sharing networks. The court said they were essentially in the same position that Sony was in the 1980s VCR battle, and said that the networks themselves could not be deemed as illegal.\\n\\nP2P networks usually do not rely on dedicated servers for the transfer of files. Instead it uses direct connections between computers - or clients. There are now many different types of P2P systems than work in different ways. P2P nets can be used to share any kind of file, like photos, free software, licensed music and any other digital content. The BBC has already decided to embrace the technology. It aims to offer most of its own programmes for download this year and it will use P2P technology to distribute them. The files would be locked seven days after a programme aired making rights management easier to control. But the technology is still demonised and misunderstood by many. The global entertainment industry says more than 2.6 billion copyrighted music files are downloaded every month, and about half a million films are downloaded a day. Legal music download services, like Apple iTunes, Napster, have rushed into the music marketplace to try and lure file-sharers away from free content. Sales of legally-downloaded songs grew tenfold in 2004, with 200 million tracks bought online in the US and Europe in 12 months, the IFPI reported this week. But such download services are very different from P2P networks, not least because of the financial aspect.\\n\\nThere are several money-spinning models that could turn P2P into a golden egg for commercial entertainment companies. Paid-for-pass-along, in which firms receive money each time a file is shared, along with various DRM solutions and advertiser-based options are all being considered. \"We see there are going to be different models for commoditising P2P,\" said Marc Morgenstern, vice president of anti-piracy firm Overpeer.\\n\\n\"Consumers are hungry for it and we will discover new models together,\" agreed Mr Morgenstern. But many net users will continue to ignore the entertainment industry\\'s potential controlling grip on content and P2P technology by continuing to use it for their own creations. Unsigned bands, for example, use P2P networks to distribute their music effectively, which also draws the attention of record companies looking for new artists to sign. \"Increasingly, what you are seeing on P2P is consumer-created content,\" said Derek Broes, from Microsoft. \"They will probably play an increasing role in helping P2P spread,\" he said. Looking into P2P\\'s future, file sharing is just the beginning for P2P networks, as far as Mr Broes is concerned. \"Once some of these issues are resolved, you are going to see aggressive movement to protect content, but also in ways that are unimaginable now,\" he said. \"File-sharing is the tip of the iceberg.\"\\n'"
            ],
            "application/vnd.google.colaboratory.intrinsic+json": {
              "type": "string"
            }
          },
          "metadata": {},
          "execution_count": 64
        }
      ]
    },
    {
      "cell_type": "markdown",
      "metadata": {
        "id": "RaSuFg0ldRAT"
      },
      "source": [
        "## Challenge\n",
        "\n",
        "In the module project assignment, you will apply one of these search techniques to retrieve documents related to a query document."
      ]
    },
    {
      "cell_type": "markdown",
      "metadata": {
        "id": "3ugKeF8odRAT"
      },
      "source": [
        "# 3. After CountVectorizer, Tfidf, now even more advanced - Apply word embedding models to create document vectors (Learn)\n",
        "<a id=\"p3\"></a>\n"
      ]
    },
    {
      "cell_type": "markdown",
      "metadata": {
        "id": "K5wmBPMUdRAU"
      },
      "source": [
        "## Overview\n",
        "### Bag of Words (BoW) models lose information about context\n",
        "\n",
        "One of the limitations of Bag-of-Words approaches is that any information about the context surrounding that word is lost. This also means that with bag-of-words approaches often the only tools that we have for identifying words with similar usage or meaning and subsequently consolidating them into a single vector is through the processes of stemming and lemmatization which tend to be quite limited at consolidating words unless the two words are very close in their spelling or in their root parts-of-speech.\n",
        "\n",
        "### Embedding approaches preserve more textual context\n",
        "Word2Vec is an increasingly popular word embedding technique. Like Bag-of-words it learns a real-value vector representation for a predefined fixed-size vocabulary that is generated from a corpus of text. However, in contrast to BoW, Word2Vec approaches are much more capable of accounting for textual context, and are better at discovering words with similar meanings or usages (semantic or syntactic similarity).\n",
        "\n",
        "##3.1 Word2Vec Intuition\n",
        "Reference: [Deep NLP: Word Vectors with Word2Vec](https://medium.com/deep-learning-demystified/deep-nlp-word-vectors-with-word2vec-d62cb29b40b3)\n",
        "### The Distribution Hypothesis\n",
        "\n",
        "In order to understand how Word2Vec preserves textual context we have to understand what's called the [Distribution Hypothesis](https://en.wikipedia.org/wiki/Distributional_semantics). The Distribution Hypothesis operates under the assumption that words that have similar contexts will have similar meanings. Practically speaking, this means that if two words are found to have similar words both to the right and to the left of them throughout the corpora then those words have the same context and are assumed to have the same meaning.\n",
        "\n",
        "> \"You shall know a word by the company it keeps\" - John Firth\n",
        "\n",
        "This means that we let the usage of a word define its meaning and its \"similarity\" to other words. In the following example, which words would you say have a similar meaning?\n",
        "\n",
        "**Sentence 1**: Traffic was light today\n",
        "\n",
        "**Sentence 2**: Traffic was heavy yesterday\n",
        "\n",
        "**Sentence 3**: Prediction is that traffic will be smooth-flowing tomorrow since it is a national holiday\n",
        "\n",
        "What words in the above sentences seem to have a similar meaning if all you knew about them was the context in which they appeared above?\n",
        "\n",
        "Lets take a look at how this might work in action, the following example is simplified, but will give you an idea of the intuition for how this works.\n",
        "\n",
        "#### Corpora:\n",
        "\n",
        "1) \"It was the sunniest of days.\"\n",
        "\n",
        "2) \"It was the rainiest of days.\"\n",
        "\n",
        "#### Vocabulary:\n",
        "\n",
        "{\"it\": 1, \"was\": 2, \"the\": 3, \"of\": 4, \"days\": 5, \"sunniest\": 6, \"rainiest\": 7}\n",
        "\n",
        "### Vectorization\n",
        "\n",
        "|       doc   | START_was | it_the | was_sunniest | the_of | sunniest_days | of_it | days_was | it_the | was_rainiest | rainiest_days | of_END |\n",
        "|----------|-----------|--------|--------------|--------|---------------|-------|----------|--------|-------------|--------------|--------|\n",
        "| it       | 1         | 0      | 0            | 0      | 0             | 0     | 1        | 0      | 0           | 0            | 0      |\n",
        "| was      | 0         | 1      | 0            | 0      | 0             | 0     | 0        | 1      | 0           | 0            | 0      |\n",
        "| the      | 0         | 0      | 1            | 0      | 0             | 0     | 0        | 0      | 1           | 0            | 0      |\n",
        "| sunniest | 0         | 0      | 0            | 1      | 0             | 0     | 0        | 0      | 0           | 0            | 0      |\n",
        "| of       | 0         | 0      | 0            | 0      | 1             | 0     | 0        | 0      | 0           | 1            | 0      |\n",
        "| days     | 0         | 0      | 0            | 0      | 0             | 0     | 0        | 0      | 0           | 0            | 1      |\n",
        "| rainiest  | 0         | 0      | 0            | 1      | 0             | 0     | 0        | 0      | 0           | 0            | 0      |\n",
        "\n",
        "Each column vector represents the word's context -in this case defined by the words to the left and right of the center word. How far we look to the left and right of a given word is referred to as our \"window of context.\" Each row vector represents the the different usages of a given word. Word2Vec can consider a larger context than only words that are immediately to the left and right of a given word, but we're going to keep our window of context small for this example. What's most important is that this vectorization has translated our documents from a text representation to a numeric one in a way that preserves information about the underlying context.\n",
        "\n",
        "We can see that words that have a similar context will have similar row-vector representations, but before looking that more in-depth, lets simplify our vectorization slightly. You'll notice that we're repeating the column-vector \"it_the\" twice. Lets combine those into a single vector by adding them element-wise.\n",
        "\n",
        "|       *   | START_was | it_the | was_sunniest | the_of | sunniest_days | of_it | days_was | was_rainiest | rainiest_days | of_END |\n",
        "|----------|-----------|--------|--------------|--------|---------------|-------|----------|-------------|--------------|--------|\n",
        "| it       | 1         | 0      | 0            | 0      | 0             | 0     | 1        | 0           | 0            | 0      |\n",
        "| was      | 0         | 2      | 0            | 0      | 0             | 0     | 0        | 0           | 0            | 0      |\n",
        "| the      | 0         | 0      | 1            | 0      | 0             | 0     | 0        | 1           | 0            | 0      |\n",
        "| sunniest | 0         | 0      | 0            | 1      | 0             | 0     | 0        | 0           | 0            | 0      |\n",
        "| of       | 0         | 0      | 0            | 0      | 1             | 0     | 0        | 0           | 1            | 0      |\n",
        "| days     | 0         | 0      | 0            | 0      | 0             | 0     | 0        | 0           | 0            | 1      |\n",
        "| rainiest  | 0         | 0      | 0            | 1      | 0             | 0     | 0        | 0           | 0            | 0      |\n",
        "\n",
        "Now, can you spot which words have a similar row-vector representation? Hint: Look for values that are repeated in a given column. Each column represents the context that word was found in. If there are multiple words that share a context then those words are understood to have a closer meaning with each other than with other words in the text.\n",
        "\n",
        "Lets look specifically at the words sunniest and rainiest. You'll notice that these two words have exactly the same 10-dimensional vector representation. Based on this very small corpora of text we would conclude that these two words have relatd meanings because they share the same usage. Is this a good assumption? Well, they are both referring to the weather outside so that's better than nothing. You could imagine that as our corpora grows larger we will be exposed a greater number of contexts and the Distribution Hypothesis assumption will improve.\n",
        "\n",
        "##3.2 Word2Vec Variants - Skip-Gram vs. Continuous Bag of Words (CBOW)\n",
        "\n",
        "###3.2.1 Skip-Gram\n",
        "\n",
        "The Skip-Gram method predicts the neighbors’ of a word given a center word. In the skip-gram model, we take a center word and a window of context (neighbors) words to train the model and then predict context words out to some window size for each center word.\n",
        "\n",
        "This notion of “context” or “neighboring” words is best described by considering a center word and a window of words around it.\n",
        "\n",
        "For example, if we consider the sentence **“The speedy Porsche drove past the elegant Rolls-Royce”** and a window size of 2, we’d have the following pairs for the skip-gram model:\n",
        "\n",
        "**Text:**\n",
        "**The**\tspeedy\tPorsche\tdrove\tpast\tthe\telegant\tRolls-Royce\n",
        "\n",
        "*Training Sample with window of 2*: (the, speedy), (the, Porsche)\n",
        "\n",
        "**Text:**\n",
        "The\t**speedy**\tPorsche\tdrove\tpast\tthe\telegant\tRolls-Royce\n",
        "\n",
        "*Training Sample with window of 2*: (speedy, the), (speedy, Porsche), (speedy, drove)\n",
        "\n",
        "**Text:**\n",
        "The\tspeedy\t**Porsche**\tdrove\tpast\tthe\telegant\tRolls-Royce\n",
        "\n",
        "*Training Sample with window of 2*: (Porsche, the), (Porsche, speedy), (Porsche, drove), (Porsche, past)\n",
        "\n",
        "**Text:**\n",
        "The\tspeedy\tPorsche\t**drove**\tpast\tthe\telegant\tRolls-Royce\n",
        "\n",
        "*Training Sample with window of 2*: (drove, speedy), (drove, Porsche), (drove, past), (drove, the)\n",
        "\n",
        "The **Skip-gram model** is going to output a probability distribution i.e. the probability of a word appearing in context given a center word and we are going to select the vector representation that maximizes the probability.\n",
        "\n",
        "With CountVectorizer and TF-IDF the best we could do for context was to look at common bi-grams and tri-grams (n-grams). Well, skip-grams go far beyond that and give our model much stronger contextual information.\n",
        "\n",
        "![alt text](https://www.dropbox.com/s/c7mwy6dk9k99bgh/Image%202%20-%20SkipGrams.jpg?raw=1)\n",
        "\n",
        "###3.2.2 Continuous Bag of Words - Opposite to Skip-gram\n",
        "\n",
        "This model takes thes opposite approach from the skip-gram model in that it tries to predict a center word based on the neighboring words. In the case of the CBOW model, we input the context words within the window (such as “the”, “Porsche”, “drove”) and aim to predict the target or center word “speedy” (the input to the prediction pipeline is reversed as compared to the SkipGram model).\n",
        "\n",
        "A graphical depiction of the input to output prediction pipeline for both variants of the Word2vec model is attached. The graphical depiction will help crystallize the difference between SkipGrams and Continuous Bag of Words.\n",
        "\n",
        "![alt text](https://www.dropbox.com/s/k3ddmbtd52wq2li/Image%203%20-%20CBOW%20Model.jpg?raw=1)\n",
        "\n",
        "###3.2.3 Notes on Word Embeddings:\n",
        "\n",
        "1) Word2Vec is useful for topic-modeling, because each word vector contains information about related context words.\n",
        "\n",
        "2) Word2Vec can result in really large and complex vectorizations. In fact, you need Deep Neural Networks to train your Word2Vec models from scratch, but we can use helpful pretrained embeddings to do really cool things!\n",
        "Let's take a look at how to work with these word vectors."
      ]
    },
    {
      "cell_type": "markdown",
      "metadata": {
        "id": "YbCusle-77J4"
      },
      "source": [
        "## 3.3 Spacy word embeddings\n",
        "#### `spacy` provides pre-trained Word2Vec models.\n",
        "\n",
        "We will use their `en_core_web_md` model, which has 300-dimensional word embeddings for 20,000 words."
      ]
    },
    {
      "cell_type": "code",
      "metadata": {
        "nbgrader": {
          "grade": false,
          "grade_id": "cell-08acf3f0c46d7591",
          "locked": false,
          "schema_version": 3,
          "solution": true,
          "task": false
        },
        "scrolled": true,
        "id": "zfaoM_g7dRAU",
        "colab": {
          "base_uri": "https://localhost:8080/"
        },
        "outputId": "e0545e7b-dbe7-42d3-8299-7d638d77e676"
      },
      "source": [
        "# Process a text\n",
        "doc = nlp(\"bananas\")\n",
        "\n",
        "# Get the vector for the token \"bananas\"\n",
        "bananas_vector = doc.vector\n",
        "\n",
        "# print the dimensionality of the vector embedding, from a shallow neural network, 300 similar words to bananas\n",
        "print(len(bananas_vector))\n",
        "print(bananas_vector)"
      ],
      "execution_count": 66,
      "outputs": [
        {
          "output_type": "stream",
          "name": "stdout",
          "text": [
            "300\n",
            "[-2.1689e-01 -2.5989e+00 -1.3144e+00  2.2500e+00 -4.6767e-01 -2.0695e+00\n",
            " -6.3379e-01 -4.0222e-01 -3.4022e+00 -3.6932e-01 -7.9938e-01 -1.0412e+00\n",
            "  9.3756e-01  1.6070e+00  8.8330e-01 -2.8483e+00  1.3349e-01 -3.1656e+00\n",
            "  8.1896e-01 -4.8113e+00  1.5655e+00  1.6665e+00 -4.7081e-01 -1.9475e+00\n",
            " -1.1779e+00 -1.3810e+00 -2.0071e+00 -2.1639e-01  9.0609e-01  1.5279e+00\n",
            "  1.2587e-04 -2.9000e+00  7.6069e-01 -2.2825e+00  1.2495e-02 -1.5653e+00\n",
            "  2.0052e+00 -1.7747e+00  5.9220e-01 -1.1428e+00 -1.3441e+00  3.4784e-01\n",
            "  1.7492e+00  1.9086e+00  1.0600e+00  1.2965e+00  4.1431e-01  7.9416e-01\n",
            " -1.1277e+00 -1.1403e+00  7.5891e-01 -9.4419e-01  1.4413e+00 -2.2554e+00\n",
            "  1.6226e-01  3.8901e-01  1.2299e-01  1.1577e+00  1.5524e+00  1.3853e+00\n",
            "  1.1112e+00  7.5767e-01  3.9431e+00 -2.8506e-01 -2.1645e+00 -1.0862e+00\n",
            " -1.4973e+00 -1.2781e+00  2.4643e+00 -1.5886e+00  2.5679e-01  6.4918e-01\n",
            "  1.6809e-01  5.7693e-01  3.1121e-01 -4.5278e-01 -2.7555e+00 -2.1846e+00\n",
            "  4.4865e+00  2.7107e-01 -5.3831e-01  8.3013e-01  6.7752e-02  1.4234e-01\n",
            "  1.2585e+00 -8.5423e-01  9.2971e-01 -3.9940e-01 -5.8663e-01  6.6604e-01\n",
            "  2.3871e+00  4.9333e-01  2.3922e+00 -3.7396e+00 -3.9524e-01 -6.3799e-01\n",
            "  3.3500e+00 -2.0430e+00 -1.5601e+00 -2.3594e+00 -1.4671e+00 -3.2848e+00\n",
            "  1.5197e+00 -1.1674e+00 -1.2885e+00  3.4890e+00 -4.0526e+00  1.6946e+00\n",
            " -1.5310e+00  2.6790e+00  1.2865e+00 -2.9286e-02  3.1037e+00  1.3635e-01\n",
            " -1.3327e-01  5.4603e-01  1.2937e+00 -2.3662e+00  2.8862e-01  1.6226e+00\n",
            "  6.3531e-01  1.5498e+00 -2.3349e+00  1.6150e+00 -2.0071e+00 -4.8784e-01\n",
            "  1.7768e+00 -2.6920e+00  1.6341e+00  4.0537e-01  3.7324e-01  7.8494e-01\n",
            "  1.3917e+00 -2.9035e-01  2.5224e+00  1.2485e+00 -1.5159e+00 -2.0832e+00\n",
            " -1.8766e-01 -1.3394e+00 -5.3597e-01 -2.4915e+00  1.6341e+00 -3.0336e+00\n",
            "  1.8791e-01 -2.4776e-01  1.6347e+00 -7.0009e-01  2.1221e+00 -2.3470e+00\n",
            " -2.1513e+00  1.2630e+00 -2.8195e-01 -5.6535e-01 -9.0373e-01  1.3455e+00\n",
            "  4.1099e+00  6.9325e-01  4.6835e-01  2.9949e-01 -3.2456e-01 -2.1713e+00\n",
            "  4.6691e-01 -1.3795e-01  6.0910e-01 -1.3374e+00 -8.3586e-01  1.8260e+00\n",
            " -4.5386e-01  1.2555e+00 -6.6705e-01 -3.0835e-01 -1.4692e-01  3.9952e+00\n",
            " -1.1289e+00  1.7926e-01 -5.8095e-01  6.2500e-01  2.6151e+00 -1.3212e+00\n",
            " -1.9355e+00  2.4898e+00 -1.7301e+00  8.6154e-01 -2.5272e+00 -3.0166e+00\n",
            "  5.8867e-01 -1.4207e-01  1.7611e+00 -1.0399e+00  5.7063e-01  7.2554e-01\n",
            "  8.7684e-01  1.6996e+00  1.1084e+00 -2.6877e-01 -2.2970e+00  1.8850e+00\n",
            "  1.2536e-01  1.1671e+00 -1.3038e+00  8.2640e-01  3.8002e-01 -1.0354e+00\n",
            "  2.2547e+00 -2.4526e-01  8.3622e-01 -7.9525e-01  1.4251e+00  4.5795e-02\n",
            "  2.5062e+00  7.2175e-01 -3.8197e-01  1.1387e+00  1.6779e+00 -1.6925e+00\n",
            "  8.2290e-02 -3.3117e-01 -6.1974e-01  8.0306e-01  2.1189e+00 -7.8231e-01\n",
            "  3.3266e-01 -7.1646e-01  1.7721e+00 -1.2573e+00  1.5601e-01  9.6129e-01\n",
            "  4.8986e-01  3.1657e+00 -3.0332e+00 -9.1339e-01 -2.8627e-01 -9.8174e-01\n",
            " -2.7599e+00  2.9160e+00 -1.1540e+00  2.9537e+00 -1.1502e+00 -2.2760e+00\n",
            "  1.1679e+00  2.0314e-01 -2.2882e+00  1.0485e+00 -4.9545e-01  2.4065e+00\n",
            "  9.1433e-01  1.3808e-01 -1.1361e+00 -1.2278e+00 -1.8958e+00 -2.4934e-01\n",
            " -4.1792e+00 -1.3781e+00 -8.9829e-01 -1.4802e+00 -1.2894e+00  2.2336e+00\n",
            " -2.4411e+00  3.0410e-01  2.1452e+00  1.8540e+00 -3.3640e-01  4.2768e-01\n",
            " -4.2577e-01  2.2337e-01  3.3650e+00 -2.1996e-01 -1.7426e+00  1.4554e+00\n",
            "  2.5087e+00 -1.1257e+00  1.4096e+00  1.3704e-01  7.6963e-01 -7.6688e-02\n",
            " -6.1875e-01 -2.0445e-01  4.9965e-01 -6.7246e-01 -4.0058e-01 -1.1536e+00\n",
            " -9.2837e-01 -2.5444e+00 -1.9880e-01 -2.1432e+00 -1.8218e+00 -5.7831e-01\n",
            " -1.6785e+00  2.6610e+00  1.0343e+00 -1.4297e+00  1.4563e+00 -2.0388e+00\n",
            " -1.4377e+00 -9.7985e-01  2.9488e+00 -2.7107e-01 -2.4010e-01 -1.3845e-01]\n"
          ]
        }
      ]
    },
    {
      "cell_type": "code",
      "source": [
        "apple = nlp('apple')\n",
        "banana = nlp('banana')\n",
        "gravity = nlp('gravity')\n",
        "\n",
        "print(f'Apple -> Banana similarity: {apple.similarity(banana)}')\n",
        "print(f'Apple -> Gravity similarity: {apple.similarity(gravity)}')\n",
        "print(f'Banana -> Gravity similarity: {banana.similarity(gravity)}')"
      ],
      "metadata": {
        "id": "XHQ4uUf4WI1G",
        "colab": {
          "base_uri": "https://localhost:8080/"
        },
        "outputId": "634ee085-d8ec-4324-9497-adb430a94439"
      },
      "execution_count": 67,
      "outputs": [
        {
          "output_type": "stream",
          "name": "stdout",
          "text": [
            "Apple -> Banana similarity: 0.6646700384869841\n",
            "Apple -> Gravity similarity: 0.1950858162480275\n",
            "Banana -> Gravity similarity: 0.07896224402806362\n"
          ]
        }
      ]
    },
    {
      "cell_type": "markdown",
      "metadata": {
        "id": "FD1qE_vCHWuG"
      },
      "source": [
        "### Spacy Document vectors\n",
        "\n",
        "From spacy we can get word2vec embeddings for each word in a document<br>\n",
        "We can create a document vector by averaging all the word vectors in that doc<br>\n",
        "We can calculate the similarity between documents now!"
      ]
    },
    {
      "cell_type": "code",
      "metadata": {
        "id": "6Vkq3tlyL2Xp"
      },
      "source": [
        "# Get the vector for each word, and average it to get vector of that sentence or doc\n",
        "doc1 = nlp(\"On a hot summer day, it's good to drink water.\")\n",
        "doc2 = nlp(\"There are lots of cold drinks in the refrigerator.\")\n",
        "doc3 = nlp(\"cosine distance measures similarity\")"
      ],
      "execution_count": 72,
      "outputs": []
    },
    {
      "cell_type": "code",
      "metadata": {
        "id": "zM5RbtPfL38t",
        "colab": {
          "base_uri": "https://localhost:8080/"
        },
        "outputId": "55116e94-d646-46e1-a0f7-e295e1157aeb"
      },
      "source": [
        "len(doc1.vector)"
      ],
      "execution_count": 69,
      "outputs": [
        {
          "output_type": "execute_result",
          "data": {
            "text/plain": [
              "300"
            ]
          },
          "metadata": {},
          "execution_count": 69
        }
      ]
    },
    {
      "cell_type": "code",
      "metadata": {
        "id": "Lz5eGGl5MKxx",
        "colab": {
          "base_uri": "https://localhost:8080/"
        },
        "outputId": "d55208d1-14ee-425a-b556-21005755fe37"
      },
      "source": [
        "type(doc)"
      ],
      "execution_count": 70,
      "outputs": [
        {
          "output_type": "execute_result",
          "data": {
            "text/plain": [
              "spacy.tokens.doc.Doc"
            ]
          },
          "metadata": {},
          "execution_count": 70
        }
      ]
    },
    {
      "cell_type": "code",
      "metadata": {
        "nbgrader": {
          "grade": false,
          "grade_id": "cell-4a00f1280d6a3a32",
          "locked": false,
          "schema_version": 3,
          "solution": true,
          "task": false
        },
        "id": "CXNDY_VadRAV",
        "colab": {
          "base_uri": "https://localhost:8080/"
        },
        "outputId": "413f55a3-e09d-46f1-f9cf-5e783555fc19"
      },
      "source": [
        "# Get the similarity of doc1 and doc2\n",
        "similarity = doc1.similarity(doc2)\n",
        "print(similarity)"
      ],
      "execution_count": 71,
      "outputs": [
        {
          "output_type": "stream",
          "name": "stdout",
          "text": [
            "0.6108931607606939\n"
          ]
        }
      ]
    },
    {
      "cell_type": "code",
      "metadata": {
        "id": "plyigAgONqJ5",
        "colab": {
          "base_uri": "https://localhost:8080/"
        },
        "outputId": "5c08b09e-4242-49a3-ab1d-1b0e4991bf4f"
      },
      "source": [
        "doc3.similarity(doc2)"
      ],
      "execution_count": 73,
      "outputs": [
        {
          "output_type": "execute_result",
          "data": {
            "text/plain": [
              "0.4321588018234114"
            ]
          },
          "metadata": {},
          "execution_count": 73
        }
      ]
    },
    {
      "cell_type": "code",
      "metadata": {
        "id": "QbXwpFEvcdQG",
        "colab": {
          "base_uri": "https://localhost:8080/"
        },
        "outputId": "fa71ca22-0cdb-44b5-f389-89306804052f"
      },
      "source": [
        "doc3.similarity(doc1)"
      ],
      "execution_count": 74,
      "outputs": [
        {
          "output_type": "execute_result",
          "data": {
            "text/plain": [
              "0.3946464127504255"
            ]
          },
          "metadata": {},
          "execution_count": 74
        }
      ]
    },
    {
      "cell_type": "markdown",
      "metadata": {
        "id": "fBwRFUIhzH79"
      },
      "source": [
        "## Challenge: can we make a \"thesaurus\"?<br>\n",
        "Given a query word, do you think we could find good synonyms  <br>\n",
        "by doing a nearest neighbor search on the `spacy` word embeddings?<br>\n",
        "Let's give it a try!"
      ]
    },
    {
      "cell_type": "markdown",
      "metadata": {
        "id": "93PNwg0ODA5k"
      },
      "source": [
        "First, get the embeddings for the vocabulary words and make a document-term matrix"
      ]
    },
    {
      "cell_type": "code",
      "metadata": {
        "id": "sKtrMIBTe4Ja",
        "colab": {
          "base_uri": "https://localhost:8080/"
        },
        "outputId": "a75c6fa8-36d6-4c20-bb3b-64ef2758e55d"
      },
      "source": [
        "%%time\n",
        "# Grab all the words from spacy vocab\n",
        "vocab = list(nlp.vocab.strings)\n",
        "print(len(vocab))"
      ],
      "execution_count": 76,
      "outputs": [
        {
          "output_type": "stream",
          "name": "stdout",
          "text": [
            "777073\n",
            "CPU times: user 321 ms, sys: 67.9 ms, total: 389 ms\n",
            "Wall time: 405 ms\n"
          ]
        }
      ]
    },
    {
      "cell_type": "code",
      "metadata": {
        "id": "HhvStTRcYt70",
        "colab": {
          "base_uri": "https://localhost:8080/"
        },
        "outputId": "bd0c7b8c-f255-429b-c395-ea715e0b5b48"
      },
      "source": [
        "# eliminate duplicates due to mixing upper and lower case\n",
        "lower_vocab =[word.lower() for word in vocab]\n",
        "vocab = list(set(lower_vocab))\n",
        "print(len(vocab))"
      ],
      "execution_count": 78,
      "outputs": [
        {
          "output_type": "stream",
          "name": "stdout",
          "text": [
            "428102\n"
          ]
        }
      ]
    },
    {
      "cell_type": "code",
      "metadata": {
        "id": "NYsIXtUlZobh",
        "colab": {
          "base_uri": "https://localhost:8080/"
        },
        "outputId": "1f87a9cb-7142-4033-cbd4-89a95c81841c"
      },
      "source": [
        "%%time\n",
        "# Loop through every word and get the vector for each word\n",
        "word_vectors = [nlp.vocab.get_vector(word) for word in vocab]\n",
        "word_vectors = np.asarray(word_vectors)\n",
        "print(word_vectors.shape)"
      ],
      "execution_count": 79,
      "outputs": [
        {
          "output_type": "stream",
          "name": "stdout",
          "text": [
            "(428102, 300)\n",
            "CPU times: user 15.5 s, sys: 1.5 s, total: 17 s\n",
            "Wall time: 16.8 s\n"
          ]
        }
      ]
    },
    {
      "cell_type": "markdown",
      "metadata": {
        "id": "PJuBDt0PEh3G"
      },
      "source": [
        "Fit a nearest-neighbors model to the document-term matrix"
      ]
    },
    {
      "cell_type": "code",
      "metadata": {
        "id": "IB3pAOhmto8W",
        "colab": {
          "base_uri": "https://localhost:8080/",
          "height": 109
        },
        "outputId": "f645d06e-1900-4b37-9dcb-040769370e17"
      },
      "source": [
        "%%time\n",
        "nn = NearestNeighbors(n_neighbors=10, algorithm='auto')\n",
        "\n",
        "# fit to the document-term matrix of all the vocabulary words\n",
        "nn.fit(word_vectors)"
      ],
      "execution_count": 80,
      "outputs": [
        {
          "output_type": "stream",
          "name": "stdout",
          "text": [
            "CPU times: user 65.4 ms, sys: 0 ns, total: 65.4 ms\n",
            "Wall time: 68.5 ms\n"
          ]
        },
        {
          "output_type": "execute_result",
          "data": {
            "text/plain": [
              "NearestNeighbors(n_neighbors=10)"
            ],
            "text/html": [
              "<style>#sk-container-id-3 {color: black;background-color: white;}#sk-container-id-3 pre{padding: 0;}#sk-container-id-3 div.sk-toggleable {background-color: white;}#sk-container-id-3 label.sk-toggleable__label {cursor: pointer;display: block;width: 100%;margin-bottom: 0;padding: 0.3em;box-sizing: border-box;text-align: center;}#sk-container-id-3 label.sk-toggleable__label-arrow:before {content: \"▸\";float: left;margin-right: 0.25em;color: #696969;}#sk-container-id-3 label.sk-toggleable__label-arrow:hover:before {color: black;}#sk-container-id-3 div.sk-estimator:hover label.sk-toggleable__label-arrow:before {color: black;}#sk-container-id-3 div.sk-toggleable__content {max-height: 0;max-width: 0;overflow: hidden;text-align: left;background-color: #f0f8ff;}#sk-container-id-3 div.sk-toggleable__content pre {margin: 0.2em;color: black;border-radius: 0.25em;background-color: #f0f8ff;}#sk-container-id-3 input.sk-toggleable__control:checked~div.sk-toggleable__content {max-height: 200px;max-width: 100%;overflow: auto;}#sk-container-id-3 input.sk-toggleable__control:checked~label.sk-toggleable__label-arrow:before {content: \"▾\";}#sk-container-id-3 div.sk-estimator input.sk-toggleable__control:checked~label.sk-toggleable__label {background-color: #d4ebff;}#sk-container-id-3 div.sk-label input.sk-toggleable__control:checked~label.sk-toggleable__label {background-color: #d4ebff;}#sk-container-id-3 input.sk-hidden--visually {border: 0;clip: rect(1px 1px 1px 1px);clip: rect(1px, 1px, 1px, 1px);height: 1px;margin: -1px;overflow: hidden;padding: 0;position: absolute;width: 1px;}#sk-container-id-3 div.sk-estimator {font-family: monospace;background-color: #f0f8ff;border: 1px dotted black;border-radius: 0.25em;box-sizing: border-box;margin-bottom: 0.5em;}#sk-container-id-3 div.sk-estimator:hover {background-color: #d4ebff;}#sk-container-id-3 div.sk-parallel-item::after {content: \"\";width: 100%;border-bottom: 1px solid gray;flex-grow: 1;}#sk-container-id-3 div.sk-label:hover label.sk-toggleable__label {background-color: #d4ebff;}#sk-container-id-3 div.sk-serial::before {content: \"\";position: absolute;border-left: 1px solid gray;box-sizing: border-box;top: 0;bottom: 0;left: 50%;z-index: 0;}#sk-container-id-3 div.sk-serial {display: flex;flex-direction: column;align-items: center;background-color: white;padding-right: 0.2em;padding-left: 0.2em;position: relative;}#sk-container-id-3 div.sk-item {position: relative;z-index: 1;}#sk-container-id-3 div.sk-parallel {display: flex;align-items: stretch;justify-content: center;background-color: white;position: relative;}#sk-container-id-3 div.sk-item::before, #sk-container-id-3 div.sk-parallel-item::before {content: \"\";position: absolute;border-left: 1px solid gray;box-sizing: border-box;top: 0;bottom: 0;left: 50%;z-index: -1;}#sk-container-id-3 div.sk-parallel-item {display: flex;flex-direction: column;z-index: 1;position: relative;background-color: white;}#sk-container-id-3 div.sk-parallel-item:first-child::after {align-self: flex-end;width: 50%;}#sk-container-id-3 div.sk-parallel-item:last-child::after {align-self: flex-start;width: 50%;}#sk-container-id-3 div.sk-parallel-item:only-child::after {width: 0;}#sk-container-id-3 div.sk-dashed-wrapped {border: 1px dashed gray;margin: 0 0.4em 0.5em 0.4em;box-sizing: border-box;padding-bottom: 0.4em;background-color: white;}#sk-container-id-3 div.sk-label label {font-family: monospace;font-weight: bold;display: inline-block;line-height: 1.2em;}#sk-container-id-3 div.sk-label-container {text-align: center;}#sk-container-id-3 div.sk-container {/* jupyter's `normalize.less` sets `[hidden] { display: none; }` but bootstrap.min.css set `[hidden] { display: none !important; }` so we also need the `!important` here to be able to override the default hidden behavior on the sphinx rendered scikit-learn.org. See: https://github.com/scikit-learn/scikit-learn/issues/21755 */display: inline-block !important;position: relative;}#sk-container-id-3 div.sk-text-repr-fallback {display: none;}</style><div id=\"sk-container-id-3\" class=\"sk-top-container\"><div class=\"sk-text-repr-fallback\"><pre>NearestNeighbors(n_neighbors=10)</pre><b>In a Jupyter environment, please rerun this cell to show the HTML representation or trust the notebook. <br />On GitHub, the HTML representation is unable to render, please try loading this page with nbviewer.org.</b></div><div class=\"sk-container\" hidden><div class=\"sk-item\"><div class=\"sk-estimator sk-toggleable\"><input class=\"sk-toggleable__control sk-hidden--visually\" id=\"sk-estimator-id-3\" type=\"checkbox\" checked><label for=\"sk-estimator-id-3\" class=\"sk-toggleable__label sk-toggleable__label-arrow\">NearestNeighbors</label><div class=\"sk-toggleable__content\"><pre>NearestNeighbors(n_neighbors=10)</pre></div></div></div></div></div>"
            ]
          },
          "metadata": {},
          "execution_count": 80
        }
      ]
    },
    {
      "cell_type": "markdown",
      "metadata": {
        "id": "qdrcAOcfChy0"
      },
      "source": [
        "Choose a query word, for which you want to find synonyms"
      ]
    },
    {
      "cell_type": "code",
      "metadata": {
        "id": "8pBxmi4O5rhp",
        "colab": {
          "base_uri": "https://localhost:8080/"
        },
        "outputId": "6a39fa2d-7f18-482f-8950-f71c1ada19cd"
      },
      "source": [
        "query_word = 'marvelous'\n",
        "query_vector = nlp.vocab.get_vector(query_word)[None,:]\n",
        "query_vector.shape"
      ],
      "execution_count": 81,
      "outputs": [
        {
          "output_type": "execute_result",
          "data": {
            "text/plain": [
              "(1, 300)"
            ]
          },
          "metadata": {},
          "execution_count": 81
        }
      ]
    },
    {
      "cell_type": "markdown",
      "metadata": {
        "id": "qRbtlDz0EI6Q"
      },
      "source": [
        "Find the nearest neighbors to the query, from spacy's vocabulary"
      ]
    },
    {
      "cell_type": "code",
      "metadata": {
        "id": "plA09PgS68Sc",
        "colab": {
          "base_uri": "https://localhost:8080/"
        },
        "outputId": "5da7b634-cf51-4b1d-e7d9-d098856ccb97"
      },
      "source": [
        "neigh_dist, neigh_index = nn.kneighbors(query_vector, n_neighbors=20) # 20 most similar words\n",
        "[vocab[int(index)] for index in neigh_index[0]]"
      ],
      "execution_count": 82,
      "outputs": [
        {
          "output_type": "execute_result",
          "data": {
            "text/plain": [
              "['marvellous',\n",
              " 'sublime',\n",
              " 'serendipity',\n",
              " 'marvelous',\n",
              " 'wondrous',\n",
              " 'stupendous',\n",
              " 'mesmerize',\n",
              " 'marvel',\n",
              " 'enchaîné',\n",
              " 'marvels',\n",
              " 'majeste',\n",
              " 'barbastelle',\n",
              " 'majesté',\n",
              " 'splenda',\n",
              " 'splendida',\n",
              " 'lofty',\n",
              " '2,247',\n",
              " 'lavishly',\n",
              " 'knavish',\n",
              " 'maje']"
            ]
          },
          "metadata": {},
          "execution_count": 82
        }
      ]
    },
    {
      "cell_type": "markdown",
      "metadata": {
        "id": "_JftffA2DK2Y"
      },
      "source": [
        "## Can we visualize word vectors?\n",
        "\n",
        "300 dimensional word vectors are difficult (impossible) to visualize! <br>\n",
        "However, we can use **Principal Components Analysis (PCA)** to reduce their dimensionality. <br>\n",
        "\n",
        "PCA is one of the most important techniques in machine learning, and indeed in all of mathematics! PCA transforms the feature vectors of a data set to their \"Principal Components\", which are ranked in order of their importance in describing the data set. By eliminating the less important Principal Components, we can reduce the dimensionality of the data set, at the cost of losing some information.\n",
        "\n",
        "If you're interested to explore this topic in greater depth, here are a couple of references:\n",
        "- One of the best brief introductions to the mathematics of PCA is [Daniela Witten's tweetstorm](https://twitter.com/womeninstat/status/1285610321747611653?lang=en)\n",
        "- For a more in-depth, but still understandable exposition of PCA, watch the Statquest video [Principal Component Analysis (PCA), Step-by-Step](https://youtu.be/FgakZw6K1QQ) from Josh Starmer.\n",
        "\n",
        "Now let's **use PCA to reduce our 300-dimensional word vectors down to two dimensions**, so that we can visualize them in a plane. Of course, in the process we lose a lot of information, but these 2D word vectors still pack a surprising amount of information!"
      ]
    },
    {
      "cell_type": "code",
      "metadata": {
        "nbgrader": {
          "grade": false,
          "grade_id": "cell-c54d3921b438215d",
          "locked": false,
          "schema_version": 3,
          "solution": true,
          "task": false
        },
        "id": "WNGfmJ13dRAV",
        "colab": {
          "base_uri": "https://localhost:8080/"
        },
        "outputId": "193ba45d-6eb2-484c-a151-e9a410ebf7f8"
      },
      "source": [
        "# import the PCA module from sklearn\n",
        "from sklearn.decomposition import PCA\n",
        "\n",
        "def get_word_vectors(words):\n",
        "    # converts a list of words into their word vectors\n",
        "    return [nlp(word).vector for word in words]\n",
        "\n",
        "words = ['machine learning', 'man', 'woman',  'king', 'queen',\n",
        "         'artificial intelligence', 'nurse', 'doctor',\n",
        "         'data', 'science', 'concrete', 'wood',  'marble',\n",
        "         'design', 'color', 'font']\n",
        "\n",
        "\n",
        "word_vectors = get_word_vectors(words)\n",
        "\n",
        "\n",
        "# intialise pca model and tell it to project data down onto 2 dimensions\n",
        "\n",
        "# fit the pca model to our 300D data, this will work out which is the best\n",
        "# way to project the data down that will best maintain the relative distances\n",
        "# between data points. It will store these intructioons on how to transform the data.\n",
        "\n",
        "# Tell our (fitted) pca model to transform our 300D data down onto 2D using the\n",
        "# instructions it learnt during the fit phase.\n",
        "\n",
        "# let's look at our new 2D word vectors\n",
        "\n",
        "# intialise pca model and tell it to project data down onto 2 dimensions\n",
        "pca = PCA(n_components=2)\n",
        "\n",
        "# fit the pca model to our 300D data, this will work out which is the best\n",
        "# way to project the data down that will best maintain the relative distances\n",
        "# between data points. It will store these intructioons on how to transform the data.\n",
        "pca.fit(word_vectors)\n",
        "\n",
        "# Tell our (fitted) pca model to transform our 300D data down onto 2D using the\n",
        "# instructions it learnt during the fit phase.\n",
        "word_vecs_2d = pca.transform(word_vectors)\n",
        "\n",
        "# let's look at our new 2D word vectors\n",
        "word_vecs_2d"
      ],
      "execution_count": 83,
      "outputs": [
        {
          "output_type": "execute_result",
          "data": {
            "text/plain": [
              "array([[ 12.11743258,  -2.77693012],\n",
              "       [-45.54898063, -15.27549239],\n",
              "       [-34.80068426, -14.77403133],\n",
              "       [-19.34695307,  -9.30238425],\n",
              "       [-23.62047068,  -2.28660117],\n",
              "       [ 10.62450152,  -7.24286534],\n",
              "       [-17.07648744, -16.99066889],\n",
              "       [-15.69730945, -17.9996428 ],\n",
              "       [ 66.71193105, -40.34772401],\n",
              "       [ 14.04759063, -15.37321516],\n",
              "       [  9.00471304,  13.81359345],\n",
              "       [  3.76143786,  44.43499691],\n",
              "       [ -3.62989266,  24.93806863],\n",
              "       [ 22.71976886,  15.07595384],\n",
              "       [ 10.63557368,  23.65722858],\n",
              "       [ 10.09782897,  20.44971404]])"
            ]
          },
          "metadata": {},
          "execution_count": 83
        }
      ]
    },
    {
      "cell_type": "code",
      "metadata": {
        "id": "mjxAfKfodRAV",
        "colab": {
          "base_uri": "https://localhost:8080/",
          "height": 681
        },
        "outputId": "4ab76578-05b8-424f-da75-098e80ba91b7"
      },
      "source": [
        "# create a nice big plot\n",
        "plt.figure(figsize=(12,8))\n",
        "\n",
        "# plot the scatter plot of where the words will be\n",
        "plt.scatter(word_vecs_2d[:,0], word_vecs_2d[:,1])\n",
        "\n",
        "# for each word and coordinate pair: draw the text on the plot\n",
        "for word, coord in zip(words, word_vecs_2d):\n",
        "    x, y = coord\n",
        "    plt.text(x, y, word, size= 15)\n",
        "\n",
        "# show the plot\n",
        "plt.grid();\n",
        "plt.show()"
      ],
      "execution_count": 84,
      "outputs": [
        {
          "output_type": "display_data",
          "data": {
            "text/plain": [
              "<Figure size 1200x800 with 1 Axes>"
            ],
            "image/png": "[encoded data removed]"
          },
          "metadata": {}
        }
      ]
    },
    {
      "cell_type": "markdown",
      "metadata": {
        "id": "ruZeW9_ZDACQ"
      },
      "source": [
        "### Spend a few minutes exploring the magic of word vectors!\n",
        "Create your own `words` list and run it through the code in the above two cells. <br>\n",
        "Perhaps include clusters of words that have similar meanings or that might <br>reveal implicit gender bias or some other kind of bias. What did you find out?"
      ]
    },
    {
      "cell_type": "markdown",
      "metadata": {
        "id": "6uAb_h7ldRAW"
      },
      "source": [
        "## Challenge\n",
        "\n",
        "You will extract word embeddings from documents using Spacy's pre-trained model in the upcoming module project."
      ]
    },
    {
      "cell_type": "markdown",
      "metadata": {
        "id": "KUWsVDc4dRAW"
      },
      "source": [
        "## King - Man + Woman = Queen\n",
        "\n",
        "Check out [**The amazing power of word vectors**](https://blog.acolyer.org/2016/04/21/the-amazing-power-of-word-vectors/), which explores the above equation"
      ]
    },
    {
      "cell_type": "markdown",
      "metadata": {
        "id": "yEkjvdD5dRAW"
      },
      "source": [
        "# Sources\n",
        "\n",
        "* Spacy 101 - https://course.spacy.io\n",
        "* NLTK Book - https://www.nltk.org/book/\n",
        "* An Introduction to Information Retrieval - https://nlp.stanford.edu/IR-book/pdf/irbookonlinereading.pdf"
      ]
    }
  ]
}