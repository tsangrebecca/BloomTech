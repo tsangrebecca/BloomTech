{
  "nbformat": 4,
  "nbformat_minor": 0,
  "metadata": {
    "colab": {
      "provenance": [],
      "authorship_tag": "ABX9TyOHnIwPGUTgXFZoLec9Yh6Z",
      "include_colab_link": true
    },
    "kernelspec": {
      "name": "python3",
      "display_name": "Python 3"
    },
    "language_info": {
      "name": "python"
    }
  },
  "cells": [
    {
      "cell_type": "markdown",
      "metadata": {
        "id": "view-in-github",
        "colab_type": "text"
      },
      "source": [
        "<a href=\"https://colab.research.google.com/github/tsangrebecca/BloomTech/blob/main/Sprint7/Module3/O1_GetPermutationImportancesForModelInterpretationAndFeatureSelection.ipynb\" target=\"_parent\"><img src=\"https://colab.research.google.com/assets/colab-badge.svg\" alt=\"Open In Colab\"/></a>"
      ]
    },
    {
      "cell_type": "code",
      "source": [
        "import pandas as pd"
      ],
      "metadata": {
        "id": "QaNpHj_AS2T-"
      },
      "execution_count": 1,
      "outputs": []
    },
    {
      "cell_type": "code",
      "execution_count": 2,
      "metadata": {
        "id": "j9pbbqrnQ9nX"
      },
      "outputs": [],
      "source": [
        "# Import libraries, load data, and view import pandas as pd\n",
        "url = \"https://raw.githubusercontent.com/bloominstituteoftechnology/DS-Unit-2-Kaggle-Challenge/main/data/weather/weatherAUS.csv\"\n",
        "weather = pd.read_csv(url)\n",
        "weather.head()\n",
        "\n",
        "# Drop columns with high-percentage of missing values (and the leaky feature)\n",
        "cols_drop = ['Location', 'Evaporation', 'Sunshine', 'Cloud9am', 'Cloud3pm', 'RISK_MM']\n",
        "weather_drop = weather.drop(cols_drop, axis=1)\n",
        "\n",
        "# Convert the 'Date' column to datetime, extract month\n",
        "weather_drop['Date'] = pd.to_datetime(weather_drop['Date'], infer_datetime_format=True).dt.month"
      ]
    },
    {
      "cell_type": "code",
      "source": [
        "# Imports\n",
        "import numpy as np\n",
        "\n",
        "from sklearn.compose import ColumnTransformer\n",
        "from sklearn.pipeline import Pipeline\n",
        "from sklearn.impute import SimpleImputer\n",
        "from sklearn.preprocessing import StandardScaler, OrdinalEncoder\n",
        "from sklearn.tree import DecisionTreeClassifier\n",
        "\n",
        "\n",
        "# Define the numeric features\n",
        "numeric_features = ['MinTemp', 'MaxTemp', 'Rainfall', 'WindGustSpeed',\n",
        "                    'WindSpeed9am','WindSpeed3pm', 'Humidity9am',\n",
        "                    'Humidity3pm', 'Pressure9am','Pressure3pm',\n",
        "                    'Temp9am', 'Temp3pm']\n",
        "\n",
        "# Create the transformer (impute, scale)\n",
        "numeric_transformer = Pipeline(steps=[\n",
        "    ('imputer', SimpleImputer(strategy='median')),\n",
        "    ('scaler', StandardScaler())])\n",
        "\n",
        "# Define the categorical features\n",
        "categorical_features = ['WindGustDir', 'WindDir9am', 'WindDir3pm', 'RainToday']\n",
        "categorical_transformer = Pipeline(steps=[\n",
        "    ('imputer', SimpleImputer(strategy='constant', fill_value='missing')),\n",
        "    ('ordinal', OrdinalEncoder())])\n",
        "\n",
        "# Define how the numeric and categorical features will be transformed\n",
        "preprocessor = ColumnTransformer(\n",
        "    transformers=[\n",
        "        ('num', numeric_transformer, numeric_features),\n",
        "        ('cat', categorical_transformer, categorical_features)])\n",
        "\n",
        "# Define the pipeline steps, including the classifier\n",
        "clf = Pipeline(steps=[('preprocessor', preprocessor),\n",
        "                  ('classifier', DecisionTreeClassifier())])"
      ],
      "metadata": {
        "id": "9nrGPlg-Erdg"
      },
      "execution_count": 3,
      "outputs": []
    },
    {
      "cell_type": "code",
      "source": [
        "# Create the feature matrix\n",
        "X = weather_drop.drop('RainTomorrow', axis=1)\n",
        "\n",
        "# Create and encode the target array\n",
        "from sklearn.preprocessing import LabelEncoder\n",
        "label_enc = LabelEncoder()\n",
        "y=label_enc.fit_transform(weather_drop['RainTomorrow'])\n",
        "\n",
        "# Import the train_test_split utility\n",
        "from sklearn.model_selection import train_test_split\n",
        "\n",
        "# Create the training and test sets\n",
        "X_train, X_test, y_train, y_test = train_test_split(\n",
        "    X, y, test_size=0.2, random_state=42)\n",
        "\n",
        "# Fit the model\n",
        "clf.fit(X_train,y_train)\n",
        "print('Validation Accuracy', clf.score(X_test, y_test))"
      ],
      "metadata": {
        "colab": {
          "base_uri": "https://localhost:8080/"
        },
        "id": "5WW0b61PE6pm",
        "outputId": "95f3bebf-090d-48fb-e2ef-3e11aaecfd95"
      },
      "execution_count": 4,
      "outputs": [
        {
          "output_type": "stream",
          "name": "stdout",
          "text": [
            "Validation Accuracy 0.7672983490294504\n"
          ]
        }
      ]
    },
    {
      "cell_type": "code",
      "source": [
        "# Features (order in which they were preprocessed)\n",
        "features_order = numeric_features + categorical_features\n",
        "\n",
        "importances = pd.Series(clf.steps[1][1].feature_importances_, features_order)\n",
        "\n",
        "# Plot feature importances\n",
        "import matplotlib.pyplot as plt\n",
        "\n",
        "n = 10\n",
        "plt.figure(figsize=(10,n/2))\n",
        "plt.title(f'Top {n} features')\n",
        "importances.sort_values()[-n:].plot.barh(color='grey')\n",
        "\n",
        "plt.show()"
      ],
      "metadata": {
        "colab": {
          "base_uri": "https://localhost:8080/",
          "height": 468
        },
        "id": "Nflq7WZ_FCVW",
        "outputId": "230eb0c4-e722-4f29-beb7-6714598c6023"
      },
      "execution_count": 5,
      "outputs": [
        {
          "output_type": "display_data",
          "data": {
            "text/plain": [
              "<Figure size 1000x500 with 1 Axes>"
            ],
            "image/png": "[encoded data removed]"
          },
          "metadata": {}
        }
      ]
    },
    {
      "cell_type": "markdown",
      "source": [
        "Now we can start the permutation of one feature and try different features:"
      ],
      "metadata": {
        "id": "zLLQv1NMFTfs"
      }
    },
    {
      "cell_type": "code",
      "source": [
        "# Permute the values in the more important column\n",
        "feature = 'Humidity3pm'\n",
        "X_test_permuted = X_test.copy()\n",
        "\n",
        "# Fill in missing values\n",
        "X_test_permuted[feature].fillna(value = X_test_permuted[feature].median(), inplace=True)\n",
        "\n",
        "# Permute\n",
        "X_test_permuted[feature] = np.random.permutation(X_test[feature])\n",
        "\n",
        "print('Feature permuted: ', feature)\n",
        "print('Validation Accuracy', clf.score(X_test, y_test))\n",
        "print('Validation Accuracy (permuted)', clf.score(X_test_permuted, y_test))"
      ],
      "metadata": {
        "colab": {
          "base_uri": "https://localhost:8080/"
        },
        "id": "44_3icDtFZCr",
        "outputId": "77f77426-3da0-46b3-eb9f-d9b809446eb9"
      },
      "execution_count": 6,
      "outputs": [
        {
          "output_type": "stream",
          "name": "stdout",
          "text": [
            "Feature permuted:  Humidity3pm\n",
            "Validation Accuracy 0.7672983490294504\n",
            "Validation Accuracy (permuted) 0.6689308987082364\n"
          ]
        }
      ]
    },
    {
      "cell_type": "markdown",
      "source": [
        "The accuracy went down, as we would expect if this feature was important to the model. So Humidity3pm has some effect on the model. Let's try another feature."
      ],
      "metadata": {
        "id": "I8vlXos_FsIi"
      }
    },
    {
      "cell_type": "code",
      "source": [
        "# Permute the values in a less important column\n",
        "feature = 'WindSpeed3pm'\n",
        "X_test_permuted = X_test.copy()\n",
        "\n",
        "# Fill in missing values\n",
        "X_test_permuted[feature].fillna(value = X_test_permuted[feature].median(), inplace=True)\n",
        "\n",
        "# Permute\n",
        "X_test_permuted[feature] = np.random.permutation(X_test[feature])\n",
        "\n",
        "print('Feature permuted: ', feature)\n",
        "print('Validation Accuracy', clf.score(X_test, y_test))\n",
        "print('Validation Accuracy (permuted)', clf.score(X_test_permuted, y_test))"
      ],
      "metadata": {
        "colab": {
          "base_uri": "https://localhost:8080/"
        },
        "id": "3ebhuQjJFs56",
        "outputId": "d4c3181d-ab1b-4b39-fa48-b4407df908b0"
      },
      "execution_count": 7,
      "outputs": [
        {
          "output_type": "stream",
          "name": "stdout",
          "text": [
            "Feature permuted:  WindSpeed3pm\n",
            "Validation Accuracy 0.7672983490294504\n",
            "Validation Accuracy (permuted) 0.7556932003960487\n"
          ]
        }
      ]
    },
    {
      "cell_type": "markdown",
      "source": [
        "The decrease in accuracy was not nearly as significant, so WindSpeed3pm is not as important to the model."
      ],
      "metadata": {
        "id": "Or_eJsaKFysM"
      }
    },
    {
      "cell_type": "code",
      "source": [],
      "metadata": {
        "id": "L5RYdAXgFvrS"
      },
      "execution_count": null,
      "outputs": []
    }
  ]
}