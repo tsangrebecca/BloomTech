{
  "nbformat": 4,
  "nbformat_minor": 0,
  "metadata": {
    "colab": {
      "provenance": [],
      "authorship_tag": "ABX9TyMyStNBEsWIJprCH5PN07o6",
      "include_colab_link": true
    },
    "kernelspec": {
      "name": "python3",
      "display_name": "Python 3"
    },
    "language_info": {
      "name": "python"
    }
  },
  "cells": [
    {
      "cell_type": "markdown",
      "metadata": {
        "id": "view-in-github",
        "colab_type": "text"
      },
      "source": [
        "<a href=\"https://colab.research.google.com/github/tsangrebecca/BloomTech/blob/main/Sprint7/Module1/O4_UseTheClassificationMetricROC_AUCToInterpretAClassifierModel.ipynb\" target=\"_parent\"><img src=\"https://colab.research.google.com/assets/colab-badge.svg\" alt=\"Open In Colab\"/></a>"
      ]
    },
    {
      "cell_type": "code",
      "source": [
        "# TPR is also the Recall"
      ],
      "metadata": {
        "id": "N6PMdyA1dCsV"
      },
      "execution_count": null,
      "outputs": []
    },
    {
      "cell_type": "markdown",
      "source": [
        "![image.png](data:image/png;base64,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)"
      ],
      "metadata": {
        "id": "2ixjZk-4cZzi"
      }
    },
    {
      "cell_type": "markdown",
      "source": [
        "![image.png](data:image/png;base64,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)"
      ],
      "metadata": {
        "id": "z8oxbjUTc0CQ"
      }
    },
    {
      "cell_type": "code",
      "source": [
        "# the denominators are exact opposites of each other"
      ],
      "metadata": {
        "id": "wSf4zrWZdAQR"
      },
      "execution_count": null,
      "outputs": []
    },
    {
      "cell_type": "code",
      "source": [
        "# Load modules\n",
        "import pandas as pd\n",
        "from sklearn.datasets import make_classification\n",
        "from sklearn.linear_model import LogisticRegression\n",
        "from sklearn.model_selection import train_test_split\n",
        "from sklearn.metrics import roc_curve\n",
        "\n",
        "# Create the data (feature, target)\n",
        "X, y = make_classification(n_samples=10000, n_features=5,\n",
        "                          n_classes=2, n_informative=3,\n",
        "                          random_state=42)\n",
        "\n",
        "# Split the data into a training set and a test set\n",
        "X_train, X_test, y_train, y_test = train_test_split(X, y, random_state=42)\n",
        "\n",
        "# Create and fit the model\n",
        "logreg_classifier = LogisticRegression().fit(X_train, y_train)\n",
        "\n",
        "# Create predicted probabilities\n",
        "y_pred_prob = logreg_classifier.predict_proba(X_test)[:,1]"
      ],
      "metadata": {
        "id": "xptIl9IHdNaX"
      },
      "execution_count": null,
      "outputs": []
    },
    {
      "cell_type": "code",
      "source": [
        "# Create the data for the ROC curve\n",
        "fpr, tpr, thresholds = roc_curve(y_test, y_pred_prob)\n",
        "\n",
        "# See the results in a table\n",
        "roccurve_df = pd.DataFrame({\n",
        "    'False Positive Rate': fpr,\n",
        "    'True Positive Rate': tpr,\n",
        "    'Threshold': thresholds\n",
        "})\n",
        "\n",
        "roccurve_df.head()"
      ],
      "metadata": {
        "colab": {
          "base_uri": "https://localhost:8080/",
          "height": 206
        },
        "id": "WFvpfFJEdYgb",
        "outputId": "bceee647-1148-4328-e588-afa83d528800"
      },
      "execution_count": null,
      "outputs": [
        {
          "output_type": "execute_result",
          "data": {
            "text/plain": [
              "   False Positive Rate  True Positive Rate  Threshold\n",
              "0             0.000000            0.000000   1.999969\n",
              "1             0.000000            0.000786   0.999969\n",
              "2             0.000000            0.291438   0.983222\n",
              "3             0.000815            0.291438   0.983049\n",
              "4             0.000815            0.360566   0.970583"
            ],
            "text/html": [
              "\n",
              "  <div id=\"df-ea53bd3c-4850-4c52-8bd4-04b37c589456\" class=\"colab-df-container\">\n",
              "    <div>\n",
              "<style scoped>\n",
              "    .dataframe tbody tr th:only-of-type {\n",
              "        vertical-align: middle;\n",
              "    }\n",
              "\n",
              "    .dataframe tbody tr th {\n",
              "        vertical-align: top;\n",
              "    }\n",
              "\n",
              "    .dataframe thead th {\n",
              "        text-align: right;\n",
              "    }\n",
              "</style>\n",
              "<table border=\"1\" class=\"dataframe\">\n",
              "  <thead>\n",
              "    <tr style=\"text-align: right;\">\n",
              "      <th></th>\n",
              "      <th>False Positive Rate</th>\n",
              "      <th>True Positive Rate</th>\n",
              "      <th>Threshold</th>\n",
              "    </tr>\n",
              "  </thead>\n",
              "  <tbody>\n",
              "    <tr>\n",
              "      <th>0</th>\n",
              "      <td>0.000000</td>\n",
              "      <td>0.000000</td>\n",
              "      <td>1.999969</td>\n",
              "    </tr>\n",
              "    <tr>\n",
              "      <th>1</th>\n",
              "      <td>0.000000</td>\n",
              "      <td>0.000786</td>\n",
              "      <td>0.999969</td>\n",
              "    </tr>\n",
              "    <tr>\n",
              "      <th>2</th>\n",
              "      <td>0.000000</td>\n",
              "      <td>0.291438</td>\n",
              "      <td>0.983222</td>\n",
              "    </tr>\n",
              "    <tr>\n",
              "      <th>3</th>\n",
              "      <td>0.000815</td>\n",
              "      <td>0.291438</td>\n",
              "      <td>0.983049</td>\n",
              "    </tr>\n",
              "    <tr>\n",
              "      <th>4</th>\n",
              "      <td>0.000815</td>\n",
              "      <td>0.360566</td>\n",
              "      <td>0.970583</td>\n",
              "    </tr>\n",
              "  </tbody>\n",
              "</table>\n",
              "</div>\n",
              "    <div class=\"colab-df-buttons\">\n",
              "\n",
              "  <div class=\"colab-df-container\">\n",
              "    <button class=\"colab-df-convert\" onclick=\"convertToInteractive('df-ea53bd3c-4850-4c52-8bd4-04b37c589456')\"\n",
              "            title=\"Convert this dataframe to an interactive table.\"\n",
              "            style=\"display:none;\">\n",
              "\n",
              "  <svg xmlns=\"http://www.w3.org/2000/svg\" height=\"24px\" viewBox=\"0 -960 960 960\">\n",
              "    <path d=\"M120-120v-720h720v720H120Zm60-500h600v-160H180v160Zm220 220h160v-160H400v160Zm0 220h160v-160H400v160ZM180-400h160v-160H180v160Zm440 0h160v-160H620v160ZM180-180h160v-160H180v160Zm440 0h160v-160H620v160Z\"/>\n",
              "  </svg>\n",
              "    </button>\n",
              "\n",
              "  <style>\n",
              "    .colab-df-container {\n",
              "      display:flex;\n",
              "      gap: 12px;\n",
              "    }\n",
              "\n",
              "    .colab-df-convert {\n",
              "      background-color: #E8F0FE;\n",
              "      border: none;\n",
              "      border-radius: 50%;\n",
              "      cursor: pointer;\n",
              "      display: none;\n",
              "      fill: #1967D2;\n",
              "      height: 32px;\n",
              "      padding: 0 0 0 0;\n",
              "      width: 32px;\n",
              "    }\n",
              "\n",
              "    .colab-df-convert:hover {\n",
              "      background-color: #E2EBFA;\n",
              "      box-shadow: 0px 1px 2px rgba(60, 64, 67, 0.3), 0px 1px 3px 1px rgba(60, 64, 67, 0.15);\n",
              "      fill: #174EA6;\n",
              "    }\n",
              "\n",
              "    .colab-df-buttons div {\n",
              "      margin-bottom: 4px;\n",
              "    }\n",
              "\n",
              "    [theme=dark] .colab-df-convert {\n",
              "      background-color: #3B4455;\n",
              "      fill: #D2E3FC;\n",
              "    }\n",
              "\n",
              "    [theme=dark] .colab-df-convert:hover {\n",
              "      background-color: #434B5C;\n",
              "      box-shadow: 0px 1px 3px 1px rgba(0, 0, 0, 0.15);\n",
              "      filter: drop-shadow(0px 1px 2px rgba(0, 0, 0, 0.3));\n",
              "      fill: #FFFFFF;\n",
              "    }\n",
              "  </style>\n",
              "\n",
              "    <script>\n",
              "      const buttonEl =\n",
              "        document.querySelector('#df-ea53bd3c-4850-4c52-8bd4-04b37c589456 button.colab-df-convert');\n",
              "      buttonEl.style.display =\n",
              "        google.colab.kernel.accessAllowed ? 'block' : 'none';\n",
              "\n",
              "      async function convertToInteractive(key) {\n",
              "        const element = document.querySelector('#df-ea53bd3c-4850-4c52-8bd4-04b37c589456');\n",
              "        const dataTable =\n",
              "          await google.colab.kernel.invokeFunction('convertToInteractive',\n",
              "                                                    [key], {});\n",
              "        if (!dataTable) return;\n",
              "\n",
              "        const docLinkHtml = 'Like what you see? Visit the ' +\n",
              "          '<a target=\"_blank\" href=https://colab.research.google.com/notebooks/data_table.ipynb>data table notebook</a>'\n",
              "          + ' to learn more about interactive tables.';\n",
              "        element.innerHTML = '';\n",
              "        dataTable['output_type'] = 'display_data';\n",
              "        await google.colab.output.renderOutput(dataTable, element);\n",
              "        const docLink = document.createElement('div');\n",
              "        docLink.innerHTML = docLinkHtml;\n",
              "        element.appendChild(docLink);\n",
              "      }\n",
              "    </script>\n",
              "  </div>\n",
              "\n",
              "\n",
              "<div id=\"df-78780626-ecc4-4df6-bbae-3c56c7eaf420\">\n",
              "  <button class=\"colab-df-quickchart\" onclick=\"quickchart('df-78780626-ecc4-4df6-bbae-3c56c7eaf420')\"\n",
              "            title=\"Suggest charts\"\n",
              "            style=\"display:none;\">\n",
              "\n",
              "<svg xmlns=\"http://www.w3.org/2000/svg\" height=\"24px\"viewBox=\"0 0 24 24\"\n",
              "     width=\"24px\">\n",
              "    <g>\n",
              "        <path d=\"M19 3H5c-1.1 0-2 .9-2 2v14c0 1.1.9 2 2 2h14c1.1 0 2-.9 2-2V5c0-1.1-.9-2-2-2zM9 17H7v-7h2v7zm4 0h-2V7h2v10zm4 0h-2v-4h2v4z\"/>\n",
              "    </g>\n",
              "</svg>\n",
              "  </button>\n",
              "\n",
              "<style>\n",
              "  .colab-df-quickchart {\n",
              "      --bg-color: #E8F0FE;\n",
              "      --fill-color: #1967D2;\n",
              "      --hover-bg-color: #E2EBFA;\n",
              "      --hover-fill-color: #174EA6;\n",
              "      --disabled-fill-color: #AAA;\n",
              "      --disabled-bg-color: #DDD;\n",
              "  }\n",
              "\n",
              "  [theme=dark] .colab-df-quickchart {\n",
              "      --bg-color: #3B4455;\n",
              "      --fill-color: #D2E3FC;\n",
              "      --hover-bg-color: #434B5C;\n",
              "      --hover-fill-color: #FFFFFF;\n",
              "      --disabled-bg-color: #3B4455;\n",
              "      --disabled-fill-color: #666;\n",
              "  }\n",
              "\n",
              "  .colab-df-quickchart {\n",
              "    background-color: var(--bg-color);\n",
              "    border: none;\n",
              "    border-radius: 50%;\n",
              "    cursor: pointer;\n",
              "    display: none;\n",
              "    fill: var(--fill-color);\n",
              "    height: 32px;\n",
              "    padding: 0;\n",
              "    width: 32px;\n",
              "  }\n",
              "\n",
              "  .colab-df-quickchart:hover {\n",
              "    background-color: var(--hover-bg-color);\n",
              "    box-shadow: 0 1px 2px rgba(60, 64, 67, 0.3), 0 1px 3px 1px rgba(60, 64, 67, 0.15);\n",
              "    fill: var(--button-hover-fill-color);\n",
              "  }\n",
              "\n",
              "  .colab-df-quickchart-complete:disabled,\n",
              "  .colab-df-quickchart-complete:disabled:hover {\n",
              "    background-color: var(--disabled-bg-color);\n",
              "    fill: var(--disabled-fill-color);\n",
              "    box-shadow: none;\n",
              "  }\n",
              "\n",
              "  .colab-df-spinner {\n",
              "    border: 2px solid var(--fill-color);\n",
              "    border-color: transparent;\n",
              "    border-bottom-color: var(--fill-color);\n",
              "    animation:\n",
              "      spin 1s steps(1) infinite;\n",
              "  }\n",
              "\n",
              "  @keyframes spin {\n",
              "    0% {\n",
              "      border-color: transparent;\n",
              "      border-bottom-color: var(--fill-color);\n",
              "      border-left-color: var(--fill-color);\n",
              "    }\n",
              "    20% {\n",
              "      border-color: transparent;\n",
              "      border-left-color: var(--fill-color);\n",
              "      border-top-color: var(--fill-color);\n",
              "    }\n",
              "    30% {\n",
              "      border-color: transparent;\n",
              "      border-left-color: var(--fill-color);\n",
              "      border-top-color: var(--fill-color);\n",
              "      border-right-color: var(--fill-color);\n",
              "    }\n",
              "    40% {\n",
              "      border-color: transparent;\n",
              "      border-right-color: var(--fill-color);\n",
              "      border-top-color: var(--fill-color);\n",
              "    }\n",
              "    60% {\n",
              "      border-color: transparent;\n",
              "      border-right-color: var(--fill-color);\n",
              "    }\n",
              "    80% {\n",
              "      border-color: transparent;\n",
              "      border-right-color: var(--fill-color);\n",
              "      border-bottom-color: var(--fill-color);\n",
              "    }\n",
              "    90% {\n",
              "      border-color: transparent;\n",
              "      border-bottom-color: var(--fill-color);\n",
              "    }\n",
              "  }\n",
              "</style>\n",
              "\n",
              "  <script>\n",
              "    async function quickchart(key) {\n",
              "      const quickchartButtonEl =\n",
              "        document.querySelector('#' + key + ' button');\n",
              "      quickchartButtonEl.disabled = true;  // To prevent multiple clicks.\n",
              "      quickchartButtonEl.classList.add('colab-df-spinner');\n",
              "      try {\n",
              "        const charts = await google.colab.kernel.invokeFunction(\n",
              "            'suggestCharts', [key], {});\n",
              "      } catch (error) {\n",
              "        console.error('Error during call to suggestCharts:', error);\n",
              "      }\n",
              "      quickchartButtonEl.classList.remove('colab-df-spinner');\n",
              "      quickchartButtonEl.classList.add('colab-df-quickchart-complete');\n",
              "    }\n",
              "    (() => {\n",
              "      let quickchartButtonEl =\n",
              "        document.querySelector('#df-78780626-ecc4-4df6-bbae-3c56c7eaf420 button');\n",
              "      quickchartButtonEl.style.display =\n",
              "        google.colab.kernel.accessAllowed ? 'block' : 'none';\n",
              "    })();\n",
              "  </script>\n",
              "</div>\n",
              "    </div>\n",
              "  </div>\n"
            ]
          },
          "metadata": {},
          "execution_count": 3
        }
      ]
    },
    {
      "cell_type": "code",
      "source": [
        "# Plot the ROC curve\n",
        "import matplotlib.pyplot as plt\n",
        "\n",
        "plt.plot(fpr, tpr)\n",
        "plt.plot([0,1], ls='--')\n",
        "plt.title('ROC curve')\n",
        "plt.xlabel('False Positive Rate')\n",
        "plt.ylabel('True Positive Rate')\n",
        "\n",
        "plt.show()"
      ],
      "metadata": {
        "colab": {
          "base_uri": "https://localhost:8080/",
          "height": 472
        },
        "id": "WNUktSUidgHI",
        "outputId": "e5330f10-5276-4d15-d828-a815439cf82b"
      },
      "execution_count": null,
      "outputs": [
        {
          "output_type": "display_data",
          "data": {
            "text/plain": [
              "<Figure size 640x480 with 1 Axes>"
            ],
            "image/png": "[encoded data removed]"
          },
          "metadata": {}
        }
      ]
    },
    {
      "cell_type": "markdown",
      "source": [
        "The above model looks pretty good. In general, the better a model, the higher the curve is, and the greater the area under the curve (AUC). The maximum value for the AUC is equal to one. While we can \"eyeball\" the area in our curve, there is also a tool used to calculate the AUC."
      ],
      "metadata": {
        "id": "W1dUWtS2dnaQ"
      }
    },
    {
      "cell_type": "markdown",
      "source": [
        "- diagonal line is when TPR = FPR, it's like our baseline, anything to the right, might as well don't use a model\n",
        "- we're aiming at a curve to the left of the diagonal line\n",
        "- ideal curve - TPR as high as possible, FPR as low, closet point on curve to the top left corner"
      ],
      "metadata": {
        "id": "y5p9PkLMui4h"
      }
    },
    {
      "cell_type": "code",
      "source": [
        "# Calculate the area under the curve\n",
        "from sklearn.metrics import roc_auc_score\n",
        "roc_auc_score(y_test, y_pred_prob)"
      ],
      "metadata": {
        "id": "O5G1hQQ4dp_0",
        "outputId": "164e5fae-e8c7-4bc5-c8d5-fc661bec5f12",
        "colab": {
          "base_uri": "https://localhost:8080/"
        }
      },
      "execution_count": null,
      "outputs": [
        {
          "output_type": "execute_result",
          "data": {
            "text/plain": [
              "0.9419681927513379"
            ]
          },
          "metadata": {},
          "execution_count": 5
        }
      ]
    },
    {
      "cell_type": "code",
      "source": [],
      "metadata": {
        "id": "B7nhqcmidtiG"
      },
      "execution_count": null,
      "outputs": []
    }
  ]
}