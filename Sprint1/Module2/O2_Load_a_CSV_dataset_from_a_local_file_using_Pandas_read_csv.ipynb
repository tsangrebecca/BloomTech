{
  "nbformat": 4,
  "nbformat_minor": 0,
  "metadata": {
    "colab": {
      "provenance": [],
      "authorship_tag": "ABX9TyPhPzIZwz4xwScVYeS2WUMJ",
      "include_colab_link": true
    },
    "kernelspec": {
      "name": "python3",
      "display_name": "Python 3"
    },
    "language_info": {
      "name": "python"
    }
  },
  "cells": [
    {
      "cell_type": "markdown",
      "metadata": {
        "id": "view-in-github",
        "colab_type": "text"
      },
      "source": [
        "<a href=\"https://colab.research.google.com/github/tsangrebecca/BloomTech/blob/main/Sprint1/Module2/O2_Load_a_CSV_dataset_from_a_local_file_using_Pandas_read_csv.ipynb\" target=\"_parent\"><img src=\"https://colab.research.google.com/assets/colab-badge.svg\" alt=\"Open In Colab\"/></a>"
      ]
    },
    {
      "cell_type": "code",
      "execution_count": null,
      "metadata": {
        "id": "qL38GcV_j9Rk"
      },
      "outputs": [],
      "source": [
        "import pandas as pd\n",
        "\n",
        "# this method if I'm using a local code editor e.g. Jupyter notebook instead of Google Colab\n",
        "# \\ backslashes in Python can mean special characters, so in order to have it interpret as folder separation, we either need to type \\\\ or add an r in front of the file path\n",
        "\n",
        "#df = pd.read_csv(r\"C:\\Users\\roadb\\Documents\\DataScience\\BloomTech\\Sprint1\\Module2\\tic-tac-toe.data\")"
      ]
    },
    {
      "cell_type": "code",
      "source": [
        "# Upload a file to Colab from my computer\n",
        "# use the files method from google.colab package\n",
        "from google.colab import files\n",
        "uploaded = files.upload()\n"
      ],
      "metadata": {
        "id": "HqhcyW9GlFvW"
      },
      "execution_count": null,
      "outputs": []
    },
    {
      "cell_type": "code",
      "source": [
        "# Store my uploaded file in a pandas Dataframe\n",
        "df = pd.read_csv('tic-tac-toe.data')"
      ],
      "metadata": {
        "id": "lajfIbB-qlvi"
      },
      "execution_count": null,
      "outputs": []
    },
    {
      "cell_type": "code",
      "source": [
        "df"
      ],
      "metadata": {
        "id": "yIbZhqTmq2Mn"
      },
      "execution_count": null,
      "outputs": []
    },
    {
      "cell_type": "code",
      "source": [
        "# load another one\n",
        "from google.colab import files\n",
        "uploaded = files.upload()"
      ],
      "metadata": {
        "id": "6nQxsCRHq3nf"
      },
      "execution_count": null,
      "outputs": []
    },
    {
      "cell_type": "code",
      "source": [
        "# store in a pandas Dataframe but this time using Python package io which stand for input/ouput\n",
        "# the io.BytesIO is reading data stored as bytes in Colab\n",
        "import io\n",
        "df2 = pd.read_csv(io.BytesIO(uploaded['auto-mpg.data']))\n",
        "df2"
      ],
      "metadata": {
        "id": "Q79XjN6KrcUv"
      },
      "execution_count": null,
      "outputs": []
    },
    {
      "cell_type": "code",
      "source": [],
      "metadata": {
        "id": "jmvpKTqGrtsh"
      },
      "execution_count": null,
      "outputs": []
    }
  ]
}