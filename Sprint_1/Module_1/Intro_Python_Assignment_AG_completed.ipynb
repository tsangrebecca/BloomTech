{
  "cells": [
    {
      "cell_type": "markdown",
      "metadata": {
        "id": "view-in-github",
        "colab_type": "text"
      },
      "source": [
        "<a href=\"https://colab.research.google.com/github/tsangrebecca/BloomTech/blob/main/Sprint_1/Module_1/Intro_Python_Assignment_AG_completed.ipynb\" target=\"_parent\"><img src=\"https://colab.research.google.com/assets/colab-badge.svg\" alt=\"Open In Colab\"/></a>"
      ]
    },
    {
      "cell_type": "markdown",
      "id": "d36817b6",
      "metadata": {
        "deletable": false,
        "editable": false,
        "nbgrader": {
          "cell_type": "markdown",
          "checksum": "c0522dcce6a20ae4add6f69c2e7e6ef0",
          "grade": false,
          "grade_id": "cell-b0b49f9f926867f8",
          "locked": true,
          "schema_version": 3,
          "solution": false,
          "task": false
        },
        "id": "d36817b6"
      },
      "source": [
        "## Autograded Notebook (Canvas & CodeGrade)\n",
        "\n",
        "This notebook will be automatically graded. It is designed to test your answers and award points for the correct answers. Following the instructions for each Task carefully.\n",
        "\n",
        "### Instructions\n",
        "\n",
        "* **Download this notebook** as you would any other ipynb file\n",
        "* **Upload** to Google Colab or work locally (if you have that set-up)\n",
        "* **Delete `raise NotImplementedError()`**\n",
        "* Write your code in the `# YOUR CODE HERE` space\n",
        "* **Execute** the Test cells that contain `assert` statements - these help you check your work (others contain hidden tests that will be checked when you submit through Canvas)\n",
        "* **Save** your notebook when you are finished\n",
        "* **Download** as a `ipynb` file (if working in Colab)\n",
        "* **Upload** your complete notebook to Canvas (there will be additional instructions in Slack and/or Canvas)"
      ]
    },
    {
      "cell_type": "markdown",
      "id": "874b74af",
      "metadata": {
        "deletable": false,
        "editable": false,
        "nbgrader": {
          "cell_type": "markdown",
          "checksum": "84d6264b7e02b24288e45cad674f97d3",
          "grade": false,
          "grade_id": "cell-66dc43d1b92d4f06",
          "locked": true,
          "schema_version": 3,
          "solution": false,
          "task": false
        },
        "id": "874b74af"
      },
      "source": [
        "# Unit 1 Sprint 1 Module 1\n",
        "\n",
        "## Introduction to Python\n",
        "\n",
        "### Objectives\n",
        "\n",
        "* Create and work with variable data types\n",
        "* Understand indexing and methods\n",
        "* Practice dictionary indexing\n",
        "\n",
        "#### Total notebook points: 8"
      ]
    },
    {
      "cell_type": "markdown",
      "id": "434746fa",
      "metadata": {
        "deletable": false,
        "editable": false,
        "nbgrader": {
          "cell_type": "markdown",
          "checksum": "a7573ad7f69d885113256176fb514238",
          "grade": false,
          "grade_id": "cell-477ac2a8dcaa6e20",
          "locked": true,
          "schema_version": 3,
          "solution": false,
          "task": false
        },
        "id": "434746fa"
      },
      "source": [
        "## Autograded Module Projects\n",
        "\n",
        "Welcome to the first Module Project of Unit 1! You will complete a project (sometimes also referred to as an assignment) after the Guided Project for each Module. There will be four Module Projects per Sprint and each project is designed to provide you with an opportunity to practice what you learned in the Canvas Warm-up material and the Guided Project with your instructors.\n",
        "\n",
        "Throughout Unit 1, the Module Projects and the Sprint Challenges are *autograded*. You will complete your work in a Jupyter/Python notebook (the files that end with `.ipynb`) and then upload your completed notebook to Canvas and submit for grading. This autograding process will check your answers and provide more information about the errors in your notebook. You'll receive a score when the testing is complete.\n",
        "\n",
        "So, let's get started! If you are reading this notebook, then you have the correct autograded version."
      ]
    },
    {
      "cell_type": "markdown",
      "id": "7966e0d4",
      "metadata": {
        "deletable": false,
        "editable": false,
        "nbgrader": {
          "cell_type": "markdown",
          "checksum": "ed4860f54f5f2fc7650e44b9f220dbeb",
          "grade": false,
          "grade_id": "cell-764a88ab7278a115",
          "locked": true,
          "schema_version": 3,
          "solution": false,
          "task": false
        },
        "id": "7966e0d4"
      },
      "source": [
        "**Task 1** - Write Your Name\n",
        "\n",
        "Create a variable called `your_name` that includes your name. "
      ]
    },
    {
      "cell_type": "code",
      "execution_count": 2,
      "id": "a85cd6b8",
      "metadata": {
        "deletable": false,
        "nbgrader": {
          "cell_type": "code",
          "checksum": "39843a8ffd66aa62906d97ba3d3ab0fd",
          "grade": false,
          "grade_id": "cell-6027a63ecafcefab",
          "locked": false,
          "schema_version": 3,
          "solution": true,
          "task": false
        },
        "id": "a85cd6b8"
      },
      "outputs": [],
      "source": [
        "# YOUR CODE HERE\n",
        "your_name = \"rebecca tsang\""
      ]
    },
    {
      "cell_type": "markdown",
      "id": "129e5551",
      "metadata": {
        "deletable": false,
        "editable": false,
        "nbgrader": {
          "cell_type": "markdown",
          "checksum": "30fc304c05a2cadd993f46e7ca0f530a",
          "grade": false,
          "grade_id": "cell-623ce549dfd615a0",
          "locked": true,
          "schema_version": 3,
          "solution": false,
          "task": false
        },
        "id": "129e5551"
      },
      "source": [
        "**Task 1 Test**"
      ]
    },
    {
      "cell_type": "code",
      "execution_count": 3,
      "id": "22cd112e",
      "metadata": {
        "deletable": false,
        "editable": false,
        "nbgrader": {
          "cell_type": "code",
          "checksum": "91ca3343970e917aead9f7bd97fd7bff",
          "grade": true,
          "grade_id": "cell-a6c4f852066437b1",
          "locked": true,
          "points": 1,
          "schema_version": 3,
          "solution": false,
          "task": false
        },
        "id": "22cd112e",
        "colab": {
          "base_uri": "https://localhost:8080/"
        },
        "outputId": "b76f3b97-65a4-41d8-a222-330908fc2dce"
      },
      "outputs": [
        {
          "output_type": "stream",
          "name": "stdout",
          "text": [
            "Hello rebecca tsang\n"
          ]
        }
      ],
      "source": [
        "#Task 1 - Test\n",
        "assert isinstance(your_name, str)\n",
        "print(\"Hello\", your_name )\n",
        "\n",
        "\n"
      ]
    },
    {
      "cell_type": "markdown",
      "id": "9ed2a26e",
      "metadata": {
        "deletable": false,
        "editable": false,
        "nbgrader": {
          "cell_type": "markdown",
          "checksum": "42001a3ead56c42598be9ba0c5f05cf7",
          "grade": false,
          "grade_id": "cell-00178f4254ca81ed",
          "locked": true,
          "schema_version": 3,
          "solution": false,
          "task": false
        },
        "id": "9ed2a26e"
      },
      "source": [
        "**Task 2** - Variable data types\n",
        "\n",
        "* Assign the number `10` to a variable called `first_num`\n",
        "* Assign the number `5` to a variable called `second_num`\n",
        "* Assign the number `2` to a variable called `num_two` "
      ]
    },
    {
      "cell_type": "code",
      "execution_count": 4,
      "id": "296a3b85",
      "metadata": {
        "deletable": false,
        "nbgrader": {
          "cell_type": "code",
          "checksum": "9fda63e86976f82a5d18a2047ab86ddf",
          "grade": false,
          "grade_id": "cell-e96ddb74e7505094",
          "locked": false,
          "schema_version": 3,
          "solution": true,
          "task": false
        },
        "id": "296a3b85"
      },
      "outputs": [],
      "source": [
        "# YOUR CODE HERE\n",
        "first_num = 10\n",
        "second_num = 5\n",
        "num_two = 2"
      ]
    },
    {
      "cell_type": "markdown",
      "id": "aa040adc",
      "metadata": {
        "deletable": false,
        "editable": false,
        "nbgrader": {
          "cell_type": "markdown",
          "checksum": "de0a0ee3a532fd217abcbc38fd76cbd1",
          "grade": false,
          "grade_id": "cell-b103f366a3400307",
          "locked": true,
          "schema_version": 3,
          "solution": false,
          "task": false
        },
        "id": "aa040adc"
      },
      "source": [
        "**Task 2 Test**"
      ]
    },
    {
      "cell_type": "code",
      "execution_count": 5,
      "id": "642c27f2",
      "metadata": {
        "deletable": false,
        "editable": false,
        "nbgrader": {
          "cell_type": "code",
          "checksum": "1daf51db8422edc9a0fa67dd88f3cfa9",
          "grade": true,
          "grade_id": "cell-a33f13464286f445",
          "locked": true,
          "points": 1,
          "schema_version": 3,
          "solution": false,
          "task": false
        },
        "id": "642c27f2"
      },
      "outputs": [],
      "source": [
        "#Task 2 - Test\n",
        "# Hidden tests - you will see the results when you submit to Canvas"
      ]
    },
    {
      "cell_type": "markdown",
      "id": "03f87c19",
      "metadata": {
        "deletable": false,
        "editable": false,
        "nbgrader": {
          "cell_type": "markdown",
          "checksum": "5d37a1095dfb991dc98b31d130b3d8f2",
          "grade": false,
          "grade_id": "cell-f534c68a18f9681b",
          "locked": true,
          "schema_version": 3,
          "solution": false,
          "task": false
        },
        "id": "03f87c19"
      },
      "source": [
        "**Task 3** - Operators\n",
        "* Return the product of all three variables created in the task above. Assign it to an object called `product_total`.\n",
        "* Return the floor division of `product_total` by 7. Assign it **as an interger** to an object called `floor_value`. "
      ]
    },
    {
      "cell_type": "code",
      "execution_count": 6,
      "id": "77410d59",
      "metadata": {
        "deletable": false,
        "nbgrader": {
          "cell_type": "code",
          "checksum": "773399d1dd892cd814aef953251958da",
          "grade": false,
          "grade_id": "cell-311e511f461035fc",
          "locked": false,
          "schema_version": 3,
          "solution": true,
          "task": false
        },
        "id": "77410d59",
        "colab": {
          "base_uri": "https://localhost:8080/"
        },
        "outputId": "d152963e-07ae-4cde-d0f9-b915c942a970"
      },
      "outputs": [
        {
          "output_type": "execute_result",
          "data": {
            "text/plain": [
              "100"
            ]
          },
          "metadata": {},
          "execution_count": 6
        }
      ],
      "source": [
        "# YOUR CODE HERE\n",
        "product_total = first_num * second_num * num_two\n",
        "product_total"
      ]
    },
    {
      "cell_type": "code",
      "source": [
        "floor_value = product_total//7\n",
        "floor_value"
      ],
      "metadata": {
        "colab": {
          "base_uri": "https://localhost:8080/"
        },
        "id": "pNivyPNc0pW3",
        "outputId": "fc866b8f-eb68-4c03-ed8d-9e19b396a886"
      },
      "id": "pNivyPNc0pW3",
      "execution_count": 7,
      "outputs": [
        {
          "output_type": "execute_result",
          "data": {
            "text/plain": [
              "14"
            ]
          },
          "metadata": {},
          "execution_count": 7
        }
      ]
    },
    {
      "cell_type": "markdown",
      "id": "7d022078",
      "metadata": {
        "deletable": false,
        "editable": false,
        "nbgrader": {
          "cell_type": "markdown",
          "checksum": "14b9f99e17b9b210d2535f4e6f51c99b",
          "grade": false,
          "grade_id": "cell-eb58990e2b60db57",
          "locked": true,
          "schema_version": 3,
          "solution": false,
          "task": false
        },
        "id": "7d022078"
      },
      "source": [
        "**Task 3 Test**"
      ]
    },
    {
      "cell_type": "code",
      "execution_count": 8,
      "id": "a5458ddb",
      "metadata": {
        "deletable": false,
        "editable": false,
        "nbgrader": {
          "cell_type": "code",
          "checksum": "a65888afc319f35963b9cddb3ecd0602",
          "grade": true,
          "grade_id": "cell-c96d884a0d9c28fe",
          "locked": true,
          "points": 1,
          "schema_version": 3,
          "solution": false,
          "task": false
        },
        "id": "a5458ddb"
      },
      "outputs": [],
      "source": [
        "#Task 3 Test\n",
        "\n",
        "assert product_total == 100, \"Check your operators.\"\n",
        "\n",
        "# Hidden tests - you will see the results when you submit to Canvas\n"
      ]
    },
    {
      "cell_type": "markdown",
      "id": "b2004de1",
      "metadata": {
        "deletable": false,
        "editable": false,
        "nbgrader": {
          "cell_type": "markdown",
          "checksum": "ddc9059b0ea4224d18abdfdd517cc6a3",
          "grade": false,
          "grade_id": "cell-b7322a77f8499b57",
          "locked": true,
          "schema_version": 3,
          "solution": false,
          "task": false
        },
        "id": "b2004de1"
      },
      "source": [
        "**Task 4a** Python Data Types\n",
        "* Create a list of five objects: `red`, `green`, `blue`, `yellow`, `purple`. Assign this list **in alphabetical order** to an object called `five_colors`.  \n"
      ]
    },
    {
      "cell_type": "code",
      "execution_count": 75,
      "id": "d86312ee",
      "metadata": {
        "deletable": false,
        "nbgrader": {
          "cell_type": "code",
          "checksum": "f6eb23109523a083eeed8ac7c6c3c11b",
          "grade": false,
          "grade_id": "cell-32200b8130c2bd81",
          "locked": false,
          "schema_version": 3,
          "solution": true,
          "task": false
        },
        "id": "d86312ee",
        "colab": {
          "base_uri": "https://localhost:8080/"
        },
        "outputId": "f5638159-2462-4c4c-8246-f8cb8b876c14"
      },
      "outputs": [
        {
          "output_type": "execute_result",
          "data": {
            "text/plain": [
              "['blue', 'green', 'purple', 'red', 'yellow']"
            ]
          },
          "metadata": {},
          "execution_count": 75
        }
      ],
      "source": [
        "# YOUR CODE HERE\n",
        "five_colors = [\"red\", \"green\", \"blue\", \"yellow\", \"purple\"]\n",
        "five_colors.sort()\n",
        "five_colors"
      ]
    },
    {
      "cell_type": "markdown",
      "id": "9838246a",
      "metadata": {
        "deletable": false,
        "editable": false,
        "nbgrader": {
          "cell_type": "markdown",
          "checksum": "4aa3411bd6c18fa8a9e028fe90d11d87",
          "grade": false,
          "grade_id": "cell-86ed62c5a4c79d84",
          "locked": true,
          "schema_version": 3,
          "solution": false,
          "task": false
        },
        "id": "9838246a"
      },
      "source": [
        "**Task 4a Test**"
      ]
    },
    {
      "cell_type": "code",
      "execution_count": 76,
      "id": "442f138a",
      "metadata": {
        "deletable": false,
        "editable": false,
        "nbgrader": {
          "cell_type": "code",
          "checksum": "14cbf1922d6bb9e6d7bfff372c4798a0",
          "grade": true,
          "grade_id": "cell-041962ba22262d5e",
          "locked": true,
          "points": 0.5,
          "schema_version": 3,
          "solution": false,
          "task": false
        },
        "id": "442f138a"
      },
      "outputs": [],
      "source": [
        "#Task 4a Test\n",
        "assert len(five_colors) == 5\n",
        "# Hidden tests - you will see the results when you submit to Canvas"
      ]
    },
    {
      "cell_type": "markdown",
      "id": "aca4a25b",
      "metadata": {
        "deletable": false,
        "editable": false,
        "nbgrader": {
          "cell_type": "markdown",
          "checksum": "4bcbc1f7b8ce0980b62c341c1518f054",
          "grade": false,
          "grade_id": "cell-7ae0fb57d4f78fd6",
          "locked": true,
          "schema_version": 3,
          "solution": false,
          "task": false
        },
        "id": "aca4a25b"
      },
      "source": [
        "**Task 4b** Python Data Types\n",
        "* Remove the value that is in the middle of the `five_colors` list. Assign this new list to an object called `four_colors`."
      ]
    },
    {
      "cell_type": "code",
      "execution_count": 77,
      "id": "7fde1360",
      "metadata": {
        "deletable": false,
        "nbgrader": {
          "cell_type": "code",
          "checksum": "3f1fb91fd70c2027dfd55160bec40d6b",
          "grade": false,
          "grade_id": "cell-de568d701f9137ca",
          "locked": false,
          "schema_version": 3,
          "solution": true,
          "task": false
        },
        "id": "7fde1360",
        "colab": {
          "base_uri": "https://localhost:8080/"
        },
        "outputId": "fae25ac9-f7f8-4ddb-caf8-3449b6aaed60"
      },
      "outputs": [
        {
          "output_type": "stream",
          "name": "stdout",
          "text": [
            "purple\n"
          ]
        }
      ],
      "source": [
        "# YOUR CODE HERE\n",
        "removed_color = five_colors.pop(2)\n",
        "print(removed_color)"
      ]
    },
    {
      "cell_type": "code",
      "source": [
        "four_colors = five_colors\n",
        "four_colors"
      ],
      "metadata": {
        "colab": {
          "base_uri": "https://localhost:8080/"
        },
        "id": "ess4veuW2wzs",
        "outputId": "a27a1deb-fc22-4bdc-ffee-d38f8df7a65b"
      },
      "id": "ess4veuW2wzs",
      "execution_count": 78,
      "outputs": [
        {
          "output_type": "execute_result",
          "data": {
            "text/plain": [
              "['blue', 'green', 'red', 'yellow']"
            ]
          },
          "metadata": {},
          "execution_count": 78
        }
      ]
    },
    {
      "cell_type": "markdown",
      "id": "bd97590b",
      "metadata": {
        "deletable": false,
        "editable": false,
        "nbgrader": {
          "cell_type": "markdown",
          "checksum": "148780a46ef762f4f9ee95bf4ec3426f",
          "grade": false,
          "grade_id": "cell-52ec4f13ab1d2ba2",
          "locked": true,
          "schema_version": 3,
          "solution": false,
          "task": false
        },
        "id": "bd97590b"
      },
      "source": [
        "**Task 4b Test**"
      ]
    },
    {
      "cell_type": "code",
      "execution_count": 79,
      "id": "7c457741",
      "metadata": {
        "deletable": false,
        "editable": false,
        "nbgrader": {
          "cell_type": "code",
          "checksum": "683d454f9ab5c7b5690b3788cae49bcb",
          "grade": true,
          "grade_id": "cell-9ab8dc3c20c2a9c1",
          "locked": true,
          "points": 0.5,
          "schema_version": 3,
          "solution": false,
          "task": false
        },
        "id": "7c457741"
      },
      "outputs": [],
      "source": [
        "#Task 4b Test\n",
        "assert len(four_colors) == 4, \"Try displaying or printing the output of your object to verify your results\"\n",
        "# Hidden tests - you will see the results when you submit to Canvas\n"
      ]
    },
    {
      "cell_type": "markdown",
      "id": "e9ddc0a0",
      "metadata": {
        "deletable": false,
        "editable": false,
        "nbgrader": {
          "cell_type": "markdown",
          "checksum": "0d535951ab54de21e2f2f261f25267ac",
          "grade": false,
          "grade_id": "cell-0241eccb6598bb3f",
          "locked": true,
          "schema_version": 3,
          "solution": false,
          "task": false
        },
        "id": "e9ddc0a0"
      },
      "source": [
        "**Task 5** - Indexing\n",
        "* Use indexing to return the *third* item in the `four_colors` list. Assign this to an object called `third_color`.\n",
        "* Next, use string indexing to return the first and the last letter of the `third_color` object. Assign it to an object called `first_and_last`.   \n"
      ]
    },
    {
      "cell_type": "code",
      "source": [
        "third_color = four_colors[2]\n",
        "print(third_color)"
      ],
      "metadata": {
        "colab": {
          "base_uri": "https://localhost:8080/"
        },
        "id": "UI4QACNj3u-w",
        "outputId": "c102a6b4-f5fe-4d16-f4c3-2f2134f7ce30"
      },
      "id": "UI4QACNj3u-w",
      "execution_count": 80,
      "outputs": [
        {
          "output_type": "stream",
          "name": "stdout",
          "text": [
            "red\n"
          ]
        }
      ]
    },
    {
      "cell_type": "code",
      "source": [
        "first_and_last = third_color[0] + third_color[-1]\n",
        "print(first_and_last)"
      ],
      "metadata": {
        "colab": {
          "base_uri": "https://localhost:8080/"
        },
        "id": "iRtWHNyn4YgM",
        "outputId": "14d9c7af-e311-41ad-a141-49554ae471ad"
      },
      "id": "iRtWHNyn4YgM",
      "execution_count": 83,
      "outputs": [
        {
          "output_type": "stream",
          "name": "stdout",
          "text": [
            "rd\n"
          ]
        }
      ]
    },
    {
      "cell_type": "markdown",
      "id": "70dbeb73",
      "metadata": {
        "deletable": false,
        "editable": false,
        "nbgrader": {
          "cell_type": "markdown",
          "checksum": "ee3bf837dbe6f952cbb6593aff968ed2",
          "grade": false,
          "grade_id": "cell-02167e38b7bf155b",
          "locked": true,
          "schema_version": 3,
          "solution": false,
          "task": false
        },
        "id": "70dbeb73"
      },
      "source": [
        "**Task 5 Test**"
      ]
    },
    {
      "cell_type": "code",
      "execution_count": 82,
      "id": "540bd086",
      "metadata": {
        "deletable": false,
        "editable": false,
        "nbgrader": {
          "cell_type": "code",
          "checksum": "6437a8c97d646867e2ab53a1cfc10cd8",
          "grade": true,
          "grade_id": "cell-229ed9f4a0babeba",
          "locked": true,
          "points": 1,
          "schema_version": 3,
          "solution": false,
          "task": false
        },
        "id": "540bd086"
      },
      "outputs": [],
      "source": [
        "#Task 5 Test\n",
        "assert third_color == 'red'\n",
        "# Hidden tests - you will see the results when you submit to Canvas"
      ]
    },
    {
      "cell_type": "markdown",
      "id": "913f6060",
      "metadata": {
        "deletable": false,
        "editable": false,
        "nbgrader": {
          "cell_type": "markdown",
          "checksum": "61126c9756d4fdf1dd9a8531474aca01",
          "grade": false,
          "grade_id": "cell-18fa4e019b350589",
          "locked": true,
          "schema_version": 3,
          "solution": false,
          "task": false
        },
        "id": "913f6060"
      },
      "source": [
        "**Task 6a** - Indexing\n",
        "* Create a dictionary that includes the following key: value pairs: `charizard: fire, squirtle: water, bulbasaur: leaf`. Assign it to an object called `poke_dictionary` "
      ]
    },
    {
      "cell_type": "code",
      "execution_count": 115,
      "id": "bf8be622",
      "metadata": {
        "deletable": false,
        "nbgrader": {
          "cell_type": "code",
          "checksum": "bc2ddb59390ee88200994eb110c20180",
          "grade": false,
          "grade_id": "cell-24b1a6230e320ec9",
          "locked": false,
          "schema_version": 3,
          "solution": true,
          "task": false
        },
        "id": "bf8be622"
      },
      "outputs": [],
      "source": [
        "# YOUR CODE HERE\n",
        "poke_dictionary = {\"charizard\": \"fire\", \"squirtle\": \"water\", \"bulbasau\": \"leaf\"}"
      ]
    },
    {
      "cell_type": "markdown",
      "id": "13821352",
      "metadata": {
        "deletable": false,
        "editable": false,
        "nbgrader": {
          "cell_type": "markdown",
          "checksum": "e37a6de97d3db9e86ce4c3a975c1551b",
          "grade": false,
          "grade_id": "cell-55b29c2e48a8aeee",
          "locked": true,
          "schema_version": 3,
          "solution": false,
          "task": false
        },
        "id": "13821352"
      },
      "source": [
        "**Task 6a Test**"
      ]
    },
    {
      "cell_type": "code",
      "execution_count": 116,
      "id": "130f4536",
      "metadata": {
        "deletable": false,
        "editable": false,
        "nbgrader": {
          "cell_type": "code",
          "checksum": "e60a8a59a3be435951e9b2862c8da5f7",
          "grade": true,
          "grade_id": "cell-5ad0aaf04fb6881b",
          "locked": true,
          "points": 0.5,
          "schema_version": 3,
          "solution": false,
          "task": false
        },
        "id": "130f4536"
      },
      "outputs": [],
      "source": [
        "#Task 6a Test\n",
        "assert len(poke_dictionary.keys()) == 3, \"Verify your syntax. Did you create a dictionary object?\"\n",
        "\n",
        "# Hidden tests - you will see the results when you submit to Canvas\n"
      ]
    },
    {
      "cell_type": "markdown",
      "id": "8dc33e71",
      "metadata": {
        "deletable": false,
        "editable": false,
        "nbgrader": {
          "cell_type": "markdown",
          "checksum": "5a8e4ac4d394552fc6e931ab9e829eb5",
          "grade": false,
          "grade_id": "cell-c1aca4c65563149c",
          "locked": true,
          "schema_version": 3,
          "solution": false,
          "task": false
        },
        "id": "8dc33e71"
      },
      "source": [
        "**Task 6b** - Indexing\n",
        "* Create a new dictionary called `more_poke` that includes the following: `pikachu: electric, pidgey: air` \n",
        "* Combine the key and values of the `more_poke` with the original `poke_dictionary`.\n",
        ">Hint: You may need to research how to combine two dictionaries. \n",
        "* Assign all the `dictionary values` of the `poke_dictionary` to an object called `poke_values`. \n",
        ">Hint: Your output for `poke_values` will look like: `dict_values(['fire', 'water', 'leaf', 'electric', 'air'])`"
      ]
    },
    {
      "cell_type": "code",
      "execution_count": 117,
      "id": "71388e13",
      "metadata": {
        "deletable": false,
        "nbgrader": {
          "cell_type": "code",
          "checksum": "455ca1aa6a8caff53721ba774c2d3350",
          "grade": false,
          "grade_id": "cell-0b4582e6a68091ef",
          "locked": false,
          "schema_version": 3,
          "solution": true,
          "task": false
        },
        "id": "71388e13"
      },
      "outputs": [],
      "source": [
        "# YOUR CODE HERE\n",
        "more_poke = {\"pikachu\": \"electric\", \"pidgey\": \"air\"}"
      ]
    },
    {
      "cell_type": "code",
      "source": [
        "poke_dictionary.update(more_poke)"
      ],
      "metadata": {
        "id": "FkVgpXZe6ORi"
      },
      "id": "FkVgpXZe6ORi",
      "execution_count": 118,
      "outputs": []
    },
    {
      "cell_type": "code",
      "source": [
        "poke_values = poke_dictionary.values()\n",
        "print(poke_values)"
      ],
      "metadata": {
        "colab": {
          "base_uri": "https://localhost:8080/"
        },
        "id": "L07m5Uq_6WVX",
        "outputId": "0e143e32-7afa-43ff-e40a-534a6cb1b451"
      },
      "id": "L07m5Uq_6WVX",
      "execution_count": 119,
      "outputs": [
        {
          "output_type": "stream",
          "name": "stdout",
          "text": [
            "dict_values(['fire', 'water', 'leaf', 'electric', 'air'])\n"
          ]
        }
      ]
    },
    {
      "cell_type": "markdown",
      "id": "9ee71555",
      "metadata": {
        "deletable": false,
        "editable": false,
        "nbgrader": {
          "cell_type": "markdown",
          "checksum": "fa97097d64bf14cd4c6374c821300ad1",
          "grade": false,
          "grade_id": "cell-2c1ed604143ef367",
          "locked": true,
          "schema_version": 3,
          "solution": false,
          "task": false
        },
        "id": "9ee71555"
      },
      "source": [
        "**Task 6b Tests**"
      ]
    },
    {
      "cell_type": "code",
      "execution_count": 107,
      "id": "ffe3d031",
      "metadata": {
        "deletable": false,
        "editable": false,
        "nbgrader": {
          "cell_type": "code",
          "checksum": "ad115f903e988a759beb8a301c913965",
          "grade": true,
          "grade_id": "cell-c561f60e90446fd7",
          "locked": true,
          "points": 0.5,
          "schema_version": 3,
          "solution": false,
          "task": false
        },
        "id": "ffe3d031"
      },
      "outputs": [],
      "source": [
        "#Task 6b Test\n",
        "assert isinstance(more_poke, dict), \"Check your syntax. Did you create a dictionary object?\"\n",
        "assert len(poke_dictionary) == 5, \"Did you properly combine both dictionaries?\"\n",
        "# Hidden tests - you will see the results when you submit to Canvas\n",
        "\n",
        "\n"
      ]
    },
    {
      "cell_type": "markdown",
      "id": "7b6e4a7f",
      "metadata": {
        "deletable": false,
        "editable": false,
        "nbgrader": {
          "cell_type": "markdown",
          "checksum": "0867155a2af71262eed00d6d78984ab8",
          "grade": false,
          "grade_id": "cell-eae7a9e336671bc6",
          "locked": true,
          "schema_version": 3,
          "solution": false,
          "task": false
        },
        "id": "7b6e4a7f"
      },
      "source": [
        "**Task 7** Loops\n",
        "* Use a for loop to go through the `poke_dictionary` object. Return all the dictionary **values** as uppercase letters and the **keys** as lowercase values. \n",
        "* *Hint*: This [StackOverflow](https://stackoverflow.com/questions/50004310/convert-python-dictionary-to-uppercase) page offers a solution (with a slight adjustment), but there are multiple ways you can do this!"
      ]
    },
    {
      "cell_type": "code",
      "source": [
        "poke_dictionary"
      ],
      "metadata": {
        "colab": {
          "base_uri": "https://localhost:8080/"
        },
        "id": "N34rhjuj7UOc",
        "outputId": "68434f3b-2856-447c-f595-9fe45e5a7813"
      },
      "id": "N34rhjuj7UOc",
      "execution_count": 108,
      "outputs": [
        {
          "output_type": "execute_result",
          "data": {
            "text/plain": [
              "{'charizard': 'fire',\n",
              " 'squirtle': 'water',\n",
              " 'bulbasau': 'leaf',\n",
              " 'pikachu': 'electric',\n",
              " 'pidgey': 'air'}"
            ]
          },
          "metadata": {},
          "execution_count": 108
        }
      ]
    },
    {
      "cell_type": "code",
      "source": [
        "poke_dictionary.items()"
      ],
      "metadata": {
        "colab": {
          "base_uri": "https://localhost:8080/"
        },
        "id": "loROS8zwM4g7",
        "outputId": "ed5043c2-c9c5-4730-d4dd-a19e46f721b0"
      },
      "id": "loROS8zwM4g7",
      "execution_count": 109,
      "outputs": [
        {
          "output_type": "execute_result",
          "data": {
            "text/plain": [
              "dict_items([('charizard', 'fire'), ('squirtle', 'water'), ('bulbasau', 'leaf'), ('pikachu', 'electric'), ('pidgey', 'air')])"
            ]
          },
          "metadata": {},
          "execution_count": 109
        }
      ]
    },
    {
      "cell_type": "code",
      "source": [
        "# YOUR CODE HERE\n",
        "# USE PRINT FUNCTION TO CHECK CODE IN FOR LOOPS, we don't need print statement inside the loop, but good to use it to check what's going on.\n",
        "\n",
        "for i in poke_dictionary:\n",
        "  poke_dictionary[i] = poke_dictionary[i].upper()      # for all the values in the poke_dictionary by looping each pokemon and returning their values, then reassign them.\n",
        "  "
      ],
      "metadata": {
        "id": "d87LtyAjYmlS"
      },
      "id": "d87LtyAjYmlS",
      "execution_count": 110,
      "outputs": []
    },
    {
      "cell_type": "code",
      "execution_count": 111,
      "id": "26316052",
      "metadata": {
        "deletable": false,
        "nbgrader": {
          "cell_type": "code",
          "checksum": "20bf94d548e22b001becf237224085c8",
          "grade": false,
          "grade_id": "cell-0535b02af29e01e7",
          "locked": false,
          "schema_version": 3,
          "solution": true,
          "task": false
        },
        "id": "26316052"
      },
      "outputs": [],
      "source": [
        "# another way to do it, if we want to change both keys AND values in dictionary\n",
        "#new_dict = {}\n",
        "\n",
        "#for key, value in poke_dictionary.items():   # use .item() method to iterate over a dictionary and use \"key\" and \"value\" to have access to the keys and values simultaneously.\n",
        "#   key_lowercase = key.lower()              # create keys all lower case\n",
        "#   value_uppercase = value.upper()          # create values all UPPER CASE\n",
        "#   new_dict[key_lowercase] = value_uppercase   #put the keys and values back in the new dictionary\n",
        "#print(new_dict)\n",
        "\n",
        "# reassign new_dict to the poke_dictionary\n",
        "# poke_dictionary = new_dict\n"
      ]
    },
    {
      "cell_type": "code",
      "source": [
        "poke_dictionary"
      ],
      "metadata": {
        "colab": {
          "base_uri": "https://localhost:8080/"
        },
        "id": "CgvzjMXFQQq7",
        "outputId": "b2b8d774-4322-42ba-8d0f-a4c7d5c59bfb"
      },
      "id": "CgvzjMXFQQq7",
      "execution_count": 112,
      "outputs": [
        {
          "output_type": "execute_result",
          "data": {
            "text/plain": [
              "{'charizard': 'FIRE',\n",
              " 'squirtle': 'WATER',\n",
              " 'bulbasau': 'LEAF',\n",
              " 'pikachu': 'ELECTRIC',\n",
              " 'pidgey': 'AIR'}"
            ]
          },
          "metadata": {},
          "execution_count": 112
        }
      ]
    },
    {
      "cell_type": "markdown",
      "id": "a49cd552",
      "metadata": {
        "deletable": false,
        "editable": false,
        "nbgrader": {
          "cell_type": "markdown",
          "checksum": "1e1736d1c2840096120675e9d06f4827",
          "grade": false,
          "grade_id": "cell-bca76de42c5c2d85",
          "locked": true,
          "schema_version": 3,
          "solution": false,
          "task": false
        },
        "id": "a49cd552"
      },
      "source": [
        "**Task 7 Test**"
      ]
    },
    {
      "cell_type": "code",
      "execution_count": 113,
      "id": "9f1f53d4",
      "metadata": {
        "deletable": false,
        "editable": false,
        "nbgrader": {
          "cell_type": "code",
          "checksum": "99d2598c47f8c65240eaaa196b67b90f",
          "grade": true,
          "grade_id": "cell-0e4a39d38c38f186",
          "locked": true,
          "points": 1,
          "schema_version": 3,
          "solution": false,
          "task": false
        },
        "id": "9f1f53d4"
      },
      "outputs": [],
      "source": [
        "#Task 8 Test\n",
        "assert poke_dictionary['pikachu'].isupper(), \"Your dictionary values should all be uppercase\""
      ]
    },
    {
      "cell_type": "markdown",
      "id": "e16c47d5",
      "metadata": {
        "deletable": false,
        "editable": false,
        "nbgrader": {
          "cell_type": "markdown",
          "checksum": "bdc78e93de6dd5f62816ab96f4503105",
          "grade": false,
          "grade_id": "cell-7ddb13dfb23b417b",
          "locked": true,
          "schema_version": 3,
          "solution": false,
          "task": false
        },
        "id": "e16c47d5"
      },
      "source": [
        "**Task 8** Imports\n",
        "* Import the `seaborn` and `pandas` library. Alias the libraries as `sns` and `pd` respectively. \n",
        "* Use the `sns` library to load a dataset of your choice. Assign it to an object called `df`. \n",
        "* Run the following code: `df.loc[0]`. What data type is this? Assign your answer to an object called `first_row_type`.\n"
      ]
    },
    {
      "cell_type": "code",
      "execution_count": 67,
      "id": "d3307118",
      "metadata": {
        "deletable": false,
        "nbgrader": {
          "cell_type": "code",
          "checksum": "d6875330a3b0ec27e2c5b3753406f119",
          "grade": false,
          "grade_id": "cell-6ed26cd55b737be1",
          "locked": false,
          "schema_version": 3,
          "solution": true,
          "task": false
        },
        "id": "d3307118"
      },
      "outputs": [],
      "source": [
        "# YOUR CODE HERE\n",
        "import seaborn as sns\n",
        "import pandas as pd"
      ]
    },
    {
      "cell_type": "code",
      "source": [
        "df = sns.load_dataset('diamonds')\n",
        "df"
      ],
      "metadata": {
        "colab": {
          "base_uri": "https://localhost:8080/",
          "height": 423
        },
        "id": "NhMu6iXJRorB",
        "outputId": "7eb12a19-81c9-4a91-f3d5-e4794609cd10"
      },
      "id": "NhMu6iXJRorB",
      "execution_count": 68,
      "outputs": [
        {
          "output_type": "execute_result",
          "data": {
            "text/plain": [
              "       carat        cut color clarity  depth  table  price     x     y     z\n",
              "0       0.23      Ideal     E     SI2   61.5   55.0    326  3.95  3.98  2.43\n",
              "1       0.21    Premium     E     SI1   59.8   61.0    326  3.89  3.84  2.31\n",
              "2       0.23       Good     E     VS1   56.9   65.0    327  4.05  4.07  2.31\n",
              "3       0.29    Premium     I     VS2   62.4   58.0    334  4.20  4.23  2.63\n",
              "4       0.31       Good     J     SI2   63.3   58.0    335  4.34  4.35  2.75\n",
              "...      ...        ...   ...     ...    ...    ...    ...   ...   ...   ...\n",
              "53935   0.72      Ideal     D     SI1   60.8   57.0   2757  5.75  5.76  3.50\n",
              "53936   0.72       Good     D     SI1   63.1   55.0   2757  5.69  5.75  3.61\n",
              "53937   0.70  Very Good     D     SI1   62.8   60.0   2757  5.66  5.68  3.56\n",
              "53938   0.86    Premium     H     SI2   61.0   58.0   2757  6.15  6.12  3.74\n",
              "53939   0.75      Ideal     D     SI2   62.2   55.0   2757  5.83  5.87  3.64\n",
              "\n",
              "[53940 rows x 10 columns]"
            ],
            "text/html": [
              "\n",
              "  <div id=\"df-61ca4231-41ad-49e3-973b-1c617b962ce2\">\n",
              "    <div class=\"colab-df-container\">\n",
              "      <div>\n",
              "<style scoped>\n",
              "    .dataframe tbody tr th:only-of-type {\n",
              "        vertical-align: middle;\n",
              "    }\n",
              "\n",
              "    .dataframe tbody tr th {\n",
              "        vertical-align: top;\n",
              "    }\n",
              "\n",
              "    .dataframe thead th {\n",
              "        text-align: right;\n",
              "    }\n",
              "</style>\n",
              "<table border=\"1\" class=\"dataframe\">\n",
              "  <thead>\n",
              "    <tr style=\"text-align: right;\">\n",
              "      <th></th>\n",
              "      <th>carat</th>\n",
              "      <th>cut</th>\n",
              "      <th>color</th>\n",
              "      <th>clarity</th>\n",
              "      <th>depth</th>\n",
              "      <th>table</th>\n",
              "      <th>price</th>\n",
              "      <th>x</th>\n",
              "      <th>y</th>\n",
              "      <th>z</th>\n",
              "    </tr>\n",
              "  </thead>\n",
              "  <tbody>\n",
              "    <tr>\n",
              "      <th>0</th>\n",
              "      <td>0.23</td>\n",
              "      <td>Ideal</td>\n",
              "      <td>E</td>\n",
              "      <td>SI2</td>\n",
              "      <td>61.5</td>\n",
              "      <td>55.0</td>\n",
              "      <td>326</td>\n",
              "      <td>3.95</td>\n",
              "      <td>3.98</td>\n",
              "      <td>2.43</td>\n",
              "    </tr>\n",
              "    <tr>\n",
              "      <th>1</th>\n",
              "      <td>0.21</td>\n",
              "      <td>Premium</td>\n",
              "      <td>E</td>\n",
              "      <td>SI1</td>\n",
              "      <td>59.8</td>\n",
              "      <td>61.0</td>\n",
              "      <td>326</td>\n",
              "      <td>3.89</td>\n",
              "      <td>3.84</td>\n",
              "      <td>2.31</td>\n",
              "    </tr>\n",
              "    <tr>\n",
              "      <th>2</th>\n",
              "      <td>0.23</td>\n",
              "      <td>Good</td>\n",
              "      <td>E</td>\n",
              "      <td>VS1</td>\n",
              "      <td>56.9</td>\n",
              "      <td>65.0</td>\n",
              "      <td>327</td>\n",
              "      <td>4.05</td>\n",
              "      <td>4.07</td>\n",
              "      <td>2.31</td>\n",
              "    </tr>\n",
              "    <tr>\n",
              "      <th>3</th>\n",
              "      <td>0.29</td>\n",
              "      <td>Premium</td>\n",
              "      <td>I</td>\n",
              "      <td>VS2</td>\n",
              "      <td>62.4</td>\n",
              "      <td>58.0</td>\n",
              "      <td>334</td>\n",
              "      <td>4.20</td>\n",
              "      <td>4.23</td>\n",
              "      <td>2.63</td>\n",
              "    </tr>\n",
              "    <tr>\n",
              "      <th>4</th>\n",
              "      <td>0.31</td>\n",
              "      <td>Good</td>\n",
              "      <td>J</td>\n",
              "      <td>SI2</td>\n",
              "      <td>63.3</td>\n",
              "      <td>58.0</td>\n",
              "      <td>335</td>\n",
              "      <td>4.34</td>\n",
              "      <td>4.35</td>\n",
              "      <td>2.75</td>\n",
              "    </tr>\n",
              "    <tr>\n",
              "      <th>...</th>\n",
              "      <td>...</td>\n",
              "      <td>...</td>\n",
              "      <td>...</td>\n",
              "      <td>...</td>\n",
              "      <td>...</td>\n",
              "      <td>...</td>\n",
              "      <td>...</td>\n",
              "      <td>...</td>\n",
              "      <td>...</td>\n",
              "      <td>...</td>\n",
              "    </tr>\n",
              "    <tr>\n",
              "      <th>53935</th>\n",
              "      <td>0.72</td>\n",
              "      <td>Ideal</td>\n",
              "      <td>D</td>\n",
              "      <td>SI1</td>\n",
              "      <td>60.8</td>\n",
              "      <td>57.0</td>\n",
              "      <td>2757</td>\n",
              "      <td>5.75</td>\n",
              "      <td>5.76</td>\n",
              "      <td>3.50</td>\n",
              "    </tr>\n",
              "    <tr>\n",
              "      <th>53936</th>\n",
              "      <td>0.72</td>\n",
              "      <td>Good</td>\n",
              "      <td>D</td>\n",
              "      <td>SI1</td>\n",
              "      <td>63.1</td>\n",
              "      <td>55.0</td>\n",
              "      <td>2757</td>\n",
              "      <td>5.69</td>\n",
              "      <td>5.75</td>\n",
              "      <td>3.61</td>\n",
              "    </tr>\n",
              "    <tr>\n",
              "      <th>53937</th>\n",
              "      <td>0.70</td>\n",
              "      <td>Very Good</td>\n",
              "      <td>D</td>\n",
              "      <td>SI1</td>\n",
              "      <td>62.8</td>\n",
              "      <td>60.0</td>\n",
              "      <td>2757</td>\n",
              "      <td>5.66</td>\n",
              "      <td>5.68</td>\n",
              "      <td>3.56</td>\n",
              "    </tr>\n",
              "    <tr>\n",
              "      <th>53938</th>\n",
              "      <td>0.86</td>\n",
              "      <td>Premium</td>\n",
              "      <td>H</td>\n",
              "      <td>SI2</td>\n",
              "      <td>61.0</td>\n",
              "      <td>58.0</td>\n",
              "      <td>2757</td>\n",
              "      <td>6.15</td>\n",
              "      <td>6.12</td>\n",
              "      <td>3.74</td>\n",
              "    </tr>\n",
              "    <tr>\n",
              "      <th>53939</th>\n",
              "      <td>0.75</td>\n",
              "      <td>Ideal</td>\n",
              "      <td>D</td>\n",
              "      <td>SI2</td>\n",
              "      <td>62.2</td>\n",
              "      <td>55.0</td>\n",
              "      <td>2757</td>\n",
              "      <td>5.83</td>\n",
              "      <td>5.87</td>\n",
              "      <td>3.64</td>\n",
              "    </tr>\n",
              "  </tbody>\n",
              "</table>\n",
              "<p>53940 rows × 10 columns</p>\n",
              "</div>\n",
              "      <button class=\"colab-df-convert\" onclick=\"convertToInteractive('df-61ca4231-41ad-49e3-973b-1c617b962ce2')\"\n",
              "              title=\"Convert this dataframe to an interactive table.\"\n",
              "              style=\"display:none;\">\n",
              "        \n",
              "  <svg xmlns=\"http://www.w3.org/2000/svg\" height=\"24px\"viewBox=\"0 0 24 24\"\n",
              "       width=\"24px\">\n",
              "    <path d=\"M0 0h24v24H0V0z\" fill=\"none\"/>\n",
              "    <path d=\"M18.56 5.44l.94 2.06.94-2.06 2.06-.94-2.06-.94-.94-2.06-.94 2.06-2.06.94zm-11 1L8.5 8.5l.94-2.06 2.06-.94-2.06-.94L8.5 2.5l-.94 2.06-2.06.94zm10 10l.94 2.06.94-2.06 2.06-.94-2.06-.94-.94-2.06-.94 2.06-2.06.94z\"/><path d=\"M17.41 7.96l-1.37-1.37c-.4-.4-.92-.59-1.43-.59-.52 0-1.04.2-1.43.59L10.3 9.45l-7.72 7.72c-.78.78-.78 2.05 0 2.83L4 21.41c.39.39.9.59 1.41.59.51 0 1.02-.2 1.41-.59l7.78-7.78 2.81-2.81c.8-.78.8-2.07 0-2.86zM5.41 20L4 18.59l7.72-7.72 1.47 1.35L5.41 20z\"/>\n",
              "  </svg>\n",
              "      </button>\n",
              "      \n",
              "  <style>\n",
              "    .colab-df-container {\n",
              "      display:flex;\n",
              "      flex-wrap:wrap;\n",
              "      gap: 12px;\n",
              "    }\n",
              "\n",
              "    .colab-df-convert {\n",
              "      background-color: #E8F0FE;\n",
              "      border: none;\n",
              "      border-radius: 50%;\n",
              "      cursor: pointer;\n",
              "      display: none;\n",
              "      fill: #1967D2;\n",
              "      height: 32px;\n",
              "      padding: 0 0 0 0;\n",
              "      width: 32px;\n",
              "    }\n",
              "\n",
              "    .colab-df-convert:hover {\n",
              "      background-color: #E2EBFA;\n",
              "      box-shadow: 0px 1px 2px rgba(60, 64, 67, 0.3), 0px 1px 3px 1px rgba(60, 64, 67, 0.15);\n",
              "      fill: #174EA6;\n",
              "    }\n",
              "\n",
              "    [theme=dark] .colab-df-convert {\n",
              "      background-color: #3B4455;\n",
              "      fill: #D2E3FC;\n",
              "    }\n",
              "\n",
              "    [theme=dark] .colab-df-convert:hover {\n",
              "      background-color: #434B5C;\n",
              "      box-shadow: 0px 1px 3px 1px rgba(0, 0, 0, 0.15);\n",
              "      filter: drop-shadow(0px 1px 2px rgba(0, 0, 0, 0.3));\n",
              "      fill: #FFFFFF;\n",
              "    }\n",
              "  </style>\n",
              "\n",
              "      <script>\n",
              "        const buttonEl =\n",
              "          document.querySelector('#df-61ca4231-41ad-49e3-973b-1c617b962ce2 button.colab-df-convert');\n",
              "        buttonEl.style.display =\n",
              "          google.colab.kernel.accessAllowed ? 'block' : 'none';\n",
              "\n",
              "        async function convertToInteractive(key) {\n",
              "          const element = document.querySelector('#df-61ca4231-41ad-49e3-973b-1c617b962ce2');\n",
              "          const dataTable =\n",
              "            await google.colab.kernel.invokeFunction('convertToInteractive',\n",
              "                                                     [key], {});\n",
              "          if (!dataTable) return;\n",
              "\n",
              "          const docLinkHtml = 'Like what you see? Visit the ' +\n",
              "            '<a target=\"_blank\" href=https://colab.research.google.com/notebooks/data_table.ipynb>data table notebook</a>'\n",
              "            + ' to learn more about interactive tables.';\n",
              "          element.innerHTML = '';\n",
              "          dataTable['output_type'] = 'display_data';\n",
              "          await google.colab.output.renderOutput(dataTable, element);\n",
              "          const docLink = document.createElement('div');\n",
              "          docLink.innerHTML = docLinkHtml;\n",
              "          element.appendChild(docLink);\n",
              "        }\n",
              "      </script>\n",
              "    </div>\n",
              "  </div>\n",
              "  "
            ]
          },
          "metadata": {},
          "execution_count": 68
        }
      ]
    },
    {
      "cell_type": "code",
      "source": [
        "df.loc[0]"
      ],
      "metadata": {
        "colab": {
          "base_uri": "https://localhost:8080/"
        },
        "id": "4mltJC2oRwzG",
        "outputId": "1806e08c-5c32-4e78-973c-4e443e37e88d"
      },
      "id": "4mltJC2oRwzG",
      "execution_count": 69,
      "outputs": [
        {
          "output_type": "execute_result",
          "data": {
            "text/plain": [
              "carat       0.23\n",
              "cut        Ideal\n",
              "color          E\n",
              "clarity      SI2\n",
              "depth       61.5\n",
              "table       55.0\n",
              "price        326\n",
              "x           3.95\n",
              "y           3.98\n",
              "z           2.43\n",
              "Name: 0, dtype: object"
            ]
          },
          "metadata": {},
          "execution_count": 69
        }
      ]
    },
    {
      "cell_type": "code",
      "source": [
        "first_row_type = type(df.loc[0])   # use the built-in type(xyz) function\n",
        "print(first_row_type)"
      ],
      "metadata": {
        "colab": {
          "base_uri": "https://localhost:8080/"
        },
        "id": "q4o1UWfkR8kV",
        "outputId": "8c9ff428-9315-4784-f924-0311595c4278"
      },
      "id": "q4o1UWfkR8kV",
      "execution_count": 73,
      "outputs": [
        {
          "output_type": "stream",
          "name": "stdout",
          "text": [
            "<class 'pandas.core.series.Series'>\n"
          ]
        }
      ]
    },
    {
      "cell_type": "markdown",
      "id": "e2f74e3a",
      "metadata": {
        "deletable": false,
        "editable": false,
        "nbgrader": {
          "cell_type": "markdown",
          "checksum": "ae09cb38b4b969d9fc1740cf59808980",
          "grade": false,
          "grade_id": "cell-445cad8112655942",
          "locked": true,
          "schema_version": 3,
          "solution": false,
          "task": false
        },
        "id": "e2f74e3a"
      },
      "source": [
        "**Task 8 Test**"
      ]
    },
    {
      "cell_type": "code",
      "execution_count": 114,
      "id": "259d7f18",
      "metadata": {
        "deletable": false,
        "editable": false,
        "nbgrader": {
          "cell_type": "code",
          "checksum": "eda7d5cc0eba1068ff042f14350a27df",
          "grade": true,
          "grade_id": "cell-39cc971493c3004e",
          "locked": true,
          "points": 1,
          "schema_version": 3,
          "solution": false,
          "task": false
        },
        "id": "259d7f18"
      },
      "outputs": [],
      "source": [
        "#Task 8 Test\n",
        "\n",
        "assert isinstance(df, pd.DataFrame), \"Did you import the pandas library? Did you check the datatype of the df object?\"\n",
        "\n",
        "# Hidden tests - you will see the results when you submit to Canvas"
      ]
    },
    {
      "cell_type": "markdown",
      "source": [
        " A class is a blueprint or a template that defines the structure and behavior, while an object is a specific instance created based on the class definition, with its own unique attributes and ability to perform methods defined within the class. The row of data is an object within the series class."
      ],
      "metadata": {
        "id": "jyuEPxYmTX5h"
      },
      "id": "jyuEPxYmTX5h"
    },
    {
      "cell_type": "code",
      "source": [],
      "metadata": {
        "id": "54CQNqmOTYoI"
      },
      "id": "54CQNqmOTYoI",
      "execution_count": null,
      "outputs": []
    }
  ],
  "metadata": {
    "kernelspec": {
      "display_name": "Python 3",
      "language": "python",
      "name": "python3"
    },
    "language_info": {
      "codemirror_mode": {
        "name": "ipython",
        "version": 3
      },
      "file_extension": ".py",
      "mimetype": "text/x-python",
      "name": "python",
      "nbconvert_exporter": "python",
      "pygments_lexer": "ipython3",
      "version": "3.8.8"
    },
    "colab": {
      "provenance": [],
      "include_colab_link": true
    }
  },
  "nbformat": 4,
  "nbformat_minor": 5
}