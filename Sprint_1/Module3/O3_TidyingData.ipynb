{
  "nbformat": 4,
  "nbformat_minor": 0,
  "metadata": {
    "colab": {
      "provenance": [],
      "authorship_tag": "ABX9TyPLKk51Xm5Pv5URPgg+unPF",
      "include_colab_link": true
    },
    "kernelspec": {
      "name": "python3",
      "display_name": "Python 3"
    },
    "language_info": {
      "name": "python"
    }
  },
  "cells": [
    {
      "cell_type": "markdown",
      "metadata": {
        "id": "view-in-github",
        "colab_type": "text"
      },
      "source": [
        "<a href=\"https://colab.research.google.com/github/tsangrebecca/BloomTech/blob/main/Sprint_1/Module3/O3_TidyingData.ipynb\" target=\"_parent\"><img src=\"https://colab.research.google.com/assets/colab-badge.svg\" alt=\"Open In Colab\"/></a>"
      ]
    },
    {
      "cell_type": "code",
      "execution_count": null,
      "metadata": {
        "id": "LTPdW0j7ZVMh"
      },
      "outputs": [],
      "source": []
    },
    {
      "cell_type": "markdown",
      "source": [
        "Tidy data and the columns and rows:"
      ],
      "metadata": {
        "id": "Mr0_mRPeaYJg"
      }
    },
    {
      "cell_type": "markdown",
      "source": [
        "Each variable is a column\n",
        "Each observation forms a row\n",
        "\n",
        "\n"
      ],
      "metadata": {
        "id": "Nvxscwa9a4BS"
      }
    },
    {
      "cell_type": "code",
      "source": [],
      "metadata": {
        "id": "wVr47_suavZT"
      },
      "execution_count": null,
      "outputs": []
    }
  ]
}