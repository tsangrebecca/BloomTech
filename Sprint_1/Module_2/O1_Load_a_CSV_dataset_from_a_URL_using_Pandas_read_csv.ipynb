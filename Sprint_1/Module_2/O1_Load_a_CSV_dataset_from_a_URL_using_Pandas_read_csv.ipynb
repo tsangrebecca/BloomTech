{
  "nbformat": 4,
  "nbformat_minor": 0,
  "metadata": {
    "colab": {
      "provenance": [],
      "authorship_tag": "ABX9TyMdgzF02vv9+aiwUZTXmZ26",
      "include_colab_link": true
    },
    "kernelspec": {
      "name": "python3",
      "display_name": "Python 3"
    },
    "language_info": {
      "name": "python"
    }
  },
  "cells": [
    {
      "cell_type": "markdown",
      "metadata": {
        "id": "view-in-github",
        "colab_type": "text"
      },
      "source": [
        "<a href=\"https://colab.research.google.com/github/tsangrebecca/BloomTech/blob/main/Sprint_1/Module_2/O1_Load_a_CSV_dataset_from_a_URL_using_Pandas_read_csv.ipynb\" target=\"_parent\"><img src=\"https://colab.research.google.com/assets/colab-badge.svg\" alt=\"Open In Colab\"/></a>"
      ]
    },
    {
      "cell_type": "code",
      "execution_count": null,
      "metadata": {
        "id": "i_A3xBXdaFlC"
      },
      "outputs": [],
      "source": [
        "import pandas as pd\n",
        "\n",
        "url = \"https://archive.ics.uci.edu/ml/machine-learning-databases/tic-tac-toe/tic-tac-toe.data\"\n",
        "\n",
        "df = pd.read_csv(url)\n",
        "\n",
        "df.head()"
      ]
    },
    {
      "cell_type": "code",
      "source": [
        "# display just index numbers for columns\n",
        "df = pd.read_csv(url, header=None)\n",
        "df"
      ],
      "metadata": {
        "id": "NWHKdeYrf-QL"
      },
      "execution_count": null,
      "outputs": []
    },
    {
      "cell_type": "code",
      "source": [
        "# display first row as column names\n",
        "df = pd.read_csv(url, header=1)\n",
        "df"
      ],
      "metadata": {
        "id": "9GuTyVHtgCHU"
      },
      "execution_count": null,
      "outputs": []
    },
    {
      "cell_type": "code",
      "source": [
        "mycols = ['top-left-square', 'top-middle-square', 'top-right-square', 'middle-left-square', 'middle-middle-square', 'middle-right-square', 'bottom-left-square', 'bottom-middle-square', 'bottom-right-square', 'Class']"
      ],
      "metadata": {
        "id": "2P6E_GAIewJi"
      },
      "execution_count": null,
      "outputs": []
    },
    {
      "cell_type": "code",
      "source": [
        "# after creating column names using mycols, type names=mycols to create customized column names!\n",
        "df = pd.read_csv(url, names=mycols)\n",
        "df"
      ],
      "metadata": {
        "id": "bgvyhtuLgJSh"
      },
      "execution_count": null,
      "outputs": []
    },
    {
      "cell_type": "code",
      "source": [],
      "metadata": {
        "id": "YPq6Ov_jgZVR"
      },
      "execution_count": null,
      "outputs": []
    }
  ]
}