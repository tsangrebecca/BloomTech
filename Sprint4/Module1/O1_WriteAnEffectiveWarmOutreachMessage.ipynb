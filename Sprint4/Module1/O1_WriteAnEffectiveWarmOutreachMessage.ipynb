{
  "nbformat": 4,
  "nbformat_minor": 0,
  "metadata": {
    "colab": {
      "provenance": [],
      "authorship_tag": "ABX9TyOcsDOpVZScJCAHK+x+AmJq",
      "include_colab_link": true
    },
    "kernelspec": {
      "name": "python3",
      "display_name": "Python 3"
    },
    "language_info": {
      "name": "python"
    }
  },
  "cells": [
    {
      "cell_type": "markdown",
      "metadata": {
        "id": "view-in-github",
        "colab_type": "text"
      },
      "source": [
        "<a href=\"https://colab.research.google.com/github/tsangrebecca/BloomTech/blob/main/Sprint4/Module1/O1_WriteAnEffectiveWarmOutreachMessage.ipynb\" target=\"_parent\"><img src=\"https://colab.research.google.com/assets/colab-badge.svg\" alt=\"Open In Colab\"/></a>"
      ]
    },
    {
      "cell_type": "markdown",
      "source": [
        "1. Personalize\n",
        "\n",
        "\n",
        "*   personalized tone, ask something already know?\n",
        "\n",
        "\n",
        "2. Keep it short and focused\n",
        "\n",
        "\n",
        "*   How are you doing as a manager? I'm getting ready to graduate from BloomTech and I want to get your advice, best tips and tricks to be successful\n",
        "\n",
        "\n",
        "3. Include a call to action\n",
        "\n",
        "\n",
        "*   Maybe set up a FaceTime\n",
        "\n",
        "\n",
        "\n"
      ],
      "metadata": {
        "id": "8z4Us_s5Vnb9"
      }
    },
    {
      "cell_type": "code",
      "source": [],
      "metadata": {
        "id": "cWj40tjuWTJA"
      },
      "execution_count": null,
      "outputs": []
    }
  ]
}