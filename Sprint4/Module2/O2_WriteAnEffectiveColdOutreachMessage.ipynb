{
  "nbformat": 4,
  "nbformat_minor": 0,
  "metadata": {
    "colab": {
      "provenance": [],
      "authorship_tag": "ABX9TyONxPQmE06OJ6biIhugqmwO",
      "include_colab_link": true
    },
    "kernelspec": {
      "name": "python3",
      "display_name": "Python 3"
    },
    "language_info": {
      "name": "python"
    }
  },
  "cells": [
    {
      "cell_type": "markdown",
      "metadata": {
        "id": "view-in-github",
        "colab_type": "text"
      },
      "source": [
        "<a href=\"https://colab.research.google.com/github/tsangrebecca/BloomTech/blob/main/Sprint4/Module2/O2_WriteAnEffectiveColdOutreachMessage.ipynb\" target=\"_parent\"><img src=\"https://colab.research.google.com/assets/colab-badge.svg\" alt=\"Open In Colab\"/></a>"
      ]
    },
    {
      "cell_type": "markdown",
      "source": [
        "\n",
        "\n",
        "1.   Be proactive\n",
        "\n",
        "\n",
        "*   Someone I don't know, better to send an email thank a LinkedIn message\n",
        "* get personalized and mention their achievements and what company they work for\n",
        "\n",
        "\n",
        "2.   Show initiative\n",
        "\n",
        "\n",
        "*   tell them what skills you have\n",
        "\n",
        "\n",
        "3. Put your best foot forward\n",
        "\n"
      ],
      "metadata": {
        "id": "b3s_qcKaXxed"
      }
    },
    {
      "cell_type": "code",
      "source": [],
      "metadata": {
        "id": "Ku2t-XeXYStP"
      },
      "execution_count": null,
      "outputs": []
    }
  ]
}