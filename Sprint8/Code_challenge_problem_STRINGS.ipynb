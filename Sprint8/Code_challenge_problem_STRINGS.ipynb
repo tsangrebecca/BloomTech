{
  "nbformat": 4,
  "nbformat_minor": 0,
  "metadata": {
    "colab": {
      "provenance": [],
      "authorship_tag": "ABX9TyOLDCkNZo+3CJX6ZmBLinQl",
      "include_colab_link": true
    },
    "kernelspec": {
      "name": "python3",
      "display_name": "Python 3"
    },
    "language_info": {
      "name": "python"
    }
  },
  "cells": [
    {
      "cell_type": "markdown",
      "metadata": {
        "id": "view-in-github",
        "colab_type": "text"
      },
      "source": [
        "<a href=\"https://colab.research.google.com/github/tsangrebecca/BloomTech/blob/main/Sprint8/Code_challenge_problem_STRINGS.ipynb\" target=\"_parent\"><img src=\"https://colab.research.google.com/assets/colab-badge.svg\" alt=\"Open In Colab\"/></a>"
      ]
    },
    {
      "cell_type": "markdown",
      "source": [
        "Construct a string of p copies of n \"A\"s and m \"B\"s.\n",
        "Except if the copy number p is evenly divisible by 3, in which ase insert a string p \"X\"s instead. Copy numbers begin with 0 for the first copy.\n",
        "- input: p = 3, n = 1, m = 1\n",
        "- output: \"XXXABAB\" (would be \"ABABAB\", but the one in the 0th place is evenly divisible by 3 so replaced by a string of Xs)\n",
        "- input: p = 5, n = 1, m = 0\n",
        "- output: \"XXXXXAAXXXXXA\""
      ],
      "metadata": {
        "id": "4msdW6MIkKWJ"
      }
    },
    {
      "cell_type": "code",
      "source": [],
      "metadata": {
        "id": "N9ogYMxxuaDu"
      },
      "execution_count": 10,
      "outputs": []
    },
    {
      "cell_type": "code",
      "source": [
        "# DRAFT A PLAN!\n",
        "# Need a string of n \"A\"s\n",
        "# Need a string of m \"B\"s\n",
        "# Need a string of p \"X\"s\n",
        "# Put those together into the AB string\n",
        "# Need to make p copies of the AB string\n",
        "# Except if the copy number p % 3 == 0 (divisible by 3), then put in the X string instead\n",
        "\n",
        "# any time we copy and paste code, we can do some simplifying, perhaps write a function to do the same thing for generating strings of A, B and X\n",
        "def make_str(x, s):\n",
        "  result = \"\"\n",
        "  for _ in range(x):    # we need x times s, so we write a for loop with range(x), use _ if we just want to loop and not care about the index\n",
        "    result += s\n",
        "  return result\n",
        "\n",
        "def cs_str_p_ab_cond(p, n, m):\n",
        "  # return make_str(10, \"L\")   # short circuit the rest of the code just to test our make_str function\n",
        "\n",
        "  a_str = make_str(n, \"A\")\n",
        "  b_str = make_str(m, \"B\")\n",
        "  x_str = make_str(p, \"X\")\n",
        "\n",
        "  # a_str = \"\"\n",
        "  # b_str = \"\"\n",
        "  # x_str = \"\"\n",
        "\n",
        "  # for i in range(n):    # we need n times A, so we write a for loop with range(n)\n",
        "  #   a_str += \"A\"        # build the string of As n times\n",
        "  # for i in range(m):    # we need m times B, so we write a for loop with range(m)\n",
        "  #   b_str += \"B\"        # build the string of Bs m times\n",
        "  # for i in range(p):    # we need p times X, so we write a for loop with range(p)\n",
        "  #   x_str += \"X\"        # build the string of Xs p times\n",
        "\n",
        "  ab_str = a_str + b_str # put those together into AB string\n",
        "\n",
        "  result = \"\"   # the final result will be stored here\n",
        "\n",
        "  for i in range(p):    # we need p times AB, so we write a for loop with range(p)\n",
        "    if i % 3 == 0:      # BUT if the copy number p is divisible by 3, or for every iteration number in the 0th, 3th, 6th, 9th... position, we will have Xs\n",
        "      result += x_str\n",
        "    else:\n",
        "      result += ab_str    # build the string of ABs p times\n",
        "\n",
        "  return result"
      ],
      "metadata": {
        "id": "Upp-XamYlhej"
      },
      "execution_count": 14,
      "outputs": []
    },
    {
      "cell_type": "markdown",
      "source": [
        "TESTS:"
      ],
      "metadata": {
        "id": "exF-OsKPuXGT"
      }
    },
    {
      "cell_type": "code",
      "source": [
        "cs_str_p_ab_cond(3,1,1) # short-circuit test for the make_str function"
      ],
      "metadata": {
        "colab": {
          "base_uri": "https://localhost:8080/",
          "height": 36
        },
        "id": "xXC4Lw-1vpuX",
        "outputId": "c6d9eed2-a0b7-4dd3-ca0d-c44572a4eba2"
      },
      "execution_count": 13,
      "outputs": [
        {
          "output_type": "execute_result",
          "data": {
            "text/plain": [
              "'LLLLLLLLLL'"
            ],
            "application/vnd.google.colaboratory.intrinsic+json": {
              "type": "string"
            }
          },
          "metadata": {},
          "execution_count": 13
        }
      ]
    },
    {
      "cell_type": "code",
      "source": [
        "cs_str_p_ab_cond(3,1,1)"
      ],
      "metadata": {
        "colab": {
          "base_uri": "https://localhost:8080/",
          "height": 36
        },
        "id": "gQPc_x52oGNc",
        "outputId": "dbfd870e-742e-46d9-bd6f-65313976e28d"
      },
      "execution_count": 15,
      "outputs": [
        {
          "output_type": "execute_result",
          "data": {
            "text/plain": [
              "'XXXABAB'"
            ],
            "application/vnd.google.colaboratory.intrinsic+json": {
              "type": "string"
            }
          },
          "metadata": {},
          "execution_count": 15
        }
      ]
    },
    {
      "cell_type": "code",
      "source": [
        "cs_str_p_ab_cond(8,3,5)"
      ],
      "metadata": {
        "colab": {
          "base_uri": "https://localhost:8080/",
          "height": 36
        },
        "id": "hmY9dlT_oN5H",
        "outputId": "3b2ecd37-167f-4024-83b4-cf82c9cb0c4f"
      },
      "execution_count": 8,
      "outputs": [
        {
          "output_type": "execute_result",
          "data": {
            "text/plain": [
              "'XXXXXXXXAAABBBBBAAABBBBBXXXXXXXXAAABBBBBAAABBBBBXXXXXXXXAAABBBBB'"
            ],
            "application/vnd.google.colaboratory.intrinsic+json": {
              "type": "string"
            }
          },
          "metadata": {},
          "execution_count": 8
        }
      ]
    },
    {
      "cell_type": "code",
      "source": [
        "cs_str_p_ab_cond(5,1,0)"
      ],
      "metadata": {
        "colab": {
          "base_uri": "https://localhost:8080/",
          "height": 36
        },
        "id": "iPdByjotq119",
        "outputId": "bb7efe09-7514-4446-ac8f-bfaee7141c3d"
      },
      "execution_count": 9,
      "outputs": [
        {
          "output_type": "execute_result",
          "data": {
            "text/plain": [
              "'XXXXXAAXXXXXA'"
            ],
            "application/vnd.google.colaboratory.intrinsic+json": {
              "type": "string"
            }
          },
          "metadata": {},
          "execution_count": 9
        }
      ]
    },
    {
      "cell_type": "code",
      "source": [],
      "metadata": {
        "id": "r2pFhBvwq7mA"
      },
      "execution_count": null,
      "outputs": []
    }
  ]
}