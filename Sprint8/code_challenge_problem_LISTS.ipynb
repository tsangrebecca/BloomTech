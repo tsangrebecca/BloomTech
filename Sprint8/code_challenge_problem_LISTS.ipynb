{
  "nbformat": 4,
  "nbformat_minor": 0,
  "metadata": {
    "colab": {
      "provenance": [],
      "authorship_tag": "ABX9TyNuUq+WN+02Wgov12rRIhsZ",
      "include_colab_link": true
    },
    "kernelspec": {
      "name": "python3",
      "display_name": "Python 3"
    },
    "language_info": {
      "name": "python"
    }
  },
  "cells": [
    {
      "cell_type": "markdown",
      "metadata": {
        "id": "view-in-github",
        "colab_type": "text"
      },
      "source": [
        "<a href=\"https://colab.research.google.com/github/tsangrebecca/BloomTech/blob/main/Sprint8/code_challenge_problem_LISTS.ipynb\" target=\"_parent\"><img src=\"https://colab.research.google.com/assets/colab-badge.svg\" alt=\"Open In Colab\"/></a>"
      ]
    },
    {
      "cell_type": "markdown",
      "source": [
        "Give an array and a value x, return an array with all the elements of the original EXCEPT those with value x.\n",
        "\n",
        "- input: a = [1, 7, 2, 10, 7], x = 7\n",
        "- output: [1, 2, 10]"
      ],
      "metadata": {
        "id": "n3d3-lbhx5zS"
      }
    },
    {
      "cell_type": "markdown",
      "source": [
        "**DO NOT DROP SOMETHING FROM THE LIST WHILE ITERATING OVER IT, IT WILL CAUSE THE PROGRAM TO CRASH.**\n",
        "- we need to build a new list that includes values we wanna keep by appending (building) with the values we want"
      ],
      "metadata": {
        "id": "kVIgpQZnyVwq"
      }
    },
    {
      "cell_type": "code",
      "source": [
        "def solution(a, x):\n",
        "  new_list = []\n",
        "  for i in range(len(a)):\n",
        "    if a[i] != x:\n",
        "      new_list.append(a[i])\n",
        "  return new_list"
      ],
      "metadata": {
        "id": "nUG7v1QHyMun"
      },
      "execution_count": 2,
      "outputs": []
    },
    {
      "cell_type": "code",
      "source": [
        "# test\n",
        "solution([1,7,2,10,7], 7)"
      ],
      "metadata": {
        "colab": {
          "base_uri": "https://localhost:8080/"
        },
        "id": "BOqevB-m8ZXe",
        "outputId": "ec93c2df-8c4d-4947-d677-c5bebf9736d1"
      },
      "execution_count": 3,
      "outputs": [
        {
          "output_type": "execute_result",
          "data": {
            "text/plain": [
              "[1, 2, 10]"
            ]
          },
          "metadata": {},
          "execution_count": 3
        }
      ]
    },
    {
      "cell_type": "code",
      "source": [],
      "metadata": {
        "id": "PKwHTKO08fQr"
      },
      "execution_count": null,
      "outputs": []
    }
  ]
}