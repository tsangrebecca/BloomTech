{
  "nbformat": 4,
  "nbformat_minor": 0,
  "metadata": {
    "colab": {
      "provenance": [],
      "authorship_tag": "ABX9TyO7igb3wSc7SRqYbF7XNa/i",
      "include_colab_link": true
    },
    "kernelspec": {
      "name": "python3",
      "display_name": "Python 3"
    },
    "language_info": {
      "name": "python"
    }
  },
  "cells": [
    {
      "cell_type": "markdown",
      "metadata": {
        "id": "view-in-github",
        "colab_type": "text"
      },
      "source": [
        "<a href=\"https://colab.research.google.com/github/tsangrebecca/BloomTech/blob/main/S9M2assignment_part2.ipynb\" target=\"_parent\"><img src=\"https://colab.research.google.com/assets/colab-badge.svg\" alt=\"Open In Colab\"/></a>"
      ]
    },
    {
      "cell_type": "code",
      "execution_count": null,
      "metadata": {
        "id": "4qAmBSelNdVy"
      },
      "outputs": [],
      "source": [
        "### IN style_example.py FILE###\n",
        "'''\n",
        "module docstring\n",
        "'''\n",
        "#what would you say if you were working with someone and this is the code they gave you?\n",
        "\n",
        "import math\n",
        "import sys\n",
        "\n",
        "    def example_1():\n",
        "        '''function docstring'''\n",
        "        # THIS IS A LONG COMMENT AND should be wrapped to fit\n",
        "        #     within a 72 character limit\n",
        "        some_tuple = (1, 2, 3, 'a')\n",
        "        some_variable = {\n",
        "                        \"long\": '''LONG CODE LINES should be wrapped within\n",
        "                                79 character to prevent page cutoff stuff''',\n",
        "                        \"other\": [math.pi, 100, 200, 300, 9999292929292,\n",
        "                                \"This IS a long string that looks gross and goes beyond what it should\"],\n",
        "                        \"more\": {\n",
        "                            \"inner\": \"THIS whole logical line should be wrapped\"\n",
        "                            },\n",
        "                        \"data\": [444, 5555, 222, 3, 3, 4, 4, 5, 5, 5, 5, 5, 5, 5]\n",
        "                        }\n",
        "        return (some_tuple, some_variable)\n",
        "\n",
        "    def example_2():\n",
        "        '''function docstring'''\n",
        "        return {\"has_key() is deprecated\": True}\n",
        "\n",
        "\n",
        "class Example3(object):\n",
        "    '''class and method docstring'''\n",
        "    def __init__(self, number):   # no bar, no foo\n",
        "        self.number = number\n",
        "\n",
        "\n",
        "    def my_method(self):\n",
        "    '''function docstring'''\n",
        "        if self.number:\n",
        "            self.number += 1\n",
        "            self.number = self.number * self.number\n",
        "            return self.number\n",
        "\n",
        "        some_string = \"\"\"INDENTATION IN MULTIPLE STRINGS SHOULD NOT BE TOUCHED\n",
        "        only actual code should be reindented, THIS IS MORE CODE\"\"\"\n",
        "        return (sys.path, some_string)\n",
        "\n",
        "    def my_method2(self):\n",
        "    '''function docstring'''\n",
        "        return self.number * 10\n",
        ""
      ]
    }
  ]
}