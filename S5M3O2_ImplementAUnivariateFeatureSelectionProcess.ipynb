{
  "nbformat": 4,
  "nbformat_minor": 0,
  "metadata": {
    "colab": {
      "provenance": [],
      "authorship_tag": "ABX9TyOKwI9uYJw8E+ITbQo7OCnp",
      "include_colab_link": true
    },
    "kernelspec": {
      "name": "python3",
      "display_name": "Python 3"
    },
    "language_info": {
      "name": "python"
    }
  },
  "cells": [
    {
      "cell_type": "markdown",
      "metadata": {
        "id": "view-in-github",
        "colab_type": "text"
      },
      "source": [
        "<a href=\"https://colab.research.google.com/github/tsangrebecca/BloomTech/blob/main/S5M3O2_ImplementAUnivariateFeatureSelectionProcess.ipynb\" target=\"_parent\"><img src=\"https://colab.research.google.com/assets/colab-badge.svg\" alt=\"Open In Colab\"/></a>"
      ]
    },
    {
      "cell_type": "code",
      "execution_count": 1,
      "metadata": {
        "id": "zjpNGNZRFXwd"
      },
      "outputs": [],
      "source": [
        "# Import pandas and seaborn\n",
        "import pandas as pd\n",
        "import numpy as np\n",
        "import seaborn as sns\n",
        "\n",
        "# Load the data into a DataFrame\n",
        "penguins = sns.load_dataset(\"penguins\")\n",
        "\n",
        "# Drop NaNs\n",
        "penguins.dropna(inplace=True)\n",
        "\n",
        "# Create the features matrix\n",
        "features = ['bill_length_mm', 'bill_depth_mm', 'flipper_length_mm']\n",
        "X = penguins[features]\n",
        "\n",
        "# Create the target array\n",
        "y = penguins['body_mass_g']\n",
        "\n",
        "# Import the train_test_split utility\n",
        "from sklearn.model_selection import train_test_split\n",
        "\n",
        "# Create the training and test sets\n",
        "X_train, X_test, y_train, y_test = train_test_split(\n",
        "    X, y, test_size=0.2, random_state=42)"
      ]
    },
    {
      "cell_type": "code",
      "source": [
        "# Import the feature selector utility\n",
        "from sklearn.feature_selection import SelectKBest, f_regression\n",
        "\n",
        "# Create the selector object with the best k=1 features\n",
        "selector = SelectKBest(score_func=f_regression, k=1)\n",
        "\n",
        "# Run the selector on the training data\n",
        "X_train_selected = selector.fit_transform(X_train, y_train)\n",
        "\n",
        "# Find the features that was selected\n",
        "selected_mask = selector.get_support()\n",
        "all_features = X_train.columns\n",
        "selected_feature = all_features[selected_mask]\n",
        "\n",
        "print('The selected feature: ', selected_feature[0])"
      ],
      "metadata": {
        "colab": {
          "base_uri": "https://localhost:8080/"
        },
        "id": "gxIHmmf8GAvL",
        "outputId": "718c626d-ae86-4b5f-efd5-a63b2f94f99f"
      },
      "execution_count": 2,
      "outputs": [
        {
          "output_type": "stream",
          "name": "stdout",
          "text": [
            "The selected feature:  flipper_length_mm\n"
          ]
        }
      ]
    }
  ]
}